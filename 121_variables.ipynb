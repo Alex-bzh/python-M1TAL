{
 "cells": [
  {
   "cell_type": "markdown",
   "metadata": {},
   "source": [
    "# Les variables"
   ]
  },
  {
   "cell_type": "markdown",
   "metadata": {},
   "source": [
    "## Dénomination des variables"
   ]
  },
  {
   "cell_type": "markdown",
   "metadata": {},
   "source": [
    "Vous avez la possibilité de définir vous-même le nom des variables que vous utilisez. Quelques règles simples à retenir :\n",
    "- Employez des noms significatifs (`us54dvi` vs `age`)\n",
    "- Les variables sont sensibles à la casse (`monAge` et `MonAge` sont deux variables différentes)\n",
    "- Tout caractère alphanumérique est autorisé, en plus du tiret bas, à l'exception des situations suivantes :\n",
    "    - Un nom de variable ne peut commencer par un chiffre (`91DeptEssonne` est interdit)\n",
    "    - Le tiret bas comme premier caractère n'est pas préconisé\n",
    "    - Interdiction de débuter une variable par un double tiret bas"
   ]
  },
  {
   "cell_type": "markdown",
   "metadata": {},
   "source": [
    "Essayez à présent de deviner le comportement des cellules suivantes, et expliquez, avant de les évaluer :"
   ]
  },
  {
   "cell_type": "code",
   "execution_count": null,
   "metadata": {
    "collapsed": false
   },
   "outputs": [],
   "source": [
    "monPersonnagePréféré = 'Sheldon'"
   ]
  },
  {
   "cell_type": "code",
   "execution_count": null,
   "metadata": {
    "collapsed": true
   },
   "outputs": [],
   "source": [
    "monPersonnagePrefere = 'Howard'"
   ]
  },
  {
   "cell_type": "code",
   "execution_count": null,
   "metadata": {
    "collapsed": true
   },
   "outputs": [],
   "source": [
    "MonPersonnagePrefere = 'Penny'"
   ]
  },
  {
   "cell_type": "code",
   "execution_count": null,
   "metadata": {
    "collapsed": true
   },
   "outputs": [],
   "source": [
    "_monPersonnagePrefere = 'Amy'"
   ]
  },
  {
   "cell_type": "code",
   "execution_count": null,
   "metadata": {
    "collapsed": false
   },
   "outputs": [],
   "source": [
    "print \"MonPersonnagePrefere\""
   ]
  },
  {
   "cell_type": "code",
   "execution_count": null,
   "metadata": {
    "collapsed": false
   },
   "outputs": [],
   "source": [
    "print maVariable"
   ]
  },
  {
   "cell_type": "code",
   "execution_count": null,
   "metadata": {
    "collapsed": false
   },
   "outputs": [],
   "source": [
    "Sheldon+Penny = \"Mes personnages préférés !\""
   ]
  },
  {
   "cell_type": "markdown",
   "metadata": {},
   "source": [
    "## Les types de variables"
   ]
  },
  {
   "cell_type": "markdown",
   "metadata": {},
   "source": [
    "### Le typage dynamique"
   ]
  },
  {
   "cell_type": "markdown",
   "metadata": {},
   "source": [
    "Les variables, en python, sont des objets, et les objets peuvent appartenir à l'un des types de base : chaîne de caractères, entier numérique, flottant…\n",
    "\n",
    "Le *duck typing* est une méthode qui autorise python à décider de quel type sera la variable que vous instanciez. Par exemple, si vous écrivez :\n",
    "\n",
    "```\n",
    "maVariable = '2'\n",
    "```\n",
    "\n",
    "Votre variable sera de type `str`. Les signes quotes indiquent au langage que vous lui fournissez du texte.\n",
    "\n",
    "Comme pour l'exercice précédent, essayez de deviner avant de les évaluer, le résultat des cellules ci-dessous :"
   ]
  },
  {
   "cell_type": "code",
   "execution_count": null,
   "metadata": {
    "collapsed": false
   },
   "outputs": [],
   "source": [
    "a = \"2\"\n",
    "b = 3\n",
    "print a + b"
   ]
  },
  {
   "cell_type": "code",
   "execution_count": null,
   "metadata": {
    "collapsed": false
   },
   "outputs": [],
   "source": [
    "c = 2\n",
    "d = 3\n",
    "e = c * b\n",
    "print e"
   ]
  },
  {
   "cell_type": "code",
   "execution_count": null,
   "metadata": {
    "collapsed": false
   },
   "outputs": [],
   "source": [
    "a = \"Knock\"\n",
    "b = \"Penny?\"\n",
    "c = \"! \"\n",
    "print (a + c) * 3 + b"
   ]
  },
  {
   "cell_type": "markdown",
   "metadata": {},
   "source": [
    "### Identifier le type d'une variable"
   ]
  },
  {
   "cell_type": "markdown",
   "metadata": {},
   "source": [
    "La fonction `type()` permet de connaître le type d'une variable."
   ]
  },
  {
   "cell_type": "code",
   "execution_count": null,
   "metadata": {
    "collapsed": false
   },
   "outputs": [],
   "source": [
    "print type(b)\n",
    "print type(c)\n",
    "print type(e)"
   ]
  },
  {
   "cell_type": "markdown",
   "metadata": {},
   "source": [
    "Pour interroger le type d'une variable, il est possible d'utiliser d'autres méthodes :"
   ]
  },
  {
   "cell_type": "code",
   "execution_count": null,
   "metadata": {
    "collapsed": false
   },
   "outputs": [],
   "source": [
    "type(a) == str"
   ]
  },
  {
   "cell_type": "markdown",
   "metadata": {},
   "source": [
    "Ou encore, mieux, avec la fonction native `isinstance`:"
   ]
  },
  {
   "cell_type": "code",
   "execution_count": null,
   "metadata": {
    "collapsed": false
   },
   "outputs": [],
   "source": [
    "isinstance(a, int)"
   ]
  },
  {
   "cell_type": "markdown",
   "metadata": {},
   "source": [
    "### Modifier le type d'une variable"
   ]
  },
  {
   "cell_type": "markdown",
   "metadata": {},
   "source": [
    "Pour modifier le type d'une variable, faites appel aux fonctions prédéfinies vues en cours. Par exemple :"
   ]
  },
  {
   "cell_type": "code",
   "execution_count": null,
   "metadata": {
    "collapsed": true
   },
   "outputs": [],
   "source": [
    "a = \"2\"\n",
    "b = 3\n",
    "print type(a)\n",
    "print type(b)\n",
    "print int(a) + b\n",
    "print a + str(b)"
   ]
  },
  {
   "cell_type": "markdown",
   "metadata": {},
   "source": [
    "## Comportement des variables"
   ]
  },
  {
   "cell_type": "markdown",
   "metadata": {},
   "source": [
    "L'un des comportements particulièrement commode des variables en python est qu'elles renvoient une information si elles sont vides ou non. Elles peuvent être vraies ou fausses. On dit qu'elles renvoient un booléen `True` ou `False`."
   ]
  },
  {
   "cell_type": "code",
   "execution_count": null,
   "metadata": {
    "collapsed": false
   },
   "outputs": [],
   "source": [
    "a = \"\"\n",
    "if a:\n",
    "    print \"a est vrai\"\n",
    "if not a:\n",
    "    print \"a est faux\""
   ]
  }
 ],
 "metadata": {
  "kernelspec": {
   "display_name": "Python 2",
   "language": "python",
   "name": "python2"
  },
  "language_info": {
   "codemirror_mode": {
    "name": "ipython",
    "version": 2
   },
   "file_extension": ".py",
   "mimetype": "text/x-python",
   "name": "python",
   "nbconvert_exporter": "python",
   "pygments_lexer": "ipython2",
   "version": "2.7.10"
  }
 },
 "nbformat": 4,
 "nbformat_minor": 0
}
