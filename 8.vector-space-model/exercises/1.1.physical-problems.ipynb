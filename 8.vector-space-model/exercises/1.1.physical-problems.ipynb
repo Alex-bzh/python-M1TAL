{
 "cells": [
  {
   "cell_type": "markdown",
   "id": "ce10d189-8393-4b5a-bc22-8517b7daa096",
   "metadata": {},
   "source": [
    "# Des problèmes physiques"
   ]
  },
  {
   "cell_type": "markdown",
   "id": "7b54a0f2-502e-4361-98cf-979207192762",
   "metadata": {},
   "source": [
    "## Une force agissante"
   ]
  },
  {
   "cell_type": "markdown",
   "id": "86d6c039-7986-4846-8eca-367b9708beaa",
   "metadata": {},
   "source": [
    "Un objet repose tranquillement sur la table de chevet à côté de votre lit. Durant la nuit, le voilà soumis à deux forces que l’on exprime en newtons (*N*) :\n",
    "\n",
    "$$\n",
    "\\vec{F_1} = \\begin{pmatrix}\n",
    "    3 \\\\\n",
    "    4\n",
    "\\end{pmatrix}, \\quad \\vec{F_2} = \\begin{pmatrix}\n",
    "    -2 \\\\\n",
    "    1\n",
    "\\end{pmatrix}\n",
    "$$\n",
    "\n",
    "**Questions :**\n",
    "\n",
    "1. Quelle est la résultante $F_r$ de ces deux forces ?\n",
    "2. Quelle est l’intensité de $F_r$ ?"
   ]
  },
  {
   "cell_type": "markdown",
   "id": "f7ba7ec7-0732-42d3-89fe-66e87b35cfe9",
   "metadata": {},
   "source": [
    "## Sans maîtrise, la puissance n’est rien"
   ]
  },
  {
   "cell_type": "markdown",
   "id": "511b30b3-1127-411b-8054-85d7bb665086",
   "metadata": {},
   "source": [
    "Un objet de 5 kg se déplace sous l’action d’une force constante $\\vec{F} = (3, −4, 2) \\, \\text{N}$ dans un repère tridimensionnel. La vitesse de l’objet est donné par $\\vec{v} = (1, 2, −3) \\, \\text{m/s}$.\n",
    "\n",
    "**Questions :**\n",
    "\n",
    "1. Quelle est en watts (*W*) la puissance mécanique *P* développée par $\\vec{F}$ à un instant donné sachant que $P = \\vec{F} \\cdot \\vec{v}$ ?\n",
    "2. Calculez l’angle entre la force et la direction du mouvement à l’aide de la similarité cosinus et sachant qu’un angle se calcule depuis le cosinus grâce à la fonction cosinus inverse : $\\theta = \\arccos(x)$."
   ]
  }
 ],
 "metadata": {
  "kernelspec": {
   "display_name": "Python 3 (ipykernel)",
   "language": "python",
   "name": "python3"
  },
  "language_info": {
   "codemirror_mode": {
    "name": "ipython",
    "version": 3
   },
   "file_extension": ".py",
   "mimetype": "text/x-python",
   "name": "python",
   "nbconvert_exporter": "python",
   "pygments_lexer": "ipython3",
   "version": "3.11.11"
  }
 },
 "nbformat": 4,
 "nbformat_minor": 5
}
