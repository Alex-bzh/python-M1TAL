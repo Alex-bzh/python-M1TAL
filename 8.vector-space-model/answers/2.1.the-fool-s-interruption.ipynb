{
 "cells": [
  {
   "cell_type": "markdown",
   "id": "32339c78-2129-4def-ac4d-10e34a9ddbbe",
   "metadata": {},
   "source": [
    "# Interruption du fou"
   ]
  },
  {
   "cell_type": "markdown",
   "id": "245cf680-5daf-4f39-a4ba-a0f77e0239cd",
   "metadata": {},
   "source": [
    "Dans cet exercice, vous serez amené·e à construire une matrice d’occurrences de trois extraits de l’œuvre de Nietzsche :\n",
    "\n",
    "> « Tous les hommes qui sentent qu’il leur faut les paroles et les intonations les plus violentes, les attitudes et les gestes les plus éloquents pour pouvoir agir, les politiciens révolutionnaires, les socialistes, les prédicateurs, avec ou sans christianisme, tous ceux qui veulent éviter les demi-succès : tous ceux-là parlent de *devoirs*, et toujours de devoirs qui ont un caractère absolu - autrement ils n’auraient point droit à leur pathos démesuré : ils le savent fort bien. » (*Le gai savoir*, I-5)\n",
    "\n",
    "> « Il faut connaître non seulement la marche hardie, légère, délicate et rapide de ses propres pensées, mais avant tout la disposition aux grandes responsabilités, la hauteur et la profondeur du regard impérieux, le sentiment d’être séparé de la foule, des devoirs et des vertus de la foule, la protection et la défense bienveillante de ce qui est mal compris et calomnié, que ce soit Dieu ou le diable ; le penchant et l’habileté à la suprême justice, l’art du commandement, l’ampleur de la volonté, la lenteur du regard qui rarement admire, rarement se lève, et aime rarement… » (*Par-delà le bien et le mal*, VI-213)\n",
    "\n",
    "> « Je vous le dis : il faut encore porter en soi un chaos, pour pouvoir mettre au monde une étoile dansante. Je vous le dis : vous portez encore un chaos en vous. » (*Ainsi parlait Zarathoustra*, I-5)"
   ]
  },
  {
   "cell_type": "markdown",
   "id": "1c8b724e-1aa2-48a0-80f1-c3415746bdbf",
   "metadata": {},
   "source": [
    "## Constituer un vocabulaire commun"
   ]
  },
  {
   "cell_type": "markdown",
   "id": "8eda88f1-ad7e-4c06-8b25-74aac9f35bc8",
   "metadata": {},
   "source": [
    "Commencez par charger le corpus en mémoire :"
   ]
  },
  {
   "cell_type": "code",
   "execution_count": null,
   "id": "7f6bab3d-ca06-45ab-a671-7e85943ffbb0",
   "metadata": {},
   "outputs": [],
   "source": [
    "corpus = [\n",
    "    \"Tous les hommes qui sentent qu’il leur faut les paroles et les intonations les plus violentes, les attitudes et les gestes les plus éloquents pour pouvoir agir, les politiciens révolutionnaires, les socialistes, les prédicateurs, avec ou sans christianisme, tous ceux qui veulent éviter les demi-succès : tous ceux-là parlent de devoirs, et toujours de devoirs qui ont un caractère absolu - autrement ils n’auraient point droit à leur pathos démesuré : ils le savent fort bien.\",\n",
    "    \"Il faut connaître non seulement la marche hardie, légère, délicate et rapide de ses propres pensées, mais avant tout la disposition aux grandes responsabilités, la hauteur et la profondeur du regard impérieux, le sentiment d’être séparé de la foule, des devoirs et des vertus de la foule, la protection et la défense bienveillante de ce qui est mal compris et calomnié, que ce soit Dieu ou le diable ; le penchant et l’habileté à la suprême justice, l’art du commandement, l’ampleur de la volonté, la lenteur du regard qui rarement admire, rarement se lève, et aime rarement…\",\n",
    "    \"Je vous le dis : il faut encore porter en soi un chaos, pour pouvoir mettre au monde une étoile dansante. Je vous le dis : vous portez encore un chaos en vous.\"\n",
    "]"
   ]
  },
  {
   "cell_type": "markdown",
   "id": "734d4cce-70ae-4bec-a545-2aea96045c2f",
   "metadata": {},
   "source": [
    "Convertissez, dans une variable `doc_tokens`, chaque document en une liste de mots transformés en bas de casse, en filtrant les mots vides du français :"
   ]
  },
  {
   "cell_type": "code",
   "execution_count": null,
   "id": "de462931-f00b-48c2-89d2-05d53ea913c6",
   "metadata": {},
   "outputs": [],
   "source": [
    "# your code here\n",
    "\n",
    "from nltk.tokenize import RegexpTokenizer\n",
    "from nltk.corpus import stopwords\n",
    "\n",
    "tokenizer = RegexpTokenizer('\\w+')\n",
    "\n",
    "doc_tokens = [\n",
    "    [\n",
    "        token.lower()\n",
    "        for token in tokenizer.tokenize(doc)\n",
    "        if token not in stopwords.words('french')\n",
    "    ]\n",
    "    for doc in corpus\n",
    "]"
   ]
  },
  {
   "cell_type": "markdown",
   "id": "d148529c-d8ac-4f1a-a04b-cab9600b7b72",
   "metadata": {},
   "source": [
    "Constituez à présent le vocabulaire de vos documents :"
   ]
  },
  {
   "cell_type": "code",
   "execution_count": null,
   "id": "657615a8-2387-4e72-b625-1ec652d7cd52",
   "metadata": {},
   "outputs": [],
   "source": [
    "# your code here\n",
    "\n",
    "vocabulary = [\n",
    "    token\n",
    "    for tokens in doc_tokens\n",
    "    for token in tokens\n",
    "]\n",
    "\n",
    "# at the end, an ordered list\n",
    "vocabulary = sorted(set(vocabulary))"
   ]
  },
  {
   "cell_type": "markdown",
   "id": "212a1ba5-1f1e-49e7-8032-cbdcb740c28c",
   "metadata": {},
   "source": [
    "## Construire une matrice d’occurrences"
   ]
  },
  {
   "cell_type": "markdown",
   "id": "31084773-91dd-4a9e-890f-7be0d595496f",
   "metadata": {},
   "source": [
    "### Établir un dictionnaire des fréquences"
   ]
  },
  {
   "cell_type": "markdown",
   "id": "6c51a0e7-4757-4297-aae8-4960e559d395",
   "metadata": {},
   "source": [
    "Avec la technique de votre choix, établissez un dictionnaire des fréquences de tokens pour chaque document dans une variable `doc_occurrences` :"
   ]
  },
  {
   "cell_type": "code",
   "execution_count": null,
   "id": "f97d2ffc-3eb6-4bb3-91bb-e94054dcff86",
   "metadata": {},
   "outputs": [],
   "source": [
    "# your code here\n",
    "\n",
    "from collections import Counter\n",
    "\n",
    "doc_occurrences = [\n",
    "    Counter(tokens)\n",
    "    for tokens in doc_tokens\n",
    "]"
   ]
  },
  {
   "cell_type": "markdown",
   "id": "2ad65c99-25e7-41ec-ab13-b512c07f108d",
   "metadata": {},
   "source": [
    "### Charger la matrice des occurrences"
   ]
  },
  {
   "cell_type": "markdown",
   "id": "6646aec0-b002-4608-a6f8-0d3cdb0415c2",
   "metadata": {},
   "source": [
    "À l’aide de *Numpy*, créez une matrice vide avant de la remplir avec les dictionnaires des fréquences des tokens :"
   ]
  },
  {
   "cell_type": "code",
   "execution_count": null,
   "id": "8a0a9e80-ce85-4d47-bbe9-d1180f3ec6e4",
   "metadata": {},
   "outputs": [],
   "source": [
    "# your code here\n",
    "\n",
    "import numpy as np\n",
    "\n",
    "# a null matrix\n",
    "matrix = np.zeros((len(doc_tokens), len(vocabulary)))\n",
    "\n",
    "# fill the matrix\n",
    "for i, occurrences in enumerate(doc_occurrences):\n",
    "    for j, word in enumerate(vocabulary):\n",
    "        matrix[i, j] = occurrences[word]"
   ]
  },
  {
   "cell_type": "markdown",
   "id": "278f6328-8bf7-4113-bb09-9d52867b1779",
   "metadata": {},
   "source": [
    "### Visualiser dans un *dataframe*"
   ]
  },
  {
   "cell_type": "markdown",
   "id": "65eaa1af-671d-4f33-9505-abf8751e378b",
   "metadata": {},
   "source": [
    "Reste à la visualiser :"
   ]
  },
  {
   "cell_type": "code",
   "execution_count": null,
   "id": "41257286-e906-49e0-a951-041084ca5d73",
   "metadata": {},
   "outputs": [],
   "source": [
    "# your code here\n",
    "\n",
    "import pandas as pd\n",
    "\n",
    "df = pd.DataFrame(matrix, columns=vocabulary)\n",
    "\n",
    "display(df)"
   ]
  }
 ],
 "metadata": {
  "kernelspec": {
   "display_name": "Python 3 (ipykernel)",
   "language": "python",
   "name": "python3"
  },
  "language_info": {
   "codemirror_mode": {
    "name": "ipython",
    "version": 3
   },
   "file_extension": ".py",
   "mimetype": "text/x-python",
   "name": "python",
   "nbconvert_exporter": "python",
   "pygments_lexer": "ipython3",
   "version": "3.11.10"
  }
 },
 "nbformat": 4,
 "nbformat_minor": 5
}
