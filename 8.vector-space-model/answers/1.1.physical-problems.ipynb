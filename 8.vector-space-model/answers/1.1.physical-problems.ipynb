{
 "cells": [
  {
   "cell_type": "markdown",
   "id": "ce10d189-8393-4b5a-bc22-8517b7daa096",
   "metadata": {},
   "source": [
    "# Des problèmes physiques"
   ]
  },
  {
   "cell_type": "markdown",
   "id": "7b54a0f2-502e-4361-98cf-979207192762",
   "metadata": {},
   "source": [
    "## Une force agissante"
   ]
  },
  {
   "cell_type": "markdown",
   "id": "86d6c039-7986-4846-8eca-367b9708beaa",
   "metadata": {},
   "source": [
    "Un objet repose tranquillement sur la table de chevet à côté de votre lit. Durant la nuit, le voilà soumis à deux forces que l’on exprime en newtons (*N*) :\n",
    "\n",
    "$$\n",
    "\\vec{F_1} = \\begin{pmatrix}\n",
    "    3 \\\\\n",
    "    4\n",
    "\\end{pmatrix}, \\quad \\vec{F_2} = \\begin{pmatrix}\n",
    "    -2 \\\\\n",
    "    1\n",
    "\\end{pmatrix}\n",
    "$$\n",
    "\n",
    "**Questions :**\n",
    "\n",
    "1. Quelle est la résultante $F_r$ de ces deux forces ?\n",
    "2. Quelle est l’intensité de $F_r$ ?"
   ]
  },
  {
   "cell_type": "markdown",
   "id": "a4a07e72-36e3-4ca1-b54a-33abc43f6ecb",
   "metadata": {},
   "source": [
    "**Réponses :**\n",
    "\n",
    "1. $F_r = (3 − 2, 4 + 1) = (1, 5)$\n",
    "2. Pour calculer l’effet de la combinaison des deux forces qui agissent sur l’objet, on calcule la norme de $F_r$. Soit : $\\| F_r \\| = \\sqrt{1^2 + 5^2} = \\sqrt{26} \\approx 5.1 \\, \\text{N}$"
   ]
  },
  {
   "cell_type": "markdown",
   "id": "f7ba7ec7-0732-42d3-89fe-66e87b35cfe9",
   "metadata": {},
   "source": [
    "## Sans maîtrise, la puissance n’est rien"
   ]
  },
  {
   "cell_type": "markdown",
   "id": "511b30b3-1127-411b-8054-85d7bb665086",
   "metadata": {},
   "source": [
    "Un objet de 5 kg se déplace sous l’action d’une force constante $\\vec{F} = (3, −4, 2) \\, \\text{N}$ dans un repère tridimensionnel. La vitesse de l’objet est donné par $\\vec{v} = (1, 2, −3) \\, \\text{m/s}$.\n",
    "\n",
    "**Questions :**\n",
    "\n",
    "1. Quelle est en watts (*W*) la puissance mécanique *P* développée par $\\vec{F}$ à un instant donné sachant que $P = \\vec{F} \\cdot \\vec{v}$ ?\n",
    "2. Calculez l’angle entre la force et la direction du mouvement à l’aide de la similarité cosinus et sachant qu’un angle se calcule depuis le cosinus grâce à la fonction cosinus inverse : $\\theta = \\arccos(x)$."
   ]
  },
  {
   "cell_type": "markdown",
   "id": "a2517113-9799-4889-a56f-46ee63508f2f",
   "metadata": {},
   "source": [
    "**Réponses :**\n",
    "\n",
    "Calculons d’abord la puissance mécanique afin de conclure que la force agit contre le mouvement de l’objet :\n",
    "\n",
    "$$\n",
    "\\begin{align*}\n",
    "    P &= \\begin{pmatrix}\n",
    "        3 \\\\\n",
    "        -4 \\\\\n",
    "        2\n",
    "    \\end{pmatrix} \\cdot \\begin{pmatrix}\n",
    "        1 \\\\\n",
    "        2 \\\\\n",
    "        -3\n",
    "    \\end{pmatrix} \\\\\n",
    "    &= (3 \\times 1) + (-4 \\times 2) + (2 \\times -3) \\\\\n",
    "    &= 3 - 8 - 6 \\\\\n",
    "    &= - 11 \\, \\text{W}\n",
    "\\end{align*}\n",
    "$$\n",
    "\n",
    "Passons ensuite à la similarité cosinus afin de déterminer dans quelle proportion la force contribue au déplacement de l’objet :\n",
    "\n",
    "$$\n",
    "\\begin{align*}\n",
    "\\vec{F} \\cdot \\vec{v} &= (3 \\times 1) + (-4 \\times 2) + (2 \\times -3) = 3 + (-8) + (-6) = - 11 \\\\\n",
    "\\|\\vec{F}\\| &= \\sqrt{3^2 + (-4)^2 + 2^2} = \\sqrt{9 + 16 + 4} = \\sqrt{29} \\\\\n",
    "\\|\\vec{v}\\| &= \\sqrt{1^2 + 2^2 + (-3)^2} = \\sqrt{1 + 4 + 9} = \\sqrt{14} \\\\\n",
    "\\cos \\theta &= \\frac{-11}{\\sqrt{29} \\times \\sqrt{14}} = \\frac{-11}{\\sqrt{406}} \\approx -0.5459\n",
    "\\end{align*}\n",
    "$$\n",
    "\n",
    "Appliquons la fonction cosinus inverse afin d’obtenir une mesure angulaire :\n",
    "\n",
    "$$\n",
    "\\theta = \\arccos(-0.5459) \\approx 2.1482 \\, \\text{rad}\n",
    "$$\n",
    "\n",
    "Après transformation en degrés :\n",
    "\n",
    "$$\n",
    "\\theta = 2.1482 \\times \\frac{180}{\\pi} \\approx 123.1^\\circ\n",
    "$$\n",
    "\n",
    "**Conclusions :**\n",
    "\n",
    "Le calcul de la puissance mécanique nous montre que la composante de $\\vec{F}$ projetée sur $\\vec{v}$ est négative (-11 W), nous révélant que la force exercée contribue à une diminution de l’énergie cinétique. L’angle obtus (> 90°) formé par la force et la vitesse nous confirme que l’objet est confronté à un frottement qui pourrait le ralentir et l’immobiliser."
   ]
  },
  {
   "cell_type": "markdown",
   "id": "77938568-b268-4e31-b380-e9c35f5c920d",
   "metadata": {},
   "source": [
    "## Changer de trajectoire"
   ]
  },
  {
   "cell_type": "markdown",
   "id": "9dec8794-7d42-4fb2-a93e-a2bf0128d84f",
   "metadata": {},
   "source": [
    "Un objet se déplace sur un plan selon deux trajectoires différentes. La première trajectoire est représentée par le vecteur position $\\vec{r_1}(t)$ et la deuxième par $\\vec{r_2}(t)$. À un instant *t*, les positions sont données par :\n",
    "\n",
    "$$\n",
    "\\vec{r_1}(t) = (3t,2t^2), \\quad \\vec{r_2}(t) = (2t,4t^2)\n",
    "$$\n",
    "\n",
    "**Questions :**\n",
    "\n",
    "1. Calculez la distance euclidienne entre les deux trajectoires pour *t* = 1.\n",
    "2. Calculez la distance de Manhattan entre les deux trajectoires pour *t* = 1.\n",
    "3. À $t = 1$, quelle trajectoire est la plus *éloignée* de l’autre en utilisant la distance euclidienne et Manhattan ? Justifiez votre réponse."
   ]
  },
  {
   "cell_type": "markdown",
   "id": "9bcd0bd8-0dfe-4ffc-abf0-fbf697257872",
   "metadata": {},
   "source": [
    "**Réponses :**\n",
    "\n",
    "1. $d(\\vec{r_1}(1), \\vec{r_2}(1)) = \\sqrt{(3 - 2)^2 + (2 - 4)^2} = \\sqrt{1 + 4} = \\sqrt{5}$\n",
    "2. $d(\\vec{r_1}(1), \\vec{r_2}(1)) = |3 - 2| + [2 - 4] = 1 + 2 = 3$\n",
    "3. La distance de Manhattan est plus grande que la distance euclidienne ($3 > \\sqrt{5}$), ce qui dans un cadre considérant uniquement les mouvements parallèles aux axes, nous indique un mouvement plus *saccadé*."
   ]
  }
 ],
 "metadata": {
  "kernelspec": {
   "display_name": "Python 3 (ipykernel)",
   "language": "python",
   "name": "python3"
  },
  "language_info": {
   "codemirror_mode": {
    "name": "ipython",
    "version": 3
   },
   "file_extension": ".py",
   "mimetype": "text/x-python",
   "name": "python",
   "nbconvert_exporter": "python",
   "pygments_lexer": "ipython3",
   "version": "3.11.11"
  }
 },
 "nbformat": 4,
 "nbformat_minor": 5
}
