{
 "cells": [
  {
   "cell_type": "markdown",
   "id": "94dbba80-8a04-496e-8c2d-6299059059ad",
   "metadata": {},
   "source": [
    "# Interruption du fou"
   ]
  },
  {
   "cell_type": "markdown",
   "id": "741639bf-a86e-4f5f-b750-db5234900fd1",
   "metadata": {},
   "source": [
    "La dernière fois que vous avez vu ces textes de Nietzsche, vous les avez quittés avec une matrice d’occurrences sans ne rien en faire de plus. Il est temps de la transformer en une matrice termes-documents pondérée par l’algorithme TF-IDF.\n",
    "\n",
    "Exécutez ci-dessous le code afin de créer une matrice des occurrences :"
   ]
  },
  {
   "cell_type": "code",
   "execution_count": null,
   "id": "bbbe48ed-a397-4eef-8b54-b44d7f24af55",
   "metadata": {},
   "outputs": [],
   "source": [
    "import numpy as np\n",
    "import pandas as pd\n",
    "from collections import Counter\n",
    "from nltk.corpus import stopwords\n",
    "from nltk.tokenize import RegexpTokenizer\n",
    "\n",
    "# a corpus of documents\n",
    "corpus = [\n",
    "    \"Tous les hommes qui sentent qu’il leur faut les paroles et les intonations les plus violentes, les attitudes et les gestes les plus éloquents pour pouvoir agir, les politiciens révolutionnaires, les socialistes, les prédicateurs, avec ou sans christianisme, tous ceux qui veulent éviter les demi-succès : tous ceux-là parlent de devoirs, et toujours de devoirs qui ont un caractère absolu - autrement ils n’auraient point droit à leur pathos démesuré : ils le savent fort bien.\",\n",
    "    \"Il faut connaître non seulement la marche hardie, légère, délicate et rapide de ses propres pensées, mais avant tout la disposition aux grandes responsabilités, la hauteur et la profondeur du regard impérieux, le sentiment d’être séparé de la foule, des devoirs et des vertus de la foule, la protection et la défense bienveillante de ce qui est mal compris et calomnié, que ce soit Dieu ou le diable ; le penchant et l’habileté à la suprême justice, l’art du commandement, l’ampleur de la volonté, la lenteur du regard qui rarement admire, rarement se lève, et aime rarement…\",\n",
    "    \"Je vous le dis : il faut encore porter en soi un chaos, pour pouvoir mettre au monde une étoile dansante. Je vous le dis : vous portez encore un chaos en vous.\"\n",
    "]\n",
    "\n",
    "# configure a tokenizer\n",
    "tokenizer = RegexpTokenizer('\\w+')\n",
    "\n",
    "# tokenization\n",
    "doc_tokens = [\n",
    "    [\n",
    "        token.lower()\n",
    "        for token in tokenizer.tokenize(doc)\n",
    "        if token not in stopwords.words('french')\n",
    "    ]\n",
    "    for doc in corpus\n",
    "]\n",
    "\n",
    "doc_occurrences = [\n",
    "    Counter(tokens)\n",
    "    for tokens in doc_tokens\n",
    "]\n",
    "\n",
    "# tokens are the word-forms and\n",
    "# vocabulary is an ordered list of unique tokens\n",
    "vocabulary = sorted(set([\n",
    "    token\n",
    "    for doc in doc_tokens\n",
    "    for token in doc\n",
    "]))\n",
    "\n",
    "# a null matrix\n",
    "matrix = np.zeros((len(doc_tokens), len(vocabulary)))\n",
    "\n",
    "# fill the matrix\n",
    "for i, occurrences in enumerate(doc_occurrences):\n",
    "    for j, word in enumerate(vocabulary):\n",
    "        matrix[i, j] = occurrences[word]\n",
    "\n",
    "df = pd.DataFrame(matrix, columns=vocabulary)\n",
    "\n",
    "display(df)"
   ]
  },
  {
   "cell_type": "markdown",
   "id": "64c4901d-5723-49a5-9793-949bc5209321",
   "metadata": {},
   "source": [
    "## Une mesure TF-IDF à la main"
   ]
  },
  {
   "cell_type": "markdown",
   "id": "3d2180cc-fcea-4d84-aeea-bef010fa6a5a",
   "metadata": {},
   "source": [
    "Pour les besoins de l’exercice, vous ne vous concentrerez que sur le terme *devoirs* :"
   ]
  },
  {
   "cell_type": "code",
   "execution_count": null,
   "id": "bde33b5d-abd9-4ee3-9905-8325a0e17ab3",
   "metadata": {},
   "outputs": [],
   "source": [
    "display(df.devoirs)"
   ]
  },
  {
   "cell_type": "markdown",
   "id": "8dbaf4da-ab14-4e16-8619-55ae6257e892",
   "metadata": {},
   "source": [
    "### La fréquence du terme"
   ]
  },
  {
   "cell_type": "markdown",
   "id": "dabd9cdc-8fc5-430a-b1fb-15b24334f6ce",
   "metadata": {},
   "source": [
    "La formule qui permet de calculer $\\text{TF}$ est la suivante :\n",
    "\n",
    "$$\n",
    "\\text{TF}(t, d) = \\frac{t}{d}\n",
    "$$\n",
    "\n",
    "Sachant que $d$ est le nombre de tokens du vocabulaire dans le document, quelle est la mesure TF de *devoirs* dans le corpus ?"
   ]
  },
  {
   "cell_type": "code",
   "execution_count": null,
   "id": "1fff18e2-5959-4204-8eae-fa27e25e21d6",
   "metadata": {},
   "outputs": [],
   "source": [
    "# your code here\n",
    "\n",
    "tfs = list()\n",
    "\n",
    "for doc in doc_tokens:\n",
    "    # number of words in the document\n",
    "    n = len(doc)\n",
    "    # occurrences of 'devoirs' set at 0\n",
    "    c = 0\n",
    "    # if 'devoirs' is found in the doc,\n",
    "    # increase the count\n",
    "    for token in doc:\n",
    "        if token == \"devoirs\":\n",
    "            c += 1\n",
    "    tfs.append(c / n)\n",
    "\n",
    "print(tfs)"
   ]
  },
  {
   "cell_type": "markdown",
   "id": "bc7eccfd-51ce-42f0-baa1-40ba5465e5a3",
   "metadata": {},
   "source": [
    "### La fréquence inverse de document"
   ]
  },
  {
   "cell_type": "markdown",
   "id": "3ceac91f-513a-415e-84d1-bd4be6c2861f",
   "metadata": {},
   "source": [
    "La mesure IDF est régie par la formule ci-dessous :\n",
    "\n",
    "$$\n",
    "\\text{IDF}(t) = \\ln{\\frac{N}{1 + \\text{df}(t)}}\n",
    "$$\n",
    "\n",
    "Sachant que $N$ est le nombre total de documents dans le corpus et $\\text{df}(t)$ le nombre de fois où le terme *devoirs* apparaît, quel est son IDF ?"
   ]
  },
  {
   "cell_type": "code",
   "execution_count": null,
   "id": "6a4bee01-bfee-434a-833e-61b1b0ed14e3",
   "metadata": {},
   "outputs": [],
   "source": [
    "# your code here\n",
    "\n",
    "N = len(doc_tokens)\n",
    "\n",
    "d = sum([\n",
    "    doc.count(\"devoirs\")\n",
    "    for doc in doc_tokens\n",
    "])\n",
    "\n",
    "idf = np.log(N / (1 + d))\n",
    "\n",
    "print(idf)"
   ]
  },
  {
   "cell_type": "markdown",
   "id": "d62b17b5-1b63-40df-88e3-dd04e9d92caf",
   "metadata": {},
   "source": [
    "### Calcul du TF-IDF"
   ]
  },
  {
   "cell_type": "markdown",
   "id": "a8a00a50-212f-4f53-9ef6-ad013883e54d",
   "metadata": {},
   "source": [
    "Il reste maintenant à appliquer la formule pour chaque document du corpus afin de s’apercevoir que le résultat est nul :\n",
    "\n",
    "$$\n",
    "\\text{TF-IDF}(t, d) = \\text{TF} \\cdot \\text{IDF}\n",
    "$$"
   ]
  },
  {
   "cell_type": "code",
   "execution_count": null,
   "id": "361a5a11-0b09-43d9-8462-416ed17cef1b",
   "metadata": {},
   "outputs": [],
   "source": [
    "# your code here\n",
    "\n",
    "tfidfs = [\n",
    "    tf * idf\n",
    "    for tf in tfs\n",
    "]\n",
    "\n",
    "print(tfidfs)"
   ]
  },
  {
   "cell_type": "markdown",
   "id": "913d1044-ed2d-42d9-a031-2d13d2328bf1",
   "metadata": {},
   "source": [
    "Des scores négatifs signifient que le mot est sur-représenté dans les documents, mais notre interprétation doit être soumise à caution car le corpus est extrêmement restreint."
   ]
  },
  {
   "cell_type": "markdown",
   "id": "5073613c-1c84-4cc0-8e51-a55c35513a64",
   "metadata": {},
   "source": [
    "## Pondération de la matrice d’occurrences"
   ]
  },
  {
   "cell_type": "markdown",
   "id": "de95cc27-c1b6-4f77-ab30-c17301a651d2",
   "metadata": {},
   "source": []
  },
  {
   "cell_type": "code",
   "execution_count": null,
   "id": "ae178192-c46b-4b5e-854c-949c313f318e",
   "metadata": {},
   "outputs": [],
   "source": [
    "tf = df.div(df.sum(axis=1), axis=0)"
   ]
  },
  {
   "cell_type": "code",
   "execution_count": null,
   "id": "62272a07-de7f-4f2f-b74b-485dad9ee06a",
   "metadata": {},
   "outputs": [],
   "source": [
    "N = len(df)\n",
    "df_t = (df > 0).sum(axis=0)\n",
    "idf = ln(N / (1 + df_t))"
   ]
  },
  {
   "cell_type": "code",
   "execution_count": null,
   "id": "64e56513-31a5-42fc-a2f0-08f1a8b5c292",
   "metadata": {},
   "outputs": [],
   "source": [
    "tfidf = tf * idf"
   ]
  },
  {
   "cell_type": "code",
   "execution_count": null,
   "id": "d3f87f86-4bbb-42fa-a5f8-603ee45de73b",
   "metadata": {},
   "outputs": [],
   "source": [
    "tfidf_df = pd.DataFrame(tfidf, columns=df.columns)"
   ]
  },
  {
   "cell_type": "code",
   "execution_count": null,
   "id": "afe1513c-5376-4608-b4fe-0f9932378f6f",
   "metadata": {},
   "outputs": [],
   "source": [
    "tf.devoirs"
   ]
  },
  {
   "cell_type": "code",
   "execution_count": null,
   "id": "2645b5f6-a684-43a6-9aa2-3330e42e9c1c",
   "metadata": {},
   "outputs": [],
   "source": []
  }
 ],
 "metadata": {
  "kernelspec": {
   "display_name": "Python 3 (ipykernel)",
   "language": "python",
   "name": "python3"
  },
  "language_info": {
   "codemirror_mode": {
    "name": "ipython",
    "version": 3
   },
   "file_extension": ".py",
   "mimetype": "text/x-python",
   "name": "python",
   "nbconvert_exporter": "python",
   "pygments_lexer": "ipython3",
   "version": "3.11.11"
  }
 },
 "nbformat": 4,
 "nbformat_minor": 5
}
