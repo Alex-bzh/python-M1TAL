{
 "cells": [
  {
   "cell_type": "markdown",
   "id": "608f9498-5dc9-40d0-b344-959e356e5445",
   "metadata": {},
   "source": [
    "# Comparaison de similarités entre documents"
   ]
  },
  {
   "cell_type": "markdown",
   "id": "66f58f35-aa84-4ccc-ad70-f32cc725581e",
   "metadata": {},
   "source": [
    "Soit un corpus constitué de trois textes :\n",
    "\n",
    "```txt\n",
    "(A) Le petit chat boit du lait.\n",
    "(B) Le chien joue dans le jardin.\n",
    "(C) Le chat aime jouer avec le chien en toutes saisons.\n",
    "```\n",
    "\n",
    "De ce corpus nous avons extrait un vocabulaire constitué des seuls substantifs lemmatisés : *chat*, *lait*, *chien*, *jardin*, *saison*. Les vecteurs résultants de l’approche fréquentielle sont :\n",
    "\n",
    "$$\n",
    "\\vec{A} = \\begin{pmatrix}\n",
    "    1 \\\\\n",
    "    1 \\\\\n",
    "    0 \\\\\n",
    "    0 \\\\\n",
    "    0\n",
    "\\end{pmatrix}, \\quad\n",
    "\\vec{B} = \\begin{pmatrix}\n",
    "    0 \\\\\n",
    "    0 \\\\\n",
    "    1 \\\\\n",
    "    1 \\\\\n",
    "    0\n",
    "\\end{pmatrix}, \\quad\n",
    "\\vec{C} = \\begin{pmatrix}\n",
    "    1 \\\\\n",
    "    0 \\\\\n",
    "    1 \\\\\n",
    "    0 \\\\\n",
    "    1\n",
    "\\end{pmatrix}\n",
    "$$\n",
    "\n",
    "Établissez, sans vous servir de l’informatique, un classement entre les documents *B* et *C* sur le critère de leur ressemblance avec le document *A* ? Vous justifierez le choix de la fonction de similarité retenue."
   ]
  },
  {
   "cell_type": "markdown",
   "id": "b213bc3d-7bb5-4619-b9df-d9dabdc18a98",
   "metadata": {},
   "source": [
    "**Réponse :**\n",
    "\n",
    "Nous retenons la similitude cosinus comme fonction pour classer les documents B et C au titre que le corpus n’a pas été vectorisé selon un encodage à chaud mais grâce au décompte des occurrences des mots du vocabulaire.\n",
    "\n",
    "Calculons d’abord la similarité entre *A* et *B* :\n",
    "\n",
    "$$\n",
    "\\begin{align*}\n",
    "\\cos \\theta &= \\frac{(1 \\times 0) + (1 \\times 0) + (0 \\times 1) + (0 \\times 1) + (0 \\times 0)}{\\sqrt{1^2 + 1^2 + 0^2 + 0^2 + 0^2} \\times \\sqrt{0^2 + 0^2 + 1^2 + 1^2 + 0^2}} \\\\\n",
    "&= \\frac{0}{\\sqrt{2} \\times \\sqrt{2}} = 0\n",
    "\\end{align*}\n",
    "$$\n",
    "\n",
    "Et maintenant celle entre *A* et *C* :\n",
    "\n",
    "$$\n",
    "\\begin{align*}\n",
    "\\cos \\theta &= \\frac{(1 \\times 1) + (1 \\times 0) + (0 \\times 1) + (0 \\times 0) + (0 \\times 1)}{\\sqrt{1^2 + 1^2 + 0^2 + 0^2 + 0^2} \\times \\sqrt{1^2 + 0^2 + 1^2 + 0^2 + 1^2}} \\\\\n",
    "&= \\frac{1}{\\sqrt{2} \\times \\sqrt{3}} \\\\\n",
    "&= \\frac{1}{\\sqrt{6}}\n",
    "\\end{align*}\n",
    "$$\n",
    "\n",
    "De là, nous pouvons conclure que le document *C* est plus similaire au document *A* que ne l’est le document *B*."
   ]
  }
 ],
 "metadata": {
  "kernelspec": {
   "display_name": "Python 3 (ipykernel)",
   "language": "python",
   "name": "python3"
  },
  "language_info": {
   "codemirror_mode": {
    "name": "ipython",
    "version": 3
   },
   "file_extension": ".py",
   "mimetype": "text/x-python",
   "name": "python",
   "nbconvert_exporter": "python",
   "pygments_lexer": "ipython3",
   "version": "3.11.11"
  }
 },
 "nbformat": 4,
 "nbformat_minor": 5
}
