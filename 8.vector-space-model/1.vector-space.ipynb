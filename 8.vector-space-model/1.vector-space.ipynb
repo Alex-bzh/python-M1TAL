{
 "cells": [
  {
   "cell_type": "markdown",
   "id": "5b5322f7-4002-4864-8b00-6b123208866b",
   "metadata": {},
   "source": [
    "# Un espace vectoriel pour des documents"
   ]
  },
  {
   "cell_type": "markdown",
   "id": "3869005c-10e0-4637-a779-e0bcf8cd0af3",
   "metadata": {},
   "source": [
    "Le changement de paradigme s’est opéré sans le voir, dans un certain enthousiasme pour le progrès technologique : alors que nous avions créé les machines pour nous alléger la tâche, nous voilà maintenant à les servir dans le même but.\n",
    "\n",
    "Avec le développement du *machine learning* et ses prouesses que l’on vante quotidiennement dans la presse, les réseaux autorisés ou encore dans les cercles d’amis, la notion d’entraînement supervisé ou non-supervisé nous est devenue familière : pour qu’un algorithme d’apprentissage fonctionne bien, il faut le nourrir avec une quantité proverbiale de données.\n",
    "\n",
    "Comment, alors, procéder ? Pour qu’une machine comprenne le sens d’un texte, suffit-il de lui dire qu’elle peut trouver ici un verbe conjugué, là le sujet, et que tout le reste sert à définir des circonstances ? Comment parvenir à lui dire que *un chat* et *un miaou* désignent la même réalité, et en même temps pas tout à fait ?\n",
    "\n",
    "Le procédé repose sur la nécessité de présenter à la machine un objet sous forme numérique. L’idée n’est pas nouvelle. Déjà au IVe siècle avant J.-C, l’inscription « Que nul n’entre ici s’il n’est géomètre » que Platon aurait fait graver au fronton de l’Académie d’Athènes, supposait l’ambition de faire la synthèse entre le monde sensible et celui des idées pures. Plus tard, Galilée affirmait que « la nature est un livre écrit en langage mathématique ». Que dire aussi de la méthode de Descartes ou encore de l’*Éthique* de Spinoza, qui emprunte sa forme à la déduction mathématique ?\n",
    "\n",
    "Et c’est bien un objet issu des mathématiques, le vecteur, qui sert aujourd’hui de support à la traduction des mots dans le langage des machines. Il a cela de commode qu’il se laisse facilement manipuler par des opérations pour le comparer à d’autres vecteurs, autorisant de répondre à une question aussi essentielle que par exemple calculer la distance entre le vecteur $chat$ et le vecteur $miaou$.\n",
    "\n",
    "Les outils mathématiques existant déjà, tout l’art est celui de l’alchimiste : découvrir le nombre secret de l’objet. Alors, comment fait-on pour représenter un document dans un format numérique qui ne trahisse pas son sens ?"
   ]
  },
  {
   "cell_type": "markdown",
   "id": "503b6001-e364-48b4-ad6f-710e3939af8b",
   "metadata": {},
   "source": [
    "## Définitions"
   ]
  },
  {
   "cell_type": "markdown",
   "id": "4bae824a-07ce-46af-9319-9fab8c6c6131",
   "metadata": {},
   "source": [
    "Avant de commencer, chargeons *NumPy* (*Numerical Python*), une bibliothèque spécialisée dans la manipulation de tableaux multidimensionnels qui est très largement utilisée dans l’ingénierie et dans le milieu scientifique. Elle met notamment à disposition une nouvelle structure de données, le `ndarray` pour *N-dimensional array*."
   ]
  },
  {
   "cell_type": "code",
   "execution_count": null,
   "id": "22fceb1d-c2ce-40d9-818b-0b8db76ba797",
   "metadata": {},
   "outputs": [],
   "source": [
    "import numpy as np"
   ]
  },
  {
   "cell_type": "markdown",
   "id": "c258ae38-792b-4603-ade2-fce9bf2bb4f5",
   "metadata": {},
   "source": [
    "### Scalaire"
   ]
  },
  {
   "cell_type": "markdown",
   "id": "92b68960-89a4-4476-86c0-b4717cffc075",
   "metadata": {},
   "source": [
    "Un scalaire est simplement un nombre unidimensionnel ($2$, $-\\frac{2}{3}$, $\\pi$) faisant partie de l’ensemble $\\mathbb{R}$ lorsqu’il est utilisé pour multiplier un vecteur."
   ]
  },
  {
   "cell_type": "markdown",
   "id": "d776d342-79b0-4ee3-b251-0620b2903ef7",
   "metadata": {},
   "source": [
    "### Vecteur"
   ]
  },
  {
   "cell_type": "markdown",
   "id": "b7d8d227-17c9-4d80-aefb-2db364da58ca",
   "metadata": {},
   "source": [
    "Un vecteur est un tableau unidimensionnel de valeurs appelées composantes :\n",
    "\n",
    "$$\n",
    "\\vec{A} = \\begin{pmatrix}\n",
    "  2 \\\\\n",
    "  -\\frac{2}{3} \\\\\n",
    "  \\pi\n",
    "\\end{pmatrix}\n",
    "$$\n",
    "\n",
    "Un vecteur se situe dans un espace vectoriel dont le nombre de dimensions détermine le nombre de ses composantes. Dans l’exemple précédent, le vecteur $\\vec{A}$ appartient à un espace tridimensionnel. Un vecteur est par ailleurs décrit par trois caractéristiques :\n",
    "\n",
    "- **Sa norme.** Elle représente la longueur du vecteur, c’est-à-dire la distance entre l’origine dans l’espace vectoriel et son point terminal. La norme (ou magnitude) se calcule par la formule : $\\| \\vec{v} \\| = \\sqrt{\\vec{v} \\cdot \\vec{v}}$, ce qui donne pour notre exemple : $\\| \\vec{v} \\| = \\sqrt{2^2 + (-\\frac{2}{3})^2 + \\pi^2}$\n",
    "- **Sa direction.** Elle décrit la droite sur laquelle le vecteur se situe, indépendamment de son sens et se calcule par la formule $\\hat{v} = \\frac{\\vec{v}}{\\|\\vec{v}\\|}$ où $\\hat{v}$ représente son vecteur unitaire, un vecteur qui pointe dans la même direction mais dont la norme est égale à 1.\n",
    "- **Son sens.** Il s’agit de l’orientation du vecteur sur cette droite (vers le haut ou vers le bas).\n",
    "\n",
    "On utilise la méthode `.array()` de *Numpy* pour instancier un vecteur avec en entrée une listes de valeurs :"
   ]
  },
  {
   "cell_type": "code",
   "execution_count": null,
   "id": "70e427b2-dc89-4ed7-a3f4-35bf9edbc661",
   "metadata": {},
   "outputs": [],
   "source": [
    "A = np.array([2, -2/3, np.pi])"
   ]
  },
  {
   "cell_type": "markdown",
   "id": "0a0c1e31-cec3-4dbc-8564-86948749d2f1",
   "metadata": {},
   "source": [
    "### Matrice"
   ]
  },
  {
   "cell_type": "markdown",
   "id": "65cfed98-f0f3-455e-b028-c6a17865fc8d",
   "metadata": {},
   "source": [
    "Une matrice se conçoit comme un tableau bidimensionnel de *m* lignes et *n* colonnes servant à enregistrer des valeurs. Elle se note $A \\in \\mathbb{R}^{m \\times n}$. Une matrice $A$ d’ordre $(3, 2)$ se représente par exemple ainsi :\n",
    "\n",
    "$$\n",
    "A = \\begin{bmatrix}\n",
    "    2 & 0.667 \\\\\n",
    "    -1.432 & 1.81 \\\\\n",
    "    0.1 & -2.908\n",
    "\\end{bmatrix}\n",
    "$$\n",
    "\n",
    "La méthode `.array()` de *NumPy* prend en entrée une liste de listes pour former une matrice :"
   ]
  },
  {
   "cell_type": "code",
   "execution_count": null,
   "id": "7e1aaa4a-1fe3-41b1-b2f8-9fa071736c3a",
   "metadata": {},
   "outputs": [],
   "source": [
    "A = np.array([\n",
    "    [2, 0.667],\n",
    "    [-1.432, 1.81],\n",
    "    [0.1, -2.908]\n",
    "])"
   ]
  },
  {
   "cell_type": "markdown",
   "id": "0ae1fff2-da01-4d4f-ae9a-b755efcd0eb5",
   "metadata": {},
   "source": [
    "L’attribut `.shape` permet à tout moment de connaître ses dimensions :"
   ]
  },
  {
   "cell_type": "code",
   "execution_count": null,
   "id": "db94ac6d-c70f-40e3-9154-6c01c24139e7",
   "metadata": {},
   "outputs": [],
   "source": [
    "display(A.shape)"
   ]
  },
  {
   "cell_type": "markdown",
   "id": "b1bc03e1-4a43-4217-a0c1-44629c21be31",
   "metadata": {},
   "source": [
    "### Tenseur"
   ]
  },
  {
   "cell_type": "markdown",
   "id": "fd2074db-2941-4145-8c9f-e2a9d1d49dbc",
   "metadata": {},
   "source": [
    "Un tenseur est une généralisation des vecteurs et des matrices à des dimensions supérieures. Il peut être vu comme un tableau multidimensionnel de valeurs. Un tenseur à trois dimensions se représente comme un empilement de plusieurs matrices, elles-mêmes constituées de plusieurs vecteurs :\n",
    "\n",
    "$$\n",
    "\\begin{pmatrix}\n",
    "  \\begin{pmatrix}\n",
    "    \\begin{pmatrix} 1 & 2 \\\\ 3 & 4 \\end{pmatrix},\n",
    "    \\begin{pmatrix} 5 & 6 \\\\ 7 & 8 \\end{pmatrix}\n",
    "  \\end{pmatrix},\n",
    "  \\begin{pmatrix}\n",
    "    \\begin{pmatrix} 9 & 10 \\\\ 11 & 12 \\end{pmatrix},\n",
    "    \\begin{pmatrix} 13 & 14 \\\\ 15 & 16 \\end{pmatrix}\n",
    "  \\end{pmatrix}\n",
    "\\end{pmatrix}\n",
    "$$\n",
    "\n",
    "Avec *NumPy*, un tenseur se crée toujours avec la méthode `.array()` :"
   ]
  },
  {
   "cell_type": "code",
   "execution_count": null,
   "id": "a5c72c46-6a6e-4480-9880-c9d42f943138",
   "metadata": {},
   "outputs": [],
   "source": [
    "tensor = np.array([\n",
    "    [[1, 2], [3, 4]],\n",
    "    [[5, 6], [7, 8]],\n",
    "    [[9, 10], [11, 12]]\n",
    "])\n",
    "\n",
    "display(tensor.shape)"
   ]
  },
  {
   "cell_type": "markdown",
   "id": "4d23c8ea-21c7-44af-9989-325cefcb10e7",
   "metadata": {},
   "source": [
    "## Les vecteurs et l’espace vectoriel"
   ]
  },
  {
   "cell_type": "markdown",
   "id": "4d4e3a6b-4495-4de7-9bb5-3097b6547eaf",
   "metadata": {},
   "source": [
    "Un espace vectoriel se conçoit comme une structure en *n* dimensions où évoluent un ensemble d’objets mathématiques, les vecteurs, que l’on peut combiner grâce à des opérations algébriques parce qu’ils sont constitués de composantes dans chacune des dimensions de l’espace. Selon cette définition, il ne nous est pas permis de combiner un vecteur en trois dimensions et un autre en deux dimensions, à moins de passer par des techniques de réduction de la dimensionnalité qui impliquent souvent une perte d’information."
   ]
  },
  {
   "cell_type": "markdown",
   "id": "8ed12f86-3550-4a3b-b7ae-5e46f21d8aa6",
   "metadata": {},
   "source": [
    "### Les propriétés de base"
   ]
  },
  {
   "cell_type": "markdown",
   "id": "71c02d32-8611-4da2-89ff-93d3c2d793ed",
   "metadata": {},
   "source": [
    "- **L’addition vectorielle :** additionner deux vecteurs dans l’espace produit un autre vecteur dans cet espace. Si $\\vec{u} = (1, 2)$ et $\\vec{v} = (3, 4)$, alors $\\vec{u} + \\vec{v} = (4, 6)$\n",
    "- **La multiplication par un scalaire :** le produit d’un vecteur par un scalaire est un autre vecteur dans le même espace. Exemple : $\\vec{u} \\times 3 = (3, 6)$\n",
    "- **L’élément neutre de l’addition :** le vecteur nul (0) ne change rien au résultat d’une combinaison lorsqu’il est ajouté à un vecteur. Si $\\vec{o} = (0, 0)$ alors $\\vec{u} + \\vec{o} = \\vec{u}$\n",
    "- **L’élément inverse :** chaque vecteur a un vecteur opposé qui, lorsqu’il lui est ajouté, donne le vecteur nul. Exemple : $\\vec{u} + (-\\vec{u}) = \\vec{o}$\n",
    "- **L’associativité et la commutativité de l’addition :**\n",
    "    - Associativité : $(\\vec{u} + \\vec{v}) + \\vec{w} = \\vec{u} + (\\vec{v} + \\vec{w})$\n",
    "    - Commutativité : $\\vec{u} + \\vec{v} = \\vec{v} + \\vec{u}$\n",
    "- **La distributivité :**\n",
    "    - Relative à l’addition des vecteurs : $\\vec{c} \\cdot (\\vec{u} + \\vec{v}) = \\vec{c} \\cdot \\vec{u} + \\vec{c} \\cdot \\vec{v}$\n",
    "    - Relative à l’addition des scalaires : $(a + b) \\cdot u = a \\cdot \\vec{u} + b \\cdot \\vec{u}$\n",
    "- **Compatibilité avec la multiplication scalaire :** $(a \\cdot b) \\cdot \\vec{u} = a \\cdot (b \\cdot \\vec{u})$\n",
    "- **L’unité scalaire :** multiplier un vecteur par 1 ne change pas le vecteur. Exemple : $\\vec{u} \\times 1 = \\vec{u}$"
   ]
  },
  {
   "cell_type": "markdown",
   "id": "02e30505-904b-40ad-9e7c-7e79e7bec3ed",
   "metadata": {},
   "source": [
    "### Opérations de base"
   ]
  },
  {
   "cell_type": "markdown",
   "id": "da8e0fc1-24fb-4d31-b08e-08a6198070fb",
   "metadata": {},
   "source": [
    "#### L’addition"
   ]
  },
  {
   "cell_type": "markdown",
   "id": "34fd023c-58ba-444a-bfd6-2fbb896b22de",
   "metadata": {},
   "source": [
    "Additionner deux vecteurs de *n* dimensions donne un vecteur de *n* dimensions et se calcule en additionnant les composantes sur la même dimension :\n",
    "\n",
    "$$\n",
    "\\begin{align*}\n",
    "    \\vec{u} &= \\begin{pmatrix}\n",
    "        1 \\\\\n",
    "        2 \n",
    "    \\end{pmatrix}, \\quad\n",
    "    \\vec{v} = \\begin{pmatrix}\n",
    "        3 \\\\\n",
    "        4\n",
    "    \\end{pmatrix} \\\\\n",
    "    \\vec{u} + \\vec{v} &= \\begin{pmatrix}\n",
    "        1 + 3 \\\\\n",
    "        2 + 4 \n",
    "    \\end{pmatrix} =\n",
    "    \\begin{pmatrix}\n",
    "        4 \\\\\n",
    "        6\n",
    "    \\end{pmatrix}\n",
    "\\end{align*}\n",
    "$$\n",
    "\n",
    "Illustrons avec *Numpy* :"
   ]
  },
  {
   "cell_type": "code",
   "execution_count": null,
   "id": "e4b22948-b142-4dd6-9468-ba87caf7b49c",
   "metadata": {},
   "outputs": [],
   "source": [
    "u, v = np.array([1, 2]), np.array([3, 4])\n",
    "\n",
    "display(u + v)"
   ]
  },
  {
   "cell_type": "markdown",
   "id": "0143247e-416d-4a95-87a2-3aa4846114fd",
   "metadata": {},
   "source": [
    "#### La multiplication scalaire"
   ]
  },
  {
   "cell_type": "markdown",
   "id": "a8b81be5-0cc5-4541-818a-c8a3791faa98",
   "metadata": {},
   "source": [
    "Multiplier un vecteur par un nombre revient à multiplier chaque attribut du vecteur par ce nombre et ainsi à le **mettre à l’échelle** en l’étirant ou en le réduisant dans l’espace vectoriel sans pour autant modifier sa direction :\n",
    "\n",
    "$$\n",
    "\\begin{align*}\n",
    "    \\vec{u} &= \\begin{pmatrix}\n",
    "        1 \\\\\n",
    "        2 \n",
    "    \\end{pmatrix}, \\quad\n",
    "    \\lambda = 3 \\\\\n",
    "    \\lambda \\cdot \\vec{u} &= \\begin{pmatrix}\n",
    "        1 \\times 3 \\\\\n",
    "        2 \\times 3 \n",
    "    \\end{pmatrix} =\n",
    "    \\begin{pmatrix}\n",
    "        3 \\\\\n",
    "        6\n",
    "    \\end{pmatrix}\n",
    "\\end{align*}\n",
    "$$\n",
    "\n",
    "Si $\\lambda$ est supérieur à 1, le vecteur est étiré ; s’il est compris entre 0 et 1, il est plutôt réduit. Et dans le cas de figure où la multiplication se fait par un nombre négatif, le vecteur pointera désormais dans le sens opposé.\n",
    "\n",
    "En utilisant *Numpy*, nous obtenons :"
   ]
  },
  {
   "cell_type": "code",
   "execution_count": null,
   "id": "c55456d7-415c-4533-b2cb-e211b00031c3",
   "metadata": {},
   "outputs": [],
   "source": [
    "u = np.array([1, 2])\n",
    "\n",
    "display(u * 3)"
   ]
  },
  {
   "cell_type": "markdown",
   "id": "2c774722-1fc6-4694-9729-2df8d8b1a74e",
   "metadata": {},
   "source": [
    "#### Le produit scalaire"
   ]
  },
  {
   "cell_type": "markdown",
   "id": "a27dae61-1d85-445e-8234-93b30678aa58",
   "metadata": {},
   "source": [
    "Multiplier un vecteur par un autre vecteur consiste à additionner le produit de leurs composantes :\n",
    "\n",
    "$$\n",
    "\\begin{align*}\n",
    "    \\vec{u} &= \\begin{pmatrix}\n",
    "        1 \\\\\n",
    "        2 \n",
    "    \\end{pmatrix}, \\quad\n",
    "    \\vec{v} = \\begin{pmatrix}\n",
    "        3 \\\\\n",
    "        4\n",
    "    \\end{pmatrix} \\\\\n",
    "    \\vec{u} \\cdot \\vec{v} &= 1 \\times 3 + 2 \\times 4 \\\\\n",
    "    &= 11\n",
    "\\end{align*}\n",
    "$$\n",
    "\n",
    "Le produit scalaire se calcule avec la méthode `.dot()` de *Numpy* :"
   ]
  },
  {
   "cell_type": "code",
   "execution_count": null,
   "id": "2ca9e035-dd04-46b3-bab9-a389b9198ea7",
   "metadata": {},
   "outputs": [],
   "source": [
    "u, v = np.array([1, 2]), np.array([3, 4])\n",
    "\n",
    "display(np.dot(u, v))"
   ]
  },
  {
   "cell_type": "markdown",
   "id": "c248386d-91d7-4858-a416-e125205fb435",
   "metadata": {},
   "source": [
    "#### La norme"
   ]
  },
  {
   "cell_type": "markdown",
   "id": "7f0a3ee5-50da-4591-8dec-e259a3a44347",
   "metadata": {},
   "source": [
    "La norme d’un vecteur représente sa longueur et se calcule comme la racine carrée de la somme des carrés de ses composantes selon la formule :\n",
    "\n",
    "$$\n",
    "\\| \\vec{v} \\| = \\sqrt{\\vec{v} \\cdot \\vec{v}}\n",
    "$$\n",
    "\n",
    "Elle sert à exprimer **la magnitude** ou l’intensité du vecteur. D’un point de vue strictement géométrique, elle représente la distance entre l’origine de l’espace et le vecteur lui-même. Exemple :\n",
    "\n",
    "$$\n",
    "\\begin{align*}\n",
    "    \\vec{v} &= \\begin{pmatrix}\n",
    "        3 \\\\\n",
    "        4 \n",
    "    \\end{pmatrix} \\\\\n",
    "    \\| \\vec{v} \\| &= \\sqrt{3^2 + 4^2} \\\\\n",
    "    &= \\sqrt{9 + 16} \\\\\n",
    "    &= \\sqrt{25} \\\\\n",
    "    &= 5\n",
    "\\end{align*}\n",
    "$$\n",
    "\n",
    "La norme se calcule avec *Numpy* grâce à la méthode `.linalg.norm()` :"
   ]
  },
  {
   "cell_type": "code",
   "execution_count": null,
   "id": "adc635b6-07b6-4373-8083-22ed1056ec53",
   "metadata": {},
   "outputs": [],
   "source": [
    "v = np.array([3, 4])\n",
    "\n",
    "display(np.linalg.norm(v))"
   ]
  },
  {
   "cell_type": "markdown",
   "id": "7182739b-9d3e-434a-a141-5e7e473f2b99",
   "metadata": {},
   "source": [
    "#### La similarité"
   ]
  },
  {
   "cell_type": "markdown",
   "id": "0b5e404b-ffb3-410a-b8e5-0c1b414bbc76",
   "metadata": {},
   "source": [
    "Lorsque l’on parle de similarité de deux vecteurs en traitement automatique du langage naturel, on désigne la **similarité cosinus**, une mesure par laquelle on détermine le cosinus de leur angle dans un intervalle $[-1 , 1]$, où -1 qualifie deux vecteurs opposés, 0 deux vecteurs orthogonaux qui n’ont aucune similarité entre eux et 1 deux vecteurs colinéaires (il serait possible de tracer une droite pour les relier). Toutefois, en TALN, on s’intéresse souvent plus à la valeur absolue de $\\cos \\theta$.\n",
    "\n",
    "La formule pour définir la similarité cosinus vaut :\n",
    "\n",
    "$$\n",
    "\\cos \\theta = \\frac{\\vec{A} \\cdot \\vec{B}}{\\| \\vec{A} \\| \\| \\vec{B} \\|}\n",
    "$$\n",
    "\n",
    "Exemple avec deux vecteurs :\n",
    "\n",
    "$$\n",
    "\\vec{u} = \\begin{pmatrix}\n",
    "        7 \\\\\n",
    "        32 \\\\\n",
    "        10\n",
    "    \\end{pmatrix}, \\quad \\vec{v} = \\begin{pmatrix}\n",
    "        11 \\\\\n",
    "        4 \\\\\n",
    "        8\n",
    "    \\end{pmatrix}\n",
    "$$\n",
    "\n",
    "La similarité cosinus vaut :\n",
    "\n",
    "$$\n",
    "\\begin{align*}\n",
    "    \\cos \\theta &= \\frac{ (u_1 \\cdot v_1) + (u_2 \\cdot v_2) + (u_3 \\cdot v_3) }{ (\\sqrt{\\vec{u} \\cdot \\vec{u}}) \\times (\\sqrt{\\vec{v} \\cdot \\vec{v}}) } \\\\\n",
    "    \\cos \\theta &= \\frac{ (7 \\times 11) + (32 \\times 4) + (10 \\times 8) }{ (\\sqrt{7^2 + 32^2 + 10^2}) \\times (\\sqrt{11^2 + 4^2 + 8^2}) } \\\\\n",
    "    \\cos \\theta &= \\frac{77 + 128 + 80}{ 34,2491 \\times 14,1774 } \\\\\n",
    "    \\cos \\theta &= \\frac{285}{ 485,5632 } \\\\\n",
    "    \\cos \\theta &\\approx 0,5869\n",
    "\\end{align*}\n",
    "$$\n",
    "\n",
    "Selon la nature de $\\vec{u}$ et $\\vec{v}$, nous pourrions avancer que 0,5869 est la mesure de l’indice de ressemblance entre les mots *u* et *v*, ou entre les documents *u* et *v* etc. Une application pratique serait de résoudre par exemple une tâche de classification en effectuant des regroupements.\n",
    "\n",
    "Il n’existe pas de fonction spécifique dans *Numpy*, mais l’intégration de la formule est linéaire :"
   ]
  },
  {
   "cell_type": "code",
   "execution_count": null,
   "id": "e34743ee-7970-4225-ac33-5ed1d914dd2d",
   "metadata": {},
   "outputs": [],
   "source": [
    "u, v = np.array([7, 32, 10]), np.array([11, 4, 8])\n",
    "\n",
    "cosine = np.dot(u, v) / (np.linalg.norm(u) * np.linalg.norm(v))\n",
    "\n",
    "display(cosine)"
   ]
  },
  {
   "cell_type": "markdown",
   "id": "65a2fc90-d974-4917-b760-49d889fa3109",
   "metadata": {},
   "source": [
    "#### La similarité de vecteurs binaires : l’indice de Jaccard"
   ]
  },
  {
   "cell_type": "markdown",
   "id": "ee25ed40-ec55-4ad1-bca1-13fa804a2a35",
   "metadata": {},
   "source": [
    "Dans l’exemple précédent, les attributs des vecteurs $\\vec{u}$ et $\\vec{v}$ étaient représentés par des nombres pouvant prendre leur valeur dans l’ensemble $\\mathbb{R}$. Et si les valeurs se limitaient à *0* et *1* ? Dans ce cas particulier, la similarité peut se calculer avec l’indice de Jaccard :\n",
    "\n",
    "$$\n",
    "J = \\frac{M_{11}}{M_{01} + M_{10} + M_{11}}\n",
    "$$\n",
    "\n",
    "Ou, sachant que *n* est le nombre d’attributs :\n",
    "\n",
    "$$\n",
    "J = \\frac{M_{11}}{n - M_{00}}\n",
    "$$\n",
    "\n",
    "Dans ces formules, les quantités valent :\n",
    "\n",
    "- $M_{00}$ pour le nombre d’attributs qui valent $0$ dans $\\vec{A}$ et $0$ dans $\\vec{B}$ ;\n",
    "- $M_{01}$ pour le nombre d’attributs qui valent $0$ dans $\\vec{A}$ et $1$ dans $\\vec{B}$ ;\n",
    "- $M_{10}$ pour le nombre d’attributs qui valent $1$ dans $\\vec{A}$ et $0$ dans $\\vec{B}$ ;\n",
    "- $M_{11}$ pour le nombre d’attributs qui valent $1$ dans $\\vec{A}$ et $1$ dans $\\vec{B}$.\n",
    "\n",
    "L’indice de Jaccard s’exprime également en termes ensemblistes :\n",
    "\n",
    "$$\n",
    "\\text{J} = \\frac{|A \\cap B|}{|A \\cup B|}\n",
    "$$\n",
    "\n",
    "Où :\n",
    "\n",
    "- $|A \\cap B|$ représente le nombre de composantes où les deux vecteurs ont une valeur de 1 ;\n",
    "- $|A \\cup B|$ figure le nombre de composantes où au moins l’un des deux vecteurs a une valeur de 1.\n",
    "\n",
    "Prenons les deux vecteurs suivants :\n",
    "\n",
    "$$\n",
    "\\vec{u} = \\begin{pmatrix}\n",
    "    0 \\\\\n",
    "    0 \\\\\n",
    "    1 \\\\\n",
    "    1 \\\\\n",
    "    1\n",
    "\\end{pmatrix}, \\quad\n",
    "\\vec{v} = \\begin{pmatrix}\n",
    "    1 \\\\\n",
    "    0 \\\\\n",
    "    1 \\\\\n",
    "    0 \\\\\n",
    "    0\n",
    "\\end{pmatrix}\n",
    "$$\n",
    "\n",
    "Après application de la formule, nous obtenons :\n",
    "\n",
    "$$\n",
    "\\begin{align}\n",
    "    J &= \\frac{1}{1 + 2 + 1} \\\\\n",
    "    J &= \\frac{1}{4} \\\\\n",
    "    J &\\approx 0,25\n",
    "\\end{align}\n",
    "$$\n",
    "\n",
    "L’indice de Jaccard se situe dans un intervalle $[0, 1]$ où :\n",
    "\n",
    "- 0 représente deux vecteurs sans aucun élément en commun ;\n",
    "- 1 représente deux vecteurs identiques.\n",
    "\n",
    "Si nous utilisons la bibliothèque *Numpy*, nous devons faire appel à des méthodes logiques :"
   ]
  },
  {
   "cell_type": "code",
   "execution_count": null,
   "id": "e1870436-0620-45ef-803a-6b4bd9cc1535",
   "metadata": {},
   "outputs": [],
   "source": [
    "u, v = np.array([0, 0, 1, 1, 1]), np.array([1, 0, 1, 0, 0])\n",
    "\n",
    "intersection = np.sum(np.logical_and(u, v))\n",
    "union = np.sum(np.logical_or(u, v))\n",
    "\n",
    "display(intersection / union)"
   ]
  },
  {
   "cell_type": "markdown",
   "id": "8504d2e0-aae7-4cbf-b15d-407e11c39ff9",
   "metadata": {},
   "source": [
    "### Représentations vectorielles"
   ]
  },
  {
   "cell_type": "markdown",
   "id": "83d48d50-2aa9-46f0-9ffd-20fd123e196b",
   "metadata": {},
   "source": [
    "Dans l’espace euclidien, un vecteur peut représenter une position, soit dans un plan pour un vecteur 2D, soit dans l’espace pour un vecteur 3D. Établir que, dans un plan de Paris dont la Concorde serait le point d’origine, le Palais Garnier est représenté par un vecteur $(2, 2)$ c’est lui attribuer les coordonnées 2 et 2 sur les dimensions horizontale et verticale. Et si l’on rajoute une coordonnée *y* pour l’élévation, on bascule dans un espace tridimensionnel.\n",
    "\n",
    "Pour les textes, la représentation passe par l’application d’une méthode qui le transforme en nombres. Par exemple, il est possible de dire qu’un texte active ou non un certain nombre de classificateurs binaires, afin d’obtenir un vecteur uniquement composé de 0 et de 1. Une autre méthode pourrait se reposer sur la fréquence d’apparition des mots, et encore une autre sur un indice de leur significativité etc."
   ]
  },
  {
   "cell_type": "markdown",
   "id": "eb4a507e-9046-44ac-966b-6ab8a74b83b3",
   "metadata": {},
   "source": [
    "## Calculer la distance entre des vecteurs"
   ]
  },
  {
   "cell_type": "markdown",
   "id": "79861cb2-287d-4008-8ad4-2e93fc5e215d",
   "metadata": {},
   "source": [
    "La distance est une longueur strictement positive qui exprime une quantité séparant deux vecteurs de l’espace. On la note par la fonction $d(\\mathbf{X}, \\mathbf{Y})$ qui se calcule de différentes façons selon l’objectif à atteindre."
   ]
  },
  {
   "cell_type": "markdown",
   "id": "fd0d559f-924b-42fc-a59a-1f46e19f38c5",
   "metadata": {},
   "source": [
    "### La distance euclidienne"
   ]
  },
  {
   "cell_type": "markdown",
   "id": "24467052-de93-4a92-98dd-5a7b11989a0a",
   "metadata": {},
   "source": [
    "La plupart du temps, lorsque l’on évoque la distance entre des vecteurs, on fait référence à la distance euclidienne. On la trouve parfois aussi sous la dénomination de *distance de Pythagore* parce qu’elle peut se calculer à partir des coordonnées des points. Elle s’exprime mathématiquement par la formule :\n",
    "\n",
    "$$\n",
    "d(\\mathbf{X}, \\mathbf{Y}) = \\sqrt{\\sum_{i=1}^{n} (x_i - y_i)^2}\n",
    "$$\n",
    "\n",
    "Prenons deux vecteurs en trois dimensions :\n",
    "\n",
    "$$\n",
    "\\vec{u} = \\begin{pmatrix}\n",
    "    3 \\\\\n",
    "    -1 \\\\\n",
    "    6\n",
    "\\end{pmatrix}, \\quad \\vec{v} = \\begin{pmatrix}\n",
    "    0 \\\\\n",
    "    2 \\\\\n",
    "    -3\n",
    "\\end{pmatrix}\n",
    "$$\n",
    "\n",
    "Et calculons la distance qui les sépare :\n",
    "\n",
    "$$\n",
    "\\begin{align*}\n",
    "    d(\\vec{u}, \\vec{v}) &= \\sqrt{(3 - 0)^2 + (-1 - 2)^2 + (6 - (-3))^2} \\\\\n",
    "    &= \\sqrt{3^2 + (-3)^2 + 9^2} \\\\\n",
    "    &= \\sqrt{9 + 9 + 81} \\\\\n",
    "    &= \\sqrt{99} \\\\\n",
    "    &\\approx 9.9499\n",
    "\\end{align*}\n",
    "$$\n",
    "\n",
    "La distance euclidienne peut également se concevoir comme la norme du vecteur différence entre deux vecteurs :\n",
    "\n",
    "$$\n",
    "d(\\mathbf{X}, \\mathbf{Y}) = \\|\\mathbf{X} - \\mathbf{Y}\\|\n",
    "$$\n",
    "\n",
    "Avec cette formule, notre exemple devient :\n",
    "\n",
    "$$\n",
    "\\begin{align*}\n",
    "    d(\\vec{u}, \\vec{v}) &= \\|\\begin{pmatrix} 3 - 0 \\\\ -1 - 2 \\\\ 6 - (-3) \\end{pmatrix}\\| \\\\\n",
    "    &= \\|\\begin{pmatrix} 3 \\\\ -3 \\\\ 9 \\end{pmatrix}\\| \\\\\n",
    "    &= \\sqrt{3^2 + (-3)^2 + 9^2} \\\\\n",
    "    &\\approx 9.9499\n",
    "\\end{align*}\n",
    "$$\n",
    "\n",
    "Si elle est facilement calculable, la distance euclidienne perd de sa pertinence dans les cas suivants :\n",
    "\n",
    "- Les vecteurs sont dominés par des composantes de grandes valeurs qui sont elles-mêmes favorisées par l’élévation au carré ;\n",
    "- les vecteurs sont dans un espace de très grande dimension ;\n",
    "- les vecteurs sont bruités par des composantes influentes.\n",
    "\n",
    "À noter également qu’elle exprime un écart en termes de magnitude sans capturer la direction relative entre les vecteurs."
   ]
  },
  {
   "cell_type": "markdown",
   "id": "ac578448-0eac-4582-9eca-bd5491b7215b",
   "metadata": {},
   "source": [
    "### La distance de Manhattan"
   ]
  },
  {
   "cell_type": "markdown",
   "id": "b0a65874-2d5d-46ec-bcd6-3c447d982a24",
   "metadata": {},
   "source": [
    "Aussi appelée distance *taxicab*, la distance de Manhattan repose sur l’idée que la distance entre deux points est la somme des quantités de déplacements dans toutes les dimensions. Dans un plan représentant le réseau des rues de Manhattan, un taxi souhaitant transporter son passager d’un point A vers un point B peut emprunter dans la représentation ci-dessous les chemins rouge, jaune ou bleu, quand le chemin vert figure la distance euclidienne :\n",
    "\n",
    "![La distance de Manhattan](./images/manhattan-distance.png)\n",
    "\n",
    "Psychonaut, Public domain, via *Wikimedia Commons*.\n",
    "\n",
    "Elle a été définie par Hermann Minkowski selon la formule :\n",
    "\n",
    "$$\n",
    "d(\\mathbf{X}, \\mathbf{Y}) = \\sum_{i=1}^{n} |x_i - y_i|\n",
    "$$\n",
    "\n",
    "Reprenons les vecteurs $\\vec{u}$ et $\\vec{v}$ précédemment définis afin d’effectuer le calcul :\n",
    "\n",
    "$$\n",
    "\\begin{align*}\n",
    "    d(\\vec{u}, \\vec{v}) &= |3-0| + |-1 - 2| + |6 - (-3)| \\\\\n",
    "    &= |3| + |-3| + |9| \\\\\n",
    "    &= 3 + 3 + 9 \\\\\n",
    "    &= 15\n",
    "\\end{align*}\n",
    "$$\n",
    "\n",
    "Comme la formule évite une élévation au carré, elle devient moins sensible au bruit (données aberrantes) ou aux composantes de grandes valeurs, même si dans ce dernier cas on va tout de même préférer passer par une étape de normalisation avant de la calculer. Elle est également parfaitement adaptée à des déplacements contraints par les axes d’une grille (labyrinthe, réseau, carte urbaine…) mais sans doute moins intuitive que la distance euclidienne en termes d’interprétation."
   ]
  },
  {
   "cell_type": "markdown",
   "id": "c9df456c-86c9-4dc0-b7e5-8c4df2d84b58",
   "metadata": {},
   "source": [
    "### La distance cosinus"
   ]
  },
  {
   "cell_type": "markdown",
   "id": "50852567-fc70-41f7-815b-4ce3bbc9ff2a",
   "metadata": {},
   "source": [
    "Le calcul de la distance cosinus est associé à la similarité cosinus par la relation suivante :\n",
    "\n",
    "$$\n",
    "d(\\mathbf{X}, \\mathbf{Y}) = 1 - \\cos \\theta\n",
    "$$\n",
    "\n",
    "Le résultat est situé dans un intervalle $[0, 2]$ qui mesure l’éloignement des vecteurs en termes de direction et non pas de magnitude."
   ]
  },
  {
   "cell_type": "markdown",
   "id": "c67f9f17-4380-4001-ad8c-55bb16dab38b",
   "metadata": {},
   "source": [
    "### La distance de Jaccard"
   ]
  },
  {
   "cell_type": "markdown",
   "id": "2d345c23-8d8f-433f-bc13-9f09f63b48ac",
   "metadata": {},
   "source": [
    "Elle se calcule sans surprise grâce à l’indice de Jaccard selon l’expression mathématique :\n",
    "\n",
    "$$\n",
    "d(\\mathbf{X}, \\mathbf{Y}) = 1 - \\frac{|A \\cap B|}{|A \\cup B|}\n",
    "$$\n",
    "\n",
    "Les valeurs restent dans l’intervalle $[0, 1]$ mais s’interprètent comme le complément de l’indice de Jaccard. Dans l’exemple plus haut, les vecteurs $\\vec{u}$ et $\\vec{v}$ avaient un indice de Jaccard de 0,25 et, partant, une distance de Jaccard de 0,75."
   ]
  }
 ],
 "metadata": {
  "kernelspec": {
   "display_name": "Python 3 (ipykernel)",
   "language": "python",
   "name": "python3"
  },
  "language_info": {
   "codemirror_mode": {
    "name": "ipython",
    "version": 3
   },
   "file_extension": ".py",
   "mimetype": "text/x-python",
   "name": "python",
   "nbconvert_exporter": "python",
   "pygments_lexer": "ipython3",
   "version": "3.11.10"
  }
 },
 "nbformat": 4,
 "nbformat_minor": 5
}
