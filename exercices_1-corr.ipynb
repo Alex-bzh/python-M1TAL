{
 "cells": [
  {
   "cell_type": "markdown",
   "metadata": {},
   "source": [
    "# Exercices semaine 1"
   ]
  },
  {
   "cell_type": "markdown",
   "metadata": {},
   "source": [
    "## Chaînes de caractères"
   ]
  },
  {
   "cell_type": "markdown",
   "metadata": {},
   "source": [
    "### Exercice 1"
   ]
  },
  {
   "cell_type": "markdown",
   "metadata": {},
   "source": [
    "Voici un extrait issu d’un corpus d’apprenants au format CLAN :\n",
    "```\n",
    "*NIB:\tpourquoi est ce que tu as choisi l'université de Salford?\n",
    "*C01:\tum j'aime Manchester.\n",
    "*C01:\tet je trust@s euh j'ai voulu étudier à Manchester et à Salford.\n",
    "*C01:\tj'aime le cours.\n",
    "*NIB:\ttu viens de quelle partie de l'Angleterre?\n",
    "*C01:\tum pas d'Angleterre.\n",
    "*C01:\tdu pays de Galles.\n",
    "*NIB:\tdu pays de Galles?\n",
    "*C01:\toui.\n",
    "*NIB:\teuh d'ou au pays de Galles?\n",
    "*C01:\teuh le sud.\n",
    "*NIB:\tle sud?\n",
    "*C01:\toui de Swansea.\n",
    "```\n",
    "Dans un premier temps, rétablissez une ponctuation conforme aux normes de l’imprimerie nationale (`le sud ?` plutôt que `le sud?`).\n",
    "\n",
    "Dans un second temps, vous remarquerez, au début de chaque ligne, un marquage pour identifier le locuteur. Remplacez ces codes avec des noms de votre invention afin de retranscrire le dialogue."
   ]
  },
  {
   "cell_type": "code",
   "execution_count": null,
   "metadata": {},
   "outputs": [],
   "source": [
    "# Ouverture d'un flux vers le fichier source\n",
    "with open(\"../documents/extrait.txt\", \"r\") as src:\n",
    "    # Récupération des données du fichier source dans une variable\n",
    "    txt = src.read()\n",
    "\n",
    "    # Remplacement du point d'interrogation\n",
    "    txt = txt.replace(\"?\", \" ?\")\n",
    "\n",
    "    # Version brutale pour tout remplacer les noms\n",
    "    # txt = txt.replace(\"?\", \" ?\").replace(\"NIB\", \"Max\").replace(\"C01\", \"Josée\")\n",
    "\n",
    "    # Version plus intelligente\n",
    "    codes = [\n",
    "        (\"NIB\", \"Max\"),\n",
    "        (\"C01\", \"Josée\"),\n",
    "    ]\n",
    "    \n",
    "    for code in codes:\n",
    "        if code[0] in txt:\n",
    "            txt = txt.replace(code[0], code[1])\n",
    "\n",
    "    print txt"
   ]
  },
  {
   "cell_type": "markdown",
   "metadata": {},
   "source": [
    "### Exercice 2"
   ]
  },
  {
   "cell_type": "markdown",
   "metadata": {},
   "source": [
    "Chargez tout d'abord le texte sur lequel vous allez travailler."
   ]
  },
  {
   "cell_type": "code",
   "execution_count": null,
   "metadata": {},
   "outputs": [],
   "source": [
    "# Ouverture d'un flux vers le fichier source\n",
    "src = open(\"bbt.txt\", \"r\")\n",
    "# Récupération des données du fichier source dans une variable\n",
    "txt = src.read()\n",
    "# Fermeture du fichier source\n",
    "src.close()"
   ]
  },
  {
   "cell_type": "markdown",
   "metadata": {},
   "source": [
    "Effectuez les opérations suivantes :\n",
    "1. Calculez le nombre de fois que la chaîne \"Sheldon\" apparaît.\n",
    "2. Transformez tout le texte en liste de mots.\n",
    "3. La chaîne \"I’m hungry\" est-elle présente ?\n",
    "4. Et celles-ci : \"ing at\", \"ing to\" ?\n",
    "5. Si oui, dites combien de fois elles le sont et donnez la position de leur première occurrence. Expliquez les problèmes rencontrés."
   ]
  },
  {
   "cell_type": "markdown",
   "metadata": {},
   "source": [
    "### Vos réponses"
   ]
  },
  {
   "cell_type": "markdown",
   "metadata": {},
   "source": [
    "Écrivez vos réponses ici. Veillez à choisir le bon format de cellules pour vos réponses au format texte ou au format python."
   ]
  },
  {
   "cell_type": "code",
   "execution_count": null,
   "metadata": {},
   "outputs": [],
   "source": [
    "print \"Sheldon apparaît {} fois\".format(txt.count(\"Sheldon\"))\n",
    "mots = txt.split()\n",
    "if \"I’m hungry\" in txt:\n",
    "    print \"La chaîne 'I’m hungry' apparaît {} fois. Sa première occurrence se trouve à la position {}\".format(txt.count(\"I’m hungry\"), txt.find(\"I’m hungry\"))\n",
    "if \"ing at\" in txt:\n",
    "    print \"La chaîne 'ing at' apparaît {} fois. Sa première occurence se trouve à la position {}\".format(txt.count(\"ing at\"), txt.find(\"ing at\"))\n",
    "if \"ing to\" in txt:\n",
    "    print \"La chaîne 'ing to' apparaît {} fois. Sa première occurence se trouve à la position {}\".format(txt.count(\"ing to\"), txt.find(\"ing to\"))"
   ]
  },
  {
   "cell_type": "markdown",
   "metadata": {},
   "source": [
    "## Listes"
   ]
  },
  {
   "cell_type": "markdown",
   "metadata": {},
   "source": [
    "### Manipulation de liste"
   ]
  },
  {
   "cell_type": "markdown",
   "metadata": {},
   "source": [
    "Soit le texte suivant :\n",
    "```\n",
    "\"Le petit chut est mort\"\n",
    "```\n",
    "1. Découpez cette phrase en mots ;\n",
    "2. calculez le nombre de mots dans la phrase ;\n",
    "3. remplacez le `u` en `a`"
   ]
  },
  {
   "cell_type": "code",
   "execution_count": null,
   "metadata": {},
   "outputs": [],
   "source": [
    "chaine = \"Le petit chut est mort\"\n",
    "liste = chaine.split()\n",
    "liste[2] = liste[2].replace(\"u\", \"a\")\n",
    "chaine = \" \".join(liste)\n",
    "print chaine"
   ]
  },
  {
   "cell_type": "markdown",
   "metadata": {},
   "source": [
    "### Le slicing"
   ]
  },
  {
   "cell_type": "markdown",
   "metadata": {},
   "source": [
    "Prédisez le résultat des scripts suivants :\n",
    "```\n",
    "a = ['b','a',3,4,5]\n",
    "print a[a[2]]*a[1]\n",
    "print a[:-3]+a[-2:-1]\n",
    "```\n",
    "---\n",
    "```\n",
    "a = [2,'3',[2],'ab']\n",
    "print a[a[0]]*a[1]\n",
    "print a[0]*a[a[2]]\n",
    "```\n",
    "---\n",
    "```\n",
    "a = ['a',2,[4,[]],'bc']\n",
    "print a[2][:1]*5\n",
    "print a[-2]*a[1]\n",
    "```\n",
    "---\n",
    "```\n",
    "a = ['a','b','c']\n",
    "print a[::-1]\n",
    "```"
   ]
  },
  {
   "cell_type": "markdown",
   "metadata": {
    "collapsed": true
   },
   "source": [
    "### Vos réponses"
   ]
  },
  {
   "cell_type": "markdown",
   "metadata": {},
   "source": [
    "Écrivez vos réponses ici. Veillez à choisir le bon format de cellules pour vos réponses au format texte ou au format python."
   ]
  },
  {
   "cell_type": "markdown",
   "metadata": {},
   "source": [
    "- aaaa\n",
    "- ['b', 'a', 4]\n",
    "---\n",
    "- Revient à faire `[2] * '3'` Impossible de multiplier une liste par un type str\n",
    "- Revient à faire `2 * a[[2]] ` N'est pas simplifiable : impossible d'avoir une liste comme indice d'une séquence.\n",
    "---\n",
    "- [4, 4, 4, 4, 4]\n",
    "- [4, [], 4, []]\n",
    "---\n",
    "- ['c', 'b', 'a']"
   ]
  }
 ],
 "metadata": {
  "kernelspec": {
   "display_name": "Python 3",
   "language": "python",
   "name": "python3"
  },
  "language_info": {
   "codemirror_mode": {
    "name": "ipython",
    "version": 3
   },
   "file_extension": ".py",
   "mimetype": "text/x-python",
   "name": "python",
   "nbconvert_exporter": "python",
   "pygments_lexer": "ipython3",
   "version": "3.6.6"
  }
 },
 "nbformat": 4,
 "nbformat_minor": 1
}
