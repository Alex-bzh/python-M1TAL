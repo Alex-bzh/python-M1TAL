{
 "cells": [
  {
   "cell_type": "markdown",
   "id": "1927b88d-35f4-47c6-8992-b9b8fa3b2189",
   "metadata": {},
   "source": [
    "# Le crâne de Jussac"
   ]
  },
  {
   "cell_type": "markdown",
   "id": "07667c38-e1e9-44b5-b48a-1bfda774689c",
   "metadata": {},
   "source": [
    "Jussac, Auvergne. Le crâne d’un animal préhistorique est découvert. De la famille des canidés, les scientifiques se demandent s’il tenait plus du chien ou du loup. Saurez-vous répondre à la question ?\n",
    "\n",
    "Votre analyse en composantes principales ne devra reposer que sur les outils ci-dessous :"
   ]
  },
  {
   "cell_type": "code",
   "execution_count": null,
   "id": "706c2ecf-20c8-424a-8d59-cc2197f7de3d",
   "metadata": {},
   "outputs": [],
   "source": [
    "import matplotlib.pyplot as plt\n",
    "import numpy as np\n",
    "import pandas as pd\n",
    "import seaborn as sns"
   ]
  },
  {
   "cell_type": "markdown",
   "id": "4bf8d557-93bc-4ed1-919e-fe5f8f0b2f6b",
   "metadata": {},
   "source": [
    "## Présentation des données"
   ]
  },
  {
   "cell_type": "markdown",
   "id": "46f7734f-8365-43d2-a931-d0a2587d68e4",
   "metadata": {},
   "source": [
    "Le jeu de données est constitué de 43 individus, dont 30 chiens et 12 loups, décrits à l’aide de six caractéristiques physiques :\n",
    "\n",
    "|Variable|Description|Unité|\n",
    "|:-:|:-|:-:|\n",
    "|*LCB*|Longueur condylo-basale|mm|\n",
    "|*LMS*|Longueur de la mâchoire supérieure|mm|\n",
    "|*LBM*|Largeur bi-maxilaire|mm|\n",
    "|*LP*|Longueur de la carnassière supérieure|mm|\n",
    "|*LM*|Longueur de la première molaire supérieure|mm|\n",
    "|*LAM*|Largeur de la première molaire supérieure|mm|\n",
    "|*Espèce*|Facteur à deux niveaux : `chien` ou `loup`|-|\n",
    "\n",
    "> Bonis, Louis & Lebeaux, M.-O. (1974). — À propos d'un crâne de Canidé découvert dans le Quaternaire du Cantal : étude multidimensionnelle des caractères discriminants entre chiens et loups. *Mammalia* vol. 38, n° 4, p. 717-728. https://doi.org/10.1515/mamm.1974.38.4.717."
   ]
  },
  {
   "cell_type": "markdown",
   "id": "c3f45860-45eb-4925-bbfc-4470223d0ca2",
   "metadata": {},
   "source": [
    "## Préparation des données"
   ]
  },
  {
   "cell_type": "markdown",
   "id": "94acade2-89cd-4f3d-8336-73a16e0d5d04",
   "metadata": {},
   "source": [
    "Commencez par charger [les données](../data/jussac.csv) dans un *data frame*, sachant que le séparateur est la tabulation :"
   ]
  },
  {
   "cell_type": "code",
   "execution_count": null,
   "id": "5959e89d-8e53-4c35-b225-3be74864d571",
   "metadata": {},
   "outputs": [],
   "source": [
    "# your code here"
   ]
  },
  {
   "cell_type": "markdown",
   "id": "92879398-3d85-40ed-bf9d-41ba5c801b85",
   "metadata": {},
   "source": [
    "Dans une variable `data`, centrez et réduisez les variables :"
   ]
  },
  {
   "cell_type": "code",
   "execution_count": null,
   "id": "7f2f191e-da4b-4614-9ed0-fb891b039052",
   "metadata": {},
   "outputs": [],
   "source": [
    "# your code here"
   ]
  },
  {
   "cell_type": "markdown",
   "id": "fdbb1632-1f68-41cb-b8a8-3133748ca52d",
   "metadata": {},
   "source": [
    "## Décomposition des données en composantes principales"
   ]
  },
  {
   "cell_type": "markdown",
   "id": "14ed8cc2-79f7-44ce-8254-13250ad0ed30",
   "metadata": {},
   "source": [
    "### La matrice de covariance"
   ]
  },
  {
   "cell_type": "markdown",
   "id": "eda599a0-0b54-4273-97ba-81872caafc2e",
   "metadata": {},
   "source": [
    "Produisez une matrice de covariance :"
   ]
  },
  {
   "cell_type": "code",
   "execution_count": null,
   "id": "f0b69fc9-e8d7-46e2-b6de-9538ce55828d",
   "metadata": {},
   "outputs": [],
   "source": [
    "# your code here"
   ]
  },
  {
   "cell_type": "markdown",
   "id": "9f453f2d-c736-4989-95e2-bceff7086c0c",
   "metadata": {},
   "source": [
    "Vérifiez que vous disposez bien d’une matrice carrée de taille $(6, 6)$ :"
   ]
  },
  {
   "cell_type": "code",
   "execution_count": null,
   "id": "13095c4f-5c81-43a4-ba58-c2640f5e438a",
   "metadata": {},
   "outputs": [],
   "source": [
    "# your code here"
   ]
  },
  {
   "cell_type": "markdown",
   "id": "a9050e62-5beb-478a-a976-09049ea51c37",
   "metadata": {},
   "source": [
    "### La décomposition en vecteurs et valeurs propres"
   ]
  },
  {
   "cell_type": "markdown",
   "id": "39f40f0c-a45f-40c1-b9c6-12d16c5a8f68",
   "metadata": {},
   "source": [
    "Décomposez la matrice de covariance en vecteurs et valeurs propres :"
   ]
  },
  {
   "cell_type": "code",
   "execution_count": null,
   "id": "4623e10e-8263-4cfa-8ca9-d312e871f047",
   "metadata": {},
   "outputs": [],
   "source": [
    "# your code here"
   ]
  },
  {
   "cell_type": "markdown",
   "id": "c8ebe040-3c1f-46ba-88dc-3a7fb0489af6",
   "metadata": {},
   "source": [
    "Vérifiez à présent le taux de variance expliquée par chaque composante principale :"
   ]
  },
  {
   "cell_type": "code",
   "execution_count": null,
   "id": "92caed3a-519f-4e67-8a5f-757447c54909",
   "metadata": {},
   "outputs": [],
   "source": [
    "# your code here"
   ]
  },
  {
   "cell_type": "markdown",
   "id": "145a7e71-b696-44db-8482-0a2ecc039ad1",
   "metadata": {},
   "source": [
    "Vous devriez trouver que la dernière composante principale, PC6, en révèle davantage que la précédente. Rétablissez l’ordre décroissant :"
   ]
  },
  {
   "cell_type": "code",
   "execution_count": null,
   "id": "5e500115-03a1-470e-a67b-f41a46b47683",
   "metadata": {},
   "outputs": [],
   "source": [
    "# your code here"
   ]
  },
  {
   "cell_type": "markdown",
   "id": "1ff51ef4-7834-4864-9ed0-108ad5a9f031",
   "metadata": {},
   "source": [
    "### Détermination du nombre de facteurs"
   ]
  },
  {
   "cell_type": "markdown",
   "id": "87a677cd-5a04-433a-9f51-88514e7fc7d5",
   "metadata": {},
   "source": [
    "Affichez le diagramme d’éboulis :"
   ]
  },
  {
   "cell_type": "code",
   "execution_count": null,
   "id": "1a36c4c5-ba2e-4452-9d16-deeb5a8b8b46",
   "metadata": {},
   "outputs": [],
   "source": [
    "_ = sns.lineplot(x=range(1, len(eigenvalues) + 1), y=eigenvalues)\n",
    "plt.title(\"Diagramme d’éboulis\")\n",
    "plt.xlabel(\"Numéro de la composante principale\")\n",
    "plt.ylabel(\"Explication de la variance\")\n",
    "sns.despine()"
   ]
  },
  {
   "cell_type": "markdown",
   "id": "21111abb-0606-4930-a908-dc413bc9a61d",
   "metadata": {},
   "source": [
    "Si le diagramme d’éboulis vous suffit pour choisir le nombre de composantes principales à charger ensuite dans le jeu de données, passez à l’étape de réduction de la dimension. Autrement, testez d’autres méthodes :"
   ]
  },
  {
   "cell_type": "code",
   "execution_count": null,
   "id": "538fd42c-9ff6-4efb-ac0e-6efb7ef7449c",
   "metadata": {},
   "outputs": [],
   "source": [
    "# your code here"
   ]
  },
  {
   "cell_type": "markdown",
   "id": "13f3cd1b-0a64-4507-bcb0-7b12019762be",
   "metadata": {},
   "source": [
    "### Réduction de la dimensionnalité"
   ]
  },
  {
   "cell_type": "markdown",
   "id": "66bf3b09-f3b1-4c0b-be6a-1e4a7229c33b",
   "metadata": {},
   "source": [
    "Sélectionnez la matrice des composantes principales, limitées à celles que vous avez sélectionnées à l’étape précédente, et chargez-la dans le jeu de données centrées-réduites :"
   ]
  },
  {
   "cell_type": "code",
   "execution_count": null,
   "id": "10eef0fa-069a-4434-ad49-b0327a939500",
   "metadata": {},
   "outputs": [],
   "source": [
    "# your code here"
   ]
  },
  {
   "cell_type": "markdown",
   "id": "b8d8f966-ec92-44eb-b64d-8b7bb4fc3c92",
   "metadata": {},
   "source": [
    "## Produire une analyse"
   ]
  },
  {
   "cell_type": "markdown",
   "id": "7c6e9a3e-63f9-4f1b-a0a0-5694d4b76938",
   "metadata": {},
   "source": [
    "En vous aidant des modes de représentations que vous connaissez, à savoir le cercle des corrélations et/ou le nuage de points, déterminez si l’individu n° 42 était un chien ou un loup :"
   ]
  },
  {
   "cell_type": "code",
   "execution_count": null,
   "id": "45761442-2168-486a-bd2b-6fa6aede0231",
   "metadata": {},
   "outputs": [],
   "source": [
    "# your code here"
   ]
  }
 ],
 "metadata": {
  "kernelspec": {
   "display_name": "Python 3 (ipykernel)",
   "language": "python",
   "name": "python3"
  },
  "language_info": {
   "codemirror_mode": {
    "name": "ipython",
    "version": 3
   },
   "file_extension": ".py",
   "mimetype": "text/x-python",
   "name": "python",
   "nbconvert_exporter": "python",
   "pygments_lexer": "ipython3",
   "version": "3.10.6"
  }
 },
 "nbformat": 4,
 "nbformat_minor": 5
}
