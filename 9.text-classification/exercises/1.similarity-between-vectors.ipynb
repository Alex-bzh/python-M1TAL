{
 "cells": [
  {
   "cell_type": "markdown",
   "id": "8ca0cb86-5987-432e-8dbb-81fd60789921",
   "metadata": {},
   "source": [
    "# La similarité entre deux vecteurs"
   ]
  },
  {
   "cell_type": "markdown",
   "id": "c79f3aff-ea4f-4063-9322-37e8755e0f0d",
   "metadata": {},
   "source": [
    "Ce court exercice vous permettra d’appréhender un peu mieux la notion de similarité cosinus entre deux vecteurs."
   ]
  },
  {
   "cell_type": "markdown",
   "id": "51f93842-33d0-4708-9b3d-e97fa0b984b4",
   "metadata": {},
   "source": [
    "## Termes"
   ]
  },
  {
   "cell_type": "markdown",
   "id": "51c29183-65cd-4edf-8b7f-2fe1ad57d799",
   "metadata": {},
   "source": [
    "Prenons deux vecteurs $\\vec{A}$ et $\\vec{B}$ constitués de deux attributs :\n",
    "\n",
    "$$\n",
    "\\vec{A} = \\begin{pmatrix}\n",
    "    8 \\\\\n",
    "    3\n",
    "\\end{pmatrix}\n",
    "\\hspace{2em}\n",
    "\\vec{B} = \\begin{pmatrix}\n",
    "    4 \\\\\n",
    "    7\n",
    "\\end{pmatrix}\n",
    "$$\n",
    "\n",
    "Considérons leurs attributs comme des coordonnées afin de les représenter dans un plan :\n",
    "\n",
    "![Deux points dans un espace à deux dimensions](../images/points-in-plane.png)\n",
    "\n",
    "Si l’on trace maintenant une droite depuis l’origine $(0,0)$, on obtient les vecteurs :\n",
    "\n",
    "![Deux vecteurs dans le plan](../images/vectors-in-plane.png)\n",
    "\n",
    "Établir la similitude entre ces vecteurs revient à calculer l’angle entre eux :\n",
    "\n",
    "![Deux vecteurs dans le plan](../images/angle-between-vectors.png)"
   ]
  },
  {
   "cell_type": "markdown",
   "id": "04453fb4-c752-4859-911d-cbb9c481038a",
   "metadata": {},
   "source": [
    "## La similarité cosinus"
   ]
  },
  {
   "cell_type": "markdown",
   "id": "7968ffb1-4af4-44aa-86c8-4196c6a8080c",
   "metadata": {},
   "source": [
    "Pour trouver l’angle entre les vecteurs, il est nécessaire de calculer d’abord leur cosinus puis leur cosinus inverse. La similarité cosinus est simplement une expression pour déclarer que nous allons utiliser le rapport entre deux vecteurs pour quantifier leur similitude.\n",
    "\n",
    "Pour rappel, le cosinus entre deux vecteurs établit un rapport entre leur produit scalaire et celui de leurs normes euclidiennes :\n",
    "\n",
    "$$\n",
    "\\cos \\theta = \\frac{\\vec{A} \\cdot \\vec{B}}{\\| \\vec{A} \\| \\| \\vec{B} \\|}\n",
    "$$"
   ]
  },
  {
   "cell_type": "markdown",
   "id": "de9c7bf9-d9b2-41e5-807c-b43d70568db2",
   "metadata": {},
   "source": [
    "### 1e étape : le produit scalaire entre deux vecteurs"
   ]
  },
  {
   "cell_type": "markdown",
   "id": "09253a96-db47-4a4b-8972-52edadd0a10d",
   "metadata": {},
   "source": [
    "Commencez par calculer le produit scalaire entre les vecteurs $\\vec{A}$ et $\\vec{B}$ dans une variable `AB`. Pour rappel, il s’agit d’additionner le produit de leurs attributs :\n",
    "\n",
    "$$\n",
    "\\vec{A} \\cdot \\vec{B} = (A_1 \\cdot B_1) + (A_2 \\cdot B_2)\n",
    "$$"
   ]
  },
  {
   "cell_type": "code",
   "execution_count": 1,
   "id": "d36a1c54-4324-43a3-a543-41fd4eb4eea9",
   "metadata": {},
   "outputs": [],
   "source": [
    "# your code here\n",
    "A = [8, 3]\n",
    "B = [4, 7]\n",
    "\n",
    "AB = (A[0] * B[0]) + (A[1] * B[1])"
   ]
  },
  {
   "cell_type": "code",
   "execution_count": 2,
   "id": "524f8f8e-5288-4912-ad74-7daeae45d1ef",
   "metadata": {},
   "outputs": [
    {
     "data": {
      "text/plain": [
       "53"
      ]
     },
     "execution_count": 2,
     "metadata": {},
     "output_type": "execute_result"
    }
   ],
   "source": [
    "AB"
   ]
  },
  {
   "cell_type": "markdown",
   "id": "2b57ea78-e5a4-4eec-898f-98410c1f4360",
   "metadata": {},
   "source": [
    "### 2e étape : le produit des normes euclidiennes"
   ]
  },
  {
   "cell_type": "markdown",
   "id": "582ed416-1623-4fdf-90dd-0603d4df0725",
   "metadata": {},
   "source": [
    "La formule pour calculer la norme d’un vecteur est :\n",
    "\n",
    "$$\n",
    "\\| \\vec{A} \\| = \\sqrt{\\vec{A} \\cdot \\vec{A}}\n",
    "$$\n",
    "\n",
    "Établissez les normes de $\\vec{A}$ et $\\vec{B}$ puis calculez leur produit dans une variable `p_norm` :"
   ]
  },
  {
   "cell_type": "code",
   "execution_count": 4,
   "id": "4529a5a2-b574-4a70-820a-6ea47195fa5f",
   "metadata": {},
   "outputs": [],
   "source": [
    "# your code here\n",
    "norm_A = ((A[0] * A[0]) + (A[1] * A[1])) ** .5\n",
    "norm_B = ((B[0] * B[0]) + (B[1] * B[1])) ** .5\n",
    "\n",
    "p_norm = norm_A * norm_B"
   ]
  },
  {
   "cell_type": "code",
   "execution_count": 5,
   "id": "7826af47-0758-47bb-ae94-d40e1d163fcc",
   "metadata": {},
   "outputs": [
    {
     "data": {
      "text/plain": [
       "68.88396039717809"
      ]
     },
     "execution_count": 5,
     "metadata": {},
     "output_type": "execute_result"
    }
   ],
   "source": [
    "p_norm"
   ]
  },
  {
   "cell_type": "markdown",
   "id": "7c77cbeb-9e4e-4b05-b05c-86252adfa191",
   "metadata": {},
   "source": [
    "### 3e étape : le rapport entre les mesures"
   ]
  },
  {
   "cell_type": "markdown",
   "id": "fb6b38c6-be96-475e-87f3-83440b7a41f3",
   "metadata": {},
   "source": [
    "Effectuez à présent le rapport entre les deux mesures précédentes, contenues dans les variables `AB` et `p_norm` afin d’obtenir le cosinus des vecteurs $\\vec{A}$ et $\\vec{B}$ dans une variable `cos` :"
   ]
  },
  {
   "cell_type": "code",
   "execution_count": null,
   "id": "040d66ab-e2d9-4f8e-a6cc-2efdcf6e737c",
   "metadata": {},
   "outputs": [],
   "source": [
    "# your code here\n",
    "cos = / p"
   ]
  },
  {
   "cell_type": "markdown",
   "id": "6fc0c9b9-3088-4b0b-89aa-53b2d6006bb4",
   "metadata": {},
   "source": [
    "### Vérification avec la loi des cosinus"
   ]
  },
  {
   "cell_type": "markdown",
   "id": "23924cb6-a16e-49eb-850b-2f2f988ad7fd",
   "metadata": {},
   "source": [
    "Considérez à présent un vecteur $\\vec{O}$ qui serait positionné à l’origine de l’espace vectoriel, de telle manière que :\n",
    "\n",
    "$$\n",
    "\\vec{O} = \\begin{pmatrix}\n",
    "    0 \\\\\n",
    "    0\n",
    "\\end{pmatrix}\n",
    "$$\n",
    "\n",
    "En appliquant la loi des cosinus, vérifiez que votre calcul de l’indice de similarité entre les vecteurs $\\vec{A}$ et $\\vec{B}$ est correct :"
   ]
  },
  {
   "cell_type": "code",
   "execution_count": null,
   "id": "011d985a-57f1-4254-be7e-290a2e7257e8",
   "metadata": {},
   "outputs": [],
   "source": [
    "# your code here"
   ]
  },
  {
   "cell_type": "markdown",
   "id": "844d5565-b985-42f1-b1b4-bbb33fb6b9c0",
   "metadata": {},
   "source": [
    "## L’arc cosinus"
   ]
  },
  {
   "cell_type": "markdown",
   "id": "735e054b-11ec-4793-99e1-6b70d49bec2c",
   "metadata": {},
   "source": [
    "La formule de la fonction cosinus entre deux vecteurs permet d’établir que :\n",
    "\n",
    "$$\n",
    "\\theta = \\cos^{-1} \\left( \\frac{\\vec{A} \\cdot \\vec{B}}{\\| \\vec{A} \\| \\| \\vec{B} \\|} \\right)\n",
    "$$\n",
    "\n",
    "Comme vous avez obtenu précédemment le cosinus des vecteurs $\\vec{A}$ et $\\vec{B}$, nous pouvons maintenent calculer l’arc cosinus, à savoir la mesure de l’angle $\\theta$, avec la librairie *Numpy* :"
   ]
  },
  {
   "cell_type": "code",
   "execution_count": null,
   "id": "d80b618d-74cd-4bbf-97af-bab1bf014f54",
   "metadata": {},
   "outputs": [],
   "source": [
    "import numpy as np\n",
    "\n",
    "print(f\"L’arc cosinus des vecteurs A et B vaut : {np.arccos(cos)}\")"
   ]
  },
  {
   "cell_type": "markdown",
   "id": "94af8fac-77a7-4131-855c-a489570d1cc5",
   "metadata": {},
   "source": [
    "**Attention :** La valeur mesurée par la fonction `arccos()` n’est pas exprimée en degrés mais en radians ! La conversion est assez simple sachant que :\n",
    "\n",
    "$$\n",
    "2\\pi \\text{ rad} = 360^\\circ\n",
    "$$\n",
    "\n",
    "Alors :\n",
    "\n",
    "$$\n",
    "\\pi \\text{ rad} = 180^\\circ\n",
    "$$\n",
    "\n",
    "Donc :\n",
    "\n",
    "$$\n",
    "1 \\text{ rad} = \\frac{180^\\circ}{\\pi}\n",
    "$$\n",
    "\n",
    "Si nous effectuons la conversion :"
   ]
  },
  {
   "cell_type": "code",
   "execution_count": null,
   "id": "0ce19a88-c835-457d-82b4-065cde0ea625",
   "metadata": {},
   "outputs": [],
   "source": [
    "print(f\"L’angle entre les vecteurs A et B vaut approximativement {np.arccos(cos) * (180 / np.pi):.0f}°\")"
   ]
  }
 ],
 "metadata": {
  "kernelspec": {
   "display_name": "Python 3 (ipykernel)",
   "language": "python",
   "name": "python3"
  },
  "language_info": {
   "codemirror_mode": {
    "name": "ipython",
    "version": 3
   },
   "file_extension": ".py",
   "mimetype": "text/x-python",
   "name": "python",
   "nbconvert_exporter": "python",
   "pygments_lexer": "ipython3",
   "version": "3.11.10"
  }
 },
 "nbformat": 4,
 "nbformat_minor": 5
}
