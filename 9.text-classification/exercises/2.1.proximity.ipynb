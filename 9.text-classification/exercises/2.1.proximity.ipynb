{
 "cells": [
  {
   "cell_type": "markdown",
   "id": "b4cff6b5-4ff1-459b-ae6e-50f306098926",
   "metadata": {},
   "source": [
    "# Un vecteur timide"
   ]
  },
  {
   "cell_type": "markdown",
   "id": "b512a9da-c43b-4d9e-9a82-5cfe66365e89",
   "metadata": {},
   "source": [
    "Considérons trois vecteurs $\\vec{A}$, $\\vec{B}$ et $\\vec{C}$ :\n",
    "\n",
    "$$\n",
    "\\vec{A} = \\begin{pmatrix}\n",
    "    8 \\\\\n",
    "    3\n",
    "\\end{pmatrix}\n",
    "\\hspace{2em}\n",
    "\\vec{B} = \\begin{pmatrix}\n",
    "    4 \\\\\n",
    "    7\n",
    "\\end{pmatrix}\n",
    "\\hspace{2em}\n",
    "\\vec{C} = \\begin{pmatrix}\n",
    "    1 \\\\\n",
    "    9\n",
    "\\end{pmatrix}\n",
    "$$\n",
    "\n",
    "Représentons-les dans un plan :\n",
    "\n",
    "![Le vecteur A semble timide](../images/proximity.png)\n",
    "\n",
    "Prouvez que le vecteur $\\vec{C}$ est plus proche de $\\vec{B}$ que ne l’est $\\vec{A}$."
   ]
  },
  {
   "cell_type": "code",
   "execution_count": 7,
   "id": "7bbbd011-1407-4880-8693-898826ef7170",
   "metadata": {},
   "outputs": [
    {
     "name": "stdout",
     "output_type": "stream",
     "text": [
      "0.9177221168073145 0.7694098843098924\n"
     ]
    }
   ],
   "source": [
    "# your code here\n",
    "import numpy as np\n",
    "\n",
    "A = [8, 3]\n",
    "B = [4, 7]\n",
    "C = [1, 9]\n",
    "\n",
    "AB = np.dot(A, B)\n",
    "AC = np.dot(A, C)\n",
    "BC = np.dot(B, C)\n",
    "\n",
    "norm_A = np.linalg.norm(A)\n",
    "norm_B = np.linalg.norm(B)\n",
    "norm_C = np.linalg.norm(C)\n",
    "\n",
    "cos_AB = AB / np.dot(norm_A, norm_B)\n",
    "cos_AC = AC / np.dot(norm_A, norm_C)\n",
    "cos_BC = BC / np.dot(norm_B, norm_C)\n",
    "\n",
    "print(cos_BC, cos_AB)"
   ]
  },
  {
   "cell_type": "code",
   "execution_count": null,
   "id": "0bc874fb-e501-4b7d-bae7-0d24d396c44c",
   "metadata": {},
   "outputs": [],
   "source": []
  }
 ],
 "metadata": {
  "kernelspec": {
   "display_name": "Python 3 (ipykernel)",
   "language": "python",
   "name": "python3"
  },
  "language_info": {
   "codemirror_mode": {
    "name": "ipython",
    "version": 3
   },
   "file_extension": ".py",
   "mimetype": "text/x-python",
   "name": "python",
   "nbconvert_exporter": "python",
   "pygments_lexer": "ipython3",
   "version": "3.11.10"
  }
 },
 "nbformat": 4,
 "nbformat_minor": 5
}
