{
 "cells": [
  {
   "cell_type": "markdown",
   "id": "32339c78-2129-4def-ac4d-10e34a9ddbbe",
   "metadata": {},
   "source": [
    "# Interruption du fou"
   ]
  },
  {
   "cell_type": "markdown",
   "id": "245cf680-5daf-4f39-a4ba-a0f77e0239cd",
   "metadata": {},
   "source": [
    "Dans cet exercice, vous serez amené·e à calculer à la main le TF-IDF d’un terme dans un corpus avant de le comparer avec le résultat obtenu directement par la librairie *Scikit-Learn* pour mettre en évidence des variantes dans la méthodologie.\n",
    "\n",
    "Vous utiliserez trois extraits de Nietzsche avec pour objet d’étude le mot *devoirs*. Après tout, c’est toujours amusant de citer un philosophe sans contexte !\n",
    "\n",
    "> « Tous les hommes qui sentent qu’il leur faut les paroles et les intonations les plus violentes, les attitudes et les gestes les plus éloquents pour pouvoir agir, les politiciens révolutionnaires, les socialistes, les prédicateurs, avec ou sans christianisme, tous ceux qui veulent éviter les demi-succès : tous ceux-là parlent de *devoirs*, et toujours de devoirs qui ont un caractère absolu - autrement ils n’auraient point droit à leur pathos démesuré : ils le savent fort bien. » (*Le gai savoir*, I-5)\n",
    "\n",
    "> « Il faut connaître non seulement la marche hardie, légère, délicate et rapide de ses propres pensées, mais avant tout la disposition aux grandes responsabilités, la hauteur et la profondeur du regard impérieux, le sentiment d’être séparé de la foule, des devoirs et des vertus de la foule, la protection et la défense bienveillante de ce qui est mal compris et calomnié, que ce soit Dieu ou le diable ; le penchant et l’habileté à la suprême justice, l’art du commandement, l’ampleur de la volonté, la lenteur du regard qui rarement admire, rarement se lève, et aime rarement… » (*Par-delà le bien et le mal*, VI-213)\n",
    "\n",
    "> « Je vous le dis : il faut encore porter en soi un chaos, pour pouvoir mettre au monde une étoile dansante. Je vous le dis : vous portez encore un chaos en vous. » (*Ainsi parlait Zarathoustra*, I-5)"
   ]
  },
  {
   "cell_type": "markdown",
   "id": "1c8b724e-1aa2-48a0-80f1-c3415746bdbf",
   "metadata": {},
   "source": [
    "## Constituer un vocabulaire commun"
   ]
  },
  {
   "cell_type": "markdown",
   "id": "8eda88f1-ad7e-4c06-8b25-74aac9f35bc8",
   "metadata": {},
   "source": [
    "Afin d’éviter de constater des écarts à la marge, consécutifs à l’utilisation de méthodes différentes pour compter les mots (pour *Scikit-Learn*, *l’habileté* vaut un seul mot), vous établirez un vocabulaire qui servira aux deux.\n",
    "\n",
    "Commencez par charger le corpus en mémoire :"
   ]
  },
  {
   "cell_type": "code",
   "execution_count": null,
   "id": "7f6bab3d-ca06-45ab-a671-7e85943ffbb0",
   "metadata": {},
   "outputs": [],
   "source": [
    "corpus = [\n",
    "    \"Tous les hommes qui sentent qu’il leur faut les paroles et les intonations les plus violentes, les attitudes et les gestes les plus éloquents pour pouvoir agir, les politiciens révolutionnaires, les socialistes, les prédicateurs, avec ou sans christianisme, tous ceux qui veulent éviter les demi-succès : tous ceux-là parlent de devoirs, et toujours de devoirs qui ont un caractère absolu - autrement ils n’auraient point droit à leur pathos démesuré : ils le savent fort bien.\",\n",
    "    \"Il faut connaître non seulement la marche hardie, légère, délicate et rapide de ses propres pensées, mais avant tout la disposition aux grandes responsabilités, la hauteur et la profondeur du regard impérieux, le sentiment d’être séparé de la foule, des devoirs et des vertus de la foule, la protection et la défense bienveillante de ce qui est mal compris et calomnié, que ce soit Dieu ou le diable ; le penchant et l’habileté à la suprême justice, l’art du commandement, l’ampleur de la volonté, la lenteur du regard qui rarement admire, rarement se lève, et aime rarement…\",\n",
    "    \"Je vous le dis : il faut encore porter en soi un chaos, pour pouvoir mettre au monde une étoile dansante. Je vous le dis : vous portez encore un chaos en vous.\"\n",
    "]"
   ]
  },
  {
   "cell_type": "markdown",
   "id": "734d4cce-70ae-4bec-a545-2aea96045c2f",
   "metadata": {},
   "source": [
    "Convertissez, dans une variable `doc_words`, chaque document en une liste de mots transformés en bas de casse, en filtrant les mots vides du français :"
   ]
  },
  {
   "cell_type": "code",
   "execution_count": null,
   "id": "de462931-f00b-48c2-89d2-05d53ea913c6",
   "metadata": {},
   "outputs": [],
   "source": [
    "# your code here\n",
    "\n",
    "from nltk.tokenize import RegexpTokenizer\n",
    "from nltk.corpus import stopwords\n",
    "\n",
    "tokenizer = RegexpTokenizer('\\w+')\n",
    "fr_stopwords = stopwords.words('french')\n",
    "\n",
    "doc_words = [\n",
    "    [\n",
    "        word.lower()\n",
    "        for word in tokenizer.tokenize(doc)\n",
    "        if word not in fr_stopwords\n",
    "    ]\n",
    "    for doc in corpus\n",
    "]"
   ]
  },
  {
   "cell_type": "markdown",
   "id": "d148529c-d8ac-4f1a-a04b-cab9600b7b72",
   "metadata": {},
   "source": [
    "Constituez à présent le vocabulaire de vos documents :"
   ]
  },
  {
   "cell_type": "code",
   "execution_count": null,
   "id": "657615a8-2387-4e72-b625-1ec652d7cd52",
   "metadata": {},
   "outputs": [],
   "source": [
    "# your code here\n",
    "\n",
    "vocabulary = set()\n",
    "\n",
    "for doc in doc_words:\n",
    "    for word in doc:\n",
    "        vocabulary.add(word)\n",
    "\n",
    "# at the end, a list\n",
    "vocabulary = list(vocabulary)"
   ]
  },
  {
   "cell_type": "markdown",
   "id": "212a1ba5-1f1e-49e7-8032-cbdcb740c28c",
   "metadata": {},
   "source": [
    "## Une mesure TF-IDF à la main"
   ]
  },
  {
   "cell_type": "markdown",
   "id": "31084773-91dd-4a9e-890f-7be0d595496f",
   "metadata": {},
   "source": [
    "L’objet de votre étude étant le mot *devoirs*, vous ne vous concentrerez que sur ce terme."
   ]
  },
  {
   "cell_type": "markdown",
   "id": "9b081ae3-b729-4664-95b8-6ea5f82b3476",
   "metadata": {},
   "source": [
    "### La fréquence du terme"
   ]
  },
  {
   "cell_type": "markdown",
   "id": "97b1f9f6-3293-405a-8388-9851d8c11787",
   "metadata": {},
   "source": [
    "La formule qui permet de calculer $\\text{TF}$ est la suivante :\n",
    "\n",
    "$$\n",
    "\\text{TF}(w, n) = \\frac{w}{n}\n",
    "$$\n",
    "\n",
    "Sachant que $n$ est le nombre de mots du vocabulaire dans le document, quelle est la mesure TF de *devoirs* dans le corpus ?"
   ]
  },
  {
   "cell_type": "code",
   "execution_count": null,
   "id": "59eaa4f0-11fb-4b8f-8fe2-b208b5c178ef",
   "metadata": {},
   "outputs": [],
   "source": [
    "# your code here\n",
    "\n",
    "tfs = list()\n",
    "\n",
    "for doc in doc_words:\n",
    "    # number of words in the document\n",
    "    n = len(doc)\n",
    "    # occurrences of 'devoirs' set at 0\n",
    "    c = 0\n",
    "    # if 'devoirs' is found in the doc,\n",
    "    # increase the count\n",
    "    for word in doc:\n",
    "        if word == \"devoirs\":\n",
    "            c += 1\n",
    "    tfs.append(c / n)\n",
    "\n",
    "print(tfs)"
   ]
  },
  {
   "cell_type": "markdown",
   "id": "643b8d3a-b081-400d-b7f9-5f3155c20759",
   "metadata": {},
   "source": [
    "### La fréquence inverse de document"
   ]
  },
  {
   "cell_type": "markdown",
   "id": "c4ae892a-15b2-4aeb-a5f9-8e4c97d42748",
   "metadata": {},
   "source": [
    "La mesure IDF est régie par la formule ci-dessous :\n",
    "\n",
    "$$\n",
    "\\text{IDF}(d, N) = \\ln{\\frac{N}{d}}\n",
    "$$\n",
    "\n",
    "Sachant que $N$ est le nombre total de documents dans le corpus et $d$ le nombre de fois où le terme *devoirs* apparaît, quel est son IDF ?"
   ]
  },
  {
   "cell_type": "code",
   "execution_count": null,
   "id": "6356c5b4-6868-44ae-afc3-bd3f36153525",
   "metadata": {},
   "outputs": [],
   "source": [
    "# your code here\n",
    "\n",
    "from math import log as ln\n",
    "\n",
    "N = len(doc_words)\n",
    "\n",
    "d = sum([\n",
    "    doc.count(\"devoirs\")\n",
    "    for doc in doc_words\n",
    "])\n",
    "\n",
    "idf = ln(N / d)\n",
    "\n",
    "print(idf)"
   ]
  },
  {
   "cell_type": "markdown",
   "id": "c6210fd3-67e2-427b-898c-3e83320dafb6",
   "metadata": {},
   "source": [
    "### Calcul du TF-IDF"
   ]
  },
  {
   "cell_type": "markdown",
   "id": "0087b12c-6702-46c6-bf83-704b23bce30a",
   "metadata": {},
   "source": [
    "Il reste maintenant à appliquer la formule pour chaque document du corpus afin de s’apercevoir que le résultat est nul :\n",
    "\n",
    "$$\n",
    "\\text{TF-IDF}(d, t) = \\text{TF} \\cdot \\text{IDF}\n",
    "$$"
   ]
  },
  {
   "cell_type": "code",
   "execution_count": null,
   "id": "97b1e110-d539-429a-b0b2-6f94c2751d85",
   "metadata": {},
   "outputs": [],
   "source": [
    "# your code here\n",
    "\n",
    "tfidfs = [\n",
    "    tf * idf\n",
    "    for tf in tfs\n",
    "]\n",
    "\n",
    "print(tfidfs)"
   ]
  },
  {
   "cell_type": "markdown",
   "id": "f71cae19-45b4-4296-965d-d3c1e68c84d8",
   "metadata": {},
   "source": [
    "## Application avec *Scikit-Learn*"
   ]
  },
  {
   "cell_type": "markdown",
   "id": "2501cef3-668f-4e94-9b84-b5742d4b29ee",
   "metadata": {},
   "source": [
    "Commencez par importer le transformateur `TfidfVectorizer` :"
   ]
  },
  {
   "cell_type": "code",
   "execution_count": null,
   "id": "aec8a970-f29b-4f2b-9580-1fe7b433a17c",
   "metadata": {},
   "outputs": [],
   "source": [
    "# your code here\n",
    "\n",
    "from sklearn.feature_extraction.text import TfidfVectorizer"
   ]
  },
  {
   "cell_type": "markdown",
   "id": "f3578b0b-9d0a-4ff2-a3b8-137256a7ccf6",
   "metadata": {},
   "source": [
    "Avec le constructeur `TfidfVectorizer()`, créez une nouvelle instance de la classe, nommée `vectorizer`, en lui transmettant le vocabulaire défini plus haut :"
   ]
  },
  {
   "cell_type": "code",
   "execution_count": null,
   "id": "bc7f41ff-3da4-4c01-b95c-fe1fcf5af821",
   "metadata": {},
   "outputs": [],
   "source": [
    "# your code here\n",
    "\n",
    "vectorizer = TfidfVectorizer(vocabulary=vocabulary)"
   ]
  },
  {
   "cell_type": "markdown",
   "id": "01dc01ae-20df-4032-abad-cf97fe300a92",
   "metadata": {},
   "source": [
    "Ajustez et transformez votre `vectorizer` dans une nouvelle variable `tfidf` grâce à la méthode `.fit_transform()` :"
   ]
  },
  {
   "cell_type": "code",
   "execution_count": null,
   "id": "58696a12-9a69-4e7b-bb58-5e9d00054ee0",
   "metadata": {},
   "outputs": [],
   "source": [
    "# your code here\n",
    "\n",
    "tfidf = vectorizer.fit_transform(corpus)"
   ]
  },
  {
   "cell_type": "markdown",
   "id": "c4b4d37c-bfd1-4436-8e4c-46b3b1113d52",
   "metadata": {},
   "source": [
    "Sans surprise, le résultat n’est pas facilement compréhensible en l’état :"
   ]
  },
  {
   "cell_type": "code",
   "execution_count": null,
   "id": "7b3f1449-76f4-417b-91f1-0f1529598721",
   "metadata": {},
   "outputs": [],
   "source": [
    "print(tfidf)"
   ]
  },
  {
   "cell_type": "markdown",
   "id": "f0d7764b-541f-4801-a91f-f426341808db",
   "metadata": {},
   "source": [
    "Comme vous ne vous intéressez qu’au résultat pour le mot *devoirs*, recherchez son indice dans le vocabulaire. Utilisez pour cela l’attribut spécial `.vocabulary_` de votre `vectorizer` :"
   ]
  },
  {
   "cell_type": "code",
   "execution_count": null,
   "id": "4cef3e75-7869-41e1-a82b-61d10091ab1d",
   "metadata": {},
   "outputs": [],
   "source": [
    "# your code here\n",
    "\n",
    "vectorizer.vocabulary_['devoirs']"
   ]
  },
  {
   "cell_type": "markdown",
   "id": "9e717613-c38b-4942-9d15-5ad866db36dc",
   "metadata": {},
   "source": [
    "Il est désormais plus simple de rechercher la mesure TF-IDF dans chaque document en utilisant par exemple la méthode `.getrow()` :"
   ]
  },
  {
   "cell_type": "code",
   "execution_count": null,
   "id": "482411eb-4388-43ea-a672-acdeca450ae5",
   "metadata": {},
   "outputs": [],
   "source": [
    "print(tfidf.getrow(0))"
   ]
  },
  {
   "cell_type": "markdown",
   "id": "6e586e89-d4fc-44f2-8087-ed98c4130872",
   "metadata": {},
   "source": [
    "De manière plus concise, vous pouvez transposer la matrice afin d’interroger directement le numéro d’indice :"
   ]
  },
  {
   "cell_type": "code",
   "execution_count": null,
   "id": "fa35c03b-c7b4-4a32-8f3c-696f6977bdc7",
   "metadata": {},
   "outputs": [],
   "source": [
    "print(tfidf.T[62])"
   ]
  },
  {
   "cell_type": "markdown",
   "id": "96bbcba7-2592-4d5c-925f-347b073efe82",
   "metadata": {},
   "source": [
    "Une autre manière plus parlante serait de passer par *Pandas* :"
   ]
  },
  {
   "cell_type": "code",
   "execution_count": null,
   "id": "be529af9-c7a8-4bff-b322-aa2634f14415",
   "metadata": {},
   "outputs": [],
   "source": [
    "import pandas as pd\n",
    "\n",
    "df = pd.DataFrame(\n",
    "    tfidf.T.todense(),\n",
    "    index=vectorizer.get_feature_names_out()\n",
    ")\n",
    "\n",
    "print(\n",
    "    f\"TF-IDF de 'devoirs' dans le document 0 : {df[0].devoirs}\",\n",
    "    f\"TF-IDF de 'devoirs' dans le document 1 : {df[1].devoirs}\",\n",
    "    f\"TF-IDF de 'devoirs' dans le document 2 : {df[2].devoirs}\",\n",
    "    sep=\"\\n\"\n",
    ")"
   ]
  },
  {
   "cell_type": "markdown",
   "id": "5d3c9874-e342-466f-82f0-be11c759395b",
   "metadata": {},
   "source": [
    "Étonnant, non ? Quand vous aviez calculé à la main le TF-IDF du terme *devoirs* dans le corpus, vous aviez obtenu une mesure de 0 pour chaque document.\n",
    "\n",
    "Dans la suite de l’exercice, vous allez comprendre que *Scikit-Learn* utilise une variante du calcul de la mesure avant de rajouter une étape de normalisation."
   ]
  },
  {
   "cell_type": "markdown",
   "id": "42bbb950-e3d4-4015-a9c1-f9c8278c0da3",
   "metadata": {},
   "source": [
    "## Le fin mot de l’histoire"
   ]
  },
  {
   "cell_type": "markdown",
   "id": "66c6d162-fab2-416f-92dc-fdf697a2876b",
   "metadata": {},
   "source": [
    "Les ajustements de *Scikit-Learn* se situent en fait à plusieurs niveaux :\n",
    "\n",
    "- déjà, dans la formule TF-IDF, TF vaut pour la fréquence brute ;\n",
    "- ensuite, afin d’éviter les divisions par zéro, il ajoute par défaut un document où figurerait tous les termes du vocabulaire ;\n",
    "- enfin, il applique en sortie une normalisation euclidienne."
   ]
  },
  {
   "cell_type": "markdown",
   "id": "8d587b62-1274-410b-a92b-6f69cefd8344",
   "metadata": {},
   "source": [
    "### Calcul de la fréquence brute"
   ]
  },
  {
   "cell_type": "markdown",
   "id": "29594963-e11d-400e-a1ec-e4fe698af6f3",
   "metadata": {},
   "source": [
    "Dans le cadre de votre analyse sur le terme *devoirs*, il apparaît ainsi que son TF vaut pour les documents du corpus :"
   ]
  },
  {
   "cell_type": "code",
   "execution_count": null,
   "id": "f82a7597-508f-4c41-a421-46ad51a55df2",
   "metadata": {},
   "outputs": [],
   "source": [
    "tfs = [\n",
    "    doc.count(\"devoirs\")\n",
    "    for doc in corpus\n",
    "]\n",
    "\n",
    "print(tfs)"
   ]
  },
  {
   "cell_type": "markdown",
   "id": "54ac241d-bbbc-461a-831d-46b4c433ae51",
   "metadata": {},
   "source": [
    "### Calcul de l’IDF lissé"
   ]
  },
  {
   "cell_type": "markdown",
   "id": "5dcb9cdc-bd7e-4b30-83d9-1f70f20452fd",
   "metadata": {},
   "source": [
    "Lors du paramétrage du transformateur, un paramètre `smooth_idf` est fixé par défaut à `True`, ce qui active une variante du calcul IDF :\n",
    "\n",
    "$$\n",
    "\\text{IDF}(d, N) = \\ln{\\frac{1 + N}{1 + d}} + 1\n",
    "$$\n",
    "\n",
    "Pour le terme *devoirs*, la mesure IDF devient alors :"
   ]
  },
  {
   "cell_type": "code",
   "execution_count": null,
   "id": "95e7e8c1-140a-4a6b-977c-61553a81fe25",
   "metadata": {},
   "outputs": [],
   "source": [
    "N = len(doc_words)\n",
    "\n",
    "d = sum([\n",
    "    doc.count(\"devoirs\")\n",
    "    for doc in doc_words\n",
    "])\n",
    "\n",
    "idf = ln( (1 + N) / (1 + d) ) + 1\n",
    "\n",
    "print(idf)"
   ]
  },
  {
   "cell_type": "markdown",
   "id": "ef725b31-7fc1-4704-a750-9fc70afec562",
   "metadata": {},
   "source": [
    "**Remarque :** si vous fixez le paramètre `smooth_idf` à `False`, la formule n’est pas encore tout à fait celle que vous connaissez, puisqu’elle ajoute 1 au calcul du logarithme :\n",
    "\n",
    "$$\n",
    "\\text{IDF}(d, N) = \\ln{\\frac{N}{d}} + 1\n",
    "$$"
   ]
  },
  {
   "cell_type": "markdown",
   "id": "ac0ed3f2-30a0-4dbb-9899-6d3efaf72ee5",
   "metadata": {},
   "source": [
    "### Calcul du TF-IDF"
   ]
  },
  {
   "cell_type": "markdown",
   "id": "43828df3-d3a1-4c02-8814-1a465a5b2078",
   "metadata": {},
   "source": [
    "Il ne reste plus qu’à multiplier les deux mesures pour obtenir le TF-IDF de *devoirs* :"
   ]
  },
  {
   "cell_type": "code",
   "execution_count": null,
   "id": "7d463f91-49f0-46c8-81c0-2bcc5511f632",
   "metadata": {},
   "outputs": [],
   "source": [
    "tfidf = list(map(lambda tf: tf * idf, tfs))\n",
    "\n",
    "print(tfidf)"
   ]
  },
  {
   "cell_type": "markdown",
   "id": "ccfb4511-4c91-4159-9f93-0dcbfb1e01cd",
   "metadata": {},
   "source": [
    "### Normalisation du TF-IDF"
   ]
  },
  {
   "cell_type": "markdown",
   "id": "13aac0f8-d921-46a9-b35e-03132197d569",
   "metadata": {},
   "source": [
    "Là encore, le constructeur expose un paramètre pour appliquer ou non une couche de normalisation. Si `norm` est à `l2`, sa valeur par défaut, alors la somme des carrés des éléments du vecteur vaudra 1."
   ]
  },
  {
   "cell_type": "markdown",
   "id": "a278b035-159b-486d-9daa-c7fa7006a1b8",
   "metadata": {},
   "source": [
    "## Vérification"
   ]
  },
  {
   "cell_type": "markdown",
   "id": "cba14d6c-2171-4c4f-8450-d8e53f02baa7",
   "metadata": {},
   "source": [
    "Considérez un corpus encore plus restreint afin de faciliter la vérification de ces principes :"
   ]
  },
  {
   "cell_type": "code",
   "execution_count": null,
   "id": "f29aac67-0edc-489c-aecf-7513d3e23b25",
   "metadata": {},
   "outputs": [],
   "source": [
    "corpus = [\n",
    "    \"little cats are nicer than old cats\",\n",
    "    \"cats don't stay little for long\"\n",
    "]"
   ]
  },
  {
   "cell_type": "markdown",
   "id": "ede24362-c97b-4b21-b99b-027cf97cfcd7",
   "metadata": {},
   "source": [
    "Obtenez la matrice TF-IDF de ce corpus en limitant à un vocabulaire volontairement réduit :"
   ]
  },
  {
   "cell_type": "code",
   "execution_count": null,
   "id": "1242b591-9d65-41ab-958d-d619cca8c3b0",
   "metadata": {},
   "outputs": [],
   "source": [
    "vocabulary = [\"little\", \"cats\", \"old\", \"long\"]\n",
    "vectorizer = TfidfVectorizer(vocabulary=vocabulary)\n",
    "X = vectorizer.fit_transform(corpus)"
   ]
  },
  {
   "cell_type": "markdown",
   "id": "86213dc4-2d24-4a93-83f6-b748a4039f4f",
   "metadata": {},
   "source": [
    "Affichez le résultat :"
   ]
  },
  {
   "cell_type": "code",
   "execution_count": null,
   "id": "908e0389-3c33-4b0a-8e10-b1e9ae0aab6d",
   "metadata": {},
   "outputs": [],
   "source": [
    "print(X)"
   ]
  },
  {
   "cell_type": "markdown",
   "id": "a0c0abf7-0d52-47f3-9738-2dd54640aee7",
   "metadata": {},
   "source": [
    "À présent, construisez à la main une matrice des occurrences des termes du vocabulaire pour représenter le TF de chaque terme dans le vecteur :"
   ]
  },
  {
   "cell_type": "code",
   "execution_count": null,
   "id": "a35e002d-ab0f-436a-b2b4-8553505fed81",
   "metadata": {},
   "outputs": [],
   "source": [
    "# voc: 'little', 'cats', 'old', 'long'\n",
    "A = [1, 2, 1, 0]\n",
    "B = [1, 1, 0, 1]"
   ]
  },
  {
   "cell_type": "markdown",
   "id": "ea82bcee-9d11-406d-b0b3-fcc2688b23c3",
   "metadata": {},
   "source": [
    "Appliquez la formule IDF pour chaque mot :"
   ]
  },
  {
   "cell_type": "code",
   "execution_count": null,
   "id": "01dab18a-fcc7-4684-a37f-29f187e9078d",
   "metadata": {},
   "outputs": [],
   "source": [
    "little = ln((1 + 2) / (1 + 2)) + 1\n",
    "cats   = ln((1 + 2) / (1 + 2)) + 1\n",
    "old    = ln((1 + 2) / (1 + 1)) + 1\n",
    "long   = ln((1 + 2) / (1 + 1)) + 1"
   ]
  },
  {
   "cell_type": "markdown",
   "id": "2f695b62-4a13-401d-9ae4-7dc41b518876",
   "metadata": {},
   "source": [
    "Trouvez maintenant leur mesure TF-IDF :"
   ]
  },
  {
   "cell_type": "code",
   "execution_count": null,
   "id": "731b4021-9fb1-479c-8365-b21574dcf88d",
   "metadata": {},
   "outputs": [],
   "source": [
    "tfidf_A = [1 * little, 2 * cats, 1 * old, 0 * long]\n",
    "tfidf_B = [1 * little, 1 * cats, 0 * old, 1 * long]"
   ]
  },
  {
   "cell_type": "markdown",
   "id": "30bdcc63-2b69-4724-9a15-fa93bf9e422a",
   "metadata": {},
   "source": [
    "Vous obtenez ainsi la matrice creuse :"
   ]
  },
  {
   "cell_type": "code",
   "execution_count": null,
   "id": "05055f4a-7224-41a1-9a70-a07b4be7bbf9",
   "metadata": {},
   "outputs": [],
   "source": [
    "import numpy as np\n",
    "\n",
    "np.array([\n",
    "    tfidf_A,\n",
    "    tfidf_B\n",
    "])"
   ]
  },
  {
   "cell_type": "markdown",
   "id": "09651a9c-0434-453c-90ae-8be3a487f7af",
   "metadata": {},
   "source": [
    "Chaque vecteur est ensuite normalisé en divisant le TF-IDF par la racine carrée de la somme des carrés du vecteur :"
   ]
  },
  {
   "cell_type": "code",
   "execution_count": null,
   "id": "381afb40-a3d1-4378-a2f7-1bd1aa17943c",
   "metadata": {},
   "outputs": [],
   "source": [
    "tfidf_A_little = 1 / ( (1 ** 2) + (2 ** 2) + (1.40546511 ** 2) ) ** 0.5\n",
    "tfidf_A_cats   = 2 / ( (1 ** 2) + (2 ** 2) + (1.40546511 ** 2) ) ** 0.5\n",
    "tfidf_A_old    = 1.40546511 / ( (1 ** 2) + (2 ** 2) + (1.40546511 ** 2) ) ** 0.5\n",
    "tfidf_A_long   = 0 / ( (1 ** 2) + (2 ** 2) + (1.40546511 ** 2) ) ** 0.5\n",
    "\n",
    "tfidf_B_little = 1 / ( (1 ** 2) + (1 ** 2) + (1.40546511 ** 2) ) ** 0.5\n",
    "tfidf_B_cats   = 1 / ( (1 ** 2) + (1 ** 2) + (1.40546511 ** 2) ) ** 0.5\n",
    "tfidf_B_old    = 0 / ( (1 ** 2) + (1 ** 2) + (1.40546511 ** 2) ) ** 0.5\n",
    "tfidf_B_long   = 1.40546511 / ( (1 ** 2) + (1 ** 2) + (1.40546511 ** 2) ) ** 0.5"
   ]
  },
  {
   "cell_type": "markdown",
   "id": "a5f75c92-bbce-4df3-b3b8-0b99415e2c35",
   "metadata": {},
   "source": [
    "Si vous regardez par exemple le TF-IDF du terme *long* calculé par *Scikit-Learn* dans le deuxième document, vous trouverez 0.704909 :"
   ]
  },
  {
   "cell_type": "code",
   "execution_count": null,
   "id": "8cb2cb23-a288-4b9b-8d3b-2a0a84eb44d5",
   "metadata": {},
   "outputs": [],
   "source": [
    "df = pd.DataFrame(\n",
    "    data=X.toarray(),\n",
    "    columns=vectorizer.get_feature_names_out()\n",
    ")\n",
    "\n",
    "df"
   ]
  },
  {
   "cell_type": "markdown",
   "id": "d19ee79f-4913-4d70-af51-54764cdd0201",
   "metadata": {},
   "source": [
    "Un résultat identique à ce que vous venez de calculer à la main :"
   ]
  },
  {
   "cell_type": "code",
   "execution_count": null,
   "id": "0f2d4d37-6887-4f53-a952-6e624756a557",
   "metadata": {},
   "outputs": [],
   "source": [
    "tfidf_B_long"
   ]
  }
 ],
 "metadata": {
  "kernelspec": {
   "display_name": "Python 3 (ipykernel)",
   "language": "python",
   "name": "python3"
  },
  "language_info": {
   "codemirror_mode": {
    "name": "ipython",
    "version": 3
   },
   "file_extension": ".py",
   "mimetype": "text/x-python",
   "name": "python",
   "nbconvert_exporter": "python",
   "pygments_lexer": "ipython3",
   "version": "3.10.6"
  }
 },
 "nbformat": 4,
 "nbformat_minor": 5
}
