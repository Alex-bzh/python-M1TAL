{
 "cells": [
  {
   "cell_type": "markdown",
   "id": "b4cff6b5-4ff1-459b-ae6e-50f306098926",
   "metadata": {},
   "source": [
    "# Un vecteur timide"
   ]
  },
  {
   "cell_type": "markdown",
   "id": "b512a9da-c43b-4d9e-9a82-5cfe66365e89",
   "metadata": {},
   "source": [
    "Considérons trois vecteurs $\\vec{A}$, $\\vec{B}$ et $\\vec{C}$ :\n",
    "\n",
    "$$\n",
    "\\vec{A} = \\begin{pmatrix}\n",
    "    8 \\\\\n",
    "    3\n",
    "\\end{pmatrix}\n",
    "\\hspace{2em}\n",
    "\\vec{B} = \\begin{pmatrix}\n",
    "    4 \\\\\n",
    "    7\n",
    "\\end{pmatrix}\n",
    "\\hspace{2em}\n",
    "\\vec{C} = \\begin{pmatrix}\n",
    "    1 \\\\\n",
    "    9\n",
    "\\end{pmatrix}\n",
    "$$\n",
    "\n",
    "Représentons-les dans un plan :\n",
    "\n",
    "![Le vecteur A semble timide](../images/proximity.png)\n",
    "\n",
    "Prouvez que le vecteur $\\vec{C}$ est plus proche de $\\vec{B}$ que ne l’est $\\vec{A}$."
   ]
  },
  {
   "cell_type": "code",
   "execution_count": null,
   "id": "e92f7487-8470-43af-9176-ea1d40568953",
   "metadata": {},
   "outputs": [],
   "source": [
    "# your code here\n",
    "\n",
    "import numpy as np\n",
    "\n",
    "# three vectors\n",
    "A = [8, 3]\n",
    "B = [4, 7]\n",
    "C = [1, 9]\n",
    "\n",
    "###########\n",
    "# Cosinus #\n",
    "###########\n",
    "\n",
    "# step 1: scalar products between A & B then B & C\n",
    "AB = np.dot(A, B)\n",
    "BC = np.dot(B, C)\n",
    "\n",
    "# step 2: euclidean norms\n",
    "norm_A = np.linalg.norm(A)\n",
    "norm_B = np.linalg.norm(B)\n",
    "norm_C = np.linalg.norm(C)\n",
    "\n",
    "# step 3: cosinus\n",
    "cos_AB = AB / (norm_A * norm_B)\n",
    "cos_BC = BC / (norm_B * norm_C)\n",
    "\n",
    "print(\n",
    "    f\"La similitude entre les vecteurs A et B est de {cos_AB:.4f}.\",\n",
    "    f\"La similitude entre les vecteurs B et C est de {cos_BC:.4f}.\",\n",
    "    sep=\"\\n\"\n",
    ")"
   ]
  }
 ],
 "metadata": {
  "kernelspec": {
   "display_name": "Python 3 (ipykernel)",
   "language": "python",
   "name": "python3"
  },
  "language_info": {
   "codemirror_mode": {
    "name": "ipython",
    "version": 3
   },
   "file_extension": ".py",
   "mimetype": "text/x-python",
   "name": "python",
   "nbconvert_exporter": "python",
   "pygments_lexer": "ipython3",
   "version": "3.10.6"
  }
 },
 "nbformat": 4,
 "nbformat_minor": 5
}
