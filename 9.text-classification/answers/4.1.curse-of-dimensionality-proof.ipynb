{
 "cells": [
  {
   "cell_type": "markdown",
   "id": "5b6d1013-fb00-4060-8d31-d24d20ae3bf3",
   "metadata": {},
   "source": [
    "# Le fléau de la dimension : la preuve !"
   ]
  },
  {
   "cell_type": "markdown",
   "id": "f371f8a7-2b3e-425c-9b22-e389b24d0239",
   "metadata": {},
   "source": [
    "Tracez un carré de 1 cm de côté et pointez votre crayon au hasard à l’intérieur. Quel est le pourcentage de chances que vous atterrissiez à moins de 0,001 cm du bord ? Et dans un cube ?\n",
    "\n",
    "C’est à ces questions que votre nouvelle simulation va répondre afin de mettre en évidence que l’augmentation des variables explicatives d’une observation – dans une enquête statistique par exemple – renforce la chance de rencontrer une valeur extrême dans une dimension."
   ]
  },
  {
   "cell_type": "markdown",
   "id": "ac28e3b9-1e0f-411d-86b7-c96780d4b1d9",
   "metadata": {},
   "source": [
    "## Tirer un point aléatoirement"
   ]
  },
  {
   "cell_type": "markdown",
   "id": "49aaed5a-7aec-4071-9683-f38519cfa85c",
   "metadata": {},
   "source": [
    "Commencez par définir une fonction `point()` qui retourne un tuple de *n* éléments, chaque élément étant une valeur aléatoire dans l’intervalle $[0,1]$. Par défaut, un point aura deux éléments."
   ]
  },
  {
   "cell_type": "code",
   "execution_count": null,
   "id": "09433b1b-5d80-4729-86a8-802375070424",
   "metadata": {},
   "outputs": [],
   "source": [
    "# your code here\n",
    "\n",
    "from random import random\n",
    "\n",
    "def point(dimensions:int=2) -> tuple:\n",
    "    \"\"\"Random coordinates of a point\n",
    "    in a n dimensions space.\n",
    "    \n",
    "    Keyword argument:\n",
    "    dimensions -- number of dimensions\n",
    "    \"\"\"\n",
    "    return tuple(\n",
    "        random()\n",
    "        for _ in range(dimensions)\n",
    "    )"
   ]
  },
  {
   "cell_type": "markdown",
   "id": "63250564-de2d-45e8-af0a-0a49481f6dc5",
   "metadata": {},
   "source": [
    "## Détecter une valeur extrême"
   ]
  },
  {
   "cell_type": "markdown",
   "id": "4fe9909b-06c9-4bc3-9aaf-aab7c2a5234f",
   "metadata": {},
   "source": [
    "Écrivez maintenant une fonction `is_extreme()` qui détecte, en activant un booléen, si l’une ou l’autre des valeurs d’un point est proche d’un bord."
   ]
  },
  {
   "cell_type": "code",
   "execution_count": null,
   "id": "f3492d50-4ba2-4020-94bc-72de08c0d600",
   "metadata": {},
   "outputs": [],
   "source": [
    "# your code here\n",
    "\n",
    "def is_extreme(point:tuple) -> bool:\n",
    "    \"\"\"Detects if one or other of the dimensions\n",
    "    of a point is near to the border.\n",
    "    \n",
    "    Keyword argument:\n",
    "    point -- a point of n dimensions\n",
    "    \"\"\"\n",
    "    for value in point:\n",
    "        if value <= 0.001 or value >= 0.999: return True\n",
    "    return False"
   ]
  },
  {
   "cell_type": "markdown",
   "id": "b11817a0-e90d-4902-8544-bed7fe28bc0a",
   "metadata": {},
   "source": [
    "## Concevoir une simulation"
   ]
  },
  {
   "cell_type": "markdown",
   "id": "8630bf6b-4651-4171-92a4-fba3f21d7b5c",
   "metadata": {},
   "source": [
    "Au tour de la fonction qui va déclencher la simulation ! Elle sera chargée de vérifier, pour *n* points, combien sont proches du bord d’une dimension ou l’autre et renverra le taux de positifs."
   ]
  },
  {
   "cell_type": "code",
   "execution_count": null,
   "id": "e9cf38f0-843c-4a22-ba7f-38c34e3610e4",
   "metadata": {},
   "outputs": [],
   "source": [
    "# your code here\n",
    "\n",
    "def simulation(n:int=10000, dimensions=2) -> float:\n",
    "    \"\"\"How many points, taken n times at random,\n",
    "    are near to the border of a dimension?\n",
    "    \n",
    "    Keyword argument:\n",
    "    n -- number of draws\n",
    "    \"\"\"\n",
    "    # initiate a counter\n",
    "    c = 0\n",
    "\n",
    "    for _ in range(n):\n",
    "        # a random point\n",
    "        p = point(dimensions)\n",
    "        # increase the counter when the coord\n",
    "        # in a dimension is extreme\n",
    "        if is_extreme(p): c += 1\n",
    "\n",
    "    # positive rate\n",
    "    return c / n"
   ]
  },
  {
   "cell_type": "markdown",
   "id": "22879392-8039-471f-85f4-1b7067cc1991",
   "metadata": {},
   "source": [
    "## Lancer la simulation"
   ]
  },
  {
   "cell_type": "markdown",
   "id": "82185b1c-9d34-4db1-978b-6786d6a6a452",
   "metadata": {},
   "source": [
    "Lancez à présent la simulation autant de fois que vous le souhaitez, en modifiant le nombre de dimensions. Vous devriez voir que le taux de points extrêmes augmente dans les espaces de grande dimension."
   ]
  },
  {
   "cell_type": "code",
   "execution_count": null,
   "id": "e03ba9ac-cb6f-41a0-96a5-0d37ff6697fa",
   "metadata": {},
   "outputs": [],
   "source": [
    "# your code here\n",
    "\n",
    "for _ in range(5):\n",
    "    print(f\"{simulation() * 100:.2f} %\")"
   ]
  }
 ],
 "metadata": {
  "kernelspec": {
   "display_name": "Python 3 (ipykernel)",
   "language": "python",
   "name": "python3"
  },
  "language_info": {
   "codemirror_mode": {
    "name": "ipython",
    "version": 3
   },
   "file_extension": ".py",
   "mimetype": "text/x-python",
   "name": "python",
   "nbconvert_exporter": "python",
   "pygments_lexer": "ipython3",
   "version": "3.9.13"
  }
 },
 "nbformat": 4,
 "nbformat_minor": 5
}
