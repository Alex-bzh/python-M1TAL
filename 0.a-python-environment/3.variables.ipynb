{
 "cells": [
  {
   "cell_type": "markdown",
   "metadata": {
    "slideshow": {
     "slide_type": "slide"
    }
   },
   "source": [
    "# Variables et autres amuse-bouches"
   ]
  },
  {
   "cell_type": "markdown",
   "metadata": {
    "slideshow": {
     "slide_type": "slide"
    }
   },
   "source": [
    "## Variables\n",
    "\n",
    "**Variable :** boîte étiquetée où l’on peut ranger ce dont on a besoin pour le programme\n",
    "\n",
    "Trois caractéristiques :\n",
    "\n",
    "- **Type de données :** caractères, numériques, booléens, tableaux…\n",
    "- **Valeur :** affectée par l’utilisateur\n",
    "- **Taille :** emplacement mémoire réservé, calculée à partir des deux dernières"
   ]
  },
  {
   "cell_type": "markdown",
   "metadata": {
    "slideshow": {
     "slide_type": "subslide"
    }
   },
   "source": [
    "On peut affecter une valeur à une variable avec le signe `=` et y accéder en l’appelant par son nom :"
   ]
  },
  {
   "cell_type": "code",
   "execution_count": null,
   "metadata": {
    "slideshow": {
     "slide_type": "-"
    }
   },
   "outputs": [],
   "source": [
    "# Three variables, named a, b and c\n",
    "a = \"Tywin\"\n",
    "b = \"Lannister\"\n",
    "c = a + b\n",
    "# Printing the values in the standard output\n",
    "print(c)\n",
    "print(a, b)"
   ]
  },
  {
   "cell_type": "markdown",
   "metadata": {
    "slideshow": {
     "slide_type": "subslide"
    }
   },
   "source": [
    "**Dénomination de variables :** toute séquence de lettres et de chiffres – sans accents, cédilles, espaces ou caractères spéciaux – dont la casse est significative\n",
    "\n",
    "En pratique, la PEP 8 régit tous les aspects de design d’un programme en Python.\n",
    "\n",
    "Une interdiction formelle, les mots réservés :"
   ]
  },
  {
   "cell_type": "code",
   "execution_count": null,
   "metadata": {
    "slideshow": {
     "slide_type": "-"
    }
   },
   "outputs": [],
   "source": [
    "import keyword\n",
    "print(keyword.kwlist)"
   ]
  },
  {
   "cell_type": "markdown",
   "metadata": {
    "slideshow": {
     "slide_type": "subslide"
    }
   },
   "source": [
    "Trois méthodes pour affecter des valeurs :"
   ]
  },
  {
   "cell_type": "code",
   "execution_count": null,
   "metadata": {
    "slideshow": {
     "slide_type": "-"
    }
   },
   "outputs": [],
   "source": [
    "# Simple\n",
    "a = \"Tywin Lannister\"\n",
    "# Multiple\n",
    "a = b = \"Tywin Lannister\"\n",
    "# Parallel\n",
    "a, b = \"Tywin\", \"Lannister\""
   ]
  },
  {
   "cell_type": "markdown",
   "metadata": {
    "slideshow": {
     "slide_type": "fragment"
    }
   },
   "source": [
    "**Remarque :** il est courant de réaffecter une valeur à une variable préexistante."
   ]
  },
  {
   "cell_type": "code",
   "execution_count": null,
   "metadata": {
    "slideshow": {
     "slide_type": "-"
    }
   },
   "outputs": [],
   "source": [
    "i = 1\n",
    "print(i)\n",
    "i = i + 1\n",
    "print(i)"
   ]
  },
  {
   "cell_type": "markdown",
   "metadata": {
    "slideshow": {
     "slide_type": "subslide"
    }
   },
   "source": [
    "Signe `=` réservé à l’affectation.\n",
    "\n",
    "Le test d’égalité s’effectue avec l’opérateur `==` :"
   ]
  },
  {
   "cell_type": "code",
   "execution_count": null,
   "metadata": {
    "slideshow": {
     "slide_type": "-"
    }
   },
   "outputs": [],
   "source": [
    "name = \"Lannister\"\n",
    "name == \"Bolton\""
   ]
  },
  {
   "cell_type": "markdown",
   "metadata": {
    "slideshow": {
     "slide_type": "subslide"
    }
   },
   "source": [
    "Signe `+` sert à la concaténation ou à l’addition :"
   ]
  },
  {
   "cell_type": "code",
   "execution_count": null,
   "metadata": {
    "slideshow": {
     "slide_type": "-"
    }
   },
   "outputs": [],
   "source": [
    "first_name = \"Tywin\"\n",
    "print(first_name + name)"
   ]
  },
  {
   "cell_type": "code",
   "execution_count": null,
   "metadata": {
    "slideshow": {
     "slide_type": "fragment"
    }
   },
   "outputs": [],
   "source": [
    "a, b = 3, 7\n",
    "a + b == 10"
   ]
  },
  {
   "cell_type": "markdown",
   "metadata": {
    "slideshow": {
     "slide_type": "slide"
    }
   },
   "source": [
    "## Typage\n",
    "\n",
    "Les variables disposent d’un type (entier, flottant, chaîne de caractères…).\n",
    "\n",
    "Comme ce typage est déterminé par le langage, on dit de lui qu’il est dynamique. Et comme le langage garantit la cohérence entre le typage et les données manipulées, on dit de lui qu’il est fort.\n",
    "\n",
    "Pour ces raisons, Python est un langage à typage dynamique fort. En bref :\n",
    "- il comprend tout seul quel est le type de la variable instanciée ;\n",
    "- seul l’utilisateur est à même de modifier le type d’une donnée."
   ]
  },
  {
   "cell_type": "markdown",
   "metadata": {
    "slideshow": {
     "slide_type": "subslide"
    }
   },
   "source": [
    "### Identifier le type d’une variable\n",
    "\n",
    "Pour connaître le type d’une variable, appeler la fonction `type()` ou grâce à un test booléen avec `isinstance()` :"
   ]
  },
  {
   "cell_type": "code",
   "execution_count": null,
   "metadata": {
    "slideshow": {
     "slide_type": "-"
    }
   },
   "outputs": [],
   "source": [
    "# Python deduces from the context the variable is of integer type\n",
    "my_int_var = 1\n",
    "type(my_int_var)"
   ]
  },
  {
   "cell_type": "code",
   "execution_count": null,
   "metadata": {
    "slideshow": {
     "slide_type": "-"
    }
   },
   "outputs": [],
   "source": [
    "# In this case, it is of string type\n",
    "my_str_var = \"1\"\n",
    "type(my_str_var)"
   ]
  },
  {
   "cell_type": "code",
   "execution_count": null,
   "metadata": {},
   "outputs": [],
   "source": [
    "isinstance(my_int_var, type(my_str_var))"
   ]
  },
  {
   "cell_type": "markdown",
   "metadata": {
    "slideshow": {
     "slide_type": "subslide"
    }
   },
   "source": [
    "Grâce au typage fort, certaines opérations deviennent impossibles, alors qu’elles le seraient dans d’autres langages :"
   ]
  },
  {
   "cell_type": "code",
   "execution_count": null,
   "metadata": {
    "slideshow": {
     "slide_type": "-"
    }
   },
   "outputs": [],
   "source": [
    "# 1 + \"1\" would equal to \"11\" in some languages (like JavaScript)\n",
    "my_int_var + my_str_var"
   ]
  },
  {
   "cell_type": "markdown",
   "metadata": {
    "slideshow": {
     "slide_type": "subslide"
    }
   },
   "source": [
    "### Convertir explicitement le type d’une variable\n",
    "\n",
    "Dans l’exemple précédent, pour obtenir le résultat `\"11\"`, on aurait dû transformer la variable `my_int_var`, de type `Integer` en variable de type `String`. Et pour obtenir le résultat `2`, c’est l’autre variable qu’il aurait fallu transformer en variable de type `Integer`."
   ]
  },
  {
   "cell_type": "code",
   "execution_count": null,
   "metadata": {
    "slideshow": {
     "slide_type": "-"
    }
   },
   "outputs": [],
   "source": [
    "str(my_int_var) + my_str_var"
   ]
  },
  {
   "cell_type": "code",
   "execution_count": null,
   "metadata": {
    "slideshow": {
     "slide_type": "-"
    }
   },
   "outputs": [],
   "source": [
    "my_int_var + int(my_str_var)"
   ]
  },
  {
   "cell_type": "markdown",
   "metadata": {
    "slideshow": {
     "slide_type": "subslide"
    }
   },
   "source": [
    "Il existe des fonctions de transformation pour tous les types natifs :\n",
    "- `str()` : transformer en chaîne de caractères\n",
    "- `int()` : transformer en entier\n",
    "- `float()` : transformer en nombre réel\n",
    "- `list()` : transformer en liste\n",
    "- `dict()` : transformer en dictionnaire\n",
    "- `tuple()` : transformer en tuple\n"
   ]
  },
  {
   "cell_type": "markdown",
   "metadata": {
    "slideshow": {
     "slide_type": "slide"
    }
   },
   "source": [
    "## Aide\n",
    "\n",
    "La documentation est le compagnon indispensable de tout développeur. Elle permet de se renseigner sur les objectifs d’une classe, les paramètres d’une fonction ou encore les types de données retournées. Trois manières d’obtenir ces réponses :\n",
    "- la [documentation en ligne](https://docs.python.org/3/) ;\n",
    "- la fonction `dir()` qui liste toutes les méthodes d’une classe ;\n",
    "- la fonction `help()` qui offre un aperçu des caractéristiques de tous les objets du langage."
   ]
  },
  {
   "cell_type": "code",
   "execution_count": null,
   "metadata": {
    "slideshow": {
     "slide_type": "subslide"
    }
   },
   "outputs": [],
   "source": [
    "# Print all the methods for the class str\n",
    "dir(str)"
   ]
  },
  {
   "cell_type": "code",
   "execution_count": null,
   "metadata": {},
   "outputs": [],
   "source": [
    "# Print help on print function\n",
    "help(print)"
   ]
  },
  {
   "cell_type": "markdown",
   "metadata": {
    "slideshow": {
     "slide_type": "slide"
    }
   },
   "source": [
    "## PEPs\n",
    "\n",
    "**PEP :** *Python Enhancement Proposals*\n",
    "\n",
    "Deux PEPs à connaître :\n",
    "1. [PEP 20](https://www.python.org/dev/peps/pep-0020/) : code de conduite du développeur python en 20 aphorismes (enfin… 19)\n",
    "2. [PEP 8](https://www.python.org/dev/peps/pep-0008/) : lignes directrices pour écrire des scripts en Python"
   ]
  },
  {
   "cell_type": "markdown",
   "metadata": {
    "slideshow": {
     "slide_type": "subslide"
    }
   },
   "source": [
    "La PEP 8 est accessible directement en Python :"
   ]
  },
  {
   "cell_type": "code",
   "execution_count": null,
   "metadata": {
    "slideshow": {
     "slide_type": "-"
    }
   },
   "outputs": [],
   "source": [
    "import this"
   ]
  }
 ],
 "metadata": {
  "celltoolbar": "Diaporama",
  "kernelspec": {
   "display_name": "Python 3",
   "language": "python",
   "name": "python3"
  },
  "language_info": {
   "codemirror_mode": {
    "name": "ipython",
    "version": 3
   },
   "file_extension": ".py",
   "mimetype": "text/x-python",
   "name": "python",
   "nbconvert_exporter": "python",
   "pygments_lexer": "ipython3",
   "version": "3.8.0"
  }
 },
 "nbformat": 4,
 "nbformat_minor": 4
}
