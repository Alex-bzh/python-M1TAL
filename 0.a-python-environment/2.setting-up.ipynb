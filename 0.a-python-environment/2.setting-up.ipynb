{
 "cells": [
  {
   "cell_type": "markdown",
   "metadata": {
    "slideshow": {
     "slide_type": "slide"
    }
   },
   "source": [
    "# Configurer un environnement Python"
   ]
  },
  {
   "cell_type": "markdown",
   "metadata": {
    "slideshow": {
     "slide_type": "subslide"
    }
   },
   "source": [
    "## Ce qu’il est inutile de savoir\n",
    "\n",
    "- ce n’est pas un serpent\n",
    "- langage inventé par Guido van Rossum en 1989\n",
    "- hommage aux Monty Python\n",
    "- **v1.0 :** janvier 1994\n",
    "- **v2.0 :** octobre 2000\n",
    "- **v3.0 :** décembre 2008"
   ]
  },
  {
   "cell_type": "markdown",
   "metadata": {
    "slideshow": {
     "slide_type": "subslide"
    }
   },
   "source": [
    "## Ce qu’il est utile de savoir\n",
    "\n",
    "- systèmes UNIX disposent (normalement) de Python par défaut\n",
    "- coexistence de plusieurs versions au sein d’un même système\n",
    "- utiliser au minimum la v3.6\n",
    "- extension de fichier `.py`\n",
    "- encoder les scripts en UTF-8"
   ]
  },
  {
   "cell_type": "markdown",
   "metadata": {
    "slideshow": {
     "slide_type": "subslide"
    }
   },
   "source": [
    "## Comment bien débuter avec Python ?\n",
    "\n",
    "Différencier les exécutables de Python (dans la console) :\n",
    "\n",
    "```bash\n",
    "$ python3 -V\n",
    "$ python2 -V\n",
    "$ python -V\n",
    "```\n",
    "\n",
    "À noter que l’exécutable `python` est souvent un alias pour l’un ou l’autre des deux premiers.\n",
    "\n",
    "Une astuce consiste à effectuer un lien symbolique entre exécutables :\n",
    "```bash\n",
    "$ ln -s path/to/python3 path/to/python\n",
    "```"
   ]
  },
  {
   "cell_type": "markdown",
   "metadata": {
    "slideshow": {
     "slide_type": "subslide"
    }
   },
   "source": [
    "Lancer l’interpréteur de commandes avec le bon exécutable, dans la console, permet de tester le bon fonctionnement du langage :\n",
    "\n",
    "```bash\n",
    "$ python3\n",
    "```\n",
    "\n",
    "Le *prompt* dans la console change d’apparence : trois chevrons (`>>>`) au lieu d’un dollar (`$`) ou d’un croisillon en mode *sudo* (`#`).\n",
    "\n",
    "Tester une instruction :\n",
    "```bash\n",
    ">>> 20 * 30\n",
    "```"
   ]
  },
  {
   "cell_type": "markdown",
   "metadata": {
    "slideshow": {
     "slide_type": "subslide"
    }
   },
   "source": [
    "C’est toujours plus utile d’exécuter un script que de l’écrire ligne par ligne dans un interpréteur dynamique.\n",
    "\n",
    "Copiez le code ci-dessous dans un fichier, nommé `square.py` :"
   ]
  },
  {
   "cell_type": "code",
   "execution_count": null,
   "metadata": {
    "slideshow": {
     "slide_type": "-"
    }
   },
   "outputs": [],
   "source": [
    "#!/usr/bin/env python\n",
    "#-*- coding: utf-8 -*-\n",
    "\n",
    "def square(n):\n",
    "    \"\"\"The square function.\n",
    "    \n",
    "    n -- a number\n",
    "    \"\"\"\n",
    "    return n ** 2\n",
    "\n",
    "def main():\n",
    "    print(square(4))\n",
    "\n",
    "if __name__ == \"__main__\":\n",
    "    main()"
   ]
  },
  {
   "cell_type": "markdown",
   "metadata": {
    "slideshow": {
     "slide_type": "subslide"
    }
   },
   "source": [
    "Exécutez ensuite le fichier avec l’exécutable python3 (dans la console) :\n",
    "\n",
    "```bash\n",
    "$ python3 square.py\n",
    "```\n",
    "\n",
    "Modifiez ensuite la fonction `main()` comme ci-dessous et exécutez à nouveau le code :"
   ]
  },
  {
   "cell_type": "code",
   "execution_count": null,
   "metadata": {
    "slideshow": {
     "slide_type": "-"
    }
   },
   "outputs": [],
   "source": [
    "def main():\n",
    "    n = int(input(\"Veuillez saisir un nombre : \"))\n",
    "    print(square(n))\n",
    "\n",
    "if __name__ == \"__main__\":\n",
    "    main()"
   ]
  },
  {
   "cell_type": "markdown",
   "metadata": {
    "slideshow": {
     "slide_type": "subslide"
    }
   },
   "source": [
    "Il existe des environnements clés en main, à l’instar de [*Anaconda*](https://www.anaconda.com/products/individual), avec leurs propres gestionnaires de paquets.\n",
    "\n",
    "Pour certains, ce n’est pas à recommander ; pour d’autres, c’est très pratique. À vous de voir comment vous souhaitez travailler !"
   ]
  }
 ],
 "metadata": {
  "celltoolbar": "Diaporama",
  "kernelspec": {
   "display_name": "Python 3",
   "language": "python",
   "name": "python3"
  },
  "language_info": {
   "codemirror_mode": {
    "name": "ipython",
    "version": 3
   },
   "file_extension": ".py",
   "mimetype": "text/x-python",
   "name": "python",
   "nbconvert_exporter": "python",
   "pygments_lexer": "ipython3",
   "version": "3.8.0"
  }
 },
 "nbformat": 4,
 "nbformat_minor": 4
}
