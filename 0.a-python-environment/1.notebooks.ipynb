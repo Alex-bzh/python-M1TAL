{
 "cells": [
  {
   "cell_type": "markdown",
   "metadata": {
    "slideshow": {
     "slide_type": "slide"
    }
   },
   "source": [
    "# Utilisation des Notebooks"
   ]
  },
  {
   "cell_type": "markdown",
   "metadata": {},
   "source": [
    "**Notebook :** document mixte (code python + texte). Les fragments de code peuvent être évalués et modifiés."
   ]
  },
  {
   "cell_type": "markdown",
   "metadata": {
    "slideshow": {
     "slide_type": "slide"
    }
   },
   "source": [
    "## Évaluation du code"
   ]
  },
  {
   "cell_type": "markdown",
   "metadata": {},
   "source": [
    "Un notebook est constitué d’une suite de cellules, soit textuelles, soit contenant du code. Les cellules de code sont facilement reconnaissables, elles sont précédées de `In [ ]:`\n",
    "\n",
    "Pour évaluer une cellule de code :\n",
    "- soit presser le bouton en forme de flèche triangulaire dans la barre d’icônes\n",
    "- soit taper au clavier ***Shift+Entrer***"
   ]
  },
  {
   "cell_type": "code",
   "execution_count": null,
   "metadata": {
    "slideshow": {
     "slide_type": "fragment"
    }
   },
   "outputs": [],
   "source": [
    "20 * 30"
   ]
  },
  {
   "cell_type": "markdown",
   "metadata": {
    "slideshow": {
     "slide_type": "subslide"
    }
   },
   "source": [
    "La cellule `Out` donne le résultat du fragment python.\n",
    "\n",
    "Le nombre entre crochets (i.e. `In [1]:`) permet de retrouver l’ordre d’évaluation des cellules.\n",
    "\n",
    "Les cellules de code sont également modifiables. N’hésitez pas à faire des tests !"
   ]
  },
  {
   "cell_type": "code",
   "execution_count": null,
   "metadata": {
    "slideshow": {
     "slide_type": "fragment"
    }
   },
   "outputs": [],
   "source": [
    "def square(n):\n",
    "    if isinstance(n, int):\n",
    "        message = 'Le carré de ' + str(n) + ' vaut ' + str(n**2)\n",
    "        return message\n",
    "    else:\n",
    "        return \"Veuillez renseigner un entier numérique (ex : 4).\"\n"
   ]
  },
  {
   "cell_type": "code",
   "execution_count": null,
   "metadata": {
    "slideshow": {
     "slide_type": "fragment"
    }
   },
   "outputs": [],
   "source": [
    "print(square(2))"
   ]
  },
  {
   "cell_type": "markdown",
   "metadata": {
    "slideshow": {
     "slide_type": "subslide"
    }
   },
   "source": [
    "Pour évaluer l’intégralité du Notebook : menu *Cell -> Run All*\n",
    "\n",
    "Attention à l’ordre d’évaluation des cellules : si l’instruction `print(carre())` est lancée avant que la fonction ait été enregistrée en mémoire, vous rencontrerez une erreur."
   ]
  },
  {
   "cell_type": "markdown",
   "metadata": {
    "slideshow": {
     "slide_type": "slide"
    }
   },
   "source": [
    "## Réinitialiser l'interpréteur"
   ]
  },
  {
   "cell_type": "markdown",
   "metadata": {},
   "source": [
    "Menu *Kernel -> Restart*\n",
    "\n",
    "Menu *Kernel -> Interrupt* pour arrêter l’évaluation d’une cellule trop gourmande (boucle infinie, bug…)."
   ]
  },
  {
   "cell_type": "markdown",
   "metadata": {
    "slideshow": {
     "slide_type": "slide"
    }
   },
   "source": [
    "## Télécharger au format python"
   ]
  },
  {
   "cell_type": "markdown",
   "metadata": {},
   "source": [
    "Vous pouvez télécharger un notebook au format python sur votre ordinateur grâce au menu.\n",
    "\n",
    "Menu *File -> Download as -> python* pour télécharger le notebook au format python. Les cellules de texte apparaissent sous forme de commentaires."
   ]
  },
  {
   "cell_type": "markdown",
   "metadata": {
    "slideshow": {
     "slide_type": "slide"
    }
   },
   "source": [
    "## Partager un notebook en lecture seule"
   ]
  },
  {
   "cell_type": "markdown",
   "metadata": {},
   "source": [
    "Menu *File -> Share static version* pour partager le notebook en lecture seule. Pratique pour demander de l’aide."
   ]
  }
 ],
 "metadata": {
  "celltoolbar": "Diaporama",
  "kernelspec": {
   "display_name": "Python 3 (ipykernel)",
   "language": "python",
   "name": "python3"
  },
  "language_info": {
   "codemirror_mode": {
    "name": "ipython",
    "version": 3
   },
   "file_extension": ".py",
   "mimetype": "text/x-python",
   "name": "python",
   "nbconvert_exporter": "python",
   "pygments_lexer": "ipython3",
   "version": "3.10.6"
  },
  "notebookname": "\"Notebooks\" IPython",
  "version": "2.0"
 },
 "nbformat": 4,
 "nbformat_minor": 4
}
