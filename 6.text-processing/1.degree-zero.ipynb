{
 "cells": [
  {
   "cell_type": "markdown",
   "metadata": {
    "slideshow": {
     "slide_type": "slide"
    }
   },
   "source": [
    "# Le degré zéro du traitement de textes"
   ]
  },
  {
   "cell_type": "markdown",
   "metadata": {
    "slideshow": {
     "slide_type": "subslide"
    }
   },
   "source": [
    "## De quoi parle-t-on ?\n",
    "\n",
    "Manipuler des textes dans leur version électronique grâce à des méthodes automatiques.\n",
    "\n",
    "Quelques opérations basiques de manipulation :"
   ]
  },
  {
   "cell_type": "code",
   "execution_count": null,
   "metadata": {
    "slideshow": {
     "slide_type": "-"
    }
   },
   "outputs": [],
   "source": [
    "# Majuscules\n",
    "print('Monty Python'.upper())\n",
    "# Substitution\n",
    "print('Monty Python'.replace('Monty', 'Mighty'))\n",
    "# Recherche\n",
    "print('Monty Python'.find('yth'))"
   ]
  },
  {
   "cell_type": "markdown",
   "metadata": {
    "slideshow": {
     "slide_type": "subslide"
    }
   },
   "source": [
    "En quoi peut vraiment nous aider l’informatique ?\n",
    "\n",
    "Exemple du découpage d’un texte en mots pour un agent humain :\n",
    "- règles de segmentation différentes d’un individu à l’autre\n",
    "- erreurs de comptage (distraction, inconstance…)\n",
    "- long et fastidieux\n",
    "\n",
    "Pour l’informatique, rien de tout cela (à part les perturbations fonctionnelles : électricité, plantages…)"
   ]
  },
  {
   "cell_type": "markdown",
   "metadata": {
    "slideshow": {
     "slide_type": "slide"
    }
   },
   "source": [
    "## Complexité du dénombrement des mots dans un texte\n",
    "\n",
    "Comparaison entre l’action manuelle et l’action automatique.\n",
    "\n",
    "Comptez à la main le nombre de mots dans le texte suivant (*Le dormeur du val* de Rimbaud)."
   ]
  },
  {
   "cell_type": "markdown",
   "metadata": {
    "slideshow": {
     "slide_type": "subslide"
    }
   },
   "source": [
    "C’est un trou de verdure où chante une rivière  \n",
    "Accrochant follement aux herbes des haillons  \n",
    "D’argent ; où le soleil, de la montagne fière,  \n",
    "Luit : c’est un petit val qui mousse de rayons.\n",
    "\n",
    "Un soldat jeune, bouche ouverte, tête nue,  \n",
    "Et la nuque baignant dans le frais cresson bleu,  \n",
    "Dort ; il est étendu dans l’herbe, sous la nue,  \n",
    "Pâle dans son lit vert où la lumière pleut.\n",
    "\n",
    "Les pieds dans les glaïeuls, il dort. Souriant comme  \n",
    "Sourirait un enfant malade, il fait un somme :  \n",
    "Nature, berce-le chaudement : il a froid.\n",
    "\n",
    "Les parfums ne font pas frissonner sa narine ;  \n",
    "Il dort dans le soleil, la main sur sa poitrine  \n",
    "Tranquille. Il a deux trous rouges au côté droit."
   ]
  },
  {
   "cell_type": "markdown",
   "metadata": {
    "slideshow": {
     "slide_type": "subslide"
    }
   },
   "source": [
    "**Nombre de mots :** 121\n",
    "\n",
    "Et pour l’informatique ?"
   ]
  },
  {
   "cell_type": "code",
   "execution_count": null,
   "metadata": {
    "slideshow": {
     "slide_type": "-"
    }
   },
   "outputs": [],
   "source": [
    "import subprocess\n",
    "print(subprocess.run(\"wc -w data/dormeur-du-val.txt\", shell=True, stdout=subprocess.PIPE).stdout)"
   ]
  },
  {
   "cell_type": "markdown",
   "metadata": {
    "slideshow": {
     "slide_type": "fragment"
    }
   },
   "source": [
    "Pourquoi 122 ? D’où vient la différence ?\n",
    "\n",
    "Intuitivement, on aurait conçu que le programme en comptabilise moins en considérant par exemple *berce-le* comme un seul."
   ]
  },
  {
   "cell_type": "markdown",
   "metadata": {
    "slideshow": {
     "slide_type": "subslide"
    }
   },
   "source": [
    "Pour comprendre, analyser les résultats obtenus avec des vers spécifiques (1, 2, 11, 12) :"
   ]
  },
  {
   "cell_type": "code",
   "execution_count": null,
   "metadata": {
    "slideshow": {
     "slide_type": "-"
    }
   },
   "outputs": [],
   "source": [
    "print(subprocess.run(\"echo 'C’est un trou de verdure où chante une rivière' | wc -w\", shell=True, stdout=subprocess.PIPE).stdout)\n",
    "print(subprocess.run(\"echo 'Accrochant follement aux herbes des haillons' | wc -w\", shell=True, stdout=subprocess.PIPE).stdout)\n",
    "print(subprocess.run(\"echo 'Nature, berce-le chaudement : il a froid.' | wc -w\", shell=True, stdout=subprocess.PIPE).stdout)\n",
    "print(subprocess.run(\"echo 'Les parfums ne font pas frissonner sa narine ;' | wc -w\", shell=True, stdout=subprocess.PIPE).stdout)"
   ]
  },
  {
   "cell_type": "markdown",
   "metadata": {
    "slideshow": {
     "slide_type": "fragment"
    }
   },
   "source": [
    "| N° vers | Comptage manuel | Comptage auto | Diff |\n",
    "| :------- | :-------------: | :-----------: | :--: |\n",
    "| 1        | 10              | 9             | -1   |\n",
    "| 2        | 6               | 6             | 0    |\n",
    "| 11       | 7               | 7             | 0    |\n",
    "| 12       | 8               | 9             | +1   |"
   ]
  },
  {
   "cell_type": "markdown",
   "metadata": {
    "slideshow": {
     "slide_type": "subslide"
    }
   },
   "source": [
    "**Raisons :**\n",
    "- segmentation sur les espaces (typographie anglo-saxonne)\n",
    "- mots doubles comptent pour un (*C’est*)\n",
    "\n",
    "En conclusion, ne pas se fier aux algorithmes par défaut des programmes : ils sont configurés pour l’anglais."
   ]
  },
  {
   "cell_type": "markdown",
   "metadata": {
    "slideshow": {
     "slide_type": "slide"
    }
   },
   "source": [
    "## Dénombrer les mots d’un texte avec Python\n",
    "\n",
    "Méthode `split()` découpe un texte en utilisant les espaces comme séparateurs.\n",
    "\n",
    "Problème similaire à `wc` dans le *shell*.\n",
    "\n",
    "**Solution :** supprimer les caractères faussement assimilés comme des mots.\n",
    "\n",
    "Stratégie à développer :\n",
    "1. lire le fichier\n",
    "2. analyser le texte\n",
    "3. remplacer les caractères non autorisés par des espaces\n",
    "4. appliquer la segmentation"
   ]
  },
  {
   "cell_type": "markdown",
   "metadata": {
    "slideshow": {
     "slide_type": "subslide"
    }
   },
   "source": [
    "### Étape 1 : lire le fichier"
   ]
  },
  {
   "cell_type": "code",
   "execution_count": null,
   "metadata": {
    "slideshow": {
     "slide_type": "-"
    }
   },
   "outputs": [],
   "source": [
    "def sequential_reader(file):\n",
    "    \"\"\"Reads a file not all at once but chunk by chunk.\n",
    "    Useful to deal with large files.\n",
    "    \n",
    "    Keyword argument:\n",
    "    file -- descriptor of a file\n",
    "    \"\"\"\n",
    "    text = ''\n",
    "    while True:\n",
    "        chunk = file.read(50)\n",
    "        if not chunk:\n",
    "            break\n",
    "        else:\n",
    "            text += chunk\n",
    "    return text"
   ]
  },
  {
   "cell_type": "markdown",
   "metadata": {
    "slideshow": {
     "slide_type": "subslide"
    }
   },
   "source": [
    "### Étape 2 : découper un fichier en mots\n",
    "\n",
    "Cette étape prend en considération les spécificités du français."
   ]
  },
  {
   "cell_type": "code",
   "execution_count": null,
   "metadata": {
    "slideshow": {
     "slide_type": "-"
    }
   },
   "outputs": [],
   "source": [
    "def split_words(text):\n",
    "    \"\"\"Splits text into words according to French specifics.\n",
    "    \n",
    "    Keyword argument:\n",
    "    text -- the text to split into words\n",
    "    \"\"\"\n",
    "    # Authorized characters\n",
    "    alpha = \"azertyuiopqsdfghjklmwxcvbnéèàçùâêôîûäëïöü\"\n",
    "    alpha += alpha.upper()\n",
    "\n",
    "    # A collection of authorized characters\n",
    "    # The other ones will be replaced by a space\n",
    "    collection = \"\"\n",
    "    for ch in text:\n",
    "        collection += ch if ch in alpha else \" \"\n",
    "\n",
    "    # Splits the text\n",
    "    return collection.split()"
   ]
  },
  {
   "cell_type": "markdown",
   "metadata": {
    "slideshow": {
     "slide_type": "subslide"
    }
   },
   "source": [
    "### Étape 3 : dénombrement"
   ]
  },
  {
   "cell_type": "code",
   "execution_count": null,
   "metadata": {
    "slideshow": {
     "slide_type": "-"
    }
   },
   "outputs": [],
   "source": [
    "with open('./data/dormeur-du-val.txt') as file:\n",
    "    text = sequential_reader(file)\n",
    "    wordlist = split_words(text)\n",
    "    print(len(wordlist))"
   ]
  },
  {
   "cell_type": "markdown",
   "metadata": {
    "slideshow": {
     "slide_type": "fragment"
    }
   },
   "source": [
    "Le résultat est correct !"
   ]
  },
  {
   "cell_type": "markdown",
   "metadata": {
    "slideshow": {
     "slide_type": "slide"
    }
   },
   "source": [
    "## Aperçu de NLTK\n",
    "\n",
    "**NLTK :** [*Natural Language ToolKit*](http://www.nltk.org/)\n",
    "\n",
    "Boîte à outils pour le TAL, à installer pour l’invoquer."
   ]
  },
  {
   "cell_type": "code",
   "execution_count": null,
   "metadata": {
    "slideshow": {
     "slide_type": "-"
    }
   },
   "outputs": [],
   "source": [
    "import nltk"
   ]
  },
  {
   "cell_type": "markdown",
   "metadata": {
    "slideshow": {
     "slide_type": "subslide"
    }
   },
   "source": [
    "Nombreuses ressources à télécharger en fonction des besoins (copus, grammaires, tokenizeurs…)"
   ]
  },
  {
   "cell_type": "code",
   "execution_count": null,
   "metadata": {
    "slideshow": {
     "slide_type": "-"
    }
   },
   "outputs": [],
   "source": [
    "# nltk.download()"
   ]
  },
  {
   "cell_type": "markdown",
   "metadata": {
    "slideshow": {
     "slide_type": "subslide"
    }
   },
   "source": [
    "Découpage du texte en mots grâce au sous-module `tokenize` :"
   ]
  },
  {
   "cell_type": "code",
   "execution_count": null,
   "metadata": {
    "slideshow": {
     "slide_type": "-"
    }
   },
   "outputs": [],
   "source": [
    "from nltk.tokenize import word_tokenize\n",
    "with open('data/dormeur-du-val.txt') as file:\n",
    "    text = file.read()\n",
    "    wordlist = word_tokenize(text)"
   ]
  },
  {
   "cell_type": "markdown",
   "metadata": {
    "slideshow": {
     "slide_type": "fragment"
    }
   },
   "source": [
    "**Question :** Combien de mots compte NLTK ? Expliquez."
   ]
  }
 ],
 "metadata": {
  "celltoolbar": "Diaporama",
  "kernelspec": {
   "display_name": "Python 3",
   "language": "python",
   "name": "python3"
  },
  "language_info": {
   "codemirror_mode": {
    "name": "ipython",
    "version": 3
   },
   "file_extension": ".py",
   "mimetype": "text/x-python",
   "name": "python",
   "nbconvert_exporter": "python",
   "pygments_lexer": "ipython3",
   "version": "3.8.0"
  }
 },
 "nbformat": 4,
 "nbformat_minor": 4
}
