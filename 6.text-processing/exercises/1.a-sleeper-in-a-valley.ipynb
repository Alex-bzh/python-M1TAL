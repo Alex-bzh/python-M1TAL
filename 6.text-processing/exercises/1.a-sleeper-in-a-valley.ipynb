{
 "cells": [
  {
   "cell_type": "markdown",
   "metadata": {},
   "source": [
    "# Ne vous endormez pas !\n",
    "\n",
    "Concevez une fonction nommée `nb_words()` qui comptabilise le nombre de mots d’un texte français en vous appuyant sur *Le dormeur du val* de Rimbaud."
   ]
  },
  {
   "cell_type": "code",
   "execution_count": null,
   "metadata": {},
   "outputs": [],
   "source": [
    "path_to_text = '../data/dormeur-du-val.txt'"
   ]
  },
  {
   "cell_type": "code",
   "execution_count": null,
   "metadata": {},
   "outputs": [],
   "source": [
    "# Modules to import"
   ]
  },
  {
   "cell_type": "code",
   "execution_count": null,
   "metadata": {},
   "outputs": [],
   "source": [
    "# Design your function"
   ]
  },
  {
   "cell_type": "code",
   "execution_count": null,
   "metadata": {},
   "outputs": [],
   "source": [
    "# Check the result\n",
    "nb = nb_words(path_to_text)\n",
    "if nb != 121:\n",
    "    print(f\"Vous avez trouvé {nb} mots. La bonne réponse était : 121 !\")\n",
    "else:\n",
    "    print(\"Résultat correct !\")"
   ]
  }
 ],
 "metadata": {
  "kernelspec": {
   "display_name": "Python 3",
   "language": "python",
   "name": "python3"
  },
  "language_info": {
   "codemirror_mode": {
    "name": "ipython",
    "version": 3
   },
   "file_extension": ".py",
   "mimetype": "text/x-python",
   "name": "python",
   "nbconvert_exporter": "python",
   "pygments_lexer": "ipython3",
   "version": "3.8.0"
  }
 },
 "nbformat": 4,
 "nbformat_minor": 4
}
