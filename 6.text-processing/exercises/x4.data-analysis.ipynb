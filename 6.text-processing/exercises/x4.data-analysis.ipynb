{
 "cells": [
  {
   "cell_type": "markdown",
   "metadata": {},
   "source": [
    "# Analyse de données\n",
    "\n",
    "L’objectif de cet exercice est d’analyser la distribution par fréquence des adverbes d’une langue dans un corpus catégorisé de commentaires issus du Web. En plus des scripts Python, vous fournirez tout le matériel nécessaire, à savoir le corpus, le fichier de statistiques ainsi que la liste des adverbes de référence pour la langue étudiée."
   ]
  },
  {
   "cell_type": "markdown",
   "metadata": {},
   "source": [
    "## Constituer un corpus Web\n",
    "\n",
    "La première étape de votre programme consiste à créer un corpus catégorisé à partir du Web. N’hésitez pas à prendre pour exemple l’arborescence du corpus que nous avons extrait du site Web [*allocine*](../6.text-processing/data/allocine)."
   ]
  },
  {
   "cell_type": "code",
   "execution_count": null,
   "metadata": {},
   "outputs": [],
   "source": [
    "# Your code here"
   ]
  },
  {
   "cell_type": "markdown",
   "metadata": {},
   "source": [
    "## Importer un corpus catégorisé\n",
    "\n",
    "Grâce à la librairie NLTK, importez votre corpus catégorisé dans une variable `corpus`."
   ]
  },
  {
   "cell_type": "code",
   "execution_count": null,
   "metadata": {},
   "outputs": [],
   "source": [
    "# Your code here"
   ]
  },
  {
   "cell_type": "markdown",
   "metadata": {},
   "source": [
    "Le code ci-dessous doit renvoyer une liste des catégories de votre corpus :"
   ]
  },
  {
   "cell_type": "code",
   "execution_count": null,
   "metadata": {},
   "outputs": [],
   "source": [
    "print(corpus.categories())"
   ]
  },
  {
   "cell_type": "markdown",
   "metadata": {},
   "source": [
    "## Configurer des outils de tokenisation\n",
    "\n",
    "En fonction de votre objectif, vous configurerez deux tokenisateurs :\n",
    "- un pour la tokenisation en phrases ;\n",
    "- un autre pour la tokenisation en mots."
   ]
  },
  {
   "cell_type": "code",
   "execution_count": null,
   "metadata": {},
   "outputs": [],
   "source": [
    "# Your code here"
   ]
  },
  {
   "cell_type": "markdown",
   "metadata": {},
   "source": [
    "## Produire un décompte des éléments du corpus\n",
    "\n",
    "À partir de la tokenisation de chaque fichier de votre corpus, vous produirez un dictionnaire `stats` qui recueillera les données suivantes dans les clés correspondantes :\n",
    "- `filename` pour le nom du fichier ;\n",
    "- `category` pour sa catégorie ;\n",
    "- `nb_sents` le nombre de phrases ;\n",
    "- `nb_words` le nombre de mots ;\n",
    "- `nb_characters` le nombre de caractères."
   ]
  },
  {
   "cell_type": "code",
   "execution_count": null,
   "metadata": {},
   "outputs": [],
   "source": [
    "# Your code here"
   ]
  },
  {
   "cell_type": "markdown",
   "metadata": {},
   "source": [
    "Le code ci-dessous doit renvoyer la première ligne de résultats pour chaque catégorie :"
   ]
  },
  {
   "cell_type": "code",
   "execution_count": null,
   "metadata": {},
   "outputs": [],
   "source": [
    "for category, rows in stats.items():\n",
    "    for row in rows[:1]:\n",
    "        print(row)"
   ]
  },
  {
   "cell_type": "markdown",
   "metadata": {},
   "source": [
    "## Enregistrer le décompte dans un fichier TSV\n",
    "\n",
    "À présent, il est temps d’enregistrer vos données dans un fichier au format TSV (*tab-separated values*), que vous nommerez `stats_corpus.tsv`. Vous utiliserez les clés du dictionnaire `stats` comme noms des colonnes du fichier. Servez-vous du modèle des [stats sur le corpus *Allociné*](../6.text-processing/data/stats_corpus.tsv)."
   ]
  },
  {
   "cell_type": "code",
   "execution_count": null,
   "metadata": {},
   "outputs": [],
   "source": [
    "# Your code here"
   ]
  },
  {
   "cell_type": "markdown",
   "metadata": {},
   "source": [
    "## Afficher le nombre cumulé de mots par catégorie\n",
    "\n",
    "Grâce au code ci-dessous, affichez un diagramme représentatif de votre fichier de statistiques :"
   ]
  },
  {
   "cell_type": "code",
   "execution_count": null,
   "metadata": {},
   "outputs": [],
   "source": [
    "import matplotlib.pyplot as plt\n",
    "\n",
    "stats_corpus = dict()\n",
    "with open('../data/stats_corpus.tsv', newline='') as csvfile:\n",
    "    reader = csv.DictReader(csvfile, delimiter='\\t')\n",
    "    for row in reader:\n",
    "        stats_corpus[row['category']] = stats_corpus.get(row['category'], 0) + int(row['nb_words'])\n",
    "        \n",
    "# Display on retina graphics\n",
    "%config InlineBackend.figure_format='retina'\n",
    "\n",
    "# Size of the figure\n",
    "plt.figure(figsize=(10,6))\n",
    "\n",
    "# Title\n",
    "plt.title('Nombre cumulé de mots par catégorie',\n",
    "          fontsize=18, fontweight='bold')\n",
    "\n",
    "# Label of the x axis\n",
    "plt.xlabel('Catégorie', fontsize=14, fontweight='bold')\n",
    "\n",
    "# Label of the y axis\n",
    "plt.ylabel('Nombre de mots', fontsize=14, fontweight='bold')\n",
    "\n",
    "# Plot the stats\n",
    "plt.bar(list(stats_corpus.keys()), list(stats_corpus.values()))\n",
    "\n",
    "# Show the figure\n",
    "plt.show()"
   ]
  },
  {
   "cell_type": "markdown",
   "metadata": {},
   "source": [
    "## Charger une liste d’adverbes\n",
    "\n",
    "Chargez dans une variable `adverbs` la liste des adverbes de la langue de votre corpus. Si vous travaillez sur le français ou l’anglais, vous trouverez les ressources à ces adresses :"
   ]
  },
  {
   "cell_type": "code",
   "execution_count": null,
   "metadata": {},
   "outputs": [],
   "source": [
    "path_to_fr_adverbs = '../data/fr-adverbs.tsv'\n",
    "path_to_en_adverbs = '../data/en-adverbs.tsv'"
   ]
  },
  {
   "cell_type": "code",
   "execution_count": null,
   "metadata": {},
   "outputs": [],
   "source": [
    "# Your code here"
   ]
  },
  {
   "cell_type": "markdown",
   "metadata": {},
   "source": [
    "Le code ci-dessous doit renvoyer les quinze premiers adverbes de la liste :"
   ]
  },
  {
   "cell_type": "code",
   "execution_count": null,
   "metadata": {},
   "outputs": [],
   "source": [
    "print([adverb for adverb in adverbs[:15]])"
   ]
  },
  {
   "cell_type": "markdown",
   "metadata": {},
   "source": [
    "## Constituer un dictionnaire des adverbes du corpus\n",
    "\n",
    "Servez-vous de la liste des adverbes pour établir, dans une variable `corpus_adverbs` un dictionnaire de la fréquence d’apparition des adverbes présents dans votre corpus. Ce dictionnaire adoptera la structure suivante :\n",
    "\n",
    "```py\n",
    "{\n",
    "    'category': {\n",
    "        'adverb': nb_occurrences,\n",
    "        'adverb': nb_occurrences,\n",
    "    }\n",
    "}\n",
    "```\n",
    "\n",
    "Par exemple, pour notre corpus extrait des commentaires de *Allociné* :\n",
    "\n",
    "```py\n",
    "{\n",
    "    'avengers': {\n",
    "        'très': 24,\n",
    "        'également': 4,\n",
    "        'plus': 40,\n",
    "        …\n",
    "    },\n",
    "    'logan': {\n",
    "        'extrêmement': 3,\n",
    "        'déjà': 9,\n",
    "        …\n",
    "    }\n",
    "}\n",
    "```"
   ]
  },
  {
   "cell_type": "code",
   "execution_count": null,
   "metadata": {},
   "outputs": [],
   "source": [
    "# Your code here"
   ]
  },
  {
   "cell_type": "markdown",
   "metadata": {},
   "source": [
    "Le code ci-dessous doit renvoyer le nombre d’occurrences de quinze adverbes appartenant à la première catégorie de votre corpus :"
   ]
  },
  {
   "cell_type": "code",
   "execution_count": null,
   "metadata": {},
   "outputs": [],
   "source": [
    "a_category = list(corpus_adverbs.keys())[0]\n",
    "some_adverbs = list(corpus_adverbs[a_category].keys())[:15]\n",
    "for adverb in some_adverbs:\n",
    "    print(adverb, corpus_adverbs[a_category][adverb])"
   ]
  },
  {
   "cell_type": "markdown",
   "metadata": {},
   "source": [
    "## Repérer les adverbes en commun\n",
    "\n",
    "À présent, il s’agit de repérer, parmi tous les adverbes du corpus, ceux qui apparaissent dans chaque catégorie. Constituez d’abord, dans une variable `l_adv`, une liste simple des adverbes de chaque catégorie, sous la forme :\n",
    "```py\n",
    "[['très', 'peu', 'alors', …], ['longuement', 'très', …] …]\n",
    "```"
   ]
  },
  {
   "cell_type": "code",
   "execution_count": null,
   "metadata": {},
   "outputs": [],
   "source": [
    "# Your code here"
   ]
  },
  {
   "cell_type": "markdown",
   "metadata": {},
   "source": [
    "Le code ci-dessous se chargera de produire l’ensemble des adverbes en commun de chaque liste :"
   ]
  },
  {
   "cell_type": "code",
   "execution_count": null,
   "metadata": {},
   "outputs": [],
   "source": [
    "common_adverbs = set(l_adv[0]).intersection(*l_adv)"
   ]
  },
  {
   "cell_type": "markdown",
   "metadata": {},
   "source": [
    "Vous pouvez vérifier son contenu :"
   ]
  },
  {
   "cell_type": "code",
   "execution_count": null,
   "metadata": {},
   "outputs": [],
   "source": [
    "print([adverb for adverb in common_adverbs])"
   ]
  },
  {
   "cell_type": "markdown",
   "metadata": {},
   "source": [
    "## Établir une distribution des fréquences des adverbes\n",
    "\n",
    "Confrontez la liste des adverbes en commun à chaque catégorie de votre corpus afin de comptabiliser le total de leurs occurrences dans un objet `frequencies` de type `FreqDist`, disponible dans le sous-module `nltk.probability`."
   ]
  },
  {
   "cell_type": "code",
   "execution_count": null,
   "metadata": {},
   "outputs": [],
   "source": [
    "# Your code here"
   ]
  },
  {
   "cell_type": "markdown",
   "metadata": {},
   "source": [
    "Vérifiez la validité de votre résultat en affichant les cinq adverbes les plus fréquents de votre corpus :"
   ]
  },
  {
   "cell_type": "code",
   "execution_count": null,
   "metadata": {},
   "outputs": [],
   "source": [
    "print(frequencies.most_common(5))"
   ]
  },
  {
   "cell_type": "markdown",
   "metadata": {},
   "source": [
    "Vous avez désormais la possibilité d’afficher un diagramme des vingt-cinq adverbes les plus utilisés dans votre corpus ! Pour cela, utilisez la méthode `plot()` sans oublier de définir le paramètre `title` pour lequel vous fournirez un titre adéquat."
   ]
  },
  {
   "cell_type": "code",
   "execution_count": null,
   "metadata": {},
   "outputs": [],
   "source": [
    "# Your code here"
   ]
  },
  {
   "cell_type": "markdown",
   "metadata": {},
   "source": [
    "## Zoom sur les dix adverbes les plus fréquents du corpus\n",
    "\n",
    "Chargez en mémoire la liste des dix adverbes les plus fréquents de votre corpus :"
   ]
  },
  {
   "cell_type": "code",
   "execution_count": null,
   "metadata": {},
   "outputs": [],
   "source": [
    "most_common = frequencies.most_common(10)"
   ]
  },
  {
   "cell_type": "markdown",
   "metadata": {},
   "source": [
    "Concevez à présent, dans une variable `zoom_adv` un dictionnaire de ces adverbes avec leurs fréquences d’apparitions dans chaque catégorie de votre corpus. Il prendra la forme :\n",
    "```py\n",
    "{\n",
    "    'adverb': {\n",
    "        'category': nb_occurrences,\n",
    "        'category': nb_occurences,\n",
    "        …\n",
    "    },\n",
    "    …\n",
    "}\n",
    "```\n",
    "Par exemple, pour notre corpus des commentaires sur *Allociné*, nous obtenons :\n",
    "```py\n",
    "{\n",
    "    'plus': {\n",
    "        'avengers': 40,\n",
    "        'logan': 45,\n",
    "        'interstellar': 43,\n",
    "        …\n",
    "    },\n",
    "    'encore': {\n",
    "        'avengers': 9,\n",
    "        'logan': 12,\n",
    "        'interstellar': 12,\n",
    "        …\n",
    "    }\n",
    "    …\n",
    "}\n",
    "```"
   ]
  },
  {
   "cell_type": "code",
   "execution_count": null,
   "metadata": {},
   "outputs": [],
   "source": [
    "# Your code here"
   ]
  },
  {
   "cell_type": "markdown",
   "metadata": {},
   "source": [
    "La dernière étape consiste à afficher un diagramme de la distribution par fréquence de chaque adverbe :"
   ]
  },
  {
   "cell_type": "code",
   "execution_count": null,
   "metadata": {},
   "outputs": [],
   "source": [
    "# Your code here"
   ]
  }
 ],
 "metadata": {
  "kernelspec": {
   "display_name": "Python 3",
   "language": "python",
   "name": "python3"
  },
  "language_info": {
   "codemirror_mode": {
    "name": "ipython",
    "version": 3
   },
   "file_extension": ".py",
   "mimetype": "text/x-python",
   "name": "python",
   "nbconvert_exporter": "python",
   "pygments_lexer": "ipython3",
   "version": "3.8.0"
  }
 },
 "nbformat": 4,
 "nbformat_minor": 4
}
