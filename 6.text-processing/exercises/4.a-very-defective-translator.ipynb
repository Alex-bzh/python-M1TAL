{
 "cells": [
  {
   "cell_type": "markdown",
   "metadata": {},
   "source": [
    "# Un traducteur anglais-français très imparfait\n",
    "\n",
    "L’objectif de cet exercice est de fournir, à partir de WordNet et d’une liste de tokens au format mot/étiquette, la traduction d’un terme anglais en français.\n",
    "\n",
    "Le premier paragraphe du *The Cat in the Hat* du Dr. Seuss servira de référence :"
   ]
  },
  {
   "cell_type": "code",
   "execution_count": null,
   "metadata": {},
   "outputs": [],
   "source": [
    "text = \"The/DT sun/NN did/VBD not/RB shine/VB ./. It/PRP was/VB too/RB wet/JJ to/TO play/VB ./.\""
   ]
  },
  {
   "cell_type": "markdown",
   "metadata": {},
   "source": [
    "## Tokenisation\n",
    "\n",
    "Le paragraphe dans l’objet `text` étant déjà étiqueté, la tokenisation est nettement simplifiée. En utilisant la méthode `split()`, produisez une variable `tokens` qui enregistre les différents tokens du paragraphe dans une liste de tuples au format `(word, tag)`."
   ]
  },
  {
   "cell_type": "code",
   "execution_count": null,
   "metadata": {},
   "outputs": [],
   "source": [
    "# Your code here"
   ]
  },
  {
   "cell_type": "markdown",
   "metadata": {},
   "source": [
    "## Lemmatisation\n",
    "\n",
    "WordNet permet de lemmatiser un mot à partir de son étiquette grammaticale, à partir du moment où elle fait partie des quatre grandes catégories : *a* (adjectif), *n* (nom), *r* (adverbe), *v* (verbe).\n",
    "\n",
    "En vous aidant de la fonction `map_pos()` qui fait la correspondance entre les étiquettes par défaut et celles prises en compte par WordNet, obtenez une liste de tuples sous la forme `(lemma, tag)`."
   ]
  },
  {
   "cell_type": "code",
   "execution_count": null,
   "metadata": {},
   "outputs": [],
   "source": [
    "def map_pos(tag):\n",
    "    \"\"\"Map a treebank tag with the WordNet part-of-speech tags.\n",
    "\n",
    "    tag -- tag in treebank style\n",
    "    \"\"\"\n",
    "    if tag.startswith('J'):\n",
    "        return 'a'\n",
    "    elif tag.startswith('V'):\n",
    "        return 'v'\n",
    "    elif tag.startswith('N'):\n",
    "        return 'n'\n",
    "    elif tag.startswith('R'):\n",
    "        return 'r'\n",
    "    else:\n",
    "        return False"
   ]
  },
  {
   "cell_type": "code",
   "execution_count": null,
   "metadata": {},
   "outputs": [],
   "source": [
    "# Your code here"
   ]
  },
  {
   "cell_type": "markdown",
   "metadata": {},
   "source": [
    "## Une liste de synsets\n",
    "\n",
    "Les *synsets* de WordNet étant traduits en français, construisez un dictionnaire avec, pour chaque lemme, la liste de ses *synsets*."
   ]
  },
  {
   "cell_type": "code",
   "execution_count": null,
   "metadata": {},
   "outputs": [],
   "source": [
    "# Your code here"
   ]
  },
  {
   "cell_type": "markdown",
   "metadata": {},
   "source": [
    "## Traduction\n",
    "\n",
    "Il ne reste plus, pour chaque lemme, qu’à traduire ses *synsets* en français. Intégrez le tout dans un dictionnaire où, pour chaque lemme anglais, on a une liste de traductions possibles."
   ]
  },
  {
   "cell_type": "code",
   "execution_count": null,
   "metadata": {},
   "outputs": [],
   "source": [
    "# Your code here"
   ]
  }
 ],
 "metadata": {
  "kernelspec": {
   "display_name": "Python 3",
   "language": "python",
   "name": "python3"
  },
  "language_info": {
   "codemirror_mode": {
    "name": "ipython",
    "version": 3
   },
   "file_extension": ".py",
   "mimetype": "text/x-python",
   "name": "python",
   "nbconvert_exporter": "python",
   "pygments_lexer": "ipython3",
   "version": "3.8.0"
  }
 },
 "nbformat": 4,
 "nbformat_minor": 4
}
