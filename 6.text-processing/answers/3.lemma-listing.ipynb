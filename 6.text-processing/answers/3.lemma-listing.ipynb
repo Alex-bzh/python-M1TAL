{
 "cells": [
  {
   "cell_type": "markdown",
   "metadata": {},
   "source": [
    "# Obtenir une liste de lemmes"
   ]
  },
  {
   "cell_type": "markdown",
   "metadata": {},
   "source": [
    "L’objectif de ce TD est de dresser une liste des lemmes du poème [*God of the Meridian*](../data/god-of-the-meridian.txt) de John Keats dans une structure de données qui enregistre des tuples sous la forme `(word, lemma)`."
   ]
  },
  {
   "cell_type": "markdown",
   "metadata": {},
   "source": [
    "## Charger le fichier"
   ]
  },
  {
   "cell_type": "markdown",
   "metadata": {},
   "source": [
    "Sachant qu’il se trouve à l’adresse `../data/god-of-the-meridian.txt`, la première étape consiste à charger le contenu du poème dans une variable `text` grâce par exemple à la méthode `.read()` de l’interface des objets fichier :"
   ]
  },
  {
   "cell_type": "code",
   "execution_count": null,
   "metadata": {},
   "outputs": [],
   "source": [
    "# your code here\n",
    "\n",
    "# path\n",
    "path_to_text = '../data/god-of-the-meridian.txt'\n",
    "\n",
    "# read the text\n",
    "with open(path_to_text) as file:\n",
    "    text = file.read()"
   ]
  },
  {
   "cell_type": "markdown",
   "metadata": {},
   "source": [
    "## Segmentation en mots"
   ]
  },
  {
   "cell_type": "markdown",
   "metadata": {},
   "source": [
    "Une fois le contenu du poème dans une variable `text`, il convient de le segmenter en une liste de mots. Une stratégie possible serait de se reposer sur la fonction `word_tokenize()` du module `nltk.tokenize` :"
   ]
  },
  {
   "cell_type": "code",
   "execution_count": null,
   "metadata": {},
   "outputs": [],
   "source": [
    "# your code here\n",
    "\n",
    "# import useful function\n",
    "from nltk.tokenize import word_tokenize\n",
    "\n",
    "# a list of words\n",
    "words = word_tokenize(text)"
   ]
  },
  {
   "cell_type": "markdown",
   "metadata": {},
   "source": [
    "## Lemmatisation"
   ]
  },
  {
   "cell_type": "markdown",
   "metadata": {},
   "source": [
    "Il reste maintenant à instancier un lemmatiseur, par exemple à partir de la classe `WordNetLemmatizer` du module `nltk.stem` :"
   ]
  },
  {
   "cell_type": "code",
   "execution_count": null,
   "metadata": {},
   "outputs": [],
   "source": [
    "# your code here\n",
    "\n",
    "# import\n",
    "from nltk.stem import WordNetLemmatizer\n",
    "\n",
    "# a lemmatizer\n",
    "lemmatizer = WordNetLemmatizer()"
   ]
  },
  {
   "cell_type": "markdown",
   "metadata": {},
   "source": [
    "Grâce à votre lemmatiseur, obtenez à présent une liste des lemmes du poème :"
   ]
  },
  {
   "cell_type": "code",
   "execution_count": null,
   "metadata": {},
   "outputs": [],
   "source": [
    "# your code here\n",
    "\n",
    "# a list of lemmas\n",
    "lemmas = [ (lemmatizer.lemmatize(word), word) for word in words]"
   ]
  },
  {
   "cell_type": "markdown",
   "metadata": {},
   "source": [
    "Dans un second temps, affichez uniquement les mots pour lesquels le lemme a une graphie différente (ex. : pommes ==> pomme)."
   ]
  },
  {
   "cell_type": "code",
   "execution_count": null,
   "metadata": {},
   "outputs": [],
   "source": [
    "# your code here\n",
    "[\n",
    "    f\"{word} ==> {lemma}\"\n",
    "    for word, lemma in lemmas if word != lemma\n",
    "]"
   ]
  }
 ],
 "metadata": {
  "kernelspec": {
   "display_name": "Python 3 (ipykernel)",
   "language": "python",
   "name": "python3"
  },
  "language_info": {
   "codemirror_mode": {
    "name": "ipython",
    "version": 3
   },
   "file_extension": ".py",
   "mimetype": "text/x-python",
   "name": "python",
   "nbconvert_exporter": "python",
   "pygments_lexer": "ipython3",
   "version": "3.10.6"
  }
 },
 "nbformat": 4,
 "nbformat_minor": 4
}
