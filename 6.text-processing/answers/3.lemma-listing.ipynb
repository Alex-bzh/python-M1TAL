{
 "cells": [
  {
   "cell_type": "markdown",
   "metadata": {},
   "source": [
    "# Obtenir une liste de lemmes\n",
    "\n",
    "Dressez une liste des lemmes du poème *God of the Meridian* de John Keats dans une structure de données qui enregistre des tuples sous la forme `(word, lemma)`."
   ]
  },
  {
   "cell_type": "code",
   "execution_count": null,
   "metadata": {},
   "outputs": [],
   "source": [
    "path_to_text = '../data/god-of-the-meridian.txt'"
   ]
  },
  {
   "cell_type": "code",
   "execution_count": null,
   "metadata": {},
   "outputs": [],
   "source": [
    "# Your code here\n",
    "\n",
    "# Modules to import\n",
    "from nltk.tokenize import word_tokenize\n",
    "from nltk.stem import WordNetLemmatizer\n",
    "\n",
    "# Read the text\n",
    "with open(path_to_text) as file:\n",
    "    text = file.read()\n",
    "\n",
    "# A lemmatizer\n",
    "lemmatizer = WordNetLemmatizer()\n",
    "\n",
    "# Tokenization\n",
    "words = word_tokenize(text)\n",
    "\n",
    "# List of lemmas\n",
    "lemmas = [ (lemmatizer.lemmatize(word), word) for word in words]"
   ]
  },
  {
   "cell_type": "markdown",
   "metadata": {},
   "source": [
    "Dans un second temps, affichez uniquement les mots pour lesquels le lemme a une graphie différente (ex. : pommes ==> pomme)."
   ]
  },
  {
   "cell_type": "code",
   "execution_count": null,
   "metadata": {},
   "outputs": [],
   "source": [
    "# Your code here\n",
    "[\n",
    "    f\"{word} ==> {lemma}\"\n",
    "    for word, lemma in lemmas if word != lemma\n",
    "]"
   ]
  }
 ],
 "metadata": {
  "kernelspec": {
   "display_name": "Python 3",
   "language": "python",
   "name": "python3"
  },
  "language_info": {
   "codemirror_mode": {
    "name": "ipython",
    "version": 3
   },
   "file_extension": ".py",
   "mimetype": "text/x-python",
   "name": "python",
   "nbconvert_exporter": "python",
   "pygments_lexer": "ipython3",
   "version": "3.8.0"
  }
 },
 "nbformat": 4,
 "nbformat_minor": 4
}
