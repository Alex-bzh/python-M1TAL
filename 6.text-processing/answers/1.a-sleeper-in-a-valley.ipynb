{
 "cells": [
  {
   "cell_type": "markdown",
   "metadata": {},
   "source": [
    "# Ne vous endormez pas !\n",
    "\n",
    "Concevez une fonction nommée `nb_words()` qui comptabilise le nombre de mots d’un texte français en vous appuyant sur *Le dormeur du val* de Rimbaud."
   ]
  },
  {
   "cell_type": "code",
   "execution_count": null,
   "metadata": {},
   "outputs": [],
   "source": [
    "path_to_text = '../data/dormeur-du-val.txt'"
   ]
  },
  {
   "cell_type": "code",
   "execution_count": null,
   "metadata": {},
   "outputs": [],
   "source": [
    "# Modules to import\n",
    "import nltk\n",
    "from nltk.tokenize import RegexpTokenizer"
   ]
  },
  {
   "cell_type": "code",
   "execution_count": null,
   "metadata": {},
   "outputs": [],
   "source": [
    "# Design your function\n",
    "def nb_words(path):\n",
    "    \"\"\"Count the number of words in a text,\n",
    "    regardless of punctuation.\n",
    "    \n",
    "    path -- path to the text\n",
    "    \"\"\"\n",
    "    # Matches only the words\n",
    "    tokenizer = RegexpTokenizer('\\w+')\n",
    "    \n",
    "    # Read the file as raw\n",
    "    with open(path_to_text) as file:\n",
    "        text = file.read()\n",
    "\n",
    "    return len(tokenizer.tokenize(text))"
   ]
  },
  {
   "cell_type": "code",
   "execution_count": null,
   "metadata": {},
   "outputs": [],
   "source": [
    "# Check the result\n",
    "nb = nb_words(path_to_text)\n",
    "if nb != 121:\n",
    "    print(f\"Vous avez trouvé {nb} mots. La bonne réponse était : 121 !\")\n",
    "else:\n",
    "    print(\"Résultat correct !\")"
   ]
  }
 ],
 "metadata": {
  "kernelspec": {
   "display_name": "Python 3",
   "language": "python",
   "name": "python3"
  },
  "language_info": {
   "codemirror_mode": {
    "name": "ipython",
    "version": 3
   },
   "file_extension": ".py",
   "mimetype": "text/x-python",
   "name": "python",
   "nbconvert_exporter": "python",
   "pygments_lexer": "ipython3",
   "version": "3.8.0"
  }
 },
 "nbformat": 4,
 "nbformat_minor": 4
}
