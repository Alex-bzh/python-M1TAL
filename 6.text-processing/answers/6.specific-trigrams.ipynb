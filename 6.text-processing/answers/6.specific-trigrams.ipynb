{
 "cells": [
  {
   "cell_type": "markdown",
   "metadata": {},
   "source": [
    "# Cibler des trigrammes\n",
    "\n",
    "Si l’on part d’un problème très simple : quels sont les cinq trigrammes les plus fréquents associés au mot *punique* dans le roman *Salammbô* de Flaubert ?"
   ]
  },
  {
   "cell_type": "markdown",
   "metadata": {},
   "source": [
    "## Préparer les données\n",
    "\n",
    "Dans cette partie, il s’agit simplement de découper le texte en unités (mots) et de repérer les trigrammes qui font sens.\n",
    "\n",
    "**Étape 1 :** Charger les modules nécessaires."
   ]
  },
  {
   "cell_type": "code",
   "execution_count": null,
   "metadata": {},
   "outputs": [],
   "source": [
    "# Your code here\n",
    "from nltk.corpus import PlaintextCorpusReader, stopwords\n",
    "from nltk.collocations import TrigramCollocationFinder\n",
    "from nltk.metrics import TrigramAssocMeasures"
   ]
  },
  {
   "cell_type": "markdown",
   "metadata": {},
   "source": [
    "**Étape 2 :** établir une liste de mots du corpus."
   ]
  },
  {
   "cell_type": "code",
   "execution_count": null,
   "metadata": {},
   "outputs": [],
   "source": [
    "# Your code here\n",
    "corpus = PlaintextCorpusReader('../data', '.*', encoding='utf8')\n",
    "words = [word.lower() for word in corpus.words('salammbo.txt')]"
   ]
  },
  {
   "cell_type": "markdown",
   "metadata": {},
   "source": [
    "**Étape 3 :** détecter les trigrammes."
   ]
  },
  {
   "cell_type": "code",
   "execution_count": null,
   "metadata": {},
   "outputs": [],
   "source": [
    "# Your code here\n",
    "collocations = TrigramCollocationFinder.from_words(words)"
   ]
  },
  {
   "cell_type": "markdown",
   "metadata": {},
   "source": [
    "## Filtrer les résultats\n",
    "\n",
    "Si nous jetons un œil aux résultats obtenus, ils ne sont pas très probants. Et pour cause, les unités les plus fréquentes dans un texte sont naturellement des unités vides de sens, très courtes (moins de trois caractères) et qui parfois ne sont même pas des mots (signes de ponctuation)."
   ]
  },
  {
   "cell_type": "code",
   "execution_count": null,
   "metadata": {},
   "outputs": [],
   "source": [
    "collocations.nbest(TrigramAssocMeasures.raw_freq, 5)"
   ]
  },
  {
   "cell_type": "markdown",
   "metadata": {},
   "source": [
    "**Étape 4 :** régler le filtre pour les mots vides."
   ]
  },
  {
   "cell_type": "code",
   "execution_count": null,
   "metadata": {},
   "outputs": [],
   "source": [
    "# Your code here\n",
    "ignored_words = stopwords.words('french')\n",
    "filter_stopwords = lambda w: w in ignored_words or len(w) < 3"
   ]
  },
  {
   "cell_type": "markdown",
   "metadata": {},
   "source": [
    "À cette étape, nous pouvons régler un autre filtre, celui du mot à voir figurer dans les trigrammes (*punique*)."
   ]
  },
  {
   "cell_type": "code",
   "execution_count": null,
   "metadata": {},
   "outputs": [],
   "source": [
    "# Lambda function to filter the trigrams which do not contain the word \"punique\"\n",
    "filter_word = lambda *w: 'punique' not in w"
   ]
  },
  {
   "cell_type": "markdown",
   "metadata": {},
   "source": [
    "**Étape 5 :** appliquer les filtres."
   ]
  },
  {
   "cell_type": "code",
   "execution_count": null,
   "metadata": {},
   "outputs": [],
   "source": [
    "# Your code here\n",
    "collocations.apply_word_filter(filter_stopwords)\n",
    "collocations.apply_ngram_filter(filter_word)"
   ]
  },
  {
   "cell_type": "markdown",
   "metadata": {},
   "source": [
    "## Scoring\n",
    "\n",
    "**Étape 6 :** attribuer un score avec la fonction de vraisemblance."
   ]
  },
  {
   "cell_type": "code",
   "execution_count": null,
   "metadata": {},
   "outputs": [],
   "source": [
    "# Your code here\n",
    "likelihood = TrigramAssocMeasures.likelihood_ratio"
   ]
  },
  {
   "cell_type": "markdown",
   "metadata": {},
   "source": [
    "**Étape 7 :** sortir les cinq meilleurs résultats."
   ]
  },
  {
   "cell_type": "code",
   "execution_count": null,
   "metadata": {},
   "outputs": [],
   "source": [
    "# Your code here\n",
    "collocations.nbest(likelihood, 5)"
   ]
  },
  {
   "cell_type": "markdown",
   "metadata": {},
   "source": [
    "## Pour aller plus loin\n",
    "\n",
    "Et si l’on avait voulu ne sélectionner que les trigrammes dont le dernier élément est le mot *punique* ? Dans ce cas, la fonction de filtre doit être modifiée pour évacuer les trigrammes dont le dernier élément n’est pas la chaîne de caractères `punique` avant de relancer tout le traitement :"
   ]
  },
  {
   "cell_type": "code",
   "execution_count": null,
   "metadata": {},
   "outputs": [],
   "source": [
    "filter_word = lambda w1, w2, w3: 'punique' not in w3"
   ]
  }
 ],
 "metadata": {
  "kernelspec": {
   "display_name": "Python 3",
   "language": "python",
   "name": "python3"
  },
  "language_info": {
   "codemirror_mode": {
    "name": "ipython",
    "version": 3
   },
   "file_extension": ".py",
   "mimetype": "text/x-python",
   "name": "python",
   "nbconvert_exporter": "python",
   "pygments_lexer": "ipython3",
   "version": "3.8.0"
  }
 },
 "nbformat": 4,
 "nbformat_minor": 4
}
