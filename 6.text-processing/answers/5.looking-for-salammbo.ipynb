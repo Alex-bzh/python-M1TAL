{
 "cells": [
  {
   "cell_type": "markdown",
   "metadata": {},
   "source": [
    "# À la recherche de Salammbô\n",
    "\n",
    "Dans cet exercice, nous nous intéressons aux bigrammes du roman *Salammbô* de Flaubert qui concernent le personnage de Salammbô.\n",
    "\n",
    "Après avoir découpé le texte en unités de mots, nous établirons une liste de bigrammes sur laquelle nous appliquerons un filtre afin de ne retenir que ceux qui contiennent la chaîne `salammbô`. Il sera ensuite facile d’obtenir une distribution statistique des bigrammes de la liste."
   ]
  },
  {
   "cell_type": "markdown",
   "metadata": {},
   "source": [
    "## Préparer les données\n",
    "\n",
    "**Étape 1 :** charger le texte dans une variable."
   ]
  },
  {
   "cell_type": "code",
   "execution_count": null,
   "metadata": {},
   "outputs": [],
   "source": [
    "# Your code here\n",
    "with open('../data/salammbo.txt') as file:\n",
    "    text = file.read()"
   ]
  },
  {
   "cell_type": "markdown",
   "metadata": {},
   "source": [
    "**Étape 2 :** obtenir une liste de mots à partir du texte."
   ]
  },
  {
   "cell_type": "code",
   "execution_count": null,
   "metadata": {},
   "outputs": [],
   "source": [
    "# Your code here\n",
    "from nltk.tokenize import RegexpTokenizer\n",
    "\n",
    "# Regexp: selects only words\n",
    "tokenizer = RegexpTokenizer(r'\\w+')\n",
    "\n",
    "# Tokenization\n",
    "words = [\n",
    "    word.lower()\n",
    "    for word in tokenizer.tokenize(text)\n",
    "]"
   ]
  },
  {
   "cell_type": "markdown",
   "metadata": {},
   "source": [
    "## Constituer une liste de bigrammes\n",
    "\n",
    "**Étape 3 :** lister les bigrammes."
   ]
  },
  {
   "cell_type": "code",
   "execution_count": null,
   "metadata": {},
   "outputs": [],
   "source": [
    "# Your code here\n",
    "from nltk import bigrams\n",
    "\n",
    "# Bigrams\n",
    "bigrams = bigrams(words)"
   ]
  },
  {
   "cell_type": "markdown",
   "metadata": {},
   "source": [
    "**Étape 4 :** supprimer les bigrammes qui contiennent des mots vides de sens."
   ]
  },
  {
   "cell_type": "code",
   "execution_count": null,
   "metadata": {},
   "outputs": [],
   "source": [
    "# Your code here\n",
    "from nltk.corpus import stopwords\n",
    "\n",
    "# List stopwords\n",
    "ignored_words = stopwords.words('french')\n",
    "\n",
    "clean_bigrams = [\n",
    "    (n1, n2)\n",
    "    for n1, n2 in bigrams\n",
    "    if n1 not in ignored_words\n",
    "    and n2 not in ignored_words\n",
    "]"
   ]
  },
  {
   "cell_type": "markdown",
   "metadata": {},
   "source": [
    "## Filtrer les bigrammes\n",
    "\n",
    "**Étape 5 :** ne retenir que les bigrammes qui font référence au personnage de Salammbô."
   ]
  },
  {
   "cell_type": "code",
   "execution_count": null,
   "metadata": {},
   "outputs": [],
   "source": [
    "# Your code here\n",
    "salammbo = list(filter(lambda x: 'salammbô' in x, clean_bigrams))"
   ]
  },
  {
   "cell_type": "markdown",
   "metadata": {},
   "source": [
    "## Afficher un diagramme\n",
    "\n",
    "**Étape 6 :** convertir la liste de résultats en objet de type `FreqDist`."
   ]
  },
  {
   "cell_type": "code",
   "execution_count": null,
   "metadata": {},
   "outputs": [],
   "source": [
    "# Your code here\n",
    "from nltk.probability import FreqDist\n",
    "\n",
    "fq = FreqDist(salammbo)"
   ]
  },
  {
   "cell_type": "markdown",
   "metadata": {},
   "source": [
    "**Étape 7 :** afficher les quinze résultats les plus fréquents."
   ]
  },
  {
   "cell_type": "code",
   "execution_count": null,
   "metadata": {},
   "outputs": [],
   "source": [
    "# Your code here\n",
    "fq.plot(15)"
   ]
  }
 ],
 "metadata": {
  "kernelspec": {
   "display_name": "Python 3",
   "language": "python",
   "name": "python3"
  },
  "language_info": {
   "codemirror_mode": {
    "name": "ipython",
    "version": 3
   },
   "file_extension": ".py",
   "mimetype": "text/x-python",
   "name": "python",
   "nbconvert_exporter": "python",
   "pygments_lexer": "ipython3",
   "version": "3.8.0"
  }
 },
 "nbformat": 4,
 "nbformat_minor": 4
}
