{
 "cells": [
  {
   "cell_type": "markdown",
   "metadata": {},
   "source": [
    "# Comptez vos baleines\n",
    "\n",
    "Constituez une liste triée par fréquence des mots présents dans *Moby Dick* de Herman Melville. Le texte du roman est disponible dans le corpus Gutenberg."
   ]
  },
  {
   "cell_type": "code",
   "execution_count": null,
   "metadata": {},
   "outputs": [],
   "source": [
    "# Modules to import\n",
    "import string\n",
    "import nltk\n",
    "from nltk.corpus import gutenberg, stopwords"
   ]
  },
  {
   "cell_type": "code",
   "execution_count": null,
   "metadata": {},
   "outputs": [],
   "source": [
    "# Your code here\n",
    "def occurrences(words):\n",
    "    \"\"\"Builds up a dictionary of words and the count of their\n",
    "    occurrences. Ex : {'boat': 34, 'whale': 55}\n",
    "    \n",
    "    Keyword argument:\n",
    "    words -- list of tokens\n",
    "    \"\"\"\n",
    "    result = {}\n",
    "    for word in words:\n",
    "            result.update({\n",
    "                word: result.get(word, 0) + 1\n",
    "            })\n",
    "    return result"
   ]
  },
  {
   "cell_type": "code",
   "execution_count": null,
   "metadata": {},
   "outputs": [],
   "source": [
    "# List of words in Moby Dick\n",
    "words = gutenberg.words('melville-moby_dick.txt')"
   ]
  },
  {
   "cell_type": "code",
   "execution_count": null,
   "metadata": {},
   "outputs": [],
   "source": [
    "# Filtered word list\n",
    "filtered = stopwords.words('english') + list(string.punctuation)\n",
    "words = [w.lower() for w in words if w not in filtered]"
   ]
  },
  {
   "cell_type": "code",
   "execution_count": null,
   "metadata": {},
   "outputs": [],
   "source": [
    "# Builds up a dictionary of occurrences\n",
    "occurrences = occurrences(words)"
   ]
  },
  {
   "cell_type": "code",
   "execution_count": null,
   "metadata": {},
   "outputs": [],
   "source": [
    "# Transforms the dict into a sortable object\n",
    "results = list(occurrences.items())"
   ]
  },
  {
   "cell_type": "code",
   "execution_count": null,
   "metadata": {},
   "outputs": [],
   "source": [
    "# Sorting by decreasing number of occurrences\n",
    "results.sort(key=lambda this:this[1], reverse=True)"
   ]
  }
 ],
 "metadata": {
  "kernelspec": {
   "display_name": "Python 3",
   "language": "python",
   "name": "python3"
  },
  "language_info": {
   "codemirror_mode": {
    "name": "ipython",
    "version": 3
   },
   "file_extension": ".py",
   "mimetype": "text/x-python",
   "name": "python",
   "nbconvert_exporter": "python",
   "pygments_lexer": "ipython3",
   "version": "3.8.0"
  }
 },
 "nbformat": 4,
 "nbformat_minor": 4
}
