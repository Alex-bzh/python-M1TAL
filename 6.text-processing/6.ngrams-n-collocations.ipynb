{
 "cells": [
  {
   "cell_type": "markdown",
   "metadata": {
    "slideshow": {
     "slide_type": "slide"
    }
   },
   "source": [
    "# *N*-grammes et collocations"
   ]
  },
  {
   "cell_type": "markdown",
   "metadata": {
    "slideshow": {
     "slide_type": "slide"
    }
   },
   "source": [
    "\n",
    "## Définitions\n",
    "\n",
    "### *N*-grammes\n",
    "\n",
    "En traitement automatique du langage naturel, un *n*-gramme représente simplement une séquence de plusieurs mots.\n",
    "\n",
    "Pour ne s'attacher qu’aux séquences de deux mots, on dénombre cinq bigrammes dans l’énoncé suivant :\n",
    "\n",
    "```txt\n",
    "(1) Le petit chat boit du lait.\n",
    "```"
   ]
  },
  {
   "cell_type": "markdown",
   "metadata": {
    "slideshow": {
     "slide_type": "subslide"
    }
   },
   "source": [
    "Ces bigrammes sont :\n",
    "1. Le, petit\n",
    "2. petit, chat\n",
    "3. chat, boit\n",
    "4. boit, du\n",
    "5. du, lait"
   ]
  },
  {
   "cell_type": "markdown",
   "metadata": {
    "slideshow": {
     "slide_type": "fragment"
    }
   },
   "source": [
    "Dans cette liste, tous les bigrammes n’ont pas le même poids. Quand *boit, du* ne veut pas dire grand chose, le bigramme *petit, chat* est bien plus significatif. C’est ici qu’entrent en jeu les collocations."
   ]
  },
  {
   "cell_type": "markdown",
   "metadata": {
    "slideshow": {
     "slide_type": "subslide"
    }
   },
   "source": [
    "### Collocations\n",
    "\n",
    "Exprimée simplement, la collocation est le processus d’identification de deux ou plusieurs mots qui apparaissent fréquemment ensemble dans un énoncé."
   ]
  },
  {
   "cell_type": "markdown",
   "metadata": {
    "slideshow": {
     "slide_type": "fragment"
    }
   },
   "source": [
    "Elle permet de mettre en évidence, dans un énoncé, différents phénomènes linguistiques comme :\n",
    "- la lexicalisation (*au fur et à mesure*, *c’est-à-dire*)\n",
    "- les tics de langage (*pas de souci*, *ou pas*, *voilà voilà*)\n",
    "- les cooccurrences privilégiées (*courir vite*, *procès d’intention*, *soleil de plomb*)"
   ]
  },
  {
   "cell_type": "markdown",
   "metadata": {
    "slideshow": {
     "slide_type": "subslide"
    }
   },
   "source": [
    "Pour être élue comme collocation, la cooccurrence doit être plus fréquente dans l’énoncé que chacun des éléments qui la composent.\n",
    "\n",
    "Par exemple, la cooccurrence *nuit noire* n’est qualifiée de collocation que si elle est plus fréquente que les termes *nuit* et *noire*."
   ]
  },
  {
   "cell_type": "markdown",
   "metadata": {
    "slideshow": {
     "slide_type": "slide"
    }
   },
   "source": [
    "## Lister des *n*-grammes\n",
    "\n",
    "La librairie NLTK met à disposition des méthodes pour lister facilement les *n*-grammes dans un énoncé. Ces méthodes ayant besoin en entrée d’une liste de mots, une étape préalable de tokenisation est indispensable :"
   ]
  },
  {
   "cell_type": "code",
   "execution_count": null,
   "metadata": {
    "slideshow": {
     "slide_type": "-"
    }
   },
   "outputs": [],
   "source": [
    "from nltk.tokenize import word_tokenize\n",
    "\n",
    "sent = \"Le petit chat boit du lait.\"\n",
    "words = word_tokenize(sent)"
   ]
  },
  {
   "cell_type": "markdown",
   "metadata": {
    "slideshow": {
     "slide_type": "subslide"
    }
   },
   "source": [
    "Pour lister les bigrammes, appeler la méthode `bigrams()` :"
   ]
  },
  {
   "cell_type": "code",
   "execution_count": null,
   "metadata": {
    "slideshow": {
     "slide_type": "-"
    }
   },
   "outputs": [],
   "source": [
    "from nltk import bigrams\n",
    "\n",
    "bigrams = bigrams(words)\n",
    "print(list(bigrams))"
   ]
  },
  {
   "cell_type": "markdown",
   "metadata": {
    "slideshow": {
     "slide_type": "fragment"
    }
   },
   "source": [
    "Même principe pour les trigrammes :"
   ]
  },
  {
   "cell_type": "code",
   "execution_count": null,
   "metadata": {
    "slideshow": {
     "slide_type": "-"
    }
   },
   "outputs": [],
   "source": [
    "from nltk import trigrams\n",
    "\n",
    "trigrams = trigrams(words)\n",
    "print(list(trigrams))"
   ]
  },
  {
   "cell_type": "markdown",
   "metadata": {
    "slideshow": {
     "slide_type": "subslide"
    }
   },
   "source": [
    "Et au-delà ? Une méthode `ngrams()` avec un paramètre `n` pour définir le *n*-gramme souhaité. Par exemple pour des tétragrammes (4-grammes) :"
   ]
  },
  {
   "cell_type": "code",
   "execution_count": null,
   "metadata": {
    "slideshow": {
     "slide_type": "-"
    }
   },
   "outputs": [],
   "source": [
    "from nltk import ngrams\n",
    "\n",
    "tetragrams = ngrams(words, 4)\n",
    "print(list(tetragrams))"
   ]
  },
  {
   "cell_type": "markdown",
   "metadata": {
    "slideshow": {
     "slide_type": "subslide"
    }
   },
   "source": [
    "Afin d’améliorer les résultats, supprimer les mots vides et la ponctuation :"
   ]
  },
  {
   "cell_type": "code",
   "execution_count": null,
   "metadata": {
    "slideshow": {
     "slide_type": "-"
    }
   },
   "outputs": [],
   "source": [
    "from nltk import bigrams\n",
    "from nltk.tokenize import RegexpTokenizer\n",
    "from nltk.corpus import stopwords\n",
    "\n",
    "# Regexp: selects only words\n",
    "tokenizer = RegexpTokenizer(r'\\w+')\n",
    "# List stopwords\n",
    "stopwords = stopwords.words('french')\n",
    "# Tokenization\n",
    "words = [\n",
    "    word.lower()\n",
    "    for word in tokenizer.tokenize(sent)\n",
    "]"
   ]
  },
  {
   "cell_type": "markdown",
   "metadata": {
    "slideshow": {
     "slide_type": "subslide"
    }
   },
   "source": [
    "On ne sélectionne un bigramme que si aucun de ses éléments ne fait partie des mots vides :"
   ]
  },
  {
   "cell_type": "code",
   "execution_count": null,
   "metadata": {
    "slideshow": {
     "slide_type": "-"
    }
   },
   "outputs": [],
   "source": [
    "bigrams = bigrams(words)\n",
    "clean_bigrams = [\n",
    "    (n1, n2)\n",
    "    for n1, n2 in bigrams\n",
    "    if n1 not in stopwords\n",
    "    and n2 not in stopwords\n",
    "]\n",
    "\n",
    "print(list(clean_bigrams))"
   ]
  },
  {
   "cell_type": "markdown",
   "metadata": {
    "slideshow": {
     "slide_type": "slide"
    }
   },
   "source": [
    "## Détecter des collocations\n",
    "\n",
    "Les classes `BigramCollocationFinder` et `TrigramCollocationFinder`, permettent de dénicher dans un texte les 2-grammes et 3-grammes qui forment des collocations :"
   ]
  },
  {
   "cell_type": "code",
   "execution_count": null,
   "metadata": {
    "slideshow": {
     "slide_type": "-"
    }
   },
   "outputs": [],
   "source": [
    "from nltk.collocations import BigramCollocationFinder, TrigramCollocationFinder"
   ]
  },
  {
   "cell_type": "markdown",
   "metadata": {
    "slideshow": {
     "slide_type": "subslide"
    }
   },
   "source": [
    "En entrée, ces classes ont besoin qu’on leur fournisse une liste de mots :"
   ]
  },
  {
   "cell_type": "code",
   "execution_count": null,
   "metadata": {
    "slideshow": {
     "slide_type": "-"
    }
   },
   "outputs": [],
   "source": [
    "from nltk.corpus import PlaintextCorpusReader\n",
    "\n",
    "# Loading the corpus\n",
    "corpus = PlaintextCorpusReader('./data', '.*', encoding='utf8')\n",
    "# List of words\n",
    "words = [word.lower() for word in corpus.words('salammbo.txt')]\n",
    "# 2-grams collocation finder\n",
    "collocations = BigramCollocationFinder.from_words(words)"
   ]
  },
  {
   "cell_type": "markdown",
   "metadata": {
    "slideshow": {
     "slide_type": "fragment"
    }
   },
   "source": [
    "### Score des *n*-grammes\n",
    "\n",
    "Le package `nltk.metrics` offre des outils de mesure adaptés pour attribuer un score aux *n*-grammes :"
   ]
  },
  {
   "cell_type": "code",
   "execution_count": null,
   "metadata": {
    "slideshow": {
     "slide_type": "-"
    }
   },
   "outputs": [],
   "source": [
    "from nltk.metrics import BigramAssocMeasures, TrigramAssocMeasures"
   ]
  },
  {
   "cell_type": "markdown",
   "metadata": {
    "slideshow": {
     "slide_type": "subslide"
    }
   },
   "source": [
    "Parmi les outils de mesure à disposition, [la fonction de vraisemblance](https://fr.wikipedia.org/wiki/Rapport_de_vraisemblance) (*likelihood ratio*) est souvent la première à utiliser :"
   ]
  },
  {
   "cell_type": "code",
   "execution_count": null,
   "metadata": {
    "slideshow": {
     "slide_type": "-"
    }
   },
   "outputs": [],
   "source": [
    "likelihood = BigramAssocMeasures.likelihood_ratio"
   ]
  },
  {
   "cell_type": "markdown",
   "metadata": {
    "slideshow": {
     "slide_type": "fragment"
    }
   },
   "source": [
    "Et pour obtenir ensuite les *n* bigrammes les plus fréquents, appeler la méthode `nbest()` :"
   ]
  },
  {
   "cell_type": "code",
   "execution_count": null,
   "metadata": {
    "slideshow": {
     "slide_type": "-"
    }
   },
   "outputs": [],
   "source": [
    "collocations.nbest(likelihood, 5)"
   ]
  },
  {
   "cell_type": "markdown",
   "metadata": {
    "slideshow": {
     "slide_type": "subslide"
    }
   },
   "source": [
    "La méthode `score_ngrams()` permet de connaître le score attribué aux *n*-grammes :"
   ]
  },
  {
   "cell_type": "code",
   "execution_count": null,
   "metadata": {
    "slideshow": {
     "slide_type": "-"
    }
   },
   "outputs": [],
   "source": [
    "collocations.score_ngrams(likelihood)[:5]"
   ]
  },
  {
   "cell_type": "markdown",
   "metadata": {
    "slideshow": {
     "slide_type": "fragment"
    }
   },
   "source": [
    "Ce qui permet de limiter les résultats aux *n*-grammes qui dépassent un certain score :"
   ]
  },
  {
   "cell_type": "code",
   "execution_count": null,
   "metadata": {
    "slideshow": {
     "slide_type": "-"
    }
   },
   "outputs": [],
   "source": [
    "print(list(collocations.above_score(likelihood, 2000)))"
   ]
  },
  {
   "cell_type": "markdown",
   "metadata": {
    "slideshow": {
     "slide_type": "subslide"
    }
   },
   "source": [
    "En plus de la fonction de vraisemblance, citons quelques autres outils de mesure :\n",
    "- la fréquence d’apparition\n",
    "- la [PMI](https://en.wikipedia.org/wiki/Pointwise_mutual_information) (*Pointwise mutual information*)\n",
    "- le [test de Student](https://fr.wikipedia.org/wiki/Test_de_Student)\n",
    "- le [test du $χ^2$](https://fr.wikipedia.org/wiki/Test_du_%CF%87%C2%B2)"
   ]
  },
  {
   "cell_type": "code",
   "execution_count": null,
   "metadata": {
    "slideshow": {
     "slide_type": "subslide"
    }
   },
   "outputs": [],
   "source": [
    "print(f\"Fréquence d’apparition : {collocations.nbest(BigramAssocMeasures.raw_freq, 5)}\")\n",
    "print(f\"PMI : {collocations.nbest(BigramAssocMeasures.pmi, 5)}\")\n",
    "print(f\"Test t : {collocations.nbest(BigramAssocMeasures.student_t, 5)}\")\n",
    "print(f\"Khi carré : {collocations.nbest(BigramAssocMeasures.chi_sq, 5)}\")"
   ]
  },
  {
   "cell_type": "markdown",
   "metadata": {
    "slideshow": {
     "slide_type": "subslide"
    }
   },
   "source": [
    "### Filtrer les résultats\n",
    "\n",
    "Les résultats ne sont pas très probants : ponctuations et mots vides ressortent comme les plus fréquents. Une méthode `apply_word_filter()` ajoute un filtre sur les mots sélectionnés :"
   ]
  },
  {
   "cell_type": "code",
   "execution_count": null,
   "metadata": {
    "slideshow": {
     "slide_type": "-"
    }
   },
   "outputs": [],
   "source": [
    "from nltk.corpus import stopwords\n",
    "\n",
    "# List of stopwords\n",
    "stopwords = stopwords.words('french')\n",
    "# A filter calls a lambda function\n",
    "filter_stopwords = lambda w: w in stopwords\n",
    "collocations.apply_word_filter(filter_stopwords)"
   ]
  },
  {
   "cell_type": "markdown",
   "metadata": {
    "slideshow": {
     "slide_type": "subslide"
    }
   },
   "source": [
    "Même si la situation s’améliore, les signes de ponctuation perturbent encore les résultats :"
   ]
  },
  {
   "cell_type": "code",
   "execution_count": null,
   "metadata": {
    "slideshow": {
     "slide_type": "-"
    }
   },
   "outputs": [],
   "source": [
    "collocations.nbest(likelihood, 5)"
   ]
  },
  {
   "cell_type": "markdown",
   "metadata": {
    "slideshow": {
     "slide_type": "subslide"
    }
   },
   "source": [
    "La solution consiste à modifier le filtre afin de supprimer les mots de un ou deux caractères :"
   ]
  },
  {
   "cell_type": "code",
   "execution_count": null,
   "metadata": {
    "slideshow": {
     "slide_type": "-"
    }
   },
   "outputs": [],
   "source": [
    "filter_stopwords = lambda w: w in stopwords or len(w) < 3\n",
    "collocations.apply_word_filter(filter_stopwords)\n",
    "collocations.nbest(likelihood, 5)"
   ]
  },
  {
   "cell_type": "markdown",
   "metadata": {
    "slideshow": {
     "slide_type": "subslide"
    }
   },
   "source": [
    "Il est également possible d’imposer une fréquence d’apparition minimale à un *n*-gramme grâce à la méthode `apply_freq_filter()` :"
   ]
  },
  {
   "cell_type": "code",
   "execution_count": null,
   "metadata": {
    "slideshow": {
     "slide_type": "-"
    }
   },
   "outputs": [],
   "source": [
    "collocations.apply_freq_filter(3)\n",
    "collocations.nbest(likelihood, 5)"
   ]
  }
 ],
 "metadata": {
  "celltoolbar": "Diaporama",
  "kernelspec": {
   "display_name": "Python 3",
   "language": "python",
   "name": "python3"
  },
  "language_info": {
   "codemirror_mode": {
    "name": "ipython",
    "version": 3
   },
   "file_extension": ".py",
   "mimetype": "text/x-python",
   "name": "python",
   "nbconvert_exporter": "python",
   "pygments_lexer": "ipython3",
   "version": "3.8.0"
  }
 },
 "nbformat": 4,
 "nbformat_minor": 4
}
