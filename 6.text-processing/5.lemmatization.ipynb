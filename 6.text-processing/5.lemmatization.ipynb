{
 "cells": [
  {
   "cell_type": "markdown",
   "metadata": {
    "slideshow": {
     "slide_type": "slide"
    }
   },
   "source": [
    "# Lemmatisation"
   ]
  },
  {
   "cell_type": "markdown",
   "metadata": {
    "slideshow": {
     "slide_type": "slide"
    }
   },
   "source": [
    "## Définition\n",
    "\n",
    "Un lemme, en linguistique, est la forme canonique d’un mot. Sous le terme de lemmatisation, on désigne l’opération consistant à obtenir le lemme d’une occurrence, qu’elle soit fléchie ou non, afin, souvent, de produire un lexique."
   ]
  },
  {
   "cell_type": "markdown",
   "metadata": {
    "slideshow": {
     "slide_type": "fragment"
    }
   },
   "source": [
    "En traitement automatique d’un texte, la lemmatisation intervient après la segmentation en mots. C’est une phase importante qui demande d’être sensibilisé aux questions de désambiguïsation."
   ]
  },
  {
   "cell_type": "markdown",
   "metadata": {
    "slideshow": {
     "slide_type": "subslide"
    }
   },
   "source": [
    "En dehors de tout contexte, le mot *dérive* en français pourrait en effet être aussi bien une forme fléchie du verbe *dériver* (1) qu’une occurrence du substantif féminin (2) :\n",
    "1. *Sans pilote, le bateau dérive.*\n",
    "2. *La dérive du navire est capricieuse.*"
   ]
  },
  {
   "cell_type": "markdown",
   "metadata": {
    "slideshow": {
     "slide_type": "fragment"
    }
   },
   "source": [
    "En anglais, le mot *duck* quant à lui peut entre autres se référer à un animal (3) ou à une action d’évitement (4) :\n",
    "3. *The ducks are gathering near the bank.*\n",
    "4. *He had to duck the question.*"
   ]
  },
  {
   "cell_type": "markdown",
   "metadata": {
    "slideshow": {
     "slide_type": "subslide"
    }
   },
   "source": [
    "### Racinisation\n",
    "\n",
    "Derrière le terme de racinisation on range l’opération de suppression des affixes d’un terme :  \n",
    "- *enclaver* => *clav* après suppression du préfixe *en-* et du suffixe *-er*\n",
    "- *donner* => *don* après suppression du suffixe *-er*\n",
    "\n",
    "NLTK fournit une implémentation de l’algorithme de racinisation de Martin Porter, accessible par le biais de la classe `PorterStemmer` :"
   ]
  },
  {
   "cell_type": "code",
   "execution_count": null,
   "metadata": {
    "slideshow": {
     "slide_type": "-"
    }
   },
   "outputs": [],
   "source": [
    "from nltk.stem import PorterStemmer\n",
    "stemmer = PorterStemmer()\n",
    "stemmer.stem('wondering')"
   ]
  },
  {
   "cell_type": "markdown",
   "metadata": {
    "slideshow": {
     "slide_type": "subslide"
    }
   },
   "source": [
    "D’autres algorithmes sont présents dans NLTK, comme celui de Paice-Husk :"
   ]
  },
  {
   "cell_type": "code",
   "execution_count": null,
   "metadata": {
    "slideshow": {
     "slide_type": "-"
    }
   },
   "outputs": [],
   "source": [
    "from nltk.stem import LancasterStemmer\n",
    "stemmer = LancasterStemmer()\n",
    "stemmer.stem('wondering')"
   ]
  },
  {
   "cell_type": "markdown",
   "metadata": {
    "slideshow": {
     "slide_type": "fragment"
    }
   },
   "source": [
    "Ou encore un autre personnalisable, se basant sur les expressions rationnelles, à réserver aux cas particuliers qui ne seraient pas couverts par les deux premiers :"
   ]
  },
  {
   "cell_type": "code",
   "execution_count": null,
   "metadata": {
    "slideshow": {
     "slide_type": "-"
    }
   },
   "outputs": [],
   "source": [
    "from nltk.stem import RegexpStemmer\n",
    "stemmer = RegexpStemmer('et')\n",
    "stemmer.stem('chevalet')"
   ]
  },
  {
   "cell_type": "markdown",
   "metadata": {
    "slideshow": {
     "slide_type": "subslide"
    }
   },
   "source": [
    "NLTK fournit également une interface avec les algorithmes [Snowball](https://snowballstem.org/), qui couvrent 15 langues en plus d’implémenter l’algorithme de Martin Porter :"
   ]
  },
  {
   "cell_type": "code",
   "execution_count": null,
   "metadata": {
    "slideshow": {
     "slide_type": "-"
    }
   },
   "outputs": [],
   "source": [
    "from nltk.stem import SnowballStemmer\n",
    "print(SnowballStemmer.languages)"
   ]
  },
  {
   "cell_type": "markdown",
   "metadata": {
    "slideshow": {
     "slide_type": "fragment"
    }
   },
   "source": [
    "Pour le français, il suffit d’instancier une classe `SnowballStemmer()` :"
   ]
  },
  {
   "cell_type": "code",
   "execution_count": null,
   "metadata": {
    "slideshow": {
     "slide_type": "-"
    }
   },
   "outputs": [],
   "source": [
    "stemmer_fr = SnowballStemmer('french')\n",
    "stemmer_fr.stem('chevalier')"
   ]
  },
  {
   "cell_type": "markdown",
   "metadata": {
    "slideshow": {
     "slide_type": "slide"
    }
   },
   "source": [
    "## La lemmatisation avec WordNet\n",
    "\n",
    "Plutôt que de manipuler les *synsets* de Wordnet pour atteindre les lemmes d’un terme, NLTK facilite les opérations grâce à un lemmatiseur embarqué :"
   ]
  },
  {
   "cell_type": "code",
   "execution_count": null,
   "metadata": {
    "slideshow": {
     "slide_type": "-"
    }
   },
   "outputs": [],
   "source": [
    "from nltk.stem import WordNetLemmatizer\n",
    "lemmatizer = WordNetLemmatizer()\n",
    "lemmatizer.lemmatize('wondering')"
   ]
  },
  {
   "cell_type": "markdown",
   "metadata": {
    "slideshow": {
     "slide_type": "fragment"
    }
   },
   "source": [
    "La lemmatisation dépend donc grandement de l’étiquette grammaticale (*POS tagging*) affectée au terme, contrairement à la racinisation qui, elle, repose sur la morphologie :"
   ]
  },
  {
   "cell_type": "code",
   "execution_count": null,
   "metadata": {
    "slideshow": {
     "slide_type": "-"
    }
   },
   "outputs": [],
   "source": [
    "lemmatizer.lemmatize('wondering', pos='v')"
   ]
  },
  {
   "cell_type": "markdown",
   "metadata": {
    "slideshow": {
     "slide_type": "subslide"
    }
   },
   "source": [
    "Pour rappel, les étiquettes grammaticales adoptées par WordNet sont :\n",
    "- `n` : *noun*\n",
    "- `a` : *adjective*\n",
    "- `r` : *adverb*\n",
    "- `v` : *verb*"
   ]
  },
  {
   "cell_type": "markdown",
   "metadata": {
    "slideshow": {
     "slide_type": "slide"
    }
   },
   "source": [
    "## Un lemmatiseur pour le français\n",
    "\n",
    "Le lexique morphologique et syntaxique du français [*Lefff*](http://alpage.inria.fr/~sagot/lefff-en.html) a servi de support pour le *French LEFFF Lemmatizer*, un outil en Python qui lemmatise très facilement des termes français.\n",
    "\n",
    "Pour l’installation, se reporter au [GitHub du projet](https://github.com/ClaudeCoulombe/FrenchLefffLemmatizer)."
   ]
  },
  {
   "cell_type": "markdown",
   "metadata": {
    "slideshow": {
     "slide_type": "subslide"
    }
   },
   "source": [
    "Une fois l’installation effectuée, il s’importe comme n’importe quel module :"
   ]
  },
  {
   "cell_type": "code",
   "execution_count": null,
   "metadata": {
    "slideshow": {
     "slide_type": "-"
    }
   },
   "outputs": [],
   "source": [
    "from french_lefff_lemmatizer.french_lefff_lemmatizer import FrenchLefffLemmatizer"
   ]
  },
  {
   "cell_type": "markdown",
   "metadata": {
    "slideshow": {
     "slide_type": "fragment"
    }
   },
   "source": [
    "Créer ensuite une nouvelle instance de la classe :"
   ]
  },
  {
   "cell_type": "code",
   "execution_count": null,
   "metadata": {
    "slideshow": {
     "slide_type": "-"
    }
   },
   "outputs": [],
   "source": [
    "lemmatizer = FrenchLefffLemmatizer()"
   ]
  },
  {
   "cell_type": "markdown",
   "metadata": {
    "slideshow": {
     "slide_type": "fragment"
    }
   },
   "source": [
    "Et lancer la lemmatisation sur un mot :"
   ]
  },
  {
   "cell_type": "code",
   "execution_count": null,
   "metadata": {
    "slideshow": {
     "slide_type": "-"
    }
   },
   "outputs": [],
   "source": [
    "lemmatizer.lemmatize('avions')"
   ]
  },
  {
   "cell_type": "markdown",
   "metadata": {
    "slideshow": {
     "slide_type": "subslide"
    }
   },
   "source": [
    "Comme pour la lemmatisation avec *WordNet*, elle dépend ici aussi de l’étiquette grammaticale du mot :"
   ]
  },
  {
   "cell_type": "code",
   "execution_count": null,
   "metadata": {
    "slideshow": {
     "slide_type": "-"
    }
   },
   "outputs": [],
   "source": [
    "lemmatizer.lemmatize('avions', 'v')"
   ]
  },
  {
   "cell_type": "markdown",
   "metadata": {
    "slideshow": {
     "slide_type": "fragment"
    }
   },
   "source": [
    "Pour obtenir la liste complète des propositions, fixer le paramètre à `all` :"
   ]
  },
  {
   "cell_type": "code",
   "execution_count": null,
   "metadata": {
    "slideshow": {
     "slide_type": "-"
    }
   },
   "outputs": [],
   "source": [
    "lemmatizer.lemmatize('avions', 'all')"
   ]
  },
  {
   "cell_type": "markdown",
   "metadata": {
    "slideshow": {
     "slide_type": "subslide"
    }
   },
   "source": [
    "Pour aller plus loin, le constructeur permet de limiter les résultats grâce à un paramètre `load_only_pos` qui transmet une liste d’étiquettes parmi le jeu *WordNet* (`a`, `n`, `r`, `v`)."
   ]
  },
  {
   "cell_type": "code",
   "execution_count": null,
   "metadata": {
    "slideshow": {
     "slide_type": "-"
    }
   },
   "outputs": [],
   "source": [
    "lemmatizer = FrenchLefffLemmatizer(load_only_pos=['n', 'a'])\n",
    "lemmatizer.lemmatize('avions','all')"
   ]
  },
  {
   "cell_type": "markdown",
   "metadata": {
    "slideshow": {
     "slide_type": "fragment"
    }
   },
   "source": [
    "À noter que les étiquettes grammaticales indiquées dans les résultats proviennent du [*tagset* FRMG](http://alpage.inria.fr/frmgwiki/content/tagset-frmg)."
   ]
  }
 ],
 "metadata": {
  "celltoolbar": "Diaporama",
  "kernelspec": {
   "display_name": "Python 3",
   "language": "python",
   "name": "python3"
  },
  "language_info": {
   "codemirror_mode": {
    "name": "ipython",
    "version": 3
   },
   "file_extension": ".py",
   "mimetype": "text/x-python",
   "name": "python",
   "nbconvert_exporter": "python",
   "pygments_lexer": "ipython3",
   "version": "3.7.7"
  }
 },
 "nbformat": 4,
 "nbformat_minor": 4
}
