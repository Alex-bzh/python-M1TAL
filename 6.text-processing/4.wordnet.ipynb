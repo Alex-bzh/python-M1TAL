{
 "cells": [
  {
   "cell_type": "markdown",
   "metadata": {
    "slideshow": {
     "slide_type": "slide"
    }
   },
   "source": [
    "# WordNet"
   ]
  },
  {
   "cell_type": "markdown",
   "metadata": {
    "slideshow": {
     "slide_type": "fragment"
    }
   },
   "source": [
    "**WordNet :** base de données lexicales pour l’anglais.\n",
    "\n",
    "NLTK fournit une interface d’interrogation."
   ]
  },
  {
   "cell_type": "markdown",
   "metadata": {
    "slideshow": {
     "slide_type": "slide"
    }
   },
   "source": [
    "## Les Synsets de WordNet\n",
    "\n",
    "Liste de *Synsets* pour un terme donné.\n",
    "\n",
    "**Synsets** : ensembles de synonymes pour chaque acception.\n",
    "\n",
    "Souvent, un seul *Synset*."
   ]
  },
  {
   "cell_type": "code",
   "execution_count": null,
   "metadata": {
    "slideshow": {
     "slide_type": "-"
    }
   },
   "outputs": [],
   "source": [
    "# Import Wordnet\n",
    "import nltk\n",
    "from nltk.corpus import wordnet"
   ]
  },
  {
   "cell_type": "code",
   "execution_count": null,
   "metadata": {},
   "outputs": [],
   "source": [
    "# Synsets of the word \"Duck\"\n",
    "syn = wordnet.synsets('duck')\n",
    "print(syn)"
   ]
  },
  {
   "cell_type": "markdown",
   "metadata": {
    "slideshow": {
     "slide_type": "subslide"
    }
   },
   "source": [
    "Pour chaque *synset* d’un terme, on peut obtenir :\n",
    "- sa définition\n",
    "- des exemples d’utilisation\n",
    "- son étiquette grammaticale (*n*, *a*, *r* ou *v*)\n",
    "- la liste de ses hyponymes et de ses hyperonymes\n",
    "- les plus proches hyperonymes communs avec un autre *synset*\n",
    "- ses lemmes"
   ]
  },
  {
   "cell_type": "code",
   "execution_count": null,
   "metadata": {
    "slideshow": {
     "slide_type": "-"
    }
   },
   "outputs": [],
   "source": [
    "definition = syn[0].definition()\n",
    "examples = syn[4].examples()\n",
    "tag = syn[0].pos()\n",
    "hypernyms = syn[0].hypernyms()\n",
    "hyponyms = syn[0].hyponyms()\n",
    "lemmas = syn[7].lemmas()\n",
    "related = syn[0].lowest_common_hypernyms(wordnet.synset('boat.n.01'))"
   ]
  },
  {
   "cell_type": "markdown",
   "metadata": {
    "slideshow": {
     "slide_type": "slide"
    }
   },
   "source": [
    "### Rechercher les synonymes\n",
    "\n",
    "Les lemmes d’un *Synset* se concevant comme des synonymes, l’une des finalités envisageables serait par exemple d’en obtenir la liste pour une certaine catégorie grammaticale :"
   ]
  },
  {
   "cell_type": "code",
   "execution_count": null,
   "metadata": {
    "slideshow": {
     "slide_type": "-"
    }
   },
   "outputs": [],
   "source": [
    "def get_synonyms(word, pos=None):\n",
    "    \"\"\"Lists all possible synonyms of a word, except the word itself.\n",
    "    \n",
    "    Keyword arguments:\n",
    "    word -- the word to look up\n",
    "    pos -- POS-tagging\n",
    "    \"\"\"\n",
    "    synonyms = set()\n",
    "    synsets = wordnet.synsets(word, pos=pos)\n",
    "    for synset in synsets:\n",
    "        [synonyms.add(lemma.name()) for lemma in synset.lemmas()]\n",
    "    synonyms.remove(word)\n",
    "    return synonyms\n",
    "\n",
    "synonyms = get_synonyms('duck', 'v')\n",
    "print(synonyms)"
   ]
  },
  {
   "cell_type": "markdown",
   "metadata": {
    "slideshow": {
     "slide_type": "slide"
    }
   },
   "source": [
    "### Rechercher les antonymes\n",
    "\n",
    "À l’inverse, on peut aussi bien lister les antonymes d’un *Synset* particulier :"
   ]
  },
  {
   "cell_type": "code",
   "execution_count": null,
   "metadata": {
    "slideshow": {
     "slide_type": "-"
    }
   },
   "outputs": [],
   "source": [
    "def get_antonyms(synset):\n",
    "    \"\"\"Lists the antonyms of all the possible synonyms of a\n",
    "    particular Synset.\n",
    "    \n",
    "    Keyword argument:\n",
    "    synset -- the given synset\n",
    "    \"\"\"\n",
    "    antonyms = set()\n",
    "    for lemma in synset.lemmas():\n",
    "        [antonyms.add(antonym.name()) for antonym in lemma.antonyms()]\n",
    "    return antonyms\n",
    "\n",
    "kind = wordnet.synset('kind.a.01')\n",
    "antonyms = get_antonyms(kind)"
   ]
  },
  {
   "cell_type": "markdown",
   "metadata": {
    "slideshow": {
     "slide_type": "slide"
    }
   },
   "source": [
    "### Comparer des *synsets*\n",
    "\n",
    "L’accès aux hyperonymes et aux hyponymes d’un *synset* permet de :\n",
    "- remonter jusqu’à l’hyperonyme racine\n",
    "- obtenir la liste des *synsets* voisins\n",
    "- calculer la similarité lexicale entre deux *synsets*"
   ]
  },
  {
   "cell_type": "code",
   "execution_count": null,
   "metadata": {
    "slideshow": {
     "slide_type": "-"
    }
   },
   "outputs": [],
   "source": [
    "# Start synset\n",
    "duck = wordnet.synset('duck.n.01')"
   ]
  },
  {
   "cell_type": "markdown",
   "metadata": {
    "slideshow": {
     "slide_type": "subslide"
    }
   },
   "source": [
    "Comment obtenir la liste des *synsets* voisins ?"
   ]
  },
  {
   "cell_type": "code",
   "execution_count": null,
   "metadata": {
    "slideshow": {
     "slide_type": "-"
    }
   },
   "outputs": [],
   "source": [
    "duck_hypernym = duck.hypernyms()[0]\n",
    "duck_related = duck_hypernym.hyponyms()\n",
    "print(duck_related)"
   ]
  },
  {
   "cell_type": "markdown",
   "metadata": {
    "slideshow": {
     "slide_type": "fragment"
    }
   },
   "source": [
    "Comment remonter jusqu’à l’hyperonyme racine ?"
   ]
  },
  {
   "cell_type": "code",
   "execution_count": null,
   "metadata": {
    "slideshow": {
     "slide_type": "-"
    }
   },
   "outputs": [],
   "source": [
    "path_to_duck = duck.hypernym_paths()\n",
    "print(path_to_duck)"
   ]
  },
  {
   "cell_type": "markdown",
   "metadata": {
    "slideshow": {
     "slide_type": "subslide"
    }
   },
   "source": [
    "Comment calculer la similitude entre deux *synsets* ?"
   ]
  },
  {
   "cell_type": "code",
   "execution_count": null,
   "metadata": {
    "slideshow": {
     "slide_type": "-"
    }
   },
   "outputs": [],
   "source": [
    "duck = wordnet.synset('duck.n.01')\n",
    "goose = wordnet.synset('goose.n.01')\n",
    "whale = wordnet.synset('whale.n.01')\n",
    "boat = wordnet.synset('boat.n.01')"
   ]
  },
  {
   "cell_type": "markdown",
   "metadata": {
    "slideshow": {
     "slide_type": "fragment"
    }
   },
   "source": [
    "Les différents calculs de similarité lexicale se basent sur la plus courte distance entre les *synsets* et un hyperonyme commun :"
   ]
  },
  {
   "cell_type": "code",
   "execution_count": null,
   "metadata": {
    "slideshow": {
     "slide_type": "-"
    }
   },
   "outputs": [],
   "source": [
    "goose.shortest_path_distance(duck)"
   ]
  },
  {
   "cell_type": "markdown",
   "metadata": {
    "slideshow": {
     "slide_type": "subslide"
    }
   },
   "source": [
    "Quelques calculs de similarité lexicale :"
   ]
  },
  {
   "cell_type": "code",
   "execution_count": null,
   "metadata": {
    "slideshow": {
     "slide_type": "-"
    }
   },
   "outputs": [],
   "source": [
    "# Based on the path\n",
    "path_sim = duck.path_similarity(goose)\n",
    "# Leacock-Chordorow similarity\n",
    "lch_sim = duck.lch_similarity(goose)\n",
    "# Wu-Palmer similarity\n",
    "wu_sim = duck.wup_similarity(goose)"
   ]
  },
  {
   "cell_type": "markdown",
   "metadata": {
    "slideshow": {
     "slide_type": "subslide"
    }
   },
   "source": [
    "Les scores peuvent fortement varier selon la méthode utilisée :"
   ]
  },
  {
   "cell_type": "markdown",
   "metadata": {
    "slideshow": {
     "slide_type": "fragment"
    }
   },
   "source": [
    "- **Leacock-Chordorow :** renvoie un score de similarité lexicale entre deux mots, basé d’une part sur le plus court chemin qui connecte leurs sens et d’autre part sur la profondeur maximale de ces sens dans la taxonomie."
   ]
  },
  {
   "cell_type": "markdown",
   "metadata": {
    "slideshow": {
     "slide_type": "fragment"
    }
   },
   "source": [
    "- **Wu-Palmer :** renvoie un score de similarité lexicale entre les sens de deux mots, basé sur leur profondeur dans la taxonomie ainsi que sur celle de leur ancêtre le plus spécifique (*Least Common Subsumer*)."
   ]
  },
  {
   "cell_type": "markdown",
   "metadata": {
    "slideshow": {
     "slide_type": "subslide"
    }
   },
   "source": [
    "Comme ces calculs reposent sur des hyperonymes communs, ils ne sont pas opportuns :\n",
    "- pour des termes employés dans des contextes grammaticaux différents (*duck*/nom, *duck*/verbe)\n",
    "- pour la similarité entre deux verbes (peu ont un hyperonyme commun)"
   ]
  },
  {
   "cell_type": "markdown",
   "metadata": {
    "slideshow": {
     "slide_type": "fragment"
    }
   },
   "source": [
    "La réponse renvoyée sera de type `None`"
   ]
  },
  {
   "cell_type": "markdown",
   "metadata": {
    "slideshow": {
     "slide_type": "slide"
    }
   },
   "source": [
    "## Un WordNet pour le français ?\n",
    "\n",
    "**WOLF :** Wordnet Libre du Français\n",
    "- depuis 2008\n",
    "- licence libre CeCILL\n",
    "- développé à l’Inria\n",
    "- basé sur la traduction du WordNet de Princeton"
   ]
  },
  {
   "cell_type": "markdown",
   "metadata": {
    "slideshow": {
     "slide_type": "subslide"
    }
   },
   "source": [
    "WOLF est intégré à WordNet :"
   ]
  },
  {
   "cell_type": "code",
   "execution_count": null,
   "metadata": {
    "slideshow": {
     "slide_type": "-"
    }
   },
   "outputs": [],
   "source": [
    "import nltk\n",
    "from nltk.corpus import wordnet\n",
    "synsets = wordnet.synsets('canard', lang='fra')\n",
    "print(synsets)"
   ]
  },
  {
   "cell_type": "markdown",
   "metadata": {
    "slideshow": {
     "slide_type": "fragment"
    }
   },
   "source": [
    "Comme d’autres langues dans le cadre du projet *Open Multilingual WordNet* :"
   ]
  },
  {
   "cell_type": "code",
   "execution_count": null,
   "metadata": {
    "slideshow": {
     "slide_type": "-"
    }
   },
   "outputs": [],
   "source": [
    "print(wordnet.langs())"
   ]
  },
  {
   "cell_type": "markdown",
   "metadata": {
    "slideshow": {
     "slide_type": "subslide"
    }
   },
   "source": [
    "Le paramètre `lang` s’emploie avec les méthodes :\n",
    "- `synsets()` : obtenir la liste des *synsets* d’une langue\n",
    "- `lemma_names()` : obtenir la liste des lemmes pour un *synset*\n",
    "- `lemma()` : construire une instance `Lemma`\n",
    "- `words()` : obtenir une liste des mots du WordNet"
   ]
  },
  {
   "cell_type": "code",
   "execution_count": null,
   "metadata": {
    "slideshow": {
     "slide_type": "-"
    }
   },
   "outputs": [],
   "source": [
    "duck_lemmas = wordnet.synset('duck.n.01').lemma_names('fra')\n",
    "lemma = wordnet.lemma('duck.n.01.canard', lang='fra').name()\n",
    "words_fr = wordnet.words('fra')"
   ]
  },
  {
   "cell_type": "markdown",
   "metadata": {
    "slideshow": {
     "slide_type": "subslide"
    }
   },
   "source": [
    "Quelques ajustements permettent de soutenir une recherche de synonymes multilingue :"
   ]
  },
  {
   "cell_type": "code",
   "execution_count": null,
   "metadata": {
    "slideshow": {
     "slide_type": "-"
    }
   },
   "outputs": [],
   "source": [
    "def get_synonyms(word, pos=None, lang='eng'):\n",
    "    \"\"\"Lists all possible synonyms of a word, except the word itself\n",
    "    for a given language.\n",
    "    \n",
    "    Keyword arguments:\n",
    "    word -- the word to look up\n",
    "    pos -- POS-tagging\n",
    "    lang -- language parameter to translate\n",
    "    \"\"\"\n",
    "    synonyms = set()\n",
    "    synsets = wordnet.synsets(word, pos=pos, lang=lang)\n",
    "    for synset in synsets:\n",
    "        [synonyms.add(lemma.name()) for lemma in synset.lemmas(lang)]\n",
    "    try:\n",
    "        synonyms.remove(word)\n",
    "        return synonyms\n",
    "    except KeyError:\n",
    "        postags = {\"n\": \"noun\", \"a\": \"adjective\", \"v\":\"verb\", \"r\": \"adverb\"}\n",
    "        return f'There is no match for \"{word}\" as {postags[pos]} in \"{lang}\" WordNet version.'\n",
    "\n",
    "synonyms = get_synonyms('barca', 'n', 'ita')"
   ]
  }
 ],
 "metadata": {
  "celltoolbar": "Diaporama",
  "kernelspec": {
   "display_name": "Python 3",
   "language": "python",
   "name": "python3"
  },
  "language_info": {
   "codemirror_mode": {
    "name": "ipython",
    "version": 3
   },
   "file_extension": ".py",
   "mimetype": "text/x-python",
   "name": "python",
   "nbconvert_exporter": "python",
   "pygments_lexer": "ipython3",
   "version": "3.7.7"
  }
 },
 "nbformat": 4,
 "nbformat_minor": 4
}
