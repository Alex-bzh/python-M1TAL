{
 "cells": [
  {
   "cell_type": "markdown",
   "metadata": {
    "slideshow": {
     "slide_type": "slide"
    }
   },
   "source": [
    "# La fréquence d’apparition des mots dans un texte"
   ]
  },
  {
   "cell_type": "markdown",
   "metadata": {},
   "source": [
    "Le nombre d’apparitions d’un terme dans un document est souvent la première mesure statistique que l’on calcule. Elle permet de déterminer rapidement la probabilité d’apparition d’un mot, autrement dit sa fréquence relative, et de concevoir une matrice d’occurrences, voire de cooccurrences."
   ]
  },
  {
   "cell_type": "markdown",
   "metadata": {
    "slideshow": {
     "slide_type": "slide"
    }
   },
   "source": [
    "## Difficulté de la tâche"
   ]
  },
  {
   "cell_type": "markdown",
   "metadata": {},
   "source": [
    "Compter des occurrences revient à subdiviser un objet en éléments et à compter le nombre de fois où chaque élément apparaît. Prenons une liste aléatoire de cent nombres entiers entre 0 et 20 et calculons combien de fois apparaît le nombre 9 :"
   ]
  },
  {
   "cell_type": "code",
   "execution_count": null,
   "metadata": {
    "slideshow": {
     "slide_type": "-"
    }
   },
   "outputs": [],
   "source": [
    "from random import randint\n",
    "\n",
    "l = [ randint(0, 20) for n in range(0, 100) ]\n",
    "\n",
    "print(f\"Le nombre 9 apparaît { l.count(9) } fois.\")"
   ]
  },
  {
   "cell_type": "markdown",
   "metadata": {
    "slideshow": {
     "slide_type": "subslide"
    }
   },
   "source": [
    "On peut réaliser une opération similaire en comptabilisant les apparitions de la lettre *e* dans une phrase :"
   ]
  },
  {
   "cell_type": "code",
   "execution_count": null,
   "metadata": {
    "slideshow": {
     "slide_type": "-"
    }
   },
   "outputs": [],
   "source": [
    "sent = \"En pratique, un pêcheur pêche avec une canne.\"\n",
    "\n",
    "print(f\"La lettre 'e' apparaît { sent.count('e') } fois.\")"
   ]
  },
  {
   "cell_type": "markdown",
   "metadata": {
    "slideshow": {
     "slide_type": "fragment"
    }
   },
   "source": [
    "Python dissocie par défaut le caractère *e* de ses versions accentuée *ê* et majuscule *E*. Plusieurs stratégies peuvent être mises en place pour y remédier :\n",
    "- remplacer les caractères ;\n",
    "- additionner les occurrences de chaque cas ;\n",
    "- normaliser la phrase.\n",
    "\n",
    "Prenons la dernière stratégie en faisant appel à la méthode `.normalize()` du module `unicodedata`, qui décompose une lettre en ses différents constituants :"
   ]
  },
  {
   "cell_type": "code",
   "execution_count": null,
   "metadata": {
    "slideshow": {
     "slide_type": "-"
    }
   },
   "outputs": [],
   "source": [
    "import unicodedata\n",
    "\n",
    "def normalize(s):\n",
    "    \"\"\"Returns the normalized version of a string.\n",
    "\n",
    "    s -- string to normalize\n",
    "    \"\"\"\n",
    "    normalized_string = str()\n",
    "    for c in s:\n",
    "        components = unicodedata.normalize('NFKD', c)\n",
    "        base = components[0]\n",
    "        normalized_string += base.lower()\n",
    "\n",
    "    return normalized_string\n",
    "\n",
    "print(normalize(sent))"
   ]
  },
  {
   "cell_type": "markdown",
   "metadata": {
    "slideshow": {
     "slide_type": "subslide"
    }
   },
   "source": [
    "Grâce à la fonction `map()`, on peut obtenir le même résultat plus rapidement :"
   ]
  },
  {
   "cell_type": "code",
   "execution_count": null,
   "metadata": {
    "slideshow": {
     "slide_type": "-"
    }
   },
   "outputs": [],
   "source": [
    "sent = map(lambda x: unicodedata.normalize('NFKD', x)[0], sent)\n",
    "sent = ''.join(sent)\n",
    "\n",
    "print(f\"La lettre 'e' apparaît { sent.count('e') } fois.\")"
   ]
  },
  {
   "cell_type": "markdown",
   "metadata": {
    "slideshow": {
     "slide_type": "fragment"
    }
   },
   "source": [
    "Et pour basculer en bas de casse :"
   ]
  },
  {
   "cell_type": "code",
   "execution_count": null,
   "metadata": {
    "slideshow": {
     "slide_type": "-"
    }
   },
   "outputs": [],
   "source": [
    "sent = sent.lower()\n",
    "\n",
    "print(f\"La lettre 'e' apparaît { sent.count('e') } fois.\")"
   ]
  },
  {
   "cell_type": "markdown",
   "metadata": {
    "slideshow": {
     "slide_type": "slide"
    }
   },
   "source": [
    "## De l’importance de préparer les données"
   ]
  },
  {
   "cell_type": "markdown",
   "metadata": {},
   "source": [
    "La question de compter des occurrences de mots n’est donc pas si anodine qu’elle peut paraître. La qualité du résultat dépend grandement de la définition de l’objectif que l’on se fixe.\n",
    "\n",
    "Prenons l’exemple du poème *Le dormeur du val* de Rimbaud, pour lequel on souhaite obtenir une liste de tuples de mots trié par leur fréquence d’apparition, puis par ordre alphabétique :\n",
    "```python\n",
    "[('il', 6), ('dans', 5), ('la', 5), ('un', 5)…]\n",
    "```\n",
    "\n",
    "Chargeons-le dans une variable `text` :"
   ]
  },
  {
   "cell_type": "code",
   "execution_count": null,
   "metadata": {
    "tags": []
   },
   "outputs": [],
   "source": [
    "with open('./data/dormeur-du-val.txt') as file:\n",
    "    text = file.read()"
   ]
  },
  {
   "cell_type": "markdown",
   "metadata": {
    "slideshow": {
     "slide_type": "subslide"
    }
   },
   "source": [
    "**1e étape :** découper en une liste de mots."
   ]
  },
  {
   "cell_type": "code",
   "execution_count": null,
   "metadata": {
    "slideshow": {
     "slide_type": "-"
    },
    "tags": []
   },
   "outputs": [],
   "source": [
    "from nltk.tokenize import RegexpTokenizer\n",
    "\n",
    "tokenizer = RegexpTokenizer(\"[\\w]+\")\n",
    "\n",
    "words = tokenizer.tokenize(text)"
   ]
  },
  {
   "cell_type": "markdown",
   "metadata": {
    "slideshow": {
     "slide_type": "subslide"
    }
   },
   "source": [
    "**2e étape :** basculer les mots en bas de casse."
   ]
  },
  {
   "cell_type": "code",
   "execution_count": null,
   "metadata": {
    "slideshow": {
     "slide_type": "-"
    },
    "tags": []
   },
   "outputs": [],
   "source": [
    "words = list(\n",
    "    map(\n",
    "        lambda w:w.lower(),\n",
    "        words\n",
    "    )\n",
    ")"
   ]
  },
  {
   "cell_type": "markdown",
   "metadata": {
    "slideshow": {
     "slide_type": "subslide"
    }
   },
   "source": [
    "**3e étape :** regrouper les mots par fréquence d’apparition."
   ]
  },
  {
   "cell_type": "code",
   "execution_count": null,
   "metadata": {
    "slideshow": {
     "slide_type": "-"
    }
   },
   "outputs": [],
   "source": [
    "def get_occurrences(tokens):\n",
    "    \"\"\"Builds up a dictionary of words and the count of their\n",
    "    occurrences.\n",
    "\n",
    "    tokens -- list of tokens\n",
    "    \"\"\"\n",
    "\n",
    "    occurrences = {}\n",
    "    for token in tokens:\n",
    "        occurrences.update({\n",
    "            token: occurrences.get(token, 0) + 1\n",
    "        })\n",
    "    return occurrences\n",
    "\n",
    "occurrences = get_occurrences(words)"
   ]
  },
  {
   "cell_type": "markdown",
   "metadata": {
    "slideshow": {
     "slide_type": "subslide"
    }
   },
   "source": [
    "**4e étape :** trier le dictionnaire par ordre alphabétique."
   ]
  },
  {
   "cell_type": "code",
   "execution_count": null,
   "metadata": {
    "slideshow": {
     "slide_type": "-"
    }
   },
   "outputs": [],
   "source": [
    "occurrences = sorted(\n",
    "    occurrences.items(),\n",
    "    key=lambda x:x[0]\n",
    ")"
   ]
  },
  {
   "cell_type": "markdown",
   "metadata": {
    "slideshow": {
     "slide_type": "fragment"
    }
   },
   "source": [
    "**5e étape :** trier la liste de tuples par ordre décroissant de fréquence d’apparition."
   ]
  },
  {
   "cell_type": "code",
   "execution_count": null,
   "metadata": {
    "slideshow": {
     "slide_type": "-"
    }
   },
   "outputs": [],
   "source": [
    "occurrences = sorted(\n",
    "    occurrences,\n",
    "    key=lambda x:x[1],\n",
    "    reverse=True\n",
    ")\n",
    "\n",
    "display(occurrences[:10])"
   ]
  },
  {
   "cell_type": "markdown",
   "metadata": {
    "slideshow": {
     "slide_type": "slide"
    }
   },
   "source": [
    "## Améliorer le calcul des occurrences"
   ]
  },
  {
   "cell_type": "markdown",
   "metadata": {},
   "source": [
    "### `defaultdict`"
   ]
  },
  {
   "cell_type": "markdown",
   "metadata": {},
   "source": [
    "La structure de données `defaultdict` nous permet d’améliorer la constitution du dictionnaire des occurrences :"
   ]
  },
  {
   "cell_type": "code",
   "execution_count": null,
   "metadata": {
    "slideshow": {
     "slide_type": "-"
    }
   },
   "outputs": [],
   "source": [
    "from collections import defaultdict\n",
    "\n",
    "occurrences = defaultdict(int)\n",
    "\n",
    "for word in words:\n",
    "    occurrences[word] = occurrences[word] + 1\n",
    "\n",
    "# sorting\n",
    "occurrences = sorted(occurrences.items(), key=lambda x:x[0])\n",
    "occurrences = sorted(occurrences, key=lambda x:x[1], reverse=True)\n",
    "\n",
    "display(occurrences[:10])"
   ]
  },
  {
   "cell_type": "markdown",
   "metadata": {
    "slideshow": {
     "slide_type": "subslide"
    }
   },
   "source": [
    "### `Counter`"
   ]
  },
  {
   "cell_type": "markdown",
   "metadata": {},
   "source": [
    "Il existe toutefois un autre objet du module `collections` qui est encore plus facilement manipulable pour ce genre d’opérations : `Counter`"
   ]
  },
  {
   "cell_type": "code",
   "execution_count": null,
   "metadata": {
    "slideshow": {
     "slide_type": "-"
    }
   },
   "outputs": [],
   "source": [
    "from collections import Counter\n",
    "\n",
    "occurrences = Counter(words)"
   ]
  },
  {
   "cell_type": "markdown",
   "metadata": {
    "slideshow": {
     "slide_type": "fragment"
    }
   },
   "source": [
    "Il a l’avantage d’embarquer une méthode pour afficher la liste des items les plus fréquents :"
   ]
  },
  {
   "cell_type": "code",
   "execution_count": null,
   "metadata": {
    "slideshow": {
     "slide_type": "-"
    }
   },
   "outputs": [],
   "source": [
    "display(occurrences.most_common(10))"
   ]
  },
  {
   "cell_type": "markdown",
   "metadata": {
    "slideshow": {
     "slide_type": "subslide"
    }
   },
   "source": [
    "### `FreqDist`"
   ]
  },
  {
   "cell_type": "markdown",
   "metadata": {},
   "source": [
    "Encore mieux, NLTK inclut un ensemble d’outils pour effectuer des calculs statistiques sur un ensemble de données. L’un d’eux est la classe `FreqDist` du module `nltk.probability`, particulièrement destiné au calcul de la distribution de fréquences."
   ]
  },
  {
   "cell_type": "code",
   "execution_count": null,
   "metadata": {
    "slideshow": {
     "slide_type": "-"
    }
   },
   "outputs": [],
   "source": [
    "import nltk\n",
    "from nltk.probability import FreqDist\n",
    "\n",
    "occurrences = nltk.FreqDist(words)"
   ]
  },
  {
   "cell_type": "markdown",
   "metadata": {
    "slideshow": {
     "slide_type": "subslide"
    }
   },
   "source": [
    "Le résultat est déjà sous la forme d’une liste de tuples triée par ordre de fréquence."
   ]
  },
  {
   "cell_type": "code",
   "execution_count": null,
   "metadata": {
    "slideshow": {
     "slide_type": "-"
    }
   },
   "outputs": [],
   "source": [
    "display(occurrences.most_common(10))"
   ]
  },
  {
   "cell_type": "markdown",
   "metadata": {},
   "source": [
    "Pour afficher sous forme tabulaire sans recourir à une librairie externe (p.ex : `pandas`), utiliser la méthode `.tabulate()` en sélectionnant les items :"
   ]
  },
  {
   "cell_type": "code",
   "execution_count": null,
   "metadata": {},
   "outputs": [],
   "source": [
    "samples = [ w for w,n in occurrences.most_common(10) ]\n",
    "tab = occurrences.tabulate(cumulative=False, samples=samples)"
   ]
  },
  {
   "cell_type": "markdown",
   "metadata": {
    "slideshow": {
     "slide_type": "subslide"
    }
   },
   "source": [
    "En prime, la classe prévoit l’affichage d’un diagramme grâce à une implémentation minimale de `matplotlib` :"
   ]
  },
  {
   "cell_type": "code",
   "execution_count": null,
   "metadata": {
    "slideshow": {
     "slide_type": "-"
    }
   },
   "outputs": [],
   "source": [
    "plot = occurrences.plot(25, cumulative=False)"
   ]
  },
  {
   "cell_type": "markdown",
   "metadata": {
    "slideshow": {
     "slide_type": "subslide"
    }
   },
   "source": [
    "Une dernière astuce pour améliorer la qualité de l’affichage sur les écrans *Retina* :"
   ]
  },
  {
   "cell_type": "code",
   "execution_count": null,
   "metadata": {
    "slideshow": {
     "slide_type": "-"
    }
   },
   "outputs": [],
   "source": [
    "%config InlineBackend.figure_format='retina'\n",
    "\n",
    "plot = occurrences.plot(25, cumulative=False)"
   ]
  },
  {
   "cell_type": "markdown",
   "metadata": {},
   "source": [
    "### `ConditionalFreqDist`"
   ]
  },
  {
   "cell_type": "markdown",
   "metadata": {},
   "source": [
    "De manière analogue, la classe `ConditionalFreqDist` permet d’organiser la distribution de fréquences selon une condition. Par exemple, si nous voulions comptabiliser le nombre d’occurences d’un mot en fonction de sa longueur (nombre de ses caractères) :"
   ]
  },
  {
   "cell_type": "code",
   "execution_count": null,
   "metadata": {},
   "outputs": [],
   "source": [
    "from nltk.probability import ConditionalFreqDist\n",
    "\n",
    "occurrences = nltk.ConditionalFreqDist(\n",
    "    (len(word), word)\n",
    "    for word in words\n",
    ")"
   ]
  },
  {
   "cell_type": "markdown",
   "metadata": {},
   "source": [
    "La méthode `.conditions()` donne accès aux entrées de la condition exprimée (nombre de caractères d’un mot) :"
   ]
  },
  {
   "cell_type": "code",
   "execution_count": null,
   "metadata": {},
   "outputs": [],
   "source": [
    "display(occurrences.conditions())"
   ]
  },
  {
   "cell_type": "markdown",
   "metadata": {},
   "source": [
    "Il est tout autant possible d’afficher un graphique, en limitant par exemple le nombre d’entrées :"
   ]
  },
  {
   "cell_type": "code",
   "execution_count": null,
   "metadata": {
    "tags": []
   },
   "outputs": [],
   "source": [
    "%config InlineBackend.figure_format='retina'\n",
    "\n",
    "plot = occurrences.plot(conditions=[3,8], title=\"Distribution de fréquences des mots de 3 ou 8 caractères\")"
   ]
  },
  {
   "cell_type": "markdown",
   "metadata": {},
   "source": [
    "## La fréquence relative"
   ]
  },
  {
   "cell_type": "markdown",
   "metadata": {},
   "source": [
    "Le dénombrement des mots dans un texte ne donne qu’une mesure absolue de la présence de chacun, sans rien dire de leur importance. Qu’un terme apparaisse trois mille fois est en soi beaucoup, mais au milieu d’un corpus de trois milliards de mots, il ne pèse guère. D’où la nécessité de toujours considérer un chiffre parmi son environnement.\n",
    "\n",
    "Calculer la fréquence relative d’un terme revient à diviser le nombre de fois où il apparaît avec la taille du corpus. En probabilités, la formule revient à :\n",
    "\n",
    "$$\n",
    "p(w) = \\frac{\\text{Card}(w)}{\\text{Card}(\\Omega)}\n",
    "$$\n",
    "\n",
    "Reprenons le dénombrement des mots dans *Le dormeur du val* avec l’aide d’un objet `Counter` :"
   ]
  },
  {
   "cell_type": "code",
   "execution_count": null,
   "metadata": {},
   "outputs": [],
   "source": [
    "occurrences = Counter(words)"
   ]
  },
  {
   "cell_type": "markdown",
   "metadata": {},
   "source": [
    "**Attention !** Comme il s’agit d’un objet de type `dict`, l'expression `len(occurrences)` ne renverra que le nombre de clés dans le dictionnaire. La taille du corpus s’obtient plutôt en effectuant la somme de ses valeurs :"
   ]
  },
  {
   "cell_type": "code",
   "execution_count": null,
   "metadata": {},
   "outputs": [],
   "source": [
    "card_corpus = sum(occurrences.values())"
   ]
  },
  {
   "cell_type": "markdown",
   "metadata": {},
   "source": [
    "La probabilité de l’événement *verdure*, soit $p(\\text{verdure})$, se calcule ensuite directement :"
   ]
  },
  {
   "cell_type": "code",
   "execution_count": null,
   "metadata": {},
   "outputs": [],
   "source": [
    "display(occurrences['verdure'] / card_corpus)"
   ]
  },
  {
   "cell_type": "markdown",
   "metadata": {},
   "source": [
    "## Vers la représentation numérique d’un texte"
   ]
  },
  {
   "cell_type": "markdown",
   "metadata": {},
   "source": [
    "### De la matrice d’occurrences…"
   ]
  },
  {
   "cell_type": "markdown",
   "metadata": {},
   "source": [
    "Le dénombrement des mots dans un texte nous permet d’introduire le concept de matrices, un objet mathématique qui prend la forme d’un tableaux d’éléments organisés en vecteurs colonnes et en vecteurs lignes.\n",
    "\n",
    "La bibliothèque logicielle *Numpy* permet de les manipuler :"
   ]
  },
  {
   "cell_type": "code",
   "execution_count": null,
   "metadata": {},
   "outputs": [],
   "source": [
    "# basic libraries\n",
    "import numpy as np\n",
    "import pandas as pd\n",
    "\n",
    "# as matrix\n",
    "data = np.array([\n",
    "    list(occurrences.keys()),\n",
    "    list(occurrences.values())\n",
    "])\n",
    "\n",
    "# matrix shape\n",
    "display(data.shape)"
   ]
  },
  {
   "cell_type": "markdown",
   "metadata": {},
   "source": [
    "Les matrices étant conçues pour accueillir des objets numériques, manipuler des chaînes de caractères n’est pas conseillé. Pour la représentation, il est préférable de recourir à la bibliothèque *Pandas* :"
   ]
  },
  {
   "cell_type": "code",
   "execution_count": null,
   "metadata": {},
   "outputs": [],
   "source": [
    "# a more suitable way to print a data frame\n",
    "df = pd.DataFrame(data=data[1].reshape(1, -1), columns=data[0])\n",
    "\n",
    "display(df)"
   ]
  },
  {
   "cell_type": "markdown",
   "metadata": {},
   "source": [
    "De là, il est recommandé de séparer les en-têtes et les valeurs sous formes de liste et de matrice :"
   ]
  },
  {
   "cell_type": "code",
   "execution_count": null,
   "metadata": {},
   "outputs": [],
   "source": [
    "words = df.columns\n",
    "occurrences = df.to_numpy(dtype=int)"
   ]
  },
  {
   "cell_type": "markdown",
   "metadata": {},
   "source": [
    "Il est toujours possible de récupérer l’information en utilisant l’indice comme moyen de jointure :"
   ]
  },
  {
   "cell_type": "code",
   "execution_count": null,
   "metadata": {},
   "outputs": [],
   "source": [
    "# index of word 'dans' ?\n",
    "dans = words.get_loc('dans')\n",
    "\n",
    "# 'dans' frequency\n",
    "display(occurrences[0][dans])"
   ]
  },
  {
   "cell_type": "markdown",
   "metadata": {},
   "source": [
    "### … à la matrice de cooccurrences"
   ]
  },
  {
   "cell_type": "markdown",
   "metadata": {},
   "source": [
    "En gardant trace de l’apparition conjointe de plusieurs événements, une matrice de cooccurrences permet de décrire les relations entre les éléments d’un ensemble.\n",
    "\n",
    "Considérons un corpus restreint de trois documents :"
   ]
  },
  {
   "cell_type": "code",
   "execution_count": null,
   "metadata": {},
   "outputs": [],
   "source": [
    "corpus = [\n",
    "    'Le petit chat boit du lait.',\n",
    "    'Le petit chien boit de l’eau',\n",
    "    'La vache, comme le chien, boit de l’eau.'\n",
    "]"
   ]
  },
  {
   "cell_type": "markdown",
   "metadata": {},
   "source": [
    "Et transformons-le rapidement grâce à une bibliothèque spécialisée en une matrice d’occurrences :"
   ]
  },
  {
   "cell_type": "code",
   "execution_count": null,
   "metadata": {},
   "outputs": [],
   "source": [
    "from sklearn.feature_extraction.text import CountVectorizer\n",
    "\n",
    "vectorizer = CountVectorizer()\n",
    "X = vectorizer.fit_transform(corpus)\n",
    "\n",
    "display(\n",
    "    pd.DataFrame(\n",
    "        data=X.toarray(),\n",
    "        columns=vectorizer.get_feature_names_out())\n",
    ")"
   ]
  },
  {
   "cell_type": "markdown",
   "metadata": {},
   "source": [
    "En algèbre linéaire, la matrice de cooccurrences est simplement le produit de la transposée de la matrice d’occurrences avec elle-même :"
   ]
  },
  {
   "cell_type": "code",
   "execution_count": null,
   "metadata": {},
   "outputs": [],
   "source": [
    "m = X.toarray()\n",
    "coocc = m.T.dot(m)\n",
    "np.fill_diagonal(coocc, 0)\n",
    "\n",
    "display(\n",
    "    pd.DataFrame(\n",
    "        data=coocc,\n",
    "        columns=vectorizer.get_feature_names_out(),\n",
    "        index=vectorizer.get_feature_names_out())\n",
    ")"
   ]
  }
 ],
 "metadata": {
  "celltoolbar": "Diaporama",
  "kernelspec": {
   "display_name": "Python 3 (ipykernel)",
   "language": "python",
   "name": "python3"
  },
  "language_info": {
   "codemirror_mode": {
    "name": "ipython",
    "version": 3
   },
   "file_extension": ".py",
   "mimetype": "text/x-python",
   "name": "python",
   "nbconvert_exporter": "python",
   "pygments_lexer": "ipython3",
   "version": "3.10.6"
  }
 },
 "nbformat": 4,
 "nbformat_minor": 4
}
