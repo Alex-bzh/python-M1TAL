{
 "cells": [
  {
   "cell_type": "markdown",
   "metadata": {
    "slideshow": {
     "slide_type": "slide"
    }
   },
   "source": [
    "# Compter des occurrences : l’exemple des mots d’un texte"
   ]
  },
  {
   "cell_type": "markdown",
   "metadata": {
    "slideshow": {
     "slide_type": "slide"
    }
   },
   "source": [
    "## De quoi il s’agit ?\n",
    "\n",
    "Compter des occurrences revient à subdiviser un objet en éléments et à compter le nombre de fois où chaque élément apparaît.\n",
    "\n",
    "Prenons une liste aléatoire de cent nombres entiers entre 0 et 20 et calculons combien de fois apparaît le nombre 9 :"
   ]
  },
  {
   "cell_type": "code",
   "execution_count": null,
   "metadata": {
    "slideshow": {
     "slide_type": "-"
    }
   },
   "outputs": [],
   "source": [
    "from random import randint\n",
    "l = [randint(0, 20) for n in range(0, 100)]\n",
    "print(f\"Le nombre 9 apparaît {l.count(9)} fois.\")"
   ]
  },
  {
   "cell_type": "markdown",
   "metadata": {
    "slideshow": {
     "slide_type": "subslide"
    }
   },
   "source": [
    "On peut réaliser une opération similaire en comptabilisant les apparitions de la lettre *e* dans une phrase :"
   ]
  },
  {
   "cell_type": "code",
   "execution_count": null,
   "metadata": {
    "slideshow": {
     "slide_type": "-"
    }
   },
   "outputs": [],
   "source": [
    "sent = \"En pratique, un pêcheur pêche avec une canne.\"\n",
    "print(f\"La lettre 'e' apparaît {sent.count('e')} fois.\")"
   ]
  },
  {
   "cell_type": "markdown",
   "metadata": {
    "slideshow": {
     "slide_type": "fragment"
    }
   },
   "source": [
    "Python dissocie par défaut le caractère *e* de ses versions accentuée *ê* et majuscule *E*. Plusieurs stratégies peuvent être mises en place pour y remédier :\n",
    "- remplacer les caractères ;\n",
    "- additionner les occurrences de chaque cas ;\n",
    "- normaliser la phrase."
   ]
  },
  {
   "cell_type": "markdown",
   "metadata": {
    "slideshow": {
     "slide_type": "subslide"
    }
   },
   "source": [
    "Prenons la dernière stratégie en faisant appel à la méthode `normalize()` du module `unicodedata`, qui décompose une lettre en ses différents constituants :"
   ]
  },
  {
   "cell_type": "code",
   "execution_count": null,
   "metadata": {
    "slideshow": {
     "slide_type": "-"
    }
   },
   "outputs": [],
   "source": [
    "import unicodedata\n",
    "\n",
    "def normalize(s):\n",
    "    \"\"\"Returns the normalized version of a string.\n",
    "\n",
    "    s -- string to normalize\n",
    "    \"\"\"\n",
    "    normalized_string = str()\n",
    "    for c in s:\n",
    "        components = unicodedata.normalize('NFKD', c)\n",
    "        base = components[0]\n",
    "        normalized_string += base.lower()\n",
    "\n",
    "    return normalized_string\n",
    "\n",
    "print(normalize(sent))"
   ]
  },
  {
   "cell_type": "markdown",
   "metadata": {
    "slideshow": {
     "slide_type": "subslide"
    }
   },
   "source": [
    "Grâce à la fonction `map()`, on peut obtenir le même résultat plus rapidement :"
   ]
  },
  {
   "cell_type": "code",
   "execution_count": null,
   "metadata": {
    "slideshow": {
     "slide_type": "-"
    }
   },
   "outputs": [],
   "source": [
    "sent = map(lambda x: unicodedata.normalize('NFKD', x)[0], sent)\n",
    "sent = ''.join(sent)\n",
    "print(f\"La lettre 'e' apparaît {sent.count('e')} fois.\")"
   ]
  },
  {
   "cell_type": "markdown",
   "metadata": {
    "slideshow": {
     "slide_type": "fragment"
    }
   },
   "source": [
    "Et pour basculer en bas de casse :"
   ]
  },
  {
   "cell_type": "code",
   "execution_count": null,
   "metadata": {
    "slideshow": {
     "slide_type": "-"
    }
   },
   "outputs": [],
   "source": [
    "sent = sent.lower()\n",
    "print(f\"La lettre 'e' apparaît {sent.count('e')} fois.\")"
   ]
  },
  {
   "cell_type": "markdown",
   "metadata": {
    "slideshow": {
     "slide_type": "slide"
    }
   },
   "source": [
    "## Préparer les données\n",
    "\n",
    "La question de compter des occurrences de mots n’est donc pas si anodine qu’elle peut paraître. La qualité du résultat dépend grandement de la définition de l’objectif que l’on se fixe.\n",
    "\n",
    "Prenons l’exemple du poème *Le dormeur du val* de Rimbaud, pour lequel on souhaite obtenir une liste de tuples de mots trié par leur fréquence d’apparition, puis par ordre alphabétique :\n",
    "```py\n",
    "[('il', 6), ('dans', 5), ('la', 5), ('un', 5)…]\n",
    "```"
   ]
  },
  {
   "cell_type": "markdown",
   "metadata": {
    "slideshow": {
     "slide_type": "subslide"
    }
   },
   "source": [
    "**1e étape :** découper en une liste de mots."
   ]
  },
  {
   "cell_type": "code",
   "execution_count": null,
   "metadata": {
    "slideshow": {
     "slide_type": "-"
    }
   },
   "outputs": [],
   "source": [
    "from nltk.tokenize import RegexpTokenizer\n",
    "\n",
    "with open('./data/dormeur-du-val.txt') as file:\n",
    "    text = file.read()\n",
    "tokenizer = RegexpTokenizer(\"[\\w]+\")\n",
    "words = tokenizer.tokenize(text)"
   ]
  },
  {
   "cell_type": "markdown",
   "metadata": {
    "slideshow": {
     "slide_type": "subslide"
    }
   },
   "source": [
    "**2e étape :** basculer les mots en bas de casse."
   ]
  },
  {
   "cell_type": "code",
   "execution_count": null,
   "metadata": {
    "slideshow": {
     "slide_type": "-"
    }
   },
   "outputs": [],
   "source": [
    "words = list(map(lambda w:w.lower(), words))"
   ]
  },
  {
   "cell_type": "markdown",
   "metadata": {
    "slideshow": {
     "slide_type": "subslide"
    }
   },
   "source": [
    "**3e étape :** regrouper les mots par fréquence d’apparition."
   ]
  },
  {
   "cell_type": "code",
   "execution_count": null,
   "metadata": {
    "slideshow": {
     "slide_type": "-"
    }
   },
   "outputs": [],
   "source": [
    "def get_occurrences(tokens):\n",
    "    \"\"\"Builds up a dictionary of words and the count of their\n",
    "    occurrences.\n",
    "\n",
    "    tokens -- list of tokens\n",
    "    \"\"\"\n",
    "\n",
    "    occurrences = {}\n",
    "    for token in tokens:\n",
    "        occurrences.update({\n",
    "            token: occurrences.get(token, 0) + 1\n",
    "        })\n",
    "    return occurrences\n",
    "\n",
    "occurrences = get_occurrences(words)"
   ]
  },
  {
   "cell_type": "markdown",
   "metadata": {
    "slideshow": {
     "slide_type": "subslide"
    }
   },
   "source": [
    "**4e étape :** trier le dictionnaire par ordre alphabétique."
   ]
  },
  {
   "cell_type": "code",
   "execution_count": null,
   "metadata": {
    "slideshow": {
     "slide_type": "-"
    }
   },
   "outputs": [],
   "source": [
    "occurrences = sorted(occurrences.items(), key=lambda x:x[0])"
   ]
  },
  {
   "cell_type": "markdown",
   "metadata": {
    "slideshow": {
     "slide_type": "fragment"
    }
   },
   "source": [
    "**5e étape :** trier la liste de tuples par ordre décroissant de fréquence d’apparition."
   ]
  },
  {
   "cell_type": "code",
   "execution_count": null,
   "metadata": {
    "slideshow": {
     "slide_type": "-"
    }
   },
   "outputs": [],
   "source": [
    "occurrences = sorted(occurrences, key=lambda x:x[1], reverse=True)"
   ]
  },
  {
   "cell_type": "markdown",
   "metadata": {
    "slideshow": {
     "slide_type": "slide"
    }
   },
   "source": [
    "## Améliorer le calcul des occurrences\n",
    "\n",
    "### `defaultdict`\n",
    "\n",
    "La structure de données `defaultdict` nous permet d’améliorer la constitution du dictionnaire des occurrences :"
   ]
  },
  {
   "cell_type": "code",
   "execution_count": null,
   "metadata": {
    "slideshow": {
     "slide_type": "-"
    }
   },
   "outputs": [],
   "source": [
    "from collections import defaultdict\n",
    "\n",
    "occurrences = defaultdict(int)\n",
    "\n",
    "for word in words:\n",
    "    occurrences[word] = occurrences[word] + 1"
   ]
  },
  {
   "cell_type": "markdown",
   "metadata": {
    "slideshow": {
     "slide_type": "subslide"
    }
   },
   "source": [
    "### `Counter`\n",
    "\n",
    "Il existe toutefois un autre objet du module `collections` qui est encore plus facilement manipulable pour ce genre d’opérations : `Counter`"
   ]
  },
  {
   "cell_type": "code",
   "execution_count": null,
   "metadata": {
    "slideshow": {
     "slide_type": "-"
    }
   },
   "outputs": [],
   "source": [
    "from collections import Counter\n",
    "occurrences = Counter(words)"
   ]
  },
  {
   "cell_type": "markdown",
   "metadata": {
    "slideshow": {
     "slide_type": "fragment"
    }
   },
   "source": [
    "Il a l’avantage d’embarquer une méthode pour afficher la liste des items les plus fréquents :"
   ]
  },
  {
   "cell_type": "code",
   "execution_count": null,
   "metadata": {
    "slideshow": {
     "slide_type": "-"
    }
   },
   "outputs": [],
   "source": [
    "print(occurrences.most_common(10))"
   ]
  },
  {
   "cell_type": "markdown",
   "metadata": {
    "slideshow": {
     "slide_type": "subslide"
    }
   },
   "source": [
    "### `FreqDist`\n",
    "\n",
    "Encore mieux, NLTK inclut un ensemble d’outils pour effectuer des calculs statistiques sur un ensemble de données. L’un d’eux est la classe `FreqDist` du module `nltk.probability`, particulièrement destiné au calcul de la distribution de fréquences."
   ]
  },
  {
   "cell_type": "code",
   "execution_count": null,
   "metadata": {
    "slideshow": {
     "slide_type": "-"
    }
   },
   "outputs": [],
   "source": [
    "import nltk\n",
    "from nltk.probability import FreqDist\n",
    "occurrences = nltk.FreqDist(words)"
   ]
  },
  {
   "cell_type": "markdown",
   "metadata": {
    "slideshow": {
     "slide_type": "subslide"
    }
   },
   "source": [
    "Le résultat est déjà sous la forme d’une liste de tuples triée par ordre de fréquence."
   ]
  },
  {
   "cell_type": "code",
   "execution_count": null,
   "metadata": {
    "slideshow": {
     "slide_type": "-"
    }
   },
   "outputs": [],
   "source": [
    "print(occurrences.most_common(10))"
   ]
  },
  {
   "cell_type": "markdown",
   "metadata": {
    "slideshow": {
     "slide_type": "subslide"
    }
   },
   "source": [
    "En prime, la classe prévoit l’affichage d’un diagramme grâce à une implémentation minimale de `matplotlib` :"
   ]
  },
  {
   "cell_type": "code",
   "execution_count": null,
   "metadata": {
    "slideshow": {
     "slide_type": "-"
    }
   },
   "outputs": [],
   "source": [
    "plot = occurrences.plot(25, cumulative=False)"
   ]
  },
  {
   "cell_type": "markdown",
   "metadata": {
    "slideshow": {
     "slide_type": "subslide"
    }
   },
   "source": [
    "Une dernière astuce pour améliorer la qualité de l’affichage sur les écrans *Retina* :"
   ]
  },
  {
   "cell_type": "code",
   "execution_count": null,
   "metadata": {
    "slideshow": {
     "slide_type": "-"
    }
   },
   "outputs": [],
   "source": [
    "%config InlineBackend.figure_format='retina'\n",
    "plot = occurrences.plot(25, cumulative=False)"
   ]
  }
 ],
 "metadata": {
  "celltoolbar": "Diaporama",
  "kernelspec": {
   "display_name": "Python 3",
   "language": "python",
   "name": "python3"
  },
  "language_info": {
   "codemirror_mode": {
    "name": "ipython",
    "version": 3
   },
   "file_extension": ".py",
   "mimetype": "text/x-python",
   "name": "python",
   "nbconvert_exporter": "python",
   "pygments_lexer": "ipython3",
   "version": "3.8.0"
  }
 },
 "nbformat": 4,
 "nbformat_minor": 4
}
