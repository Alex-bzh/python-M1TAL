{
 "cells": [
  {
   "cell_type": "markdown",
   "metadata": {},
   "source": [
    "# Manipuler des fichiers"
   ]
  },
  {
   "cell_type": "markdown",
   "metadata": {},
   "source": [
    "## Ouvrir un fichier"
   ]
  },
  {
   "cell_type": "markdown",
   "metadata": {},
   "source": [
    "Comme pour un livre, un fichier doit s'ouvrir et se fermer. Les deux opérations se réalisent en une seule instruction, grâce à l'instruction `with`, accompagnée de la fonction `open()`, qui indique au langage qu'il doit travailler avec un objet, lui laissant le soin de fermer le flux vers le fichier à la fin du bloc d'instructions.\n",
    "\n",
    "La fonction `open()` accepte deux arguments. Le premier est le chemin vers le fichier à ouvrir. S'il se trouve dans le répertoire courant, son nom seul est requis. Le second argument est le mode d'ouverture.\n",
    "\n",
    "Il existe trois modes d'ouverture de fichier :\n",
    "- **Mode lecture seule :** aucune écriture autorisée dans le fichier ;\n",
    "- **Mode écriture :** écriture à partir du début du fichier, ce qui signifie qu'un fichier du même nom pré-existant sera systématiquement remplacé ;\n",
    "- **Mode ajout :** écriture à la fin du fichier."
   ]
  },
  {
   "cell_type": "code",
   "execution_count": null,
   "metadata": {
    "collapsed": false
   },
   "outputs": [],
   "source": [
    "with open(\"../documents/heat.txt\", \"r\") as src:\n",
    "    print src"
   ]
  },
  {
   "cell_type": "markdown",
   "metadata": {},
   "source": [
    "Ici, le mode d'ouverture est *read* (*r*). On aurait pu en faire l'économie, car le mode en lecture seule est le mode par défaut. Les autres modes possibles sont *w* pour *write* et *a* pour *append*."
   ]
  },
  {
   "cell_type": "markdown",
   "metadata": {},
   "source": [
    "## Lire un fichier"
   ]
  },
  {
   "cell_type": "markdown",
   "metadata": {},
   "source": [
    "Il existe plusieurs méthodes pour afficher les informations contenues dans un fichier. Avant d'opter pour l'une ou l'autre, vous devez vous poser la question de la finalité de votre programme :\n",
    "- La méthode `read()` pour afficher les données au format brut, sous forme de chaîne de caractères.\n",
    "- La méthode `readline()` pour afficher la ligne courante au format brut, augmentée d'un retour à la ligne, sous forme de chaîne de caractères.\n",
    "- La méthode `readlines()` pour afficher les données au format brut, sous forme de liste."
   ]
  },
  {
   "cell_type": "markdown",
   "metadata": {},
   "source": [
    "### Méthode `read()`"
   ]
  },
  {
   "cell_type": "markdown",
   "metadata": {},
   "source": [
    "Elle prend un argument numérique facultatif, qui représente le nombre de caractères que vous souhaitez afficher à partir de la position courante du curseur. Par défaut, elle renvoie la totalité des caractères du fichier."
   ]
  },
  {
   "cell_type": "code",
   "execution_count": null,
   "metadata": {
    "collapsed": false
   },
   "outputs": [],
   "source": [
    "# Initialisation d'un descripteur de fichier\n",
    "with open(\"../documents/heat.txt\", \"r\") as src:\n",
    "    # Lecture des 340 premiers caractères.\n",
    "    print src.read(340)\n",
    "    # Lecture des 164 qui suivent.\n",
    "    print src.read(164)"
   ]
  },
  {
   "cell_type": "markdown",
   "metadata": {},
   "source": [
    "### Méthode `readline()`"
   ]
  },
  {
   "cell_type": "markdown",
   "metadata": {},
   "source": [
    "Elle affiche la ligne courante du fichier, dans la limite du nombre de caractères défini en paramètre par un argument numérique. Chaque appel à la méthode génère une nouvelle ligne (*\\n*)."
   ]
  },
  {
   "cell_type": "code",
   "execution_count": null,
   "metadata": {
    "collapsed": false
   },
   "outputs": [],
   "source": [
    "with open(\"../documents/heat.txt\") as src:\n",
    "    # Affiche les 141 premiers caractères de la ligne courante.\n",
    "    print src.readline(141)\n",
    "    # reprise de l'affichage de la ligne courante jusqu'au dernier caractère.\n",
    "    print src.readline()\n",
    "    # Affichage de la ligne suivante (dans le fichier : ligne vide).\n",
    "    print src.readline()"
   ]
  },
  {
   "cell_type": "markdown",
   "metadata": {},
   "source": [
    "Grâce à cette méthode, on peut concevoir un algorithme très simple pour parcourir un fichier ligne par ligne :\n",
    "```\n",
    "Utilisation du fichier comme objet \"src\" :\n",
    "    Tant qu'il reste des lignes à afficher :\n",
    "        Afficher la ligne courante\n",
    "```"
   ]
  },
  {
   "cell_type": "code",
   "execution_count": null,
   "metadata": {
    "collapsed": false
   },
   "outputs": [],
   "source": [
    "# Utilisation du fichier\n",
    "with open(\"../documents/heat.txt\") as src:\n",
    "    # Boucle infinie, la condition est toujours vraie\n",
    "    while True:\n",
    "        # Lecture ligne par ligne\n",
    "        txt = src.readline()\n",
    "        # Si la ligne courante est vide :\n",
    "        if not txt:\n",
    "            # On stoppe l'instruction, ce qui a pour effet de sortir de la boucle infinie\n",
    "            break\n",
    "        else:\n",
    "            print txt,"
   ]
  },
  {
   "cell_type": "markdown",
   "metadata": {},
   "source": [
    "L'accès séquentiel présente un avantage certain en terme de consommation de ressources."
   ]
  },
  {
   "cell_type": "markdown",
   "metadata": {},
   "source": [
    "### Méthode `readlines()`"
   ]
  },
  {
   "cell_type": "markdown",
   "metadata": {},
   "source": [
    "Plutôt que de retourner une chaîne de caractères, cette méthode retourne une liste des lignes du fichier. Elle opère la séparation aussitôt qu'elle rencontre un caractère de nouvelle ligne (*\\n*)."
   ]
  },
  {
   "cell_type": "code",
   "execution_count": null,
   "metadata": {
    "collapsed": false
   },
   "outputs": [],
   "source": [
    "# Utilisation du fichier\n",
    "with open(\"../documents/heat.txt\") as src:\n",
    "    # Affichage du contenu sous forme de liste\n",
    "    print src.readlines()"
   ]
  },
  {
   "cell_type": "markdown",
   "metadata": {},
   "source": [
    "Comme nous savons parcourir simplement une liste, il serait tentant d'utiliser cette méthode pour afficher l'ensemble du texte, au prix d'une consommation élevée de ressources :"
   ]
  },
  {
   "cell_type": "code",
   "execution_count": null,
   "metadata": {
    "collapsed": false
   },
   "outputs": [],
   "source": [
    "# Utilisation du fichier\n",
    "with open(\"../documents/heat.txt\") as src:\n",
    "    # Récupération du contenu sous forme de liste\n",
    "    lignes = src.readlines()\n",
    "    # Affichage de chaque ligne\n",
    "    for ligne in lignes:\n",
    "        # Strip() permet de supprimer le retour à la ligne ajouté par readlines()\n",
    "        print ligne.strip()"
   ]
  },
  {
   "cell_type": "markdown",
   "metadata": {},
   "source": [
    "Une meilleure méthode consiste à tirer parti de l'objet `fichier` qui dispose de son propre itérateur :"
   ]
  },
  {
   "cell_type": "code",
   "execution_count": null,
   "metadata": {
    "collapsed": false
   },
   "outputs": [],
   "source": [
    "# Utilisation du fichier\n",
    "with open(\"../documents/heat.txt\") as src:\n",
    "    # Pour chaque ligne dans mon fichier\n",
    "    for ligne in src:\n",
    "        # Affichage de la ligne\n",
    "        print ligne,"
   ]
  }
 ],
 "metadata": {
  "kernelspec": {
   "display_name": "Python 2",
   "language": "python",
   "name": "python2"
  },
  "language_info": {
   "codemirror_mode": {
    "name": "ipython",
    "version": 2
   },
   "file_extension": ".py",
   "mimetype": "text/x-python",
   "name": "python",
   "nbconvert_exporter": "python",
   "pygments_lexer": "ipython2",
   "version": "2.7.10"
  }
 },
 "nbformat": 4,
 "nbformat_minor": 0
}
