{
 "cells": [
  {
   "cell_type": "markdown",
   "metadata": {},
   "source": [
    "# Un programme désordonné"
   ]
  },
  {
   "cell_type": "markdown",
   "metadata": {},
   "source": [
    "Le programme ci-dessous certes fonctionne, mais certaines instructions semblent un peu confuses :"
   ]
  },
  {
   "cell_type": "code",
   "execution_count": null,
   "metadata": {},
   "outputs": [],
   "source": [
    "mnt_passes = []\n",
    "\n",
    "with open('../data/mountain-passes.tsv') as csvfile:\n",
    "    import csv\n",
    "    reader = csv.DictReader(csvfile, delimiter='\\t')\n",
    "    for line in reader: mnt_passes.append((line['col'], line['denivelee'], line['pente']))\n",
    "\n",
    "x, y = [], []\n",
    "for mnt_pass in mnt_passes:\n",
    "    x.append(mnt_pass[0])\n",
    "    def mToKm(m): return round(m / 1000, 2)\n",
    "    def distance(denivelee, pente):\n",
    "        alpha = pente / 100\n",
    "        import math\n",
    "        arc = math.atan(alpha) ; hypo = denivelee / math.sin(arc) ; return hypo\n",
    "    y.append(mToKm(distance(int(mnt_pass[1]), float(mnt_pass[2]))))\n",
    "\n",
    "import matplotlib.pyplot\n",
    "matplotlib.pyplot.bar(x, y) ; matplotlib.pyplot.ylabel('Distance de la rando (en km)') ; matplotlib.pyplot.show()"
   ]
  },
  {
   "cell_type": "markdown",
   "metadata": {},
   "source": [
    "Pourriez-vous y remettre bon ordre dans le respect des conventions de la PEP8 et de celles abordées jusqu’ici ?"
   ]
  },
  {
   "cell_type": "code",
   "execution_count": null,
   "metadata": {},
   "outputs": [],
   "source": [
    "# your code here\n",
    "\n",
    "#!/usr/bin/env python\n",
    "#-*- coding: utf-8 -*-\n",
    "\n",
    "#\n",
    "# Modules to import\n",
    "#\n",
    "import csv\n",
    "import math\n",
    "import matplotlib.pyplot\n",
    "\n",
    "#\n",
    "# User functions\n",
    "#\n",
    "def mToKm(m):\n",
    "    \"\"\"Conversion: meters to kilometers\n",
    "    \n",
    "    m -- int: meters\n",
    "    \"\"\"\n",
    "    return round(m / 1000, 2)\n",
    "\n",
    "def distance(height, slope):\n",
    "    \"\"\"Calculates a distance based on the\n",
    "    elevation and the slope.\n",
    "    \n",
    "    height -- the elevation\n",
    "    slope -- the slope\n",
    "    \"\"\"\n",
    "    alpha = slope / 100\n",
    "    arc = math.atan(alpha)\n",
    "    hypo = height / math.sin(arc)\n",
    "    return hypo\n",
    "\n",
    "def main():\n",
    "    \"\"\"Main function\"\"\"\n",
    "\n",
    "    mnt_passes = []\n",
    "\n",
    "    # Gathering data from a CSV file\n",
    "    with open('../data/mountain-passes.tsv') as csvfile:\n",
    "        reader = csv.DictReader(csvfile, delimiter='\\t')\n",
    "        for line in reader:\n",
    "            mnt_passes.append(\n",
    "                (line['col'], line['denivelee'], line['pente'])\n",
    "            )\n",
    "\n",
    "    # Building the axis\n",
    "    x, y = [], []\n",
    "\n",
    "    # For each pass…\n",
    "    for mnt_pass in mnt_passes:\n",
    "        # Informations\n",
    "        name = mnt_pass[0]\n",
    "        height = int(mnt_pass[1])\n",
    "        slope = float(mnt_pass[2])\n",
    "        # Calculates the distance\n",
    "        meters = distance(height, slope)\n",
    "        # Conversion in kms\n",
    "        kms = mToKm(meters)\n",
    "        # Data to graph\n",
    "        x.append(name)\n",
    "        y.append(kms)\n",
    "\n",
    "    # Ploting the bars\n",
    "    matplotlib.pyplot.bar(x, y)\n",
    "    matplotlib.pyplot.ylabel('Distance de la rando (en km)')\n",
    "    matplotlib.pyplot.show()\n",
    "\n",
    "#\n",
    "# Main procedure\n",
    "#\n",
    "if __name__ == \"__main__\":\n",
    "\n",
    "    main()"
   ]
  }
 ],
 "metadata": {
  "kernelspec": {
   "display_name": "Python 3 (ipykernel)",
   "language": "python",
   "name": "python3"
  },
  "language_info": {
   "codemirror_mode": {
    "name": "ipython",
    "version": 3
   },
   "file_extension": ".py",
   "mimetype": "text/x-python",
   "name": "python",
   "nbconvert_exporter": "python",
   "pygments_lexer": "ipython3",
   "version": "3.11.11"
  }
 },
 "nbformat": 4,
 "nbformat_minor": 4
}
