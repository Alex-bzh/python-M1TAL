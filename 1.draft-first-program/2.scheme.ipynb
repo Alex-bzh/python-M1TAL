{
 "cells": [
  {
   "cell_type": "markdown",
   "metadata": {
    "slideshow": {
     "slide_type": "slide"
    }
   },
   "source": [
    "# Construire un programme avec Python"
   ]
  },
  {
   "cell_type": "markdown",
   "metadata": {
    "slideshow": {
     "slide_type": "slide"
    }
   },
   "source": [
    "## Squelette d’un programme"
   ]
  },
  {
   "cell_type": "markdown",
   "metadata": {
    "slideshow": {
     "slide_type": "fragment"
    }
   },
   "source": [
    "Un programme classique en Python est constitué de quatre parties :\n",
    "- le préambule comprenant le *shebang* et l’encodage\n",
    "- la liste des modules à importer pour le bon fonctionnement du programme\n",
    "- la déclaration des fonctions utilisateur\n",
    "- la procédure principale"
   ]
  },
  {
   "cell_type": "code",
   "execution_count": null,
   "metadata": {
    "slideshow": {
     "slide_type": "subslide"
    }
   },
   "outputs": [],
   "source": [
    "#!/usr/bin/env python\n",
    "#-*- coding: utf-8 -*-\n",
    "\n",
    "#\n",
    "# Modules to import\n",
    "#\n",
    "\n",
    "#\n",
    "# User functions\n",
    "#\n",
    "\n",
    "#\n",
    "# Main procedure\n",
    "#\n",
    "if __name__ == \"__main__\":\n",
    "\n",
    "    #\n",
    "    # Program\n",
    "    #\n",
    "\n",
    "    # At least an instruction\n",
    "    print('Hello World')"
   ]
  },
  {
   "cell_type": "markdown",
   "metadata": {
    "slideshow": {
     "slide_type": "slide"
    }
   },
   "source": [
    "### Le préambule"
   ]
  },
  {
   "cell_type": "markdown",
   "metadata": {},
   "source": [
    "En soi, le préambule n’est pas nécessaire au bon fonctionnement d’un script Python. S’il est employé, il est généralement constitué de deux lignes, le *shebang* et la déclaration de l’encodage :\n",
    "\n",
    "```python\n",
    "#!/usr/bin/env python\n",
    "#-*- coding: utf-8 -*-\n",
    "```"
   ]
  },
  {
   "cell_type": "markdown",
   "metadata": {
    "slideshow": {
     "slide_type": "fragment"
    }
   },
   "source": [
    "#### Le *shebang*"
   ]
  },
  {
   "cell_type": "markdown",
   "metadata": {},
   "source": [
    "Cette déclaration permet de dire au système qu’il n’est pas en présence d’un fichier binaire mais bien d’un script tout en lui précisant le chemin vers l’exécutable. Dans l’example plus haut, l’exécutable est l’utilitaire `python` dont l’emplacement est défini dans le fichier `/usr/bin/env`.\n",
    "\n",
    "Cela permet d’exécuter un script directement, sans appeler explicitement l’utilitaire `python` :"
   ]
  },
  {
   "cell_type": "code",
   "execution_count": null,
   "metadata": {},
   "outputs": [],
   "source": [
    "# executable script\n",
    "! ./scripts/with_shebang.py"
   ]
  },
  {
   "cell_type": "markdown",
   "metadata": {},
   "source": [
    "Sans le shebang, l’exécution du script échoue :"
   ]
  },
  {
   "cell_type": "code",
   "execution_count": null,
   "metadata": {},
   "outputs": [],
   "source": [
    "# the same script, but missing the shebang\n",
    "! ./scripts/without_shebang.py"
   ]
  },
  {
   "cell_type": "markdown",
   "metadata": {},
   "source": [
    "Mais il fonctionne tout de même quand on appelle explicitement l’exécutable :"
   ]
  },
  {
   "cell_type": "code",
   "execution_count": null,
   "metadata": {},
   "outputs": [],
   "source": [
    "# explicit call to python executable\n",
    "! python ./scripts/without_shebang.py"
   ]
  },
  {
   "cell_type": "markdown",
   "metadata": {},
   "source": [
    "**Attention !** Le *shebang* seul ne suffit pas à rendre un script exécutable, il faut encore lui donner les droits de s’exécuter :\n",
    "\n",
    "```bash\n",
    "chmod +x /path/to/script.py\n",
    "```"
   ]
  },
  {
   "cell_type": "markdown",
   "metadata": {},
   "source": [
    "#### La déclaration de l’encodage"
   ]
  },
  {
   "cell_type": "markdown",
   "metadata": {},
   "source": [
    "Aujourd’hui, et depuis la version 3 du langage, la directive de traitement de l’encodage est devenue obsolète. Python 3 traite en effet le code source comme de l’UTF-8 par défaut. Toutes les chaînes de caractères sont ainsi décodées en UTF-8."
   ]
  },
  {
   "cell_type": "markdown",
   "metadata": {
    "slideshow": {
     "slide_type": "slide"
    }
   },
   "source": [
    "### Les modules"
   ]
  },
  {
   "cell_type": "markdown",
   "metadata": {},
   "source": [
    "Le langage Python est livré avec des utilitaires de base pour répondre aux problèmes courants. Lorsque ceux-ci ne suffisent plus, il est possible d’étendre le langage en ajoutant des *librairies* (ou *modules*). Ces librairies sont de trois types différents :\n",
    "- soit elles sont incluses dans le langage mais non activées ;\n",
    "- soit elles sont définies par l’utilisateur ;\n",
    "- soit elles sont extérieures au langage et doivent être installées au préalable."
   ]
  },
  {
   "cell_type": "markdown",
   "metadata": {
    "slideshow": {
     "slide_type": "slide"
    }
   },
   "source": [
    "### Les fonctions utilisateur"
   ]
  },
  {
   "cell_type": "markdown",
   "metadata": {},
   "source": [
    "L’utilisateur programme souvent ses propres fonctions pour des besoins spécifiques ou par souci d’optimisation. Soit ces fonctions font partie d’une librairie à part (à inclure dans la section supérieure avec les modules), soit elles sont déclarées en tête du script, avant la procédure principale."
   ]
  },
  {
   "cell_type": "markdown",
   "metadata": {
    "slideshow": {
     "slide_type": "slide"
    }
   },
   "source": [
    "### La procédure principale"
   ]
  },
  {
   "cell_type": "markdown",
   "metadata": {},
   "source": [
    "Il s’agit du corps du programme. La procédure principale mobilise les ressources intégrées dans l’en-tête du script pour lancer des instructions et afficher un résultat. Notre programme de démonstration est simplement chargé d’afficher un message de bienvenue."
   ]
  },
  {
   "cell_type": "code",
   "execution_count": null,
   "metadata": {
    "slideshow": {
     "slide_type": "fragment"
    }
   },
   "outputs": [],
   "source": [
    "if __name__ == \"__main__\":\n",
    "\n",
    "    #\n",
    "    # Program\n",
    "    #\n",
    "\n",
    "    # At least an instruction\n",
    "    print('Hello World')"
   ]
  },
  {
   "cell_type": "markdown",
   "metadata": {
    "slideshow": {
     "slide_type": "subslide"
    }
   },
   "source": [
    "Dès lors que le programme prend de l’ampleur, il devient intéressant de protéger son script d’effets de bord en encapsulant le code de la procédure principale dans une fonction."
   ]
  },
  {
   "cell_type": "code",
   "execution_count": null,
   "metadata": {
    "slideshow": {
     "slide_type": "fragment"
    }
   },
   "outputs": [],
   "source": [
    "# Main function\n",
    "def main():\n",
    "    \"\"\"Print a warm welcoming message.\"\"\"\n",
    "    print(\"Hello World!\")\n",
    "\n",
    "if __name__ == \"__main__\":\n",
    "\n",
    "    # Triggers the main function\n",
    "    main()"
   ]
  }
 ],
 "metadata": {
  "celltoolbar": "Diaporama",
  "kernelspec": {
   "display_name": "Python 3 (ipykernel)",
   "language": "python",
   "name": "python3"
  },
  "language_info": {
   "codemirror_mode": {
    "name": "ipython",
    "version": 3
   },
   "file_extension": ".py",
   "mimetype": "text/x-python",
   "name": "python",
   "nbconvert_exporter": "python",
   "pygments_lexer": "ipython3",
   "version": "3.11.6"
  }
 },
 "nbformat": 4,
 "nbformat_minor": 4
}
