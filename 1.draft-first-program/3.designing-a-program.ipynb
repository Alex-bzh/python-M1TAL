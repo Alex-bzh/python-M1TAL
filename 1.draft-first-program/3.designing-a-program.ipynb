{
 "cells": [
  {
   "cell_type": "markdown",
   "metadata": {},
   "source": [
    "# Concevoir un programme"
   ]
  },
  {
   "cell_type": "markdown",
   "metadata": {},
   "source": [
    "L’objectif de ce calepin est de mettre en œuvre les bonnes pratiques abordées précédemment en matière de conception d’un programme."
   ]
  },
  {
   "cell_type": "markdown",
   "metadata": {},
   "source": [
    "## Rappel sur l’exécution d’un script"
   ]
  },
  {
   "cell_type": "markdown",
   "metadata": {},
   "source": [
    "Dans le répertoire scripts se trouvent plusieurs fichiers Python que l’on peut exécuter avec la commande générique :\n",
    "\n",
    "```python\n",
    "python /path/to/script.py\n",
    "```\n",
    "\n",
    "Par exemple :"
   ]
  },
  {
   "cell_type": "code",
   "execution_count": null,
   "metadata": {},
   "outputs": [],
   "source": [
    "! python ./scripts/hello_world.py"
   ]
  },
  {
   "cell_type": "markdown",
   "metadata": {},
   "source": [
    "Un script qui dispose d’un *shebang* peut s’exécuter sans l’utilitaire `python` à condition aussi que les droits d’utilisation lui ont été attribués (`chmod +x`) :"
   ]
  },
  {
   "cell_type": "code",
   "execution_count": null,
   "metadata": {},
   "outputs": [],
   "source": [
    "! ./scripts/with_shebang.py"
   ]
  },
  {
   "cell_type": "markdown",
   "metadata": {
    "slideshow": {
     "slide_type": "slide"
    }
   },
   "source": [
    "## Franchir le col Vert"
   ]
  },
  {
   "cell_type": "markdown",
   "metadata": {},
   "source": [
    "### Objectif"
   ]
  },
  {
   "cell_type": "markdown",
   "metadata": {
    "slideshow": {
     "slide_type": "slide"
    }
   },
   "source": [
    "En randonnée dans le Vercors, vous avez pour objectif de franchir le col Vert (1776 m) qui, depuis votre point de départ de Villard-de-Lans, présente une dénivelée totale de 697 m annoncée par votre guide à 5,31 % de moyenne. Calculez la distance à parcourir !"
   ]
  },
  {
   "cell_type": "markdown",
   "metadata": {
    "slideshow": {
     "slide_type": "fragment"
    }
   },
   "source": [
    "![Franchir le col Vert](images/green-pass.png)"
   ]
  },
  {
   "cell_type": "markdown",
   "metadata": {},
   "source": [
    "### De la trigonométrie"
   ]
  },
  {
   "cell_type": "markdown",
   "metadata": {},
   "source": [
    "Nous sommes en présence d’un problème de trigonométrie classique qui nous demande de calculer une distance à partir de deux paramètres : la dénivelée totale et la pente moyenne exprimée en pourcentages. De l’énoncé, nous comprenons qu’une pente de 5,31 % correspond à une élévation de 5,31 mètres tous les 100 mètres. Nous pouvons modéliser le problème ainsi :\n",
    "\n",
    "![Franchir le col Vert](./images/triangle.svg)\n",
    "\n",
    "Rappelons-nous la règle **SOH CAH TOA** :\n",
    "\n",
    "$$\n",
    "\\sin(\\theta) = \\frac{\\text{opposé}}{\\text{hypoténuse}}, \\quad \n",
    "\\cos(\\theta) = \\frac{\\text{adjacent}}{\\text{hypoténuse}}, \\quad \n",
    "\\tan(\\theta) = \\frac{\\text{opposé}}{\\text{adjacent}}\n",
    "$$\n",
    "\n",
    "Comme nous connaissons l’opposé et l’adjacent, nous pouvons calculer la tangente de l’angle :\n",
    "\n",
    "$$\n",
    "\\tan(\\theta) = 5.31 \\div 100 = 0.0531\n",
    "$$\n",
    "\n",
    "Ensuite, de la tangente, nous déduisons l’angle en radians :\n",
    "\n",
    "$$\n",
    "\\arctan(\\theta) = 0.05305\\, \\text{rad}\n",
    "$$\n",
    "\n",
    "La formule de conversion en degrés décimaux nous permet de conclure que :\n",
    "\n",
    "$$\n",
    "\\theta = \\frac{0.05305 \\times 180}{\\pi} = 3.0395°\n",
    "$$\n",
    "\n",
    "Comme nous recherchons la valeur de l’hypoténuse, nous pouvons nous appuyer soit sur le sinus soit sur le cosinus de l’angle. En effet, si $\\sin(\\theta) = \\frac{\\text{opposé}}{\\text{hypoténuse}}$ alors $\\text{hypoténuse} = \\frac{\\text{opposé}}{\\sin(\\theta)}$. De là :\n",
    "\n",
    "$$\n",
    "AC^{\\prime} = \\frac{5.31}{\\sin(\\theta)} = \\frac{5.31}{0.053025}= 100.14\\, \\text{m}\n",
    "$$\n",
    "\n",
    "Nous appliquons ensuite une règle linéaire pour calculer le segment $AC$ :\n",
    "\n",
    "$$\n",
    "AC = AC^{\\prime} \\times \\frac{697}{5.31} \\approx 13144.55\n",
    "$$"
   ]
  },
  {
   "cell_type": "markdown",
   "metadata": {
    "slideshow": {
     "slide_type": "slide"
    }
   },
   "source": [
    "### Écriture du programme avec Python"
   ]
  },
  {
   "cell_type": "markdown",
   "metadata": {
    "slideshow": {
     "slide_type": "fragment"
    }
   },
   "source": [
    "Dans un premier temps, tout programme débute par un préambule :"
   ]
  },
  {
   "cell_type": "code",
   "execution_count": null,
   "metadata": {
    "slideshow": {
     "slide_type": "fragment"
    }
   },
   "outputs": [],
   "source": [
    "#!/usr/bin/env python"
   ]
  },
  {
   "cell_type": "markdown",
   "metadata": {
    "slideshow": {
     "slide_type": "subslide"
    }
   },
   "source": [
    "Comme les fonctions trigonométriques ne sont pas disponibles dans le noyau de Python, mais dans une bibliothèque logicielle connexe (*math*), il faut l’activer :"
   ]
  },
  {
   "cell_type": "code",
   "execution_count": null,
   "metadata": {
    "slideshow": {
     "slide_type": "fragment"
    }
   },
   "outputs": [],
   "source": [
    "#\n",
    "#   Libraries\n",
    "#\n",
    "import math"
   ]
  },
  {
   "cell_type": "markdown",
   "metadata": {
    "slideshow": {
     "slide_type": "fragment"
    }
   },
   "source": [
    "Ensuite, dans la procédure principale, on enregistre les données du problème :"
   ]
  },
  {
   "cell_type": "code",
   "execution_count": null,
   "metadata": {
    "slideshow": {
     "slide_type": "fragment"
    }
   },
   "outputs": [],
   "source": [
    "#\n",
    "#   Main procedure\n",
    "#\n",
    "if __name__ == \"__main__\":\n",
    "\n",
    "    alt = 697               # altitude\n",
    "    gradient = 5.31         # difference in altitude\n",
    "    alpha = gradient / 100  # tangent"
   ]
  },
  {
   "cell_type": "markdown",
   "metadata": {
    "slideshow": {
     "slide_type": "subslide"
    }
   },
   "source": [
    "On mesure ensuite l’arc tangente du nombre afin d’obtenir une mesure en radians. La fonction trigonométrique `atan(α)` est disponible dans le module *math* :"
   ]
  },
  {
   "cell_type": "code",
   "execution_count": null,
   "metadata": {
    "slideshow": {
     "slide_type": "fragment"
    }
   },
   "outputs": [],
   "source": [
    "arc = math.atan(alpha)      # arctan function"
   ]
  },
  {
   "cell_type": "markdown",
   "metadata": {
    "slideshow": {
     "slide_type": "fragment"
    }
   },
   "source": [
    "On peut désormais calculer l’hypoténuse grâce à la fonction `cos(α)` :"
   ]
  },
  {
   "cell_type": "code",
   "execution_count": null,
   "metadata": {
    "slideshow": {
     "slide_type": "fragment"
    }
   },
   "outputs": [],
   "source": [
    "hypo = 5.31 / math.sin(arc)  # sinus function"
   ]
  },
  {
   "cell_type": "markdown",
   "metadata": {
    "slideshow": {
     "slide_type": "subslide"
    }
   },
   "source": [
    "Enfin, on calcule la distance totale :"
   ]
  },
  {
   "cell_type": "code",
   "execution_count": null,
   "metadata": {
    "slideshow": {
     "slide_type": "fragment"
    }
   },
   "outputs": [],
   "source": [
    "distance = hypo * (alt / gradient)"
   ]
  },
  {
   "cell_type": "markdown",
   "metadata": {
    "slideshow": {
     "slide_type": "fragment"
    }
   },
   "source": [
    "Sans oublier de l’afficher :"
   ]
  },
  {
   "cell_type": "code",
   "execution_count": null,
   "metadata": {
    "slideshow": {
     "slide_type": "fragment"
    }
   },
   "outputs": [],
   "source": [
    "print(distance)"
   ]
  },
  {
   "cell_type": "markdown",
   "metadata": {},
   "source": [
    "## Résolution avec le théorème de Pythagore"
   ]
  },
  {
   "cell_type": "markdown",
   "metadata": {
    "slideshow": {
     "slide_type": "slide"
    }
   },
   "source": [
    "Le résultat aurait pu s’obtenir plus facilement par application du théorème de Pythagore (mais c’eût été moins drôle) :\n",
    "\n",
    "> Dans un triangle rectangle, le carré de la longueur de l’hypoténuse est égal à la somme des carrés des longueurs des deux autres côtés.\n",
    "\n",
    "Autrement dit, si dans un triangle ABC rectangle en B, le vecteur BC mesure 697 m et que tous les 100 m le long du vecteur AB on s’élève de 5,31 m, alors $AB = {BC \\over 5.31} \\times 100$ soit :"
   ]
  },
  {
   "cell_type": "code",
   "execution_count": null,
   "metadata": {
    "slideshow": {
     "slide_type": "fragment"
    }
   },
   "outputs": [],
   "source": [
    "bc = 697\n",
    "gradient = 5.31\n",
    "ab = (bc / gradient) * 100\n",
    "\n",
    "print(ab)"
   ]
  },
  {
   "cell_type": "markdown",
   "metadata": {
    "slideshow": {
     "slide_type": "subslide"
    }
   },
   "source": [
    "D’après le théorème, on sait que $AC^2 = BC^2 + AB^2$ :"
   ]
  },
  {
   "cell_type": "code",
   "execution_count": null,
   "metadata": {
    "slideshow": {
     "slide_type": "fragment"
    }
   },
   "outputs": [],
   "source": [
    "ac_squared = (bc ** 2) + (ab ** 2)\n",
    "\n",
    "print(ac_squared)"
   ]
  },
  {
   "cell_type": "markdown",
   "metadata": {
    "slideshow": {
     "slide_type": "fragment"
    }
   },
   "source": [
    "Il ne reste plus qu’à déterminer la racine carrée du vecteur AC pour connaître la longueur de l’hypoténuse :"
   ]
  },
  {
   "cell_type": "code",
   "execution_count": null,
   "metadata": {
    "slideshow": {
     "slide_type": "fragment"
    }
   },
   "outputs": [],
   "source": [
    "ac = math.sqrt(ac_squared)\n",
    "\n",
    "print(ac)"
   ]
  },
  {
   "cell_type": "markdown",
   "metadata": {},
   "source": [
    "### Un programme fonctionnel"
   ]
  },
  {
   "cell_type": "markdown",
   "metadata": {
    "slideshow": {
     "slide_type": "slide"
    }
   },
   "source": [
    "Écrivons un programme plus pratique et mieux structuré. Nous souhaitons que le programme puisse s’exécuter directement depuis un terminal en saisissant les données nécessaires :\n",
    "\n",
    "- La valeur du côté opposé (obligatoire) ;\n",
    "- et obligatoirement l’un des deux paramètres ci-dessous :\n",
    "    - le côté adjacent ;\n",
    "    - ou la pente en pourcentages.\n",
    "\n",
    "Si le côté adjacent est communiqué au script, alors une fonction `hypotenuse()` s’exécute directement avec les deux valeurs. Si c’est en revanche la pente qui est donnée, on procède à une étape intermédiaire de calcul du côté adjacent."
   ]
  },
  {
   "cell_type": "markdown",
   "metadata": {
    "slideshow": {
     "slide_type": "subslide"
    }
   },
   "source": [
    "#### Étape 1 : importer les modules"
   ]
  },
  {
   "cell_type": "markdown",
   "metadata": {},
   "source": [
    "Deux modules sont nécessaires : *math* pour les fonctions mathématiques et *argparse* pour interpréter les paramètres transmis depuis la console."
   ]
  },
  {
   "cell_type": "code",
   "execution_count": null,
   "metadata": {
    "slideshow": {
     "slide_type": "fragment"
    }
   },
   "outputs": [],
   "source": [
    "#!/usr/bin/env python\n",
    "\n",
    "#\n",
    "#  Libraries\n",
    "#\n",
    "import argparse\n",
    "import math"
   ]
  },
  {
   "cell_type": "markdown",
   "metadata": {
    "slideshow": {
     "slide_type": "subslide"
    }
   },
   "source": [
    "#### Étape 2 : écrire la fonction qui calcule l’hypoténuse"
   ]
  },
  {
   "cell_type": "markdown",
   "metadata": {},
   "source": [
    "Cette fonction accepte deux paramètres pour les côtés adjacent et opposé, et retourne la valeur de l’hypoténuse :"
   ]
  },
  {
   "cell_type": "code",
   "execution_count": null,
   "metadata": {
    "slideshow": {
     "slide_type": "fragment"
    }
   },
   "outputs": [],
   "source": [
    "def hypotenuse(a, o):\n",
    "    \"\"\"Calculates the hypotenuse thanks to\n",
    "    the Pythagorean theorem in a right triangle.\n",
    "    \n",
    "    Positional arguments:\n",
    "    a -- adjacent side\n",
    "    o -- opposite side\n",
    "    \"\"\"\n",
    "    square = (a ** 2) + (o ** 2)\n",
    "    hypotenuse = math.sqrt(square)\n",
    "\n",
    "    # rounded to two digits from the decimal point\n",
    "    return round(hypotenuse, 2)"
   ]
  },
  {
   "cell_type": "markdown",
   "metadata": {
    "slideshow": {
     "slide_type": "subslide"
    }
   },
   "source": [
    "#### Étape 3 : écrire la fonction `main()`"
   ]
  },
  {
   "cell_type": "markdown",
   "metadata": {},
   "source": [
    "La fonction `main()` est la plus compliquée à écrire. Commençons par instancier un interpréteur pour les arguments envoyés depuis le terminal :"
   ]
  },
  {
   "cell_type": "code",
   "execution_count": null,
   "metadata": {
    "slideshow": {
     "slide_type": "fragment"
    }
   },
   "outputs": [],
   "source": [
    "def main():\n",
    "    # create the argument parser\n",
    "    parser = argparse.ArgumentParser(description=\"Calculate the hypotenuse of a right triangle.\")"
   ]
  },
  {
   "cell_type": "markdown",
   "metadata": {},
   "source": [
    "Récupérons ensuite l’argument qui attribue une valeur au côté opposé :"
   ]
  },
  {
   "cell_type": "code",
   "execution_count": null,
   "metadata": {},
   "outputs": [],
   "source": [
    "def main():\n",
    "    parser = argparse.ArgumentParser(description=\"Calculate the hypotenuse of a right triangle.\")\n",
    "    # add argument for the opposite side\n",
    "    parser.add_argument('-o', '--opposite', type=float, required=True, help=\"Length of the opposite side\")"
   ]
  },
  {
   "cell_type": "markdown",
   "metadata": {},
   "source": [
    "Nous créons maintenant un groupe mutuellement exclusif pour les deux autres arguments :"
   ]
  },
  {
   "cell_type": "code",
   "execution_count": null,
   "metadata": {},
   "outputs": [],
   "source": [
    "def main():\n",
    "    parser = argparse.ArgumentParser(description=\"Calculate the hypotenuse of a right triangle.\")\n",
    "    parser.add_argument('-o', '--opposite', type=float, required=True, help=\"Length of the opposite side\")\n",
    "\n",
    "    # create a mutually exclusive group for adjacent side and slope\n",
    "    group = parser.add_mutually_exclusive_group(required=True)\n",
    "    \n",
    "    # add argument for the adjacent side\n",
    "    group.add_argument('-a', '--adjacent', type=float, help=\"Length of the adjacent side\")\n",
    "    \n",
    "    # add argument for slope\n",
    "    group.add_argument('-s', '--slope', type=float, help=\"Slope in percentage\")"
   ]
  },
  {
   "cell_type": "markdown",
   "metadata": {},
   "source": [
    "Il nous reste à analyser les paramètres :"
   ]
  },
  {
   "cell_type": "code",
   "execution_count": null,
   "metadata": {},
   "outputs": [],
   "source": [
    "def main():\n",
    "    parser = argparse.ArgumentParser(description=\"Calculate the hypotenuse of a right triangle.\")\n",
    "    parser.add_argument('-o', '--opposite', type=float, required=True, help=\"Length of the opposite side\")\n",
    "\n",
    "    group = parser.add_mutually_exclusive_group(required=True)\n",
    "    group.add_argument('-a', '--adjacent', type=float, help=\"Length of the adjacent side\")\n",
    "    group.add_argument('-s', '--slope', type=float, help=\"Slope in percentage\")\n",
    "\n",
    "    # parse the arguments\n",
    "    args = parser.parse_args()"
   ]
  },
  {
   "cell_type": "markdown",
   "metadata": {},
   "source": [
    "Nous devons aussi déterminer la valeur du côté adjacent s’il n’a pas été directement transmis :"
   ]
  },
  {
   "cell_type": "code",
   "execution_count": null,
   "metadata": {},
   "outputs": [],
   "source": [
    "def main():\n",
    "    parser = argparse.ArgumentParser(description=\"Calculate the hypotenuse of a right triangle.\")\n",
    "    parser.add_argument('-o', '--opposite', type=float, required=True, help=\"Length of the opposite side\")\n",
    "\n",
    "    group = parser.add_mutually_exclusive_group(required=True)\n",
    "    group.add_argument('-a', '--adjacent', type=float, help=\"Length of the adjacent side\")\n",
    "    group.add_argument('-s', '--slope', type=float, help=\"Slope in percentage\")\n",
    "\n",
    "    args = parser.parse_args()\n",
    "\n",
    "    # calculate the adjacent side if slope is given\n",
    "    adjacent = (args.opposite / args.slope) * 100 if args.slope else args.adjacent"
   ]
  },
  {
   "cell_type": "markdown",
   "metadata": {},
   "source": [
    "Et finalement, nous pouvons lancer la fonction qui calcule l’hypoténuse et transmettre le résultat :"
   ]
  },
  {
   "cell_type": "code",
   "execution_count": null,
   "metadata": {},
   "outputs": [],
   "source": [
    "def main():\n",
    "    parser = argparse.ArgumentParser(description=\"Calculate the hypotenuse of a right triangle.\")\n",
    "    parser.add_argument('-o', '--opposite', type=float, required=True, help=\"Length of the opposite side\")\n",
    "\n",
    "    group = parser.add_mutually_exclusive_group(required=True)\n",
    "    group.add_argument('-a', '--adjacent', type=float, help=\"Length of the adjacent side\")\n",
    "    group.add_argument('-s', '--slope', type=float, help=\"Slope in percentage\")\n",
    "\n",
    "    args = parser.parse_args()\n",
    "\n",
    "    adjacent = (args.opposite / args.slope) * 100 if args.slope else args.adjacent\n",
    "\n",
    "    # call the function with the provided arguments\n",
    "    result = hypotenuse(adjacent, args.opposite)\n",
    "    \n",
    "    # print the result\n",
    "    print(f\"The hypotenuse is: {result}\")"
   ]
  },
  {
   "cell_type": "markdown",
   "metadata": {
    "slideshow": {
     "slide_type": "subslide"
    }
   },
   "source": [
    "#### Étape 4 : écrire la procédure principale"
   ]
  },
  {
   "cell_type": "markdown",
   "metadata": {},
   "source": [
    "Souvent l’étape la plus simple ! **Attention !** Le script est fait pour être lancé depuis le terminal, il ne fonctionnera pas depuis le calepin."
   ]
  },
  {
   "cell_type": "code",
   "execution_count": null,
   "metadata": {
    "slideshow": {
     "slide_type": "fragment"
    }
   },
   "outputs": [],
   "source": [
    "#\n",
    "#   Main procedure\n",
    "#\n",
    "if __name__ == \"__main__\":\n",
    "\n",
    "    main()"
   ]
  },
  {
   "cell_type": "markdown",
   "metadata": {},
   "source": [
    "#### Vérification"
   ]
  },
  {
   "cell_type": "markdown",
   "metadata": {},
   "source": [
    "Exécutez le programme en lui transmettant les paramètres de votre choix afin de vérifier que tout fonctionne bien !"
   ]
  },
  {
   "cell_type": "code",
   "execution_count": null,
   "metadata": {},
   "outputs": [],
   "source": [
    "! python ./scripts/pythagoras.py -s 5.31 -o 697"
   ]
  }
 ],
 "metadata": {
  "celltoolbar": "Diaporama",
  "kernelspec": {
   "display_name": "Python 3 (ipykernel)",
   "language": "python",
   "name": "python3"
  },
  "language_info": {
   "codemirror_mode": {
    "name": "ipython",
    "version": 3
   },
   "file_extension": ".py",
   "mimetype": "text/x-python",
   "name": "python",
   "nbconvert_exporter": "python",
   "pygments_lexer": "ipython3",
   "version": "3.11.11"
  }
 },
 "nbformat": 4,
 "nbformat_minor": 4
}
