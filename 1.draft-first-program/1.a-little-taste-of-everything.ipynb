{
 "cells": [
  {
   "cell_type": "markdown",
   "metadata": {
    "slideshow": {
     "slide_type": "slide"
    }
   },
   "source": [
    "# Un avant-goût de tout"
   ]
  },
  {
   "cell_type": "markdown",
   "metadata": {
    "slideshow": {
     "slide_type": "slide"
    }
   },
   "source": [
    "## Rappels\n",
    "\n",
    "Un programme informatique manipule des variables pour obtenir un résultat. Une variable dispose de caractéristiques, comme par exemple :\n",
    "- la valeur qui leur est affectée ;\n",
    "- le type de la valeur affectée.\n",
    "\n",
    "Selon son type, une variable dispose de fonctions, appelées méthodes, que l’on peut lister en utilisant la fonction `help()`."
   ]
  },
  {
   "cell_type": "markdown",
   "metadata": {
    "slideshow": {
     "slide_type": "subslide"
    }
   },
   "source": [
    "Comment, par exemple, transformer le texte suivant en majuscules ?"
   ]
  },
  {
   "cell_type": "code",
   "execution_count": null,
   "metadata": {
    "slideshow": {
     "slide_type": "-"
    }
   },
   "outputs": [],
   "source": [
    "# The variable \"text\" is an instance of the String class.\n",
    "text = \"A Lannister always pays his debts.\"\n",
    "# 'print' is a function, while 'upper' is a method of the String class.\n",
    "print(text.upper())"
   ]
  },
  {
   "cell_type": "markdown",
   "metadata": {
    "slideshow": {
     "slide_type": "slide"
    }
   },
   "source": [
    "## Un problème de réduction\n",
    "\n",
    "Un programme informatique sert à résoudre un problème. Soit la situation suivante :\n",
    "\n",
    "> C’est les soldes ! Des vêtements, des étiquettes avec un prix initial, une réduction en pourcentage et un prix réduit. Mais voilà, vous vous êtes toujours demandé si le prix réduit correspondait bien toujours à la réduction annoncée. Parfois, c’est facile à calculer de tête ; d’autres fois, beaucoup moins. Et si vous tentiez de régler la question avec un programme informatique ?"
   ]
  },
  {
   "cell_type": "markdown",
   "metadata": {
    "slideshow": {
     "slide_type": "subslide"
    }
   },
   "source": [
    "Pour construire un programme informatique, l’impondérable c’est la phase de conception. En résumé, de quoi a-t-on besoin pour parvenir au résultat ?\n",
    "\n",
    "Pour le problème de la solde, on a besoin de connaître le prix de départ ainsi que le taux de réduction :"
   ]
  },
  {
   "cell_type": "code",
   "execution_count": null,
   "metadata": {
    "slideshow": {
     "slide_type": "-"
    }
   },
   "outputs": [],
   "source": [
    "price = 17\n",
    "discount = 30"
   ]
  },
  {
   "cell_type": "markdown",
   "metadata": {
    "slideshow": {
     "slide_type": "subslide"
    }
   },
   "source": [
    "Il reste à appliquer la formule mathématique :\n",
    "1. un taux de 30 %, c’est 30/100 ;\n",
    "2. calculer la réduction, c’est multiplier le prix initial par le taux ;\n",
    "3. calculer le prix réduit, c’est soustraire la réduction au prix initial."
   ]
  },
  {
   "cell_type": "code",
   "execution_count": null,
   "metadata": {
    "slideshow": {
     "slide_type": "-"
    }
   },
   "outputs": [],
   "source": [
    "formula = price - (price * (discount / 100))"
   ]
  },
  {
   "cell_type": "markdown",
   "metadata": {
    "slideshow": {
     "slide_type": "fragment"
    }
   },
   "source": [
    "Puis à l’afficher :"
   ]
  },
  {
   "cell_type": "code",
   "execution_count": null,
   "metadata": {
    "slideshow": {
     "slide_type": "-"
    }
   },
   "outputs": [],
   "source": [
    "print(formula)"
   ]
  },
  {
   "cell_type": "markdown",
   "metadata": {
    "slideshow": {
     "slide_type": "subslide"
    }
   },
   "source": [
    "### Interagir avec l’utilisateur\n",
    "\n",
    "Ok, mais notre programme ne fonctionne que pour un cas unique. Il est encore moins performant qu’une calculette de poche…\n",
    "\n",
    "Pour l’améliorer, on va permettre à un utilisateur de saisir des données plutôt que de les coder en dur :"
   ]
  },
  {
   "cell_type": "code",
   "execution_count": null,
   "metadata": {
    "slideshow": {
     "slide_type": "-"
    }
   },
   "outputs": [],
   "source": [
    "price = input(\"Quel est le prix d’origine ?\")\n",
    "discount = input(\"Quelle est la réduction ?\")"
   ]
  },
  {
   "cell_type": "markdown",
   "metadata": {
    "slideshow": {
     "slide_type": "subslide"
    }
   },
   "source": [
    "Malheureusement, une erreur survient lorsque l’on exécute la formule. Python nous prévient qu’il s’agit d’une erreur de type :"
   ]
  },
  {
   "cell_type": "code",
   "execution_count": null,
   "metadata": {},
   "outputs": [],
   "source": [
    "formula = price - (price * (discount / 100))"
   ]
  },
  {
   "cell_type": "markdown",
   "metadata": {
    "slideshow": {
     "slide_type": "subslide"
    }
   },
   "source": [
    "Une saisie utilisateur est toujours de type `str`. Pour la rendre compatible avec des opérations mathématiques, il faut la transformer en type `int` : Python n’exécute aucune conversion implicite !"
   ]
  },
  {
   "cell_type": "code",
   "execution_count": null,
   "metadata": {
    "slideshow": {
     "slide_type": "-"
    }
   },
   "outputs": [],
   "source": [
    "price = int(price)\n",
    "discount = int(discount)\n",
    "formula = price - (price * (discount / 100))\n",
    "print(formula)"
   ]
  },
  {
   "cell_type": "markdown",
   "metadata": {
    "slideshow": {
     "slide_type": "subslide"
    }
   },
   "source": [
    "Plutôt que de ne renvoyer qu’un nombre, ce serait encore mieux d’écrire un message explicite à l’utilisateur :"
   ]
  },
  {
   "cell_type": "code",
   "execution_count": null,
   "metadata": {
    "slideshow": {
     "slide_type": "-"
    }
   },
   "outputs": [],
   "source": [
    "print(f\"Le prix soldé est de {formula} €.\")"
   ]
  },
  {
   "cell_type": "markdown",
   "metadata": {
    "slideshow": {
     "slide_type": "fragment"
    }
   },
   "source": [
    "Cerise sur le gâteau, les conventions syntaxiques en français définissant la virgule comme séparateur des décimales, on utilise la méthode `replace()` de la classe `str` pour remplacer le point :"
   ]
  },
  {
   "cell_type": "code",
   "execution_count": null,
   "metadata": {
    "slideshow": {
     "slide_type": "-"
    }
   },
   "outputs": [],
   "source": [
    "result = str(formula)\n",
    "print(f\"Le prix soldé est de {result.replace('.', ',')} €.\")"
   ]
  },
  {
   "cell_type": "markdown",
   "metadata": {
    "slideshow": {
     "slide_type": "subslide"
    }
   },
   "source": [
    "### Définir une fonction\n",
    "\n",
    "La formule de calcul d’une réduction est assez simple à utiliser comme cela. Le seul inconvénient est de toujours veiller à ce qu’elle soit placée **après** l’affectation des variables `price` et `discount`. En puis, évidemment, il ne faut pas modifier l’ordre des opérations…"
   ]
  },
  {
   "cell_type": "markdown",
   "metadata": {
    "slideshow": {
     "slide_type": "subslide"
    }
   },
   "source": [
    "Pour garantir l’intégrité d’une opération, une pratique courante consiste à définir une fonction en tête du programme :"
   ]
  },
  {
   "cell_type": "code",
   "execution_count": null,
   "metadata": {
    "slideshow": {
     "slide_type": "-"
    }
   },
   "outputs": [],
   "source": [
    "def sales():\n",
    "    pass"
   ]
  },
  {
   "cell_type": "markdown",
   "metadata": {
    "slideshow": {
     "slide_type": "subslide"
    }
   },
   "source": [
    "Le mot-clé `def` permet de définir une fonction. Une fonction dispose d’un nom à la discrétion du développeur. Ce nom permettra ensuite de l’appeler pour obtenir le résultat escompté :"
   ]
  },
  {
   "cell_type": "code",
   "execution_count": null,
   "metadata": {
    "slideshow": {
     "slide_type": "-"
    }
   },
   "outputs": [],
   "source": [
    "def sales():\n",
    "    price = input(\"Quel est le prix d’origine ?\")\n",
    "    discount = input(\"Quelle est la réduction ?\")\n",
    "    price = int(price)\n",
    "    discount = int(discount)\n",
    "    formula = price - (price * (discount / 100))\n",
    "    result = str(formula)\n",
    "    return f\"Le prix soldé est de {result.replace('.', ',')} €.\""
   ]
  },
  {
   "cell_type": "code",
   "execution_count": null,
   "metadata": {
    "slideshow": {
     "slide_type": "-"
    }
   },
   "outputs": [],
   "source": [
    "discount()"
   ]
  },
  {
   "cell_type": "markdown",
   "metadata": {
    "slideshow": {
     "slide_type": "subslide"
    }
   },
   "source": [
    "La fonction `sales()` est bien trop spécifique pour être vraiment utile, et pour la rendre générique, il faut gagner en abstraction. Une fonction accepte des paramètres en entrée, un peu comme une recette exige des ingrédients pour parvenir au résultat. Ces paramètres constituent la signature de la fonction :"
   ]
  },
  {
   "cell_type": "code",
   "execution_count": null,
   "metadata": {
    "slideshow": {
     "slide_type": "-"
    }
   },
   "outputs": [],
   "source": [
    "def sales(price, discount):\n",
    "    result = price - (price * (discount / 100))\n",
    "    return result"
   ]
  },
  {
   "cell_type": "markdown",
   "metadata": {
    "slideshow": {
     "slide_type": "subslide"
    }
   },
   "source": [
    "On l’appelle ensuite en lui passant les paramètres :"
   ]
  },
  {
   "cell_type": "code",
   "execution_count": null,
   "metadata": {
    "slideshow": {
     "slide_type": "-"
    }
   },
   "outputs": [],
   "source": [
    "price = int(input(\"Quel est le prix d’origine ?\"))\n",
    "discount = int(input(\"Quelle est la réduction ?\"))\n",
    "\n",
    "result = sales(price, discount)\n",
    "\n",
    "result = str(result)\n",
    "\n",
    "print(f\"Le prix soldé est de {result.replace('.', ',')} €.\")"
   ]
  },
  {
   "cell_type": "markdown",
   "metadata": {
    "slideshow": {
     "slide_type": "subslide"
    }
   },
   "source": [
    "Pour faciliter la lisibilité du code, on écrit des commentaires pour expliquer le rôle d’une fonction :"
   ]
  },
  {
   "cell_type": "code",
   "execution_count": null,
   "metadata": {
    "slideshow": {
     "slide_type": "-"
    }
   },
   "outputs": [],
   "source": [
    "def sales(price, discount):\n",
    "    \"\"\"Returns the reduced price of an item.\n",
    "\n",
    "    Keywords arguments:\n",
    "    price -- int : initial price of an item\n",
    "    discount -- int : reduction rate\n",
    "    \"\"\"\n",
    "    result = price - (price * (discount / 100))\n",
    "    return result"
   ]
  },
  {
   "cell_type": "markdown",
   "metadata": {
    "slideshow": {
     "slide_type": "fragment"
    }
   },
   "source": [
    "**Note :** On aurait pu rajouter d’autres opérations au sein de la fonction, comme la conversion de `result` en `str`, mais il est plutôt conseillé de limiter les actions d’une fonction."
   ]
  },
  {
   "cell_type": "markdown",
   "metadata": {
    "slideshow": {
     "slide_type": "slide"
    }
   },
   "source": [
    "## Tester un résultat\n",
    "\n",
    "Avant d’acheter un vêtement, on se demande si souvent si cela rentre dans notre budget. Rien de plus simple grâce aux tests qui permettent d’effectuer une comparaison entre plusieurs valeurs :"
   ]
  },
  {
   "cell_type": "code",
   "execution_count": null,
   "metadata": {
    "slideshow": {
     "slide_type": "-"
    }
   },
   "outputs": [],
   "source": [
    "budget = 50\n",
    "price = int(input(\"Quel est le prix d’origine ?\"))\n",
    "discount = int(input(\"Quelle est la réduction ?\"))\n",
    "\n",
    "result = sales(price, discount)\n",
    "\n",
    "if result < budget:\n",
    "    print(\"La réduction vaut le coup, il faut en profiter !\")\n",
    "else:\n",
    "    print(\"Malgré la réduction, ce n’est pas dans nos moyens.\")"
   ]
  },
  {
   "cell_type": "markdown",
   "metadata": {
    "slideshow": {
     "slide_type": "subslide"
    }
   },
   "source": [
    "On peut encore peaufiner les conditions en ajoutant des opérateurs logiques et d’autres conditions :"
   ]
  },
  {
   "cell_type": "code",
   "execution_count": null,
   "metadata": {
    "slideshow": {
     "slide_type": "-"
    }
   },
   "outputs": [],
   "source": [
    "budget = 50\n",
    "ten_percent = budget + (10/100 * budget)\n",
    "price = int(input(\"Quel est le prix d’origine ?\"))\n",
    "discount = int(input(\"Quelle est la réduction ?\"))\n",
    "\n",
    "result = sales(price, discount)\n",
    "\n",
    "if result > budget and result <= ten_percent:\n",
    "    print(\"Ça dépasse le budget de peu. Ce ne serait pas très raisonnable…\")\n",
    "elif result <= budget:\n",
    "    print(\"La réduction vaut le coup, il faut en profiter !\")\n",
    "else:\n",
    "    print(\"Malgré la réduction, ce n’est pas dans nos moyens.\")"
   ]
  },
  {
   "cell_type": "markdown",
   "metadata": {
    "slideshow": {
     "slide_type": "slide"
    }
   },
   "source": [
    "## Boucler sur un ensemble de données\n",
    "\n",
    "### Les listes\n",
    "\n",
    "Notre programme n’aide vraiment à prendre de décision que pour l’achat d’un vêtement. Comment faire si l’on souhaite effectuer plusieurs achats ?\n",
    "\n",
    "Prenons le cas le plus simple où tous les articles bénéficient de la même réduction :"
   ]
  },
  {
   "cell_type": "code",
   "execution_count": null,
   "metadata": {
    "slideshow": {
     "slide_type": "-"
    }
   },
   "outputs": [],
   "source": [
    "discount = 15\n",
    "# This variable is an instance of the \"List\" class\n",
    "items = [32, 18, 21, 41]"
   ]
  },
  {
   "cell_type": "markdown",
   "metadata": {
    "slideshow": {
     "slide_type": "subslide"
    }
   },
   "source": [
    "Une solution consisterait à obtenir le coût total des articles avant réduction, puis de lui appliquer la réduction :"
   ]
  },
  {
   "cell_type": "code",
   "execution_count": null,
   "metadata": {
    "slideshow": {
     "slide_type": "-"
    }
   },
   "outputs": [],
   "source": [
    "total = 0\n",
    "# For an item in the list of items\n",
    "for item in items:\n",
    "    # Total is equal to itself + the cost of an item\n",
    "    total = total + item\n",
    "\n",
    "result = sales(total, discount)\n",
    "\n",
    "print(result)"
   ]
  },
  {
   "cell_type": "markdown",
   "metadata": {
    "slideshow": {
     "slide_type": "subslide"
    }
   },
   "source": [
    "Une autre solution consisterait à appliquer la réduction à chaque vêtement puis à additionner le résultat :"
   ]
  },
  {
   "cell_type": "code",
   "execution_count": null,
   "metadata": {
    "slideshow": {
     "slide_type": "-"
    }
   },
   "outputs": [],
   "source": [
    "result = 0\n",
    "for item in items:\n",
    "    result = result + sales(item, discount)\n",
    "\n",
    "print(result)"
   ]
  },
  {
   "cell_type": "markdown",
   "metadata": {
    "slideshow": {
     "slide_type": "fragment"
    }
   },
   "source": [
    "Bien que l’algorithme soit différent, le résultat demeure identique. Ce n’est pas surprenant : en informatique, il y a toujours plusieurs façons d’accomplir un objectif ! Regardez la solution suivante :"
   ]
  },
  {
   "cell_type": "code",
   "execution_count": null,
   "metadata": {
    "slideshow": {
     "slide_type": "-"
    }
   },
   "outputs": [],
   "source": [
    "print(sum([ sales(item, discount) for item in items ]))"
   ]
  },
  {
   "cell_type": "markdown",
   "metadata": {
    "slideshow": {
     "slide_type": "subslide"
    }
   },
   "source": [
    "Quid du cas où les articles ne seraient pas tous soldés avec la même réduction ? On peut procéder avec deux listes, en s’assurant qu’elles soient de même longueur :"
   ]
  },
  {
   "cell_type": "code",
   "execution_count": null,
   "metadata": {
    "slideshow": {
     "slide_type": "-"
    }
   },
   "outputs": [],
   "source": [
    "items = [32, 18, 21, 41]\n",
    "discounts = [15, 10, 25, 10]\n",
    "if len(items) == len(discounts):\n",
    "    print(\"Les deux listes ont le même nombre d’éléments.\")"
   ]
  },
  {
   "cell_type": "markdown",
   "metadata": {
    "slideshow": {
     "slide_type": "subslide"
    }
   },
   "source": [
    "Comme tout à l’heure, les solutions nécessitent de boucler sur la liste des items et, pour chacun d’eux, récupérer le taux de réduction correspondant."
   ]
  },
  {
   "cell_type": "code",
   "execution_count": null,
   "metadata": {
    "slideshow": {
     "slide_type": "-"
    }
   },
   "outputs": [],
   "source": [
    "total = 0\n",
    "for i, item in enumerate(items):\n",
    "    result = sales(item, discounts[i])\n",
    "    total = total + result\n",
    "print(total)"
   ]
  },
  {
   "cell_type": "markdown",
   "metadata": {
    "slideshow": {
     "slide_type": "fragment"
    }
   },
   "source": [
    "Que vient faire ce `i` ? `i` est une variable qui prend comme valeur, grâce à la fonction `enumerate()`, le rang de l’item courant dans la liste. Par exemple, l’item qui vaut `18` dans la liste est à la 2e position, juste derrière `32`. L’instruction `discounts[i]` va donc piocher la 2e valeur dans la liste `discounts`."
   ]
  },
  {
   "cell_type": "markdown",
   "metadata": {
    "slideshow": {
     "slide_type": "subslide"
    }
   },
   "source": [
    "### Les tuples\n",
    "\n",
    "Afin d’éviter de manipuler deux listes, on peut tirer profit d’une autre structure de données : les tuples."
   ]
  },
  {
   "cell_type": "code",
   "execution_count": null,
   "metadata": {
    "slideshow": {
     "slide_type": "-"
    }
   },
   "outputs": [],
   "source": [
    "# A list of 4 tuples\n",
    "items = [(32, 15), (18, 10), (21, 25), (41, 10)]\n",
    "total = 0\n",
    "for price, discount in items:\n",
    "    result = sales(price, discount)\n",
    "    total = total + result\n",
    "print(total)"
   ]
  },
  {
   "cell_type": "markdown",
   "metadata": {
    "slideshow": {
     "slide_type": "subslide"
    }
   },
   "source": [
    "### Les dictionnaires\n",
    "\n",
    "Et encore une autre structure, plus explicite : les dictionnaires."
   ]
  },
  {
   "cell_type": "code",
   "execution_count": null,
   "metadata": {
    "slideshow": {
     "slide_type": "-"
    }
   },
   "outputs": [],
   "source": [
    "# A list of dicts\n",
    "items = [\n",
    "    {\"price\": 32, \"discount\": 15},\n",
    "    {\"price\": 18, \"discount\": 10},\n",
    "    {\"price\": 21, \"discount\": 25},\n",
    "    {\"price\": 41, \"discount\": 10}\n",
    "]\n",
    "total = 0\n",
    "for item in items:\n",
    "    result = sales(item[\"price\"], item[\"discount\"])\n",
    "    total = total + result\n",
    "print(total)"
   ]
  },
  {
   "cell_type": "markdown",
   "metadata": {
    "slideshow": {
     "slide_type": "slide"
    }
   },
   "source": [
    "## Lire un fichier\n",
    "\n",
    "En pratique, les programmes informatiques servent à manipuler de grandes quantités de données. Comme il serait fastidieux d’obtenir toutes les données par des champs de formulaire à remplir, on opte pour la solution plus commode de les acquérir en lisant un fichier externe."
   ]
  },
  {
   "cell_type": "code",
   "execution_count": null,
   "metadata": {
    "slideshow": {
     "slide_type": "-"
    }
   },
   "outputs": [],
   "source": [
    "with open(\"./data/sales.tsv\") as file :\n",
    "    # A list of lines\n",
    "    lines = file.readlines()"
   ]
  },
  {
   "cell_type": "markdown",
   "metadata": {
    "slideshow": {
     "slide_type": "subslide"
    }
   },
   "source": [
    "Plutôt concis ! En revanche, le résultat n’est pas immédiatement exploitable :"
   ]
  },
  {
   "cell_type": "code",
   "execution_count": null,
   "metadata": {
    "slideshow": {
     "slide_type": "-"
    }
   },
   "outputs": [],
   "source": [
    "print(lines)"
   ]
  },
  {
   "cell_type": "markdown",
   "metadata": {
    "slideshow": {
     "slide_type": "fragment"
    }
   },
   "source": [
    "Pour nettoyer le résultat, on va d’abord supprimer la première ligne :"
   ]
  },
  {
   "cell_type": "code",
   "execution_count": null,
   "metadata": {
    "slideshow": {
     "slide_type": "-"
    }
   },
   "outputs": [],
   "source": [
    "lines = lines[1:]"
   ]
  },
  {
   "cell_type": "markdown",
   "metadata": {
    "slideshow": {
     "slide_type": "subslide"
    }
   },
   "source": [
    "Puis, pour chaque ligne restante, supprimer le caractère `\\n` (retour à la ligne) :"
   ]
  },
  {
   "cell_type": "code",
   "execution_count": null,
   "metadata": {
    "slideshow": {
     "slide_type": "-"
    }
   },
   "outputs": [],
   "source": [
    "for line in lines:\n",
    "    line = line.replace('\\n', '')"
   ]
  },
  {
   "cell_type": "markdown",
   "metadata": {
    "slideshow": {
     "slide_type": "fragment"
    }
   },
   "source": [
    "Et enfin, utiliser le caractère `\\t` (tabulation) comme séparateur entre le prix et la remise :"
   ]
  },
  {
   "cell_type": "code",
   "execution_count": null,
   "metadata": {
    "slideshow": {
     "slide_type": "-"
    }
   },
   "outputs": [],
   "source": [
    "for line in lines:\n",
    "    line = line.replace('\\n', '')\n",
    "    values = line.split('\\t')\n",
    "    price = values[0]\n",
    "    discount = values[1]"
   ]
  },
  {
   "cell_type": "markdown",
   "metadata": {
    "slideshow": {
     "slide_type": "subslide"
    }
   },
   "source": [
    "Maintenant que le prix et la remise sont bien isolés, la fin du programme reste classique. N’hésitez pas à compléter le programme.\n",
    "\n",
    "Pour autant, il existe un moyen plus simple de traiter les données du fichier. `sales.tsv` est un fichier de type `tsv`, c’est-à-dire *tabulation-separated values*. Il est très similaire aux fichiers `csv`, mais au lieu d’utiliser la virgule comme caractère séparateur, on utilise une tabulation.\n",
    "\n",
    "Pour manipuler les fichiers `csv` et assimilés, on importe un module du même nom :"
   ]
  },
  {
   "cell_type": "code",
   "execution_count": null,
   "metadata": {
    "slideshow": {
     "slide_type": "-"
    }
   },
   "outputs": [],
   "source": [
    "import csv"
   ]
  },
  {
   "cell_type": "markdown",
   "metadata": {
    "slideshow": {
     "slide_type": "subslide"
    }
   },
   "source": [
    "Ce module donne accès à des méthodes qui facilitent la manipulation du fichier :"
   ]
  },
  {
   "cell_type": "code",
   "execution_count": null,
   "metadata": {
    "slideshow": {
     "slide_type": "-"
    }
   },
   "outputs": [],
   "source": [
    "total = 0\n",
    "with open('./data/sales.tsv') as file:\n",
    "    reader = csv.DictReader(file, delimiter = '\\t')\n",
    "    for line in reader:\n",
    "        result = sales(int(line['price']), int(line['discount']))\n",
    "        total = total + result\n",
    "print(total)"
   ]
  },
  {
   "cell_type": "markdown",
   "metadata": {
    "slideshow": {
     "slide_type": "slide"
    }
   },
   "source": [
    "## Gestion des erreurs\n",
    "\n",
    "Exécutez le programme ci-dessous et saisissez dans la boîte de dialogue des caractères plutôt que des chiffres :"
   ]
  },
  {
   "cell_type": "code",
   "execution_count": null,
   "metadata": {
    "slideshow": {
     "slide_type": "-"
    }
   },
   "outputs": [],
   "source": [
    "price = int(input(\"Quel est le prix d’origine ?\"))"
   ]
  },
  {
   "cell_type": "markdown",
   "metadata": {
    "slideshow": {
     "slide_type": "subslide"
    }
   },
   "source": [
    "Python renvoie une erreur et nous indique que la valeur saisie est invalide. Plutôt que de laisser ce genre de messages imbuvables et qui met un terme brutal au programme, il est recommandé de gérer l’erreur :"
   ]
  },
  {
   "cell_type": "code",
   "execution_count": null,
   "metadata": {
    "slideshow": {
     "slide_type": "-"
    }
   },
   "outputs": [],
   "source": [
    "try:\n",
    "    price = int(input(\"Quel est le prix d’origine ?\"))\n",
    "    discount = int(input(\"Quelle est la réduction ?\"))\n",
    "except ValueError:\n",
    "    print(\"Veuillez saisir un nombre.\")"
   ]
  },
  {
   "cell_type": "markdown",
   "metadata": {
    "slideshow": {
     "slide_type": "subslide"
    }
   },
   "source": [
    "Et si l’on veut poser la question tant que l’utilisateur ne saisit pas une valeur correcte ?\n",
    "\n",
    "Il faut alors mettre en jeu deux mécanismes :\n",
    "- une boucle logique\n",
    "- un mécanisme de sortie de la boucle logique"
   ]
  },
  {
   "cell_type": "code",
   "execution_count": null,
   "metadata": {
    "slideshow": {
     "slide_type": "-"
    }
   },
   "outputs": [],
   "source": [
    "while 1:\n",
    "    try:\n",
    "        price = int(input(\"Quel est le prix d’origine ?\"))\n",
    "        discount = int(input(\"Quelle est la réduction ?\"))\n",
    "        break\n",
    "    except ValueError:\n",
    "        print(\"Veuillez saisir un nombre.\")\n",
    "print(\"Les valeurs saisies sont correctes !\")"
   ]
  },
  {
   "cell_type": "markdown",
   "metadata": {
    "slideshow": {
     "slide_type": "slide"
    }
   },
   "source": [
    "## Conclusion\n",
    "\n",
    "De nombreuses notions qui seront détaillées dans les *notebooks* à suivre. À titre d’exercice, essayez de résoudre l’énigme [*morisien*](./exercises/1.morisien.ipynb)."
   ]
  }
 ],
 "metadata": {
  "celltoolbar": "Diaporama",
  "kernelspec": {
   "display_name": "Python 3",
   "language": "python",
   "name": "python3"
  },
  "language_info": {
   "codemirror_mode": {
    "name": "ipython",
    "version": 3
   },
   "file_extension": ".py",
   "mimetype": "text/x-python",
   "name": "python",
   "nbconvert_exporter": "python",
   "pygments_lexer": "ipython3",
   "version": "3.8.0"
  }
 },
 "nbformat": 4,
 "nbformat_minor": 4
}
