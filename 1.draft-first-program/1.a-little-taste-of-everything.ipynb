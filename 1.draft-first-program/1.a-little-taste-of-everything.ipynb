{
 "cells": [
  {
   "cell_type": "markdown",
   "metadata": {
    "slideshow": {
     "slide_type": "slide"
    }
   },
   "source": [
    "# Un avant-goût de tout"
   ]
  },
  {
   "cell_type": "markdown",
   "metadata": {
    "slideshow": {
     "slide_type": "slide"
    }
   },
   "source": [
    "## Rappels\n",
    "\n",
    "Un programme informatique manipule des variables pour obtenir un résultat. Une variable dispose de caractéristiques, comme par exemple :\n",
    "- la valeur qui leur est affectée ;\n",
    "- le type de la valeur affectée.\n",
    "\n",
    "Selon son type, une variable dispose de fonctions, appelées méthodes, que l’on peut lister en utilisant la fonction `help()`."
   ]
  },
  {
   "cell_type": "markdown",
   "metadata": {
    "slideshow": {
     "slide_type": "subslide"
    }
   },
   "source": [
    "Comment, par exemple, transformer le texte suivant en majuscules ?"
   ]
  },
  {
   "cell_type": "code",
   "execution_count": null,
   "metadata": {
    "slideshow": {
     "slide_type": "-"
    }
   },
   "outputs": [],
   "source": [
    "# The variable \"text\" is an instance of the String class.\n",
    "text = \"A Lannister always pays his debts.\"\n",
    "# 'print' is a function, while 'upper' is a method of the String class.\n",
    "print(text.upper())"
   ]
  },
  {
   "cell_type": "markdown",
   "metadata": {
    "slideshow": {
     "slide_type": "slide"
    }
   },
   "source": [
    "## Un problème de réduction\n",
    "\n",
    "Un programme informatique sert à résoudre un problème. Soit la situation suivante :\n",
    "\n",
    "> C’est les soldes ! Des vêtements, des étiquettes avec un prix initial, une réduction en pourcentage et un prix réduit. Mais voilà, vous vous êtes toujours demandé si le prix réduit correspondait bien toujours à la réduction annoncée. Parfois, c’est facile à calculer de tête ; d’autres fois, beaucoup moins. Et si vous tentiez de régler la question avec un programme informatique ?"
   ]
  },
  {
   "cell_type": "markdown",
   "metadata": {
    "slideshow": {
     "slide_type": "subslide"
    }
   },
   "source": [
    "Pour construire un programme informatique, l’impondérable c’est la phase de conception. En résumé, de quoi a-t-on besoin pour parvenir au résultat ?\n",
    "\n",
    "Pour le problème de la solde, on a besoin de connaître le prix de départ ainsi que le taux de réduction :"
   ]
  },
  {
   "cell_type": "code",
   "execution_count": null,
   "metadata": {
    "slideshow": {
     "slide_type": "-"
    }
   },
   "outputs": [],
   "source": [
    "price = 17\n",
    "discount = 30"
   ]
  },
  {
   "cell_type": "markdown",
   "metadata": {
    "slideshow": {
     "slide_type": "subslide"
    }
   },
   "source": [
    "Il reste à appliquer la formule mathématique :\n",
    "1. un taux de 30 %, c’est 30/100 ;\n",
    "2. calculer la réduction, c’est multiplier le prix initial par le taux ;\n",
    "3. calculer le prix réduit, c’est soustraire la réduction au prix initial."
   ]
  },
  {
   "cell_type": "code",
   "execution_count": null,
   "metadata": {
    "slideshow": {
     "slide_type": "-"
    }
   },
   "outputs": [],
   "source": [
    "formula = price - (price * (discount / 100))"
   ]
  },
  {
   "cell_type": "markdown",
   "metadata": {
    "slideshow": {
     "slide_type": "fragment"
    }
   },
   "source": [
    "Puis à l’afficher :"
   ]
  },
  {
   "cell_type": "code",
   "execution_count": null,
   "metadata": {
    "slideshow": {
     "slide_type": "-"
    }
   },
   "outputs": [],
   "source": [
    "print(formula)"
   ]
  },
  {
   "cell_type": "markdown",
   "metadata": {
    "slideshow": {
     "slide_type": "subslide"
    }
   },
   "source": [
    "### Interagir avec l’utilisateur\n",
    "\n",
    "Ok, mais notre programme ne fonctionne que pour un cas unique. Il est encore moins performant qu’une calculette de poche…\n",
    "\n",
    "Pour l’améliorer, on va permettre à un utilisateur de saisir des données plutôt que de les coder en dur :"
   ]
  },
  {
   "cell_type": "code",
   "execution_count": null,
   "metadata": {
    "slideshow": {
     "slide_type": "-"
    }
   },
   "outputs": [],
   "source": [
    "price = input(\"Quel est le prix d’origine ?\")\n",
    "discount = input(\"Quelle est la réduction ?\")"
   ]
  },
  {
   "cell_type": "markdown",
   "metadata": {
    "slideshow": {
     "slide_type": "subslide"
    }
   },
   "source": [
    "Malheureusement, une erreur survient lorsque l’on exécute la formule. Python nous prévient qu’il s’agit d’une erreur de type :"
   ]
  },
  {
   "cell_type": "code",
   "execution_count": null,
   "metadata": {},
   "outputs": [],
   "source": [
    "formula = price - (price * (discount / 100))"
   ]
  },
  {
   "cell_type": "markdown",
   "metadata": {
    "slideshow": {
     "slide_type": "subslide"
    }
   },
   "source": [
    "Une saisie utilisateur est toujours de type `str`. Pour la rendre compatible avec des opérations mathématiques, il faut la transformer en type `int` : Python n’exécute aucune conversion implicite !"
   ]
  },
  {
   "cell_type": "code",
   "execution_count": null,
   "metadata": {
    "slideshow": {
     "slide_type": "-"
    }
   },
   "outputs": [],
   "source": [
    "price = int(price)\n",
    "discount = int(discount)\n",
    "formula = price - (price * (discount / 100))\n",
    "print(formula)"
   ]
  },
  {
   "cell_type": "markdown",
   "metadata": {
    "slideshow": {
     "slide_type": "subslide"
    }
   },
   "source": [
    "Plutôt que de ne renvoyer qu’un nombre, ce serait encore mieux d’écrire un message explicite à l’utilisateur :"
   ]
  },
  {
   "cell_type": "code",
   "execution_count": null,
   "metadata": {
    "slideshow": {
     "slide_type": "-"
    }
   },
   "outputs": [],
   "source": [
    "print(f\"Le prix soldé est de {formula} €.\")"
   ]
  },
  {
   "cell_type": "markdown",
   "metadata": {
    "slideshow": {
     "slide_type": "fragment"
    }
   },
   "source": [
    "Cerise sur le gâteau, les conventions syntaxiques en français définissant la virgule comme séparateur des décimales, on utilise la méthode `replace()` de la classe `str` pour remplacer le point :"
   ]
  },
  {
   "cell_type": "code",
   "execution_count": null,
   "metadata": {
    "slideshow": {
     "slide_type": "-"
    }
   },
   "outputs": [],
   "source": [
    "result = str(formula)\n",
    "print(f\"Le prix soldé est de {result.replace('.', ',')} €.\")"
   ]
  },
  {
   "cell_type": "markdown",
   "metadata": {
    "slideshow": {
     "slide_type": "subslide"
    }
   },
   "source": [
    "### Définir une fonction\n",
    "\n",
    "La formule de calcul d’une réduction est assez simple à utiliser comme cela. Le seul inconvénient est de toujours veiller à ce qu’elle soit placée **après** l’affectation des variables `price` et `discount`. En puis, évidemment, il ne faut pas modifier l’ordre des opérations…"
   ]
  },
  {
   "cell_type": "markdown",
   "metadata": {
    "slideshow": {
     "slide_type": "subslide"
    }
   },
   "source": [
    "Pour garantir l’intégrité d’une opération, une pratique courante consiste à définir une fonction en tête du programme :"
   ]
  },
  {
   "cell_type": "code",
   "execution_count": null,
   "metadata": {
    "slideshow": {
     "slide_type": "-"
    }
   },
   "outputs": [],
   "source": [
    "def sales():\n",
    "    pass"
   ]
  },
  {
   "cell_type": "markdown",
   "metadata": {
    "slideshow": {
     "slide_type": "subslide"
    }
   },
   "source": [
    "Le mot-clé `def` permet de définir une fonction. Une fonction dispose d’un nom à la discrétion du développeur. Ce nom permettra ensuite de l’appeler pour obtenir le résultat escompté :"
   ]
  },
  {
   "cell_type": "code",
   "execution_count": null,
   "metadata": {
    "slideshow": {
     "slide_type": "-"
    }
   },
   "outputs": [],
   "source": [
    "def sales():\n",
    "    price = input(\"Quel est le prix d’origine ?\")\n",
    "    discount = input(\"Quelle est la réduction ?\")\n",
    "    price = int(price)\n",
    "    discount = int(discount)\n",
    "    formula = price - (price * (discount / 100))\n",
    "    result = str(formula)\n",
    "    return f\"Le prix soldé est de {result.replace('.', ',')} €.\""
   ]
  },
  {
   "cell_type": "code",
   "execution_count": null,
   "metadata": {
    "slideshow": {
     "slide_type": "-"
    }
   },
   "outputs": [],
   "source": [
    "discount()"
   ]
  },
  {
   "cell_type": "markdown",
   "metadata": {
    "slideshow": {
     "slide_type": "subslide"
    }
   },
   "source": [
    "La fonction `sales()` est bien trop spécifique pour être vraiment utile, et pour la rendre générique, il faut gagner en abstraction. Une fonction accepte des paramètres en entrée, un peu comme une recette exige des ingrédients pour parvenir au résultat. Ces paramètres constituent la signature de la fonction :"
   ]
  },
  {
   "cell_type": "code",
   "execution_count": null,
   "metadata": {
    "slideshow": {
     "slide_type": "-"
    }
   },
   "outputs": [],
   "source": [
    "def sales(price, discount):\n",
    "    result = price - (price * (discount / 100))\n",
    "    return result"
   ]
  },
  {
   "cell_type": "markdown",
   "metadata": {
    "slideshow": {
     "slide_type": "subslide"
    }
   },
   "source": [
    "On l’appelle ensuite en lui passant les paramètres :"
   ]
  },
  {
   "cell_type": "code",
   "execution_count": null,
   "metadata": {
    "slideshow": {
     "slide_type": "-"
    }
   },
   "outputs": [],
   "source": [
    "price = int(input(\"Quel est le prix d’origine ?\"))\n",
    "discount = int(input(\"Quelle est la réduction ?\"))\n",
    "\n",
    "result = sales(price, discount)\n",
    "\n",
    "result = str(result)\n",
    "\n",
    "print(f\"Le prix soldé est de {result.replace('.', ',')} €.\")"
   ]
  },
  {
   "cell_type": "markdown",
   "metadata": {
    "slideshow": {
     "slide_type": "subslide"
    }
   },
   "source": [
    "Pour faciliter la lisibilité du code, on écrit des commentaires pour expliquer le rôle d’une fonction :"
   ]
  },
  {
   "cell_type": "code",
   "execution_count": null,
   "metadata": {
    "slideshow": {
     "slide_type": "-"
    }
   },
   "outputs": [],
   "source": [
    "def sales(price, discount):\n",
    "    \"\"\"Returns the reduced price of an item.\n",
    "\n",
    "    Keywords arguments:\n",
    "    price -- int : initial price of an item\n",
    "    discount -- int : reduction rate\n",
    "    \"\"\"\n",
    "    result = price - (price * (discount / 100))\n",
    "    return result"
   ]
  },
  {
   "cell_type": "markdown",
   "metadata": {
    "slideshow": {
     "slide_type": "fragment"
    }
   },
   "source": [
    "**Note :** On aurait pu rajouter d’autres opérations au sein de la fonction, comme la conversion de `result` en `str`, mais il est plutôt conseillé de limiter les actions d’une fonction."
   ]
  },
  {
   "cell_type": "markdown",
   "metadata": {
    "slideshow": {
     "slide_type": "slide"
    }
   },
   "source": [
    "## Tester un résultat"
   ]
  },
  {
   "cell_type": "markdown",
   "metadata": {
    "slideshow": {
     "slide_type": "slide"
    }
   },
   "source": [
    "## Boucler sur une liste"
   ]
  }
 ],
 "metadata": {
  "celltoolbar": "Diaporama",
  "kernelspec": {
   "display_name": "Python 3",
   "language": "python",
   "name": "python3"
  },
  "language_info": {
   "codemirror_mode": {
    "name": "ipython",
    "version": 3
   },
   "file_extension": ".py",
   "mimetype": "text/x-python",
   "name": "python",
   "nbconvert_exporter": "python",
   "pygments_lexer": "ipython3",
   "version": "3.8.0"
  }
 },
 "nbformat": 4,
 "nbformat_minor": 4
}
