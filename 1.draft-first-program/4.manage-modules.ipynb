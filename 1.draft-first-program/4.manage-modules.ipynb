{
 "cells": [
  {
   "cell_type": "markdown",
   "metadata": {
    "slideshow": {
     "slide_type": "slide"
    }
   },
   "source": [
    "# La gestion des modules en Python"
   ]
  },
  {
   "cell_type": "markdown",
   "metadata": {},
   "source": [
    "## Module ou *package* ?"
   ]
  },
  {
   "cell_type": "markdown",
   "metadata": {
    "jp-MarkdownHeadingCollapsed": true,
    "slideshow": {
     "slide_type": "slide"
    }
   },
   "source": [
    "**Module :** fichier qui regroupe plusieurs fonctions.\n",
    "\n",
    "**Package :** répertoire qui rassemble plusieurs modules.\n",
    "\n",
    "Dans le précédent calepin, nous avons calculé une régression linéaire avec la méthode des moindres carrés. De cet énoncé nous ressortons deux implicites :\n",
    "\n",
    "- Nous pourrions utiliser un autre modèle ;\n",
    "- la méthode des moindres carrés n’est pas la seule possible.\n",
    "\n",
    "Nous aurions effectivement pu décider de réaliser une régression polynomiale ou de calculer une descente de gradient. De là, s’il fallait consigner dans un même script toutes les fonctions nécessaires sans jamais les rendre disponibles pour d’autres programmes, ils feraient rapidement tous des dizaines de milliers de lignes.\n",
    "\n",
    "Heureusement, ce n’est pas le cas et plutôt que de réécrire la constante $\\pi$ à chaque fois que nous avons besoin de faire des calculs dans le cercle, il nous suffit de l’importer depuis le module *math* :"
   ]
  },
  {
   "cell_type": "code",
   "execution_count": null,
   "metadata": {
    "scrolled": true,
    "slideshow": {
     "slide_type": "fragment"
    }
   },
   "outputs": [],
   "source": [
    "import math\n",
    "\n",
    "def circle_area(r):\n",
    "    return math.pi * r ** 2"
   ]
  },
  {
   "cell_type": "markdown",
   "metadata": {},
   "source": [
    "## Importations et espaces de nommage"
   ]
  },
  {
   "cell_type": "markdown",
   "metadata": {},
   "source": [
    "Dans le répertoire *scripts* se trouve un sous-répertoire *dummy* avec un script *linear.py* qui contient une fonction pour générer des données à l’aspect linéaire. Si nous souhaitons l’importer, nous pouvons l’appeler par son nom :"
   ]
  },
  {
   "cell_type": "code",
   "execution_count": null,
   "metadata": {},
   "outputs": [],
   "source": [
    "import linear"
   ]
  },
  {
   "cell_type": "markdown",
   "metadata": {},
   "source": [
    "**Comment ça ?!** `ModuleNotFoundError` ?\n",
    "\n",
    "Python a raison, il s’attendait à trouver un fichier *linear.py* au même niveau que ce calepin, c’est-à-dire dans le même répertoire, alors qu’il est rangé dans le répertoire *./scripts/dummy/*.\n",
    "\n",
    "Le sous-répertoire *dummy* est ce que l’on appelle un *package* et un *package* peut renfermer plusieurs modules, *linear* étant l’un d’eux."
   ]
  },
  {
   "cell_type": "markdown",
   "metadata": {},
   "source": [
    "### Importer un module depuis un paquet"
   ]
  },
  {
   "cell_type": "markdown",
   "metadata": {},
   "source": [
    "Repartons à présent du squelette de notre script *linear_regression.py* disponible dans le répertoire *scripts* afin d’avoir directement accès au paquet *dummy* et ajoutons une instruction pour l’importer :\n",
    "\n",
    "```python\n",
    "import dummy\n",
    "```\n",
    "\n",
    "On pourrait supposer que cette commande donne accès à tous les modules qui dépendent de `dummy` mais, en l’état, aucune possibilité d’accéder à la fonction `generate_data()` définie dans `linear.py`. Toutes les commandes suivantes échouent :\n",
    "\n",
    "```python\n",
    "data = generate_data()\n",
    "data = linear.generate_data()\n",
    "data = dummy.linear.generate_data()\n",
    "```\n",
    "\n",
    "Une solution consiste à importer directement le module `linear` du *package* `dummy` :\n",
    "\n",
    "```python\n",
    "import dummy.linear\n",
    "```\n",
    "\n",
    "Puis à appeler la fonction en passant par tous les espaces de nommage :\n",
    "\n",
    "```python\n",
    "data = dummy.linear.generate_data()\n",
    "```"
   ]
  },
  {
   "cell_type": "markdown",
   "metadata": {
    "slideshow": {
     "slide_type": "fragment"
    }
   },
   "source": [
    "### Définir un alias"
   ]
  },
  {
   "cell_type": "markdown",
   "metadata": {
    "slideshow": {
     "slide_type": "subslide"
    }
   },
   "source": [
    "Plutôt fastidieux d’appeler une fonction d’aussi loin, non ? Heureusement, il existe les alias :\n",
    "\n",
    "```python\n",
    "import dummy.linear as dl\n",
    "\n",
    "data = dl.generate_data()\n",
    "```"
   ]
  },
  {
   "cell_type": "markdown",
   "metadata": {},
   "source": [
    "### Importation complète"
   ]
  },
  {
   "cell_type": "markdown",
   "metadata": {
    "slideshow": {
     "slide_type": "fragment"
    }
   },
   "source": [
    "On peut aussi accéder directement aux fonctions sans les espaces de nommage :\n",
    "\n",
    "```python\n",
    "from dummy.linear import *\n",
    "\n",
    "data = generate_data()\n",
    "```"
   ]
  },
  {
   "cell_type": "markdown",
   "metadata": {},
   "source": [
    "### Importation spécifique"
   ]
  },
  {
   "cell_type": "markdown",
   "metadata": {
    "slideshow": {
     "slide_type": "subslide"
    }
   },
   "source": [
    "L’importation totale des fonctions d’un module présente deux risques :\n",
    "\n",
    "- Charger des fonctions inutiles pour le script en cours ;\n",
    "- l’étoile `*` masque le nom des fonctions.\n",
    "\n",
    "Une autre méthode consiste à puiser une fonction spécifique dans un module :\n",
    "\n",
    "```python\n",
    "from dummy.linear import generate_data\n",
    "\n",
    "data = generate_data()\n",
    "```"
   ]
  },
  {
   "cell_type": "markdown",
   "metadata": {},
   "source": [
    "## Organiser son *package*"
   ]
  },
  {
   "cell_type": "markdown",
   "metadata": {
    "slideshow": {
     "slide_type": "slide"
    }
   },
   "source": [
    "Dans la pratique, on préférera toujours conserver dans la syntaxe d’appel aux fonctions utilisateur le lien de dépendance à un espace de nommage (module) :\n",
    "\n",
    "```python\n",
    "from dummy import linear\n",
    "\n",
    "data = linear.generate_data()\n",
    "```\n",
    "\n",
    "De cette manière, si l’on définissait dans un module une fonction qui porte le même nom qu’une autre fonction d’un autre module, on éviterait tout risque de collision."
   ]
  },
  {
   "cell_type": "markdown",
   "metadata": {
    "slideshow": {
     "slide_type": "fragment"
    }
   },
   "source": [
    "### Des fichiers thématiques"
   ]
  },
  {
   "cell_type": "markdown",
   "metadata": {
    "slideshow": {
     "slide_type": "subslide"
    }
   },
   "source": [
    "Un *package* s’organise autour de fichiers regroupant des fonctions qui servent elles-mêmes un objectif commun. On peut imaginer des modules avec des noms comme : `core`, `utils`, `tests`, `data`…"
   ]
  },
  {
   "cell_type": "markdown",
   "metadata": {},
   "source": [
    "### Un sommaire pour le paquet"
   ]
  },
  {
   "cell_type": "markdown",
   "metadata": {
    "slideshow": {
     "slide_type": "subslide"
    }
   },
   "source": [
    "Il existe un fichier un peu particulier que l’on a coutume de placer en-tête de tout paquet, et ce même s’il est devenu optionnel avec les mises à jour successives de python : `__init__.py`\n",
    "\n",
    "Ce fichier est utilisé à l’initialisation du paquet et peut se concevoir comme un sommaire du contenu. Il est chargé de lister l’ensemble des modules qu’il contient.\n",
    "\n",
    "Créez un fichier `__init__.py` à la racine du répertoire `dummy` avec juste ces quelques lignes :\n",
    "\n",
    "```python\n",
    "__name__ = 'Dummy: the package that generate dummy data'\n",
    "__version__ = 'v1.0b'\n",
    "\n",
    "from .linear import generate_data\n",
    "```\n",
    "\n",
    "Ce qui permet ensuite de raccourcir les appels aux fonctions de tous les modules dépendants, comme s’il s’agissait de méthodes du paquet :\n",
    "\n",
    "```python\n",
    "import dummy\n",
    "\n",
    "data = dummy.generate_data()\n",
    "```"
   ]
  },
  {
   "cell_type": "markdown",
   "metadata": {},
   "source": [
    "## Les variables spéciales : l’exemple de `__name__`"
   ]
  },
  {
   "cell_type": "markdown",
   "metadata": {
    "slideshow": {
     "slide_type": "slide"
    }
   },
   "source": [
    "Il existe des variables un peu particulières encadrées par des doubles *underscores* :\n",
    "\n",
    "- `__name__`\n",
    "- `__version__`\n",
    "\n",
    "Ce sont des variables spéciales qui permettent d’indiquer certaines informations à Python. Elles sont facultatives et ne servent que dans des cas particuliers.\n",
    "\n",
    "Prenons l’exemple de la variable `__name__` que l’on trouve dans l’expression :\n",
    "\n",
    "```python\n",
    "if __name__ == '__main__':\n",
    "    # Main program\n",
    "```\n",
    "\n",
    "Lorsque Python lit un fichier `.py`, il réalise deux opérations :\n",
    "\n",
    "- exécuter une instruction similaire à : `__name__ = '__main__'`\n",
    "- exécuter le code du script\n",
    "\n",
    "D’un point du vue pratique, observons le fichier [*linear.py*](scripts/dummy/linear.py), qui dispose d’un morceau de code :\n",
    "\n",
    "```python\n",
    "if __name__ == '__main__':\n",
    "    \"\"\"Usage example.\n",
    "    Works only when used as standalone.\n",
    "    \"\"\"\n",
    "    import matplotlib.pyplot as plt\n",
    "\n",
    "    # generate data\n",
    "    X, Y = generate_data(size=100)\n",
    "\n",
    "    # make plot\n",
    "    coef = np.polyfit(X, Y, 1)\n",
    "    poly1d_fn = np.poly1d(coef)\n",
    "    plt.plot(X, Y, 'yo', X, poly1d_fn(X), '--k')\n",
    "\n",
    "    # display plot\n",
    "    plt.show()\n",
    "```\n",
    "\n",
    "Ce morceau de code n’est exécuté que lorsque le script *linear.py* est appelé tout seul (*standalone*). Ouvrez une nouvelle fenêtre de terminal, déplacez-vous dans le répertoire où se trouve le script et lancez-le :\n",
    "\n",
    "```shell\n",
    "$ python ./linear.py\n",
    "```\n",
    "\n",
    "Une fenêtre s’ouvrira dans votre interface avec un graphique représentant une régression linéaire.\n",
    "\n",
    "En revanche, lorsque vous importez le module depuis un script, le graphique ne s’affiche pas !\n",
    "\n",
    "```python\n",
    "import dummy.linear\n",
    "```\n",
    "\n",
    "L’explication est simple : lorsque le script est importé en tant que module, son `__name__` prend la valeur du fichier. En l’occurrence, le script *linear.py* a pour nom `linear` et pas `__main__`.\n",
    "\n",
    "Le nom `__main__` est réservé au script principal, à savoir le script *linear_regression.py* depuis lequel vous exécutez l’importation !\n",
    "\n",
    "Si nous retirons du fichier *linear.py* la ligne contenant l’instruction `if __name__ = '__main__':` et que nous relançons l’exécution du script `linear_regression.py`, cette fois-ci le graphique apparaîtra !\n",
    "\n",
    "La condition `if __name__ = '__main__':` est par conséquent impérative pour éviter tout effet de bord dans un script."
   ]
  }
 ],
 "metadata": {
  "celltoolbar": "Diaporama",
  "kernelspec": {
   "display_name": "Python 3 (ipykernel)",
   "language": "python",
   "name": "python3"
  },
  "language_info": {
   "codemirror_mode": {
    "name": "ipython",
    "version": 3
   },
   "file_extension": ".py",
   "mimetype": "text/x-python",
   "name": "python",
   "nbconvert_exporter": "python",
   "pygments_lexer": "ipython3",
   "version": "3.10.6"
  }
 },
 "nbformat": 4,
 "nbformat_minor": 4
}
