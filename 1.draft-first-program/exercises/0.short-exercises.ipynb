{
 "cells": [
  {
   "cell_type": "markdown",
   "metadata": {},
   "source": [
    "# Exercices d’approche\n",
    "\n",
    "Ces exercices sont destinés à prendre rapidement en main, par la pratique, le langage Python. Pour la plupart, ils ne servent pas à grand chose d’autre :-)\n",
    "\n",
    "Pour tous, vous pourrez tirer profit de la fonction `input()` qui permet de récupérer une saisie utilisateur et ajouter un peu d’intéractivité à votre code :\n",
    "\n",
    "```python\n",
    "n = input(\"Entrez un nombre : \")\n",
    "```\n",
    "\n",
    "Attention, la sortie est toujours de type `str`. Il est probable de devoir la transformer en `int` :\n",
    "\n",
    "```python\n",
    "n = int(n)\n",
    "```"
   ]
  },
  {
   "cell_type": "markdown",
   "metadata": {},
   "source": [
    "## Mathématique\n",
    "\n",
    "### Triple\n",
    "\n",
    "Le code ci-dessous permet de calculer le double d’un entier *n*, grâce à une fonction `double()`. Produisez une autre fonction qui permette de calculer le triple."
   ]
  },
  {
   "cell_type": "code",
   "execution_count": null,
   "metadata": {},
   "outputs": [],
   "source": [
    "def double(n):\n",
    "    \"\"\"Returns the double of an integer.\n",
    "    \n",
    "    n -- the integer to multiply\n",
    "    \"\"\"\n",
    "    return n * 2\n",
    "\n",
    "print(double(5))"
   ]
  },
  {
   "cell_type": "markdown",
   "metadata": {},
   "source": [
    "### Tout en longueur\n",
    "\n",
    "Afin de calculer le périmètre d’un rectangle, on utilise la formule : $2(L \\times l)$. En Python, elle s’exprime très simplement :"
   ]
  },
  {
   "cell_type": "code",
   "execution_count": null,
   "metadata": {},
   "outputs": [],
   "source": [
    "def perimeter(a, b):\n",
    "    \"\"\"Returns the perimiter of a rectangle.\n",
    "    \n",
    "    a -- the length\n",
    "    b -- the width\n",
    "    \"\"\"\n",
    "    return 2 * (a + b)"
   ]
  },
  {
   "cell_type": "markdown",
   "metadata": {},
   "source": [
    "Concevez tout d’abord une fonction qui calcule cette fois-ci l’aire d’un rectangle, selon la formule $L \\times l$, puis une autre qui retourne le périmètre d’un triangle quelconque (somme des trois côtés), avant de vous aventurer dans le calcul du périmètre d’un cercle :\n",
    "\n",
    "$2 \\pi R$"
   ]
  },
  {
   "cell_type": "markdown",
   "metadata": {},
   "source": [
    "### Montée en puissance\n",
    "\n",
    "La fonction ci-dessous, que vous avez déjà vue, élève un nombre *n* au carré. Écrivez une autre fonction qui cette-fois-ci élève un nombre *n* à une puissance *p*."
   ]
  },
  {
   "cell_type": "code",
   "execution_count": null,
   "metadata": {},
   "outputs": [],
   "source": [
    "def square(n):\n",
    "    \"\"\"Returns the square of an integer.\n",
    "    \n",
    "    n -- the integer to be squared\n",
    "    \"\"\"\n",
    "    return n ** 2"
   ]
  },
  {
   "cell_type": "markdown",
   "metadata": {},
   "source": [
    "## Impair et passe\n",
    "\n",
    "La fonction ci-dessous vérifie si un nombre entier est impair. À vous de produire une fonction qui vérifie si un nombre est pair."
   ]
  },
  {
   "cell_type": "code",
   "execution_count": null,
   "metadata": {},
   "outputs": [],
   "source": [
    "def odd(n):\n",
    "    \"\"\"Tests if an integer is even.\n",
    "    \n",
    "    n -- the integer to test\n",
    "    \"\"\"\n",
    "    return n % 2\n",
    "\n",
    "# Gets the result\n",
    "result = odd(4)\n",
    "\n",
    "# If the result is positive\n",
    "if result:\n",
    "    # that means the number is odd\n",
    "    print(f\"Le nombre saisi est impair.\")\n",
    "else:\n",
    "    # On the other hand, the number is even\n",
    "    print(\"Le nombre saisi est pair.\")"
   ]
  },
  {
   "cell_type": "markdown",
   "metadata": {},
   "source": [
    "### Qui a vu l’ours ?\n",
    "\n",
    "Le phénomène de déformation d’un témoignage par plusieurs témoins indirects est caricaturé par l’histoire de *L’homme qui a vu l’homme qui a vu l’ours*. Produisez une fonction qui, pour *n* témoins, renvoie autant de fois la chaîne *l’homme qui a vu* suivie de *l’ours*."
   ]
  }
 ],
 "metadata": {
  "kernelspec": {
   "display_name": "Python 3",
   "language": "python",
   "name": "python3"
  },
  "language_info": {
   "codemirror_mode": {
    "name": "ipython",
    "version": 3
   },
   "file_extension": ".py",
   "mimetype": "text/x-python",
   "name": "python",
   "nbconvert_exporter": "python",
   "pygments_lexer": "ipython3",
   "version": "3.8.0"
  }
 },
 "nbformat": 4,
 "nbformat_minor": 4
}
