{
 "cells": [
  {
   "cell_type": "markdown",
   "metadata": {},
   "source": [
    "# Exercices d’approche"
   ]
  },
  {
   "cell_type": "markdown",
   "metadata": {},
   "source": [
    "Ces exercices sont destinés à prendre rapidement en main, par la pratique, le langage Python. Pour la plupart, ils ne servent pas à grand chose d’autre :-)\n",
    "\n",
    "Pour tous, vous pourrez tirer profit de la fonction `input()` qui permet de récupérer une saisie utilisateur et ajouter un peu d’intéractivité à votre code :\n",
    "\n",
    "```python\n",
    "n = input(\"Entrez un nombre : \")\n",
    "```\n",
    "\n",
    "Attention, la sortie est toujours de type `str`. Il est probable de devoir la transformer en `int` :\n",
    "\n",
    "```python\n",
    "n = int(n)\n",
    "```"
   ]
  },
  {
   "cell_type": "markdown",
   "metadata": {},
   "source": [
    "## Mathématique"
   ]
  },
  {
   "cell_type": "markdown",
   "metadata": {},
   "source": [
    "### Triple"
   ]
  },
  {
   "cell_type": "markdown",
   "metadata": {},
   "source": [
    "Le code ci-dessous permet de calculer le double d’un entier *n*, grâce à une fonction `double()`. Produisez une autre fonction qui permette de calculer le triple."
   ]
  },
  {
   "cell_type": "code",
   "execution_count": null,
   "metadata": {},
   "outputs": [],
   "source": [
    "# definition\n",
    "def double(n):\n",
    "    \"\"\"Returns the double of an integer.\n",
    "    \n",
    "    n -- the integer to multiply\n",
    "    \"\"\"\n",
    "    return n * 2\n",
    "\n",
    "# call\n",
    "double(5)"
   ]
  },
  {
   "cell_type": "code",
   "execution_count": null,
   "metadata": {},
   "outputs": [],
   "source": [
    "# your code here"
   ]
  },
  {
   "cell_type": "markdown",
   "metadata": {},
   "source": [
    "### Tout en longueur"
   ]
  },
  {
   "cell_type": "markdown",
   "metadata": {},
   "source": [
    "Afin de calculer le périmètre d’un rectangle, on utilise la formule : $2(L \\times l)$. En Python, elle s’exprime très simplement :"
   ]
  },
  {
   "cell_type": "code",
   "execution_count": null,
   "metadata": {},
   "outputs": [],
   "source": [
    "def perimeter(a, b):\n",
    "    \"\"\"Returns the perimiter of a rectangle.\n",
    "    \n",
    "    a -- the length\n",
    "    b -- the width\n",
    "    \"\"\"\n",
    "    return 2 * (a + b)"
   ]
  },
  {
   "cell_type": "markdown",
   "metadata": {},
   "source": [
    "Pour un rectangle de longueur 12 cm et de largeur 8 cm, le périmètre sera de :"
   ]
  },
  {
   "cell_type": "code",
   "execution_count": null,
   "metadata": {},
   "outputs": [],
   "source": [
    "perimeter(12, 8)"
   ]
  },
  {
   "cell_type": "markdown",
   "metadata": {},
   "source": [
    "Concevez tout d’abord une fonction qui calcule cette fois-ci l’aire d’un rectangle, selon la formule $L \\times l$, puis une autre qui retourne le périmètre d’un triangle quelconque (somme des trois côtés), avant de vous aventurer dans le calcul du périmètre d’un cercle ($2 \\pi R$) :"
   ]
  },
  {
   "cell_type": "code",
   "execution_count": null,
   "metadata": {},
   "outputs": [],
   "source": [
    "# area of a rectangle"
   ]
  },
  {
   "cell_type": "code",
   "execution_count": null,
   "metadata": {},
   "outputs": [],
   "source": [
    "# perimeter of a triangle"
   ]
  },
  {
   "cell_type": "code",
   "execution_count": null,
   "metadata": {},
   "outputs": [],
   "source": [
    "# perimeter of a circle"
   ]
  },
  {
   "cell_type": "markdown",
   "metadata": {},
   "source": [
    "### Montée en puissance"
   ]
  },
  {
   "cell_type": "markdown",
   "metadata": {},
   "source": [
    "La fonction ci-dessous, que vous avez déjà vue, élève un nombre *n* au carré :"
   ]
  },
  {
   "cell_type": "code",
   "execution_count": null,
   "metadata": {},
   "outputs": [],
   "source": [
    "def square(n):\n",
    "    \"\"\"Returns the square of an integer.\n",
    "    \n",
    "    n -- the integer to be squared\n",
    "    \"\"\"\n",
    "    return n ** 2"
   ]
  },
  {
   "cell_type": "markdown",
   "metadata": {},
   "source": [
    "Écrivez une autre fonction qui cette-fois-ci élève un nombre *n* à une puissance *p* :"
   ]
  },
  {
   "cell_type": "code",
   "execution_count": null,
   "metadata": {},
   "outputs": [],
   "source": [
    "# your code here"
   ]
  },
  {
   "cell_type": "markdown",
   "metadata": {},
   "source": [
    "## Impair et passe"
   ]
  },
  {
   "cell_type": "markdown",
   "metadata": {},
   "source": [
    "La fonction ci-dessous vérifie si un nombre entier est impair :"
   ]
  },
  {
   "cell_type": "code",
   "execution_count": null,
   "metadata": {},
   "outputs": [],
   "source": [
    "def odd(n):\n",
    "    \"\"\"Is an integer odd?\n",
    "    \n",
    "    n -- the integer to test\n",
    "    \"\"\"\n",
    "    return True if n % 2 else False"
   ]
  },
  {
   "cell_type": "markdown",
   "metadata": {},
   "source": [
    "À vous de produire une fonction qui vérifie si un nombre est pair !"
   ]
  },
  {
   "cell_type": "code",
   "execution_count": null,
   "metadata": {},
   "outputs": [],
   "source": [
    "# your code here"
   ]
  },
  {
   "cell_type": "markdown",
   "metadata": {},
   "source": [
    "Dans les faits, ce genre de tâche peut être exprimée plus simplement en profitant des conventions du langage :"
   ]
  },
  {
   "cell_type": "code",
   "execution_count": null,
   "metadata": {},
   "outputs": [],
   "source": [
    "def parity(n):\n",
    "    \"\"\"Helper to determine the parity of an integer.\n",
    "    \n",
    "    n -- the integer\n",
    "    \"\"\"\n",
    "    return n % 2"
   ]
  },
  {
   "cell_type": "markdown",
   "metadata": {},
   "source": [
    "Vérifions-le avec un petit programme :"
   ]
  },
  {
   "cell_type": "code",
   "execution_count": null,
   "metadata": {},
   "outputs": [],
   "source": [
    "# a number\n",
    "n = int(input(\"Veuillez saisir un entier : \\n\"))\n",
    "\n",
    "# is n odd?\n",
    "result = parity(n)\n",
    "\n",
    "# if result != 0, result would be True, so n is odd\n",
    "if result:\n",
    "    print(\"Le nombre saisi est impair.\")\n",
    "# On the other hand, result is 0, yet 0 is assimiled to False, so n is even\n",
    "else:\n",
    "    print(\"Le nombre saisi est pair.\")"
   ]
  },
  {
   "cell_type": "markdown",
   "metadata": {},
   "source": [
    "### Qui a vu l’ours ?"
   ]
  },
  {
   "cell_type": "markdown",
   "metadata": {},
   "source": [
    "Le phénomène de déformation d’un témoignage par plusieurs témoins indirects est caricaturé par l’histoire de *L’homme qui a vu l’homme qui a vu l’ours*. Produisez une fonction qui, pour *n* témoins, renvoie autant de fois la chaîne *l’homme qui a vu* suivie de *l’ours*."
   ]
  },
  {
   "cell_type": "code",
   "execution_count": null,
   "metadata": {},
   "outputs": [],
   "source": [
    "# your code here"
   ]
  }
 ],
 "metadata": {
  "kernelspec": {
   "display_name": "Python 3 (ipykernel)",
   "language": "python",
   "name": "python3"
  },
  "language_info": {
   "codemirror_mode": {
    "name": "ipython",
    "version": 3
   },
   "file_extension": ".py",
   "mimetype": "text/x-python",
   "name": "python",
   "nbconvert_exporter": "python",
   "pygments_lexer": "ipython3",
   "version": "3.10.6"
  }
 },
 "nbformat": 4,
 "nbformat_minor": 4
}
