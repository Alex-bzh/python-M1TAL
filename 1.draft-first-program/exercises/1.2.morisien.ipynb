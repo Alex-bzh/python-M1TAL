{
 "cells": [
  {
   "cell_type": "markdown",
   "metadata": {},
   "source": [
    "# Morisien"
   ]
  },
  {
   "cell_type": "markdown",
   "metadata": {},
   "source": [
    "L’objectif consiste à transcrire phonétiquement [une liste de noms](../data/morisien-names.csv) en *morisien* (créole mauricien), et de rajouter un champ dans le fichier avec le résultat. Pour parvenir au résultat, on vous fournit [un ensemble de règles](../data/mauritian-rules.txt) à suivre.\n",
    "\n",
    "Par exemple, si l’on considère le premier nom de la liste, *absanteism*, on repère la règle suivante :\n",
    "\n",
    "```txt\n",
    "an->ã/_D|#\n",
    "```\n",
    "\n",
    "Cette règle nous indique que la suite de caractères `an` se prononce `ã` si elle est suivie d’une lettre parmi la classe `D` ou si elle termine la forme. Cette classe `D` est définie plus bas dans le fichier :\n",
    "```txt\n",
    "D=bcdfghklmprstvxzʃʒŋɲʒʁ\n",
    "```\n",
    "\n",
    "Il s’agit de la seule règle à s’appliquer, de telle manière que la transcription phonologique de *absanteism* devient *absãteism*.\n",
    "\n",
    "Comment implémenter cette règle en Python ?"
   ]
  },
  {
   "cell_type": "code",
   "execution_count": null,
   "metadata": {},
   "outputs": [],
   "source": [
    "name = 'absanteism'\n",
    "D = 'bcdfghklmprstvxzʃʒŋɲʒʁ'\n",
    "\n",
    "# What is the position of the substring 'an'?\n",
    "pos = name.find('an')\n",
    "# The substring is indeed in the name\n",
    "if pos != -1 and (\n",
    "    # If substring is either at terminal position\n",
    "    name.endswith('an') or\n",
    "    # or two characters behind a D-class character\n",
    "    name[pos + 2] in D\n",
    "):\n",
    "    # … apply the substitution\n",
    "    name = name.replace('an', 'ã')\n",
    "\n",
    "print(name)"
   ]
  },
  {
   "cell_type": "markdown",
   "metadata": {},
   "source": [
    "Un moyen d’optimiser le code serait d’encapsuler cette procédure à l’intérieur d’une fonction :"
   ]
  },
  {
   "cell_type": "code",
   "execution_count": null,
   "metadata": {},
   "outputs": [],
   "source": [
    "def rule_27(word, follow):\n",
    "    \"\"\"Finds the position of 'an' in a string,\n",
    "    and applies a substitution with 'ã'.\n",
    "    \n",
    "    word -- the string to manipulate\n",
    "    follow -- characters authorized to follow 'an'\n",
    "    \"\"\"\n",
    "    pos = word.find('an')\n",
    "    if pos != -1 and (\n",
    "        word.endswith('an') or\n",
    "        word[pos + 2] in follow\n",
    "    ):\n",
    "        word = word.replace('an', 'ã')\n",
    "\n",
    "        return word\n",
    "\n",
    "word = 'absanteism'\n",
    "D = 'bcdfghklmprstvxzʃʒŋɲʒʁ'\n",
    "\n",
    "word = rule_27(word, D)\n",
    "\n",
    "print(word)"
   ]
  },
  {
   "cell_type": "markdown",
   "metadata": {},
   "source": [
    "Cette méthode se révèle fastidieuse car elle nécessite de créer une fonction par règle. Au lieu de cela, l’idéal serait de monter en abstraction afin que la fonction s’adapte à plusieurs situations. Nous pouvons revoir la conception de notre programme ainsi :"
   ]
  },
  {
   "cell_type": "code",
   "execution_count": null,
   "metadata": {},
   "outputs": [],
   "source": [
    "def apply_rule(rule, replace, word, follow):\n",
    "    \"\"\"Transcribe characters in a word into \n",
    "    \n",
    "    rule -- characters to search for\n",
    "    replace -- phonological transcription of the characters\n",
    "    name -- the string to analyze\n",
    "    follow -- characters authorized to follow the rule\n",
    "    \"\"\"\n",
    "    pos = word.find(rule)\n",
    "    \n",
    "    if pos != -1 and (\n",
    "        word.endswith(rule) or\n",
    "        word[pos + 2] in follow\n",
    "    ):\n",
    "        word = word.replace(rule, replace)\n",
    "\n",
    "    return word\n",
    "\n",
    "word = 'absanteism'\n",
    "D = 'bcdfghklmprstvxzʃʒŋɲʒʁ'\n",
    "\n",
    "word = apply_rule('an', 'ã', word, D)\n",
    "\n",
    "print(word)"
   ]
  },
  {
   "cell_type": "markdown",
   "metadata": {},
   "source": [
    "Pour cet exercice, ouvrez déjà le fichier `morisien-names.csv` et :\n",
    "1. essayez tout d’abord d’appliquer d’autres règles similaires aux noms qu’il contient ;\n",
    "2. ensuite, pour les règles un peu plus complexes, concevez d’autres fonctions qui permettent de les résoudre ;\n",
    "3. imaginez enfin comment il serait possible d’améliorer la fonction `apply_rule()` pour qu’elle s’adapte à toutes les règles."
   ]
  }
 ],
 "metadata": {
  "kernelspec": {
   "display_name": "Python 3 (ipykernel)",
   "language": "python",
   "name": "python3"
  },
  "language_info": {
   "codemirror_mode": {
    "name": "ipython",
    "version": 3
   },
   "file_extension": ".py",
   "mimetype": "text/x-python",
   "name": "python",
   "nbconvert_exporter": "python",
   "pygments_lexer": "ipython3",
   "version": "3.10.6"
  }
 },
 "nbformat": 4,
 "nbformat_minor": 4
}
