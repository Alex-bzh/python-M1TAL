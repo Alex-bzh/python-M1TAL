{
 "cells": [
  {
   "cell_type": "markdown",
   "metadata": {},
   "source": [
    "# Un programme désordonné"
   ]
  },
  {
   "cell_type": "markdown",
   "metadata": {},
   "source": [
    "Le programme ci-dessous certes fonctionne, mais certaines instructions semblent un peu confuses :"
   ]
  },
  {
   "cell_type": "code",
   "execution_count": null,
   "metadata": {},
   "outputs": [],
   "source": [
    "mnt_passes = []\n",
    "\n",
    "with open('../data/mountain-passes.tsv') as csvfile:\n",
    "    import csv\n",
    "    reader = csv.DictReader(csvfile, delimiter='\\t')\n",
    "    for line in reader: mnt_passes.append((line['col'], line['denivelee'], line['pente']))\n",
    "\n",
    "x, y = [], []\n",
    "for mnt_pass in mnt_passes:\n",
    "    x.append(mnt_pass[0])\n",
    "    def mToKm(m): return round(m / 1000, 2)\n",
    "    def distance(denivelee, pente):\n",
    "        alpha = pente / 100\n",
    "        import math\n",
    "        arc = math.atan(alpha) ; hypo = denivelee / math.sin(arc) ; return hypo\n",
    "    y.append(mToKm(distance(int(mnt_pass[1]), float(mnt_pass[2]))))\n",
    "\n",
    "import matplotlib.pyplot\n",
    "matplotlib.pyplot.bar(x, y) ; matplotlib.pyplot.ylabel('Distance de la rando (en km)') ; matplotlib.pyplot.show()"
   ]
  },
  {
   "cell_type": "markdown",
   "metadata": {},
   "source": [
    "Pourriez-vous y remettre bon ordre dans le respect des conventions de la PEP8 et de celles abordées jusqu’ici ?"
   ]
  },
  {
   "cell_type": "code",
   "execution_count": null,
   "metadata": {},
   "outputs": [],
   "source": [
    "# your code here"
   ]
  }
 ],
 "metadata": {
  "kernelspec": {
   "display_name": "Python 3 (ipykernel)",
   "language": "python",
   "name": "python3"
  },
  "language_info": {
   "codemirror_mode": {
    "name": "ipython",
    "version": 3
   },
   "file_extension": ".py",
   "mimetype": "text/x-python",
   "name": "python",
   "nbconvert_exporter": "python",
   "pygments_lexer": "ipython3",
   "version": "3.10.6"
  }
 },
 "nbformat": 4,
 "nbformat_minor": 4
}
