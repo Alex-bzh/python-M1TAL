{
 "cells": [
  {
   "cell_type": "markdown",
   "id": "7dfd7e77-f8d0-4792-b4d9-f9fccb8b9d2e",
   "metadata": {},
   "source": [
    "# Visualisation"
   ]
  },
  {
   "cell_type": "markdown",
   "id": "bbce3117-9c6b-4f63-827a-212865c9f19b",
   "metadata": {},
   "source": [
    "Comprendre les données enregistrées dans un *dataset* ne passe pas uniquement par la description de ses variables, mais aussi par la projection de graphiques. Si un schéma vaut parfois mieux qu’un long discours, un diagramme permet de mettre rapidement en évidence une tendance, de révéler une structure ou encore de fournir une idée de l’évolution d’un trait.\n",
    "\n",
    "En *machine learning*, la librairie *Seaborn* répond à tous les besoins en analyse multivariée."
   ]
  },
  {
   "cell_type": "markdown",
   "id": "8d9d6f7e-bf04-4850-a319-51d2a46121da",
   "metadata": {},
   "source": [
    "## Aperçu de la librairie *Seaborn*"
   ]
  },
  {
   "cell_type": "markdown",
   "id": "73fcef74-c788-43ea-9da8-e4e7a1049e4f",
   "metadata": {},
   "source": [
    "*Seaborn* est une librairie de visualisation de données qui simplifie les commandes de la célèbre *Matplolib* tout assurant avec elle une compatibilité maximale afin de profiter de ses performances de personnalisation. Elle s’intègre par ailleurs parfaitement bien avec *Pandas*.\n",
    "\n",
    "Pour juger rapidement des performances des trois technologies, affichons un diagramme issu du jeu de données sur les manchots de l’Antarctique.\n",
    "\n",
    "Tout d’abord, il faut charger les différents modules :"
   ]
  },
  {
   "cell_type": "code",
   "execution_count": null,
   "id": "171313ea-a53b-43d5-9967-e6156e685a25",
   "metadata": {},
   "outputs": [],
   "source": [
    "import matplotlib.pyplot as plt\n",
    "import pandas as pd\n",
    "import seaborn as sns"
   ]
  },
  {
   "cell_type": "markdown",
   "id": "3f2529dd-5f20-496c-a30e-4e800cb51475",
   "metadata": {},
   "source": [
    "Grâce à *Pandas*, importer le jeu de données :"
   ]
  },
  {
   "cell_type": "code",
   "execution_count": null,
   "id": "8935e35a-4344-4be4-b7f0-7d41ed65f015",
   "metadata": {},
   "outputs": [],
   "source": [
    "df = pd.read_csv(\"./data/penguin-census.csv\")"
   ]
  },
  {
   "cell_type": "markdown",
   "id": "98246339-f3a6-4002-9130-9c24eb448a61",
   "metadata": {},
   "source": [
    "*Matplotlib* permet de modifier la taille par défaut du diagramme et *Seaborn* de projeter le diagramme, ici pour comprendre la relation entre la longueur du bec des manchots sur l’axe des abscisses et sa largeur sur l’axe des ordonnées :"
   ]
  },
  {
   "cell_type": "code",
   "execution_count": null,
   "id": "59a83e45-baa5-4060-b911-b27990bb163e",
   "metadata": {},
   "outputs": [],
   "source": [
    "# figure size, title and axe labels thanks to matplolib\n",
    "plt.figure(figsize=(16,4))\n",
    "plt.title(\"Relation between culmen length and depth\")\n",
    "plt.xlabel(\"Culmen length (mm)\")\n",
    "plt.ylabel(\"Culmen depth (mm)\")\n",
    "\n",
    "# draw the plot with seaborn\n",
    "sns.lineplot(data=df, x=\"bill_length_mm\", y=\"bill_depth_mm\", color=\"orange\")\n",
    "# remove the spines (top and right by default)\n",
    "sns.despine()\n",
    "\n",
    "# print\n",
    "plt.show()"
   ]
  },
  {
   "cell_type": "markdown",
   "id": "3b3c87b7-1a16-4021-94c2-76fd0af6d96f",
   "metadata": {},
   "source": [
    "Les méthodes de *Seaborn* pour tracer des diagrammes suivent le même souci de cohérence. Elles acceptent un paramètre essentiel `data` dans lequel il faut passer les données puis, éventuellement, des paramètres `x` et `y` pour pointer quelles variables placer sur quel axe. Un quatrième paramètre `hue` détermine quelle colonne utiliser pour mettre en évidence les points de la représentation.\n",
    "\n",
    "Il est également possible de sélectionner une couleur précise avec le parmètre `color` ou encore indiquer à *Seaborn* une palette sur laquelle se fonder avec `palette`."
   ]
  },
  {
   "cell_type": "markdown",
   "id": "f79e9941-9902-4ac9-8b45-7e5e54e97757",
   "metadata": {},
   "source": [
    "## Choisir une représentation graphique"
   ]
  },
  {
   "cell_type": "markdown",
   "id": "46d75c56-54cc-4f3c-9579-aca2d7d91eb8",
   "metadata": {},
   "source": [
    "Tous les diagrammes ne conviennent pas à tous les types de variables. Certains sont à réserver aux qualitatives, d’autres aux quantitatives continues, certains répondent mieux à une analyse univariée… bref, nul n’est à l’abri de choisir une mauvaise représentation qui aura pour incidence de mener à des erreurs d’interprétation."
   ]
  },
  {
   "cell_type": "markdown",
   "id": "217dde70-c95b-4cac-b965-84000be4c8fa",
   "metadata": {
    "tags": []
   },
   "source": [
    "### Les diagrammes en barres"
   ]
  },
  {
   "cell_type": "markdown",
   "id": "c42e4953-0d7f-4a83-ba8a-e999187761a6",
   "metadata": {},
   "source": [
    "Sans doute les plus utilisés pour représenter la répartition des effectifs d’une variable. Ils s’emploient sur des variables qualitatives ou sur des quantitatives discrètes."
   ]
  },
  {
   "cell_type": "markdown",
   "id": "f0ced657-8e00-4f48-9d03-28c4fce4af98",
   "metadata": {},
   "source": [
    "La méthode `countplot()` permet d’afficher le dénombrement des effectifs d’une variable :"
   ]
  },
  {
   "cell_type": "code",
   "execution_count": null,
   "id": "a0fde59b-dfc2-4965-bb9b-c549f5ad4a90",
   "metadata": {},
   "outputs": [],
   "source": [
    "_ = sns.countplot(data=df, x=\"sex\", palette=\"Oranges\")"
   ]
  },
  {
   "cell_type": "markdown",
   "id": "3a850f6a-0188-4faf-8624-ef5916997ee3",
   "metadata": {},
   "source": [
    "Pour afficher la répartition des manchots mâles et femelles relativement à une autre variable, par exemple la longueur de leurs ailes, la méthode `barplot()` est toute indiquée :"
   ]
  },
  {
   "cell_type": "code",
   "execution_count": null,
   "id": "9233017b-0075-46f6-8951-a26508f27e7b",
   "metadata": {},
   "outputs": [],
   "source": [
    "_ = sns.barplot(data=df, x=\"sex\", y=\"flipper_length_mm\", palette=\"autumn\")"
   ]
  },
  {
   "cell_type": "markdown",
   "id": "c06a564a-5cf3-48ca-84f8-1f2387ab720d",
   "metadata": {},
   "source": [
    "Avec le paramètre facultatif `hue`, il est possible d’affiner l’analyse en ajoutant une troisième variable, qualitative :"
   ]
  },
  {
   "cell_type": "code",
   "execution_count": null,
   "id": "db30ec61-4b18-4aab-b1a7-0a0e834788c7",
   "metadata": {},
   "outputs": [],
   "source": [
    "_ = sns.barplot(data=df, x=\"sex\", y=\"flipper_length_mm\", hue=\"species\", palette=\"Blues\")"
   ]
  },
  {
   "cell_type": "markdown",
   "id": "2066bbf2-703e-44a7-b2a1-ecea729cbbf0",
   "metadata": {
    "tags": []
   },
   "source": [
    "### Les histogrammes"
   ]
  },
  {
   "cell_type": "markdown",
   "id": "58dafdf1-8547-4633-bcf4-7549a8cc91b4",
   "metadata": {},
   "source": [
    "L’histogramme se distingue du diagramme en barres en ce que les barres sont contiguës. Il est donc à réserver aux variables aléatoires quantitatives continues et est généré par la méthode `histplot()` :"
   ]
  },
  {
   "cell_type": "code",
   "execution_count": null,
   "id": "2c70fb47-683b-4aff-be79-385c0b32b258",
   "metadata": {},
   "outputs": [],
   "source": [
    "_ = sns.histplot(data=df, x=\"bill_length_mm\", color=\"grey\")"
   ]
  },
  {
   "cell_type": "markdown",
   "id": "8e8f9b39-25ec-43bf-b32f-c731eefe5c2c",
   "metadata": {},
   "source": [
    "Une estimation de la densité de probabilité de la variable peut être obtenue avec le paramètre `kde` à `True` :"
   ]
  },
  {
   "cell_type": "code",
   "execution_count": null,
   "id": "1f5e5b82-f1b8-4e4e-8a7a-d4527c87f3ed",
   "metadata": {},
   "outputs": [],
   "source": [
    "_ = sns.histplot(data=df, x=\"bill_length_mm\", stat='density', color=\"grey\", kde=True)"
   ]
  },
  {
   "cell_type": "markdown",
   "id": "f9957d06-8b1b-4594-b578-ffc68eb4c927",
   "metadata": {
    "tags": []
   },
   "source": [
    "### Les diagrammes linéaires"
   ]
  },
  {
   "cell_type": "markdown",
   "id": "6166487b-8e10-4f62-92f8-7da88ffb6c32",
   "metadata": {},
   "source": [
    "Ce type de graphique permet de représenter des points positionnés sur un plan à deux axes. Ils sont employés avec toute variable quantitative. Utiliser la méthode `lineplot()` pour les afficher :"
   ]
  },
  {
   "cell_type": "code",
   "execution_count": null,
   "id": "8ca7e864-a092-4ee1-862f-8639c482916c",
   "metadata": {},
   "outputs": [],
   "source": [
    "_ = sns.lineplot(data=df, x=\"bill_length_mm\", y=\"flipper_length_mm\", hue=\"species\")"
   ]
  },
  {
   "cell_type": "markdown",
   "id": "20903209-f75c-43e2-b804-dd82edd72cae",
   "metadata": {},
   "source": [
    "Un paramètre optionnel `ci` permet de masquer l’intervalle de confiance à 95 % :"
   ]
  },
  {
   "cell_type": "code",
   "execution_count": null,
   "id": "cbb19cbb-9c67-4fb2-94e8-67e573bd0f95",
   "metadata": {},
   "outputs": [],
   "source": [
    "_ = sns.lineplot(data=df, x=\"bill_length_mm\", y=\"flipper_length_mm\", color=\"orange\", ci=None)"
   ]
  },
  {
   "cell_type": "code",
   "execution_count": null,
   "id": "418c783a-943e-4328-8511-d8971a31ee33",
   "metadata": {},
   "outputs": [],
   "source": [
    "_ = sns.lineplot(data=df, x=\"bill_length_mm\", y=\"flipper_length_mm\", color=\"orange\", ci=None)"
   ]
  },
  {
   "cell_type": "markdown",
   "id": "a05e4406-a590-434d-8873-95c1eabcc53d",
   "metadata": {
    "tags": []
   },
   "source": [
    "### Les diagrammes de dispersion"
   ]
  },
  {
   "cell_type": "markdown",
   "id": "fe2350a6-a556-4e1e-afac-8f3b84c05cd3",
   "metadata": {},
   "source": [
    "Autrement appelés nuages de points, ils permettent d’afficher individuellement chaque observation, et s’obtiennent avec la méthode `scatterplot()` :"
   ]
  },
  {
   "cell_type": "code",
   "execution_count": null,
   "id": "700abc8c-e849-4961-98b5-2736382037a5",
   "metadata": {},
   "outputs": [],
   "source": [
    "_ = sns.scatterplot(data=df, x=\"bill_length_mm\", y=\"bill_depth_mm\", hue=\"sex\")"
   ]
  },
  {
   "cell_type": "markdown",
   "id": "2d76c5e1-7ffc-4c89-8d30-2487d41d2ed2",
   "metadata": {
    "tags": []
   },
   "source": [
    "### Les boîtes à moustache"
   ]
  },
  {
   "cell_type": "markdown",
   "id": "137463d9-978e-40de-8773-c1275659acc7",
   "metadata": {},
   "source": [
    "La boîte à moustaches, ou boîte de Tukey du nom de son inventeur John Tukey, est une manière synthétique de représenter la distribution des observations d’une variable quantitative. En effet, elle présente pour une variable donnée la répartition de ses observations entre les trois quartiles. Le corps de la boîte sera alors constitué de 50 % des données, séparées équitablement par la médiane, tandis que les moustaches inférieure et supérieure représenteront chacune à peu près 25 %.\n",
    "\n",
    "Ces deux dernières mesures sont approximatives, car l’une des forces de la boîte à moustaches est de représenter, au-delà des bornes inférieure et supérieure, les *outliers*, ou données aberrantes.\n",
    "\n",
    "Et les boîtes à moustaches montrent encore plus leur utilité quand il s’agit de comparer la distribution d’une variable dans des sous-groupes, comme ci-dessous pour la distribution de la longueur des ailes entre les manchots mâles et femelles, pour chaque espèce répertoriée."
   ]
  },
  {
   "cell_type": "code",
   "execution_count": null,
   "id": "9f845e46-75ec-4c05-bb0e-16bcaa48d7a1",
   "metadata": {},
   "outputs": [],
   "source": [
    "_ = sns.boxplot(data=df, x=\"species\", y=\"flipper_length_mm\", hue=\"sex\", palette=\"coolwarm\")"
   ]
  },
  {
   "cell_type": "markdown",
   "id": "99393637-1f40-464e-ab98-32b1bda6dd21",
   "metadata": {},
   "source": [
    "## Un cas concret"
   ]
  },
  {
   "cell_type": "markdown",
   "id": "80c60a17-00a6-4b27-84ed-baca5f0a84ce",
   "metadata": {},
   "source": [
    "Considérons un nouveau jeu de données, issu package R carData (*Companion to Applied Regression Data Sets*), qui recense les personnes arrêtées à Toronto en possession d’une petite quantité de marijuana :"
   ]
  },
  {
   "cell_type": "code",
   "execution_count": null,
   "id": "afcc992a-a7a8-4f1f-b9d7-e528c92f7ea8",
   "metadata": {},
   "outputs": [],
   "source": [
    "df = pd.read_csv(\"./data/arrests.csv\", index_col=[0])"
   ]
  },
  {
   "cell_type": "markdown",
   "id": "abc5ed04-8852-45fc-b52c-9cf671f3b4ba",
   "metadata": {},
   "source": [
    "L’objectif serait de prédire si une personne arrêtée est plus susceptible d’être relâchée qu’amenée directement au commissariat. La cible est alors la variable `target` et les variables explicatives que nous sélectionnons sont le sexe (`sex`), la qualification de citoyen de Toronto (`citizen`) et le nombre de citations dans les bases de données de la police (`checks`)."
   ]
  },
  {
   "cell_type": "markdown",
   "id": "fa0b4508-1f54-4a0d-a854-130006e0d21e",
   "metadata": {},
   "source": [
    "Le premier réflexe est de séparer les données en deux :"
   ]
  },
  {
   "cell_type": "code",
   "execution_count": null,
   "id": "a3b764d7-632f-4b4c-99ae-ac6c011bcc0c",
   "metadata": {},
   "outputs": [],
   "source": [
    "target = \"released\"\n",
    "features = [\"sex\", \"citizen\", \"checks\"]\n",
    "\n",
    "data = df[features + [target]]\n",
    "y = data[target]\n",
    "X = data[features]"
   ]
  },
  {
   "cell_type": "markdown",
   "id": "83c59721-18fa-4c03-bff7-9d8c3a33b955",
   "metadata": {},
   "source": [
    "Et le second d’afficher le type des variables du jeu de données afin de se rendre compte qu’il existe une seule variable numérique :"
   ]
  },
  {
   "cell_type": "code",
   "execution_count": null,
   "id": "a51a976c-e210-48d5-9173-ad53aaf0775f",
   "metadata": {},
   "outputs": [],
   "source": [
    "data.dtypes"
   ]
  },
  {
   "cell_type": "markdown",
   "id": "ecc94461-8fd9-4219-bc47-f54ab1af7ea8",
   "metadata": {},
   "source": [
    "Regardons la répartition des effectifs de la variable cible :"
   ]
  },
  {
   "cell_type": "code",
   "execution_count": null,
   "id": "4ad4ae97-ee9f-4e2d-a076-7ed5d06ee3f4",
   "metadata": {},
   "outputs": [],
   "source": [
    "_ = sns.countplot(data=y, x=y, palette=\"coolwarm\")"
   ]
  },
  {
   "cell_type": "markdown",
   "id": "42db3aea-5322-439d-9be3-9ef263841c0b",
   "metadata": {},
   "source": [
    "Comme nous disponse de trois variables et qu’une seule d’entre elle est de type numérique, une boîte à moustaches permet de visualiser l’ensemble des variables explicatives :"
   ]
  },
  {
   "cell_type": "code",
   "execution_count": null,
   "id": "8c07a21a-df8e-4e87-a446-53bd101a03aa",
   "metadata": {},
   "outputs": [],
   "source": [
    "_ = sns.boxplot(data=X, x=\"citizen\", y=\"checks\", hue=\"sex\", palette=\"coolwarm\")"
   ]
  },
  {
   "cell_type": "markdown",
   "id": "f6ae095d-6d2a-4938-ba80-ab8a798f0593",
   "metadata": {},
   "source": [
    "Plusieurs conclusions, toutes choses étant égales par ailleurs :\n",
    "- les Torontois sont moins cités dans les bases de données (médiane à 1) ;\n",
    "- les femmes sont moins citées que les hommes ;\n",
    "- parmi les femmes ne résidant pas à Toronto, on trouve quelques *outliers* avec trois ou quatre citations."
   ]
  },
  {
   "cell_type": "markdown",
   "id": "2553bf09-b75a-498e-9f23-2e4eadc63b03",
   "metadata": {},
   "source": [
    "## D’autres représentations"
   ]
  },
  {
   "cell_type": "markdown",
   "id": "5b822887-178b-4b45-80a8-4dd4e6dd5155",
   "metadata": {},
   "source": [
    "Parmi les autres méthodes utiles, retenons `pairplot()` pour afficher un ensemble de représentations des variables numériques d’un *data frame* :"
   ]
  },
  {
   "cell_type": "code",
   "execution_count": null,
   "id": "2e0c8099-d83d-4f57-9993-74afc415d748",
   "metadata": {},
   "outputs": [],
   "source": [
    "df = pd.read_csv(\"./data/penguin-census.csv\")\n",
    "target = \"species\"\n",
    "features = [\"bill_length_mm\", \"bill_depth_mm\", \"flipper_length_mm\"]\n",
    "data = df[features + [target]]\n",
    "\n",
    "_ = sns.pairplot(data=data, hue=\"species\")"
   ]
  },
  {
   "cell_type": "markdown",
   "id": "2eb636ca-c519-4d50-91f4-3de47cbcdb8f",
   "metadata": {},
   "source": [
    "Et `regplot()` pour tracer une droite de régression linéaire avec intervalle de confiance à 95 % dans un nuage de points :"
   ]
  },
  {
   "cell_type": "code",
   "execution_count": null,
   "id": "b5ef7af6-b188-4103-aebf-46c300d8fb49",
   "metadata": {},
   "outputs": [],
   "source": [
    "_ = sns.regplot(data=data, x=\"bill_length_mm\", y=\"bill_depth_mm\", color=\"green\")"
   ]
  }
 ],
 "metadata": {
  "kernelspec": {
   "display_name": "Python 3 (ipykernel)",
   "language": "python",
   "name": "python3"
  },
  "language_info": {
   "codemirror_mode": {
    "name": "ipython",
    "version": 3
   },
   "file_extension": ".py",
   "mimetype": "text/x-python",
   "name": "python",
   "nbconvert_exporter": "python",
   "pygments_lexer": "ipython3",
   "version": "3.10.5"
  }
 },
 "nbformat": 4,
 "nbformat_minor": 5
}
