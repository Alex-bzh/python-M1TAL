{
 "cells": [
  {
   "cell_type": "markdown",
   "id": "7dfd7e77-f8d0-4792-b4d9-f9fccb8b9d2e",
   "metadata": {},
   "source": [
    "# Visualisation"
   ]
  },
  {
   "cell_type": "markdown",
   "id": "bbce3117-9c6b-4f63-827a-212865c9f19b",
   "metadata": {},
   "source": [
    "Comprendre les données enregistrées dans un *dataset* ne passe pas uniquement par la description de ses variables, mais aussi par la projection de graphiques. Si un schéma vaut parfois mieux qu’un long discours, un diagramme permet de mettre rapidement en évidence une tendance, de révéler une structure ou encore de fournir une idée de l’évolution d’un trait.\n",
    "\n",
    "La librairie *Seaborn* répond à tous les besoins en analyse multivariée."
   ]
  },
  {
   "cell_type": "markdown",
   "id": "8d9d6f7e-bf04-4850-a319-51d2a46121da",
   "metadata": {},
   "source": [
    "## Aperçu de la librairie *Seaborn*"
   ]
  },
  {
   "cell_type": "markdown",
   "id": "73fcef74-c788-43ea-9da8-e4e7a1049e4f",
   "metadata": {},
   "source": [
    "*Seaborn* est une librairie de visualisation de données qui simplifie les commandes de la célèbre *Matplolib* tout assurant avec elle une compatibilité maximale afin de profiter de ses performances de personnalisation. Elle s’intègre par ailleurs parfaitement bien avec *Pandas*.\n",
    "\n",
    "Pour juger rapidement des performances des trois technologies, affichons un diagramme issu d’un jeu de données sur les manchots de l’Antarctique.\n",
    "\n",
    "Tout d’abord, il faut charger les différents modules :"
   ]
  },
  {
   "cell_type": "code",
   "execution_count": null,
   "id": "171313ea-a53b-43d5-9967-e6156e685a25",
   "metadata": {},
   "outputs": [],
   "source": [
    "import matplotlib.pyplot as plt\n",
    "import pandas as pd\n",
    "import seaborn as sns"
   ]
  },
  {
   "cell_type": "markdown",
   "id": "3f2529dd-5f20-496c-a30e-4e800cb51475",
   "metadata": {},
   "source": [
    "Grâce à *Pandas*, importer le jeu de données :"
   ]
  },
  {
   "cell_type": "code",
   "execution_count": null,
   "id": "8935e35a-4344-4be4-b7f0-7d41ed65f015",
   "metadata": {},
   "outputs": [],
   "source": [
    "df = pd.read_csv(\"./files/penguin-census.csv\")"
   ]
  },
  {
   "cell_type": "markdown",
   "id": "98246339-f3a6-4002-9130-9c24eb448a61",
   "metadata": {},
   "source": [
    "*Matplotlib* permet de modifier la taille par défaut du diagramme et *Seaborn* de projeter le diagramme. Ici, pour comprendre la relation entre la longueur du bec des manchots sur l’axe des abscisses et son épaisseur sur l’axe des ordonnées :"
   ]
  },
  {
   "cell_type": "code",
   "execution_count": null,
   "id": "59a83e45-baa5-4060-b911-b27990bb163e",
   "metadata": {},
   "outputs": [],
   "source": [
    "# figure size, title and axe labels thanks to matplolib\n",
    "plt.figure(figsize=(10,5))\n",
    "plt.title(\"Relation between culmen length and depth\")\n",
    "plt.xlabel(\"Culmen length (mm)\")\n",
    "plt.ylabel(\"Culmen depth (mm)\")\n",
    "\n",
    "# draw the plot with seaborn\n",
    "sns.scatterplot(data=df, x=\"bill_length_mm\", y=\"bill_depth_mm\",\n",
    "                palette=\"deep\", hue=\"species\", style=\"sex\")\n",
    "\n",
    "# remove the spines (top and right by default)\n",
    "sns.despine()\n",
    "\n",
    "# print\n",
    "plt.show()"
   ]
  },
  {
   "cell_type": "markdown",
   "id": "3b3c87b7-1a16-4021-94c2-76fd0af6d96f",
   "metadata": {},
   "source": [
    "Les méthodes de *Seaborn* pour tracer des diagrammes suivent le même souci de cohérence. Elles acceptent un paramètre essentiel `data` dans lequel il faut passer les données puis, éventuellement, des paramètres `x` et `y` pour pointer quelles variables placer sur quel axe. Un quatrième paramètre `hue` détermine quelle colonne utiliser pour mettre en évidence les points de la représentation.\n",
    "\n",
    "Il est également possible de sélectionner une couleur précise avec le parmètre `color` ou encore indiquer à *Seaborn* une palette sur laquelle se fonder avec `palette`.\n",
    "\n",
    "Syntaxe générique d’une méthode pour afficher un diagramme :\n",
    "\n",
    "```python\n",
    "_ = sns.method(data=data_frame, x=\"column_x-axe\", y=\"column_y-axe\",\n",
    "               hue=\"column_to_distinguish_data\")\n",
    "```\n",
    "\n",
    "**Rappel :** la variable `_` est dite jetable (*throw away variable*)."
   ]
  },
  {
   "cell_type": "markdown",
   "id": "52eddbc6-ef96-41d0-9847-60a472237ef7",
   "metadata": {},
   "source": [
    "## Définir le contexte esthétique"
   ]
  },
  {
   "cell_type": "markdown",
   "id": "33732f3c-3ef5-4dea-8f8d-10330797f71c",
   "metadata": {},
   "source": [
    "L’espace de nommage `sns` contient des méthodes pour fixer certains paramètres réglant l’esthétique générale des graphiques :\n",
    "- `.set_style()`, pour définir le thème (sombre, blanc, avec ou sans grille…) ;\n",
    "- `.set_context()`, pour définir le contexte d’affichage parmi `paper`, `notebook`, `poster` ou `talk` ;\n",
    "- `.set_palette()`, pour définir la palette de couleurs par défaut.\n",
    "\n",
    "La librairie *Seaborn* est non seulement livrée avec des palettes natives (`deep`, `muted`, `bright`, `pastel`, `dark`, `colorblind`) mais elle est également compatible avec celles de *Color Brewer*. Le graphique ci-dessous liste les palettes de *Color Brewer*, séparées en trois groupes :\n",
    "- Les palettes pour les variables séquentielles (`OrRd`, `Oranges`, `Purples`…) ;\n",
    "- les palettes pour les variables catégorielles (`Accent`, `Paired`…) ;\n",
    "- les palettes divergentes (`RdBu`, `Spectral`…).\n",
    "\n",
    "![*Color Brewer* keywords](./images/color-brewer.png)\n",
    "\n",
    "Et si les configurations prédéfinies ne suffisent pas, la méthode `.color_palette()` permet de définir une palette personnalisée en fournissant une liste de codes de couleurs."
   ]
  },
  {
   "cell_type": "code",
   "execution_count": null,
   "id": "d4193b76-962f-4da7-b341-a5db8818315d",
   "metadata": {},
   "outputs": [],
   "source": [
    "sns.set_style('darkgrid')\n",
    "sns.set_context('notebook')\n",
    "sns.set_palette('Paired')\n",
    "\n",
    "_ = sns.scatterplot(data=df, x=\"bill_length_mm\", y=\"bill_depth_mm\", hue=\"species\")"
   ]
  },
  {
   "cell_type": "markdown",
   "id": "f79e9941-9902-4ac9-8b45-7e5e54e97757",
   "metadata": {
    "tags": []
   },
   "source": [
    "## Choisir une représentation graphique"
   ]
  },
  {
   "cell_type": "markdown",
   "id": "46d75c56-54cc-4f3c-9579-aca2d7d91eb8",
   "metadata": {},
   "source": [
    "Tous les diagrammes ne conviennent pas à tous les types de variables. Certains sont à réserver aux qualitatives, d’autres aux quantitatives continues, certains répondent mieux à une analyse univariée… bref, nul n’est à l’abri de choisir une mauvaise représentation qui aura pour incidence de mener à des erreurs d’interprétation.\n",
    "\n",
    "À noter que toutes les méthodes pour afficher des graphiques disposent de paramètres pour modifier la couleur (`color`) ou la palette (`palette`) par défaut."
   ]
  },
  {
   "cell_type": "markdown",
   "id": "217dde70-c95b-4cac-b965-84000be4c8fa",
   "metadata": {
    "tags": []
   },
   "source": [
    "### Les diagrammes en barres"
   ]
  },
  {
   "cell_type": "markdown",
   "id": "c42e4953-0d7f-4a83-ba8a-e999187761a6",
   "metadata": {},
   "source": [
    "Sans doute les plus utilisés pour représenter la répartition des effectifs d’une variable. Ils s’emploient sur des variables qualitatives ou sur des quantitatives discrètes.\n",
    "\n",
    "La méthode `.countplot()` permet d’afficher le dénombrement des effectifs d’une variable :"
   ]
  },
  {
   "cell_type": "code",
   "execution_count": null,
   "id": "a0fde59b-dfc2-4965-bb9b-c549f5ad4a90",
   "metadata": {},
   "outputs": [],
   "source": [
    "_ = sns.countplot(data=df, x=\"sex\", palette=\"Oranges\")"
   ]
  },
  {
   "cell_type": "markdown",
   "id": "3a850f6a-0188-4faf-8624-ef5916997ee3",
   "metadata": {},
   "source": [
    "Pour afficher la répartition des manchots mâles et femelles relativement à une autre variable dont les valeurs sont agrégées, par exemple leur masse corporelle, avec en prime un intervalle de confiance, la méthode `.barplot()` est toute indiquée :"
   ]
  },
  {
   "cell_type": "code",
   "execution_count": null,
   "id": "9233017b-0075-46f6-8951-a26508f27e7b",
   "metadata": {},
   "outputs": [],
   "source": [
    "_ = sns.barplot(data=df, x=\"sex\", y=\"body_mass_g\", palette=\"autumn\")"
   ]
  },
  {
   "cell_type": "markdown",
   "id": "c06a564a-5cf3-48ca-84f8-1f2387ab720d",
   "metadata": {},
   "source": [
    "Avec le paramètre facultatif `hue`, il est possible d’affiner l’analyse en ajoutant une troisième variable, qualitative :"
   ]
  },
  {
   "cell_type": "code",
   "execution_count": null,
   "id": "db30ec61-4b18-4aab-b1a7-0a0e834788c7",
   "metadata": {},
   "outputs": [],
   "source": [
    "_ = sns.barplot(data=df, x=\"sex\", y=\"flipper_length_mm\", hue=\"species\", palette=\"Blues\")"
   ]
  },
  {
   "cell_type": "markdown",
   "id": "2066bbf2-703e-44a7-b2a1-ecea729cbbf0",
   "metadata": {
    "tags": []
   },
   "source": [
    "### Les histogrammes"
   ]
  },
  {
   "cell_type": "markdown",
   "id": "58dafdf1-8547-4633-bcf4-7549a8cc91b4",
   "metadata": {},
   "source": [
    "L’histogramme se distingue du diagramme en barres en ce que les barres sont contiguës. Il est donc à réserver aux variables aléatoires quantitatives continues et est généré par la méthode `.histplot()` :"
   ]
  },
  {
   "cell_type": "code",
   "execution_count": null,
   "id": "2c70fb47-683b-4aff-be79-385c0b32b258",
   "metadata": {},
   "outputs": [],
   "source": [
    "_ = sns.histplot(data=df, x=\"bill_length_mm\", color=\"grey\")"
   ]
  },
  {
   "cell_type": "markdown",
   "id": "8e8f9b39-25ec-43bf-b32f-c731eefe5c2c",
   "metadata": {},
   "source": [
    "Une estimation de la densité de probabilité de la variable peut être obtenue avec le paramètre `kde` à `True` :"
   ]
  },
  {
   "cell_type": "code",
   "execution_count": null,
   "id": "1f5e5b82-f1b8-4e4e-8a7a-d4527c87f3ed",
   "metadata": {},
   "outputs": [],
   "source": [
    "_ = sns.histplot(data=df, x=\"bill_length_mm\", stat='density', color=\"grey\", kde=True)"
   ]
  },
  {
   "cell_type": "markdown",
   "id": "f9957d06-8b1b-4594-b578-ffc68eb4c927",
   "metadata": {
    "tags": []
   },
   "source": [
    "### Les diagrammes linéaires"
   ]
  },
  {
   "cell_type": "markdown",
   "id": "6166487b-8e10-4f62-92f8-7da88ffb6c32",
   "metadata": {},
   "source": [
    "Ce type de graphique permet de représenter des points positionnés sur un plan à deux axes. Ils sont employés avec toute variable quantitative. Utiliser la méthode `.lineplot()` pour les afficher :"
   ]
  },
  {
   "cell_type": "code",
   "execution_count": null,
   "id": "8ca7e864-a092-4ee1-862f-8639c482916c",
   "metadata": {},
   "outputs": [],
   "source": [
    "_ = sns.lineplot(data=df, x=\"bill_length_mm\", y=\"flipper_length_mm\")"
   ]
  },
  {
   "cell_type": "markdown",
   "id": "20903209-f75c-43e2-b804-dd82edd72cae",
   "metadata": {},
   "source": [
    "Un paramètre optionnel `ci` permet de masquer l’intervalle de confiance à 95 % :"
   ]
  },
  {
   "cell_type": "code",
   "execution_count": null,
   "id": "418c783a-943e-4328-8511-d8971a31ee33",
   "metadata": {},
   "outputs": [],
   "source": [
    "_ = sns.lineplot(data=df, x=\"bill_length_mm\", y=\"flipper_length_mm\", color=\"orange\", ci=None)"
   ]
  },
  {
   "cell_type": "markdown",
   "id": "6d3fe484-a7be-44f6-accc-43d4105ee114",
   "metadata": {},
   "source": [
    "### Les droites de régression"
   ]
  },
  {
   "cell_type": "markdown",
   "id": "24ab51c6-62a7-4439-b979-b0e21435ecab",
   "metadata": {},
   "source": [
    "La méthode `.regplot()` permet de tracer une droite de régression linéaire avec intervalle de confiance à 95 % dans un nuage de points :"
   ]
  },
  {
   "cell_type": "code",
   "execution_count": null,
   "id": "c750052b-9fa1-4868-8aae-e2ba4f106de9",
   "metadata": {},
   "outputs": [],
   "source": [
    "_ = sns.regplot(data=df, x=\"bill_length_mm\", y=\"bill_depth_mm\", color=\"green\")"
   ]
  },
  {
   "cell_type": "markdown",
   "id": "29b74f37-c13d-467c-89fb-a8035e87ea4d",
   "metadata": {},
   "source": [
    "La méthode `.lmplot()`, quant à elle, trace une droite de régression pour chaque modalité :"
   ]
  },
  {
   "cell_type": "code",
   "execution_count": null,
   "id": "7c5da39c-e239-44fc-b457-7eef066610ec",
   "metadata": {},
   "outputs": [],
   "source": [
    "_ = sns.lmplot(data=df, x=\"bill_length_mm\", y=\"bill_depth_mm\", hue=\"sex\")"
   ]
  },
  {
   "cell_type": "markdown",
   "id": "cbed3c73-f803-4743-9227-a489a10ba83f",
   "metadata": {},
   "source": [
    "Pour dissocier chaque modalité dans des graphiques différents, il suffit de spécifier la variable dans un paramètre `col` pour un affichage en colonnes ou `row` pour un affichage en ligne :"
   ]
  },
  {
   "cell_type": "code",
   "execution_count": null,
   "id": "26393e4e-56a1-4a41-a9dd-a4bed4d4dcc2",
   "metadata": {},
   "outputs": [],
   "source": [
    "_ = sns.lmplot(data=df, x=\"bill_length_mm\", y=\"bill_depth_mm\", col=\"species\")"
   ]
  },
  {
   "cell_type": "markdown",
   "id": "a05e4406-a590-434d-8873-95c1eabcc53d",
   "metadata": {
    "tags": []
   },
   "source": [
    "### Les diagrammes de dispersion"
   ]
  },
  {
   "cell_type": "markdown",
   "id": "fe2350a6-a556-4e1e-afac-8f3b84c05cd3",
   "metadata": {},
   "source": [
    "Autrement appelés nuages de points, ils permettent d’afficher individuellement chaque observation, et s’obtiennent avec la méthode `.scatterplot()` :"
   ]
  },
  {
   "cell_type": "code",
   "execution_count": null,
   "id": "700abc8c-e849-4961-98b5-2736382037a5",
   "metadata": {},
   "outputs": [],
   "source": [
    "_ = sns.scatterplot(data=df, x=\"bill_length_mm\", y=\"bill_depth_mm\", hue=\"sex\")"
   ]
  },
  {
   "cell_type": "markdown",
   "id": "2d76c5e1-7ffc-4c89-8d30-2487d41d2ed2",
   "metadata": {
    "tags": []
   },
   "source": [
    "### Les boîtes à moustache"
   ]
  },
  {
   "cell_type": "markdown",
   "id": "137463d9-978e-40de-8773-c1275659acc7",
   "metadata": {},
   "source": [
    "La boîte à moustaches, ou boîte de Tukey du nom de son inventeur John Tukey, est une manière synthétique de représenter la distribution des observations d’une variable quantitative. En effet, elle présente pour une variable donnée la répartition de ses observations entre les trois quartiles. Le corps de la boîte sera alors constitué de 50 % des données, séparées équitablement par la médiane, tandis que les moustaches inférieure et supérieure représenteront chacune à peu près 25 %.\n",
    "\n",
    "Ces deux dernières mesures sont approximatives, car l’une des forces de la boîte à moustaches est de représenter, au-delà des bornes inférieure et supérieure, les *outliers*, ou données aberrantes.\n",
    "\n",
    "Et les boîtes à moustaches montrent encore plus leur utilité quand il s’agit de comparer la distribution d’une variable dans des sous-groupes, comme ci-dessous pour la distribution de la longueur des nageoires entre les manchots mâles et femelles, pour chaque espèce répertoriée."
   ]
  },
  {
   "cell_type": "code",
   "execution_count": null,
   "id": "9f845e46-75ec-4c05-bb0e-16bcaa48d7a1",
   "metadata": {},
   "outputs": [],
   "source": [
    "_ = sns.boxplot(data=df, x=\"species\", y=\"flipper_length_mm\", hue=\"sex\")"
   ]
  },
  {
   "cell_type": "markdown",
   "id": "545a0449-81ce-4d3c-ae43-3e77c77f8f65",
   "metadata": {},
   "source": [
    "### Les cartes thermiques"
   ]
  },
  {
   "cell_type": "markdown",
   "id": "e0e5fc8f-ab5d-4938-be8b-aac6ab8b5338",
   "metadata": {},
   "source": [
    "Autrement nommées *heatmap*, les cartes thermiques sont souvent utilisées comme matrices de confusion ou pour représenter les corrélations linéaires entre variables quantitatives selon un coefficient de corrélation (le *r* de Pearson). Le paramètre `annot` fixé à `True` révèle ce score, situé entre -1 pour une corrélation négative forte et 1 pour une corrélation positive forte :"
   ]
  },
  {
   "cell_type": "code",
   "execution_count": null,
   "id": "8dfe959d-8045-4c6f-b90f-a13f12fa690a",
   "metadata": {},
   "outputs": [],
   "source": [
    "correlation_matrix = df.corr()\n",
    "_ = sns.heatmap(correlation_matrix, annot=True)"
   ]
  },
  {
   "cell_type": "markdown",
   "id": "99393637-1f40-464e-ab98-32b1bda6dd21",
   "metadata": {
    "tags": []
   },
   "source": [
    "## Un cas concret"
   ]
  },
  {
   "cell_type": "markdown",
   "id": "80c60a17-00a6-4b27-84ed-baca5f0a84ce",
   "metadata": {},
   "source": [
    "Considérons un nouveau jeu de données, issu package R carData (*Companion to Applied Regression Data Sets*), qui recense les personnes arrêtées à Toronto en possession d’une petite quantité de marijuana :"
   ]
  },
  {
   "cell_type": "code",
   "execution_count": null,
   "id": "afcc992a-a7a8-4f1f-b9d7-e528c92f7ea8",
   "metadata": {},
   "outputs": [],
   "source": [
    "arrests = pd.read_csv(\"./files/arrests.csv\", index_col=[0])"
   ]
  },
  {
   "cell_type": "markdown",
   "id": "abc5ed04-8852-45fc-b52c-9cf671f3b4ba",
   "metadata": {},
   "source": [
    "L’objectif serait de prédire si une personne arrêtée est plus susceptible d’être relâchée qu’amenée directement au commissariat. La cible est alors la variable `target` et les variables explicatives que nous sélectionnons sont le sexe (`sex`), la qualification de citoyen de Toronto (`citizen`) et le nombre de citations dans les bases de données de la police (`checks`).\n",
    "\n",
    "Le premier réflexe est de séparer les données en deux :"
   ]
  },
  {
   "cell_type": "code",
   "execution_count": null,
   "id": "a3b764d7-632f-4b4c-99ae-ac6c011bcc0c",
   "metadata": {},
   "outputs": [],
   "source": [
    "target = \"released\"\n",
    "features = [\"sex\", \"citizen\", \"checks\"]\n",
    "\n",
    "data = arrests[features + [target]]\n",
    "y = arrests[target]\n",
    "X = arrests[features]"
   ]
  },
  {
   "cell_type": "markdown",
   "id": "83c59721-18fa-4c03-bff7-9d8c3a33b955",
   "metadata": {},
   "source": [
    "Et le second d’afficher le type des variables du jeu de données afin de se rendre compte qu’il existe une seule variable numérique :"
   ]
  },
  {
   "cell_type": "code",
   "execution_count": null,
   "id": "a51a976c-e210-48d5-9173-ad53aaf0775f",
   "metadata": {},
   "outputs": [],
   "source": [
    "data.dtypes"
   ]
  },
  {
   "cell_type": "markdown",
   "id": "ecc94461-8fd9-4219-bc47-f54ab1af7ea8",
   "metadata": {},
   "source": [
    "Regardons la répartition des effectifs de la variable cible :"
   ]
  },
  {
   "cell_type": "code",
   "execution_count": null,
   "id": "4ad4ae97-ee9f-4e2d-a076-7ed5d06ee3f4",
   "metadata": {},
   "outputs": [],
   "source": [
    "_ = sns.countplot(data=y, x=y, palette=\"coolwarm\")"
   ]
  },
  {
   "cell_type": "markdown",
   "id": "42db3aea-5322-439d-9be3-9ef263841c0b",
   "metadata": {},
   "source": [
    "Comme nous disposons de trois variables et qu’une seule d’entre elle est de type numérique, une boîte à moustaches permet de visualiser l’ensemble des variables explicatives :"
   ]
  },
  {
   "cell_type": "code",
   "execution_count": null,
   "id": "8c07a21a-df8e-4e87-a446-53bd101a03aa",
   "metadata": {},
   "outputs": [],
   "source": [
    "_ = sns.boxplot(data=X, x=\"citizen\", y=\"checks\", hue=\"sex\", palette=\"coolwarm\")"
   ]
  },
  {
   "cell_type": "markdown",
   "id": "f6ae095d-6d2a-4938-ba80-ab8a798f0593",
   "metadata": {},
   "source": [
    "Plusieurs conclusions, toutes choses étant égales par ailleurs :\n",
    "- les Torontois sont moins cités dans les bases de données (médiane à 1) ;\n",
    "- les femmes sont moins citées que les hommes ;\n",
    "- parmi les femmes ne résidant pas à Toronto, on trouve quelques *outliers* avec trois ou quatre citations."
   ]
  },
  {
   "cell_type": "markdown",
   "id": "2553bf09-b75a-498e-9f23-2e4eadc63b03",
   "metadata": {
    "tags": []
   },
   "source": [
    "## D’autres représentations"
   ]
  },
  {
   "cell_type": "markdown",
   "id": "d4138ec1-e672-452a-add2-38f682199b35",
   "metadata": {},
   "source": [
    "### Comparer les relations entre des variables numériques"
   ]
  },
  {
   "cell_type": "markdown",
   "id": "5b822887-178b-4b45-80a8-4dd4e6dd5155",
   "metadata": {},
   "source": [
    "Parmi les autres méthodes utiles, retenons `.pairplot()` pour afficher un ensemble de représentations des variables numériques d’un *data frame* :"
   ]
  },
  {
   "cell_type": "code",
   "execution_count": null,
   "id": "2e0c8099-d83d-4f57-9993-74afc415d748",
   "metadata": {},
   "outputs": [],
   "source": [
    "target = \"species\"\n",
    "features = [\"bill_length_mm\", \"bill_depth_mm\", \"flipper_length_mm\"]\n",
    "data = df[features + [target]]\n",
    "\n",
    "_ = sns.pairplot(data=data, hue=target)"
   ]
  },
  {
   "cell_type": "markdown",
   "id": "71d83069-3285-44f5-8dcc-bcce57b0ae04",
   "metadata": {},
   "source": [
    "### Analyser la relation entre deux variables quantitatives"
   ]
  },
  {
   "cell_type": "markdown",
   "id": "3ca3b06a-6e44-454e-85fb-cc6c68b62467",
   "metadata": {},
   "source": [
    "La méthode `.jointplot()` permet d’afficher, dans un même graphique, la représentation entre deux variables quantitatives dans un nuage de points et leur distribution dans un histogramme :"
   ]
  },
  {
   "cell_type": "code",
   "execution_count": null,
   "id": "6e61f074-7416-4140-bff4-3c39f3fed20f",
   "metadata": {},
   "outputs": [],
   "source": [
    "_ = sns.jointplot(data=df, x=\"body_mass_g\", y=\"flipper_length_mm\")"
   ]
  },
  {
   "cell_type": "markdown",
   "id": "69f2c716-b8ad-4010-b326-7d54a8354475",
   "metadata": {},
   "source": [
    "### Représenter des séries temporelles"
   ]
  },
  {
   "cell_type": "markdown",
   "id": "c04a4e91-3b14-4475-b8c8-e4ecffcb03f3",
   "metadata": {},
   "source": [
    "La méthode `.pointplot()` est quant à elle favorisée pour représenter des variables quantitatives qui évoluent avec le temps :"
   ]
  },
  {
   "cell_type": "code",
   "execution_count": null,
   "id": "8725b8a0-cd74-4af8-bd83-5725692090d1",
   "metadata": {},
   "outputs": [],
   "source": [
    "data = arrests.groupby([\"year\", \"citizen\"]).size().reset_index(name=\"Count\")\n",
    "\n",
    "_ = sns.pointplot(data=data, x=\"year\", y=\"Count\", hue=\"citizen\")"
   ]
  },
  {
   "cell_type": "markdown",
   "id": "7ee7ffcf-8135-4bfe-8ec4-58ae4c907bb1",
   "metadata": {
    "tags": []
   },
   "source": [
    "## Afficher plusieurs représentations dans un même graphique"
   ]
  },
  {
   "cell_type": "markdown",
   "id": "6792a16a-59cf-4a2f-9636-f5421e5cb4a6",
   "metadata": {},
   "source": [
    "La méthode `.subplots()` nous aide à réunir plusieurs représentations dans un même graphique, comme dans l’exemple ci-dessous :"
   ]
  },
  {
   "cell_type": "code",
   "execution_count": null,
   "id": "f691d656-5b3f-4256-9001-01c904eec7a2",
   "metadata": {},
   "outputs": [],
   "source": [
    "figure, ax = plt.subplots(figsize=(12,5))\n",
    "\n",
    "sns.lineplot(data=df, x=\"bill_length_mm\", y=\"bill_depth_mm\", ax=ax)\n",
    "sns.histplot(data=df, x=\"bill_length_mm\", color=\"grey\", ax=ax)\n",
    "\n",
    "ax.set(\n",
    "    title=\"Distribution des manchots en fonction de la longueur de leur bec\",\n",
    "    xlabel=\"Longueur du bec (en mm)\",\n",
    "    ylabel=\"Nombre d’individus\"\n",
    ")\n",
    "plt.legend([\"Relation entre la longueur et l’épaisseur du bec\"])\n",
    "\n",
    "plt.show()"
   ]
  },
  {
   "cell_type": "markdown",
   "id": "6fa51d6e-52ba-40fa-9a42-751661db68d4",
   "metadata": {
    "tags": []
   },
   "source": [
    "## Analyser la relation de variables en fonction de modalités"
   ]
  },
  {
   "cell_type": "markdown",
   "id": "5cf53af5-1263-4d02-800f-32f8e5401966",
   "metadata": {},
   "source": [
    "Une dernière fonction utile de *Seaborn* pour séparer des représentations de variables quantitatives en fonction de plusieurs modalités recourt à la classe `FacetGrid` :"
   ]
  },
  {
   "cell_type": "code",
   "execution_count": null,
   "id": "ab9d7814-73a4-473d-a54b-f1e135585522",
   "metadata": {},
   "outputs": [],
   "source": [
    "figure = sns.FacetGrid(data=df, col=\"species\", row=\"sex\", hue=\"island\")\n",
    "figure.map(sns.scatterplot, \"body_mass_g\", \"bill_depth_mm\")\n",
    "figure.add_legend()\n",
    "\n",
    "plt.show()"
   ]
  },
  {
   "cell_type": "markdown",
   "id": "b48c9fe6-5fc3-42ab-a1cb-8f7823977b6c",
   "metadata": {
    "tags": []
   },
   "source": [
    "## Personnalisation des graphiques"
   ]
  },
  {
   "cell_type": "markdown",
   "id": "3516b892-9c77-4b26-af33-9d7df24580a1",
   "metadata": {},
   "source": [
    "Dans la pratique, dès qu’il est question de personnaliser les éléments des graphiques, il est de coutume de recourir à la librairie *Matplotlib* sur laquelle repose *Seaborn*. L’exemple qui suit reprend quelques-unes des options les plus souvent utilisées :"
   ]
  },
  {
   "cell_type": "code",
   "execution_count": null,
   "id": "5685cd6e-c1d2-4a08-9240-16b2ddcbd5f3",
   "metadata": {},
   "outputs": [],
   "source": [
    "# dimensions\n",
    "plt.figure(figsize=(10,8))\n",
    "\n",
    "# figure\n",
    "sns.scatterplot(data=df, x=\"body_mass_g\", y=\"bill_length_mm\", hue=\"sex\")\n",
    "\n",
    "# Customization\n",
    "plt.title(\n",
    "    label=\"Répartition des manchots selon leur masse et la longueur de leurs nageoires\",\n",
    "    fontsize=\"14\",\n",
    "    fontweight=\"bold\",\n",
    "    # vertical spacing\n",
    "    y=1.05\n",
    ")\n",
    "plt.xlabel(\"Masse (en g)\")\n",
    "plt.ylabel(\"Longueur des nageoires (en mm)\")\n",
    "plt.legend([\"Mâles\", \"Femelles\"], loc=\"upper right\", title=\"Sexe\")\n",
    "\n",
    "# plot\n",
    "plt.show()"
   ]
  }
 ],
 "metadata": {
  "kernelspec": {
   "display_name": "Python 3 (ipykernel)",
   "language": "python",
   "name": "python3"
  },
  "language_info": {
   "codemirror_mode": {
    "name": "ipython",
    "version": 3
   },
   "file_extension": ".py",
   "mimetype": "text/x-python",
   "name": "python",
   "nbconvert_exporter": "python",
   "pygments_lexer": "ipython3",
   "version": "3.10.6"
  }
 },
 "nbformat": 4,
 "nbformat_minor": 5
}
