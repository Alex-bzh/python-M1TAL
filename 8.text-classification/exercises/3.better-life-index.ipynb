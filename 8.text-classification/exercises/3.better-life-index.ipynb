{
 "cells": [
  {
   "cell_type": "markdown",
   "id": "fef62d58-e301-450b-b84d-6cf5bfe9603d",
   "metadata": {},
   "source": [
    "# Les indicateurs du vivre mieux"
   ]
  },
  {
   "cell_type": "markdown",
   "id": "36768759-3502-4d8d-b097-814abddb0026",
   "metadata": {},
   "source": [
    "Après la débâcle subie lors du précédent TD, vous allez maintenant devoir choisir les meilleurs indicateurs pour programmer votre algorithme d’apprentissage. Vous apprendrez également à combler les données manquantes avec une classe de *Scikit Learn*, à mettre vos données à l’échelle et à intégrer le tout dans un *pipeline*."
   ]
  },
  {
   "cell_type": "markdown",
   "id": "d2d731da-2589-42a6-8802-e68fbcc91578",
   "metadata": {
    "tags": []
   },
   "source": [
    "## À propos du jeu de données"
   ]
  },
  {
   "cell_type": "markdown",
   "id": "98513afb-cd94-4433-97f0-28cef2bd595a",
   "metadata": {},
   "source": [
    "Le fichier [*Better Life Index*](../data/better-life-index-women-2021.csv) est une extraction de plusieurs indicateurs de l’enquête *Better Life 2021*.\n",
    "\n",
    "Notez une fois de plus que les données sélectionnées ne concernent que l’enquête menée auprès des femmes des pays de l’OCDE. Pour en savoir plus sur ces indicateurs, reportez-vous à la [documentation officielle](https://www.oecd.org/fr/wise/OCDE-indicateur-du-vivre-mieux-definitions-et-metadonnees-2021.pdf)."
   ]
  },
  {
   "cell_type": "markdown",
   "id": "7393ab3c-bc61-4eaa-81e9-ae06eab93af3",
   "metadata": {
    "tags": []
   },
   "source": [
    "## Description des données"
   ]
  },
  {
   "cell_type": "markdown",
   "id": "fa34b500-f14c-44a6-8286-d65571c3d670",
   "metadata": {},
   "source": [
    "Le jeu de données est constitué de 40 observations décrites par 15 variables aléatoires :\n",
    "\n",
    "|Variable|Signification|Type de variable|\n",
    "|-|-|:-:|\n",
    "|*code du pays*|Pays|qualitative|\n",
    "|*country*|Pays|qualitative|\n",
    "|*PS_FSAFEN*|Se sentir en sécurité quand on marche seul la nuit|quantitative discrète|\n",
    "|*JE_EMPL*|Taux d’emploi|quantitative discrète|\n",
    "|*JE_LTUR*|Taux de chômage de longue durée|quantitative continue|\n",
    "|*SC_SNTWS*|Qualité du réseau social|quantitative discrète|\n",
    "|*ES_EDUA*|Niveau d’instruction|quantitative discrète|\n",
    "|*ES_STCS*|Compétences des élèves|quantitative continue|\n",
    "|*ES_EDUEX*|Années de scolarité|quantitative discrète|\n",
    "|*EQ_WATER*|Qualité de l’eau|quantitative discrète|\n",
    "|*HS_LEB*|Espérance de vie|quantitative continue|\n",
    "|*HS_SFRH*|Auto-évaluation de l’état de santé|quantitative discrète|\n",
    "|*SW_LIFS*|Satisfaction à l’égard de la vie|quantitative continue|\n",
    "|*PS_REPH*|Taux d’homicides|quantitative continue|\n",
    "|*WL_EWLH*|Horaires de travail lourds|quantitative continue|\n",
    "\n",
    "Chaque observation est un pays de l’OCDE (+ Russie et Afrique du Sud)."
   ]
  },
  {
   "cell_type": "markdown",
   "id": "fae73a7c-1211-4b43-839e-006cab0cfb5d",
   "metadata": {},
   "source": [
    "### Définition de la tâche"
   ]
  },
  {
   "cell_type": "markdown",
   "id": "0e689a70-3e6d-4b2c-abaa-1c81da6c2e6a",
   "metadata": {},
   "source": [
    "Sans partir d’aucune hypothèse, vous souhaitez programmer une fonction de prédiction pour l’indicateur *SW_LIFS*, à savoir la satisfaction à l’égard de la vie.\n",
    "\n",
    "**Variable cible (*target*) :** *SW_LIFS*  \n",
    "**Variables explicatives (*features*) :** ?"
   ]
  },
  {
   "cell_type": "markdown",
   "id": "f5fdb670-69de-4571-9bd6-5cdc91b28c9d",
   "metadata": {
    "tags": []
   },
   "source": [
    "## Aperçu des données"
   ]
  },
  {
   "cell_type": "markdown",
   "id": "d7572172-a822-40bf-a972-0ed338194316",
   "metadata": {},
   "source": [
    "Avant toute chose, chargez le fichier :"
   ]
  },
  {
   "cell_type": "code",
   "execution_count": null,
   "id": "fec1f289-9ca0-4bef-84fd-f418ee251407",
   "metadata": {},
   "outputs": [],
   "source": [
    "# your code here"
   ]
  },
  {
   "cell_type": "markdown",
   "id": "5b772de3-078c-4c71-8333-4ee1c071a3a7",
   "metadata": {},
   "source": [
    "Affichez un résumé de la structure du *data frame* :"
   ]
  },
  {
   "cell_type": "code",
   "execution_count": null,
   "id": "4d7cbf17-b2a8-4897-998e-ac2ff2ff50b0",
   "metadata": {},
   "outputs": [],
   "source": [
    "# your code here"
   ]
  },
  {
   "cell_type": "markdown",
   "id": "2eccc25d-7f5d-41dc-bb0b-630f63e8f003",
   "metadata": {},
   "source": [
    "Grâce à une librairie de visualisation graphique, affichez la distribution de la variable cible afin de repérer s’il existe des données aberrantes :"
   ]
  },
  {
   "cell_type": "code",
   "execution_count": null,
   "id": "0494c42e-58cf-4244-a0d1-ee351e171953",
   "metadata": {},
   "outputs": [],
   "source": [
    "# your code here"
   ]
  },
  {
   "cell_type": "markdown",
   "id": "e3e45093-d427-4d80-adca-3a37420996f2",
   "metadata": {},
   "source": [
    "## Préparation des données"
   ]
  },
  {
   "cell_type": "markdown",
   "id": "ab19a5a3-686a-4ede-a167-cdfe34428106",
   "metadata": {
    "tags": []
   },
   "source": [
    "### Corrélation entre les variables explicatives"
   ]
  },
  {
   "cell_type": "markdown",
   "id": "d629af0b-e46b-447a-a225-63e51584c0f4",
   "metadata": {},
   "source": [
    "Rappelez-vous, la première étape de cette partie consiste à définir les variables `target` et `features` à partir de la description du jeu de données et de la tâche à réaliser. Malheureusement, vous ne savez pas encore quelles variables explicatives choisir et il serait inutile de les employer toutes : en effet, certaines d’entre elles n’ont que peu d’incidence sur la variable cible.\n",
    "\n",
    "Afin de repérer les corrélations entre les variables explicatives, vous allez utiliser une matrice de corrélation grâce à un outil statistique : le coefficient de corrélation de Pearson (ou *r* de Pearson). Inutile de la calculer par vous-mêmes, *Pandas* dispose d’une méthode `.corr()` pour la générer automatiquement. Affectez son résultat à une variable `correlation_matrix` :"
   ]
  },
  {
   "cell_type": "code",
   "execution_count": null,
   "id": "aed3720f-8452-4869-904c-9f1bb678e5af",
   "metadata": {},
   "outputs": [],
   "source": [
    "# your code here"
   ]
  },
  {
   "cell_type": "markdown",
   "id": "1545f253-e55e-4567-97b5-ba66c3a82f2f",
   "metadata": {},
   "source": [
    "Il est possible de n’afficher que la série *SW_LIFS* afin de repérer rapidement les variables qui impactent le plus l’indice de satisfaction à l’égard de la vie, que ce soit positivement ou négativement :"
   ]
  },
  {
   "cell_type": "code",
   "execution_count": null,
   "id": "c37b282e-a048-4190-bbff-ba71b1b99a4d",
   "metadata": {},
   "outputs": [],
   "source": [
    "correlation_matrix[\"SW_LIFS\"]"
   ]
  },
  {
   "cell_type": "markdown",
   "id": "81ce4584-7114-4953-b4d5-2e1d4450120c",
   "metadata": {},
   "source": [
    "Une autre solution consiste à afficher une *heat map* avec *Seaborn* et de repérer les couleurs les plus claires et les plus foncées pour la ligne *SW_LIFS* :"
   ]
  },
  {
   "cell_type": "code",
   "execution_count": null,
   "id": "5c51dca7-3622-43ef-b020-1905c1cd7745",
   "metadata": {},
   "outputs": [],
   "source": [
    "# set the figure size\n",
    "sns.set(rc={\"figure.figsize\":(10, 10)})\n",
    "\n",
    "# display a heat map\n",
    "_ = sns.heatmap(data=correlation_matrix, annot=True);"
   ]
  },
  {
   "cell_type": "markdown",
   "id": "ddc912b2-722f-43a2-84c8-2579c93a97bd",
   "metadata": {},
   "source": [
    "Après avoir sélectionné trois variables explicatives, vous pouvez instancier les variables `target` et `features` et constituer votre nouveau *data frame* `data` :"
   ]
  },
  {
   "cell_type": "code",
   "execution_count": null,
   "id": "da52f6dc-0502-49b4-8337-c1a7740214e8",
   "metadata": {},
   "outputs": [],
   "source": [
    "# your code here"
   ]
  },
  {
   "cell_type": "markdown",
   "id": "5369b0fb-9d2f-4293-aced-3d809f36fffd",
   "metadata": {
    "tags": []
   },
   "source": [
    "### Remplacer les données manquantes"
   ]
  },
  {
   "cell_type": "markdown",
   "id": "2a7cdcaa-10e7-4056-beb3-faf993c0632b",
   "metadata": {},
   "source": [
    "Selon les variables explicatives sélectionnées, vous aurez ou n’aurez pas de données manquantes. Quoi qu’il en soit, vous pouvez exécuter les lignes qui suivent sans porter préjudice à votre programme à venir.\n",
    "\n",
    "Vous allez ici reproduire la même stratégie qu’au cours du TD précédent, mais en optant pour un outil de *Scikit Learn* qui va remplacer les valeurs manquantes dans tout le jeu de données par une mesure de position (moyenne, médiane, mode) ou une valeur fixe définie dans un autre paramètre.\n",
    "\n",
    "Chargez la classe `SimpleImputer` du module `sklearn.impute` puis créez-en une nouvelle instance. Par défaut, les paramètres `missing_values` et `strategy` sont respectivement fixés à `np.nan` et `mean`."
   ]
  },
  {
   "cell_type": "code",
   "execution_count": null,
   "id": "2af64520-8421-427b-bd76-c791e3255057",
   "metadata": {},
   "outputs": [],
   "source": [
    "# your code here"
   ]
  },
  {
   "cell_type": "markdown",
   "id": "a992bec7-f015-4f5b-97a8-5619b262e6d9",
   "metadata": {},
   "source": [
    "Entraînez-le sur vos données grâce à la méthode `.fit()` :"
   ]
  },
  {
   "cell_type": "code",
   "execution_count": null,
   "id": "286b2e2b-f3ed-42d0-b254-7381ef266dcc",
   "metadata": {},
   "outputs": [],
   "source": [
    "# your code here"
   ]
  },
  {
   "cell_type": "markdown",
   "id": "6bef48e3-7b7e-4d4c-b311-b17ead3716c6",
   "metadata": {},
   "source": [
    "Puis appliquez-le à vos données avec la méthode `.transform()` :"
   ]
  },
  {
   "cell_type": "code",
   "execution_count": null,
   "id": "234d94d4-8e6c-4a63-9229-cb054ca49951",
   "metadata": {},
   "outputs": [],
   "source": [
    "# your code here"
   ]
  },
  {
   "cell_type": "markdown",
   "id": "95e581ca-9741-4561-9c8f-e375f1e36110",
   "metadata": {},
   "source": [
    "Comme le résultat de la transformation est une matrice *Numpy*, il faut la réinjecter dans un *data frame* :"
   ]
  },
  {
   "cell_type": "code",
   "execution_count": null,
   "id": "a8519717-78e4-4175-b0a8-c819f3f0f714",
   "metadata": {},
   "outputs": [],
   "source": [
    "data = pd.DataFrame(data, columns=features + [target])"
   ]
  },
  {
   "cell_type": "markdown",
   "id": "28a4fb3c-bea2-42d1-81cd-90e9fcdb9358",
   "metadata": {},
   "source": [
    "Un appel de `data.info()` vous confirme qu’il n’y a plus une seule donnée manquante :"
   ]
  },
  {
   "cell_type": "code",
   "execution_count": null,
   "id": "1cecb058-651f-452d-9ea5-a3cd830c20d1",
   "metadata": {},
   "outputs": [],
   "source": [
    "data.info()"
   ]
  },
  {
   "cell_type": "markdown",
   "id": "76e218a2-46f6-44e0-8486-e9140de785e8",
   "metadata": {},
   "source": [
    "### Préparer les jeux d’entraînement et de test"
   ]
  },
  {
   "cell_type": "markdown",
   "id": "8c850884-1566-4715-a283-305404548eeb",
   "metadata": {},
   "source": [
    "Il est temps de préparer vos vecteurs `X` et `y` puis de répartir l’ensemble en jeux d’entraînement et de test :"
   ]
  },
  {
   "cell_type": "code",
   "execution_count": null,
   "id": "dd88b79c-c6c3-4dc0-9cb6-08285061e78f",
   "metadata": {},
   "outputs": [],
   "source": [
    "# your code here"
   ]
  },
  {
   "cell_type": "markdown",
   "id": "658ecf32-4972-49d1-9ce5-12d49125dbc7",
   "metadata": {},
   "source": [
    "### Mettre les données à l’échelle"
   ]
  },
  {
   "cell_type": "markdown",
   "id": "0b0f2cc2-9f79-4651-b196-625cb0f1c0d3",
   "metadata": {},
   "source": [
    "Dans une étape précédente, vous avez mobilisé un transformateur (la classe `SimpleImputer`) en exécutant ses méthodes `.fit()` et `.transform()`. À présent, vous allez appeler un autre transformateur pour mettre les données à l’échelle.\n",
    "\n",
    "Pourquoi les mettres à l’échelle ? Vous avez dû remarquer que toutes les valeurs ne respectent pas la même échelle : certaines sont en pourcentage, d’autres vont de 0 à 10 etc. Les normaliser permet de les reporter toutes à une échelle commune.\n",
    "\n",
    "Depuis le module `sklearn.preprocessing`, importez la classe `StandardScaler` et créez-en une nouvelle instance dans une variable `scaler` et lancez l’ajustement sur les valeurs de votre *data frame* `X_train` :"
   ]
  },
  {
   "cell_type": "code",
   "execution_count": null,
   "id": "bdc4127a-18df-478d-bf74-e042513bcf90",
   "metadata": {},
   "outputs": [],
   "source": [
    "# your code here"
   ]
  },
  {
   "cell_type": "markdown",
   "id": "8a6fcd40-59ed-4c0d-81ab-7b5073915050",
   "metadata": {},
   "source": [
    "Il ne vous reste plus qu’à exécuter la transformation de `X_train` et `X_test` :"
   ]
  },
  {
   "cell_type": "code",
   "execution_count": null,
   "id": "acd4578a-8114-4051-81d9-ba84dcb218c2",
   "metadata": {},
   "outputs": [],
   "source": [
    "# your code here"
   ]
  },
  {
   "cell_type": "markdown",
   "id": "f631747b-7e23-46bf-ad9b-530e5a097025",
   "metadata": {},
   "source": [
    "## Programmation du modèle"
   ]
  },
  {
   "cell_type": "markdown",
   "id": "fe0f7eab-0644-4a9e-9a2b-fd0cd6635863",
   "metadata": {},
   "source": [
    "Une étape que vous connaissez maintenant bien et qui ne vous posera guère de difficulté. Entraînez un modèle de régression linéaire sur vos données d’entraînement :"
   ]
  },
  {
   "cell_type": "code",
   "execution_count": null,
   "id": "e941c300-c323-4d71-9be3-0e7196ed7490",
   "metadata": {},
   "outputs": [],
   "source": [
    "# your code here"
   ]
  },
  {
   "cell_type": "markdown",
   "id": "b486bbf7-d9e3-461d-be3c-fa6d30408946",
   "metadata": {},
   "source": [
    "Testez l’exactitude du résultat avec les données du Canada :"
   ]
  },
  {
   "cell_type": "code",
   "execution_count": null,
   "id": "f9c37d76-8d68-4209-8067-fdb197f139ff",
   "metadata": {},
   "outputs": [],
   "source": [
    "# data for Canada\n",
    "canada = df[df[\"code\"] == \"CAN\"][features].values\n",
    "# scale the data\n",
    "canada = scaler.transform(canada)\n",
    "# prediction\n",
    "model.predict(canada)"
   ]
  },
  {
   "cell_type": "markdown",
   "id": "aa99d70b-d11e-4776-91d9-7d487e4f1130",
   "metadata": {},
   "source": [
    "## Mise en place d’un *pipeline*"
   ]
  },
  {
   "cell_type": "markdown",
   "id": "bd36884d-ff57-447a-b907-52bf47d80686",
   "metadata": {},
   "source": [
    "Vous le remarquez facilement, certaines opérations sont communes à toutes les tâches d’apprentissage automatique. Pour cette raison, *Scikit Learn* met à disposition un outil qui permet de souder les opérations en un *pipeline* et qui améliore nettement la vitesse d’exécution du programme.\n",
    "\n",
    "Depuis le module `sklearn.pipeline`, importez la fonction `make_pipeline()`. Instanciez votre variable `model` avec, dans l’ordre :\n",
    "1. `SimpleImputer()` ;\n",
    "2. `StandardScaler()` ;\n",
    "3. `LinearRegression()`."
   ]
  },
  {
   "cell_type": "code",
   "execution_count": null,
   "id": "8478e786-2a8c-4a5c-9916-c5eaef2eec8e",
   "metadata": {},
   "outputs": [],
   "source": [
    "# your code here"
   ]
  },
  {
   "cell_type": "markdown",
   "id": "3875562d-871b-44a2-b17e-a48f721ee73e",
   "metadata": {},
   "source": [
    "Utilisez à présent la méthode `.fit()` pour entraîner votre modèle :"
   ]
  },
  {
   "cell_type": "code",
   "execution_count": null,
   "id": "8a0aafdf-3c94-411f-8621-7712d8798a45",
   "metadata": {},
   "outputs": [],
   "source": [
    "# your code here"
   ]
  },
  {
   "cell_type": "markdown",
   "id": "e7f65e95-bd9d-4232-a41a-621b3046e20b",
   "metadata": {},
   "source": [
    "La prédiction pour le Canada reste identique :"
   ]
  },
  {
   "cell_type": "code",
   "execution_count": null,
   "id": "57a86eb2-51d4-4bdf-9818-6fa12f65dd3e",
   "metadata": {},
   "outputs": [],
   "source": [
    "model.predict(canada)"
   ]
  },
  {
   "cell_type": "markdown",
   "id": "db49323f-b430-406c-b19a-4b9e52803f5c",
   "metadata": {},
   "source": [
    "## Évaluation du modèle"
   ]
  },
  {
   "cell_type": "markdown",
   "id": "681669bb-d320-4de7-826a-4418e523542c",
   "metadata": {},
   "source": [
    "Vient à présent la dure tâche de l’évaluation du modèle. Les résultats révéleront peut-être que tout votre travail n’est pas de bonne qualité, mais ils ne doivent servir qu’à vous inciter à améliorer le modèle."
   ]
  },
  {
   "cell_type": "markdown",
   "id": "69a47da5-3cd4-4ed4-98de-50ecf455f2ce",
   "metadata": {},
   "source": [
    "### R$^2$ score"
   ]
  },
  {
   "cell_type": "markdown",
   "id": "dc648e1d-c1f2-4175-b883-78e55d647653",
   "metadata": {},
   "source": [
    "Calculez tout d’abord le R$^2$ pour les jeux de test et d’entraînement :"
   ]
  },
  {
   "cell_type": "code",
   "execution_count": null,
   "id": "388d2b01-80c6-4953-8ec6-1657e11e4d1b",
   "metadata": {},
   "outputs": [],
   "source": [
    "# your code here"
   ]
  },
  {
   "cell_type": "markdown",
   "id": "743ba7fc-5730-4111-aafa-5baa1cc1dddc",
   "metadata": {},
   "source": [
    "### RMSE"
   ]
  },
  {
   "cell_type": "markdown",
   "id": "244c4c57-1a70-4b67-ac38-6f3dd51d2e53",
   "metadata": {},
   "source": [
    "Et maintenant, attelez-vous au calcul de la RMSE :"
   ]
  },
  {
   "cell_type": "code",
   "execution_count": null,
   "id": "84747f6f-9fa9-4918-a1fc-0b6c67a8b283",
   "metadata": {},
   "outputs": [],
   "source": [
    "# your code here"
   ]
  }
 ],
 "metadata": {
  "kernelspec": {
   "display_name": "Python 3 (ipykernel)",
   "language": "python",
   "name": "python3"
  },
  "language_info": {
   "codemirror_mode": {
    "name": "ipython",
    "version": 3
   },
   "file_extension": ".py",
   "mimetype": "text/x-python",
   "name": "python",
   "nbconvert_exporter": "python",
   "pygments_lexer": "ipython3",
   "version": "3.10.6"
  }
 },
 "nbformat": 4,
 "nbformat_minor": 5
}
