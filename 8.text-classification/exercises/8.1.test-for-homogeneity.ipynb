{
 "cells": [
  {
   "cell_type": "markdown",
   "id": "4d834c09-7ad8-436f-b1e6-ae15c000bc80",
   "metadata": {},
   "source": [
    "# Contrôle qualité au pays de Dracula"
   ]
  },
  {
   "cell_type": "markdown",
   "id": "6e5f8584-6255-4d73-8e12-795a169453f2",
   "metadata": {},
   "source": [
    "Les courbes caractéristiques de composition de Mendenhall sont censées représenter la signature stylistique d’un auteur grâce à une méthode quantitative de telle manière qu’il serait possible d’identifier formellement un texte anonyme. L’idée repose sur un présupposé assez difficile à admettre : le style d’un auteur ne doit varier ni dans le temps ni dans l’espace (les différentes parties d’une même œuvre sont censées adopter la même courbe).\n",
    "\n",
    "L’algorithme mis en jeu par Mendenhall, rudimentaire pour notre époque, mobilisait des ressources colossales en 1887, lorsqu’il fallait comptabiliser à la main la fréquence d’apparition des mots dans un texte en fonction du nombre de leurs caractères.\n",
    "\n",
    "Rien de tout cela ici. Au cours de cet exercice, vous mettrez en application des mesures et des tests statistiques afin d’établir ou de rejeter une identité entre deux ensembles de fréquences."
   ]
  },
  {
   "cell_type": "markdown",
   "id": "7bdd5b2b-b36b-4a84-b21d-9c93eed8fd93",
   "metadata": {},
   "source": [
    "## Présentation de la tâche"
   ]
  },
  {
   "cell_type": "markdown",
   "id": "fff7d8e6-48fb-49d5-8222-8449724eb57c",
   "metadata": {},
   "source": [
    "Le code ci-dessous importe deux listes de distribution de fréquences des mots dans deux textes de Bram Stoker : *Dracula* (1897) et *The Mystery of the Sea* (1902). Chaque texte a été au préalable divisé en tranches de 5000 mots."
   ]
  },
  {
   "cell_type": "code",
   "execution_count": null,
   "id": "fdaf87b9-3843-4182-b10d-8181ecc52a09",
   "metadata": {},
   "outputs": [],
   "source": [
    "import pickle\n",
    "\n",
    "with open('../data/mendenhall.pickle', 'rb') as f:\n",
    "    novels = pickle.load(f)\n",
    "\n",
    "dracula = novels['dracula']\n",
    "mystery = novels['mystery_of_the_sea']"
   ]
  },
  {
   "cell_type": "markdown",
   "id": "94859841-ab34-4391-b4f8-2bfa3dfe9373",
   "metadata": {},
   "source": [
    "Vérifions la théorie de Mendenhall :"
   ]
  },
  {
   "cell_type": "code",
   "execution_count": null,
   "id": "c4c9fd06-99af-42d4-8499-95f1e25e963a",
   "metadata": {},
   "outputs": [],
   "source": [
    "import matplotlib.pyplot as plt\n",
    "import seaborn as sns\n",
    "from random import choice\n",
    "\n",
    "# custom preferences for seaborn\n",
    "sns.set_theme(rc={\n",
    "    \"figure.figsize\": (12, 5),\n",
    "    \"axes.spines.right\": False,\n",
    "    \"axes.spines.top\": False\n",
    "})\n",
    "\n",
    "# a random slice of each text\n",
    "dracula_slice = choice(range(len(dracula)))\n",
    "mystery_slice = choice(range(len(mystery)))\n",
    "dracula_freq = dracula[dracula_slice]\n",
    "mystery_freq = mystery[mystery_slice]\n",
    "\n",
    "# get data for each text\n",
    "dracula_conditions = [ condition for condition, frequencies in dracula_freq ]\n",
    "dracula_counts = [ frequencies for condition, frequencies in dracula_freq ]\n",
    "mystery_conditions = [ condition for condition, frequencies in mystery_freq ]\n",
    "mystery_counts = [ frequencies for condition, frequencies in mystery_freq ]\n",
    "\n",
    "# plot\n",
    "figure, ax = plt.subplots()\n",
    "\n",
    "figure.suptitle(\"Characteristic curves of composition in two novels by Bram Stoker\")\n",
    "\n",
    "ax.set(\n",
    "    title=\"n = 5000 words\",\n",
    "    xlabel=\"Word length\",\n",
    "    ylabel=\"Frequency\"\n",
    ")\n",
    "\n",
    "plt.legend([\n",
    "    f\"Dracula, slice n°{dracula_slice}\",\n",
    "    f\"The Mystery of the Sea, slice n°{mystery_slice}\"\n",
    "])\n",
    "\n",
    "plt.xticks(range(1, 19))\n",
    "plt.yticks(range(0, 1600, 200))\n",
    "\n",
    "sns.lineplot(x=dracula_conditions, y=dracula_counts, ax=ax)\n",
    "sns.lineplot(x=mystery_conditions, y=mystery_counts, ax=ax)\n",
    "\n",
    "plt.show()"
   ]
  },
  {
   "cell_type": "markdown",
   "id": "a00dca81-4e76-4cbf-961c-b4518b69553c",
   "metadata": {},
   "source": [
    "Le phénomène est certes aléatoire – les tranches comparées n’étant ici jamais les mêmes –, vous devriez observer sensiblement les mêmes caractéristiques : un épaulement au niveau des mots de 2 à 4 caractères, puis un éboulis plus ou moins vertigineux avant un aplatissement qui s’amorce à partir des mots de 8 caractères.\n",
    "\n",
    "Que l’on découvre des similarités dans les courbes de composition de textes d’un même auteur ne choque pas, mais n’en irait-il pas de même si on effectuait la comparaison avec un autre auteur ? Après tout, cela semble naturel que les mots de 1 caractère (*a*, *I*) soient moins nombreux que ceux de 2 (*of*, *my*, *to*, *in*…) étant donné que ces derniers jouent un rôle plus important dans la phrase.\n",
    "\n",
    "Regardons si la courbe de la 1e tranche du *Frankenstein* de Mary Shelley (1818) montre des ressemblances :"
   ]
  },
  {
   "cell_type": "code",
   "execution_count": null,
   "id": "6420c7f4-2949-49a9-b0ad-436b6623cb7f",
   "metadata": {},
   "outputs": [],
   "source": [
    "# data from Frankenstein\n",
    "frankenstein = novels['frankenstein']\n",
    "frk_conditions = [ condition for condition, frequencies in frankenstein[0] ]\n",
    "frk_counts = [ frequencies for condition, frequencies in frankenstein[0] ]\n",
    "\n",
    "# plot\n",
    "fig = sns.lineplot(x=frk_conditions, y=frk_counts)\n",
    "\n",
    "fig.set(\n",
    "    title=\"Characteristic curve of composition in Mary Shelley's Frankenstein\",\n",
    "    xlabel=\"Word length\",\n",
    "    ylabel=\"Frequency\"\n",
    ")\n",
    "\n",
    "plt.xticks(range(1, 19))\n",
    "plt.yticks(range(0, 1600, 200))\n",
    "\n",
    "plt.show()"
   ]
  },
  {
   "cell_type": "markdown",
   "id": "6b907214-bfd6-4d1f-9099-f7d1c978310a",
   "metadata": {},
   "source": [
    "Globalement, oui. Dans le détail, on est en droit de se demander si les courbes de composition ne seraient pas plus utiles à départager deux auteurs ou autrices dans une tâche d’attribution."
   ]
  },
  {
   "cell_type": "markdown",
   "id": "786ad5e2-5c7c-4e2e-8f5b-e5e7567a8019",
   "metadata": {},
   "source": [
    "## Mise en place des données"
   ]
  },
  {
   "cell_type": "markdown",
   "id": "ee68dbe6-6ed8-4cdb-a4bf-31a0152cf625",
   "metadata": {},
   "source": [
    "L’étude que vous allez mener relève du champ de l’exploratoire. Il s’agit d’appliquer des mesures statistiques afin de ressortir une méthode pour comparer des courbes de Mendenhall. Tout commence par le recueillement des données. Pour cela, vous utiliserez la bibliothèque logicielle *Pandas* :"
   ]
  },
  {
   "cell_type": "code",
   "execution_count": null,
   "id": "7ba8032a-593b-4483-a0a2-0b899c79145c",
   "metadata": {},
   "outputs": [],
   "source": [
    "import pandas as pd"
   ]
  },
  {
   "cell_type": "markdown",
   "id": "1d3987d8-0a31-48c1-afed-d78e9e3c0ba7",
   "metadata": {},
   "source": [
    "L’opération consiste à consolider les données dans un tableau avec, disposés en lignes, les romans, pour lesquels vous comptabiliserez la somme des fréquences pour chacune des conditions. Créez une variable `dracula_sum_freq` qui recense le nombre total d’occurrences pour chaque condition dans le roman *Dracula*. Vous obtiendrez au final un dictionnaire avec les conditions commes clés et les fréquences comme valeurs :"
   ]
  },
  {
   "cell_type": "code",
   "execution_count": null,
   "id": "82364877-dcc1-483b-b0af-1e3cb9a9a732",
   "metadata": {},
   "outputs": [],
   "source": [
    "# your code here"
   ]
  },
  {
   "cell_type": "markdown",
   "id": "679fd762-998e-4743-b3e4-a854a14cda2c",
   "metadata": {},
   "source": [
    "Comme votre objectif est d’obtenir une courbe caractéristique dans une collection de 5000 mots, établissez une moyenne dans une variable `dracula_mean` :"
   ]
  },
  {
   "cell_type": "code",
   "execution_count": null,
   "id": "fa6df494-97ce-463e-9b6b-d4956eb96c18",
   "metadata": {},
   "outputs": [],
   "source": [
    "# your code here"
   ]
  },
  {
   "cell_type": "markdown",
   "id": "e847c559-ded5-4669-a403-a053ced5f242",
   "metadata": {},
   "source": [
    "Importez ce dictionnaire dans un *dataframe* et observez le résultat :"
   ]
  },
  {
   "cell_type": "code",
   "execution_count": null,
   "id": "68ccd4b5-7a2b-4194-bdad-51b7a0739e5e",
   "metadata": {},
   "outputs": [],
   "source": [
    "# dataframe\n",
    "dracula_df = pd.DataFrame(dracula_mean, index=[\"Dracula\"])\n",
    "\n",
    "display(dracula_df)"
   ]
  },
  {
   "cell_type": "markdown",
   "id": "dcdb93f6-5e2d-484b-86c6-e6ea76f05e5b",
   "metadata": {},
   "source": [
    "Répétez l’opération pour *The Mystery of the Sea* et *Frankenstein* afin d’obtenir deux variables `mystery_df` et `frankenstein_df` :"
   ]
  },
  {
   "cell_type": "code",
   "execution_count": null,
   "id": "060dfb2e-9c91-40a0-b093-deec2d783fff",
   "metadata": {},
   "outputs": [],
   "source": [
    "# your code here"
   ]
  },
  {
   "cell_type": "markdown",
   "id": "f6ff6a16-ef0a-475b-b8c0-1aa142fe11c6",
   "metadata": {},
   "source": [
    "Fusionnez l’ensemble dans un nouveau *dataframe* :"
   ]
  },
  {
   "cell_type": "code",
   "execution_count": null,
   "id": "48f3d319-ef0c-4cd7-ac92-e8160103e41a",
   "metadata": {},
   "outputs": [],
   "source": [
    "# NA values fixed at 0\n",
    "df = pd.concat([dracula_df, mystery_df, frankenstein_df]).fillna(0)\n",
    "# reordering columns\n",
    "df = df.reindex(sorted(df.columns), axis=1)\n",
    "\n",
    "display(df)"
   ]
  },
  {
   "cell_type": "markdown",
   "id": "2eec68cc-6deb-4c25-b2f3-7beac38bbf9a",
   "metadata": {},
   "source": [
    "À ce stade, vous devriez avoir repéré des données aberrantes : il existerait des mots de 54 et de 69 caractères. Supprimez-les en retirant les deux dernières colonnes du *dataframe* :"
   ]
  },
  {
   "cell_type": "code",
   "execution_count": null,
   "id": "338600c2-e6b5-4526-8b4e-a9d632489e98",
   "metadata": {},
   "outputs": [],
   "source": [
    "df = df.drop(columns=[54, 69])"
   ]
  },
  {
   "cell_type": "markdown",
   "id": "afb904b2-e0b7-4551-aa46-9f0e0cfeef5d",
   "metadata": {},
   "source": [
    "## Comparaison entre les différentes œuvres"
   ]
  },
  {
   "cell_type": "markdown",
   "id": "dfad7935-fd63-4e82-ab3c-5d5d79d3a610",
   "metadata": {},
   "source": [
    "Il est à présent raisonnable de considérer que la moyenne des deux premières lignes du tableau constitue la courbe de composition caractéristique de Bram Stoker quand la dernière ligne vaut pour celle de Mary Shelley :"
   ]
  },
  {
   "cell_type": "code",
   "execution_count": null,
   "id": "47ce376b-f40c-463f-b39f-2219417d10b3",
   "metadata": {},
   "outputs": [],
   "source": [
    "stoker = df.iloc[0:2].mean()\n",
    "shelley = df.iloc[2]"
   ]
  },
  {
   "cell_type": "markdown",
   "id": "d27429e8-5e40-482a-bcf0-244196869774",
   "metadata": {},
   "source": [
    "Comparez d’une part les deux écrivain·es et, d’autre part, la courbe idéale de Bram Stoker avec celles caractéristiques de ses deux romans :"
   ]
  },
  {
   "cell_type": "code",
   "execution_count": null,
   "id": "df78b05e-1b26-4aba-ae2b-e982a8b4b083",
   "metadata": {},
   "outputs": [],
   "source": [
    "# plot\n",
    "figure, (ax1, ax2) = plt.subplots(nrows=1, ncols=2)\n",
    "\n",
    "figure.suptitle(\"Characteristic curves of composition\")\n",
    "\n",
    "# first axis\n",
    "sns.lineplot(data=stoker, ax=ax1)\n",
    "sns.lineplot(data=shelley, ax=ax1)\n",
    "ax1.set(\n",
    "    title=\"Comparison between Bram Stoker & Mary Shelley\",\n",
    "    xlabel=\"Word length\",\n",
    "    ylabel=\"Frequency\"\n",
    ")\n",
    "ax1.legend([\n",
    "    f\"Bram Stoker\",\n",
    "    f\"Mary Shelley\"\n",
    "])\n",
    "ax1.set_xticks(range(1, 22))\n",
    "\n",
    "# second axis\n",
    "sns.lineplot(data=stoker, ax=ax2)\n",
    "sns.lineplot(data=df.iloc[0], ax=ax2)\n",
    "sns.lineplot(data=df.iloc[1], ax=ax2)\n",
    "\n",
    "ax2.set(\n",
    "    title=\"Comparison between two novels by Bram Stoker\",\n",
    "    xlabel=\"Word length\",\n",
    "    ylabel=\"Frequency\"\n",
    ")\n",
    "ax2.legend([\n",
    "    f\"Characteristic curve\",\n",
    "    f\"Dracula\",\n",
    "    f\"The Mystery of the Sea\"\n",
    "])\n",
    "ax2.set_xticks(range(1, 22))\n",
    "\n",
    "plt.show()"
   ]
  },
  {
   "cell_type": "markdown",
   "id": "77588d6f-70a5-405c-96c8-0fbd5d501caa",
   "metadata": {},
   "source": [
    "Dans cette représentation, les styles de Mary Shelley et de Bram Stoker divergent à deux endroits : au niveau des mots de 2, 3 et 4 caractères, puis entre les mots de 6 et de 13 caractères. L’une des interprétations possibles serait de qualifier le style de Mary Shelley de plus riche en ce qu’il emploie davantage de mots plus longs au détriment des mots très courts. À l’inverse, on pourrait également en conclure que le style de Bram Stoker est plus enlevé, les mots courts servant à dynamiser la phrase.\n",
    "\n",
    "Pour ce qui est de la comparaison entre les romans de Bram Stoker, rien d’étonnant à ce que les courbes épousent celle qui représente la moyenne entre elles-mêmes. Ce qui serait plus intéressant, ce serait de mesurer leur homogénéité."
   ]
  },
  {
   "cell_type": "markdown",
   "id": "72d9663a-95fd-4064-946a-897031002827",
   "metadata": {},
   "source": [
    "## Mise en évidence de l’homogénéité dans le style de Bram Stoker"
   ]
  },
  {
   "cell_type": "markdown",
   "id": "4993bafe-f3c4-491a-a5ed-5c56836789f3",
   "metadata": {},
   "source": [
    "### Le test de conformité"
   ]
  },
  {
   "cell_type": "markdown",
   "id": "ee0a0898-fcf2-4b9d-80ec-03d2bcf4b817",
   "metadata": {},
   "source": [
    "Grâce à vos calculs, vous avez établi la distribution moyenne des fréquences dans l’œuvre de Bram Stoker, pour chaque tranche de 5000 mots, en vous fondant sur deux de ses romans. Si un nouveau texte devait apparaître, vous seriez en mesure de déterminer s’il respecte cette signature stylistique. Une espèce de contrôle de qualité, en somme. Bien entendu, vous tolérerez une marge d’erreur liée à la créativité et aux innovations de la langue, l’écriture n’étant pas une activité soumise à un processus industriel.\n",
    "\n",
    "C’est ici qu’intervient le test de conformité. Soit l’hypothèse nulle $H_0$ qui suppose le nouveau texte conforme au style de Bram Stoker, statuant ainsi que les différences observées ne sont pas significatives et qu’elles ne sont au final dues qu’aux fluctuations de l’échantillonnage. L’hypothèse alternative $H_1$ au contraire établira que les différences sont statistiquement significatives.\n",
    "\n",
    "Dans la pratique, le test revient à appliquer la formule ci-dessous où $\\bar{x}$ est la moyenne observée sur le nouveau texte, $\\mu$ l’espérance de la signature stylistique, $\\sigma$ l’écart-type et $n$ le nombre total de tranches de 5000 mots examinées :\n",
    "\n",
    "$$\n",
    "u = \\frac{\\bar{x} - \\mu}{\\frac{\\sigma}{\\sqrt{n}}}\n",
    "$$\n",
    "\n",
    "À la fin du calcul, il vous faudra comparer la valeur de *u* avec le risque $\\alpha$ retenu, sachant que $\\alpha \\in ]0, 1[$. Si $\\lvert u \\rvert > u_\\alpha$, alors vous rejetterez $H_0$.\n",
    "\n",
    "À titre d’exercice, vous appliquerez la formule au *Frankenstein* de Mary Shelley, même si nous savons déjà qu’il n’est pas de la main de Bram Stoker. Avant de commencer, calculez l’écart-type de la distribution des fréquences dans *Frankenstein*.\n",
    "\n",
    "Vous devrez d’abord calculer la variance puis l’écart-type dans des variables `frk_var` et `frk_std` en appliquant les formules suivantes :\n",
    "\n",
    "$$\n",
    "\\sigma = \\sqrt{V} = \\sqrt{\\frac{1}{n}\\sum^n_{i=1}(x_i - \\bar{x})^2}\n",
    "$$"
   ]
  },
  {
   "cell_type": "code",
   "execution_count": null,
   "id": "f4d6439d-51f9-4a88-badc-ae2d3b2db25e",
   "metadata": {},
   "outputs": [],
   "source": [
    "# your code here"
   ]
  },
  {
   "cell_type": "markdown",
   "id": "ec870f31-171d-49f5-a399-89cde19357a7",
   "metadata": {},
   "source": [
    "Si ce n’est pas déjà fait, transformez votre objet en type `pandas.core.series.Series` grâce à la classe `pd.Series()`, puis pensez à la trier par la clé d’indice avec la méthode `.sort_index` :"
   ]
  },
  {
   "cell_type": "code",
   "execution_count": null,
   "id": "ead45510-2acc-4997-b406-f35796f0dc05",
   "metadata": {},
   "outputs": [],
   "source": [
    "# your code here"
   ]
  },
  {
   "cell_type": "markdown",
   "id": "230a27cc-971d-467b-bbfd-25d33bcfb5aa",
   "metadata": {},
   "source": [
    "Il ne vous reste plus qu’à appliquer la formule :"
   ]
  },
  {
   "cell_type": "code",
   "execution_count": null,
   "id": "07426d1b-2d16-48ad-bbc6-c826012b722b",
   "metadata": {},
   "outputs": [],
   "source": [
    "# your code here"
   ]
  },
  {
   "cell_type": "markdown",
   "id": "268fe8fa-6354-47e8-ac29-e39300c855d2",
   "metadata": {},
   "source": [
    "Déterminez à présent si la valeur absolue de *u* est supérieure au seuil $\\alpha$ que vous avez fixé (par exemple 0,05) et prononcez-vous sur le rejet de $H_0$ :"
   ]
  },
  {
   "cell_type": "code",
   "execution_count": null,
   "id": "2eddc434-46fa-4274-8697-afba524c10e8",
   "metadata": {},
   "outputs": [],
   "source": [
    "# your code here"
   ]
  },
  {
   "cell_type": "markdown",
   "id": "21ba7692-f2de-461d-a86d-ec6c076bba64",
   "metadata": {},
   "source": [
    "### Un indicateur de l’homogénéité"
   ]
  },
  {
   "cell_type": "markdown",
   "id": "44126a40-df30-494d-bc09-0438103ba98b",
   "metadata": {},
   "source": [
    "Jetons un œil curieux à la distribution de l’écart-type dans le *Frankenstein* de Mary Shelley :"
   ]
  },
  {
   "cell_type": "code",
   "execution_count": null,
   "id": "299bbf4f-73e4-4c8d-8696-8dfd7d628877",
   "metadata": {},
   "outputs": [],
   "source": [
    "fig = sns.barplot(x=frk_std.index, y=frk_std)\n",
    "\n",
    "fig.set(\n",
    "    title=\"Standard deviation of word frequencies by length in Frankenstein\",\n",
    "    xlabel=\"Word length\",\n",
    "    ylabel=\"Frequencies\"\n",
    ")\n",
    "\n",
    "plt.show()"
   ]
  },
  {
   "cell_type": "markdown",
   "id": "a7d705d1-7f48-4a8a-9d0a-2b8d741eb7a1",
   "metadata": {},
   "source": [
    "La mesure de l’écart-type permet de représenter la quantité d’erreur par rapport à ce qui aurait été attendu en situation idéale. Le diagramme ci-dessus vous permet par exemple de dire que, dans une tranche de 5000 mots de *Frankenstein*, on a observé que la quantité de mots de deux lettres variait en moyenne de +60 à -60 unités par rapport à la moyenne calculée sur l’ensemble.\n",
    "\n",
    "Mais est-ce beaucoup ? Cela vous autorise-t-il à dire que l’incertitude est plus forte que pour les mots de 14 caractères ? Pour s’en assurer, il serait préférable de comparer avec les moyennes : un écart-type de 60 mots sur une moyenne de 1000, ce n’est pas la même chose que sur une moyenne de 100 mots.\n",
    "\n",
    "Le rapport que nous venons d’introduire s’appelle le coefficient de variation. Il s’obtient grâce à la formule :\n",
    "\n",
    "$$\n",
    "\\text{CV} = \\frac{\\sigma}{\\mu}\n",
    "$$\n",
    "\n",
    "Calculez-le pour *Frankenstein* dans une variable `frk_cv` :"
   ]
  },
  {
   "cell_type": "code",
   "execution_count": null,
   "id": "12c2c67f-927c-46a4-af3d-1e63df5b4a06",
   "metadata": {},
   "outputs": [],
   "source": [
    "# your code here"
   ]
  },
  {
   "cell_type": "markdown",
   "id": "afcf2384-b858-4736-bd03-4bc17c598fd1",
   "metadata": {},
   "source": [
    "L’indicateur obtenu, généralement inférieur à 1, permet de se rendre compte de l’homogénéité dans la composition du roman. Plus il est faible, plus les valeurs sont proches de leur moyenne. On considère qu’en dessous de 0,3 la distribution des mots est homogène dans les tranches de *Frankenstein* pour la longueur considérée.\n",
    "\n",
    "Un graphique sera plus parlant (la ligne bleue matérialise le seuil d’homogénéité) :"
   ]
  },
  {
   "cell_type": "code",
   "execution_count": null,
   "id": "d67e1cc4-d7cf-4618-a197-65018c998d9b",
   "metadata": {},
   "outputs": [],
   "source": [
    "# plot\n",
    "figure, ax = plt.subplots()\n",
    "\n",
    "ax.set(\n",
    "    title=\"Homogeneity in composition of Frankenstein\",\n",
    "    xlabel=\"Word length\",\n",
    "    ylabel=\"Coefficient of variation\"\n",
    ")\n",
    "\n",
    "sns.barplot(x=frk_cv.index[:-3], y=frk_cv[:-3], ax=ax)\n",
    "sns.lineplot(x=range(0, 18), y=[0.3]*18, ax=ax)\n",
    "\n",
    "plt.show()"
   ]
  }
 ],
 "metadata": {
  "kernelspec": {
   "display_name": "Python 3 (ipykernel)",
   "language": "python",
   "name": "python3"
  },
  "language_info": {
   "codemirror_mode": {
    "name": "ipython",
    "version": 3
   },
   "file_extension": ".py",
   "mimetype": "text/x-python",
   "name": "python",
   "nbconvert_exporter": "python",
   "pygments_lexer": "ipython3",
   "version": "3.10.6"
  }
 },
 "nbformat": 4,
 "nbformat_minor": 5
}
