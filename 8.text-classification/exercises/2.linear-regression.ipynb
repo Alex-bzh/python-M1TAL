{
 "cells": [
  {
   "cell_type": "markdown",
   "id": "861cefcf-64af-4036-843d-5f9bda01baeb",
   "metadata": {},
   "source": [
    "# Indicateur de satisfaction à l’égard de la vie"
   ]
  },
  {
   "cell_type": "markdown",
   "id": "536943aa-b42c-42c9-9aaf-55b5dcceffea",
   "metadata": {},
   "source": [
    "Après un premier TD basé sur une tâche de classification, vous reproduirez sensiblement les mêmes étapes afin d’obtenir un modèle prédictif entraîné grâce à un algorithme de régression linéaire.\n",
    "\n",
    "Parmi les autres nouveautés, vous gérerez un peu plus finement les données manquantes plutôt que de simplement les supprimer et calculerez un score de performance adapté à la régression linéaire."
   ]
  },
  {
   "cell_type": "markdown",
   "id": "06a5fff2-de7d-4c55-8e96-27d67c91f858",
   "metadata": {
    "tags": []
   },
   "source": [
    "## À propos du jeu de données"
   ]
  },
  {
   "cell_type": "markdown",
   "id": "ddb4d7ca-c2f2-4fa5-b8c5-6e43dc3db3c8",
   "metadata": {},
   "source": [
    "Le fichier [*Life satisfaction*](../data/life-satisfaction-women-2021.csv) est une extraction de deux indicateurs de l’enquête *Better Life 2021* menée par l’Organisation de coopération et de développement économiques (OCDE) :\n",
    "- La satisfaction à l’égard de la vie ;\n",
    "- les années de scolarité.\n",
    "\n",
    "Précisons que les données sélectionnées ne concernent que l’enquête menée auprès des femmes des pays de l’OCDE. Pour en savoir plus sur ces indicateurs, reportez-vous à [la documentation officielle](https://www.oecd.org/fr/wise/OCDE-indicateur-du-vivre-mieux-definitions-et-metadonnees-2021.pdf)."
   ]
  },
  {
   "cell_type": "markdown",
   "id": "eb49e5c0-a15b-4137-bde7-3f70ccd8245c",
   "metadata": {
    "tags": []
   },
   "source": [
    "## Description des données"
   ]
  },
  {
   "cell_type": "markdown",
   "id": "d6d15c0e-6d54-412e-949b-86ee7907cad8",
   "metadata": {},
   "source": [
    "Le jeu de données est constitué de 38 observations décrites par deux variables aléatoires :\n",
    "\n",
    "|Variable|Signification|Type de variable|\n",
    "|-|-|:-:|\n",
    "|*country*|Pays|qualitative|\n",
    "|*life_satisfaction*|Satisfaction des femmes à l’égard de la vie, sur une échelle de Cantril de 0 à 10.|quantitative continue|\n",
    "|*years_in_education*|Nombre moyen d’années de scolarisation espéré par une femme de 5 à 39 ans.|quantitative discrète|\n",
    "\n",
    "Chaque observation est un pays de l’OCDE (+ Russie et Afrique du Sud)."
   ]
  },
  {
   "cell_type": "markdown",
   "id": "b6fe2454-88c4-42e4-9493-7e8b9793fe59",
   "metadata": {},
   "source": [
    "### Définition de la tâche"
   ]
  },
  {
   "cell_type": "markdown",
   "id": "f6d05553-3ef7-4de4-8c3e-56b9d586913d",
   "metadata": {},
   "source": [
    "Vous formulez l’hypothèse selon laquelle la satisfaction à l’égard de la vie augmente pour les femmes avec le nombre moyen d’années de scolarisation espérées, et souhaitez programmer une fonction de prédiction qui fournisse une estimation de cet indice de satisfaction.\n",
    "\n",
    "**Variable cible (*target*) :** *life_satisfaction*  \n",
    "**Caractéristiques (*features*) :** *years_in_education*"
   ]
  },
  {
   "cell_type": "markdown",
   "id": "17c01085-7cbe-4ebc-a760-43b3ec8dc82d",
   "metadata": {
    "tags": []
   },
   "source": [
    "## Aperçu des données"
   ]
  },
  {
   "cell_type": "markdown",
   "id": "8a1f8409-0389-451c-b27a-fcd5ce94053e",
   "metadata": {},
   "source": [
    "Votre premier réflexe est de vous approprier les données en exécutant quelques instructions routinières."
   ]
  },
  {
   "cell_type": "markdown",
   "id": "3b782329-3b08-4466-bd5b-98f55b35337e",
   "metadata": {
    "tags": []
   },
   "source": [
    "### Exploration"
   ]
  },
  {
   "cell_type": "markdown",
   "id": "ee7a8800-20bb-4860-9bff-3f46d8080035",
   "metadata": {},
   "source": [
    "Chargeons tout d’abord le fichier :"
   ]
  },
  {
   "cell_type": "code",
   "execution_count": null,
   "id": "ab3c737d-06ee-40e1-8374-83d0cd32f613",
   "metadata": {},
   "outputs": [],
   "source": [
    "import pandas as pd\n",
    "\n",
    "df = pd.read_csv(\"../data/life-satisfaction-women-2021.csv\")"
   ]
  },
  {
   "cell_type": "markdown",
   "id": "98b12b91-059f-477a-8033-c2ab896b91fa",
   "metadata": {},
   "source": [
    "Quelle est la taille du *data frame* ?"
   ]
  },
  {
   "cell_type": "code",
   "execution_count": null,
   "id": "b3106b60-23e7-4a80-9eeb-46ffe2271f37",
   "metadata": {},
   "outputs": [],
   "source": [
    "df.shape"
   ]
  },
  {
   "cell_type": "markdown",
   "id": "a6eff6c6-79b9-4ac0-94b7-88fa2d9f3d97",
   "metadata": {},
   "source": [
    "Jetez maintenant un coup d’œil aux premières lignes du jeu de données :"
   ]
  },
  {
   "cell_type": "code",
   "execution_count": null,
   "id": "53100f3b-d9ac-406f-91ff-a3b1b925daab",
   "metadata": {},
   "outputs": [],
   "source": [
    "df.head()"
   ]
  },
  {
   "cell_type": "markdown",
   "id": "cbd0ff45-608e-4e59-a45b-3598b471c587",
   "metadata": {},
   "source": [
    "Quel est le nom des variables, leur type et existe-t-il des données manquantes ?"
   ]
  },
  {
   "cell_type": "code",
   "execution_count": null,
   "id": "1c07b388-bfe4-4133-88b7-9b1001d21364",
   "metadata": {},
   "outputs": [],
   "source": [
    "df.info()"
   ]
  },
  {
   "cell_type": "markdown",
   "id": "72d2c920-7c5c-43f7-858e-a64462cbe1f0",
   "metadata": {},
   "source": [
    "Il manque une donnée pour la variable *years_in_education*. où se situe-t-elle ?"
   ]
  },
  {
   "cell_type": "code",
   "execution_count": null,
   "id": "ecd6aad0-ff2b-49a0-8534-73d8f79f9b52",
   "metadata": {},
   "outputs": [],
   "source": [
    "df[df[\"years_in_education\"].isnull()]"
   ]
  },
  {
   "cell_type": "markdown",
   "id": "11891610-d52e-45da-bf10-ebe6bd94964f",
   "metadata": {},
   "source": [
    "### Visualisation"
   ]
  },
  {
   "cell_type": "markdown",
   "id": "18af919f-9418-4f90-8182-958b18d9d282",
   "metadata": {},
   "source": [
    "Regardons la distribution de la variable cible grâce à la méthode `.displot()` de la librairie *Seaborn*, en affichant une estimation de la densité de probabilité (*kernel density estimation*) :"
   ]
  },
  {
   "cell_type": "code",
   "execution_count": null,
   "id": "901bd4a5-bb55-47c7-abf5-cb50a57455a0",
   "metadata": {},
   "outputs": [],
   "source": [
    "import seaborn as sns\n",
    "\n",
    "_ = sns.displot(data=df, x='life_satisfaction', kde=True);"
   ]
  },
  {
   "cell_type": "markdown",
   "id": "24e481ca-6046-4c85-8e86-493c67a2abcc",
   "metadata": {},
   "source": [
    "La distribution nous paraît normale, sans donnée aberrante (*outliers*).\n",
    "\n",
    "Imprimons désormais un nuage de points :"
   ]
  },
  {
   "cell_type": "code",
   "execution_count": null,
   "id": "8c6d43c4-ee79-4f70-af70-e81e458691e1",
   "metadata": {},
   "outputs": [],
   "source": [
    "_ = sns.scatterplot(data=df, x=\"years_in_education\", y=\"life_satisfaction\")"
   ]
  },
  {
   "cell_type": "markdown",
   "id": "0fc0b580-fe8f-4439-9e9c-c67b0343f1b7",
   "metadata": {},
   "source": [
    "La répartition des points montre une légère tendance vers le haut, que l’on peut matérialiser avec une droite de régression :"
   ]
  },
  {
   "cell_type": "code",
   "execution_count": null,
   "id": "7276cabf-e2f3-46a1-8533-59dd419b0df0",
   "metadata": {},
   "outputs": [],
   "source": [
    "_ = sns.regplot(data=df, x=\"years_in_education\", y=\"life_satisfaction\", ci=None);"
   ]
  },
  {
   "cell_type": "markdown",
   "id": "1fafa35b-1709-4f0f-b778-ddc645a0b5ce",
   "metadata": {
    "tags": []
   },
   "source": [
    "## Préparation des données"
   ]
  },
  {
   "cell_type": "markdown",
   "id": "a3ac34f1-f748-4aad-919c-8fb875392703",
   "metadata": {},
   "source": [
    "Dans un premier temps, définissez les variables `target` et `features`, puis constituez un nouveau *data frame* nommé `data` avec la variable de cible à la fin :"
   ]
  },
  {
   "cell_type": "code",
   "execution_count": null,
   "id": "62a98162-6c60-4d40-b03e-95890e2b162e",
   "metadata": {},
   "outputs": [],
   "source": [
    "# your code here"
   ]
  },
  {
   "cell_type": "markdown",
   "id": "f04c26c8-a6f0-4fab-a22b-43afe1bea7ae",
   "metadata": {},
   "source": [
    "Rappelez-vous qu’il manquait une donnée à votre *data frame* : le nombre d’années de scolarité pour l’Afrique du Sud. Plutôt que de supprimer cette observation, vous allez lui attribuer une valeur. Calculez la moyenne du nombre d’années de scolarité pour tous les autres pays et, grâce à la méthode `.fillna()` de *Pandas* et aux paramètres `value` pour affecter la moyenne calculée. N’oubliez pas que le nombre d’années est un entier positif."
   ]
  },
  {
   "cell_type": "code",
   "execution_count": null,
   "id": "fb6e8650-c017-481b-9b4e-7dbc38555ac3",
   "metadata": {},
   "outputs": [],
   "source": [
    "# your code here"
   ]
  },
  {
   "cell_type": "markdown",
   "id": "7eba4a52-4c3a-4703-b213-6a55a4d3c7b4",
   "metadata": {},
   "source": [
    "À présent, séparez votre *data frame* en deux structures, `X` et `y`, respectivement pour la série comprenant les années de scolarité et celle sur l’indicateur de satisfaction à l’égard de la vie :"
   ]
  },
  {
   "cell_type": "code",
   "execution_count": null,
   "id": "90431b98-e472-4b60-9f31-84320e630eb0",
   "metadata": {},
   "outputs": [],
   "source": [
    "# your code here"
   ]
  },
  {
   "cell_type": "markdown",
   "id": "92dfdc73-b176-4d52-ada3-9f46ebcef997",
   "metadata": {},
   "source": [
    "Il ne vous reste plus qu’à préparer les jeux d’entraînement et de test :"
   ]
  },
  {
   "cell_type": "code",
   "execution_count": null,
   "id": "836485bb-b6a9-4571-8a48-e18de9673d68",
   "metadata": {},
   "outputs": [],
   "source": [
    "# your code here"
   ]
  },
  {
   "cell_type": "markdown",
   "id": "4f16cc66-bd58-42c9-b15f-5de0af1dd841",
   "metadata": {
    "tags": []
   },
   "source": [
    "## Programmation du modèle"
   ]
  },
  {
   "cell_type": "markdown",
   "id": "d469f287-8dd3-4413-9c25-d4c6885a8803",
   "metadata": {},
   "source": [
    "Dans cette partie, vous allez programmer un modèle de régression linéaire. Importez la classe `LinearRegression` depuis `sklearn.linear_model` et créez une nouvelle instance dans une variable `model` :"
   ]
  },
  {
   "cell_type": "code",
   "execution_count": null,
   "id": "267bfd30-0150-48de-8eb8-8272bdea40e3",
   "metadata": {},
   "outputs": [],
   "source": [
    "# your code here"
   ]
  },
  {
   "cell_type": "markdown",
   "id": "c84f9cfa-c4ee-49b2-94de-26a70d14ae76",
   "metadata": {},
   "source": [
    "Entraînez à présent le modèle avec le jeu d’entraînement. Pour éviter de l’entraîner avec le nom des variables (*years_in_education*), appliquez la propriété `values` :"
   ]
  },
  {
   "cell_type": "code",
   "execution_count": null,
   "id": "71331d14-b190-4c84-afae-34b28531db58",
   "metadata": {},
   "outputs": [],
   "source": [
    "# your code here"
   ]
  },
  {
   "cell_type": "markdown",
   "id": "8a24de5b-d060-4841-b777-941d200ba8f3",
   "metadata": {},
   "source": [
    "Faites une prédiction pour un pays dont le nombre d’années de scolarité serait de 20 :"
   ]
  },
  {
   "cell_type": "code",
   "execution_count": null,
   "id": "f5e2dc74-8738-4432-ad05-659dcb68fa0c",
   "metadata": {},
   "outputs": [],
   "source": [
    "# your code here"
   ]
  },
  {
   "cell_type": "markdown",
   "id": "523196ad-0035-4eee-8129-cb6e633c746c",
   "metadata": {},
   "source": [
    "Et comparez avec les pays qui ont un indicateur similaire (Belgique, Danemark, Finlande, Islande, Suède) :"
   ]
  },
  {
   "cell_type": "code",
   "execution_count": null,
   "id": "82af26ff-7707-45f3-b035-d827c91cae1e",
   "metadata": {},
   "outputs": [],
   "source": [
    "# your code here"
   ]
  },
  {
   "cell_type": "markdown",
   "id": "36232017-f6f1-42d3-bd10-8dc22e01d44d",
   "metadata": {},
   "source": [
    "## Évaluation du modèle"
   ]
  },
  {
   "cell_type": "markdown",
   "id": "462c5c66-c267-413a-99d1-a1e2522c16eb",
   "metadata": {},
   "source": [
    "La méthode `.score()` ici renvoie le coefficient de détermination de Pearson (*R-squared* ou R$^2$), un indice de la qualité de la prédiction d’une régression linéaire. Affichez-le pour le jeu d’entraînement et le jeu de test, afin de révéler que la prédiction n’est vraiment pas probante :"
   ]
  },
  {
   "cell_type": "code",
   "execution_count": null,
   "id": "1d1d57ba-16b0-42b7-a44b-582e32eecc42",
   "metadata": {},
   "outputs": [],
   "source": [
    "# your code here"
   ]
  },
  {
   "cell_type": "markdown",
   "id": "b1c16bbf-36b2-477f-96da-a6167eee10bf",
   "metadata": {},
   "source": [
    "Une autre mesure statistique fréquemment utilisée avec une tâche de régression linéaire est la racine de l’erreur quadratique moyenne (*root mean squared error* ou RMSE), qui mesure la distance entre deux vecteurs et fournit ainsi une évaluation des erreurs de prédiction. Importez la fonction `mean_squared_error()` depuis le module `sklearn.metrics` et calculez l’indice pour les deux jeux de données.\n",
    "\n",
    "**Attention !** La méthode `.mean_squared_error()` compare une série de valeurs observées avec une série de valeurs prédites."
   ]
  },
  {
   "cell_type": "code",
   "execution_count": null,
   "id": "4134e120-4d4c-4cc5-8b33-77722215b101",
   "metadata": {},
   "outputs": [],
   "source": [
    "# your code here"
   ]
  },
  {
   "cell_type": "markdown",
   "id": "1f165c1b-68cd-4a40-afa8-7d18a2590015",
   "metadata": {},
   "source": [
    "En résumé, vous devriez obtenir le tableau suivant :\n",
    "\n",
    "|Jeu de données|R$^2$|RMSE|\n",
    "|-|:-:|:-:|\n",
    "|Entraînement|0.11|0.46|\n",
    "|Test|0.05|0.62|\n",
    "\n",
    "Si le R$^2$ montre que les prédictions ne seront pas du tout de bonne qualité, la RMSE indique en revanche qu’elles ne seront pas très éloignées de la vérité car on s’attend à un écart de seulement 0,62 points. Quelle interprétation donner à ces résultats ? L’intuition première serait de considérer que l’indicateur choisi n’est pas vraiment corrélé avec la cible. On aurait pu le mettre en évidence avec le coefficient de corrélation de Pearson, ou *r* de Pearson :"
   ]
  },
  {
   "cell_type": "code",
   "execution_count": null,
   "id": "09c81c3e-1351-4da7-837d-5bb8692a6232",
   "metadata": {},
   "outputs": [],
   "source": [
    "# a correlation matrix\n",
    "df.corr()"
   ]
  }
 ],
 "metadata": {
  "kernelspec": {
   "display_name": "Python 3 (ipykernel)",
   "language": "python",
   "name": "python3"
  },
  "language_info": {
   "codemirror_mode": {
    "name": "ipython",
    "version": 3
   },
   "file_extension": ".py",
   "mimetype": "text/x-python",
   "name": "python",
   "nbconvert_exporter": "python",
   "pygments_lexer": "ipython3",
   "version": "3.10.6"
  }
 },
 "nbformat": 4,
 "nbformat_minor": 5
}
