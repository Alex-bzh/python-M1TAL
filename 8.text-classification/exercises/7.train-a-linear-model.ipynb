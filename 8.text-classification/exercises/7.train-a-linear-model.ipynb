{
 "cells": [
  {
   "cell_type": "markdown",
   "id": "d88cf592-0f98-4df4-8ac4-8467325c9d55",
   "metadata": {},
   "source": [
    "# Un modèle de régression linéaire avec *Scikit-Learn*"
   ]
  },
  {
   "cell_type": "markdown",
   "id": "99f32722-04d2-4d97-85f4-e52db1ae64cc",
   "metadata": {},
   "source": [
    "Dans le précédent TD, vous avez calculé votre propre modèle de régression linéaire sans l’assistance d’aucune API. À présent, vous allez reproduire l’exercice mais en mobilisant les facilités de *Scikit-Learn*."
   ]
  },
  {
   "cell_type": "markdown",
   "id": "c14cc23e-2d8d-4d47-b2ae-154de7dfe78a",
   "metadata": {},
   "source": [
    "## Préparer les données"
   ]
  },
  {
   "cell_type": "markdown",
   "id": "138d609c-3c1d-435f-8266-7dc738549953",
   "metadata": {},
   "source": [
    "Chargez le fichier *penguin-census.csv*, et créez un *data frame* `data` composé des colonnes *body_mass_g* (la variable explicative) et *flipper_length_mm* (la cible). Répartissez ensuite ces colonnes dans deux variables `X` et `y` :"
   ]
  },
  {
   "cell_type": "code",
   "execution_count": null,
   "id": "39411b98-06c8-4c64-b753-b1adff2f71c7",
   "metadata": {},
   "outputs": [],
   "source": [
    "# your code here"
   ]
  },
  {
   "cell_type": "markdown",
   "id": "eec50368-b3bf-421d-bbcc-f452a0b3a810",
   "metadata": {},
   "source": [
    "## Ajuster le modèle"
   ]
  },
  {
   "cell_type": "markdown",
   "id": "53f4c1e8-af87-4e05-b509-02d3d0247bf0",
   "metadata": {},
   "source": [
    "Chargez maintenant la classe `LinearRegression` depuis le module `sklearn.linear_model` et instanciez un modèle qui repose dessus avant d’appliquer la méthode `.fit()` pour l’entraîner à partir des données :"
   ]
  },
  {
   "cell_type": "code",
   "execution_count": null,
   "id": "b2dd00ec-0495-46ec-ba1e-97cfc14845e2",
   "metadata": {},
   "outputs": [],
   "source": [
    "# your code here"
   ]
  },
  {
   "cell_type": "markdown",
   "id": "d96fdda8-3fa7-4a11-a244-909729b325e3",
   "metadata": {},
   "source": [
    "Vous pouvez vérifier la cohérence des paramètres calculés par le modèle en appelant les propriétés et `coef_` et `intercept_` qui fournissent le coefficient directeur et l’ordonnée à l’origine de la droite de régression :"
   ]
  },
  {
   "cell_type": "code",
   "execution_count": null,
   "id": "6c8c4eb4-0d5c-4921-8d9e-920a69ea9e16",
   "metadata": {},
   "outputs": [],
   "source": [
    "# your code here"
   ]
  },
  {
   "cell_type": "markdown",
   "id": "ffcb6da6-abb4-42e3-b510-eb71e3079581",
   "metadata": {},
   "source": [
    "## Effectuer des prédictions"
   ]
  },
  {
   "cell_type": "markdown",
   "id": "ae7c7fd4-e2eb-45c4-b093-5b8cb64aa554",
   "metadata": {},
   "source": [
    "Appelez la méthode `.predict()` pour faire des prédictions sur l’ensemble des valeurs de `X` :"
   ]
  },
  {
   "cell_type": "code",
   "execution_count": null,
   "id": "14629cf6-32eb-4c4e-a64e-31eb6b95377d",
   "metadata": {},
   "outputs": [],
   "source": [
    "# your code here"
   ]
  },
  {
   "cell_type": "markdown",
   "id": "8b690262-922c-4992-b0f6-e2c6ea9744f2",
   "metadata": {},
   "source": [
    "## Évaluer le modèle"
   ]
  },
  {
   "cell_type": "markdown",
   "id": "e8b62c8e-a7d3-4f1c-979e-c73155c258eb",
   "metadata": {},
   "source": [
    "Calculez à présent la RMSE et la MAE de votre modèle :"
   ]
  },
  {
   "cell_type": "code",
   "execution_count": null,
   "id": "df59a0d8-c6dd-4ef3-8fd4-d3f45febf9cd",
   "metadata": {},
   "outputs": [],
   "source": [
    "# your code here"
   ]
  }
 ],
 "metadata": {
  "kernelspec": {
   "display_name": "Python 3 (ipykernel)",
   "language": "python",
   "name": "python3"
  },
  "language_info": {
   "codemirror_mode": {
    "name": "ipython",
    "version": 3
   },
   "file_extension": ".py",
   "mimetype": "text/x-python",
   "name": "python",
   "nbconvert_exporter": "python",
   "pygments_lexer": "ipython3",
   "version": "3.10.6"
  }
 },
 "nbformat": 4,
 "nbformat_minor": 5
}
