{
 "cells": [
  {
   "cell_type": "markdown",
   "id": "1d5dc5e0-287d-4f3f-9570-77f13d9f409c",
   "metadata": {},
   "source": [
    "# Le fléau de la dimension : la deuxième preuve !"
   ]
  },
  {
   "cell_type": "markdown",
   "id": "7d265e1d-ba78-465c-8813-736b3ca7378e",
   "metadata": {},
   "source": [
    "C’est en 1961 que Richard Bellman qualifie dans son article *Adaptive control processes: a guided tour* certains phénomènes apparaissant dans des espaces de grande dimension comme fléau de la dimension.\n",
    "\n",
    "Dans ce TD, vous allez prouver que plus on augmente la dimension, plus la distance moyenne entre deux points pris au hasard est grande."
   ]
  },
  {
   "cell_type": "markdown",
   "id": "55975cd6-38ac-43f0-aec7-437066d03fe2",
   "metadata": {},
   "source": [
    "## Dans un hypercube 2D"
   ]
  },
  {
   "cell_type": "markdown",
   "id": "b2d696d2-c426-40ec-a329-3d4e84146159",
   "metadata": {},
   "source": [
    "Nous le savons, la distance moyenne dans un hypercube 2D unité est de 0,52. Comment le prouver ?"
   ]
  },
  {
   "cell_type": "markdown",
   "id": "7ccd6e14-4e03-4a3d-b2f1-3359b40f1a85",
   "metadata": {},
   "source": [
    "### Tirer deux points aléatoirement"
   ]
  },
  {
   "cell_type": "markdown",
   "id": "4854d484-b32e-4e85-bf6a-2df431cfa38b",
   "metadata": {},
   "source": [
    "Commencez par prendre deux points au hasard dans un carré de 1 cm de côté. Définissez pour cela une fonction `point()` qui retourne un dictionnaire avec deux clés `x` et `y` dont les valeurs sont prises aléatoirement :"
   ]
  },
  {
   "cell_type": "code",
   "execution_count": null,
   "id": "5351d1c0-9dd3-4c14-980b-a0f5c62037b8",
   "metadata": {},
   "outputs": [],
   "source": [
    "# your code here"
   ]
  },
  {
   "cell_type": "markdown",
   "id": "131d1c37-5985-4f1f-a5f1-0c6f8f08c7f1",
   "metadata": {},
   "source": [
    "### Définir la distance euclidienne"
   ]
  },
  {
   "cell_type": "markdown",
   "id": "9a9aefe2-71c9-4c8f-bd8b-f49eed550767",
   "metadata": {},
   "source": [
    "Pour rappel, on obtient la distance euclidienne entre deux points par la formule ci-dessous :\n",
    "\n",
    "$$\n",
    "\\| \\vec{AB} \\| = \\sqrt{(A_1 - B_1)^2 + (A_2 - B_2)^2 \\dots (A_n - B_n)^2}\n",
    "$$\n",
    "\n",
    "Définissez une fonction `distance()` qui prenne deux points en entrée et calcule leur distance dans le plan, soit un espace bidimensionnel :"
   ]
  },
  {
   "cell_type": "code",
   "execution_count": null,
   "id": "2290916b-6240-4f26-a3fc-942e576b3b55",
   "metadata": {},
   "outputs": [],
   "source": [
    "# your code here"
   ]
  },
  {
   "cell_type": "markdown",
   "id": "3ec99a10-d4f3-4ab6-bae0-587a3e6a345d",
   "metadata": {},
   "source": [
    "### Concevoir une simulation"
   ]
  },
  {
   "cell_type": "markdown",
   "id": "cf7f5dbe-a2fd-482d-9b8f-37ab4ed7b72d",
   "metadata": {},
   "source": [
    "Écrivez à présent une fonction `simulation()` qui calcule $n$ fois la distance entre deux points tirés au hasard dans le plan et renvoie la moyenne :"
   ]
  },
  {
   "cell_type": "code",
   "execution_count": null,
   "id": "45f31e79-d21b-4d41-8742-62da711fc2d1",
   "metadata": {},
   "outputs": [],
   "source": [
    "# your code here"
   ]
  },
  {
   "cell_type": "markdown",
   "id": "70fa41fe-823d-490b-8c16-5da72e9abace",
   "metadata": {},
   "source": [
    "### Lancer la simulation"
   ]
  },
  {
   "cell_type": "markdown",
   "id": "578ee2ba-5892-445f-982a-4655d5756a0d",
   "metadata": {},
   "source": [
    "Il ne vous reste plus qu’à lancer la simulation autant de fois que vous le souhaitez :"
   ]
  },
  {
   "cell_type": "code",
   "execution_count": null,
   "id": "5be59a9a-740f-4465-9883-2fae995293c1",
   "metadata": {},
   "outputs": [],
   "source": [
    "# your code here"
   ]
  },
  {
   "cell_type": "markdown",
   "id": "58e26d04-b77c-4b30-9f17-ef094b5c023e",
   "metadata": {},
   "source": [
    "## Dans un hypercube 3D"
   ]
  },
  {
   "cell_type": "markdown",
   "id": "a1128482-1841-47bc-9056-75ba8caccb4d",
   "metadata": {},
   "source": [
    "Prouvez à présent que, dans un cube unité, la distance moyenne entre deux points est supérieure à celle dans un carré unité."
   ]
  },
  {
   "cell_type": "code",
   "execution_count": null,
   "id": "1031ccb9-68ed-4357-965a-8fab21ac87d9",
   "metadata": {},
   "outputs": [],
   "source": [
    "# your code here"
   ]
  }
 ],
 "metadata": {
  "kernelspec": {
   "display_name": "Python 3 (ipykernel)",
   "language": "python",
   "name": "python3"
  },
  "language_info": {
   "codemirror_mode": {
    "name": "ipython",
    "version": 3
   },
   "file_extension": ".py",
   "mimetype": "text/x-python",
   "name": "python",
   "nbconvert_exporter": "python",
   "pygments_lexer": "ipython3",
   "version": "3.10.6"
  }
 },
 "nbformat": 4,
 "nbformat_minor": 5
}
