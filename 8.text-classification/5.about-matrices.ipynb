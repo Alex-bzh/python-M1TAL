{
 "cells": [
  {
   "cell_type": "markdown",
   "id": "0196c620-1916-43de-83aa-b5bdeb8a92df",
   "metadata": {},
   "source": [
    "# Quelques notions sur les matrices"
   ]
  },
  {
   "cell_type": "markdown",
   "id": "22f9e65c-e83b-4b49-920f-a7604ad0cad7",
   "metadata": {},
   "source": [
    "L’analyse de données repose principalement sur la manipulation d’objets mathématiques aux propriétés particulières. Si effectuer des opérations avec des scalaires nous est familier depuis le plus jeune âge, comme additionner 2 et 3, les réaliser avec des structures de plus haute dimensionnalité à de quoi nous dérouter. Aussi, plutôt que de les comprendre, on préfère déléguer à des bibliothèques spécialisées la responsabilité de la tâche.\n",
    "\n",
    "Prenons l’exemple simple d’une série de notes :"
   ]
  },
  {
   "cell_type": "code",
   "execution_count": null,
   "id": "cf15c8e0-1dcc-49f8-aac5-49011c9e1798",
   "metadata": {},
   "outputs": [],
   "source": [
    "notes = [12, 7, 9, 14, 16]"
   ]
  },
  {
   "cell_type": "markdown",
   "id": "ad3386d5-8c9e-4114-993b-e196d35b2ae1",
   "metadata": {},
   "source": [
    "Pour obtenir la moyenne des notes, nous appelons la fonction `mean()` du module *statistics* :"
   ]
  },
  {
   "cell_type": "code",
   "execution_count": null,
   "id": "cf2eaf15-b4a6-4a48-9854-a46a20a46e71",
   "metadata": {},
   "outputs": [],
   "source": [
    "from statistics import mean\n",
    "\n",
    "print(f\"La moyenne des notes est de : {mean(notes)}\")"
   ]
  },
  {
   "cell_type": "markdown",
   "id": "2e2a64f9-1c9d-47d8-b9f0-31826a78c607",
   "metadata": {},
   "source": [
    "Dans ce cas, nous savons tou·tes ce que représente une moyenne arithmétique et utiliser la fonction d’un module spécialisé de Python ne porte pas à conséquence puisque nous sommes capables de la calculer à la main grâce à la formule :\n",
    "\n",
    "$$\n",
    "\\bar{x} = \\frac{1}{n} \\sum_{i=1}^{n} x_i\n",
    "$$\n",
    "\n",
    "Où :\n",
    "\n",
    "- $n$ est le nombre d’éléments dans la série ;\n",
    "- $x_i$ représente chaque élément individuellement."
   ]
  },
  {
   "cell_type": "code",
   "execution_count": null,
   "id": "a69e09ee-c4f4-442f-90b7-36b30deccaec",
   "metadata": {},
   "outputs": [],
   "source": [
    "mean = 1 * sum(notes) / len(notes)\n",
    "\n",
    "print(f\"La moyenne des notes est de : {mean}\")"
   ]
  },
  {
   "cell_type": "markdown",
   "id": "5f7a4de9-14ad-470c-8414-5581e5b30a98",
   "metadata": {},
   "source": [
    "Qu’en est-il d’une notion moins familère, comme la médiane ? Si l’on nous apprend que la fonction `median()` du module *statistics* permet de l’obtenir immédiatement, nous nous contenterons de l’utiliser afin de répondre à la demande sans forcément connaître le concept qui la sous-tend :"
   ]
  },
  {
   "cell_type": "code",
   "execution_count": null,
   "id": "0dc321e5-578c-413a-b4c9-910c72fd7253",
   "metadata": {},
   "outputs": [],
   "source": [
    "from statistics import median\n",
    "\n",
    "print(f\"La médiane des notes est de : {median(notes)}\")"
   ]
  },
  {
   "cell_type": "markdown",
   "id": "dc63954e-4e5b-46ef-b219-abd98c696649",
   "metadata": {},
   "source": [
    "Si l’on ignore que l’obtention de la médiane passe par le tri des données, par leur décompte et par une condition de parité, peut-on assurer que nous en avons la connaissance pleine et entière ? Si l’argument vaut pour une notion comme la médiane, que dire d’une méthode de réduction de la dimensionnalité comme l’ACP quand on ne sait pas décomposer soi-même une matrice en éléments propres ?\n",
    "\n",
    "Penchons-nous alors sur ces objets que sont les matrices pour se réapproprier la connaissance de certaines méthodes fondamentales en analyse des données."
   ]
  },
  {
   "cell_type": "markdown",
   "id": "4d35cfcf-914b-4d60-ad7b-02d9cf0e80f9",
   "metadata": {
    "tags": []
   },
   "source": [
    "## Définition"
   ]
  },
  {
   "cell_type": "markdown",
   "id": "ad36fd9d-74d7-4b33-912c-f8003647eab9",
   "metadata": {},
   "source": [
    "### Une bibliothèque logicielle pour les matrices"
   ]
  },
  {
   "cell_type": "markdown",
   "id": "b0f793bc-8d95-4f43-a6f9-59cfa1f0524b",
   "metadata": {},
   "source": [
    "Avant de commencer, chargeons *NumPy* (*Numerical Python*), une bibliothèque spécialisée dans la manipulation tableaux multidimensionnels qui est très largement utilisée dans l’ingénierie et dans le milieu scientifique. Elle met notamment à disposition une nouvelle structure de données, le `ndarray` pour *N-dimensional array*."
   ]
  },
  {
   "cell_type": "code",
   "execution_count": null,
   "id": "2c4c072f-5ae0-43cf-957b-8915ac394190",
   "metadata": {},
   "outputs": [],
   "source": [
    "import numpy as np"
   ]
  },
  {
   "cell_type": "markdown",
   "id": "74ab46cd-5c96-40a0-b4df-249c709f05bc",
   "metadata": {},
   "source": [
    "### Un peu de vocabulaire"
   ]
  },
  {
   "cell_type": "markdown",
   "id": "a187cc36-b4a5-46fd-830b-37a9b3d13fcc",
   "metadata": {},
   "source": [
    "#### Scalaire"
   ]
  },
  {
   "cell_type": "markdown",
   "id": "e71f3f3d-530c-4b56-b8a6-81e5a4018e96",
   "metadata": {},
   "source": [
    "Un scalaire est simplement un nombre unidimensionnel ($2$, $-\\frac{2}{3}$, $\\pi$) faisant partie de l’ensemble $\\mathbb{R}$ lorsqu’il est utilisé pour multiplier un vecteur."
   ]
  },
  {
   "cell_type": "markdown",
   "id": "d9707a7e-a53f-4936-9ce7-3c70e6ae00ef",
   "metadata": {},
   "source": [
    "#### Vecteur"
   ]
  },
  {
   "cell_type": "markdown",
   "id": "64ef2c40-65d7-4493-bd7d-397685ebe1f6",
   "metadata": {},
   "source": [
    "Un vecteur quant à lui se représente sous la forme d’un tableau unidimensionnel de valeurs :\n",
    "\n",
    "$$\n",
    "\\begin{pmatrix}\n",
    "  2 \\\\\n",
    "  -\\frac{2}{3} \\\\\n",
    "  \\pi\n",
    "\\end{pmatrix}\n",
    "$$\n",
    "\n",
    "Il est constitué d’autant de composantes que de dimensions de l’espace où il se situe. Dans l’exemple précédent, le vecteur se situant dans un espace vectoriel en trois dimensions, il dispose de trois composantes."
   ]
  },
  {
   "cell_type": "markdown",
   "id": "1d0fdd25-b73b-4e13-9a1c-597b64afe777",
   "metadata": {},
   "source": [
    "#### Matrice"
   ]
  },
  {
   "cell_type": "markdown",
   "id": "f539c1ce-793c-4956-8a69-79bf84acfc45",
   "metadata": {},
   "source": [
    "Une matrice se conçoit comme un tableau bidimensionnel de *m* lignes et *n* colonnes servant à enregistrer des valeurs. Elle se note $A \\in \\mathbb{R}^{m \\times n}$. Une matrice $A$ d’ordre $(3, 2)$ se représente par exemple ainsi :\n",
    "\n",
    "$$\n",
    "A = \\begin{bmatrix}\n",
    "    2 & 0.667 \\\\\n",
    "    -1.432 & 1.81 \\\\\n",
    "    0.1 & -2.908\n",
    "\\end{bmatrix}\n",
    "$$\n",
    "\n",
    "La méthode `.array()` de *NumPy* prend en entrée une liste de listes pour former une matrice :"
   ]
  },
  {
   "cell_type": "code",
   "execution_count": null,
   "id": "4e7f2d5a-1f89-43eb-bec8-ee9cd1a3b997",
   "metadata": {},
   "outputs": [],
   "source": [
    "A = np.array([\n",
    "    [2, 0.667],\n",
    "    [-1.432, 1.81],\n",
    "    [0.1, -2.908]\n",
    "])"
   ]
  },
  {
   "cell_type": "markdown",
   "id": "0479186f-2f68-471c-94a4-f4d9f8303da9",
   "metadata": {},
   "source": [
    "Il en ressort un objet de type `ndarray` :"
   ]
  },
  {
   "cell_type": "code",
   "execution_count": null,
   "id": "da03e6c7-ff8e-4902-b9c9-9b95f9287c75",
   "metadata": {},
   "outputs": [],
   "source": [
    "type(A)"
   ]
  },
  {
   "cell_type": "markdown",
   "id": "477f7426-430d-438c-9b5a-0d6ec8975dda",
   "metadata": {},
   "source": [
    "L’attribut `.shape` permet à tout moment de connaître ses dimensions :"
   ]
  },
  {
   "cell_type": "code",
   "execution_count": null,
   "id": "e137b14c-fd52-4ddf-b09b-b2e6fa9ea531",
   "metadata": {},
   "outputs": [],
   "source": [
    "A.shape"
   ]
  },
  {
   "cell_type": "markdown",
   "id": "e4b31c45-db4f-4af9-bcc9-6eae6d541a14",
   "metadata": {},
   "source": [
    "#### Tenseur"
   ]
  },
  {
   "cell_type": "markdown",
   "id": "02169548-6d15-4d18-9371-3e6fa16c2c7c",
   "metadata": {},
   "source": [
    "Un tenseur est une généralisation des vecteurs et des matrices à des dimensions supérieures. Il peut être vu comme un tableau multidimensionnel de valeurs. Un tenseur à trois dimensions se représente comme un empilement de plusieurs matrices, elles-mêmes constituées de plusieurs vecteurs :\n",
    "\n",
    "$$\n",
    "\\begin{pmatrix}\n",
    "  \\begin{pmatrix}\n",
    "    \\begin{pmatrix} 1 & 2 \\\\ 3 & 4 \\end{pmatrix},\n",
    "    \\begin{pmatrix} 5 & 6 \\\\ 7 & 8 \\end{pmatrix}\n",
    "  \\end{pmatrix},\n",
    "  \\begin{pmatrix}\n",
    "    \\begin{pmatrix} 9 & 10 \\\\ 11 & 12 \\end{pmatrix},\n",
    "    \\begin{pmatrix} 13 & 14 \\\\ 15 & 16 \\end{pmatrix}\n",
    "  \\end{pmatrix}\n",
    "\\end{pmatrix}\n",
    "$$\n",
    "\n",
    "Avec *NumPy*, un tenseur se crée toujours avec la méthode `.array()` :"
   ]
  },
  {
   "cell_type": "code",
   "execution_count": null,
   "id": "ae9ec33d-4295-4998-adb5-9e4fc155ed69",
   "metadata": {},
   "outputs": [],
   "source": [
    "tensor = np.array([\n",
    "    [[1, 2], [3, 4]],\n",
    "    [[5, 6], [7, 8]],\n",
    "    [[9, 10], [11, 12]]\n",
    "])\n",
    "\n",
    "tensor.shape"
   ]
  },
  {
   "cell_type": "markdown",
   "id": "4505026a-80a4-4f44-9123-f2065eae4acb",
   "metadata": {
    "tags": []
   },
   "source": [
    "#### La transposée d’une matrice"
   ]
  },
  {
   "cell_type": "markdown",
   "id": "c4cf5e71-b4bd-4482-9cc9-ff4f41d1ef7a",
   "metadata": {},
   "source": [
    "De nombreuses équations font appel à la transposée d’une matrice, une manipulation qui consiste simplement à permuter les lignes avec les colonnes :\n",
    "\n",
    "$$\n",
    "A = \\begin{bmatrix}\n",
    "    4 & -2 & 0 \\\\\n",
    "    -1 & 1 & 3\n",
    "\\end{bmatrix}\n",
    "\\hspace{2em}\n",
    "A^T = \\begin{bmatrix}\n",
    "    4 & -1 \\\\\n",
    "    -2 & 1 \\\\\n",
    "    0 & 3\n",
    "\\end{bmatrix}\n",
    "$$\n",
    "\n",
    "Avec *Numpy*, on obtient la transposition avec la méthode `.transpose()` ou grâce à la notation abrégée `.T` :"
   ]
  },
  {
   "cell_type": "code",
   "execution_count": null,
   "id": "62ffc76d-43fc-445b-95f3-0567e66eb913",
   "metadata": {},
   "outputs": [],
   "source": [
    "A = np.array([\n",
    "    [4, -2, 0],\n",
    "    [-1, 1, 3]\n",
    "])\n",
    "\n",
    "A.transpose().T"
   ]
  },
  {
   "cell_type": "markdown",
   "id": "c9cc05b4-9508-4693-811f-1d8bfbeb65bc",
   "metadata": {
    "tags": []
   },
   "source": [
    "## Opérations arithmétiques"
   ]
  },
  {
   "cell_type": "markdown",
   "id": "a7a3e497-0aac-41f4-bd60-32eb773cc6c2",
   "metadata": {},
   "source": [
    "Les matrices supportent les opérations arithmétiques élémentaires dans la mesure où elles s’appliquent sur des matrices de mêmes dimensions."
   ]
  },
  {
   "cell_type": "markdown",
   "id": "61cdda8e-da1c-425f-b4b6-0c36c4bd34ba",
   "metadata": {
    "tags": []
   },
   "source": [
    "### Addition"
   ]
  },
  {
   "cell_type": "markdown",
   "id": "52d5d140-d477-422e-aa91-72f3a2fdb46e",
   "metadata": {},
   "source": [
    "Prenons deux matrices de dimensions $(2, 3)$ :\n",
    "\n",
    "$$\n",
    "A = \\begin{bmatrix}\n",
    "    1 & -2 & 3 \\\\\n",
    "    -1 & 2 & 1\n",
    "\\end{bmatrix}\n",
    "\\hspace{2em}\n",
    "B = \\begin{bmatrix}\n",
    "    -1 & 2 & -2 \\\\\n",
    "    0 & -2 & 1\n",
    "\\end{bmatrix}\n",
    "$$\n",
    "\n",
    "L’opération revient à additionner un nombre avec celui situé à la même coordonnée dans l’autre matrice :\n",
    "\n",
    "$$\n",
    "\\begin{align}\n",
    "    A + B &= \\begin{bmatrix}\n",
    "        1 + (-1) & -2 + 2 & 3 + (-2) \\\\\n",
    "        -1 + 0 & 2 + (-2) & 1 + 1\n",
    "    \\end{bmatrix}\\\\\n",
    "    &= \\begin{bmatrix}\n",
    "        0 & 0 & 1 \\\\\n",
    "        -1 & 0 & 2\n",
    "    \\end{bmatrix}\n",
    "\\end{align}\n",
    "$$\n",
    "\n",
    "Vérifions avec Python :"
   ]
  },
  {
   "cell_type": "code",
   "execution_count": null,
   "id": "6a235abb-a1f3-4dd7-8604-f83cd357be8c",
   "metadata": {},
   "outputs": [],
   "source": [
    "A = np.array([\n",
    "    [1, -2, 3],\n",
    "    [-1, 2, 1]\n",
    "])\n",
    "B = np.array([\n",
    "    [-1, 2, -2],\n",
    "    [0, -2, 1]\n",
    "])\n",
    "\n",
    "A + B"
   ]
  },
  {
   "cell_type": "markdown",
   "id": "c26eb58b-f0d1-4ed7-b7d1-98f5a9fc0764",
   "metadata": {
    "tags": []
   },
   "source": [
    "### Soustraction"
   ]
  },
  {
   "cell_type": "markdown",
   "id": "88573f15-c017-412e-aedd-8cb4d29adae9",
   "metadata": {},
   "source": [
    "Le principe est identique pour la soustraction :\n",
    "\n",
    "$$\n",
    "\\begin{align}\n",
    "    A - B &= \\begin{bmatrix}\n",
    "        1 - (-1) & -2 - 2 & 3 - (-2) \\\\\n",
    "        -1 - 0 & 2 - (-2) & 1 - 1\n",
    "    \\end{bmatrix}\\\\\n",
    "    &= \\begin{bmatrix}\n",
    "        2 & -4 & 5 \\\\\n",
    "        -1 & 4 & 0\n",
    "    \\end{bmatrix}\n",
    "\\end{align}\n",
    "$$\n",
    "\n",
    "Vérifions avec Python :"
   ]
  },
  {
   "cell_type": "code",
   "execution_count": null,
   "id": "cb099ad0-4607-4b3b-a9cb-dc9b6a362e1a",
   "metadata": {},
   "outputs": [],
   "source": [
    "A - B"
   ]
  },
  {
   "cell_type": "markdown",
   "id": "76fc48b2-a43b-4ccd-b043-11a5ed8cf29e",
   "metadata": {
    "tags": []
   },
   "source": [
    "### Multiplication"
   ]
  },
  {
   "cell_type": "markdown",
   "id": "d4ee2af8-a01d-4596-a0ca-5c951d2c8ee0",
   "metadata": {},
   "source": [
    "Une multiplication élément par élément (produit Hadamard) de deux matrices est une matrice de mêmes dimensions :\n",
    "\n",
    "$$\n",
    "\\begin{align}\n",
    "    A * B &= \\begin{bmatrix}\n",
    "        1 \\times (-1) & -2 \\times 2 & 3 \\times (-2) \\\\\n",
    "        -1 \\times 0 & 2 \\times (-2) & 1 \\times 1\n",
    "    \\end{bmatrix}\\\\\n",
    "    &= \\begin{bmatrix}\n",
    "        -1 & -4 & -6 \\\\\n",
    "        0 & -4 & 1\n",
    "    \\end{bmatrix}\n",
    "\\end{align}\n",
    "$$\n",
    "\n",
    "Vérifions avec Python :"
   ]
  },
  {
   "cell_type": "code",
   "execution_count": null,
   "id": "dd57a32f-8f24-46a5-a67c-d340869fed07",
   "metadata": {},
   "outputs": [],
   "source": [
    "A * B"
   ]
  },
  {
   "cell_type": "markdown",
   "id": "e0bcd158-ee3f-4b00-a1df-674e54ecb78f",
   "metadata": {
    "tags": []
   },
   "source": [
    "### Division"
   ]
  },
  {
   "cell_type": "markdown",
   "id": "e607d1e8-1ac4-407f-84d3-b77c4607ae6a",
   "metadata": {},
   "source": [
    "La division suit le même principe :\n",
    "\n",
    "$$\n",
    "\\begin{align}\n",
    "    A \\div B &= \\begin{bmatrix}\n",
    "        1 \\div (-1) & -2 \\div 2 & 3 \\div (-2) \\\\\n",
    "        -1 \\div 0 & 2 \\div (-2) & 1 \\div 1\n",
    "    \\end{bmatrix}\\\\\n",
    "    &= \\begin{bmatrix}\n",
    "        -1 & -1 & -1.5 \\\\\n",
    "        -\\infty & -1 & 1\n",
    "    \\end{bmatrix}\n",
    "\\end{align}\n",
    "$$"
   ]
  },
  {
   "cell_type": "code",
   "execution_count": null,
   "id": "c275a690-19c0-4e63-b122-f11a00687384",
   "metadata": {},
   "outputs": [],
   "source": [
    "A / B"
   ]
  },
  {
   "cell_type": "markdown",
   "id": "ce25fbe9-bed8-4070-8934-163565761002",
   "metadata": {
    "tags": []
   },
   "source": [
    "### Le produit matriciel"
   ]
  },
  {
   "cell_type": "markdown",
   "id": "c55f564b-d3f7-47c0-9a4c-cc67e910db1d",
   "metadata": {},
   "source": [
    "Lorsque l’on multiplie deux matrices, on cherche le plus souvent à obtenir le produit matriciel plutôt qu’un produit élément par élément. Cette opération ne peut toutefois se réaliser qu’avec des matrices compatibles.\n",
    "\n",
    "Pour une matrice de dimensions $(m, n)$ on aura besoin d’une matrice $(n, p)$ où le nombre de colonnes de la première sera égal au nombre de lignes de la seconde :\n",
    "\n",
    "$$\n",
    "A = \\begin{bmatrix}\n",
    "    1 & -2 & 3 \\\\\n",
    "    -1 & 2 & 1\n",
    "\\end{bmatrix}\n",
    "\\hspace{2em}\n",
    "B = \\begin{bmatrix}\n",
    "    -1 & 2 \\\\\n",
    "    0 & -2 \\\\\n",
    "    4 & -1\n",
    "\\end{bmatrix}\n",
    "$$\n",
    "\n",
    "L’opération consiste à multiplier la ligne de la matrice $A$ par la colonne de la matrice $B$, puis à additionner les résultats :\n",
    "\n",
    "$$\n",
    "\\begin{align}\n",
    "    A \\cdot B &= \\begin{bmatrix}\n",
    "        (1 \\times -1) + (-2 \\times 0) + (3 \\times 4) & (1 \\times 2) + (-2 \\times -2) + (3 \\times -1) \\\\\n",
    "        (-1 \\times -1) + (2 \\times 0) + (1 \\times 4) & (-1 \\times 2) + (2 \\times -2) + (1 \\times -1)\n",
    "    \\end{bmatrix} \\\\\n",
    "    &= \\begin{bmatrix}\n",
    "        -1 + 0 + 12 & 2 + 4 - 3\\\\\n",
    "        1 + 0 + 4 & -2 - 4 - 1\n",
    "    \\end{bmatrix} \\\\\n",
    "    &= \\begin{bmatrix}\n",
    "    11 & 3 \\\\\n",
    "    5 & -7\n",
    "    \\end{bmatrix}\n",
    "\\end{align}\n",
    "$$\n",
    "\n",
    "Le produit matriciel d’une matrice $A^{(m, n)}$ avec une matrice $B^{(n, p)}$ donnera une matrice $C^{(m,p)}$.\n",
    "\n",
    "La méthode de la librairie *Numpy* à invoquer est `.dot()` :"
   ]
  },
  {
   "cell_type": "code",
   "execution_count": null,
   "id": "eeee650a-6ad2-415f-a372-97b46e92165c",
   "metadata": {},
   "outputs": [],
   "source": [
    "A = np.array([\n",
    "    [1, -2, 3],\n",
    "    [-1, 2, 1]\n",
    "])\n",
    "B = np.array([\n",
    "    [-1, 2],\n",
    "    [0, -2],\n",
    "    [4, -1],\n",
    "])\n",
    "\n",
    "A.dot(B)"
   ]
  },
  {
   "cell_type": "markdown",
   "id": "a9119bcc-df90-46eb-99c7-1d38ed26250a",
   "metadata": {},
   "source": [
    "Il est à noter que l’opération inverse consistant à obtenir le produit matriciel de $B$ par $A$ ne donnerait pas le même résultat :"
   ]
  },
  {
   "cell_type": "code",
   "execution_count": null,
   "id": "44b6875d-6a12-4051-8285-714388ab4cf2",
   "metadata": {},
   "outputs": [],
   "source": [
    "B.dot(A)"
   ]
  },
  {
   "cell_type": "markdown",
   "id": "8d9599b5-320e-4103-b22d-998ecadbec0b",
   "metadata": {},
   "source": [
    "## Les matrices carrées"
   ]
  },
  {
   "cell_type": "markdown",
   "id": "4e665850-35d0-41a8-8a04-3e73a93384c0",
   "metadata": {
    "tags": []
   },
   "source": [
    "### Définition"
   ]
  },
  {
   "cell_type": "markdown",
   "id": "e4f811a9-bca6-4a9c-b235-39e97e43f2a2",
   "metadata": {},
   "source": [
    "Une matrice carrée est une matrice particulière dont le nombre de lignes est égal au nombre de colonnes :\n",
    "\n",
    "$$\n",
    "A = \\begin{bmatrix}\n",
    "    0 & 1 & 2 \\\\\n",
    "    1 & 2 & 0 \\\\\n",
    "    2 & 0 & 1\n",
    "\\end{bmatrix}\n",
    "$$"
   ]
  },
  {
   "cell_type": "markdown",
   "id": "9a18e004-d0c1-494a-a589-1eaab54afc25",
   "metadata": {
    "tags": []
   },
   "source": [
    "### La matrice identité"
   ]
  },
  {
   "cell_type": "markdown",
   "id": "a2227052-b0df-4241-94f5-57a87dc8bae7",
   "metadata": {},
   "source": [
    "La matrice identité prend la forme d’une matrice carrée dont la diagonale est remplie de 1 quand toutes les autres valeurs sont à 0 :\n",
    "\n",
    "$$\n",
    "A = \\begin{bmatrix}\n",
    "    1 & 0 & 0 \\\\\n",
    "    0 & 1 & 0 \\\\\n",
    "    0 & 0 & 1\n",
    "\\end{bmatrix}\n",
    "$$\n",
    "\n",
    "Parmi ses propriétés notables, la matrice identité constitue l’élément neutre pour la multiplication des matrices carrées de même ordre :\n",
    "\n",
    "$$\n",
    "\\begin{bmatrix}\n",
    "    4 & -1 & -2 \\\\\n",
    "    1 & 0 & 3 \\\\\n",
    "    0 & 2 & 0\n",
    "\\end{bmatrix} \\times\n",
    "\\begin{bmatrix}\n",
    "    1 & 0 & 0 \\\\\n",
    "    0 & 1 & 0 \\\\\n",
    "    0 & 0 & 1\n",
    "\\end{bmatrix}\n",
    "= \\begin{bmatrix}\n",
    "    4 & -1 & -2 \\\\\n",
    "    1 & 0 & 3 \\\\\n",
    "    0 & 2 & 0\n",
    "\\end{bmatrix}\n",
    "$$\n",
    "\n",
    "Qu’on la transpose ou que l’on cherche son inverse, le résultat sera égal à elle-même :\n",
    "\n",
    "$$\n",
    "\\begin{align}\n",
    "    A^T &= A \\\\\n",
    "    A^{-1} &= A\n",
    "\\end{align}\n",
    "$$\n",
    "\n",
    "Vérifions tout cela avec *Numpy* et la notation `.T` pour la transposée et la méthode `.linalg.inv()` pour l’inverse de la matrice :"
   ]
  },
  {
   "cell_type": "code",
   "execution_count": null,
   "id": "86cb37c8-0db0-4931-9d0c-7feba3cfab33",
   "metadata": {},
   "outputs": [],
   "source": [
    "A = np.array([\n",
    "    [1, 0, 0],\n",
    "    [0, 1, 0],\n",
    "    [0, 0, 1]\n",
    "])\n",
    "B = np.array([\n",
    "    [4, -1, -2],\n",
    "    [1, 0, 3],\n",
    "    [0, 2, 0]\n",
    "])\n",
    "\n",
    "print(f\"## Transposée ##\\n{A.T}\",\n",
    "      f\"## Inverse ##\\n{np.linalg.inv(A)}\",\n",
    "      f\"## Produit matriciel B.A ##\\n{B.dot(A)}\",\n",
    "      sep=\"\\n\")"
   ]
  },
  {
   "cell_type": "markdown",
   "id": "0ea670aa-ead5-41d9-8e19-b77c2286dc1f",
   "metadata": {},
   "source": [
    "**Remarque :** il est à noter qu’une méthode `.identity()` permet de générer une matrice identité d’ordre *n* :"
   ]
  },
  {
   "cell_type": "code",
   "execution_count": null,
   "id": "74ac67e1-354f-4e00-8219-2191f6923bad",
   "metadata": {},
   "outputs": [],
   "source": [
    "np.identity(3)"
   ]
  },
  {
   "cell_type": "markdown",
   "id": "4203e4d0-72f2-42a4-a709-bffac086faae",
   "metadata": {
    "tags": []
   },
   "source": [
    "### Calcul du déterminant"
   ]
  },
  {
   "cell_type": "markdown",
   "id": "c2825b12-ed8b-48a1-a0a6-5b08fcefddaa",
   "metadata": {},
   "source": [
    "Trouver le déterminant d’une matrice carrée est une opération qui revient souvent lorsque l’on analyse des vecteurs. C’est aussi un préalable nécessaire pour trouver l’inverse d’une matrice.\n",
    "\n",
    "Pour le déterminant d’une matrice $(2, 2)$, il faut soustraire le produit de ses diagonales :\n",
    "\n",
    "$$\n",
    "\\text{det} \\begin{bmatrix}\n",
    "    a & b \\\\\n",
    "    c & d\n",
    "\\end{bmatrix} = \n",
    "(a \\times d) - (b \\times c)\n",
    "$$\n",
    "\n",
    "Pour des matrices d’ordre supérieur, il faudra répéter l’opération sur certaines mineures. Soit la matrice carrée $A$ d’ordre $(3, 3)$ :\n",
    "\n",
    "$$\n",
    "A = \\begin{bmatrix}\n",
    "    -2 & 3 & 0 \\\\\n",
    "    3 & 1 & 1 \\\\\n",
    "    2 & -1 & 0\n",
    "\\end{bmatrix}\n",
    "$$\n",
    "\n",
    "Pour calculer son déterminant, nous allons d’abord choisir une ligne (généralement celle avec le plus de 0, à défaut la première) et trouver les cofacteurs de chacune de ses valeurs. Par exemple le vecteur $(A_{11}, A_{12}, A_{13})$ qui vaut $(-2, 3, 0)$. Par définition, nous savons déjà que le cofacteur de $A_{13}$ vaut 0. Pour trouver celui de $A_{11}$, nous voudrons calculer d’abord la mineure de la matrice d’ordre $(2, 2)$ constituée des valeurs qui ne se trouvent ni dans sa colonne ni sur sa ligne, à savoir :\n",
    "\n",
    "$$\n",
    "\\text{det} \\begin{bmatrix}\n",
    "    1 & 1 \\\\\n",
    "    -1 & 0\n",
    "\\end{bmatrix} =\n",
    "(1 \\times 0) - (1 \\times -1) = 1\n",
    "$$\n",
    "\n",
    "Ensuite, il suffit de multiplier le déterminant par $A_{11}$ (soit $1 \\times -2 = -2$) puis de fixer son signe en le multipliant par $1$ ou $-1$ en se référant au tableau ci-dessous :\n",
    "\n",
    "$$\n",
    "\\begin{bmatrix}\n",
    "    + & - & + \\\\\n",
    "    - & + & - \\\\\n",
    "    + & - & +\n",
    "\\end{bmatrix}\n",
    "$$\n",
    "\n",
    "Dans notre exemple, $-2 \\times 1 = -2$. Le cofacteur $A_{11}$ vaut donc $-2$. Si nous détaillons le calcul du cofacteur $A_{12}$, nous obtenons 6 :\n",
    "\n",
    "$$\n",
    "\\begin{align}\n",
    "    \\text{det} \\begin{bmatrix}\n",
    "        3 & 1 \\\\\n",
    "        2 & 0\n",
    "    \\end{bmatrix} &=\n",
    "    (3 \\times 0) - (1 \\times 2) = -2 \\\\\n",
    "    -2 \\times A_{12} &= -6 \\\\\n",
    "    -6 \\times -1 &= 6\n",
    "\\end{align}\n",
    "$$\n",
    "\n",
    "Maintenant que nous avons les cofacteurs de chaque élément, il reste à les additionner pour obtenir le déterminant de la matrice $A$ :\n",
    "\n",
    "$$-2 + 6 + 0 = 4$$\n",
    "\n",
    "Avec *Numpy*, nous pouvons faire appel à la méthode `.linalg.det()` :"
   ]
  },
  {
   "cell_type": "code",
   "execution_count": null,
   "id": "2d8a8320-db2e-42df-a432-a4ba91016337",
   "metadata": {},
   "outputs": [],
   "source": [
    "A = np.array([\n",
    "    [-2, 3, 0],\n",
    "    [3, 1, 1],\n",
    "    [2, -1, 0]\n",
    "])\n",
    "np.linalg.det(A)"
   ]
  },
  {
   "cell_type": "markdown",
   "id": "452448d1-541b-4ce1-be9c-4590bf9940c4",
   "metadata": {
    "tags": []
   },
   "source": [
    "### Définir la comatrice"
   ]
  },
  {
   "cell_type": "markdown",
   "id": "87dcea45-2cb4-4d0c-b243-b418a87a1608",
   "metadata": {},
   "source": [
    "La comatrice d’une matrice carrée s’obtient en échangeant les valeurs sur les diagonales puis en multipliant la diagonale secondaire par $-1$ :\n",
    "\n",
    "$$\n",
    "\\text{com} \\begin{bmatrix}\n",
    "    a & b \\\\\n",
    "    c & d\n",
    "\\end{bmatrix} =\n",
    "\\begin{bmatrix}\n",
    "    d & -c \\\\\n",
    "    -b & a\n",
    "\\end{bmatrix}\n",
    "$$\n",
    "\n",
    "Pour des matrices carrées d’ordre supérieur, il faut calculer le déterminant de chaque valeur puis le multiplier par $1$ ou $-1$ en fonction du tableau des signes."
   ]
  },
  {
   "cell_type": "markdown",
   "id": "3c391570-0868-4e1e-bf5d-1b2c3ac7a38a",
   "metadata": {},
   "source": [
    "## Décomposer une matrice en éléments propres"
   ]
  },
  {
   "cell_type": "markdown",
   "id": "205b37ab-fc73-469e-9b0e-a6e2ebc08bae",
   "metadata": {},
   "source": [
    "La décomposition d’une matrice est une étape indispensable de certains algorithmes de réduction de la dimensionnalité, comme l’analyse en composantes principales. Pour une matrice, il s’agira de trouver ses valeurs propres (*eigenvalues*) et les vecteurs propres (*eigenvectors*) qui leur sont associées."
   ]
  },
  {
   "cell_type": "markdown",
   "id": "89cd4ebb-32ab-4d66-922d-2c748770c833",
   "metadata": {},
   "source": [
    "### Calculer les valeurs propres"
   ]
  },
  {
   "cell_type": "markdown",
   "id": "d018dfaa-f91b-4f8e-8e38-7c87f3c8ccf8",
   "metadata": {},
   "source": [
    "Les valeurs propres d’une matrice sont les racines de son polynôme caractéristique. La formule pour calculer le polynôme caractéristique d’une matrice $M$ vaut :\n",
    "\n",
    "$$\n",
    "P_M(x) = \\text{det}[x.I_n − M]\n",
    "$$\n",
    "\n",
    "Ou :\n",
    "\n",
    "$$\n",
    "P_M(x) = \\text{det}[M - x.I_n]\n",
    "$$\n",
    "\n",
    "**Remarque :** les deux formules donnent des résultats opposés, mais comme nous recherchons des racines, le signe n’a aucune importance.\n",
    "\n",
    "Prenons une matrice carrée d’ordre $(2, 2)$ :\n",
    "\n",
    "$$\n",
    "A = \\begin{bmatrix}\n",
    "    -2 & 1 \\\\\n",
    "    3 & 0\n",
    "\\end{bmatrix}\n",
    "$$\n",
    "\n",
    "Et résolvons l’équation étape par étape avec, comme première opération $x.I_2 − A$ :\n",
    "\n",
    "$$\n",
    "\\begin{align}\n",
    "    x.I_2 − A &= x \\cdot \\begin{bmatrix}\n",
    "        1 & 0 \\\\\n",
    "        0 & 1\n",
    "    \\end{bmatrix} -\n",
    "    \\begin{bmatrix}\n",
    "    -2 & 1 \\\\\n",
    "    3 & 0\n",
    "    \\end{bmatrix} \\\\\n",
    "    &= \\begin{bmatrix}\n",
    "        x & 0 \\\\\n",
    "        0 & x\n",
    "    \\end{bmatrix} -\n",
    "    \\begin{bmatrix}\n",
    "    -2 & 1 \\\\\n",
    "    3 & 0\n",
    "    \\end{bmatrix} \\\\\n",
    "    &= \\begin{bmatrix}\n",
    "    x + 2 & -1 \\\\\n",
    "    -3 & x\n",
    "    \\end{bmatrix}\n",
    "\\end{align}\n",
    "$$\n",
    "\n",
    "Il reste ensuite à trouver le déterminant de cette matrice pour faire ressortir le polynôme :\n",
    "\n",
    "$$\n",
    "\\begin{align}\n",
    "    \\text{det} \\begin{bmatrix}\n",
    "        x + 2 & -1 \\\\\n",
    "        -3 & x\n",
    "    \\end{bmatrix} &= ((x + 2) \\times x) - (- 1 \\times -3) \\\\\n",
    "    &= x^2 + 2x - 3\n",
    "\\end{align}\n",
    "$$\n",
    "\n",
    "Les valeurs propres seront les racines du polynôme de degré 2 : $x^2 + 2x - 3$, soit $\\lambda_1 = 1$ et $\\lambda_2 = -3$.\n",
    "\n",
    "#### Rappel : calcul des racines d’un polynôme\n",
    "\n",
    "Pour un polynôme de degré $n$, il ne peut y avoir au plus que $n$ racines. Déterminer le nombre de racines passe par le calcul du discriminant. Dans la formule quadratique, le discriminant vaut $\\Delta = b^2 - 4ac$. Pour notre exemple, le discriminant est égal à 16. Comme le résultat est supérieur à 0, nous savons qu’il y a deux solutions à notre polynôme (en dessous de 0 il n’aurait pas eu de solution et s’il avait été égal à 0 il n’en aurait une qu’une).\n",
    "\n",
    "Comme nous savons que notre polynôme est composé de deux racines, nous allons nous attacher à les trouver en appliquant la formule quadratique :\n",
    "\n",
    "$$\n",
    "x = \\frac{-b \\pm \\sqrt{b^2 - 4ac}}{2a}\n",
    "$$\n",
    "\n",
    "Dans notre exemple, les racines sont bien :\n",
    "\n",
    "$$\n",
    "\\begin{align}\n",
    "    x_1 &= \\frac{-2 + \\sqrt{16}}{2} \\\\\n",
    "    &= \\frac{-2 + 4}{2} \\\\\n",
    "    &= \\frac{2}{2} \\\\\n",
    "    &= 1 \\\\\n",
    "    x_2 &= \\frac{-2 - \\sqrt{16}}{2} \\\\\n",
    "    &= \\frac{-6}{2} \\\\\n",
    "    &= -3\n",
    "\\end{align}\n",
    "$$"
   ]
  },
  {
   "cell_type": "markdown",
   "id": "e4083bba-0b67-4b5d-a470-b841371436f9",
   "metadata": {},
   "source": [
    "### Calculer les vecteurs propres"
   ]
  },
  {
   "cell_type": "markdown",
   "id": "5d3a1eed-6313-4394-a4b2-0f21e750df9b",
   "metadata": {},
   "source": [
    "Les vecteurs propres sont les vecteurs associés aux valeurs propres d’une matrice. Elles répondent au système d’équation ci-dessous où $I_n$ est la matrice identité et $\\vec{X}$ un vecteur des racines du polynôme caractéristique :\n",
    "\n",
    "$$\n",
    "(M − \\lambda I_n)\\vec{X} = \\vec{0}\n",
    "$$\n",
    "\n",
    "Pour notre exemple où :\n",
    "\n",
    "$$\n",
    "A = \\begin{bmatrix}\n",
    "    -2 & 1 \\\\\n",
    "    3 & 0\n",
    "\\end{bmatrix}\n",
    "$$\n",
    "\n",
    "Et dont les valeurs propres valent $\\lambda_1 = 1$ ; $\\lambda_2 = -3$. Pour $\\lambda_1$, le calcul aboutit à un système d’équations :\n",
    "\n",
    "$$\n",
    "\\begin{align}\n",
    "    \\left( \\begin{bmatrix}\n",
    "        -2 & 1 \\\\\n",
    "        3 & 0\n",
    "    \\end{bmatrix} - \\begin{bmatrix}\n",
    "        1 & 0 \\\\\n",
    "        0 & 1\n",
    "    \\end{bmatrix} \\right) \\cdot \\begin{bmatrix}\n",
    "        x_1 \\\\\n",
    "        x_2\n",
    "    \\end{bmatrix} &= \\vec{0} \\\\\n",
    "    \\begin{bmatrix}\n",
    "        -2 - 1 & 1 \\\\\n",
    "        3 & 0 - 1\n",
    "    \\end{bmatrix} \\cdot \\begin{bmatrix}\n",
    "        x_1 \\\\\n",
    "        x_2\n",
    "    \\end{bmatrix} &= \\vec{0} \\\\\n",
    "    \\begin{bmatrix}\n",
    "        -3 & 1 \\\\\n",
    "        3 & - 1\n",
    "    \\end{bmatrix} \\cdot \\begin{bmatrix}\n",
    "        x_1 \\\\\n",
    "        x_2\n",
    "    \\end{bmatrix} &= \\vec{0} \\\\\n",
    "    \\left \\{\n",
    "    \\begin{array}{c @{=} c}\n",
    "        -3x_1 + x_2 = 0 \\\\\n",
    "        3x_1 - x_2 = 0\n",
    "    \\end{array}\n",
    "    \\right.\n",
    "\\end{align}\n",
    "$$\n",
    "\n",
    "Le vecteur propre associé à $\\lambda_1$ est par conséquent $\\begin{bmatrix} 1 \\\\ 3 \\end{bmatrix}$.\n",
    "\n",
    "Et pour $\\lambda_2$, le système d’équations vaut :\n",
    "\n",
    "$$\n",
    "\\begin{align}\n",
    "    \\left( \\begin{bmatrix}\n",
    "        -2 & 1 \\\\\n",
    "        3 & 0\n",
    "    \\end{bmatrix} - \\begin{bmatrix}\n",
    "        -3 & 0 \\\\\n",
    "        0 & -3\n",
    "    \\end{bmatrix} \\right) \\cdot \\begin{bmatrix}\n",
    "        x_1 \\\\\n",
    "        x_2\n",
    "    \\end{bmatrix} &= \\vec{0} \\\\\n",
    "    \\begin{bmatrix}\n",
    "        -2 + 3 & 1 - 0 \\\\\n",
    "        3 - 0 & 0 + 3\n",
    "    \\end{bmatrix} \\cdot \\begin{bmatrix}\n",
    "        x_1 \\\\\n",
    "        x_2\n",
    "    \\end{bmatrix} &= \\vec{0} \\\\\n",
    "    \\begin{bmatrix}\n",
    "        1 & 1 \\\\\n",
    "        3 & 3\n",
    "    \\end{bmatrix} \\cdot \\begin{bmatrix}\n",
    "        x_1 \\\\\n",
    "        x_2\n",
    "    \\end{bmatrix} &= \\vec{0} \\\\\n",
    "    \\left \\{\n",
    "    \\begin{array}{c @{=} c}\n",
    "        x_1 + x_2 = 0 \\\\\n",
    "        3x_1 + 3 x_2 = 0\n",
    "    \\end{array}\n",
    "    \\right.\n",
    "\\end{align}\n",
    "$$\n",
    "\n",
    "Le vecteur propre associé à $\\lambda_2$ est ainsi $\\begin{bmatrix} -1 \\\\ 1 \\end{bmatrix}$.\n",
    "\n",
    "Avec *Numpy*, la méthode `.eig()` renvoie un tuple avec les valeurs propres et les vecteurs propres associés :"
   ]
  },
  {
   "cell_type": "code",
   "execution_count": null,
   "id": "2fdc2ee2-65b8-4c04-b26b-7b589e4dc8a0",
   "metadata": {},
   "outputs": [],
   "source": [
    "A = np.array([\n",
    "    [-2, 1],\n",
    "    [3, 0]\n",
    "])\n",
    "\n",
    "eigenvalues, eigenvectors = np.linalg.eig(A)\n",
    "\n",
    "for i, eigenvalue in enumerate(eigenvalues):\n",
    "    print(f\"Les vecteurs propres de {eigenvalue} sont : {eigenvectors[:, i]}\")"
   ]
  },
  {
   "cell_type": "markdown",
   "id": "eb333c9c-af67-4e50-876f-12928a5f17e3",
   "metadata": {},
   "source": [
    "Une couche de normalisation est rajoutée par *Numpy* selon la formule :\n",
    "\n",
    "$$\n",
    "\\vec{n} = \\frac{\\vec{v}}{\\| \\vec{v} \\|}\n",
    "$$\n",
    "\n",
    "Si nous prenons pour exemple la valeur propre $\\lambda_1 = 1$ dont le vecteur propre est $\\begin{bmatrix} 1 \\\\ 3 \\end{bmatrix}$ :\n",
    "\n",
    "$$\n",
    "\\begin{align}\n",
    "    \\vec{v} &= \\begin{bmatrix} 1 \\\\ 3 \\end{bmatrix} \\div \\sqrt{1^2 + 3^2} \\\\\n",
    "    \\vec{v} &= \\begin{bmatrix} 1 \\\\ 3 \\end{bmatrix} \\div \\sqrt{10} \\\\\n",
    "    \\vec{v} &= \\begin{bmatrix} \\frac{1}{\\sqrt{10}} \\\\ \\frac{3}{\\sqrt{10}} \\end{bmatrix} \\\\\n",
    "    \\vec{v} &= \\begin{bmatrix} 0.31622 \\\\ 0.94868 \\end{bmatrix}\n",
    "\\end{align}\n",
    "$$"
   ]
  }
 ],
 "metadata": {
  "kernelspec": {
   "display_name": "Python 3 (ipykernel)",
   "language": "python",
   "name": "python3"
  },
  "language_info": {
   "codemirror_mode": {
    "name": "ipython",
    "version": 3
   },
   "file_extension": ".py",
   "mimetype": "text/x-python",
   "name": "python",
   "nbconvert_exporter": "python",
   "pygments_lexer": "ipython3",
   "version": "3.11.10"
  }
 },
 "nbformat": 4,
 "nbformat_minor": 5
}
