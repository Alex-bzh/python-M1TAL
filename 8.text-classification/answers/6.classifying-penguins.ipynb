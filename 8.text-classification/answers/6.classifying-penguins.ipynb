{
 "cells": [
  {
   "cell_type": "markdown",
   "id": "f519ceb0-c9e8-4332-a7b6-bbbf028bf247",
   "metadata": {},
   "source": [
    "# Un modèle prédictif amélioré"
   ]
  },
  {
   "cell_type": "markdown",
   "id": "6f5569be-671e-411b-8400-dcef69412460",
   "metadata": {},
   "source": [
    "Dans le tout premier TD, vous avez programmé un modèle d’apprentissage supervisé pour une tâche de classification de manchots de l’Antarctique. Depuis, vous avez appris davantage de techniques, comme la manière de préparer convenablement ses données, aussi votre objectif sera de parvenir à programmer un modèle qui produira de meilleures prédictions."
   ]
  },
  {
   "cell_type": "markdown",
   "id": "3e490ae2-b740-4ebf-b512-f04fb9888b7b",
   "metadata": {},
   "source": [
    "## Le pré-traitement des données"
   ]
  },
  {
   "cell_type": "markdown",
   "id": "bc3a3227-fa6e-48ee-9ed2-049493a58415",
   "metadata": {
    "tags": []
   },
   "source": [
    "### Préparer le *dataset*"
   ]
  },
  {
   "cell_type": "markdown",
   "id": "bb0e6d16-eae0-437d-be28-75e428db3ad8",
   "metadata": {},
   "source": [
    "La toute première étape est de charger les données dans un *data frame* :"
   ]
  },
  {
   "cell_type": "code",
   "execution_count": null,
   "id": "21412daf-65cc-4bcd-9f61-9c7cab42e6bb",
   "metadata": {},
   "outputs": [],
   "source": [
    "# your code here\n",
    "\n",
    "import pandas as pd\n",
    "\n",
    "df = pd.read_csv(\"../data/penguin-census.csv\")"
   ]
  },
  {
   "cell_type": "markdown",
   "id": "d2ef51c1-5033-42a4-92d5-09981e303a52",
   "metadata": {},
   "source": [
    "Définissez maintenant la variable cible pour la prédiction, ainsi que les variables explicatives, puis constituez vos structures `X` et `y` avec, respectivement, les variables explicatives et la variable cible :"
   ]
  },
  {
   "cell_type": "code",
   "execution_count": null,
   "id": "b916c281-c513-4349-9db1-356d329b3174",
   "metadata": {},
   "outputs": [],
   "source": [
    "# your code here\n",
    "\n",
    "target = \"species\"\n",
    "features = [\"bill_length_mm\", \"bill_depth_mm\", \"flipper_length_mm\", \"body_mass_g\", \"island\", \"sex\"]\n",
    "\n",
    "X = df[features]\n",
    "y = df[target]"
   ]
  },
  {
   "cell_type": "markdown",
   "id": "41179f29-e7c7-4ac9-a626-26192a6678ef",
   "metadata": {},
   "source": [
    "Distinguez dans `X` les variables qualitatives et quantitatives grâce à la fonction `make_column_selector()` :"
   ]
  },
  {
   "cell_type": "code",
   "execution_count": null,
   "id": "2ddc05bf-604a-4b2a-b963-edc6ce67d6fd",
   "metadata": {},
   "outputs": [],
   "source": [
    "# your code here\n",
    "\n",
    "from sklearn.compose import make_column_selector as col_selector\n",
    "\n",
    "num_col_selector = col_selector(dtype_exclude=object)\n",
    "cat_col_selector = col_selector(dtype_include=object)\n",
    "\n",
    "num_cols = num_col_selector(X)\n",
    "cat_cols = cat_col_selector(X)"
   ]
  },
  {
   "cell_type": "markdown",
   "id": "8e636757-b287-4633-babf-4be21b9dca78",
   "metadata": {
    "tags": []
   },
   "source": [
    "### Préparer les variables quantitatives"
   ]
  },
  {
   "cell_type": "markdown",
   "id": "396a6a7a-a034-473c-9272-9be3a706c8ac",
   "metadata": {},
   "source": [
    "Le *data frame* qui contient les variables explicatives est maintenant constitué. Vous allez pas à pas construire toute une structure pour transformer les données de manière à les envoyer au modèle d’apprentissage choisi.\n",
    "\n",
    "Commencez par les variables quantitatives et mettez en place un pipeline pour :\n",
    "1. remplacer les données manquantes avec un `SimpleImputer` ;\n",
    "2. mettre les données à l’échelle avec un `StandardScaler`."
   ]
  },
  {
   "cell_type": "code",
   "execution_count": null,
   "id": "660863e5-d064-4e80-b410-a5dc01110b45",
   "metadata": {},
   "outputs": [],
   "source": [
    "# your code here\n",
    "\n",
    "from sklearn.impute import SimpleImputer\n",
    "from sklearn.preprocessing import StandardScaler\n",
    "from sklearn.pipeline import make_pipeline\n",
    "\n",
    "num_transformers = make_pipeline(\n",
    "    SimpleImputer(strategy=\"median\"),\n",
    "    StandardScaler()\n",
    ")"
   ]
  },
  {
   "cell_type": "markdown",
   "id": "b6cc98a7-c461-4ba2-8070-6c331aaa1212",
   "metadata": {
    "tags": []
   },
   "source": [
    "### Préparer les variables qualitatives"
   ]
  },
  {
   "cell_type": "markdown",
   "id": "38796a82-290a-4507-9b46-7b627cd094c8",
   "metadata": {},
   "source": [
    "Faites de même pour les variables qualitatives en remplaçant également les données manquantes avec un `SimpleImputer` puis en les encodant avec un `OneHotEncoder` :"
   ]
  },
  {
   "cell_type": "code",
   "execution_count": null,
   "id": "ecfabcc4-cbb4-48e9-af20-ec127a664110",
   "metadata": {},
   "outputs": [],
   "source": [
    "# your code here\n",
    "\n",
    "from sklearn.preprocessing import OneHotEncoder\n",
    "\n",
    "cat_transformers = make_pipeline(\n",
    "    SimpleImputer(strategy=\"constant\", fill_value=\"?\"),\n",
    "    OneHotEncoder(handle_unknown=\"ignore\")\n",
    ")"
   ]
  },
  {
   "cell_type": "markdown",
   "id": "ac6be530-6d1c-490b-8ee0-78514d174d0c",
   "metadata": {
    "tags": []
   },
   "source": [
    "### Assembler les transformateurs"
   ]
  },
  {
   "cell_type": "markdown",
   "id": "cf1340e7-7764-42ae-a74f-6bba3bf95248",
   "metadata": {},
   "source": [
    "Dans une variable `preprocessor`, préparez un `ColumnTransformer` pour recueillir vos transformateurs numériques et catégorielles :"
   ]
  },
  {
   "cell_type": "code",
   "execution_count": null,
   "id": "91bacc44-6627-4316-a20e-8750806b4947",
   "metadata": {},
   "outputs": [],
   "source": [
    "# your code here\n",
    "\n",
    "from sklearn.compose import ColumnTransformer\n",
    "\n",
    "preprocessor = ColumnTransformer(\n",
    "    transformers=[\n",
    "        (\"num-transformers\", num_transformers, num_cols),\n",
    "        (\"cat-transformers\", cat_transformers, cat_cols),\n",
    "    ]\n",
    ")"
   ]
  },
  {
   "cell_type": "markdown",
   "id": "0a0c50b5-a703-4deb-aa40-b01cf57b4173",
   "metadata": {
    "tags": []
   },
   "source": [
    "## Créer le modèle d’apprentissage"
   ]
  },
  {
   "cell_type": "markdown",
   "id": "ac1b15ca-2fce-4b66-87e1-ba7d134bfbd5",
   "metadata": {},
   "source": [
    "Pour les besoins de votre tâche, vous utiliserez un modèle linéaire appelé `LogisticRegression`. Constituez un nouveau pipeline qui assemble les transformateurs contenus dans votre variable `preprocessor` et le modèle de régression logistique :"
   ]
  },
  {
   "cell_type": "code",
   "execution_count": null,
   "id": "7b84e8a9-fc65-4a3f-bc1a-2f9c9ef643d0",
   "metadata": {},
   "outputs": [],
   "source": [
    "# your code here\n",
    "\n",
    "from sklearn.linear_model import LogisticRegression\n",
    "\n",
    "model = make_pipeline(preprocessor, LogisticRegression())"
   ]
  },
  {
   "cell_type": "markdown",
   "id": "65bf1e86-8493-4111-8655-456248b93469",
   "metadata": {},
   "source": [
    "Affichez votre modèle pour bien en comprendre le fonctionnement :"
   ]
  },
  {
   "cell_type": "code",
   "execution_count": null,
   "id": "87c3a50c-26e3-4cd4-9efc-d50e684f107d",
   "metadata": {},
   "outputs": [],
   "source": [
    "model"
   ]
  },
  {
   "cell_type": "markdown",
   "id": "6aa5e70f-335c-4e81-a3b8-0f6fde52db2c",
   "metadata": {
    "tags": []
   },
   "source": [
    "## Ajuster le modèle"
   ]
  },
  {
   "cell_type": "markdown",
   "id": "969243cb-6009-4b25-b5fc-cae92cdd5c96",
   "metadata": {},
   "source": [
    "Il ne reste plus qu’à entraîner votre modèle et à le tester sur votre jeu de données.\n",
    "\n",
    "Séparez tout d’abord vos données en jeux d’entraînement et de test :"
   ]
  },
  {
   "cell_type": "code",
   "execution_count": null,
   "id": "c421b859-1a30-434b-a317-a3ff47bc64e9",
   "metadata": {},
   "outputs": [],
   "source": [
    "# your code here\n",
    "\n",
    "from sklearn.model_selection import train_test_split\n",
    "\n",
    "X_train, X_test, y_train, y_test = train_test_split(X, y, test_size=0.2, random_state=42)"
   ]
  },
  {
   "cell_type": "markdown",
   "id": "cb74484f-9266-4ec8-947f-e1fc71079985",
   "metadata": {},
   "source": [
    "Grâce à la méthode `.fit()` entraînez votre modèle :"
   ]
  },
  {
   "cell_type": "code",
   "execution_count": null,
   "id": "29886f4d-fabe-4b50-a0a2-dc6f8f306bcf",
   "metadata": {},
   "outputs": [],
   "source": [
    "# your code here\n",
    "\n",
    "_ = model.fit(X_train, y_train)"
   ]
  },
  {
   "cell_type": "markdown",
   "id": "c65e3109-5e7b-415b-8e7f-6faf84a5fbde",
   "metadata": {},
   "source": [
    "Dernière étape, faites des prédictions avec la méthode `.predict()` :"
   ]
  },
  {
   "cell_type": "code",
   "execution_count": null,
   "id": "a2e995af-c997-40f7-bd8a-f9f5c6f803f4",
   "metadata": {},
   "outputs": [],
   "source": [
    "# your code here\n",
    "\n",
    "y_pred = model.predict(X_test)"
   ]
  },
  {
   "cell_type": "markdown",
   "id": "46365dfa-b1ed-47d4-afee-0430842791e2",
   "metadata": {},
   "source": [
    "## Évaluer le modèle"
   ]
  },
  {
   "cell_type": "markdown",
   "id": "62fc427d-3ffd-49a6-b14f-b6a18e4492bf",
   "metadata": {},
   "source": [
    "Votre modèle est prêt et il a effectué des prédictions pour le jeu de test. Mais quelle est sa précision ? Donnez les résultats pour le jeu d’entraînement et pour le jeu de test :"
   ]
  },
  {
   "cell_type": "code",
   "execution_count": null,
   "id": "24c2b2b6-93bd-401c-a16c-261fd4535006",
   "metadata": {},
   "outputs": [],
   "source": [
    "# your code here\n",
    "\n",
    "train_score = model.score(X_train, y_train)\n",
    "test_score = model.score(X_test, y_test)\n",
    "\n",
    "print(\n",
    "    f\"Score de précision sur le jeu d’entraînement : {train_score:.3f}\",\n",
    "    f\"Score de précision sur le jeu de test : {test_score:.3f}\",\n",
    "    sep=\"\\n\"\n",
    ")"
   ]
  },
  {
   "cell_type": "markdown",
   "id": "55979cf2-89bb-4776-b0e6-5e61f9fb9547",
   "metadata": {},
   "source": [
    "Si vous avez bien respecté les étapes, les deux scores devraient être très élevés, voire atteindre 100 %. Lorsque l’on obtient des résultats aussi encourageants, c’est souvent le symptôme d’un modèle sur-entraîné. Essayez d’expliquer pourquoi le modèle s’ajuste aussi bien aux données."
   ]
  }
 ],
 "metadata": {
  "kernelspec": {
   "display_name": "Python 3 (ipykernel)",
   "language": "python",
   "name": "python3"
  },
  "language_info": {
   "codemirror_mode": {
    "name": "ipython",
    "version": 3
   },
   "file_extension": ".py",
   "mimetype": "text/x-python",
   "name": "python",
   "nbconvert_exporter": "python",
   "pygments_lexer": "ipython3",
   "version": "3.10.6"
  }
 },
 "nbformat": 4,
 "nbformat_minor": 5
}
