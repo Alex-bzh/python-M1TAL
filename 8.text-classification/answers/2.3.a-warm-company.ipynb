{
 "cells": [
  {
   "cell_type": "markdown",
   "id": "e8cce4cf-fd77-4f94-91ec-52f7a9cf56c7",
   "metadata": {},
   "source": [
    "# Une compagnie chaleureuse"
   ]
  },
  {
   "cell_type": "markdown",
   "id": "b34b9eda-cf06-4867-8b14-3da8af1171b1",
   "metadata": {},
   "source": [
    "En vous reposant sur les répliques du tout premier épisode de la série *Kaamelott*, vous apprendrez à travers cet exercice à mieux vous servir du transformateur `CountVectorizer`."
   ]
  },
  {
   "cell_type": "markdown",
   "id": "da4598ef-a5db-4ab2-ab43-c399c4138e26",
   "metadata": {},
   "source": [
    "## Préparation des outils et du corpus à analyser"
   ]
  },
  {
   "cell_type": "markdown",
   "id": "9eb6f556-a4e6-45bf-b09b-a18b171e6307",
   "metadata": {},
   "source": [
    "Commencez par charger le transformateur en mémoire :"
   ]
  },
  {
   "cell_type": "code",
   "execution_count": null,
   "id": "f3776693-0aa6-43eb-9f53-4297f7ce01de",
   "metadata": {},
   "outputs": [],
   "source": [
    "# your code here\n",
    "\n",
    "from sklearn.feature_extraction.text import CountVectorizer"
   ]
  },
  {
   "cell_type": "markdown",
   "id": "d9f6d0c5-b6bf-4b31-9e57-60a47a4ad08f",
   "metadata": {},
   "source": [
    "Puis le corpus :"
   ]
  },
  {
   "cell_type": "code",
   "execution_count": null,
   "id": "7e4a932c-9714-481f-ae6d-98e7980444d8",
   "metadata": {},
   "outputs": [],
   "source": [
    "import pickle\n",
    "\n",
    "with open('../data/cues-in-heat.pickle', 'rb') as handle:\n",
    "    corpus = pickle.load(handle)"
   ]
  },
  {
   "cell_type": "markdown",
   "id": "bd80ea7c-6bb1-4bf1-9718-92b0917c0eeb",
   "metadata": {},
   "source": [
    "Le corpus est constitué d’une liste des répliques. Chaque réplique, qu’elle soit composée d’une ou deux plusieurs phrases, est par conséquent considérée comme un document :"
   ]
  },
  {
   "cell_type": "code",
   "execution_count": null,
   "id": "d8f3de7f-836d-47e6-b4dd-436ddf41179f",
   "metadata": {},
   "outputs": [],
   "source": [
    "for n, cue in enumerate(corpus[:3]):\n",
    "    print(f\"Réplique { n } : { cue }\")"
   ]
  },
  {
   "cell_type": "markdown",
   "id": "ee48ef00-28b7-43ce-95a0-b63411f32897",
   "metadata": {},
   "source": [
    "## Comprendre les étapes de la vectorisation"
   ]
  },
  {
   "cell_type": "markdown",
   "id": "fbd1d2e7-c1e1-411f-bd4d-e3c99d2e2287",
   "metadata": {},
   "source": [
    "### Concevoir la matrice des occurrences"
   ]
  },
  {
   "cell_type": "markdown",
   "id": "8c1ea5d0-fc85-4a22-a412-5118f073ba51",
   "metadata": {},
   "source": [
    "Créez une nouvelle instance de la classe `CountVectorizer` dans une variable `vectorizer` :"
   ]
  },
  {
   "cell_type": "code",
   "execution_count": null,
   "id": "9e6c9eef-1bed-49ec-8309-df28b7e3ca6b",
   "metadata": {},
   "outputs": [],
   "source": [
    "# your code here\n",
    "\n",
    "vectorizer = CountVectorizer()"
   ]
  },
  {
   "cell_type": "markdown",
   "id": "58143629-da0b-47e3-96ff-a0ced2f4d16e",
   "metadata": {},
   "source": [
    "Puis ajustez votre transformateur sur le corpus avant de l’exécuter, le tout avec la méthode `.fit_transform()` :"
   ]
  },
  {
   "cell_type": "code",
   "execution_count": null,
   "id": "eabc3d87-7d4c-4de1-8c5f-88d82a5c326d",
   "metadata": {},
   "outputs": [],
   "source": [
    "# your code here\n",
    "\n",
    "X = vectorizer.fit_transform(corpus)"
   ]
  },
  {
   "cell_type": "markdown",
   "id": "2efd7dad-ef61-422c-ba48-6683c839eb3a",
   "metadata": {
    "tags": []
   },
   "source": [
    "### Comprendre la génération du vocabulaire"
   ]
  },
  {
   "cell_type": "markdown",
   "id": "cb4dd335-8903-4c4b-9555-0c695663cf99",
   "metadata": {},
   "source": [
    "Lorsque vous ne fournissez aucun vocabulaire au constructeur, il appelle un analyseur qui retient les mots de deux lettres minimum. La méthode `.get_feature_names_out()` révèle les attributs conservés :"
   ]
  },
  {
   "cell_type": "code",
   "execution_count": null,
   "id": "8a2bc6cf-289f-4fa4-9a0f-2a148ae64f9b",
   "metadata": {},
   "outputs": [],
   "source": [
    "# your code here\n",
    "\n",
    "vectorizer.get_feature_names_out()"
   ]
  },
  {
   "cell_type": "markdown",
   "id": "c31f4278-8ac2-4377-98b5-48534262b39a",
   "metadata": {},
   "source": [
    "Une autre manière d’afficher le vocabulaire serait de passer par l’attribut spécial `.vocabulary_` qui expose un dictionnaire avec les mots retenus comme clés et leurs indices comme valeurs :"
   ]
  },
  {
   "cell_type": "code",
   "execution_count": null,
   "id": "2c6f940f-f799-4bf2-b4f6-50c7b5f70a21",
   "metadata": {},
   "outputs": [],
   "source": [
    "# your code here\n",
    "\n",
    "vectorizer.vocabulary_"
   ]
  },
  {
   "cell_type": "markdown",
   "id": "56ee82db-59c5-44e3-91e2-e307aa447854",
   "metadata": {},
   "source": [
    "La sortie étant de type `dict`, il est permis d’utiliser les méthodes liées aux dictionnaires pour manipuler le vocabulaire :"
   ]
  },
  {
   "cell_type": "code",
   "execution_count": null,
   "id": "436e0164-03ca-45ec-ae4c-e957636e4156",
   "metadata": {},
   "outputs": [],
   "source": [
    "# index of the word 'lièvre'\n",
    "vectorizer.vocabulary_.get('lièvre')"
   ]
  },
  {
   "cell_type": "markdown",
   "id": "80ae2178-01f6-40c9-a707-8a7c4522b5df",
   "metadata": {},
   "source": [
    "**Remarque :** une fois le transformateur ajusté sur le corpus, les mots inconnus n’auront aucun effet lors de tout appel ultérieur à une quelconque transformation :"
   ]
  },
  {
   "cell_type": "code",
   "execution_count": null,
   "id": "0a01f8af-1b43-44dd-9769-844e1f653657",
   "metadata": {},
   "outputs": [],
   "source": [
    "vectorizer.transform([\"The french word for 'hare' is 'lièvre'\"]).toarray()"
   ]
  },
  {
   "cell_type": "markdown",
   "id": "1970e5ad-66b0-4b57-a022-1e25f8aaf659",
   "metadata": {},
   "source": [
    "### Analyser explicitement un document"
   ]
  },
  {
   "cell_type": "markdown",
   "id": "d1937774-901a-4b06-810f-ba460ebf16db",
   "metadata": {},
   "source": [
    "L’étape de tokenisation est totalement transparente. Si vous avez besoin de la révéler, vous pouvez utiliser une méthode `.build_analyzer()` :"
   ]
  },
  {
   "cell_type": "code",
   "execution_count": null,
   "id": "18d44d59-6f23-4166-9864-64fbe678ae00",
   "metadata": {},
   "outputs": [],
   "source": [
    "analyze = vectorizer.build_analyzer()\n",
    "analyze(\"Vous ne manquez pas de souffle !\")"
   ]
  },
  {
   "cell_type": "markdown",
   "id": "012c3d3e-a610-48e5-af6c-a75c11e3bcba",
   "metadata": {
    "tags": []
   },
   "source": [
    "### Manipuler la matrice"
   ]
  },
  {
   "cell_type": "markdown",
   "id": "b0e456a6-9bb6-4134-bed0-520a9dd28e1c",
   "metadata": {},
   "source": [
    "Vérifiez le bon résultat de la transformation avec la méthode `.toarray()` :"
   ]
  },
  {
   "cell_type": "code",
   "execution_count": null,
   "id": "6635f998-7636-42a9-954b-75818084eacd",
   "metadata": {},
   "outputs": [],
   "source": [
    "# your code here\n",
    "\n",
    "X.toarray()"
   ]
  },
  {
   "cell_type": "markdown",
   "id": "8e0b45a1-f4bb-4440-a965-95641ad306ff",
   "metadata": {},
   "source": [
    "En interrogeant l’attribut `.shape`, vérifiez maintenant que vous disposez bien d’une matrice $(52, 278)$, signifiant que votre vocabulaire est composé de 278 mots et que votre corpus contient 52 documents (les répliques) :"
   ]
  },
  {
   "cell_type": "code",
   "execution_count": null,
   "id": "3be6e93d-0a78-473c-a510-1a34cdd9fc5f",
   "metadata": {},
   "outputs": [],
   "source": [
    "# your code here\n",
    "\n",
    "X.shape"
   ]
  },
  {
   "cell_type": "markdown",
   "id": "caea2a21-916e-4f64-a613-c6f3fb8b43f4",
   "metadata": {},
   "source": [
    "Comme la matrice des occurrences représente la fréquence brute de chaque mot du vocabulaire dans les répliques de l’épisode, vous pouvez rapidement retrouver où le mot *lièvre*, situé à l’indice 142, est utilisé en la transposant :"
   ]
  },
  {
   "cell_type": "code",
   "execution_count": null,
   "id": "d594a582-54dc-4fcf-8631-b6a6f1aca886",
   "metadata": {},
   "outputs": [],
   "source": [
    "print(X.T[142])"
   ]
  },
  {
   "cell_type": "markdown",
   "id": "def1c213-3cf0-453a-b9f6-cd59c761b2a5",
   "metadata": {},
   "source": [
    "Au besoin, vérifiez directement dans le corpus :"
   ]
  },
  {
   "cell_type": "code",
   "execution_count": null,
   "id": "3e529c1c-0eaf-4c47-9208-3f5527928e10",
   "metadata": {},
   "outputs": [],
   "source": [
    "print(corpus[0], corpus[2], corpus[5], sep=\"\\n\")"
   ]
  },
  {
   "cell_type": "markdown",
   "id": "a0bba10f-72bb-43f5-b7a7-952a9ed545ca",
   "metadata": {},
   "source": [
    "## Vectoriser des $n$-grammes"
   ]
  },
  {
   "cell_type": "markdown",
   "id": "e74f82a9-8c48-4e87-b024-bf11876ef2c9",
   "metadata": {},
   "source": [
    "L’une des fonctionnalités les plus intéressantes de la classe `CountVectorizer` est de pouvoir ajouter au vocabulaire des associations de mots comme, par exemple, des bigrammes :"
   ]
  },
  {
   "cell_type": "code",
   "execution_count": null,
   "id": "3518b7ca-a645-45d2-98d6-a5d08a621ff9",
   "metadata": {},
   "outputs": [],
   "source": [
    "bigram_vectorizer = CountVectorizer(ngram_range=(1, 2))\n",
    "X_2 = bigram_vectorizer.fit_transform(corpus)\n",
    "\n",
    "X_2.shape"
   ]
  },
  {
   "cell_type": "markdown",
   "id": "62ef1725-ed7d-4bb5-948f-0ec5a6f48c2a",
   "metadata": {},
   "source": [
    "Pour se limiter aux 2-grammes sans inclure les 1-grammes, il convient de jouer avec la borne inférieure du paramètre `ngram_range` :"
   ]
  },
  {
   "cell_type": "code",
   "execution_count": null,
   "id": "218d4353-0cda-4d56-8b69-35ea6ba13a30",
   "metadata": {},
   "outputs": [],
   "source": [
    "bigram_vectorizer = CountVectorizer(ngram_range=(2, 2))\n",
    "X_2 = bigram_vectorizer.fit_transform(corpus)\n",
    "\n",
    "X_2.shape"
   ]
  },
  {
   "cell_type": "markdown",
   "id": "3894ed46-97d7-4dcb-9b88-2064892aac39",
   "metadata": {},
   "source": [
    "En combinant avec un autre paramètre, `min_df`, on peut se contenter de n’inclure que des $n$-grammes qui répondent à un critère de fréquence :"
   ]
  },
  {
   "cell_type": "code",
   "execution_count": null,
   "id": "e0171f6e-ebbe-4da2-b124-0c29ce4e0835",
   "metadata": {},
   "outputs": [],
   "source": [
    "bigram_vectorizer = CountVectorizer(\n",
    "    ngram_range=(2, 2),\n",
    "    min_df=3\n",
    ")\n",
    "\n",
    "X_2 = bigram_vectorizer.fit_transform(corpus)\n",
    "\n",
    "print(bigram_vectorizer.vocabulary_)"
   ]
  }
 ],
 "metadata": {
  "kernelspec": {
   "display_name": "Python 3 (ipykernel)",
   "language": "python",
   "name": "python3"
  },
  "language_info": {
   "codemirror_mode": {
    "name": "ipython",
    "version": 3
   },
   "file_extension": ".py",
   "mimetype": "text/x-python",
   "name": "python",
   "nbconvert_exporter": "python",
   "pygments_lexer": "ipython3",
   "version": "3.10.6"
  }
 },
 "nbformat": 4,
 "nbformat_minor": 5
}
