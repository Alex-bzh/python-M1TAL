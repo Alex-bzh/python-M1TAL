{
 "cells": [
  {
   "cell_type": "markdown",
   "id": "b4736480-e9b8-446f-aefd-df4eba3e7c67",
   "metadata": {},
   "source": [
    "# L’apprentissage automatique"
   ]
  },
  {
   "cell_type": "markdown",
   "id": "de31a2c2-e401-40ad-a0d4-c7d7459ecd1a",
   "metadata": {
    "tags": []
   },
   "source": [
    "## Définition"
   ]
  },
  {
   "cell_type": "markdown",
   "id": "c2d1c628-ce48-4939-af73-815e661c3259",
   "metadata": {},
   "source": [
    "Par apprentissage automatique (*machine learning* en anglais), on désigne l’ensemble des méthodes mathématiques et statistiques qui programment un ordinateur dans le but de l’aider à améliorer sa faculté à résoudre des tâches.\n",
    "\n",
    "Traditionnellement, on distingue deux types d’aprentissages :\n",
    "- L’apprentissage supervisé, grâce auquel le système apprend à partir de données annotées ;\n",
    "- l’apprentissage non supervisé, où le système est entraîné à détecter quels traits, parmi toutes les variables d’un jeu de données, lui permettront d’en révéler la structure sous-jacente.\n",
    "\n",
    "L’ambition fondamentale de l’apprentissage automatique est de fournir des modèles prédictifs ou d’effectuer des opérations de détection (anomalies, nouveautés, similitudes…)."
   ]
  },
  {
   "cell_type": "markdown",
   "id": "e83fe41c-8b47-46d3-b48b-4fc51e549351",
   "metadata": {
    "tags": []
   },
   "source": [
    "## Focus sur l’apprentissage supervisé"
   ]
  },
  {
   "cell_type": "markdown",
   "id": "d084819f-fc71-4885-822c-43eef6e34508",
   "metadata": {
    "tags": []
   },
   "source": [
    "### De l’importance des données"
   ]
  },
  {
   "cell_type": "markdown",
   "id": "a1d5e4dc-ed21-47fe-8f95-d7253dbadcf0",
   "metadata": {
    "jp-MarkdownHeadingCollapsed": true,
    "tags": []
   },
   "source": [
    "Afin de programmer efficacement un modèle prédictif dans le cadre d’un apprentissage supervisé, il est impératif d’avoir à disposition un jeu de données annotées qui soit à la fois fiable, équilibré et aussi large que possible. Toute donnée manquante ou toute erreur d’annotation pèsera davantage dans la performance du modèle si le volume de données est faible. Dans le même ordre d’idée, une classe surreprésentée dans le jeu de données d’entraînement aura plus tendance à être affectée lors de la résolution de la tâche.\n",
    "\n",
    "Le proverbe à garder en tête : *rubbish in, rubbish out*. Si vous fournissez des données absurdes en entrée, le système fournira des données absurdes en sortie. Contrairement à la logique humaine, des prémisses fausses dans un argument informatique ne semblent pas encore pouvoir aboutir à une conclusion vraie !\n",
    "\n",
    "> Les oiseaux n’ont pas d’aile.  \n",
    "> Socrate est un oiseau.  \n",
    "> Socrate n’a pas d’aile."
   ]
  },
  {
   "cell_type": "markdown",
   "id": "414fb80d-44fe-4597-8360-4bfc780d8828",
   "metadata": {
    "tags": []
   },
   "source": [
    "### Des algorithmes en œuvre"
   ]
  },
  {
   "cell_type": "markdown",
   "id": "377f2e24-2568-48f0-867c-1d0342bd2ae5",
   "metadata": {
    "tags": []
   },
   "source": [
    "Deux grandes familles se disputent la programmation du système en fonction de la nature de la tâche :\n",
    "- Soit la prévision est dite *qualitative* (ou *discrète*) et l’on parle de **classification** ;\n",
    "- soit elle est dite *quantitative* (ou *continue*) et l’on parle alors de **régression**.\n",
    "\n",
    "Par exemple, une tâche de classification serait de déterminer si une critique est positive ou négative, si tel arbre tient plutôt du chêne ou du bouleau, si une personne est riche ou pauvre, etc. Pour la régression, on chercherait plutôt à estimer quel est le salaire qu’un·e étudiant·e peut espérer à la sortie d’un diplôme, quelles sont les températures attendues pour les prochains jours, ou encore à quel prix pourrait se vendre un T2 avec terrasse dans le 12e arrondissement de Paris."
   ]
  },
  {
   "cell_type": "markdown",
   "id": "65fb5452-6e40-40cf-b6fc-5f4d4943533a",
   "metadata": {
    "tags": []
   },
   "source": [
    "### De l’art de paramétrer un modèle"
   ]
  },
  {
   "cell_type": "markdown",
   "id": "17c6f5db-eada-4f31-8324-2304e7fa3f5b",
   "metadata": {},
   "source": [
    "Grâce aux bibliothèques spécialisées, la mise en place d’un *workflow* pour l’apprentissage est somme toute assez triviale. Il s’agira grossièrement de :\n",
    "1. Partitionner le jeu de données en deux parties inégales (données d’entraînement et données de test) ;\n",
    "2. entraîner le modèle et le tester le modèle avec des données vérifiées ;\n",
    "3. évaluer la performance du modèle.\n",
    "\n",
    "Le véritable travail s’effectue en amont, autant dans la compréhension des données que dans leur préparation. La phase de *pre-processing* est cruciale dans un projet de *machine learning* et peut elle-même utiliser des algorithmes d’apprentissage automatique (ex. : détection d’anomalies, réduction de la dimensionnalité…).\n",
    "\n",
    "Les opérations à réaliser impliqueront de nettoyer le jeu de données en supprimant par exemple les données aberrantes (revenus salariaux négatifs), en les corrigeant (attribution d’une mauvaise étiquette) ou encore en les normalisant (format des dates, conversion d’une donnée catégorielle binaire en booléen).\n",
    "\n",
    "Le modèle obtenu, il restera à ajuster finement les paramètres afin d’améliorer la mesure de performance."
   ]
  },
  {
   "cell_type": "markdown",
   "id": "dcd3655b-d114-42cc-bc96-e20dd0723739",
   "metadata": {
    "tags": []
   },
   "source": [
    "## Une affaire de manchots"
   ]
  },
  {
   "cell_type": "markdown",
   "id": "4001fc66-9891-4be4-8a09-e09cd2fdbdac",
   "metadata": {},
   "source": [
    "À partir de la description de certaines caractéristiques physiques de trois espèces de manchots de l’Antarctique (Adélie, Gentoo et Chinstrap), imaginons pour objectif de fournir un programme qui déterminerait à quelle espèce tel ou tel nouvel individu appartiendrait.\n",
    "\n",
    "|Longueur du bec|Largeur du bec|Longueur des nageoires|Masse|Espèce|\n",
    "|-:|-:|-:|-:|:-:|\n",
    "|39.1|18.7|181|3750|Adélie|\n",
    "|37.8|18.3|174|3400|Adélie|\n",
    "|49.6|16|225|5700|Gentoo|\n",
    "|42.7|13.7|208|3950|Gentoo|\n",
    "|49.3|19.9|203|4050|Chinstrap|\n",
    "|43.5|18.1|202|3400|Chinstrap|"
   ]
  },
  {
   "cell_type": "markdown",
   "id": "05323c1f-6b9f-4773-8670-2d51e2cec06b",
   "metadata": {
    "tags": []
   },
   "source": [
    "### Quelques observations"
   ]
  },
  {
   "cell_type": "markdown",
   "id": "db6b6d6b-e5a2-4ee8-85fa-486370180693",
   "metadata": {
    "tags": []
   },
   "source": [
    "Sur la seule base des caractéristiques fournies dans le tableau ci-dessus, en dehors du fait que le nombre d’individus est insuffisant et que les Chinstrap sont sous-représentés, on remarque que :\n",
    "- Les Gentoos ont plus de masse que les deux autres ;\n",
    "- la masse seule ne permet pas de différencier les Adélie des Chinstrap ;\n",
    "- qu’il en va de même pour la longueur du bec qui est plus plus court chez les Adélie ;\n",
    "- … et que la longueur des nageoires est également insuffisante pour discriminer les trois espèces."
   ]
  },
  {
   "cell_type": "markdown",
   "id": "e26a0356-ab69-44c5-abed-29ee5cc372ae",
   "metadata": {
    "tags": []
   },
   "source": [
    "### Visualiser les données"
   ]
  },
  {
   "cell_type": "markdown",
   "id": "fc513033-4929-4aec-a14e-214249ac38e5",
   "metadata": {
    "jp-MarkdownHeadingCollapsed": true,
    "tags": []
   },
   "source": [
    "L’idée est alors de comparer deux caractéristiques pour dégager des associations nettes et, dans ce domaine, rien de tel qu’un diagramme pour effectuer rapidement des observations.\n",
    "\n",
    "Essayons avec les deux premières caractéristiques, la longueur et la largeur du bec des différentes espèces :\n",
    "\n",
    "![Répartition des espèces de manchots en fonction des dimensions de leur bec](./images/bill-dimensions.png)\n",
    "\n",
    "Et maintenant avec toutes les caractéristiques entre elles :\n",
    "\n",
    "![Répartition des espèces de manchots en fonction de leurs caractéristiques physiques](./images/penguin-dimensions.png)\n",
    "\n",
    "En cherchant les appariements où les cas de chevauchement sont les plus limités, il apparaît que la longueur du bec est la plus discriminante, surtout quand elle est associée à la largeur du bec. L’idée que deux dimensions d’un même organe soient corrélées n’a en plus rien d’aberrant. Si les données avaient été nettement plus volumineuses, il aurait été profitable d’agréger les deux variables. On parle alors d’extraction de variables (*features extraction*) dans le cadre d’une réduction de dimension."
   ]
  },
  {
   "cell_type": "markdown",
   "id": "3cc1f05b-82a3-488d-8f0b-f195fe2fc6f0",
   "metadata": {
    "tags": []
   },
   "source": [
    "### Distribution des données"
   ]
  },
  {
   "cell_type": "markdown",
   "id": "be94eaf6-4b3f-45c5-9998-46442f1ec8a3",
   "metadata": {},
   "source": [
    "Le dénombrement des effectifs du jeu de données montre la répartition suivante :\n",
    "- Adélie : 152\n",
    "- Gentoo : 124\n",
    "- Chinstrap : 68\n",
    "\n",
    "Le déséquilibre entre les résultats pose la question de la représentativité. Bien souvent, une étape de redimensionnement sera un préalable à tout apprentissage."
   ]
  },
  {
   "cell_type": "markdown",
   "id": "7857c464-6d0b-4504-9b50-2556d11aa55c",
   "metadata": {
    "tags": []
   },
   "source": [
    "### Partitionnement des jeux d’entraînement et de test"
   ]
  },
  {
   "cell_type": "markdown",
   "id": "b9fd19af-35b6-41ac-a02c-666d0094a610",
   "metadata": {},
   "source": [
    "De manière habituelle, on conseille un partitionnement 80/20 ou 75/25. Sur 344 individus dans le jeu de données, on en sélectionne donc 275 pour le jeu d’entraînement et 69 pour le jeu de test.\n",
    "\n",
    "On veillera également à ce qu’une espèce ne soit pas surreprésentée. Dans notre cas, sont recensés d’abord les Adélie, puis les Gentoo et enfin les Chinstrap. Comme ces derniers ne sont qu’au nombre de 68 et que le jeu de test sera constitué de 69 individus, ils ne seront pas du tout présents dans le jeu d’entraînement ! Le système sera donc incapable d’effectuer des prédictions convenables. La solution consiste à mélanger les observations, une opération qui sera d’autant plus efficace que la distribution aura été équilibrée."
   ]
  },
  {
   "cell_type": "markdown",
   "id": "6fdeba0b-dc3b-41f9-8d4e-2940a5e47d1c",
   "metadata": {
    "tags": []
   },
   "source": [
    "### Évaluation de la performance du modèle"
   ]
  },
  {
   "cell_type": "markdown",
   "id": "66f74792-7856-4a87-8540-dc5f2337ac39",
   "metadata": {},
   "source": [
    "Une fois le modèle entraîné, la dernière étape avant de le confronter à des données inédites consiste à le confronter au jeu de test et à comparer les prévisions avec les annotations. Le premier résultat à considérer est le taux de succès en divisant le nombre de prédictions correctes avec le nombre total d’observations dans le jeu de test (69).\n",
    "\n",
    "Prenons le cas fictif où les cinq premières observations et prévisions seraient :\n",
    "\n",
    "|n|observation|prévision|concordance|\n",
    "|-:|-|-|-|\n",
    "|0|Adelie|Adelie|vrai|\n",
    "|1|Gentoo|Adelie|faux|\n",
    "|2|Gentoo|Gentoo|vrai|\n",
    "|3|Chinstrap|Chinstrap|vrai|\n",
    "|4|Gentoo|Gentoo|vrai|\n",
    "\n",
    "Quatre prévisions correctes sur cinq donne un taux de succès de 80 %. On parle alors d’exactitude (*accuracy*)."
   ]
  },
  {
   "cell_type": "markdown",
   "id": "ba6178c2-e0c9-419c-93c9-631f09b37816",
   "metadata": {
    "tags": []
   },
   "source": [
    "### À propos des données"
   ]
  },
  {
   "cell_type": "markdown",
   "id": "3d65c10b-a5ef-4b16-a52a-46083047fbd1",
   "metadata": {},
   "source": [
    "> Gorman KB, Williams TD, Fraser WR (2014). Ecological sexual dimorphism and environmental variability within a community of Antarctic penguins (genus *Pygoscelis*). PLoS ONE 9(3):e90081. https://doi.org/10.1371/journal.pone.0090081"
   ]
  }
 ],
 "metadata": {
  "kernelspec": {
   "display_name": "Python 3 (ipykernel)",
   "language": "python",
   "name": "python3"
  },
  "language_info": {
   "codemirror_mode": {
    "name": "ipython",
    "version": 3
   },
   "file_extension": ".py",
   "mimetype": "text/x-python",
   "name": "python",
   "nbconvert_exporter": "python",
   "pygments_lexer": "ipython3",
   "version": "3.10.5"
  }
 },
 "nbformat": 4,
 "nbformat_minor": 5
}
