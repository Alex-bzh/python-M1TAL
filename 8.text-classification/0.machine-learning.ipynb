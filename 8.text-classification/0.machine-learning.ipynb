{
 "cells": [
  {
   "cell_type": "markdown",
   "id": "b4736480-e9b8-446f-aefd-df4eba3e7c67",
   "metadata": {},
   "source": [
    "# L’apprentissage automatique"
   ]
  },
  {
   "cell_type": "markdown",
   "id": "de31a2c2-e401-40ad-a0d4-c7d7459ecd1a",
   "metadata": {
    "tags": []
   },
   "source": [
    "## Définition\n",
    "\n",
    "Par apprentissage automatique (*machine learning* en anglais), on désigne l’ensemble des méthodes mathématiques et statistiques qui programment un ordinateur dans le but de l’aider à améliorer sa faculté à résoudre des tâches.\n",
    "\n",
    "Traditionnellement, on distingue deux types d’aprentissages :\n",
    "- L’apprentissage supervisé, grâce auquel le système apprend à partir de données annotées ;\n",
    "- l’apprentissage non supervisé, où le système est entraîné à détecter quels traits, parmi toutes les variables d’un jeu de données, lui permettront d’en révéler la structure sous-jacente.\n",
    "\n",
    "L’ambition fondamentale de l’apprentissage automatique est de fournir des modèles prédictifs."
   ]
  },
  {
   "cell_type": "markdown",
   "id": "e83fe41c-8b47-46d3-b48b-4fc51e549351",
   "metadata": {
    "jp-MarkdownHeadingCollapsed": true,
    "tags": []
   },
   "source": [
    "## Focus sur l’apprentissage supervisé\n",
    "\n",
    "### De l’importance des données\n",
    "\n",
    "Afin de programmer efficacement un modèle prédictif dans le cadre d’un apprentissage supervisé, il est impératif d’avoir à disposition un jeu de données annotées qui soit à la fois fiable, équilibré et aussi large que possible. Toute donnée manquante ou toute erreur d’annotation pèsera davantage dans la performance du modèle si le volume de données est faible. Dans le même ordre d’idée, une classe surreprésentée dans le jeu de données d’entraînement aura plus tendance à être affectée lors de la résolution de la tâche.\n",
    "\n",
    "### Des algorithmes en œuvre\n",
    "\n",
    "Deux grandes familles se disputent la programmation du système en fonction de la nature de la tâche :\n",
    "- Soit la prévision est dite *qualitative* (ou *discrète*) et l’on parle de **classification** ;\n",
    "- soit elle est dite *quantitative* (ou *continue*) et l’on parle alors de **régression**.\n",
    "\n",
    "Par exemple, une tâche de classification serait de déterminer si une critique est positive ou négative, si tel arbre tient plutôt du chêne ou du bouleau, si une personne est riche ou pauvre, etc. Pour la régression, on chercherait plutôt à estimer quel est le salaire qu’un·e étudiant·e peut espérer à la sortie d’un diplôme, quelles sont les températures attendues pour les prochains jours, ou encore à quel prix pourrait se vendre un T2 avec terrasse dans le 12e arrondissement de Paris.\n",
    "\n",
    "### De l’art de paramétrer un modèle\n",
    "\n",
    "Grâce aux bibliothèques spécialisées, la mise en place d’un *workflow* pour l’apprentissage est somme toute assez triviale. Il s’agira grossièrement de :\n",
    "1. Partitionner le jeu de données en deux parties inégales (données d’entraînement et données de test) ;\n",
    "2. entraîner le modèle et le tester le modèle avec des données vérifiées ;\n",
    "3. évaluer la performance du modèle.\n",
    "\n",
    "Le véritable travail s’effectue en amont, autant dans la compréhension des données que dans leur préparation."
   ]
  },
  {
   "cell_type": "markdown",
   "id": "b9fd19af-35b6-41ac-a02c-666d0094a610",
   "metadata": {},
   "source": [
    "## Une affaire de manchots\n",
    "\n",
    "À partir de la description de certaines caractéristiques physiques de trois espèces de manchots de l’Antarctique (Adélie, Gentoo et Chinstrap), imaginons pour objectif de fournir un programme qui déterminerait à quelle espèce tel ou tel nouvel individu appartiendrait.\n",
    "\n",
    "|Longueur du bec|Largeur du bec|Longueur des nageoires|Masse|Espèce|\n",
    "|-:|-:|-:|-:|:-:|\n",
    "|39.1|18.7|181|3750|Adélie|\n",
    "|37.8|18.3|174|3400|Adélie|\n",
    "|49.6|16|225|5700|Gentoo|\n",
    "|42.7|13.7|208|3950|Gentoo|\n",
    "|49.3|19.9|203|4050|Chinstrap|\n",
    "|43.5|18.1|202|3400|Chinstrap|\n",
    "\n",
    "### Quelques observations\n",
    "\n",
    "Sur la seule base des caractéristiques fournies dans le tableau ci-dessus, en dehors du fait que le nombre d’individus est insuffisant et que les Chinstrap sont sous-représentés, on remarque que :\n",
    "- Les Gentoos ont plus de masse que les deux autres ;\n",
    "- la masse seule ne permet pas de différencier les Adélie des Chinstrap ;\n",
    "- qu’il en va de même pour la longueur du bec qui est plus plus court chez les Adélie ;\n",
    "- … et que la longueur des nageoires est également insuffisante pour discriminer les trois espèces.\n",
    "\n",
    "### Visualiser les données\n",
    "\n",
    "L’idée est alors de comparer deux caractéristiques pour dégager des associations nettes et, dans ce domaine, rien de tel qu’un diagramme pour effectuer rapidement des observations.\n",
    "\n",
    "Essayons avec les deux premières caractéristiques, la longueur et la largeur du bec des différentes espèces :\n",
    "\n",
    "![Répartition des espèces de manchots en fonction des dimensions de leur bec](./images/bill-dimensions.png)\n",
    "\n",
    "Et maintenant avec toutes les caractéristiques entre elles :\n",
    "\n",
    "![Répartition des espèces de manchots en fonction de leurs caractéristiques physiques](./images/penguin-dimensions.png)\n",
    "\n",
    "En cherchant les appariements où les cas de chevauchement sont les plus limités, il apparaît que la longueur du bec est la plus discriminante, surtout quand elle est associée à la largeur du bec.\n",
    "\n",
    "### Distribution des données\n",
    "\n",
    "Le dénombrement des effectifs du jeu de données montre la répartition suivante :\n",
    "- Adélie : 152\n",
    "- Gentoo : 124\n",
    "- Chinstrap : 68\n",
    "\n",
    "Le déséquilibre entre les résultats pose la question de la représentativité. Bien souvent, une étape de redimensionnement sera un préalable à tout apprentissage.\n",
    "\n",
    "### Partitionnement des jeux d’entraînement et de test\n",
    "\n",
    "De manière habituelle, on conseille un partitionnement 80/20 ou 75/25. Sur 344 individus dans le jeu de données, on en sélectionne donc 275 pour le jeu d’entraînement et 69 pour le jeu de test.\n",
    "\n",
    "On veillera également à ce qu’une espèce ne soit pas surreprésentée. Dans notre cas, sont recensés d’abord les Adélie, puis les Gentoo et enfin les Chinstrap. Comme ces derniers ne sont qu’au nombre de 68 et que le jeu de test sera constitué de 69 individus, ils ne seront pas du tout présents dans le jeu d’entraînement ! Le système sera donc incapable d’effectuer des prédictions convenables. La solution consiste à mélanger les observations, une opération qui sera d’autant plus efficace que la distribution aura été équilibrée.\n",
    "\n",
    "### Évaluation de la performance du modèle\n",
    "\n",
    "Une fois le modèle entraîné, la dernière étape avant de le confronter à des données inédites consiste à le confronter au jeu de test et à comparer les prévisions avec les annotations. Le premier résultat à considérer est le taux de succès en divisant le nombre de prédictions correctes avec le nombre total d’observations dans le jeu de test (69).\n",
    "\n",
    "Prenons le cas fictif où les cinq premières observations et prévisions seraient :\n",
    "\n",
    "|n|observation|prévision|concordance|\n",
    "|-:|-|-|-|\n",
    "|0|Adelie|Adelie|vrai|\n",
    "|1|Gentoo|Adelie|faux|\n",
    "|2|Gentoo|Gentoo|vrai|\n",
    "|3|Chinstrap|Chinstrap|vrai|\n",
    "|4|Gentoo|Gentoo|vrai|\n",
    "\n",
    "Quatre prévisions correctes sur cinq donne un taux de succès de 80 %.\n",
    "\n",
    "### À propos des données\n",
    "\n",
    "> Gorman KB, Williams TD, Fraser WR (2014). Ecological sexual dimorphism and environmental variability within a community of Antarctic penguins (genus *Pygoscelis*). PLoS ONE 9(3):e90081. https://doi.org/10.1371/journal.pone.0090081"
   ]
  }
 ],
 "metadata": {
  "kernelspec": {
   "display_name": "Python 3 (ipykernel)",
   "language": "python",
   "name": "python3"
  },
  "language_info": {
   "codemirror_mode": {
    "name": "ipython",
    "version": 3
   },
   "file_extension": ".py",
   "mimetype": "text/x-python",
   "name": "python",
   "nbconvert_exporter": "python",
   "pygments_lexer": "ipython3",
   "version": "3.10.5"
  }
 },
 "nbformat": 4,
 "nbformat_minor": 5
}
