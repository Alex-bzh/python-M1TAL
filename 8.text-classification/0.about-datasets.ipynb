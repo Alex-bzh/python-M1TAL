{
 "cells": [
  {
   "cell_type": "markdown",
   "id": "41a3ca3d-3503-4fe0-87ff-b6692d90b204",
   "metadata": {},
   "source": [
    "# À propos des jeux de données"
   ]
  },
  {
   "cell_type": "markdown",
   "id": "2cd68534-4ffc-480c-bad4-f2d3e2cbfe43",
   "metadata": {
    "jp-MarkdownHeadingCollapsed": true,
    "tags": []
   },
   "source": [
    "## Arrests for Marijuana Possession"
   ]
  },
  {
   "cell_type": "markdown",
   "id": "937201be-1e46-435e-bb10-2bb206618fd4",
   "metadata": {},
   "source": [
    "**Fichier :** [arrests.csv](./data/arrests.csv)\n",
    "\n",
    "L’enquête enregistre des données relatives au traitement de personnes arrêtées à Toronto en possession d’une petite quantité de marijuana."
   ]
  },
  {
   "cell_type": "markdown",
   "id": "d1e7c61d-155c-4e70-bb78-a26c5819ed0e",
   "metadata": {},
   "source": [
    "### Contenu"
   ]
  },
  {
   "cell_type": "markdown",
   "id": "0612c9a3-b30c-4960-9756-d83fea228c04",
   "metadata": {},
   "source": [
    "|Variable|Signification|\n",
    "|:-:|-|\n",
    "|*released*|La personne arrêtée a-t-elle été libérée avec une citation à comparaître. Facteur à deux niveaux : *Yes* ou *No*.|\n",
    "|*year*|Année de l’arrestation, de 1997 à 2002.|\n",
    "|*age*|Âge de la personne arrêtée, en années.|\n",
    "|*sex*|Facteur à deux niveaux : *Female* ou *Male*.|\n",
    "|*employed*|La personne arrêtée a-t-elle un emploi. Facteur à deux niveaux : *Yes* ou *No*.|\n",
    "|*citizen*|La personne arrêtée est-elle résidente de Toronto ? Facteur à deux niveaux : *Yes* ou *No*.|\n",
    "|*checks*|Nombre d’apparitions du nom de la personne arrêtée dans les différentes bases de données de la police. Vecteur numérique de 0 à 6.|"
   ]
  },
  {
   "cell_type": "markdown",
   "id": "ed909b76-b210-4410-9574-ed064439ba0e",
   "metadata": {},
   "source": [
    "### Références"
   ]
  },
  {
   "cell_type": "markdown",
   "id": "9bcd6048-78be-4c74-b27a-470bc2643686",
   "metadata": {},
   "source": [
    "\n",
    "- Personal communication from Michael Friendly, York University."
   ]
  },
  {
   "cell_type": "markdown",
   "id": "726cb248-b95b-49e4-88a7-ceea7f667f05",
   "metadata": {
    "jp-MarkdownHeadingCollapsed": true,
    "tags": []
   },
   "source": [
    "## Better Life Index 2021"
   ]
  },
  {
   "cell_type": "markdown",
   "id": "8420bba7-5162-4503-99cb-a7f3a72d88d0",
   "metadata": {},
   "source": [
    "**Fichier :** [better-life-index-women-2021.csv](./data/better-life-index-women-2021.csv)\n",
    "\n",
    "Ce fichier est une extraction de plusieurs indicateurs de l’enquête *Better Life 2021*, limité aux données concernant les femmes des pays de l’OCDE et augmenté de la Russie et de l’Afrique du Sud."
   ]
  },
  {
   "cell_type": "markdown",
   "id": "45385dee-db74-4adb-b489-99db10164d99",
   "metadata": {},
   "source": [
    "### Contenu"
   ]
  },
  {
   "cell_type": "markdown",
   "id": "7dbd2463-d860-4580-b58d-aae9ecbfa21e",
   "metadata": {},
   "source": [
    "|Variable|Signification|\n",
    "|:-:|-|\n",
    "|*code du pays*|Pays|\n",
    "|*country*|Pays|\n",
    "|*PS_FSAFEN*|Se sentir en sécurité quand on marche seul la nuit|\n",
    "|*JE_EMPL*|Taux d’emploi|\n",
    "|*JE_LTUR*|Taux de chômage de longue durée|\n",
    "|*SC_SNTWS*|Qualité du réseau social|\n",
    "|*ES_EDUA*|Niveau d’instruction|\n",
    "|*ES_STCS*|Compétences des élèves|\n",
    "|*ES_EDUEX*|Années de scolarité|\n",
    "|*EQ_WATER*|Qualité de l’eau|\n",
    "|*HS_LEB*|Espérance de vie|\n",
    "|*HS_SFRH*|Auto-évaluation de l’état de santé|\n",
    "|*SW_LIFS*|Satisfaction à l’égard de la vie|\n",
    "|*PS_REPH*|Taux d’homicides|\n",
    "|*WL_EWLH*|Horaires de travail lourds|"
   ]
  },
  {
   "cell_type": "markdown",
   "id": "9521fba0-f823-4edc-b4db-ce36095dc6c1",
   "metadata": {
    "jp-MarkdownHeadingCollapsed": true,
    "tags": []
   },
   "source": [
    "## Satisfaction à l’hôpital"
   ]
  },
  {
   "cell_type": "markdown",
   "id": "340d7440-9aec-46a1-bdd9-9ff3e6cc8307",
   "metadata": {},
   "source": [
    "**Fichier :** [satisfaction-hopital.csv](./data/satisfaction-hopital.csv)\n",
    "\n",
    "Évaluation de la satisfaction d’un patient relativement à son séjour à l’hôpital."
   ]
  },
  {
   "cell_type": "markdown",
   "id": "cb174a93-2b8e-441b-8b40-b02ee9db351e",
   "metadata": {},
   "source": [
    "### Contenu"
   ]
  },
  {
   "cell_type": "markdown",
   "id": "bb0ff960-cfb5-401f-bb60-d906efd9a6b5",
   "metadata": {},
   "source": [
    "|Variable|Signification|\n",
    "|:-:|-|\n",
    "|*service*|Code (de 1 à 8) du service ayant accueilli le patient|\n",
    "|*sexe*|Sexe du patient (0 homme, 1 femme)|\n",
    "|*age*|âge en années|\n",
    "|*profession*|<ol><li>agriculteur exploitant</li><li>artisan, commerçant, chef d'entreprise</li><li>cadre, profession intellectuelle ou artistique, profession libérale</li><li>profession intermédiaire de l'enseignement, de la santé, du travail social ou de la fonction publique, technicien, contremaître, agent de maîtrise, clergé</li><li>employé</li><li>ouvrier</li><li>étudiant, militaire, chômeur sans avoir jamais travaillé</li><li>autre</li></ol>|\n",
    "|*amelioration.sante*|Impression d’amélioration de la santé du fait du séjour à l’hôpital (codé de 0 : aggravée, à 3 : nettement améliorée)|\n",
    "|*amelioration.moral*|Impression d’amélioration du moral du fait du séjour à l’hôpital (codé de 0 : aggravé, à 3 : nettement amélioré)|\n",
    "|*recommander*|recommander le service à son entourage (codé 0 : non, 1 : oui, probablement, 2 : oui, sûrement)|\n",
    "|*score.information*|score relatif à la qualité de l’information reçue pendant le séjour (score variant de 10 à 40)|\n",
    "|*score.relation*|score relatif à la qualité des relations avec le personnel soignant pendant le séjour (score variant de 10 à 40)|"
   ]
  },
  {
   "cell_type": "markdown",
   "id": "09533e0a-d7ac-4547-b090-30a2e6ae4660",
   "metadata": {
    "jp-MarkdownHeadingCollapsed": true,
    "tags": []
   },
   "source": [
    "## Self-Reports of Height and Weight"
   ]
  },
  {
   "cell_type": "markdown",
   "id": "a3f2389c-d9c3-4eb2-b29f-ff3ece5e0fa7",
   "metadata": {},
   "source": [
    "**Fichier :** [davis.csv](./data/davis.csv)\n",
    "\n",
    "Des hommes et des femmes engagé·es dans un programme d’exercices ont dû évaluer leur taille et leur poids. Le résultat est comparé aux valeurs mesurées."
   ]
  },
  {
   "cell_type": "markdown",
   "id": "d5c7a803-6504-4e08-9cee-67f61f10f73e",
   "metadata": {},
   "source": [
    "### Contenu"
   ]
  },
  {
   "cell_type": "markdown",
   "id": "940eb676-4c30-4a33-889f-7bf9c838e75b",
   "metadata": {},
   "source": [
    "|Variable|Signification|\n",
    "|:-:|-|\n",
    "|*sex*|Facteur à deux niveaux : *female* ou *male*.|\n",
    "|*weight*|Poids mesuré (en kg).|\n",
    "|*height*|Taille mesurée (en cm).|\n",
    "|*repwt*|Poids évalué par l’individu (en kg).|\n",
    "|*repht*|Taille évaluée par l’individu (en cm).|"
   ]
  },
  {
   "cell_type": "markdown",
   "id": "57857caf-a89c-4994-b8a0-fb41211d43bb",
   "metadata": {},
   "source": [
    "### Références"
   ]
  },
  {
   "cell_type": "markdown",
   "id": "6921b738-88f4-4b78-b4a8-94d1dd0ba1f2",
   "metadata": {},
   "source": [
    "- Davis, C. (1990) Body image and weight preoccupation: A comparison between exercising and non-exercising women. *Appetite*, 15, 13--21.\n",
    "- Davis, C., G. Claridge, and D. Cerullo (1997) Personality factors predisposing to weight preoccupation: A continuum approach to the association between eating disorders and personality disorders. *Journal of Psychiatric Research* 31, 467–480. [personal communication from the authors.]"
   ]
  },
  {
   "cell_type": "markdown",
   "id": "673a814e-18f1-4cb7-9b6e-6e7dba4b630a",
   "metadata": {
    "jp-MarkdownHeadingCollapsed": true,
    "tags": []
   },
   "source": [
    "## Size measurements for adult foraging penguins near Palmer Station, Antarctica"
   ]
  },
  {
   "cell_type": "markdown",
   "id": "cb914f97-6b95-428b-85f9-100eb3fadb61",
   "metadata": {},
   "source": [
    "**Fichier :** [penguin-census.csv](./data/penguin-census.csv)\n",
    "\n",
    "L’enquête recense trois espèces de manchots en détaillant certaines de leurs caractéristiques physiques. Les données ont été collectées par le Dr. Kristen Gorman à la station Palmer en Antarctique."
   ]
  },
  {
   "cell_type": "markdown",
   "id": "ba56dc73-26b5-49e1-ac59-1c52cb46dea8",
   "metadata": {},
   "source": [
    "### Contenu"
   ]
  },
  {
   "cell_type": "markdown",
   "id": "830a223d-07f9-4821-b2d7-c52210672ee0",
   "metadata": {},
   "source": [
    "|Variable|Signification|\n",
    "|:-:|-|\n",
    "|*species*|Espèce de manchot parmi : Adelie, Gentoo, Chinstrap|\n",
    "|*island*|Île de l’observation parmi : Torgersen, Biscoe, Dream|\n",
    "|*bill_length_mm*|Longueur du bec de l’individu (en mm)|\n",
    "|*bill_depth_mm*|Épaisseur du bec de l’individu (en mm)|\n",
    "|*flipper_length_mm*|Longueur de la nageoire de l’individu (en mm)|\n",
    "|*body_mass_g*|Poids de l’individu (en g)|\n",
    "|*sex*|Sexe de l’individu selon deux valeurs possibles : *male* ou *female*|\n",
    "|*year*|Année de l’observation (de 2007 à 2009)|"
   ]
  },
  {
   "cell_type": "markdown",
   "id": "861e02fd-ac31-4abb-a22d-0fb70d1cecb4",
   "metadata": {},
   "source": [
    "### Références"
   ]
  },
  {
   "cell_type": "markdown",
   "id": "aedbc4aa-8b45-41d4-b1f7-d708ea041023",
   "metadata": {},
   "source": [
    "- Gorman KB, Williams TD, Fraser WR (2014). Ecological sexual dimorphism and environmental variability within a community of Antarctic penguins (genus Pygoscelis). PLoS ONE 9(3):e90081. https://doi.org/10.1371/journal.pone.0090081"
   ]
  }
 ],
 "metadata": {
  "kernelspec": {
   "display_name": "Python 3 (ipykernel)",
   "language": "python",
   "name": "python3"
  },
  "language_info": {
   "codemirror_mode": {
    "name": "ipython",
    "version": 3
   },
   "file_extension": ".py",
   "mimetype": "text/x-python",
   "name": "python",
   "nbconvert_exporter": "python",
   "pygments_lexer": "ipython3",
   "version": "3.10.6"
  }
 },
 "nbformat": 4,
 "nbformat_minor": 5
}
