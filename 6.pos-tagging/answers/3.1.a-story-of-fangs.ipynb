{
 "cells": [
  {
   "cell_type": "markdown",
   "id": "d437f0e2",
   "metadata": {},
   "source": [
    "# Une affaire de canines"
   ]
  },
  {
   "cell_type": "markdown",
   "id": "6581714d-a474-4a94-8ec7-0db485b65706",
   "metadata": {},
   "source": [
    "C’est en 1897 que Bram Stoker publie *Dracula*, un roman épistolaire relatant l’histoire d’un vampire des Carpates émigrant dans un Londres encore meurtri par les crimes de Jack l’Éventreur. Le texte du roman, disponible dans le répertoire *data*, est extrait du [corpus Gutenberg](https://www.gutenberg.org/).\n",
    "\n",
    "Au cours de cet exercice, vous vous intéresserez aux vingt-cinq adverbes les plus fréquents du roman."
   ]
  },
  {
   "cell_type": "code",
   "execution_count": null,
   "id": "bd08bceb",
   "metadata": {},
   "outputs": [],
   "source": [
    "path = '../data/dracula.txt'"
   ]
  },
  {
   "cell_type": "markdown",
   "id": "3977bb37-7deb-4258-8d84-dbfd3efeb8ab",
   "metadata": {},
   "source": [
    "## Préparer les données"
   ]
  },
  {
   "cell_type": "markdown",
   "id": "42c4df1f-e0e3-41ec-9125-c6407f83e337",
   "metadata": {},
   "source": [
    "Dans un premier temps, importez dans une variable `text` le contenu du fichier :"
   ]
  },
  {
   "cell_type": "code",
   "execution_count": null,
   "id": "c89ecd0b",
   "metadata": {},
   "outputs": [],
   "source": [
    "# your code here\n",
    "with open(path) as f:\n",
    "    text = f.read()"
   ]
  },
  {
   "cell_type": "markdown",
   "id": "bc37c98d",
   "metadata": {},
   "source": [
    "Importez ensuite la librairie *NLTK* ainsi que la fonction `word_tokenize()` qui permet de segmenter du texte en mots :"
   ]
  },
  {
   "cell_type": "code",
   "execution_count": null,
   "id": "cd653a4b",
   "metadata": {},
   "outputs": [],
   "source": [
    "# your code here\n",
    "import nltk\n",
    "from nltk import word_tokenize"
   ]
  },
  {
   "cell_type": "markdown",
   "id": "a2f8540e",
   "metadata": {},
   "source": [
    "Pour utiliser la fonction `word_tokenize()`, vous aurez peut-être besoin de charger la ressource nommée `punkt` :"
   ]
  },
  {
   "cell_type": "code",
   "execution_count": null,
   "id": "71c0da15",
   "metadata": {},
   "outputs": [],
   "source": [
    "# your code here\n",
    "nltk.download('punkt')"
   ]
  },
  {
   "cell_type": "markdown",
   "id": "395820d4",
   "metadata": {},
   "source": [
    "Appliquez maintenant la fonction au texte pour récupérer une liste de mots dans une variable `words` :"
   ]
  },
  {
   "cell_type": "code",
   "execution_count": null,
   "id": "f76c8e7c",
   "metadata": {},
   "outputs": [],
   "source": [
    "# your code here\n",
    "words = word_tokenize(text)"
   ]
  },
  {
   "cell_type": "markdown",
   "id": "d8d4e821",
   "metadata": {},
   "source": [
    "## Étiquetage"
   ]
  },
  {
   "cell_type": "markdown",
   "id": "c7c8e3d4-1fbd-412d-8d91-d220b7211c97",
   "metadata": {},
   "source": [
    "La seconde étape consiste à lancer l’étiqueteur pré-entraîné de NLTK sur la liste des mots. Vous aurez besoin d’importer la fonction `pos_tag()` :"
   ]
  },
  {
   "cell_type": "code",
   "execution_count": null,
   "id": "c9cb8add",
   "metadata": {},
   "outputs": [],
   "source": [
    "# your code here\n",
    "from nltk import pos_tag"
   ]
  },
  {
   "cell_type": "markdown",
   "id": "9b7e23ff",
   "metadata": {},
   "source": [
    "Et de charger la ressource `averaged_perceptron_tagger` avec `nltk.download()` :"
   ]
  },
  {
   "cell_type": "code",
   "execution_count": null,
   "id": "04bbd292",
   "metadata": {},
   "outputs": [],
   "source": [
    "# your code here\n",
    "nltk.download('averaged_perceptron_tagger')"
   ]
  },
  {
   "cell_type": "markdown",
   "id": "0b3b5612",
   "metadata": {},
   "source": [
    "Constituez une liste de tuples `tagged_words` au format `(word, tag)` grâce à la fonction `pos_tag()` :"
   ]
  },
  {
   "cell_type": "code",
   "execution_count": null,
   "id": "6d70c04e",
   "metadata": {},
   "outputs": [],
   "source": [
    "# your code here\n",
    "tagged_words = pos_tag(words)"
   ]
  },
  {
   "cell_type": "markdown",
   "id": "a5dad40e",
   "metadata": {},
   "source": [
    "Répétez l’opération mais en choisissant un jeu d’étiquettes personnalisé, le *universal part-of-speech tagset*, qu’il est nécessaire de télécharger au préalable :"
   ]
  },
  {
   "cell_type": "code",
   "execution_count": null,
   "id": "d8c83524",
   "metadata": {},
   "outputs": [],
   "source": [
    "# your code here\n",
    "nltk.download('universal_tagset')\n",
    "tagged_words = pos_tag(words, tagset='universal')"
   ]
  },
  {
   "cell_type": "markdown",
   "id": "3d418e0d",
   "metadata": {},
   "source": [
    "## Filtrer les données"
   ]
  },
  {
   "cell_type": "markdown",
   "id": "74966192-af51-40fd-9808-c3bf7ce9a544",
   "metadata": {},
   "source": [
    "Comme seuls nous importent les adverbes, filtrez la liste afin de ne retenir que les mots étiquetés comme adverbes :"
   ]
  },
  {
   "cell_type": "code",
   "execution_count": null,
   "id": "757e8bc3",
   "metadata": {},
   "outputs": [],
   "source": [
    "# your code here\n",
    "adverbs = list(filter(lambda x: 'ADV' in x, tagged_words))"
   ]
  },
  {
   "cell_type": "markdown",
   "id": "70143379",
   "metadata": {},
   "source": [
    "## Dénombrer"
   ]
  },
  {
   "cell_type": "markdown",
   "id": "62c7e920",
   "metadata": {},
   "source": [
    "Importez la structure de données `FreqDist` qui appartient au *package* `nltk.probability` et convertissez votre liste d’adverbes :"
   ]
  },
  {
   "cell_type": "code",
   "execution_count": null,
   "id": "f92bc7a3",
   "metadata": {},
   "outputs": [],
   "source": [
    "# your code here\n",
    "from nltk.probability import FreqDist\n",
    "\n",
    "fq = FreqDist(adverbs)"
   ]
  },
  {
   "cell_type": "markdown",
   "id": "6c19ffaa",
   "metadata": {},
   "source": [
    "Affichez maintenant les 25 résultats les plus fréquents :"
   ]
  },
  {
   "cell_type": "code",
   "execution_count": null,
   "id": "ab8a7a1f",
   "metadata": {},
   "outputs": [],
   "source": [
    "# your code here\n",
    "fq.plot(25)"
   ]
  }
 ],
 "metadata": {
  "kernelspec": {
   "display_name": "Python 3 (ipykernel)",
   "language": "python",
   "name": "python3"
  },
  "language_info": {
   "codemirror_mode": {
    "name": "ipython",
    "version": 3
   },
   "file_extension": ".py",
   "mimetype": "text/x-python",
   "name": "python",
   "nbconvert_exporter": "python",
   "pygments_lexer": "ipython3",
   "version": "3.10.6"
  }
 },
 "nbformat": 4,
 "nbformat_minor": 5
}
