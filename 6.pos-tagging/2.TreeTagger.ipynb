{
 "cells": [
  {
   "cell_type": "markdown",
   "id": "5b59eade-04e3-42e8-84f8-5864336d9841",
   "metadata": {},
   "source": [
    "# De l’étiquetage avec *TreeTagger*"
   ]
  },
  {
   "cell_type": "markdown",
   "id": "22d1ea20-bb17-42d2-be21-856b321f92c5",
   "metadata": {},
   "source": [
    "## Un étiqueteur pré-entraîné"
   ]
  },
  {
   "cell_type": "markdown",
   "id": "876dd13c-2f83-4ff0-aff3-0db0d343e874",
   "metadata": {},
   "source": [
    "*TreeTagger* est un étiqueteur morpho-syntaxique pré-entraîné pour de multiples langues (anglais, allemand, français, espagnol, italien…). Il est développé à [l’IMS de Stuttgart](https://www.ims.uni-stuttgart.de/) par Helmut Schmid. Sans être le meilleur, il est toutefois toujours plébiscité pour des raisons historiques, pour sa rapidité et pour sa couverture linguistique. Parmi les reproches qui persistent pour sa partie française, nous retenons l’absence d’information sur le corpus d’apprentissage ou sur le lexique utilisé.\n",
    "\n",
    "La procédure d’installation de l’utilitaire et de ses fichiers de paramètres est détaillée dans [la documentation en ligne](https://www.cis.uni-muenchen.de/~schmid/tools/TreeTagger/). Vous trouverez ceci dit les fichiers nécessaires dans le répertoire *TreeTagger*."
   ]
  },
  {
   "cell_type": "markdown",
   "id": "eaf1f089-42d8-4bfc-bd11-23d9ff8f1f4f",
   "metadata": {},
   "source": [
    "## Segmentation d’un texte"
   ]
  },
  {
   "cell_type": "markdown",
   "id": "f9d7d2ff-949a-43c1-acba-a8a2c0896122",
   "metadata": {},
   "source": [
    "En entrée, *TreeTagger* accepte une liste de tokens afin de calculer les probabilités des étiquettes à leur assigner. Un tokénisateur basique est fourni avec la distribution :"
   ]
  },
  {
   "cell_type": "code",
   "execution_count": null,
   "id": "c5e01b64-6778-437e-b903-fbb99f43a274",
   "metadata": {},
   "outputs": [],
   "source": [
    "! echo \"A Lannister always pays his debts.\" | perl ./TreeTagger/utf8-tokenize.perl"
   ]
  },
  {
   "cell_type": "markdown",
   "id": "bcb376c4-f6de-4bff-bbd3-4e2c73a13cac",
   "metadata": {},
   "source": [
    "L’algorithme par défaut est prévu pour une segmentation sur l’espace. Des options permettent d’activer des comportements différenciés pour certaines langues :\n",
    "\n",
    "- `-e` : pour l’anglais ;\n",
    "- `-f` : pour le français ;\n",
    "- `-i` : pour l’italien ;\n",
    "- `-z` : pour le galicien ;\n",
    "- `-a` : pour fournir un fichier personnalisé d’abréviations."
   ]
  },
  {
   "cell_type": "code",
   "execution_count": null,
   "id": "acc28955-6e93-4dff-a454-03b89ea98f7e",
   "metadata": {},
   "outputs": [],
   "source": [
    "! echo \"C’est aujourd’hui ton rendez-vous chez l’ostéopathe ?\" | perl ./TreeTagger/utf8-tokenize.perl -f"
   ]
  },
  {
   "cell_type": "markdown",
   "id": "ea66ba45-cb4b-4db8-aeb6-f2264dd88510",
   "metadata": {},
   "source": [
    "Le script a correctement considéré *aujourd’hui* comme un seul mot quand *rendez-vous* a été séparé en deux. Essayons de lui transmettre un fichier pour gérer certaines spécificités du français :"
   ]
  },
  {
   "cell_type": "code",
   "execution_count": null,
   "id": "aef98040-3102-43e6-b484-69f67c2b1709",
   "metadata": {},
   "outputs": [],
   "source": [
    "! echo \"C’est aujourd’hui ton rendez-vous chez l’ostéopathe ?\" | perl ./TreeTagger/utf8-tokenize.perl -f -a ./TreeTagger/french-abbreviations"
   ]
  },
  {
   "cell_type": "markdown",
   "id": "09349498-ba19-48d2-afbd-1de2637d9606",
   "metadata": {},
   "source": [
    "Le fichier *french-abbreviations* contient une simple liste de mots constituée en connaissance de cause, c’est-à-dire après analyse des erreurs résiduelles du tokénisateur de *TreeTagger*."
   ]
  },
  {
   "cell_type": "markdown",
   "id": "a5d685f6-00b4-40b1-acb1-cfd5547e09bb",
   "metadata": {},
   "source": [
    "## Annotation des tokens"
   ]
  },
  {
   "cell_type": "markdown",
   "id": "4ed3753c-97b6-46d0-8ba9-a6587e094f25",
   "metadata": {},
   "source": [
    "### Étiquetage en parties du discours"
   ]
  },
  {
   "cell_type": "markdown",
   "id": "a651a9af-0ba6-483c-8fa0-b532a7875a3c",
   "metadata": {},
   "source": [
    "La procédure d’étiquetage de *TreeTagger* implémente un modèle probabiliste qui, pour des raisons de performance, prend la forme d’un arbre de décision. Différents modèles de langage sont disponibles sur la page des téléchargements. Il s’agit de fichiers de paramètres qui portent une extension en *.par* :"
   ]
  },
  {
   "cell_type": "code",
   "execution_count": null,
   "id": "32b05912-c112-4514-8aed-f63fa6893133",
   "metadata": {},
   "outputs": [],
   "source": [
    "! echo \"A Lannister always pays his debts.\" | perl ./TreeTagger/utf8-tokenize.perl -e | ./TreeTagger/tree-tagger ./TreeTagger/english.par"
   ]
  },
  {
   "cell_type": "markdown",
   "id": "f3e17ab0-b793-4f91-a2f0-19b4680277b3",
   "metadata": {},
   "source": [
    "L’ajout d’une option `-token` permet de révéler le token étiqueté :"
   ]
  },
  {
   "cell_type": "code",
   "execution_count": null,
   "id": "21b79993-3dc9-4f33-9990-a11077149460",
   "metadata": {},
   "outputs": [],
   "source": [
    "! echo \"A Lannister always pays his debts.\" | perl ./TreeTagger/utf8-tokenize.perl -e | ./TreeTagger/tree-tagger -token ./TreeTagger/english.par"
   ]
  },
  {
   "cell_type": "markdown",
   "id": "a58244aa-1308-47cd-a3a9-08dabe9c1f6f",
   "metadata": {},
   "source": [
    "Les étiquettes attribuées dépendent du modèle de langage indiqué :"
   ]
  },
  {
   "cell_type": "code",
   "execution_count": null,
   "id": "a5123eda-4096-4119-ac3d-c69b1844258a",
   "metadata": {},
   "outputs": [],
   "source": [
    "! echo \"A Lannister always pays his debts.\" | perl ./TreeTagger/utf8-tokenize.perl -f | ./TreeTagger/tree-tagger -token ./TreeTagger/french.par"
   ]
  },
  {
   "cell_type": "markdown",
   "id": "480d499e-0a4a-421e-a7bd-796187fcb8c2",
   "metadata": {},
   "source": [
    "*TreeTagger* ne vérifie donc pas la vraisemblance des tokens en entrée avec le modèle de langage spécifié. La pertinence de certains résultats peut s’en ressentir !\n",
    "\n",
    "**Remarque :** pour prendre connaissance de la signification des étiquettes, se référer à la documentation en ligne."
   ]
  },
  {
   "cell_type": "markdown",
   "id": "a07982e1-bd4b-4423-b303-4d3c6d12164f",
   "metadata": {},
   "source": [
    "### Lemmatisation"
   ]
  },
  {
   "cell_type": "markdown",
   "id": "31124278-7a99-4e96-a65b-7f44200d6632",
   "metadata": {},
   "source": [
    "Par lemmatisation, on entend l’opération consistant à obtenir la forme canonique d’un mot. Par exemple, *parent* serait le lemme de *parents*, ou *chanter* celui de la forme fléchie *chantes*.\n",
    "\n",
    "L’option `-lemma` active la fonction :"
   ]
  },
  {
   "cell_type": "code",
   "execution_count": null,
   "id": "afa83052-a648-4f03-b955-7ebaf924db41",
   "metadata": {},
   "outputs": [],
   "source": [
    "! echo \"A Lannister always pays his debts.\" | perl ./TreeTagger/utf8-tokenize.perl -e | ./TreeTagger/tree-tagger -token -lemma ./TreeTagger/english.par"
   ]
  },
  {
   "cell_type": "markdown",
   "id": "e135e579-4efd-4679-a243-a9dfd03d084f",
   "metadata": {},
   "source": [
    "Pour *TreeTagger*, cette étape n‘est résolue que par extraction depuis un lexique où à chaque lemme est associé une étiquette. En conséquence, si dans la phrase suivante il parvient bien à désambiguiser les occurrences du mot *dérive*, c’est uniquement grâce à leurs étiquettes :"
   ]
  },
  {
   "cell_type": "code",
   "execution_count": null,
   "id": "5c066e1a-736e-40c6-aa5d-fbfd159b1a06",
   "metadata": {},
   "outputs": [],
   "source": [
    "! echo \"Le navire dérive à cause d’une dérive instable.\" | perl ./TreeTagger/utf8-tokenize.perl -f | ./TreeTagger/tree-tagger -token -lemma ./TreeTagger/french.par"
   ]
  },
  {
   "cell_type": "markdown",
   "id": "5592e6a7-60d5-4984-8b33-585d3d9ecc81",
   "metadata": {},
   "source": [
    "*TreeTagger* ne fait aucune hypothèse quant aux lemmes aussi, en cas de doute, il liste les différentes possibilités avec une barre verticale :"
   ]
  },
  {
   "cell_type": "code",
   "execution_count": null,
   "id": "3a80616f-50d5-444f-9974-cdc277faec65",
   "metadata": {},
   "outputs": [],
   "source": [
    "! echo \"Il a été secouru par le fils du jardinier.\" | perl ./TreeTagger/utf8-tokenize.perl -f | ./TreeTagger/tree-tagger -token -lemma ./TreeTagger/french.par"
   ]
  },
  {
   "cell_type": "markdown",
   "id": "e3a56a64-07a6-4300-bbbd-f3a831f28d87",
   "metadata": {},
   "source": [
    "Étiqueté comme *NOM*, le mot *fils* peut aussi bien être le pluriel de *fil* – comme dans *le fil de l’histoire* ou *un fil de lin* – que l’une des formes du lemme *fils*."
   ]
  },
  {
   "cell_type": "markdown",
   "id": "73dedc57-5067-46fe-ba4e-7d1f49037f61",
   "metadata": {},
   "source": [
    "## Frontières de décision"
   ]
  },
  {
   "cell_type": "markdown",
   "id": "3a013f4e-1bf6-4fe2-a6ff-d7dcd05fec6a",
   "metadata": {},
   "source": [
    "Considérant les ambiguïtés inhérentes aux langues et le modèle probabiliste derrière *TreeTagger*, rien de surprenant à ce qu’il effectue un choix au regard du contexte.\n",
    "\n",
    "Prenons un énoncé qui ne pose guère de problème :"
   ]
  },
  {
   "cell_type": "code",
   "execution_count": null,
   "id": "a6e97ced-3470-4695-b2b8-5eeede53615e",
   "metadata": {},
   "outputs": [],
   "source": [
    "! echo \"Le capitaine Grant a mené le bataillon au combat.\" | perl ./TreeTagger/utf8-tokenize.perl -f | ./TreeTagger/tree-tagger -token -lemma ./TreeTagger/french.par"
   ]
  },
  {
   "cell_type": "markdown",
   "id": "dda427be-731d-4989-9be5-1ed0d30747d7",
   "metadata": {},
   "source": [
    "Ici, bien qu’inconnu, *Grant* est bien considéré comme un nom propre (*NAM*) grâce à la présence de la majuscule. Retirons à *TreeTagger* cette faculté de s’appuyer sur le préfixe avec l’option `-ignore-prefix` :"
   ]
  },
  {
   "cell_type": "code",
   "execution_count": null,
   "id": "d38f2c30-351d-4000-a5b5-a6231aafe523",
   "metadata": {},
   "outputs": [],
   "source": [
    "! echo \"Le capitaine Grant a mené le bataillon au combat.\" | perl ./TreeTagger/utf8-tokenize.perl -f | ./TreeTagger/tree-tagger -token -ignore-prefix ./TreeTagger/french.par"
   ]
  },
  {
   "cell_type": "markdown",
   "id": "45ff8b8b-49fd-4df6-a721-d92216151fe1",
   "metadata": {},
   "source": [
    "*Grant* est maintenant considéré comme un adjectif, un choix logique quand on le sait précédé par un nom.\n",
    "\n",
    "Pour comprendre le mécanisme, il nous faut révéler les frontières de décision avec les options `-threshold` et `-prob`. Le seuil est défini dans l’intervalle $]0,1]$ :"
   ]
  },
  {
   "cell_type": "code",
   "execution_count": null,
   "id": "5be35cbc-a851-4c09-913b-36ac9c39a256",
   "metadata": {},
   "outputs": [],
   "source": [
    "! echo \"Le capitaine Grant a mené le bataillon au combat.\" | perl ./TreeTagger/utf8-tokenize.perl -f | ./TreeTagger/tree-tagger -token -ignore-prefix -threshold 0.01 -prob ./TreeTagger/french.par"
   ]
  },
  {
   "cell_type": "markdown",
   "id": "a0e0ca8d-7299-4a7e-b356-2cbca3c827d3",
   "metadata": {},
   "source": [
    "Pour la majorité des mots de la phrase, *TreeTagger* n’a aucun doute. Il est en revanche moins assuré pour le fameux *Grant* qu’il identifie d’ailleurs à 71 % comme un participe présent (*VER:ppre*) à cause de sa terminaison en *-ant*.\n",
    "\n",
    "Pourquoi, alors, choisit-il au final de l’étiqueter *ADJ* ? Les probabilités affichées sont en fait celles du token considéré sans le contexte."
   ]
  },
  {
   "cell_type": "code",
   "execution_count": null,
   "id": "58057744-deab-4244-8a3e-abf967a0aaa0",
   "metadata": {},
   "outputs": [],
   "source": [
    "! echo \"Le capitaine Grant a mené le bataillon au combat.\" | perl ./TreeTagger/utf8-tokenize.perl -f | ./TreeTagger/tree-tagger -token -ignore-prefix -threshold 0.01 -prob ./TreeTagger/french.par"
   ]
  },
  {
   "cell_type": "markdown",
   "id": "ae09247b-b5cb-4176-9909-60bdec0d1248",
   "metadata": {},
   "source": [
    "Promouvons notre capitaine au rang de général :"
   ]
  },
  {
   "cell_type": "code",
   "execution_count": null,
   "id": "2c2443a2-d653-41d9-8151-f1cf3d662140",
   "metadata": {},
   "outputs": [],
   "source": [
    "! echo \"Le général Grant a mené le bataillon au combat.\" | perl ./TreeTagger/utf8-tokenize.perl -f | ./TreeTagger/tree-tagger -token -threshold 0.01 -prob ./TreeTagger/french.par"
   ]
  },
  {
   "cell_type": "markdown",
   "id": "365870c8-99c4-4cb5-a739-b4fb0158c272",
   "metadata": {},
   "source": [
    "Le mot *général* devient pour lui un adjectif, ce qui met en balance l’étiquette de *Grant*. Au final, même en lui autorisant l’appui du préfixe, *TreeTagger* fait également le mauvais choix pour *Grant* :"
   ]
  },
  {
   "cell_type": "code",
   "execution_count": null,
   "id": "9bb2d735-c495-4a07-871f-0204a849d522",
   "metadata": {},
   "outputs": [],
   "source": [
    "! echo \"Le général Grant a mené le bataillon au combat.\" | perl ./TreeTagger/utf8-tokenize.perl -f | ./TreeTagger/tree-tagger -token ./TreeTagger/french.par"
   ]
  },
  {
   "cell_type": "markdown",
   "id": "60319d92-e0cf-46cb-b179-b867a68938ea",
   "metadata": {},
   "source": [
    "## Améliorer un modèle de langage"
   ]
  },
  {
   "cell_type": "markdown",
   "id": "c6840209-e464-4c2c-befe-e46e0e1ca165",
   "metadata": {},
   "source": [
    "Nous l’avons vu, *TreeTagger* n’est pas infaillible. Heureusement, plusieurs pistes existent :\n",
    "\n",
    "- choisir un autre modèle de langage ;\n",
    "- apporter des corrections aux ressources à l’origine du modèle de langage."
   ]
  },
  {
   "cell_type": "markdown",
   "id": "35d9579d-f149-4d3a-aa5b-3d4fe8142142",
   "metadata": {},
   "source": [
    "### Évaluer un modèle de langage"
   ]
  },
  {
   "cell_type": "markdown",
   "id": "53b685e4-b03c-4c3d-9003-a5f333dd8b08",
   "metadata": {},
   "source": [
    "Dans le dossier *data* se trouve une version étiquetée du poème *Le dormeur du Val* de Rimbaud, sous le nom *dormeur_du_val_tagged.tsv*. Elle a été obtenue après application du modèle de langage par défaut pour le français.\n",
    "\n",
    "À titre de comparaison, utilisons plutôt un modèle de langage prévu pour le français parlé, [Perceo](https://www.ortolang.fr/market/corpora/perceo) :"
   ]
  },
  {
   "cell_type": "code",
   "execution_count": null,
   "id": "844af6d6-40f2-40c1-aa37-101f08ee3573",
   "metadata": {},
   "outputs": [],
   "source": [
    "! cat ./data/dormeur_du_val.txt | perl ./TreeTagger/utf8-tokenize.perl -f | ./TreeTagger/tree-tagger ./TreeTagger/spoken-french.par > ./data/dormeur_du_val_tagged_spoken.tsv"
   ]
  },
  {
   "cell_type": "markdown",
   "id": "cf5f33e1-e487-432d-a7ac-b4ead08a6f78",
   "metadata": {},
   "source": [
    "Et fusionnons les deux étiquetages dans un nouveau fichier *dormeur_du_val_eval.tsv*, constitué de trois colonnes :\n",
    "\n",
    "- le token ;\n",
    "- l’étiquetage manuel ;\n",
    "- l’étiquetage automatique."
   ]
  },
  {
   "cell_type": "code",
   "execution_count": null,
   "id": "cea6c492-9952-4fe7-886c-103579c745b2",
   "metadata": {},
   "outputs": [],
   "source": [
    "! paste -d $'\\t' <(cut -d $'\\t' -f 1,2 ./data/dormeur_du_val_tagged.tsv) ./data/dormeur_du_val_tagged_spoken.tsv > ./data/dormeur_du_val_eval.tsv"
   ]
  },
  {
   "cell_type": "markdown",
   "id": "16aeff2f-c39d-4186-85cc-7cb26ef5493d",
   "metadata": {},
   "source": [
    "L’objectif maintenant est de vérifier combien de fois les deux dernières colonnes diffèrent :"
   ]
  },
  {
   "cell_type": "code",
   "execution_count": null,
   "id": "003712b0-d824-41c2-9294-e47fae7e2843",
   "metadata": {},
   "outputs": [],
   "source": [
    "! awk -F '\\t' '$2 != $3 {print $0}' ./data/dormeur_du_val_eval.tsv | wc -l"
   ]
  },
  {
   "cell_type": "markdown",
   "id": "172940f6-e59b-41d0-8a72-0678391c2a4a",
   "metadata": {},
   "source": [
    "Sur un total de 145 tokens, cela nous donne une exactitude de 56,55 %, autant dire très peu. Toutefois, si l’on regarde de plus près, la plupart des erreurs sont dues à une différence dans l’écriture des étiquettes. Même si Perceo s’appuie en partie sur celles de *TreeTagger*, il en intègre de nouvelles et en écrit certaines avec des minuscules là où auparavant il y avait des majuscules (ex. : *PRO:rel* pour *PRO:REL*)."
   ]
  },
  {
   "cell_type": "markdown",
   "id": "32634ee6-86fb-4758-8c9d-ac29f1247a40",
   "metadata": {},
   "source": [
    "### Définir un modèle de langage"
   ]
  },
  {
   "cell_type": "markdown",
   "id": "6f6cfbf6-5013-4b8c-995a-c779821ce049",
   "metadata": {},
   "source": [
    "Comme les modèles de langage sont décrits dans des fichiers binaires en *.par*, nous n’intervenons pas directement dessus pour leur apporter des modifications mais sur les ressources qui ont permis de les générer. *TreeTagger* est en effet fourni avec un utilitaire `train-tree-tager` pour créer un de ces fichiers *.par* à partir de trois ressources :\n",
    "\n",
    "- un lexique des formes fléchies ;\n",
    "- un corpus d’apprentissage ;\n",
    "- une liste d’étiquettes."
   ]
  },
  {
   "cell_type": "markdown",
   "id": "e6840e54-fbbd-4ede-945f-0f0eb17e7a41",
   "metadata": {},
   "source": [
    "#### Le lexique des formes fléchies"
   ]
  },
  {
   "cell_type": "markdown",
   "id": "e477c95d-7481-4780-8d2d-f92986f06b5a",
   "metadata": {},
   "source": [
    "Il s’agit d’un fichier plat où chaque ligne contient un mot-forme suivi d’une tabulation puis d’une paire étiquette-lemme eux-mêmes séparés par une espace. En cas d’ambiguïté sur l’étiquetage, il peut exister plusieurs paires qui seront listées derrière des tabulations, comme dans l’exemple :\n",
    "\n",
    "```csv\n",
    "fil    N fil\n",
    "fils   N fils    N fil\n",
    "```"
   ]
  },
  {
   "cell_type": "markdown",
   "id": "14cda4f7-add2-44a1-86f3-ac96c7a9990a",
   "metadata": {},
   "source": [
    "#### Le corpus d’apprentissage"
   ]
  },
  {
   "cell_type": "markdown",
   "id": "6c2c6ed1-4204-438c-a30c-d8b98aea8f9c",
   "metadata": {},
   "source": [
    "À l’aide de ce corpus, *TreeTagger* va apprendre un langage, c’est-à-dire une façon de représenter la langue. Pour cela, il va se reposer sur un unique fichier tabulé constitué des mots-formes et de leur étiquette associée, sans oublier la ponctuation. À l’évidence, l’étiquetage doit être irréprochable."
   ]
  },
  {
   "cell_type": "markdown",
   "id": "6cc44fd7-4b5f-4b4b-80e5-48c2a323ce29",
   "metadata": {},
   "source": [
    "#### La liste des étiquettes"
   ]
  },
  {
   "cell_type": "markdown",
   "id": "18cd57db-0048-44d9-9e77-539ca7e440eb",
   "metadata": {},
   "source": [
    "Dans ce fichier, il suffit simplement de lister les étiquettes séparées par une espace. Lorsque *TreeTagger* sera face à un mot pour lequel il ne trouve aucun lemme, il cherchera parmi cette liste l’étiquette à lui affecter."
   ]
  },
  {
   "cell_type": "markdown",
   "id": "2c86efab-13fa-4297-8203-c476992eaf69",
   "metadata": {},
   "source": [
    "#### Entraîner *TreeTagger*"
   ]
  },
  {
   "cell_type": "markdown",
   "id": "5517fb9e-57bc-4eb1-9960-a3cab80bc0ef",
   "metadata": {},
   "source": [
    "Dans le répertoire *data*, trois fichiers très simples vont servir à calculer un modèle de langages :\n",
    "\n",
    "- *train-lexicon.txt*\n",
    "- *train-corpus.txt*\n",
    "- *train-tags.txt*\n",
    "\n",
    "La commande suivante va se charger de générer un fichier *basic-model.par* :"
   ]
  },
  {
   "cell_type": "code",
   "execution_count": null,
   "id": "3c3031c6-0528-4c22-93a2-5d72bbcab7b1",
   "metadata": {},
   "outputs": [],
   "source": [
    "! ./TreeTagger/train-tree-tagger -utf8 ./data/train-lexicon.txt ./data/train-tags.txt ./data/train-corpus.txt ./TreeTagger/basic-model.par"
   ]
  },
  {
   "cell_type": "markdown",
   "id": "06fa5435-796e-4258-b92a-ae9fd7f99c3f",
   "metadata": {},
   "source": [
    "Testons notre modèle avec une phrase qui fait partie du corpus d’apprentissage :"
   ]
  },
  {
   "cell_type": "code",
   "execution_count": null,
   "id": "1090ab4a-ce5d-4e54-9ba3-3b237b817e49",
   "metadata": {},
   "outputs": [],
   "source": [
    "! echo \"Le petit chien boit de l’eau.\" | perl ./TreeTagger/utf8-tokenize.perl -f | ./TreeTagger/tree-tagger -token -lemma ./TreeTagger/basic-model.par"
   ]
  },
  {
   "cell_type": "markdown",
   "id": "a374e257-bcf5-4419-82c7-eec159777e31",
   "metadata": {},
   "source": [
    "Et maintenant avec une phrase légèrement différente :"
   ]
  },
  {
   "cell_type": "code",
   "execution_count": null,
   "id": "4a54ab1c-5ac6-4ce5-934f-792baab85dc4",
   "metadata": {},
   "outputs": [],
   "source": [
    "! echo \"Jean aime boire de la bière.\" | perl ./TreeTagger/utf8-tokenize.perl -f | ./TreeTagger/tree-tagger -token -lemma ./TreeTagger/basic-model.par"
   ]
  },
  {
   "cell_type": "markdown",
   "id": "8084ab12-1fdd-4591-bce0-d26a12a3a908",
   "metadata": {},
   "source": [
    "Un résultat guère encourageant, mais tout à fait compréhensible au regard des ressources que nous lui avons fournie ! À noter que la commande `train-tree-tagger` vient également avec des options qui peuvent améliorer l’apprentissage, dont :\n",
    "\n",
    "- `-st` : l’étiquette qui sert à baliser la fin d’une phrase et généralement associée à des signes de ponctuation forts comme le point, le point d’exclamation ou le point d’interrogation. Par défaut, l’option vaut `SENT`.\n",
    "- `-cl` : sert à déterminer la fenêtre du contexte. Par défaut, elle est fixée à 2, ce qui correspond à un contexte de trigrammes. Pour des petits corpus d’apprentissage, il est souvent préférable de réduire la fenêtre à 1.\n",
    "- `-dtg` : lorsque la mesure du gain d’information n’est pas au-dessus de ce seuil, le nœud de l’arbre de décision est supprimé. Il est à 0,7 par défaut.\n",
    "\n",
    "Pour les autres, consulter la documentation officielle."
   ]
  }
 ],
 "metadata": {
  "kernelspec": {
   "display_name": "Python 3 (ipykernel)",
   "language": "python",
   "name": "python3"
  },
  "language_info": {
   "codemirror_mode": {
    "name": "ipython",
    "version": 3
   },
   "file_extension": ".py",
   "mimetype": "text/x-python",
   "name": "python",
   "nbconvert_exporter": "python",
   "pygments_lexer": "ipython3",
   "version": "3.11.10"
  }
 },
 "nbformat": 4,
 "nbformat_minor": 5
}
