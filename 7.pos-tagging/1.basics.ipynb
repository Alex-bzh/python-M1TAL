{
 "cells": [
  {
   "cell_type": "markdown",
   "metadata": {
    "slideshow": {
     "slide_type": "slide"
    }
   },
   "source": [
    "# Étiquetage morpho-syntaxique"
   ]
  },
  {
   "cell_type": "markdown",
   "metadata": {
    "slideshow": {
     "slide_type": "slide"
    }
   },
   "source": [
    "## Définition\n",
    "\n",
    "Opération par laquelle un programme associe automatiquement à un mot des étiquettes grammaticales, comme :\n",
    "- le genre\n",
    "- le nombre\n",
    "- la partie du discours (catégorie)\n",
    "- …\n",
    "\n",
    "Elle intervient après celle de segmentation en mots et se positionne comme pré-requis pour l’analyse syntaxique de surface."
   ]
  },
  {
   "cell_type": "markdown",
   "metadata": {
    "slideshow": {
     "slide_type": "subslide"
    }
   },
   "source": [
    "Le résultat est un couple (mot, étiquette) :\n",
    "- *Le petit chat boit du lait.*\n",
    "- *Le/DET petit/ADJ chat/N boit/V du/DET lait/N ./PONCT*"
   ]
  },
  {
   "cell_type": "markdown",
   "metadata": {
    "slideshow": {
     "slide_type": "fragment"
    }
   },
   "source": [
    "En Python, le résultat attendu d’un étiquetage morpho-syntaxique se conçoit sous la forme d’une liste de tuples :"
   ]
  },
  {
   "cell_type": "code",
   "execution_count": null,
   "metadata": {
    "slideshow": {
     "slide_type": "-"
    }
   },
   "outputs": [],
   "source": [
    "tagged = [\n",
    "    ('Le', 'DET'),\n",
    "    ('petit', 'ADJ'),\n",
    "    ('chat', 'N'),\n",
    "    ('boit', 'V'),\n",
    "    ('du', 'DET'),\n",
    "    ('lait', 'N'),\n",
    "    ('.', 'PONCT')\n",
    "]"
   ]
  },
  {
   "cell_type": "markdown",
   "metadata": {
    "slideshow": {
     "slide_type": "slide"
    }
   },
   "source": [
    "## L’étiqueteur de NLTK\n",
    "\n",
    "NLTK fournit un étiqueteur pré-entraîné avec le *Penn Treebank* que l’on peut employer pour étiqueter un texte de langue anglaise. Il requiert uniquement, en entrée, une liste de mots."
   ]
  },
  {
   "cell_type": "code",
   "execution_count": null,
   "metadata": {
    "slideshow": {
     "slide_type": "fragment"
    }
   },
   "outputs": [],
   "source": [
    "from nltk import pos_tag, word_tokenize\n",
    "\n",
    "on_the_sea_keats = \"\"\"It keeps eternal whisperings around\n",
    "Desolate shores, and with its mighty swell\n",
    "Gluts twice ten thousand Caverns, till the spell\n",
    "Of Hecate leaves them their old shadowy sound.\"\"\"\n",
    "words = word_tokenize(on_the_sea_keats)\n",
    "tagged_words = pos_tag(words)"
   ]
  },
  {
   "cell_type": "markdown",
   "metadata": {
    "slideshow": {
     "slide_type": "subslide"
    }
   },
   "source": [
    "Un paramètre `tagset` permet d’adopter le jeu d’étiquettes en parties du discours universel plutôt que la nomenclature du *Penn Treebank*."
   ]
  },
  {
   "cell_type": "code",
   "execution_count": null,
   "metadata": {
    "slideshow": {
     "slide_type": "-"
    }
   },
   "outputs": [],
   "source": [
    "tagged_words = pos_tag(words, tagset=\"universal\")"
   ]
  },
  {
   "cell_type": "markdown",
   "metadata": {
    "slideshow": {
     "slide_type": "slide"
    }
   },
   "source": [
    "## Modèles de langue\n",
    "\n",
    "NLTK fournit la classe `DefaultTagger` pour étiqueter automatiquement une liste de mots. En revanche, il convient d’entraîner au préalable le logiciel sur un corpus étiqueté de référence.\n",
    "\n",
    "NLTK embarque justement plusieurs *treebanks* conçus pour l’anglais. Autrement, il faut apporter son propre corpus étiqueté !"
   ]
  },
  {
   "cell_type": "markdown",
   "metadata": {
    "slideshow": {
     "slide_type": "subslide"
    }
   },
   "source": [
    "Certains étiqueteurs déjà entraînés :\n",
    "- *TreeTagger* (multilingue)\n",
    "- *Stanford POS tagger* (multilingue)\n",
    "- *MElt* (français, python 2.7)"
   ]
  },
  {
   "cell_type": "markdown",
   "metadata": {
    "slideshow": {
     "slide_type": "slide"
    }
   },
   "source": [
    "## Entraîner un modèle de langue : les fondamentaux\n",
    "\n",
    "Dans cet exemple basique, nous entraînons un étiqueteur pour unigrammes, issu de la classe `UnigramTagger`."
   ]
  },
  {
   "cell_type": "markdown",
   "metadata": {
    "slideshow": {
     "slide_type": "fragment"
    }
   },
   "source": [
    "**Étape 1 :** importer l’étiqueteur pour unigrammes."
   ]
  },
  {
   "cell_type": "code",
   "execution_count": null,
   "metadata": {
    "slideshow": {
     "slide_type": "-"
    }
   },
   "outputs": [],
   "source": [
    "from nltk.tag import UnigramTagger"
   ]
  },
  {
   "cell_type": "markdown",
   "metadata": {
    "slideshow": {
     "slide_type": "subslide"
    }
   },
   "source": [
    " **Étape 2 :** proposer un modèle de langues sous la forme d’une liste de phrases découpées en une liste de mots."
   ]
  },
  {
   "cell_type": "code",
   "execution_count": null,
   "metadata": {
    "slideshow": {
     "slide_type": "-"
    }
   },
   "outputs": [],
   "source": [
    "corpus = [[\n",
    "    ('Le', 'DET'),\n",
    "    ('petit', 'ADJ'),\n",
    "    ('chat', 'N'),\n",
    "    ('boit', 'V'),\n",
    "    ('du', 'DET'),\n",
    "    ('lait', 'N'),\n",
    "    ('.', 'PONCT')\n",
    "]]"
   ]
  },
  {
   "cell_type": "markdown",
   "metadata": {
    "slideshow": {
     "slide_type": "subslide"
    }
   },
   "source": [
    "**Étape 3 :** entraîner l’étiqueteur avec ce modèle."
   ]
  },
  {
   "cell_type": "code",
   "execution_count": null,
   "metadata": {
    "slideshow": {
     "slide_type": "-"
    }
   },
   "outputs": [],
   "source": [
    "tagger = UnigramTagger(corpus)"
   ]
  },
  {
   "cell_type": "markdown",
   "metadata": {
    "slideshow": {
     "slide_type": "fragment"
    }
   },
   "source": [
    "**Étape 4 :** effectuer l’étiquetage d’une liste de mots."
   ]
  },
  {
   "cell_type": "code",
   "execution_count": null,
   "metadata": {
    "slideshow": {
     "slide_type": "-"
    }
   },
   "outputs": [],
   "source": [
    "words = ['Le', 'petit', 'chien', 'boit', 'de', 'l', 'eau', '.']\n",
    "tagger.tag(words)"
   ]
  },
  {
   "cell_type": "markdown",
   "metadata": {
    "slideshow": {
     "slide_type": "subslide"
    }
   },
   "source": [
    "**Remarque :** le modèle est très incomplet (étiquettes `None`).\n",
    "\n",
    "Solution pour améliorer le modèle dans le contexte : appeler un étiqueteur par défaut (*Backoff tagger*)."
   ]
  },
  {
   "cell_type": "code",
   "execution_count": null,
   "metadata": {
    "slideshow": {
     "slide_type": "-"
    }
   },
   "outputs": [],
   "source": [
    "from nltk.tag import DefaultTagger\n",
    "backoff_tagger = DefaultTagger('N')\n",
    "tagger = UnigramTagger(train=corpus, backoff=backoff_tagger)\n",
    "tagger.tag(words)"
   ]
  },
  {
   "cell_type": "markdown",
   "metadata": {
    "slideshow": {
     "slide_type": "subslide"
    }
   },
   "source": [
    "Les étiquettes `None` sont remplacées par l’étiquette jugée la plus courante (`N`). Le mieux étant de disposer d’un corpus plus complet car plus volumineux est le corpus avec lequel on entraîne un étiqueteur, meilleur sera le résultat."
   ]
  }
 ],
 "metadata": {
  "celltoolbar": "Diaporama",
  "kernelspec": {
   "display_name": "Python 3",
   "language": "python",
   "name": "python3"
  },
  "language_info": {
   "codemirror_mode": {
    "name": "ipython",
    "version": 3
   },
   "file_extension": ".py",
   "mimetype": "text/x-python",
   "name": "python",
   "nbconvert_exporter": "python",
   "pygments_lexer": "ipython3",
   "version": "3.7.7"
  }
 },
 "nbformat": 4,
 "nbformat_minor": 4
}
