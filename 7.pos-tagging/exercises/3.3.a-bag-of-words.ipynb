{
 "cells": [
  {
   "cell_type": "markdown",
   "id": "94a0f158-1c13-4dc3-98f8-d8822297b732",
   "metadata": {},
   "source": [
    "# Un sac de mots"
   ]
  },
  {
   "cell_type": "markdown",
   "id": "35849f55-2e98-4eb4-874f-47bcd8b8a329",
   "metadata": {},
   "source": [
    "## Définition"
   ]
  },
  {
   "cell_type": "markdown",
   "id": "de1d4965-2c98-453d-bd40-7717f095e5d9",
   "metadata": {},
   "source": [
    "La méthode du sac de mots (*bag of words* en anglais) est une représentation simplifiée d’un texte où seule compte la fréquence d’apparition d’une occurrence. Soit le texte suivant :\n",
    "\n",
    "```txt\n",
    "Les enfants sont sortis sous la pluie. Ils ne sortent jamais sous la pluie sans parapluie.\n",
    "```\n",
    "\n",
    "Après segmentation et décompte des occurrences, cela donne :\n",
    "\n",
    "```txt\n",
    "la : 2\n",
    "pluie : 2\n",
    "sous : 2\n",
    "enfants : 1\n",
    "ils : 1\n",
    "jamais : 1\n",
    "les : 1\n",
    "ne : 1\n",
    "parapluie : 1\n",
    "sans : 1\n",
    "sont : 1\n",
    "sortent : 1\n",
    "sortis : 1\n",
    "```\n",
    "\n",
    "Pour obtenir un sac de mots, il est nécessaire de rajouter une opération de lemmatisation qui, pour être efficace, suppose un étiquetage morphosyntaxique préalable pour, par exemple, ne pas confondre la préposition *sous* avec le pluriel du nom commun *sou* :\n",
    "\n",
    "```txt\n",
    "le : 3\n",
    "pluie : 2\n",
    "sous : 2\n",
    "enfant : 1\n",
    "être : 1\n",
    "sortir : 2\n",
    "il : 1\n",
    "jamais : 1\n",
    "ne : 1\n",
    "parapluie : 1\n",
    "sans : 1\n",
    "```\n",
    "\n",
    "La technique pourrait encore être affinée par la détection des *n*-grammes :\n",
    "\n",
    "```txt\n",
    "sous la pluie : 2\n",
    "sans parapluie : 1\n",
    "```"
   ]
  },
  {
   "cell_type": "markdown",
   "id": "6e1fd1ee-a6a1-4164-8482-4036eab38f5b",
   "metadata": {},
   "source": [
    "## Des mots dans la besace"
   ]
  },
  {
   "cell_type": "markdown",
   "id": "6165e2e3-2348-4744-b609-eaa70ca50865",
   "metadata": {},
   "source": [
    "Votre objectif est de représenter l’un des fichiers du *French Treebank*, déjà étiqueté en parties du discours, grâce à la technique du sac de mots.\n",
    "\n",
    "Chargez tout d’abord le texte et les librairies nécessaires :"
   ]
  },
  {
   "cell_type": "code",
   "execution_count": null,
   "id": "30d159f0-79f6-466d-8a93-1dd47f8c4d71",
   "metadata": {},
   "outputs": [],
   "source": [
    "import nltk\n",
    "from nltk.corpus import stopwords\n",
    "from nltk.probability import FreqDist\n",
    "from nltk.tokenize import RegexpTokenizer\n",
    "from french_lefff_lemmatizer.french_lefff_lemmatizer import FrenchLefffLemmatizer\n",
    "\n",
    "path_to_text = \"../data/ftb/flmf3_01000_01499ep.aa.pos\"\n",
    "\n",
    "with open(path_to_text) as f:\n",
    "    text = f.read()"
   ]
  },
  {
   "cell_type": "markdown",
   "id": "e8c5303b-8245-40ff-8e8b-fbecd69988f4",
   "metadata": {},
   "source": [
    "### Segmentation du texte"
   ]
  },
  {
   "cell_type": "markdown",
   "id": "9e7fe993-087d-4163-a9cd-ee2a5293f9db",
   "metadata": {},
   "source": [
    "Transformez le texte en une liste de tuples `(token, pos)`. Vous veillerez à basculer les tokens en bas de casse tout en filtrant les signes de ponctuation :"
   ]
  },
  {
   "cell_type": "code",
   "execution_count": null,
   "id": "afc747ee-ab9d-4d7c-86c9-c8eea85809de",
   "metadata": {},
   "outputs": [],
   "source": [
    "# your code here"
   ]
  },
  {
   "cell_type": "markdown",
   "id": "b8103501-3c71-4a1d-9bb5-fb8f52a056c9",
   "metadata": {},
   "source": [
    "### Retirer les mots vides"
   ]
  },
  {
   "cell_type": "markdown",
   "id": "26bc6da7-bbfe-4905-9537-88f6a1bc6236",
   "metadata": {},
   "source": [
    "La seconde étape consiste à retirer les mots vides de la liste :"
   ]
  },
  {
   "cell_type": "code",
   "execution_count": null,
   "id": "ad873290-46f0-4d3a-9cac-eeaa9044c84f",
   "metadata": {},
   "outputs": [],
   "source": [
    "# your code here"
   ]
  },
  {
   "cell_type": "markdown",
   "id": "c86ca9f9-c110-48cc-af45-bb37e88136d2",
   "metadata": {},
   "source": [
    "### Limiter à certaines catégorie de mots"
   ]
  },
  {
   "cell_type": "markdown",
   "id": "f12e5498-f96c-431d-a577-195dd4d15950",
   "metadata": {},
   "source": [
    "Affichons toutes les étiquettes de notre liste de tokens :"
   ]
  },
  {
   "cell_type": "code",
   "execution_count": null,
   "id": "a2ebfa03-b101-47b7-9287-fba9afcfad70",
   "metadata": {},
   "outputs": [],
   "source": [
    "tags = { tag for word, tag in tokens }\n",
    "\n",
    "print(tags)"
   ]
  },
  {
   "cell_type": "markdown",
   "id": "b01396a1-a4db-4625-b901-85f06620b844",
   "metadata": {},
   "source": [
    "Nous souhaitons ne conserver que les tokens identifiés comme noms (`N`), adjectifs (`A`), adverbes (`ADV`) et verbes (`V`). Établissez une nouvelle liste de tokens à partir de ces contraintes :"
   ]
  },
  {
   "cell_type": "code",
   "execution_count": null,
   "id": "1ea4eef2-bfd1-4389-bb55-13da5b8b2b98",
   "metadata": {},
   "outputs": [],
   "source": [
    "# your code here"
   ]
  },
  {
   "cell_type": "markdown",
   "id": "1ff96206-270e-4975-8d62-409f58b378b1",
   "metadata": {},
   "source": [
    "### Lemmatiser les mots"
   ]
  },
  {
   "cell_type": "markdown",
   "id": "c911d8e5-3b94-420a-a2fc-b0252330be68",
   "metadata": {},
   "source": [
    "Avant de finaliser votre sac de mots, récupérer une liste de lemmes dans une variable `lemmas` grâce au *French Lefff Lemmatizer*. Vous aurez besoin d’effectuer une correspondance entre les étiquettes :"
   ]
  },
  {
   "cell_type": "code",
   "execution_count": null,
   "id": "1d19770c-3a39-48b4-b6bb-142b1116850f",
   "metadata": {},
   "outputs": [],
   "source": [
    "# your code here"
   ]
  },
  {
   "cell_type": "markdown",
   "id": "cac126e6-b053-42e1-86f6-1bf49b6a8a3b",
   "metadata": {},
   "source": [
    "### Compter les occurrences"
   ]
  },
  {
   "cell_type": "markdown",
   "id": "7985cbae-001d-4d4e-9153-4fbbcfbea8b0",
   "metadata": {},
   "source": [
    "À l’aide de la classe `FreqDist`, créez une variable `bow` qui sera votre sac de mots !"
   ]
  },
  {
   "cell_type": "code",
   "execution_count": null,
   "id": "f34833de-3997-4dd5-aec9-d1010dc42785",
   "metadata": {},
   "outputs": [],
   "source": [
    "# your code here"
   ]
  },
  {
   "cell_type": "markdown",
   "id": "938ad577-0e03-493a-bb1c-1bc6bfdbbbd6",
   "metadata": {},
   "source": [
    "Pour vérification, affichons la liste des quinze lemmes les plus fréquents :"
   ]
  },
  {
   "cell_type": "code",
   "execution_count": null,
   "id": "0f7cd7a1-1931-4b2a-9675-a704827a54dc",
   "metadata": {},
   "outputs": [],
   "source": [
    "bow.most_common(15)"
   ]
  }
 ],
 "metadata": {
  "kernelspec": {
   "display_name": "Python 3 (ipykernel)",
   "language": "python",
   "name": "python3"
  },
  "language_info": {
   "codemirror_mode": {
    "name": "ipython",
    "version": 3
   },
   "file_extension": ".py",
   "mimetype": "text/x-python",
   "name": "python",
   "nbconvert_exporter": "python",
   "pygments_lexer": "ipython3",
   "version": "3.10.6"
  }
 },
 "nbformat": 4,
 "nbformat_minor": 5
}
