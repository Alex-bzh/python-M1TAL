{
 "cells": [
  {
   "cell_type": "markdown",
   "metadata": {
    "slideshow": {
     "slide_type": "slide"
    }
   },
   "source": [
    "# Charger un corpus de mots étiquetés"
   ]
  },
  {
   "cell_type": "markdown",
   "metadata": {
    "slideshow": {
     "slide_type": "slide"
    }
   },
   "source": [
    "## Corpus pré-installés\n",
    "\n",
    "NLTK est livré avec des corpus étiquetés (*Brown*, *Penn Treebank*…) et des outils pour les interroger efficacement. Si un corpus n’est pas installé, utiliser la routine `nltk.download()` pour le télécharger."
   ]
  },
  {
   "cell_type": "code",
   "execution_count": null,
   "metadata": {
    "slideshow": {
     "slide_type": "fragment"
    }
   },
   "outputs": [],
   "source": [
    "from nltk.corpus import brown\n",
    "print(brown.words())"
   ]
  },
  {
   "cell_type": "code",
   "execution_count": null,
   "metadata": {
    "slideshow": {
     "slide_type": "fragment"
    }
   },
   "outputs": [],
   "source": [
    "print(brown.sents()[0])"
   ]
  },
  {
   "cell_type": "markdown",
   "metadata": {
    "slideshow": {
     "slide_type": "subslide"
    }
   },
   "source": [
    "Certaines de ces méthodes permettent d’afficher les étiquettes grammaticales associées aux tokens :"
   ]
  },
  {
   "cell_type": "code",
   "execution_count": null,
   "metadata": {
    "slideshow": {
     "slide_type": "fragment"
    }
   },
   "outputs": [],
   "source": [
    "print(brown.tagged_words())"
   ]
  },
  {
   "cell_type": "code",
   "execution_count": null,
   "metadata": {
    "slideshow": {
     "slide_type": "fragment"
    }
   },
   "outputs": [],
   "source": [
    "print(brown.tagged_sents()[0])"
   ]
  },
  {
   "cell_type": "markdown",
   "metadata": {
    "slideshow": {
     "slide_type": "slide"
    }
   },
   "source": [
    "## Corpus personnalisés\n",
    "\n",
    "NLTK propose également une classe (`TaggedCorpusReader`) pour charger un corpus étiqueté personnalisé afin de le manipuler directement avec les mêmes outils."
   ]
  },
  {
   "cell_type": "markdown",
   "metadata": {
    "slideshow": {
     "slide_type": "subslide"
    }
   },
   "source": [
    "### French Treebank\n",
    "\n",
    "Dans le dossier *ftb* se trouvent quatre fichiers qui forment un extrait dans une version appauvrie au format *word/tag* du [*French Treebank*](http://ftb.linguist.univ-paris-diderot.fr/) (FTB)."
   ]
  },
  {
   "cell_type": "code",
   "execution_count": null,
   "metadata": {
    "slideshow": {
     "slide_type": "fragment"
    }
   },
   "outputs": [],
   "source": [
    "from nltk.corpus.reader import TaggedCorpusReader\n",
    "reader = TaggedCorpusReader('./data/ftb', r'.*\\.pos')\n",
    "print(reader.tagged_sents()[0])"
   ]
  },
  {
   "cell_type": "markdown",
   "metadata": {
    "slideshow": {
     "slide_type": "fragment"
    }
   },
   "source": [
    "**Remarque :** le jeu d’étiquettes est différent de celui employé pour le corpus *Brown*. La [documentation officielle du FTB](http://ftb.linguist.univ-paris-diderot.fr/treebank.php?fichier=documentation) permet de saisir la nomenclature."
   ]
  },
  {
   "cell_type": "markdown",
   "metadata": {
    "slideshow": {
     "slide_type": "subslide"
    }
   },
   "source": [
    "### Configuration manuelle\n",
    "\n",
    "La classe `TaggedCorpusReader` vient avec des options de personnalisation pour :\n",
    "- la segmentation en mots (défaut : espace)\n",
    "- la segmentation en phrases (défaut : `\\n`)\n",
    "- le séparateur entre le token et son étiquette (défaut : */*)\n",
    "- le séparateur entre les paragraphes (défaut : ligne vierge)"
   ]
  },
  {
   "cell_type": "markdown",
   "metadata": {
    "slideshow": {
     "slide_type": "subslide"
    }
   },
   "source": [
    "Par exemple, pour indiquer formellement que dans le corpus FTB chaque phrase est sur une ligne différente :"
   ]
  },
  {
   "cell_type": "code",
   "execution_count": null,
   "metadata": {
    "slideshow": {
     "slide_type": "-"
    }
   },
   "outputs": [],
   "source": [
    "from nltk.tokenize import LineTokenizer\n",
    "reader = TaggedCorpusReader('./data/ftb', r'.*\\.pos', sent_tokenizer=LineTokenizer())\n",
    "print(reader.sents()[0])"
   ]
  }
 ],
 "metadata": {
  "celltoolbar": "Diaporama",
  "kernelspec": {
   "display_name": "Python 3",
   "language": "python",
   "name": "python3"
  },
  "language_info": {
   "codemirror_mode": {
    "name": "ipython",
    "version": 3
   },
   "file_extension": ".py",
   "mimetype": "text/x-python",
   "name": "python",
   "nbconvert_exporter": "python",
   "pygments_lexer": "ipython3",
   "version": "3.7.7"
  }
 },
 "nbformat": 4,
 "nbformat_minor": 4
}
