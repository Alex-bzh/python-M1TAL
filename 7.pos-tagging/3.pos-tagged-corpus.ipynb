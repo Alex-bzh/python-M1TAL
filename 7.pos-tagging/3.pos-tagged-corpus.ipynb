{
 "cells": [
  {
   "cell_type": "markdown",
   "metadata": {
    "slideshow": {
     "slide_type": "slide"
    }
   },
   "source": [
    "# Charger un corpus de mots étiquetés"
   ]
  },
  {
   "cell_type": "markdown",
   "metadata": {
    "slideshow": {
     "slide_type": "slide"
    }
   },
   "source": [
    "## Corpus pré-installés"
   ]
  },
  {
   "cell_type": "markdown",
   "metadata": {},
   "source": [
    "NLTK est livré avec des corpus étiquetés (*Brown*, *Penn Treebank*…) et des outils pour les interroger efficacement. Si un corpus n’est pas installé, utiliser la routine `nltk.download()` pour le télécharger."
   ]
  },
  {
   "cell_type": "code",
   "execution_count": null,
   "metadata": {},
   "outputs": [],
   "source": [
    "from nltk.corpus import brown"
   ]
  },
  {
   "cell_type": "markdown",
   "metadata": {},
   "source": [
    "Les corpus héritent tous d’une classe `CorpusReader` livrées avec des méthodes pour lister les mots, les phrases ou encore une liste des mots étiquetés :\n",
    "- `.words() `: liste de mots\n",
    "- `.sents() `: liste des phrases\n",
    "- `.paras() `: liste des paragraphes\n",
    "- `.tagged_words() `: liste des mots étiquetés\n",
    "- `.tagged_sents() `: liste de phrases avec la liste de leurs mots étiquetés\n",
    "- `.tagged_paras() `: liste de paragraphes avec la liste de leurs phrases et de leurs mots étiquetés\n",
    "- `.raw() `: contenu brut\n",
    "\n",
    "Pour les utiliser, il suffit de leur transmettre un identifiant de fichier que l’on peut obtenir avec `.fileids()` :"
   ]
  },
  {
   "cell_type": "code",
   "execution_count": null,
   "metadata": {
    "slideshow": {
     "slide_type": "fragment"
    }
   },
   "outputs": [],
   "source": [
    "# all ids\n",
    "file_ids = brown.fileids()\n",
    "# get a file\n",
    "file_id = file_ids[0]\n",
    "# print the tagged sents\n",
    "brown.tagged_sents(file_id)"
   ]
  },
  {
   "cell_type": "markdown",
   "metadata": {
    "slideshow": {
     "slide_type": "slide"
    }
   },
   "source": [
    "## Corpus personnalisés"
   ]
  },
  {
   "cell_type": "markdown",
   "metadata": {},
   "source": [
    "NLTK propose également une classe (`TaggedCorpusReader`) pour charger un corpus étiqueté personnalisé afin de le manipuler directement avec les mêmes outils."
   ]
  },
  {
   "cell_type": "markdown",
   "metadata": {
    "slideshow": {
     "slide_type": "subslide"
    }
   },
   "source": [
    "### French Treebank"
   ]
  },
  {
   "cell_type": "markdown",
   "metadata": {},
   "source": [
    "Dans le dossier *ftb* se trouvent quatre fichiers qui forment un extrait dans une version appauvrie au format *word/tag* du [*French Treebank*](http://ftb.linguist.univ-paris-diderot.fr/) (FTB)."
   ]
  },
  {
   "cell_type": "code",
   "execution_count": null,
   "metadata": {
    "slideshow": {
     "slide_type": "fragment"
    }
   },
   "outputs": [],
   "source": [
    "from nltk.corpus.reader import TaggedCorpusReader\n",
    "\n",
    "# import ftb as a TaggedCorpusReader\n",
    "reader = TaggedCorpusReader('./data/ftb', r'.*\\.pos')\n",
    "\n",
    "# all ids\n",
    "file_ids = reader.fileids()\n",
    "# get a file\n",
    "file_id = file_ids[0]\n",
    "# print first tagged sent\n",
    "reader.tagged_sents()[0]"
   ]
  },
  {
   "cell_type": "markdown",
   "metadata": {
    "slideshow": {
     "slide_type": "fragment"
    }
   },
   "source": [
    "**Remarque :** le jeu d’étiquettes est différent de celui employé pour le corpus *Brown*. La [documentation officielle du FTB](http://ftb.linguist.univ-paris-diderot.fr/treebank.php?fichier=documentation) permet de saisir la nomenclature."
   ]
  },
  {
   "cell_type": "markdown",
   "metadata": {
    "slideshow": {
     "slide_type": "subslide"
    }
   },
   "source": [
    "### Configuration manuelle"
   ]
  },
  {
   "cell_type": "markdown",
   "metadata": {
    "slideshow": {
     "slide_type": "subslide"
    }
   },
   "source": [
    "La classe `TaggedCorpusReader` vient avec des options de personnalisation pour :\n",
    "- la segmentation en mots (défaut : espace)\n",
    "- la segmentation en phrases (défaut : `\\n`)\n",
    "- le séparateur entre le token et son étiquette (défaut : */*)\n",
    "- le séparateur entre les paragraphes (défaut : ligne vierge)\n",
    "\n",
    "Par exemple, pour indiquer formellement que dans le corpus FTB chaque phrase est sur une ligne différente :"
   ]
  },
  {
   "cell_type": "code",
   "execution_count": null,
   "metadata": {
    "slideshow": {
     "slide_type": "-"
    }
   },
   "outputs": [],
   "source": [
    "from nltk.tokenize import LineTokenizer\n",
    "\n",
    "reader = TaggedCorpusReader('./data/ftb', r'.*\\.pos', sent_tokenizer=LineTokenizer())\n",
    "\n",
    "reader.sents()[0]"
   ]
  }
 ],
 "metadata": {
  "celltoolbar": "Diaporama",
  "kernelspec": {
   "display_name": "Python 3 (ipykernel)",
   "language": "python",
   "name": "python3"
  },
  "language_info": {
   "codemirror_mode": {
    "name": "ipython",
    "version": 3
   },
   "file_extension": ".py",
   "mimetype": "text/x-python",
   "name": "python",
   "nbconvert_exporter": "python",
   "pygments_lexer": "ipython3",
   "version": "3.10.6"
  }
 },
 "nbformat": 4,
 "nbformat_minor": 4
}
