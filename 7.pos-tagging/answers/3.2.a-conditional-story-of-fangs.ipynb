{
 "cells": [
  {
   "cell_type": "markdown",
   "metadata": {},
   "source": [
    "# Une histoire conditionnelle de canines"
   ]
  },
  {
   "cell_type": "markdown",
   "metadata": {},
   "source": [
    "L’objectif de cet exercice est d’utiliser une structure de type `ConditionalFreqDist` au lieu d’une `FreqDist` simple."
   ]
  },
  {
   "cell_type": "markdown",
   "metadata": {},
   "source": [
    "## Une liste de mots étiquetés"
   ]
  },
  {
   "cell_type": "markdown",
   "metadata": {},
   "source": [
    "Préparez tout d’abord une liste des mots présents dans le roman *Dracula* de Bram Stoker, en vous aidant du jeu d’étiquettes *universal part-of-speech tagset* :"
   ]
  },
  {
   "cell_type": "code",
   "execution_count": null,
   "metadata": {},
   "outputs": [],
   "source": [
    "# your code here\n",
    "\n",
    "# import things\n",
    "import nltk\n",
    "from nltk import word_tokenize, pos_tag\n",
    "\n",
    "# get textual content\n",
    "with open('../data/dracula.txt') as f:\n",
    "    text = f.read()\n",
    "\n",
    "# a list of words\n",
    "words = word_tokenize(text)\n",
    "\n",
    "# a list of tagged words\n",
    "tagged = pos_tag(words, tagset=\"universal\")"
   ]
  },
  {
   "cell_type": "markdown",
   "metadata": {},
   "source": [
    "## Une distribution de fréquences conditionnelle"
   ]
  },
  {
   "cell_type": "markdown",
   "metadata": {},
   "source": [
    "Importez la structure `ConditionalFreqDist` qui appartient également au *package* `nltk.probability` :"
   ]
  },
  {
   "cell_type": "code",
   "execution_count": null,
   "metadata": {},
   "outputs": [],
   "source": [
    "# your code here\n",
    "from nltk.probability import ConditionalFreqDist"
   ]
  },
  {
   "cell_type": "markdown",
   "metadata": {},
   "source": [
    "Instanciez une variable `occurrences` de type `ConditionalFreqDist`, les étiquettes servant de conditions :"
   ]
  },
  {
   "cell_type": "code",
   "execution_count": null,
   "metadata": {},
   "outputs": [],
   "source": [
    "# your code here\n",
    "occurrences = nltk.ConditionalFreqDist(\n",
    "    (tag, word)\n",
    "    for word, tag in tagged\n",
    ")"
   ]
  },
  {
   "cell_type": "markdown",
   "metadata": {},
   "source": [
    "Affichez à présent, à l’aide de la méthode `.conditions()`, toutes les conditions présentes dans votre distribution de fréquences :"
   ]
  },
  {
   "cell_type": "code",
   "execution_count": null,
   "metadata": {},
   "outputs": [],
   "source": [
    "# your code here\n",
    "occurrences.conditions()"
   ]
  },
  {
   "cell_type": "markdown",
   "metadata": {},
   "source": [
    "Enfin, en vous aidant de la méthode `.plot()`, affichez les 25 adverbes les plus fréquents du roman :"
   ]
  },
  {
   "cell_type": "code",
   "execution_count": null,
   "metadata": {},
   "outputs": [],
   "source": [
    "# your code here\n",
    "%config InlineBackend.figure_format='retina'\n",
    "plot = occurrences['ADV'].plot(25, title=\"Distribution de fréquences des adverbes dans Dracula\")"
   ]
  }
 ],
 "metadata": {
  "kernelspec": {
   "display_name": "Python 3 (ipykernel)",
   "language": "python",
   "name": "python3"
  },
  "language_info": {
   "codemirror_mode": {
    "name": "ipython",
    "version": 3
   },
   "file_extension": ".py",
   "mimetype": "text/x-python",
   "name": "python",
   "nbconvert_exporter": "python",
   "pygments_lexer": "ipython3",
   "version": "3.10.6"
  }
 },
 "nbformat": 4,
 "nbformat_minor": 4
}
