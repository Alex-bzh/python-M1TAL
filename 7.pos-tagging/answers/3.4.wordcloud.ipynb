{
 "cells": [
  {
   "cell_type": "markdown",
   "id": "0ee8198c-0804-4f30-95ce-457c59144567",
   "metadata": {},
   "source": [
    "# Des mots en l’air"
   ]
  },
  {
   "cell_type": "markdown",
   "id": "a6b6a919-06e0-4920-ac49-fd284c4f3901",
   "metadata": {},
   "source": [
    "Une application fréquente issue des techniques de traitement de textes consiste à afficher un nuage de mots. En Python, la bibliothèque [*Wordcloud*](https://amueller.github.io/word_cloud/) permet de gérer ces aspects."
   ]
  },
  {
   "cell_type": "markdown",
   "id": "8ada4e99-712d-4633-87fb-59c160336005",
   "metadata": {},
   "source": [
    "## Générer rapidement une image"
   ]
  },
  {
   "cell_type": "markdown",
   "id": "22e73b58-c9f8-4f15-857a-b17aadbd2bf8",
   "metadata": {},
   "source": [
    "Un exemple minimaliste recourt à la méthode `.generate()` de la classe `WordCloud()` pour convertir une chaîne de caractères en un objet transformable par la méthode `.to_image()` :"
   ]
  },
  {
   "cell_type": "code",
   "execution_count": null,
   "id": "290521b8-77c5-4394-9bc9-cb23f5108c39",
   "metadata": {},
   "outputs": [],
   "source": [
    "import wordcloud as wc\n",
    "\n",
    "text = \"Le petit chat boit du lait.\"\n",
    "wordcloud = wc.WordCloud().generate(text)\n",
    "wordcloud.to_image()"
   ]
  },
  {
   "cell_type": "markdown",
   "id": "349e3534-66f6-42ae-abff-1c99d73f552c",
   "metadata": {},
   "source": [
    "La compatibilité avec *Matplotlib* ouvre des possibilités de personnalisation plus importantes :"
   ]
  },
  {
   "cell_type": "code",
   "execution_count": null,
   "id": "a1f24804-5e1e-4955-9fd3-6b0984e686ea",
   "metadata": {},
   "outputs": [],
   "source": [
    "import matplotlib.pyplot as plt\n",
    "\n",
    "plt.figure(figsize=(4,4))\n",
    "plt.imshow(wordcloud, interpolation=\"bilinear\")\n",
    "plt.axis(\"off\")\n",
    "plt.show()"
   ]
  },
  {
   "cell_type": "markdown",
   "id": "852d70ff-73c6-4284-9fc8-0573ff2d7f2b",
   "metadata": {},
   "source": [
    "## Un dictionnaire des fréquences"
   ]
  },
  {
   "cell_type": "markdown",
   "id": "8edba85d-7951-482a-bd8a-15c279638b3d",
   "metadata": {},
   "source": [
    "Commencez par importer le fichier [*dracula.pos*](../data/dracula.pos) qui contient le texte *Dracula* de Bram Stoker dans une version étiquetée par *TreeTagger*. Au final, tâchez d’obtenir une liste de tuples contenant le lemme et son étiquette morphosyntaxique à partir du moment où le mot ne figure pas dans la liste des mots vides de l’anglais (*stopwords*) :"
   ]
  },
  {
   "cell_type": "code",
   "execution_count": null,
   "id": "5ba834b0-41ef-43a3-803c-bec7c9d00bc1",
   "metadata": {},
   "outputs": [],
   "source": [
    "# your code here\n",
    "\n",
    "import csv\n",
    "import nltk\n",
    "from nltk.corpus import stopwords\n",
    "\n",
    "stopwords = stopwords.words('english')\n",
    "\n",
    "with open('../data/dracula.pos', newline='') as csvfile:\n",
    "    reader = csv.DictReader(csvfile, delimiter='\\t', fieldnames=['word', 'tag', 'lemma'])\n",
    "    tokens = [\n",
    "        tuple([row['lemma'], row['tag']])\n",
    "        for row in reader\n",
    "        if row['word'].lower() not in stopwords\n",
    "    ]"
   ]
  },
  {
   "cell_type": "markdown",
   "id": "ff8d9734-340a-401a-9934-d3abf569b876",
   "metadata": {},
   "source": [
    "En regardant la liste de plus près, vous observez que certains résultats peuvent être enlevés comme :\n",
    "\n",
    "- les lemmes qui valent `None` ;\n",
    "- les lemmes qui valent `'<unknown>'` ;\n",
    "- les lemmes de moins de trois caractères ;\n",
    "- …\n",
    "\n",
    "La liste n’est pas complète, aussi construisez un filtre qui vous permette de régler tous ces cas :"
   ]
  },
  {
   "cell_type": "code",
   "execution_count": null,
   "id": "9e01bc94-d7c9-4ca3-ad26-5f794abf0cdd",
   "metadata": {},
   "outputs": [],
   "source": [
    "# your code here\n",
    "\n",
    "filtered = list(filter(lambda x: x[0] not in [None, '@card@', '<unknown>'] and len(x[0]) > 3, tokens))"
   ]
  },
  {
   "cell_type": "markdown",
   "id": "c45c4d97-23ca-4ecd-a38d-30470ea934eb",
   "metadata": {},
   "source": [
    "À partir de cette liste, dressez un dictionnaire des fréquences :"
   ]
  },
  {
   "cell_type": "code",
   "execution_count": null,
   "id": "f9b0f142-52fa-4799-8bb9-abc71d2ed7ef",
   "metadata": {},
   "outputs": [],
   "source": [
    "# your code here\n",
    "\n",
    "import nltk\n",
    "from nltk.probability import FreqDist\n",
    "\n",
    "occurrences = nltk.FreqDist(filtered)"
   ]
  },
  {
   "cell_type": "markdown",
   "id": "f87c1047-cfdb-4448-91ed-9cc51beaafdc",
   "metadata": {},
   "source": [
    "## Un nuage de lemmes"
   ]
  },
  {
   "cell_type": "markdown",
   "id": "4e7fe547-55f9-4dec-b74e-2e13348226bc",
   "metadata": {},
   "source": [
    "La méthode `.generate_from_frequencies()` de la classe `WordCloud()` attend en paramètre un dictionnaire des fréquences au format :\n",
    "\n",
    "```python\n",
    "{\n",
    "    'word': freq\n",
    "}\n",
    "```\n",
    "\n",
    "Convertissez votre structure de données afin de coller aux besoins de *Wordcloud* :"
   ]
  },
  {
   "cell_type": "code",
   "execution_count": null,
   "id": "7f86ad3a-47c4-4629-aada-f5d749d6b256",
   "metadata": {},
   "outputs": [],
   "source": [
    "# your code here\n",
    "\n",
    "data = { lemma: nb for (lemma, _), nb in occurrences.items() }"
   ]
  },
  {
   "cell_type": "markdown",
   "id": "a7caf1c9-35b2-4c63-87f7-d6b9ddde5afc",
   "metadata": {},
   "source": [
    "Puis construisez votre nuage de lemmes :"
   ]
  },
  {
   "cell_type": "code",
   "execution_count": null,
   "id": "d033cd3a-0e05-427a-9eb9-8d7c62f51bc1",
   "metadata": {},
   "outputs": [],
   "source": [
    "# your code here\n",
    "\n",
    "wordcloud = wc.WordCloud().generate_from_frequencies(data)\n",
    "\n",
    "plt.figure(figsize=(8,8))\n",
    "plt.imshow(wordcloud, interpolation=\"bilinear\")\n",
    "plt.axis(\"off\")\n",
    "plt.show()"
   ]
  },
  {
   "cell_type": "markdown",
   "id": "08760156-7778-4b07-9ffb-484223713531",
   "metadata": {},
   "source": [
    "## Personnalisation"
   ]
  },
  {
   "cell_type": "markdown",
   "id": "63722eb4-080d-40b9-b646-f2da38ecb026",
   "metadata": {},
   "source": [
    "De nombreuses options de personnalisation sont proposées par la librairie *Wordcloud*. Parcourez la documentation et testez certaines des possibilités !"
   ]
  },
  {
   "cell_type": "code",
   "execution_count": null,
   "id": "6677f2d9-7469-44e1-969b-d46bc641f6f4",
   "metadata": {},
   "outputs": [],
   "source": [
    "# your code here\n",
    "\n",
    "import numpy as np\n",
    "from PIL import Image\n",
    "\n",
    "mask = np.array(Image.open(\"../images/bat_mask.png\"))\n",
    "wordcloud = wc.WordCloud(background_color='white', max_words=1000, mask=mask).generate_from_frequencies(data)\n",
    "\n",
    "plt.figure(figsize=(12,12))\n",
    "plt.imshow(wordcloud, interpolation=\"bilinear\")\n",
    "plt.axis(\"off\")\n",
    "plt.show()"
   ]
  }
 ],
 "metadata": {
  "kernelspec": {
   "display_name": "Python 3 (ipykernel)",
   "language": "python",
   "name": "python3"
  },
  "language_info": {
   "codemirror_mode": {
    "name": "ipython",
    "version": 3
   },
   "file_extension": ".py",
   "mimetype": "text/x-python",
   "name": "python",
   "nbconvert_exporter": "python",
   "pygments_lexer": "ipython3",
   "version": "3.8.17"
  }
 },
 "nbformat": 4,
 "nbformat_minor": 5
}
