{
 "cells": [
  {
   "cell_type": "markdown",
   "metadata": {
    "slideshow": {
     "slide_type": "slide"
    }
   },
   "source": [
    "# De l’étiquetage avec *TreeTagger*"
   ]
  },
  {
   "cell_type": "markdown",
   "metadata": {
    "slideshow": {
     "slide_type": "slide"
    }
   },
   "source": [
    "## Un étiqueteur pré-entraîné"
   ]
  },
  {
   "cell_type": "markdown",
   "metadata": {
    "slideshow": {
     "slide_type": "subslide"
    }
   },
   "source": [
    "*TreeTagger* est un étiqueteur morpho-syntaxique pré-entraîné pour de multiples langues (anglais, allemand, français, espagnol, italien…). Il est développé à [l’IMS de Stuttgart](https://www.ims.uni-stuttgart.de/) par Helmut Schmid.\n",
    "\n",
    "Afin de le rendre accessible depuis les *notebooks*, vous aurez besoin de rajouter le chemin vers *TreeTagger* dans la variable d’environnement `PATH` :"
   ]
  },
  {
   "cell_type": "code",
   "execution_count": null,
   "metadata": {},
   "outputs": [],
   "source": [
    "import os\n",
    "\n",
    "os.environ['PATH'] = f\"{os.environ['PATH']}:{os.environ['HOME']}/7.pos-tagging/TreeTagger/cmd\"\n",
    "os.environ['PATH'] = f\"{os.environ['PATH']}:{os.environ['HOME']}/7.pos-tagging/TreeTagger/bin\""
   ]
  },
  {
   "cell_type": "markdown",
   "metadata": {},
   "source": [
    "Il s’utilise ensuite en ligne de commande :"
   ]
  },
  {
   "cell_type": "code",
   "execution_count": null,
   "metadata": {},
   "outputs": [],
   "source": [
    "!echo \"A Lannister always pays his debts.\" | tree-tagger-english"
   ]
  },
  {
   "cell_type": "markdown",
   "metadata": {},
   "source": [
    "**Important !** Installer *TreeTagger* sur un ordinateur. La procédure d’installation de l’utilitaire et de ses fichiers de paramètres est détaillée dans [la documentation en ligne](https://www.cis.uni-muenchen.de/~schmid/tools/TreeTagger/)."
   ]
  },
  {
   "cell_type": "markdown",
   "metadata": {
    "slideshow": {
     "slide_type": "slide"
    }
   },
   "source": [
    "## Interpréter une commande *shell* avec Python"
   ]
  },
  {
   "cell_type": "markdown",
   "metadata": {},
   "source": [
    "Le langage Python permet d’exécuter des commandes *shell* directement grâce à différents modules, dont `subprocess` :"
   ]
  },
  {
   "cell_type": "code",
   "execution_count": null,
   "metadata": {
    "slideshow": {
     "slide_type": "-"
    }
   },
   "outputs": [],
   "source": [
    "import subprocess\n",
    "\n",
    "result = subprocess.run(\n",
    "    \"echo 'A Lannister always pays his debts.' | tree-tagger-english\",\n",
    "    shell=True,\n",
    "    stdout=subprocess.PIPE).stdout\n",
    "\n",
    "print(result)"
   ]
  },
  {
   "cell_type": "markdown",
   "metadata": {
    "slideshow": {
     "slide_type": "subslide"
    }
   },
   "source": [
    "L’opération renvoie un objet de type *bytes* qu’il faut décoder :"
   ]
  },
  {
   "cell_type": "code",
   "execution_count": null,
   "metadata": {
    "slideshow": {
     "slide_type": "-"
    }
   },
   "outputs": [],
   "source": [
    "result = result.decode()\n",
    "\n",
    "print(result)"
   ]
  },
  {
   "cell_type": "markdown",
   "metadata": {
    "slideshow": {
     "slide_type": "slide"
    }
   },
   "source": [
    "## Interface *TreeTagger* et Python"
   ]
  },
  {
   "cell_type": "markdown",
   "metadata": {},
   "source": [
    "Une meilleure solution consiste à utiliser un *wrapper*, une interface entre Python et l’instance de *TreeTagger* installée en local. Celle de [Mirko Otto](https://github.com/miotto/treetagger-python) offre des méthodes essentielles pour une configuration minimale.\n",
    "\n",
    "Une fois l’interface installée, elle offre accès à une classe `TreeTagger` :"
   ]
  },
  {
   "cell_type": "code",
   "execution_count": null,
   "metadata": {
    "slideshow": {
     "slide_type": "-"
    }
   },
   "outputs": [],
   "source": [
    "from TreeTagger.treetagger import TreeTagger"
   ]
  },
  {
   "cell_type": "markdown",
   "metadata": {
    "slideshow": {
     "slide_type": "subslide"
    }
   },
   "source": [
    "À ce stade, il faut connaître le chemin vers *TreeTagger* sur son ordinateur. **Attention !** Si *TreeTagger* n’est pas installé, l’interface renverra une erreur.\n",
    "\n",
    "Pour connaître l’emplacement de *TreeTagger* sur son ordinateur, taper dans un terminal la commande ci-dessous et ne récupérer que la partie avant `/cmd/tree-tagger-english` :\n",
    "\n",
    "```bash\n",
    "which tree-tagger-english\n",
    "```\n",
    "\n",
    "En cas d’échec (notamment lorsque le chemin vers l’exécutable n’a pas été inclus à la variable d’environnement `PATH`), effectuer une recherche depuis la racine :\n",
    "\n",
    "```bash\n",
    "find / -type d -name TreeTagger 2>/dev/null\n",
    "```\n",
    "\n",
    "Sur le calepin électronique *Jupyter* :"
   ]
  },
  {
   "cell_type": "code",
   "execution_count": null,
   "metadata": {},
   "outputs": [],
   "source": [
    "path = !which tree-tagger-english\n",
    "\n",
    "tt_path = path[0].replace(\"cmd/tree-tagger-english\", \"\")"
   ]
  },
  {
   "cell_type": "markdown",
   "metadata": {},
   "source": [
    "Une fois en possession du chemin vers le programme, paramétrer l’étiqueteur :"
   ]
  },
  {
   "cell_type": "code",
   "execution_count": null,
   "metadata": {
    "slideshow": {
     "slide_type": "-"
    }
   },
   "outputs": [],
   "source": [
    "tagger = TreeTagger(path_to_treetagger=tt_path)"
   ]
  },
  {
   "cell_type": "markdown",
   "metadata": {
    "slideshow": {
     "slide_type": "fragment"
    }
   },
   "source": [
    "Puis lancer l’étiquetage avec la méthode `.tag()` :"
   ]
  },
  {
   "cell_type": "code",
   "execution_count": null,
   "metadata": {
    "slideshow": {
     "slide_type": "-"
    }
   },
   "outputs": [],
   "source": [
    "tagger.tag('A Lannister always pays his debts.')"
   ]
  },
  {
   "cell_type": "markdown",
   "metadata": {
    "slideshow": {
     "slide_type": "subslide"
    }
   },
   "source": [
    "Pour effectuer un étiquetage dans une autre langue, s’assurer au préalable que les fichiers de paramétrage existent :"
   ]
  },
  {
   "cell_type": "code",
   "execution_count": null,
   "metadata": {
    "slideshow": {
     "slide_type": "-"
    }
   },
   "outputs": [],
   "source": [
    "tagger.get_installed_lang()"
   ]
  },
  {
   "cell_type": "markdown",
   "metadata": {
    "slideshow": {
     "slide_type": "fragment"
    }
   },
   "source": [
    "Puis paramétrer l’étiqueteur pour la langue désirée avec le mot-clé `language` avant de lancer l’étiquetage :"
   ]
  },
  {
   "cell_type": "code",
   "execution_count": null,
   "metadata": {
    "slideshow": {
     "slide_type": "-"
    }
   },
   "outputs": [],
   "source": [
    "tagger = TreeTagger(path_to_treetagger=tt_path, language='french')\n",
    "tagger.tag('Le petit chat boit du lait.')"
   ]
  }
 ],
 "metadata": {
  "celltoolbar": "Diaporama",
  "kernelspec": {
   "display_name": "Python 3 (ipykernel)",
   "language": "python",
   "name": "python3"
  },
  "language_info": {
   "codemirror_mode": {
    "name": "ipython",
    "version": 3
   },
   "file_extension": ".py",
   "mimetype": "text/x-python",
   "name": "python",
   "nbconvert_exporter": "python",
   "pygments_lexer": "ipython3",
   "version": "3.9.13"
  }
 },
 "nbformat": 4,
 "nbformat_minor": 4
}
