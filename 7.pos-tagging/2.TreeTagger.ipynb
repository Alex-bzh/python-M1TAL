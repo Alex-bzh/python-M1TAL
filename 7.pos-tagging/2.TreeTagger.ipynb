{
 "cells": [
  {
   "cell_type": "markdown",
   "metadata": {
    "slideshow": {
     "slide_type": "slide"
    }
   },
   "source": [
    "# De l’étiquetage avec *TreeTagger*"
   ]
  },
  {
   "cell_type": "markdown",
   "metadata": {
    "slideshow": {
     "slide_type": "slide"
    }
   },
   "source": [
    "## Un étiqueteur pré-entraîné"
   ]
  },
  {
   "cell_type": "markdown",
   "metadata": {
    "slideshow": {
     "slide_type": "subslide"
    }
   },
   "source": [
    "*TreeTagger* est un étiqueteur morpho-syntaxique pré-entraîné pour de multiples langues (anglais, allemand, français, espagnol, italien…). Il est développé à [l’IMS de Stuttgart](https://www.ims.uni-stuttgart.de/) par Helmut Schmid.\n",
    "\n",
    "**Important !** Installer *TreeTagger* sur un ordinateur. La procédure d’installation de l’utilitaire et de ses fichiers de paramètre est détaillée dans [la documentation en ligne](https://www.cis.uni-muenchen.de/~schmid/tools/TreeTagger/). Un [script d’installation](./TreeTagger/install.sh) est disponible dans le répertoire *TreeTagger*, pour une installation sur un système Linux. Avant de l’exécuter, vérifiez bien que vous êtes en accord avec toutes les instructions.\n",
    "\n",
    "```bash\n",
    "# install TreeTagger\n",
    "source install.sh\n",
    "```\n",
    "\n",
    "Il s’utilise en ligne de commande :\n",
    "```shell\n",
    "echo \"A Lannister always pays his debts.\" | tree-tagger-english\n",
    "```\n",
    "\n",
    "Résultat de l’étiquetage (+ lemmatisation), au format tabulé :\n",
    "```\n",
    "A\tAT0\ta\n",
    "Lannister\tNN1\t<unknown>\n",
    "always\tAV0\talways\n",
    "pays\tVBZ\tpay\n",
    "his\tDPS\the\n",
    "debts\tNN2\tdebt\n",
    ".\tSENT\t.\n",
    "```"
   ]
  },
  {
   "cell_type": "markdown",
   "metadata": {
    "slideshow": {
     "slide_type": "slide"
    }
   },
   "source": [
    "## Interpréter une commande *shell* avec Python"
   ]
  },
  {
   "cell_type": "markdown",
   "metadata": {},
   "source": [
    "Le langage Python permet d’exécuter des commandes *shell* directement grâce à différents modules, dont `subprocess` :"
   ]
  },
  {
   "cell_type": "code",
   "execution_count": null,
   "metadata": {
    "slideshow": {
     "slide_type": "-"
    }
   },
   "outputs": [],
   "source": [
    "import subprocess\n",
    "result = subprocess.run(\"echo 'A Lannister always pays his debts.' | tree-tagger-english\", shell=True, stdout=subprocess.PIPE).stdout\n",
    "print(result)"
   ]
  },
  {
   "cell_type": "markdown",
   "metadata": {
    "slideshow": {
     "slide_type": "subslide"
    }
   },
   "source": [
    "L’opération renvoie un objet de type *bytes* qu’il faut décoder :"
   ]
  },
  {
   "cell_type": "code",
   "execution_count": null,
   "metadata": {
    "slideshow": {
     "slide_type": "-"
    }
   },
   "outputs": [],
   "source": [
    "result = result.decode()\n",
    "print(result)"
   ]
  },
  {
   "cell_type": "markdown",
   "metadata": {
    "slideshow": {
     "slide_type": "slide"
    }
   },
   "source": [
    "## Interface *TreeTagger* et Python"
   ]
  },
  {
   "cell_type": "markdown",
   "metadata": {},
   "source": [
    "Une meilleure solution consiste à utiliser un *wrapper*, une interface entre Python et l’instance de *TreeTagger* installée en local. Celle de [Mirko Otto](https://github.com/miotto/treetagger-python) offre des méthodes essentielles pour une configuration minimale.\n",
    "\n",
    "Une fois l’interface installée, elle offre accès à une classe `TreeTagger` :"
   ]
  },
  {
   "cell_type": "code",
   "execution_count": null,
   "metadata": {
    "slideshow": {
     "slide_type": "-"
    }
   },
   "outputs": [],
   "source": [
    "from TreeTagger.treetagger import TreeTagger"
   ]
  },
  {
   "cell_type": "markdown",
   "metadata": {
    "slideshow": {
     "slide_type": "subslide"
    }
   },
   "source": [
    "À ce stade, il faut connaître le chemin vers *TreeTagger* sur son ordinateur. **Attention !** Si *TreeTagger* n’est pas installé, l’interface renverra une erreur.\n",
    "\n",
    "Pour connaître l’emplacement de *TreeTagger* sur son ordinateur, taper dans un terminal la commande :\n",
    "```shell\n",
    "which tree-tagger-english\n",
    "```\n",
    "\n",
    "En cas d’échec (notamment lorsque le chemin vers l’exécutable n’a pas été inclus à la variable d’environnement `PATH`), effectuer une recherche depuis la racine :\n",
    "```shell\n",
    "find / -type d -name TreeTagger 2>/dev/null\n",
    "```\n",
    "Une fois en possession du chemin vers le programme, paramétrer l’étiqueteur :"
   ]
  },
  {
   "cell_type": "code",
   "execution_count": null,
   "metadata": {
    "slideshow": {
     "slide_type": "-"
    }
   },
   "outputs": [],
   "source": [
    "tagger = TreeTagger(path_to_treetagger='/Users/alexandre/Applications/TreeTagger/')"
   ]
  },
  {
   "cell_type": "markdown",
   "metadata": {
    "slideshow": {
     "slide_type": "fragment"
    }
   },
   "source": [
    "Puis lancer l’étiquetage avec la méthode `.tag()` :"
   ]
  },
  {
   "cell_type": "code",
   "execution_count": null,
   "metadata": {
    "slideshow": {
     "slide_type": "-"
    }
   },
   "outputs": [],
   "source": [
    "tagger.tag('A Lannister always pays his debts.')"
   ]
  },
  {
   "cell_type": "markdown",
   "metadata": {
    "slideshow": {
     "slide_type": "subslide"
    }
   },
   "source": [
    "Pour effectuer un étiquetage dans une autre langue, s’assurer au préalable que les fichiers de paramétrage existent :"
   ]
  },
  {
   "cell_type": "code",
   "execution_count": null,
   "metadata": {
    "slideshow": {
     "slide_type": "-"
    }
   },
   "outputs": [],
   "source": [
    "tagger.get_installed_lang()"
   ]
  },
  {
   "cell_type": "markdown",
   "metadata": {
    "slideshow": {
     "slide_type": "fragment"
    }
   },
   "source": [
    "Puis paramétrer l’étiqueteur pour la langue désirée avec le mot-clé `language` avant de lancer l’étiquetage :"
   ]
  },
  {
   "cell_type": "code",
   "execution_count": null,
   "metadata": {
    "slideshow": {
     "slide_type": "-"
    }
   },
   "outputs": [],
   "source": [
    "tagger = TreeTagger(path_to_treetagger='/Users/alexandre/Applications/TreeTagger/', language='french')\n",
    "tagger.tag('Le petit chat boit du lait.')"
   ]
  }
 ],
 "metadata": {
  "celltoolbar": "Diaporama",
  "kernelspec": {
   "display_name": "Python 3 (ipykernel)",
   "language": "python",
   "name": "python3"
  },
  "language_info": {
   "codemirror_mode": {
    "name": "ipython",
    "version": 3
   },
   "file_extension": ".py",
   "mimetype": "text/x-python",
   "name": "python",
   "nbconvert_exporter": "python",
   "pygments_lexer": "ipython3",
   "version": "3.10.6"
  }
 },
 "nbformat": 4,
 "nbformat_minor": 4
}
