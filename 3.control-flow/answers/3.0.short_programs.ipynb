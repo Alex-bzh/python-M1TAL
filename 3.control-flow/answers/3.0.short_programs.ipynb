{
 "cells": [
  {
   "cell_type": "markdown",
   "id": "c29984c3-0804-4aa4-8c25-7e3d3eeffd22",
   "metadata": {},
   "source": [
    "# Aux amateurs de programmes courts"
   ]
  },
  {
   "cell_type": "markdown",
   "id": "3608767c-64a2-4d00-94cf-db1b1fe131aa",
   "metadata": {},
   "source": [
    "Les exercices suivants permettent de mettre rapidement en œuvre les notions apprises sur l’écriture de de fonctions."
   ]
  },
  {
   "cell_type": "markdown",
   "id": "85b8213d-c681-44d5-bf3e-eedfeaa9a2de",
   "metadata": {},
   "source": [
    "## L’aire d’un triangle"
   ]
  },
  {
   "cell_type": "markdown",
   "id": "609de8a8-6e15-45fc-ba8b-16999c0f314c",
   "metadata": {},
   "source": [
    "Écrivez une fonction qui donne l’aire d’un triangle quelconque. Considérant que $b$ est la base du triangle et $h$ sa hauteur, la formule mathématique vaut :\n",
    "\n",
    "$$A = \\frac{b\\times h}{2}$$"
   ]
  },
  {
   "cell_type": "code",
   "execution_count": null,
   "id": "180b9c8f-798d-479b-916a-354e2b3b6b3b",
   "metadata": {},
   "outputs": [],
   "source": [
    "# your code here\n",
    "\n",
    "def area_triangle(b, h):\n",
    "    \"\"\"Area of a triangle.\n",
    "    \n",
    "    b -- int: base\n",
    "    h -- int: height\n",
    "    \"\"\"\n",
    "    return b * h / 2"
   ]
  },
  {
   "cell_type": "markdown",
   "id": "adb35e54-5925-480a-aa17-52c73d393936",
   "metadata": {},
   "source": [
    "## L’aire d’un cercle"
   ]
  },
  {
   "cell_type": "markdown",
   "id": "a693a0f2-5af4-45eb-8728-5a6a12029ddc",
   "metadata": {},
   "source": [
    "En vous basant sur la constante `pi` du module `math`, écrivez une fonction de signature `F(*, x: int) -> float`, avec une précision de quatre décimales après la virgule, qui calcule l’aire d’un cercle selon la formule :\n",
    "\n",
    "$$A = \\pi r^2$$"
   ]
  },
  {
   "cell_type": "code",
   "execution_count": null,
   "id": "64601d59-d714-4565-b46e-65191707ea8a",
   "metadata": {},
   "outputs": [],
   "source": [
    "# your code here\n",
    "\n",
    "import math\n",
    "\n",
    "def F(*, x: int) -> float:\n",
    "    \"\"\"Area of a circle\n",
    "    \n",
    "    x -- radius of a circle\n",
    "    \"\"\"\n",
    "    area = math.pi * x ** 2\n",
    "\n",
    "    return round(area, 4)"
   ]
  },
  {
   "cell_type": "markdown",
   "id": "fbe3a6ea-9e77-400e-80a6-90510e83cacf",
   "metadata": {},
   "source": [
    "## Rester entier"
   ]
  },
  {
   "cell_type": "markdown",
   "id": "c9c6e83e-d845-4658-a587-a8b8d22ee83b",
   "metadata": {},
   "source": [
    "Écrivez une fonction de signature `F(*, n:int) -> list` qui liste les entiers diviseurs d’un nombre. Pour rappel, un nombre est diviseur d’un autre si le résultat de la division est sans reste. Par exemple, 6 n’est pas un diviseur entier de 8 :\n",
    "\n",
    "$$\n",
    "8 = 6 \\times 1 + 2\n",
    "$$\n",
    "\n",
    "**Astuce :** la fonction `range()` permet de constituer une liste d’entiers entre deux nombres."
   ]
  },
  {
   "cell_type": "code",
   "execution_count": null,
   "id": "0eed2917-21be-4340-aaed-de11f3091af1",
   "metadata": {},
   "outputs": [],
   "source": [
    "# your code here\n",
    "\n",
    "def F(*, n:int) -> list:\n",
    "    \"\"\"List the divisors of a given number\"\"\"\n",
    "\n",
    "    # an empty list to collect the results\n",
    "    results = list()\n",
    "\n",
    "    # a list of the divisors to test\n",
    "    divisors = range(1, n + 1)\n",
    "\n",
    "    # test each divisor\n",
    "    for divisor in divisors:\n",
    "        # euclidean division\n",
    "        if n % divisor == 0:\n",
    "            # add to the list of divisors\n",
    "            results.append(divisor)\n",
    "\n",
    "    # return the results\n",
    "    return results\n",
    "\n",
    "# a more straightforward function\n",
    "def F(*, n:int) -> list:\n",
    "    \"\"\"List the divisors of a given number\"\"\"\n",
    "    return [i for i in range(1, n + 1) if n % i == 0]"
   ]
  },
  {
   "cell_type": "markdown",
   "id": "c2272458-1642-445c-8f18-8e1bd9c6ca46",
   "metadata": {},
   "source": [
    "## Vaut-il mieux arriver en tête ou être premier ?"
   ]
  },
  {
   "cell_type": "markdown",
   "id": "234e40a8-1168-45b2-a8ad-85cefde929ef",
   "metadata": {},
   "source": [
    "Sachant qu’un nombre est premier s’il est divisible par 1 et par lui-même, écrivez une fonction pour déterminer si un nombre `n` répond à cette définition. Vous pouvez vous baser sur la fonction précédente."
   ]
  },
  {
   "cell_type": "code",
   "execution_count": null,
   "id": "46c90589-c453-4930-a0c0-612a9d367da9",
   "metadata": {},
   "outputs": [],
   "source": [
    "# your code here\n",
    "\n",
    "def is_prime(n):\n",
    "    \"\"\"Detects if a given number is a prime one.\"\"\"\n",
    "    return True if len(F(n=n)) == 2 else False"
   ]
  }
 ],
 "metadata": {
  "kernelspec": {
   "display_name": "Python 3 (ipykernel)",
   "language": "python",
   "name": "python3"
  },
  "language_info": {
   "codemirror_mode": {
    "name": "ipython",
    "version": 3
   },
   "file_extension": ".py",
   "mimetype": "text/x-python",
   "name": "python",
   "nbconvert_exporter": "python",
   "pygments_lexer": "ipython3",
   "version": "3.10.6"
  }
 },
 "nbformat": 4,
 "nbformat_minor": 5
}
