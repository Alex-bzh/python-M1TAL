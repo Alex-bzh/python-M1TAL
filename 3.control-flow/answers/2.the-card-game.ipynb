{
 "cells": [
  {
   "cell_type": "markdown",
   "metadata": {},
   "source": [
    "## Le jeu de cartes\n",
    "\n",
    "Écrivez un programme qui propose à un utilisateur de penser à une valeur issue d’un jeu de 32 cartes, puis qui devine en trois coups maximum son tirage."
   ]
  },
  {
   "cell_type": "code",
   "execution_count": null,
   "metadata": {},
   "outputs": [],
   "source": [
    "# Votre code ici.\n",
    "print(\"Pensez à une carte issue d'un jeu à 32 cartes. Les figures : Valet, Dame, Roi, As. Les cartes à valeurs numériques : 7, 8, 9 et 10.\")\n",
    "test = input(\"Votre carte représente-t-elle une figure ? (o/n)\\n\")\n",
    "# C'est une figure\n",
    "if test == \"o\":\n",
    "    test = input(\"La figure est-elle masculine ? (o/n)\\n\")\n",
    "    # Figure masculine\n",
    "    if test == \"o\":\n",
    "        test = input(\"Est-ce la valet ? (o/n)\\n\")\n",
    "        if test == \"o\":\n",
    "            print(\"La carte à laquelle vous avez pensé est le Valet.\")\n",
    "        else:\n",
    "            print(\"La carte à laquelle vous avez pensé est le Roi.\")\n",
    "    # Figure non masculine\n",
    "    else:\n",
    "        test = input(\"Est-ce la Dame ? (o/n)\\n\")\n",
    "        if test == \"o\":\n",
    "            print(\"La carte à laquelle vous avez pensé est la Dame.\")\n",
    "        else:\n",
    "            print(\"La carte à laquelle vous avez pensé est l'As.\")\n",
    "# Ce n'est pas une figure (7,8,9 ou 10)\n",
    "else:\n",
    "    test = input(\"Est-ce une valeur paire ? (o/n)\\n\")\n",
    "    if test == \"o\":\n",
    "        test = input(\"Est-ce le 8 ? (o/n)\\n\")\n",
    "        if test == \"o\":\n",
    "            print(\"La carte à laquelle vous avez pensé est le 8.\")\n",
    "        else:\n",
    "            print(\"La carte à laquelle vous avez pensé est le 10.\")\n",
    "    else:\n",
    "        test = input(\"Est-ce le 7 ? (o/n)\\n\")\n",
    "        if test == \"o\":\n",
    "            print(\"La carte à laquelle vous avez pensé est le 7.\")\n",
    "        else:\n",
    "            print(\"La carte à laquelle vous avez pensé est le 9.\")"
   ]
  }
 ],
 "metadata": {
  "kernelspec": {
   "display_name": "Python 3",
   "language": "python",
   "name": "python3"
  },
  "language_info": {
   "codemirror_mode": {
    "name": "ipython",
    "version": 3
   },
   "file_extension": ".py",
   "mimetype": "text/x-python",
   "name": "python",
   "nbconvert_exporter": "python",
   "pygments_lexer": "ipython3",
   "version": "3.8.0"
  }
 },
 "nbformat": 4,
 "nbformat_minor": 4
}
