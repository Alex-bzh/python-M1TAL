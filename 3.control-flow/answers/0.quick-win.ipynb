{
 "cells": [
  {
   "cell_type": "markdown",
   "metadata": {},
   "source": [
    "# Des succès immédiats"
   ]
  },
  {
   "cell_type": "markdown",
   "metadata": {},
   "source": [
    "Avec les énigmes ci-dessous, vous serez amené·es à mettre en œuvre rapidement les structures de contrôle."
   ]
  },
  {
   "cell_type": "markdown",
   "metadata": {},
   "source": [
    "## Un problème capital"
   ]
  },
  {
   "cell_type": "markdown",
   "metadata": {},
   "source": [
    "Mettez en majuscules les mots de la liste grâce à une boucle."
   ]
  },
  {
   "cell_type": "code",
   "execution_count": null,
   "metadata": {},
   "outputs": [],
   "source": [
    "words = [\"A\", \"Lannister\", \"always\", \"pays\", \"his\", \"debts.\"]\n",
    "\n",
    "# your code here\n",
    "\n",
    "for word in words:\n",
    "    print(word.upper())"
   ]
  },
  {
   "cell_type": "markdown",
   "metadata": {},
   "source": [
    "## Ma liste de courses"
   ]
  },
  {
   "cell_type": "markdown",
   "metadata": {},
   "source": [
    "Concevez un programme qui détermine si une valeur entrée par un utilisateur est présente dans une liste prédéterminée de courses. Si la valeur ne fait pas partie de la liste, invitez l’utilisateur à l’enregistrer ; autrement, affichez un message pour le signaler. Retournez enfin la liste complète.\n",
    "\n",
    "Pour afficher un *prompt*, utilisez le bout de code suivant :\n",
    "\n",
    "```python\n",
    "item = input(\"Quel article souhaitez-vous acheter ?\\n\")\n",
    "```"
   ]
  },
  {
   "cell_type": "code",
   "execution_count": null,
   "metadata": {},
   "outputs": [],
   "source": [
    "# your code here\n",
    "\n",
    "items = [\"eau\", \"lentilles\", \"choux\", \"pois cassés\", \"beaufort\"]\n",
    "\n",
    "item = input(\"Quel article souhaitez-vous acheter ?\\n\")\n",
    "\n",
    "if item not in items:\n",
    "    items.append(item)\n",
    "else:\n",
    "    print(\"Inutile de le rajouter à la liste, il est déjà présent !\")\n",
    "\n",
    "print(items)"
   ]
  },
  {
   "cell_type": "markdown",
   "metadata": {},
   "source": [
    "## Le jeu du mentaliste"
   ]
  },
  {
   "cell_type": "markdown",
   "metadata": {},
   "source": [
    "Concevez un programme dans lequel l’ordinateur va choisir au hasard une valeur dans une liste prédéterminée, puis demandera ensuite à l’utilisateur de la deviner. Attention, l’utilisateur n’aura qu’un seul essai pour deviner la bonne valeur !"
   ]
  },
  {
   "cell_type": "code",
   "execution_count": null,
   "metadata": {},
   "outputs": [],
   "source": [
    "# your code here\n",
    "\n",
    "# Function choice to pick an item in a list\n",
    "from random import choice\n",
    "\n",
    "# Some characters of House Lannister\n",
    "characters = [\"Tyrion\", \"Tywin\", \"Cersei\", \"Jaime\"]\n",
    "\n",
    "# Printing the list of the characters\n",
    "print(f\"La famille Lannister se compose de : {', '.join(characters)}\")\n",
    "\n",
    "# Picks a character\n",
    "ia = choice(characters)\n",
    "\n",
    "# Up to user\n",
    "ih = input(\"Quel est votre Lannister préféré ?\\n\")\n",
    "\n",
    "# Check\n",
    "if ia == ih:\n",
    "    print(\"C’est également le personnage préféré de votre ordinateur !\")\n",
    "else:\n",
    "    print(f\"Les machines ont des goûts bizarres, ce n’est pas son personnage préféré. Il fallait choisir {ia}\")"
   ]
  },
  {
   "cell_type": "markdown",
   "metadata": {},
   "source": [
    "## Des multiples"
   ]
  },
  {
   "cell_type": "markdown",
   "metadata": {},
   "source": [
    "Écrivez un programme qui liste les dix premiers multiples de trois."
   ]
  },
  {
   "cell_type": "code",
   "execution_count": null,
   "metadata": {},
   "outputs": [],
   "source": [
    "# your code here\n",
    "\n",
    "cpt = 0\n",
    "\n",
    "for n in range(1,100):\n",
    "    if not n % 3:\n",
    "        print(n)\n",
    "        cpt += 1\n",
    "        if cpt == 10:\n",
    "            break;"
   ]
  },
  {
   "cell_type": "markdown",
   "metadata": {},
   "source": [
    "## Encore plus d’ours"
   ]
  },
  {
   "cell_type": "markdown",
   "metadata": {},
   "source": [
    "Écrivez un programme qui imprime exactement la phrase suivante :\n",
    "> \"L’homme qui a vu l’homme qui a vu l’homme qui a vu l’homme qui a vu l’homme qui a vu l’homme qui a vu l’homme qui a vu l’homme qui a vu l’homme qui a vu l’homme qui a vu l’ours.\""
   ]
  },
  {
   "cell_type": "code",
   "execution_count": null,
   "metadata": {},
   "outputs": [],
   "source": [
    "# your code here\n",
    "\n",
    "against = \"L'homme qui a vu l'homme qui a vu l'homme qui a vu l'homme qui a vu l'homme qui a vu l'homme qui a vu l'homme qui a vu l'homme qui a vu l'homme qui a vu l'homme qui a vu l'ours.\"\n",
    "string = \"L'homme qui a vu l'ours.\"\n",
    "\n",
    "while string != against:\n",
    "    string = string.replace(\"ours\", \"homme qui a vu l'ours\")\n",
    "\n",
    "print(string)"
   ]
  },
  {
   "cell_type": "markdown",
   "metadata": {},
   "source": [
    "## La suite de Fibonacci"
   ]
  },
  {
   "cell_type": "markdown",
   "metadata": {},
   "source": [
    "Le bout de code ci-dessous affiche les quinze premiers éléments de la suite de Fibonacci, grâce à une boucle `while` :"
   ]
  },
  {
   "cell_type": "code",
   "execution_count": null,
   "metadata": {},
   "outputs": [],
   "source": [
    "a, b, c = 1, 1, 0\n",
    "\n",
    "while c < 15:\n",
    "    print(b),\n",
    "    a, b, c = b, a + b, c + 1"
   ]
  },
  {
   "cell_type": "markdown",
   "metadata": {},
   "source": [
    "Transformez le code pour une utilisation avec une boucle `for`."
   ]
  },
  {
   "cell_type": "code",
   "execution_count": null,
   "metadata": {},
   "outputs": [],
   "source": [
    "# your code here\n",
    "\n",
    "a, b = 1, 1\n",
    "\n",
    "for cpt in range(15):\n",
    "    print(b),\n",
    "    a, b = b, a + b"
   ]
  }
 ],
 "metadata": {
  "kernelspec": {
   "display_name": "Python 3 (ipykernel)",
   "language": "python",
   "name": "python3"
  },
  "language_info": {
   "codemirror_mode": {
    "name": "ipython",
    "version": 3
   },
   "file_extension": ".py",
   "mimetype": "text/x-python",
   "name": "python",
   "nbconvert_exporter": "python",
   "pygments_lexer": "ipython3",
   "version": "3.10.6"
  }
 },
 "nbformat": 4,
 "nbformat_minor": 4
}
