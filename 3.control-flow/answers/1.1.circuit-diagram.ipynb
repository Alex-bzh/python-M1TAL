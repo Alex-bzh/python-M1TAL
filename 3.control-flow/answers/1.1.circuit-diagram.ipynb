{
 "cells": [
  {
   "cell_type": "markdown",
   "metadata": {},
   "source": [
    "# Un schéma électrique"
   ]
  },
  {
   "cell_type": "markdown",
   "metadata": {},
   "source": [
    "Ce petit exercice met en pratique le montage de deux interrupteurs en va-et-vient. Des points d’interrogation triples sont parfois présents dans le code : à vous de les remplacer ! Des commentaires dans les cellules ont pour objectif de vous guider dans la résolution du problème.\n",
    "\n",
    "D’autres solutions, évidemment, existent : sentez-vous libre de proposer la vôtre !"
   ]
  },
  {
   "cell_type": "code",
   "execution_count": null,
   "metadata": {},
   "outputs": [],
   "source": [
    "# 'a' switch is turned off\n",
    "# while 'b' switch is turned on\n",
    "# so that the light bulb is off\n",
    "a, b = 0, 1"
   ]
  },
  {
   "cell_type": "code",
   "execution_count": null,
   "metadata": {},
   "outputs": [],
   "source": [
    "def check_light(a, b):\n",
    "    \"\"\"Checks wether the light bulb is on or off\n",
    "    \n",
    "    a -- first switch\n",
    "    b -- second switch\n",
    "    \"\"\"\n",
    "    # If both switches are in the same state\n",
    "    if a == b:\n",
    "        # The light bulb is on\n",
    "        return '💡'\n",
    "    else:\n",
    "        # Else the light bulb is off\n",
    "        return '■'"
   ]
  },
  {
   "cell_type": "code",
   "execution_count": null,
   "metadata": {},
   "outputs": [],
   "source": [
    "def switch(n):\n",
    "    \"\"\"Turns on a switch in off position, vice-versa\"\"\"\n",
    "    return 1 if n == 0 else 0"
   ]
  },
  {
   "cell_type": "code",
   "execution_count": null,
   "metadata": {},
   "outputs": [],
   "source": [
    "# We'd like to know which switch to press\n",
    "which = input(\"Quel interrupteur voulez-vous actionner ? ('a' ou 'b')\")"
   ]
  },
  {
   "cell_type": "code",
   "execution_count": null,
   "metadata": {},
   "outputs": [],
   "source": [
    "# If the 'a' switch is pressed\n",
    "if which == 'a':\n",
    "    # Change the state of the 'a' switch\n",
    "    a = switch(a)\n",
    "# If it's the 'b' switch…\n",
    "elif which == 'b':\n",
    "    b = switch(b)\n",
    "# For any other options, do nothing :-)\n",
    "else:\n",
    "    pass"
   ]
  },
  {
   "cell_type": "code",
   "execution_count": null,
   "metadata": {},
   "outputs": [],
   "source": [
    "print(check_light(a,b))"
   ]
  }
 ],
 "metadata": {
  "kernelspec": {
   "display_name": "Python 3 (ipykernel)",
   "language": "python",
   "name": "python3"
  },
  "language_info": {
   "codemirror_mode": {
    "name": "ipython",
    "version": 3
   },
   "file_extension": ".py",
   "mimetype": "text/x-python",
   "name": "python",
   "nbconvert_exporter": "python",
   "pygments_lexer": "ipython3",
   "version": "3.9.13"
  }
 },
 "nbformat": 4,
 "nbformat_minor": 4
}
