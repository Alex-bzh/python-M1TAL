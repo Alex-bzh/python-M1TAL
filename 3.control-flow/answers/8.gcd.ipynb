{
 "cells": [
  {
   "cell_type": "markdown",
   "metadata": {},
   "source": [
    "# Le plus grand commun diviseur (PGCD)\n",
    "\n",
    "Le PGCD de nombres entiers naturels différents de zéro est mis en œuvre dans de nombreuses applications comme :\n",
    "- la résolution d’équations diophantiennes ;\n",
    "- la recherche de triplets pythagoriciens ;\n",
    "- la simplification de fractions.\n",
    "\n",
    "Pour cet exercice, on va se concentrer sur la dernière.\n",
    "\n",
    "## Exemple de simplification de fractions\n",
    "\n",
    "Partons d’un exemple simple où l’on souhaite simplifier la fraction $\\frac{6}{3}$. Aucun calcul complexe, on observe directement que $\\frac{6}{3} = \\frac{2}{1} = 2$.\n",
    "\n",
    "En utilisant cette fois-ci la méthode de recherche du PGCD, plus rigoureuse que l’intuition, on liste tout d’abord les diviseurs du numérateur, puis ceux du dénominateur :\n",
    "- 6 : 1, 2, 3, 6\n",
    "- 3 : 1, 3\n",
    "\n",
    "La deuxième étape consiste à comparer les deux listes, puis à ne retenir que les diviseurs en commun, à savoir 1 et 3. Enfin, on sélectionne le plus grand nombre de cet ensemble. Ici, le PGCD vaut 3.\n",
    "\n",
    "Pour simplifier la fraction, il reste à diviser chaque terme par le PGCD :\n",
    "\n",
    "$\\frac{6}{3} = 2$ ; $\\frac{3}{3} = 1$\n",
    "\n",
    "La fraction réduite vaut donc $\\frac{2}{1}$\n",
    "\n",
    "## Méthode de détermination du PGCD par l’algorithme d’Euclide\n",
    "\n",
    "L’exemple précédent était simpliste. Et pourtant… Pourtant, nous avons eu besoin de huit opérations pour parvenir à déterminer le PGCD de 6 et 3 :\n",
    "- six divisions euclidiennes pour obtenir la liste des diviseurs de chaque terme ;\n",
    "- une comparaison ;\n",
    "- une extraction.\n",
    "\n",
    "Si nous voulions chercher le PGCD de 3 045 623 76 et 3 480 avec cette méthode, ça nous prendrait un temps infiniment long. Et cette estimation n’est pas loin de la vérité. Il existe en effet des nombres qui résistent très bien à la détermination de leurs diviseurs. C’est le cas des nombres RSA, utilisés dans le chiffrement RSA, qui font intervenir des nombres semi-premiers (nombres qui ont exactement deux facteurs premiers, de telle manière que $n = pq$).\n",
    "\n",
    "Pour revenir à notre problème de réduire la fraction $\\frac{3 045 623 76}{3 480}$, nous allons solliciter une méthode plus rapide de détermination du PGCD que l’on doit à Euclide (300 av. J.-C.). Il en existe d’autres, mais celle-ci a notre préférence. Lorsque l’on divise 6 par 3, on va se demander par quel entier naturel il faut multiplier 3 pour arriver le plus près de 6. C’est une division euclidienne :\n",
    "\n",
    "$a = qb + r$\n",
    "\n",
    "Où $a$ est le dividende, $b$ le diviseur, $q$ le quotient et $r$ le reste. Une condition importante à conserver en mémoire : $r < b$. Si ce n’est pas le cas, cela signifie que l’on peut augmenter $q$ de au moins 1. Dans l’équation $6 = 1 \\times 3 + 3$, $r$ ne satisfait pas la condition, donc on peut ajouter 1 à $q$ : $6 = 2 \\times 3 + 0$\n",
    "\n",
    "Un cas légèrement plus complexe : trouver le PGCD de 10 et 4. Le calcul nécessite cette fois-ci deux opérations :\n",
    "1. $10 = 2 \\times 4 + 2$\n",
    "2. $4 = 2 \\times 2 + 0$\n",
    "\n",
    "Le PGCD de 10 et 4 est en fait le dernier reste non nul. Comme dans la deuxième opération $r = 0$, on remonte à la première où $r = 2$.\n",
    "\n",
    "Prenons un autre exemple afin de mettre en lumière la mécanique à l’œuvre. Le PGCD de 80 et 12 vaut 4 :\n",
    "1. $80 = 6 \\times 12 + 8$\n",
    "2. $12 = 1 \\times 8 + 4$\n",
    "3. $8 = 2 \\times 4 + 0$\n",
    "\n",
    "Ce qui est important de remarquer c’est qu’à chaque étape, $r$ devient $b$ et $b$ devient $a$ à l’étape d’après, de telle manière que le dernier reste non nul est également $b$ à la dernière opération, lorsque $r$ est nul. On peut en déduire que :\n",
    "\n",
    "$F(a, b) =\n",
    "    \\left \\{\n",
    "        \\begin{array}{l l}\n",
    "            b & \\text{si } a \\bmod b = 0 \\\\\n",
    "            F(b, a \\bmod b) & \\text{sinon}\n",
    "        \\end{array}\n",
    "    \\right.\n",
    "$\n",
    "\n",
    "À vous d’écrire la version pythonique de l’algorithme récursif !"
   ]
  },
  {
   "cell_type": "code",
   "execution_count": null,
   "metadata": {},
   "outputs": [],
   "source": [
    "def gcd(a, b):\n",
    "    \"\"\"Returns the greatest common divisor\n",
    "    with the Euclidean algorithm.\n",
    "    \n",
    "    a -- int: numerator\n",
    "    b -- int: denominator\n",
    "    \"\"\"\n",
    "    # Your code here\n",
    "    if not a % b: return b\n",
    "    return gcd(b, a % b)"
   ]
  },
  {
   "cell_type": "markdown",
   "metadata": {},
   "source": [
    "## Simplification de fractions\n",
    "\n",
    "Une fois le PGCD connu, rien de bien compliqué pour simplifier une fraction. Si l’on calcule le PGCD de 3 045 623 76 et 3 480, on obtient 24. Il suffit désormais de diviser chaque nombre par le PGCD pour obtenir la fraction simplifiée :\n",
    "1. $F(304562376, 3480) = 24$\n",
    "2. $304562376 \\div 24 = 12 690 099$\n",
    "3. $3480 \\div 24 = 145$\n",
    "\n",
    "On obtient donc l’égalité suivante :\n",
    "4. $\\frac{304562376}{3480} = \\frac{12690099}{145}$\n",
    "\n",
    "À vous d’écrire la fonction qui effectue cette simplification !"
   ]
  },
  {
   "cell_type": "code",
   "execution_count": null,
   "metadata": {},
   "outputs": [],
   "source": [
    "def reduce(a, b):\n",
    "    \"\"\"Returns a tuple with numerator and denominator\n",
    "    of a fraction after reduction, using GCD.\n",
    "    \n",
    "    a -- int: numerator\n",
    "    b -- int: denominator\n",
    "    \"\"\"\n",
    "    # Your code here\n",
    "    div = gcd(a, b)\n",
    "    return (int(a / div), int(b / div))"
   ]
  }
 ],
 "metadata": {
  "kernelspec": {
   "display_name": "Python 3",
   "language": "python",
   "name": "python3"
  },
  "language_info": {
   "codemirror_mode": {
    "name": "ipython",
    "version": 3
   },
   "file_extension": ".py",
   "mimetype": "text/x-python",
   "name": "python",
   "nbconvert_exporter": "python",
   "pygments_lexer": "ipython3",
   "version": "3.8.0"
  }
 },
 "nbformat": 4,
 "nbformat_minor": 4
}
