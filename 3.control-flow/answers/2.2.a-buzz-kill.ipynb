{
 "cells": [
  {
   "cell_type": "markdown",
   "id": "8b786899-e485-40d1-8cb3-6f18c831307e",
   "metadata": {},
   "source": [
    "# Un coup d’épée dans l’eau"
   ]
  },
  {
   "cell_type": "markdown",
   "id": "551e4fd7-e07b-4e00-b7b5-3bb7edb528e6",
   "metadata": {},
   "source": [
    "Il fut un temps où les tests psychotechniques étaient à la mode dans un entretien d’embauche. Il s’agissait de relier à la main des points avec un minimum de traits, de savoir combien de chaussettes on devait tirer à l’aveugle dans un tiroir pour avoir une paire assortie et autres petites énigmes mathématiques censées garantir le recruteur que l’on était un travailleur sain, parfaitement conformé au monde de l’entreprise.\n",
    "\n",
    "Aujourd’hui, on attend davantage du candidat ou de la candidate d’être déjà pleinement opérationnel·le, et on lui fait passer des tests pratiques. On passera sur la contradiction entre le vœu du Ministère de l’Éducation Nationale d’une formation continue tout au long de la vie et les besoins du privé de recruter des personnes déjà formées. À décharge du secteur, le Medef parle plutôt d’employabilité tout au long de la vie, réduisant la formation à la seule capacité individuelle d’apprendre pour répondre aux défis des entreprises. Rires.\n",
    "\n",
    "L’un de ces tests s’appelle le *Fizz buzz*. À l’origine, il s’agit d’un jeu pour apprendre les divisions aux enfants. On s’assoit en cercle et on compte de 1 à l’infini jusqu’à ce que tou·tes les joueur·euses soient éliminé·es. Pour éliminer un·e joueur·euse, trois contraintes corsent le jeu :\n",
    "- si un nombre est multiple de trois, il faut dire : « Fizz » ;\n",
    "- si un nombre est multiple de cinq, il faut dire : « Buzz » ;\n",
    "- si un nombre est multiple de trois ou de cinq, il faut dire : « Fizz buzz ».\n",
    "\n",
    "Concevez, en moins de quinze minutes, un programme qui affiche les nombres de 1 à 100 sauf pour les multiples de trois et de cinq pour lesquels vous écrirez plutôt soit *Fizz*, soit *Buzz*, soit *Fizz Buzz*."
   ]
  },
  {
   "cell_type": "code",
   "execution_count": null,
   "id": "2f3db70d-303f-49e8-8010-d28aead34b7e",
   "metadata": {},
   "outputs": [],
   "source": [
    "# your code here\n",
    "\n",
    "for i in range(1, 101):\n",
    "    if not i % 3 and not i % 5: print(\"Fizz buzz\")\n",
    "    elif not i % 3: print(\"Fizz\")\n",
    "    elif not i % 5: print(\"Buzz\")\n",
    "    else: print(i)"
   ]
  }
 ],
 "metadata": {
  "kernelspec": {
   "display_name": "Python 3 (ipykernel)",
   "language": "python",
   "name": "python3"
  },
  "language_info": {
   "codemirror_mode": {
    "name": "ipython",
    "version": 3
   },
   "file_extension": ".py",
   "mimetype": "text/x-python",
   "name": "python",
   "nbconvert_exporter": "python",
   "pygments_lexer": "ipython3",
   "version": "3.9.13"
  }
 },
 "nbformat": 4,
 "nbformat_minor": 5
}
