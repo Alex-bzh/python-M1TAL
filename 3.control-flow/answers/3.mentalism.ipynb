{
 "cells": [
  {
   "cell_type": "markdown",
   "metadata": {},
   "source": [
    "# Le jeu du mentaliste\n",
    "\n",
    "Concevez un programme dans lequel l’ordinateur va choisir au hasard une valeur dans une liste prédéterminée, puis demandera ensuite à l’utilisateur de la deviner. Le programme ne s’arrêtera qu’une fois la bonne réponse trouvée.\n",
    "\n",
    "Et pour aller encore plus loin, évaluez la performance de l’utilisateur (ex : s’il a trouvé du premier coup ou après plus de tentatives qu’il n’y a de possibilités de réponse…)"
   ]
  },
  {
   "cell_type": "code",
   "execution_count": null,
   "metadata": {},
   "outputs": [],
   "source": [
    "# Function choice to pick an item in a list\n",
    "from random import choice\n",
    "\n",
    "# Some characters of House Lannister\n",
    "characters = [\"Tyrion\", \"Tywin\", \"Cersei\", \"Jaime\"]\n",
    "\n",
    "# Print the list\n",
    "print(f\"La famille Lannister se compose de : {', '.join(characters)}\")\n",
    "\n",
    "# Picking a character\n",
    "ia = choice(characters)\n",
    "\n",
    "# Attempts counter\n",
    "cpt = 0\n",
    "\n",
    "# While the correct answer is not found\n",
    "while ih != ia:\n",
    "    # Print a message to encourage the user if it's not its firts attempt\n",
    "    if cpt > 0:\n",
    "        print(\"Persévérez, vous finirez bien par comprendre quelque chose aux machines…\")\n",
    "    # Ask for an answer\n",
    "    ih = input(\"Quel est votre Lannister préféré ?\\n\")\n",
    "    # Increment the counter\n",
    "    cpt += 1\n",
    "\n",
    "# Good job!\n",
    "if cpt == 1:\n",
    "    print(\"Bravo, du 1er coup ! Une grande complicité est en train de se nouer avec votre ordinateur…\")\n",
    "elif cpt <= len(characters)/2:\n",
    "    print(\"C’est la bonne réponse ! Vous avez sans doute une belle carrière de mentaliste devant vous, persévérez !\")\n",
    "elif cpt <= len(characters):\n",
    "    print(\"C’est ça ! Quelques efforts à fournir, mais vous êtes sur la bonne voie !\")\n",
    "else:\n",
    "    print(\"Bon, je ne vais pas vous jouer de la flûte, il y avait seulement {} possibilités et vous avez tenté {} fois votre chance…\".format(len(characters),cpt))"
   ]
  }
 ],
 "metadata": {
  "kernelspec": {
   "display_name": "Python 3",
   "language": "python",
   "name": "python3"
  },
  "language_info": {
   "codemirror_mode": {
    "name": "ipython",
    "version": 3
   },
   "file_extension": ".py",
   "mimetype": "text/x-python",
   "name": "python",
   "nbconvert_exporter": "python",
   "pygments_lexer": "ipython3",
   "version": "3.8.0"
  }
 },
 "nbformat": 4,
 "nbformat_minor": 4
}
