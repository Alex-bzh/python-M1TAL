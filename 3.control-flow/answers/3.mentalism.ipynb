{
 "cells": [
  {
   "cell_type": "markdown",
   "metadata": {},
   "source": [
    "# Le jeu du mentaliste"
   ]
  },
  {
   "cell_type": "markdown",
   "metadata": {},
   "source": [
    "Soit une liste prédéterminée de valeurs :"
   ]
  },
  {
   "cell_type": "code",
   "execution_count": null,
   "metadata": {},
   "outputs": [],
   "source": [
    "# some characters of House Lannister\n",
    "characters = [\"Tyrion\", \"Tywin\", \"Cersei\", \"Jaime\"]"
   ]
  },
  {
   "cell_type": "markdown",
   "metadata": {},
   "source": [
    "Et une petite intelligence artificielle qui va piocher une valeur au hasard :"
   ]
  },
  {
   "cell_type": "code",
   "execution_count": null,
   "metadata": {},
   "outputs": [],
   "source": [
    "# function choice to pick an item in a list\n",
    "from random import choice\n",
    "\n",
    "# picking a character\n",
    "ia = choice(characters)"
   ]
  },
  {
   "cell_type": "markdown",
   "metadata": {},
   "source": [
    "Concevez à présent un programme qui demande à l’utilisateur·rice de deviner la valeur choisie par l’ordinateur. Le programme ne doit s’arrêter qu’une fois la bonne réponse trouvée.\n",
    "\n",
    "Et pour aller plus loin, évaluez la performance de l’utilisateur·rice en comptabilisant le nombre de tentatives."
   ]
  },
  {
   "cell_type": "code",
   "execution_count": null,
   "metadata": {},
   "outputs": [],
   "source": [
    "# print the possibilities\n",
    "print(f\"La famille Lannister se compose de : {', '.join(characters)}\")\n",
    "\n",
    "# your code here\n",
    "\n",
    "# counter\n",
    "cpt = 0\n",
    "\n",
    "# human intelligence\n",
    "ih = ''\n",
    "\n",
    "# while the correct answer is not found\n",
    "while ih != ia:\n",
    "\n",
    "    # print a message to encourage the user if it's not its firts attempt\n",
    "    if cpt > 0:\n",
    "        print(\"Persévérez, vous finirez bien par comprendre quelque chose aux machines…\")\n",
    "\n",
    "    # ask for an answer\n",
    "    ih = input(\"Quel est le Lannister préféré de votre ordinateur ?\\n\")\n",
    "\n",
    "    # increment the counter\n",
    "    cpt += 1\n",
    "\n",
    "#\n",
    "# Evaluation\n",
    "#\n",
    "\n",
    "# good job!\n",
    "if cpt == 1:\n",
    "    print(\"Bravo, du 1er coup ! Une grande complicité est en train de se nouer avec votre ordinateur :-)\")\n",
    "elif cpt <= len(characters) / 2:\n",
    "    print(\"C’est la bonne réponse ! Vous avez sans doute une belle carrière de mentaliste devant vous, persévérez !\")\n",
    "elif cpt <= len(characters):\n",
    "    print(\"C’est ça ! Quelques efforts à fournir, mais vous êtes sur la bonne voie !\")\n",
    "else:\n",
    "    print(f\"Bon, je ne vais pas vous jouer de la flûte, il y avait seulement {len(characters)} possibilités et vous avez tenté {cpt} fois votre chance…\")"
   ]
  }
 ],
 "metadata": {
  "kernelspec": {
   "display_name": "Python 3 (ipykernel)",
   "language": "python",
   "name": "python3"
  },
  "language_info": {
   "codemirror_mode": {
    "name": "ipython",
    "version": 3
   },
   "file_extension": ".py",
   "mimetype": "text/x-python",
   "name": "python",
   "nbconvert_exporter": "python",
   "pygments_lexer": "ipython3",
   "version": "3.9.13"
  }
 },
 "nbformat": 4,
 "nbformat_minor": 4
}
