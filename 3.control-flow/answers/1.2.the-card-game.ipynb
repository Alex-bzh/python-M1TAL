{
 "cells": [
  {
   "cell_type": "markdown",
   "metadata": {},
   "source": [
    "## Un jeu de cartes"
   ]
  },
  {
   "cell_type": "markdown",
   "metadata": {},
   "source": [
    "Le code ci-dessous propose à un·e utilisateur·rice de tirer mentalement une carte issue d’un jeu de 32 cartes :"
   ]
  },
  {
   "cell_type": "code",
   "execution_count": null,
   "metadata": {},
   "outputs": [],
   "source": [
    "print(\"Pensez à une carte issue d’un jeu de 32 cartes. Les figures : Valet, Dame, Roi, As. Les cartes à valeurs numériques : 7, 8, 9 et 10.\")"
   ]
  },
  {
   "cell_type": "markdown",
   "metadata": {},
   "source": [
    "Écrivez maintenant un programme qui devine en trois questions maximum la carte sélectionnée :"
   ]
  },
  {
   "cell_type": "code",
   "execution_count": null,
   "metadata": {},
   "outputs": [],
   "source": [
    "# your code here\n",
    "\n",
    "q1 = input(\"Votre carte représente-t-elle une figure ? (o/n)\\n\")\n",
    "\n",
    "# a figure\n",
    "if q1 == \"o\":\n",
    "\n",
    "    q2 = input(\"La figure est-elle masculine ? (o/n)\\n\")\n",
    "\n",
    "    # masculine figures\n",
    "    if q2 == \"o\":\n",
    "\n",
    "        q3 = input(\"Est-ce le valet ? (o/n)\\n\")\n",
    "\n",
    "        if q3 == \"o\":\n",
    "            print(\"La carte à laquelle vous avez pensé est le Valet.\")\n",
    "        else:\n",
    "            print(\"La carte à laquelle vous avez pensé est le Roi.\")\n",
    "\n",
    "    # feminine figures\n",
    "    else:\n",
    "\n",
    "        q3 = input(\"Est-ce la Dame ? (o/n)\\n\")\n",
    "\n",
    "        if q3 == \"o\":\n",
    "            print(\"La carte à laquelle vous avez pensé est la Dame.\")\n",
    "        else:\n",
    "            print(\"La carte à laquelle vous avez pensé est l'As.\")\n",
    "\n",
    "# a numeric value (7, 8, 9 or 10)\n",
    "else:\n",
    "\n",
    "    q2 = input(\"Est-ce une valeur paire ? (o/n)\\n\")\n",
    "\n",
    "    # even values\n",
    "    if q2 == \"o\":\n",
    "\n",
    "        q3 = input(\"Est-ce le 8 ? (o/n)\\n\")\n",
    "\n",
    "        if q3 == \"o\":\n",
    "            print(\"La carte à laquelle vous avez pensé est le 8.\")\n",
    "        else:\n",
    "            print(\"La carte à laquelle vous avez pensé est le 10.\")\n",
    "\n",
    "    # odd values\n",
    "    else:\n",
    "\n",
    "        q3 = input(\"Est-ce le 7 ? (o/n)\\n\")\n",
    "\n",
    "        if q3 == \"o\":\n",
    "            print(\"La carte à laquelle vous avez pensé est le 7.\")\n",
    "        else:\n",
    "            print(\"La carte à laquelle vous avez pensé est le 9.\")"
   ]
  }
 ],
 "metadata": {
  "kernelspec": {
   "display_name": "Python 3 (ipykernel)",
   "language": "python",
   "name": "python3"
  },
  "language_info": {
   "codemirror_mode": {
    "name": "ipython",
    "version": 3
   },
   "file_extension": ".py",
   "mimetype": "text/x-python",
   "name": "python",
   "nbconvert_exporter": "python",
   "pygments_lexer": "ipython3",
   "version": "3.9.13"
  }
 },
 "nbformat": 4,
 "nbformat_minor": 4
}
