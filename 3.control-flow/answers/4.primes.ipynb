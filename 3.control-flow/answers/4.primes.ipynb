{
 "cells": [
  {
   "cell_type": "markdown",
   "metadata": {},
   "source": [
    "# En attendant Euler"
   ]
  },
  {
   "cell_type": "markdown",
   "metadata": {},
   "source": [
    "## Énoncé du problème\n",
    "\n",
    "Pour parler mathématique, l’objectif de cet exercice est de représenter une fonction de distribution cumulative des nombres premiers. Plus simplement, nous souhaitons tracer un diagramme qui représente la quantité de nombres premiers pour chaque membre d’une série d’entiers.\n",
    "\n",
    "Par exemple, si l’on souhaite représenter la distribution cumulative des nombres premiers pour les entiers de 2 à 100, la fonction devrait afficher le diagramme suivant :\n",
    "\n",
    "![Distribution cumulative des nombres premiers dans la série 2-100](../images/primes.png)\n",
    "\n",
    "Sur l’axe des abscisses $x$, nous listons les entiers de 2 à 100. Et sur l’axe des ordonnées $y$, nous pointons la quantité de nombres premiers pour la série donnée en abscisses :\n",
    "- 4 pour la série de 2 à 10 ;\n",
    "- 8 pour la série de 2 à 20 ;\n",
    "- …\n",
    "- 25 pour la série de 2 à 100."
   ]
  },
  {
   "cell_type": "markdown",
   "metadata": {},
   "source": [
    "## Observations\n",
    "\n",
    "Avant d’effectuer la première observation sur ces données, rappelons que :\n",
    "1. est nombre premier tout entier naturel divisible, au sens d’une division euclidienne (ou division entière) sans reste, par exactement deux entiers naturels : 1 ou lui-même ;\n",
    "2. une division euclidienne aboutit à ne manipuler que des entiers (ex. : $10 \\div 3 = 3 \\times 3 + 1$).\n",
    "\n",
    "Alors, pourquoi commencer la série au nombre 2 et pas à 0 ? Si l’on commençait la série à 0, cela reviendrait à autoriser une division par 0 ou 1. Pour la première, c’est impossible : la division par zéro est indéfinie ; pour la seconde, ça n’a pas plus de sens dans le cas de la définition des nombres premiers, car 1 n’est divisible que par un seul entier naturel.\n",
    "\n",
    "La deuxième observation, que nous laisserons de côté, s’attache à la figure en escaliers qui se dessine avec l’impression que les paliers s’étirent à mesure que l’on se dirige vers le dernier terme de la série. C’est une caractéristique des nombres premiers : s’il en existe bien une infinité, ils se raréfient à mesure que l’on monte dans les grands nombres. Très facile à vérifier :\n",
    "- entre 0 et 100, on en dénombre 25 ;\n",
    "- entre 1000 et 1100, plus que 16 ;\n",
    "- entre 1 000 000 et 1 000 100, seulement 6.\n",
    "\n",
    "De manière anecdotique, nous pouvons remarquer pour terminer qu’aucune régularité ne se dégage dans les formes dessinées par la distribution."
   ]
  },
  {
   "cell_type": "markdown",
   "metadata": {},
   "source": [
    "## Dénicher un nombre premier\n",
    "\n",
    "Prenons l’énoncé différemment. Si un nombre premier n’est divisible que par 1 ou par lui-même, alors cela signifie qu’il n’est pas divisible par tout autre nombre entre 1 et lui-même.\n",
    "\n",
    "Mettons que nous souhaitions lister tous les nombres premiers entre 0 et 10. Nous savons déjà que 0 et 1 ne sont pas des nombres premiers. Il reste à calculer successivement le rapport entre 10 et 2, 3, 4… jusqu’à 9, en utilisant la division euclidienne :\n",
    "- $10 \\div 2 = 2 \\times 5 + 0$\n",
    "- $10 \\div 3 = 3 \\times 3 + 1$\n",
    "- $10 \\div 4 = 4 \\times 2 + 2$\n",
    "- $10 \\div 5 = 5 \\times 2 + 0$\n",
    "- $10 \\div 6 = 6 \\times 1 + 4$\n",
    "- $10 \\div 7 = 7 \\times 1 + 3$\n",
    "- $10 \\div 8 = 8 \\times 1 + 2$\n",
    "- $10 \\div 9 = 9 \\times 1 + 1$\n",
    "\n",
    "Pour savoir si 10 est divisible par l’un des entiers de cette série, il suffit de repérer les opérations où le reste de la division est égale à 0. C’est le cas pour les divisions par 2 et 5. Selon la définition des nombres premiers, 10 n’est pas un nombre premier.\n",
    "\n",
    "Répétez la méthode avec le nombre 7, vous devriez en déduire qu’il s’agit d’un nombre premier."
   ]
  },
  {
   "cell_type": "markdown",
   "metadata": {},
   "source": [
    "## Recenser les nombres premiers dans une série\n",
    "\n",
    "La réponse n’est pas de savoir combien il y a de nombres premiers dans la série *Game of Thrones*, mais plutôt dans une série mathématique. C’est en fait la question la plus simple à partir du moment où l’on a su répondre à la précédente. Dans l’exemple précédent, nous avons trouvé que 10 n’était pas un nombre premier et vous avez également calculé que 7 l’était. Ces résultats nous amènent à formuler deux hypothèses :\n",
    "1. Si 7 est un nombre premier, alors il y a au moins un nombre premier dans la série 0-7.\n",
    "2. Si 7 est un nombre premier et que 10 n’en est pas un, il y a au moins un nombre premier dans la série 0-10.\n",
    "\n",
    "Si nous cherchons maintenant tous les nombres premiers pour tous les nombres de la série 0-10, on obtient :\n",
    "- $0 = \\emptyset$\n",
    "- $1 = \\emptyset$\n",
    "- $2 = [2]$\n",
    "- $3 = [2, 3]$\n",
    "- $4 = [2, 3]$\n",
    "- $5 = [2, 3, 5]$\n",
    "- $6 = [2, 3, 5]$\n",
    "- $7 = [2, 3, 5, 7]$\n",
    "- $8 = [2, 3, 5, 7]$\n",
    "- $9 = [2, 3, 5, 7]$\n",
    "- $10 = [2, 3, 5, 7]$\n",
    "\n",
    "On sait à présent combien de nombres premiers il existe pour chaque série entre 0 et 10. Si l’on devait coder ces résultats en Python, on adopterait une structure de type liste de tuples. Pour chaque borne supérieure d’une série est associée la quantité de nombres premiers que l’on recense (3 nombres premiers pour 6, 2 nombres premiers pour 4…).\n",
    "```python\n",
    "data = [\n",
    "    (2, 1),\n",
    "    (3, 2),\n",
    "    (4, 2),\n",
    "    (5, 3),\n",
    "    (6, 3),\n",
    "    (7, 4),\n",
    "    (8, 4),\n",
    "    (9, 4),\n",
    "    (10, 4)\n",
    "]\n",
    "```\n",
    "\n",
    "Le nombre d’opérations est encore assez limité lorsque le but est de recenser les nombres premiers dans les séries jusqu’à 10. Quid des séries jusqu’à 100 ? Jusqu’à 1000 ? Eh bien, il faudrait effectuer $n-1$ divisions, ce qui prendrait un temps conséquent. Heureusement, beaucoup de ces opérations sont inutiles. Une règle mathématique permet d’établir la liste des diviseurs d’un nombre :\n",
    "\n",
    "$1 \\lt div \\leq \\sqrt n$\n",
    "\n",
    "Si l’on applique cette règle pour trouver la liste des diviseurs du nombre 257 à tester, on obtient la liste des nombres de 2 à 16 :\n",
    "\n",
    "$1 \\lt div \\leq \\sqrt 257$\n",
    "\n",
    "17 opérations au lieu de 256 ($n-1$), c’est bien plus économique !"
   ]
  },
  {
   "cell_type": "markdown",
   "metadata": {},
   "source": [
    "## Une fonction pour la représentation\n",
    "\n",
    "La fonction ci-dessous produit un diagramme qui affiche la distribution cumulative des nombres premiers :"
   ]
  },
  {
   "cell_type": "code",
   "execution_count": 1,
   "metadata": {},
   "outputs": [],
   "source": [
    "import matplotlib.pyplot\n",
    "\n",
    "def prime_cumulative_distribution(data):\n",
    "    \"\"\"Prints the cumulative distribution of primes.\n",
    "    \n",
    "    data -- list of number of primes in 0-n\n",
    "    \"\"\"\n",
    "\n",
    "    # x = series of numbers\n",
    "    # y = nb of primes in a serie\n",
    "    x, y = [], []\n",
    "    \n",
    "    for serie, nb in data:\n",
    "        x.append(serie)\n",
    "        y.append(nb)\n",
    "\n",
    "    matplotlib.pyplot.plot(x, y)\n",
    "    matplotlib.pyplot.ylabel('Quantité de nombres premiers')\n",
    "    matplotlib.pyplot.xlabel('Série')\n",
    "    matplotlib.pyplot.show()"
   ]
  },
  {
   "cell_type": "markdown",
   "metadata": {},
   "source": [
    "Il ne reste plus qu’à lui transmettre la variable `data` afin de tester son fonctionnement :"
   ]
  },
  {
   "cell_type": "code",
   "execution_count": null,
   "metadata": {},
   "outputs": [],
   "source": [
    "data = [(2, 1), (3, 2), (4, 2), (5, 3), (6, 3), (7, 4), (8, 4), (9, 4), (10, 4)]\n",
    "prime_cumulative_distribution(data)"
   ]
  },
  {
   "cell_type": "markdown",
   "metadata": {},
   "source": [
    "## À vous !\n",
    "\n",
    "Sachant que vous avez à disposition la fonction qui affiche la distribution cumulative, il vous reste à programmer les fonctions qui produiront les données, à savoir une liste de tuples.\n",
    "\n",
    "Quelques petites astuces supplémentaires :\n",
    "- pensez à l’opérateur modulo `%` qui renvoie le reste d’une division euclidienne ;\n",
    "- comparer un nombe à la racine carrée d’un autre nombre revient à lui comparer son carré.  \n",
    "$1 \\lt a \\leq \\sqrt b \\equiv 1 \\lt a^2 \\leq b$\n",
    "\n",
    "Pour vous aider, n’hésitez pas à vous servir du squelette des fonctions ci-dessous :"
   ]
  },
  {
   "cell_type": "code",
   "execution_count": 6,
   "metadata": {},
   "outputs": [],
   "source": [
    "def is_prime(n):\n",
    "    \"\"\"Returns a boolean whether\n",
    "    the number is prime or not.\n",
    "    \n",
    "    n -- the number to test\n",
    "    \"\"\"\n",
    "    # List of dividers to test begins at 2\n",
    "    i = 2\n",
    "\n",
    "    # While the square of the divider is lower or equal to n\n",
    "    # and there is still a remainder after the division of n by\n",
    "    # the current divider…\n",
    "    while i * i <= n and n % i:\n",
    "        # … we try with a greater divider\n",
    "        i += 1\n",
    "\n",
    "    # The loop shall stop for two reasons:\n",
    "    # - square divider is greater than the number\n",
    "    # and there is no need to go on;\n",
    "    # - there is no remainder after a division.\n",
    "    # So we check the current divider (i) to\n",
    "    # determine if it's a prime or not.\n",
    "    if i * i > n and n > 1: return True\n",
    "    else: return False"
   ]
  },
  {
   "cell_type": "code",
   "execution_count": 7,
   "metadata": {},
   "outputs": [],
   "source": [
    "def nb_primes(n):\n",
    "    \"\"\"For a given number, returns\n",
    "    the number of primes in the serie 2 to n.\n",
    "    \n",
    "    n -- upper limit of a serie\n",
    "    \"\"\"\n",
    "    counter = 0\n",
    "    for i in range(2, n + 1):\n",
    "        if is_prime(i):\n",
    "            counter += 1\n",
    "    return counter"
   ]
  },
  {
   "cell_type": "code",
   "execution_count": 8,
   "metadata": {},
   "outputs": [],
   "source": [
    "def primes_distribution(to):\n",
    "    \"\"\"Cumulative distribution function of primes.\n",
    "    \n",
    "    to -- upper limit of the series\n",
    "    \"\"\"\n",
    "    primes = list()\n",
    "    for i in range(2, to + 1):\n",
    "        primes.append((i, nb_primes(i)))\n",
    "    return primes"
   ]
  },
  {
   "cell_type": "code",
   "execution_count": 9,
   "metadata": {},
   "outputs": [
    {
     "data": {
      "image/png": "[encoded data removed]",
      "text/plain": [
       "<Figure size 432x288 with 1 Axes>"
      ]
     },
     "metadata": {
      "needs_background": "light"
     },
     "output_type": "display_data"
    }
   ],
   "source": [
    "nb = primes_distribution(1000)\n",
    "prime_cumulative_distribution(nb)"
   ]
  },
  {
   "cell_type": "code",
   "execution_count": null,
   "metadata": {},
   "outputs": [],
   "source": []
  }
 ],
 "metadata": {
  "kernelspec": {
   "display_name": "Python 3",
   "language": "python",
   "name": "python3"
  },
  "language_info": {
   "codemirror_mode": {
    "name": "ipython",
    "version": 3
   },
   "file_extension": ".py",
   "mimetype": "text/x-python",
   "name": "python",
   "nbconvert_exporter": "python",
   "pygments_lexer": "ipython3",
   "version": "3.8.0"
  }
 },
 "nbformat": 4,
 "nbformat_minor": 4
}
