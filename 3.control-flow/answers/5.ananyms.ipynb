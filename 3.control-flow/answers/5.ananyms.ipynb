{
 "cells": [
  {
   "cell_type": "markdown",
   "metadata": {},
   "source": [
    "# Anacycliques"
   ]
  },
  {
   "cell_type": "markdown",
   "metadata": {},
   "source": [
    "## Définition"
   ]
  },
  {
   "cell_type": "markdown",
   "metadata": {},
   "source": [
    "Pour cet exercice, nous nous focaliserons sur une catégorie de mots qui conservent un sens lorsqu’on les lit de droite à gauche : les anacycliques. De la famille des anagrammes, ils se distinguent des palindromes en ce que leur sens n’est pas forcément identique dans les deux sens de lecture :\n",
    "- *amuser* et *résuma*\n",
    "- *super* et *repus*\n",
    "- *trot* et *tort*\n",
    "- *été* et *été* (anacyclique et palindrome)\n",
    "- …\n",
    "\n",
    "Pour reconnaître un anacylique, il ne suffit donc pas seulement de modifier le sens de lecture d’une chaîne de caractères puis de la comparer avec la version originale, mais il faut également s’assurer que le résultat produit ait un sens. Le mot *tabernacle*, par exemple, produit à l’envers la chaîne *elcanrebat*, qui n’a aucun sens."
   ]
  },
  {
   "cell_type": "markdown",
   "metadata": {},
   "source": [
    "## Conception"
   ]
  },
  {
   "cell_type": "markdown",
   "metadata": {},
   "source": [
    "L’objectif de cet exercice est de fournir un programme qui repère dans un texte tous les anacycliques et dénombre leurs occurrences. Nous travaillerons sur un extrait du *Ventre de Paris* (1873) de Zola. Vous comprendrez qu’analyser le texte mobiliserait trop de ressources machines.\n",
    "\n",
    "Recensons à présent les besoins du programme :\n",
    "- ouvrir le fichier\n",
    "- découper en mots\n",
    "- (boucle) renverser le sens de lecture de chaque mot\n",
    "- (test) si le mot est présent dans un lexique de référence :\n",
    "    - le sauvegarder et incrémenter le compteur\n",
    "\n",
    "Comme on s’attend à ce qu’un anacyclique soit présent plus d’une fois dans le texte, l’enregistrer dans un dictionnaire avec le nombre de ses occurrences serait plus opportun."
   ]
  },
  {
   "cell_type": "markdown",
   "metadata": {},
   "source": [
    "## Astuces"
   ]
  },
  {
   "cell_type": "markdown",
   "metadata": {},
   "source": [
    "### Découper un texte en mots"
   ]
  },
  {
   "cell_type": "markdown",
   "metadata": {},
   "source": [
    "Vous utiliserez la méthode `.split()` sans vous soucier du bruit engendré."
   ]
  },
  {
   "cell_type": "markdown",
   "metadata": {},
   "source": [
    "### Renverser le sens de lecture d’un mot"
   ]
  },
  {
   "cell_type": "markdown",
   "metadata": {},
   "source": [
    "La technique la plus simple parmi toutes celles imaginables, recourt aux *slices* :"
   ]
  },
  {
   "cell_type": "code",
   "execution_count": null,
   "metadata": {},
   "outputs": [],
   "source": [
    "word = \"bazinga\"\n",
    "backwards = word[::-1]\n",
    "\n",
    "print(backwards)"
   ]
  },
  {
   "cell_type": "markdown",
   "metadata": {},
   "source": [
    "La syntaxe `word[::-1]` affiche chaque caractère du mot avec un pas négatif de -1. Comprenez : en partant de la fin."
   ]
  },
  {
   "cell_type": "markdown",
   "metadata": {},
   "source": [
    "### Accéder à une valeur dans un dictionnaire"
   ]
  },
  {
   "cell_type": "markdown",
   "metadata": {},
   "source": [
    "Pensez à la méthode `.get()` qui permet, lorsqu’une clé n’est pas trouvée, de retourner une valeur au lieu de lever l’exception `KeyError` :"
   ]
  },
  {
   "cell_type": "code",
   "execution_count": null,
   "metadata": {},
   "outputs": [],
   "source": [
    "houses = {\n",
    "    'lannister': ['Jaime', 'Cersei'],\n",
    "    'bolton': ['Roose', 'Ramsey']\n",
    "}\n",
    "# If the key 'stark' is not in the dict,\n",
    "# the second parameter will be returned.\n",
    "houses.get('stark', 'Désolé, aucun Stark ici.')"
   ]
  },
  {
   "cell_type": "markdown",
   "metadata": {},
   "source": [
    "## Code de départ"
   ]
  },
  {
   "cell_type": "markdown",
   "metadata": {},
   "source": [
    "Pour démarrer, vous disposez des 100 000 premiers caractères du roman dans un objet `text`, ainsi que d’un lexique de référence dans un objet `lexicon`.\n",
    "\n",
    "**Remarque :** le lexique de référence est un extrait de [*Lexique 3*](http://www.lexique.org/) où nous n’avons conservé que la colonne *ortho* à des fins de performance."
   ]
  },
  {
   "cell_type": "code",
   "execution_count": null,
   "metadata": {},
   "outputs": [],
   "source": [
    "import csv\n",
    "\n",
    "# loading data\n",
    "with open('../data/le-ventre-de-paris.txt') as file:\n",
    "    # the first 100.000 characters\n",
    "    text = file.read(100000)\n",
    "\n",
    "# loading a french lexicon\n",
    "with open('../data/lexique383-ortho.tsv') as csvfile:\n",
    "    reader = csv.DictReader(csvfile, delimiter=\"\\t\")\n",
    "    lexicon = [ line[\"ortho\"] for line in reader ]"
   ]
  },
  {
   "cell_type": "markdown",
   "metadata": {},
   "source": [
    "À vous de produire un dictionnaire des occurrences de chaque anacyclique :"
   ]
  },
  {
   "cell_type": "code",
   "execution_count": null,
   "metadata": {},
   "outputs": [],
   "source": [
    "# your code here\n",
    "\n",
    "# text into words\n",
    "words = text.split()\n",
    "\n",
    "# a dictionary of ananyms\n",
    "ananyms = dict()\n",
    "\n",
    "\"\"\"If a word in its reversed form is\n",
    "in the lexicon: put it in the dictionary\n",
    "with a counter initialized at 0. The next\n",
    "occurrence found will increment the counter.\n",
    "\"\"\"\n",
    "for word in words:\n",
    "    reverse = word[::-1]\n",
    "    if reverse in lexicon:\n",
    "        ananyms.update({\n",
    "            word: ananyms.get(word, 0) + 1\n",
    "        })"
   ]
  }
 ],
 "metadata": {
  "kernelspec": {
   "display_name": "Python 3 (ipykernel)",
   "language": "python",
   "name": "python3"
  },
  "language_info": {
   "codemirror_mode": {
    "name": "ipython",
    "version": 3
   },
   "file_extension": ".py",
   "mimetype": "text/x-python",
   "name": "python",
   "nbconvert_exporter": "python",
   "pygments_lexer": "ipython3",
   "version": "3.10.6"
  }
 },
 "nbformat": 4,
 "nbformat_minor": 4
}
