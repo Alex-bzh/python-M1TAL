{
 "cells": [
  {
   "cell_type": "markdown",
   "metadata": {},
   "source": [
    "# Les structures conditionnelles"
   ]
  },
  {
   "cell_type": "markdown",
   "metadata": {},
   "source": [
    "## Les tests de comparaison"
   ]
  },
  {
   "cell_type": "markdown",
   "metadata": {},
   "source": [
    "Il existe plusieurs opérateurs mathématiques de comparaison pour construire des tests :\n",
    "- Égalité : `==`\n",
    "- Différence : `!=`\n",
    "- Strictement inférieur : `<`\n",
    "- Strictement supérieur : `>`\n",
    "- Inférieur ou égal : `<=`\n",
    "- Supérieur ou égal = `>=`"
   ]
  },
  {
   "cell_type": "code",
   "execution_count": null,
   "metadata": {
    "collapsed": true
   },
   "outputs": [],
   "source": [
    "note = 13\n",
    "if note < 10:\n",
    "    print \"Vous n'avez pas la moyenne.\""
   ]
  },
  {
   "cell_type": "markdown",
   "metadata": {
    "collapsed": true
   },
   "source": [
    "## Les tests booléens"
   ]
  },
  {
   "cell_type": "markdown",
   "metadata": {},
   "source": [
    "Un test booléen ne peut revêtir que deux valeurs : vrai ou faux. En python, ce sera `True` ou `False`. Une instruction s'exécutera si un test booléen a pour résultat `True`. En revanche, il ne se passera rien si le résultat du test est `False`."
   ]
  },
  {
   "cell_type": "code",
   "execution_count": null,
   "metadata": {},
   "outputs": [],
   "source": [
    "if True:\n",
    "    print \"Ce test est vrai.\"\n",
    "if False:\n",
    "    print \"Ce test est faux et ne produira aucun résultat.\""
   ]
  },
  {
   "cell_type": "markdown",
   "metadata": {},
   "source": [
    "Certaines expressions sont par convention considérées comme fausses en python. C'est le cas de `0`, d'une chaîne de caractères, d'une liste et d'un tuple vides."
   ]
  },
  {
   "cell_type": "code",
   "execution_count": null,
   "metadata": {},
   "outputs": [],
   "source": [
    "if 5 - 5:\n",
    "    print \"Le résultat du test est 0, donc False, ce qui signifie que rien ne s'affichera.\"\n",
    "if \"\":\n",
    "    print \"Cette chaîne est vide, considérée comme False.\"\n",
    "if []:\n",
    "    print \"Vous pouvez exécuter ce code autant de fois que vous le souhaitez, rien ne s'affichera.\"\n",
    "if ():\n",
    "    print \"Ce tuple vide a pour résultat False, une fois de plus.\""
   ]
  },
  {
   "cell_type": "markdown",
   "metadata": {},
   "source": [
    "Par opposition, tout ce qui contient quelque chose (ou qui est différent de 0) est, en python, considéré comme vrai."
   ]
  },
  {
   "cell_type": "code",
   "execution_count": 5,
   "metadata": {},
   "outputs": [
    {
     "name": "stdout",
     "output_type": "stream",
     "text": [
      "Veuillez saisir un nombre.\n",
      "4\n",
      "4 est un nombre pair.\n"
     ]
    }
   ],
   "source": [
    "n = int(input(\"Veuillez saisir un nombre.\\n\"))\n",
    "if n%2:\n",
    "    print (n, \"n'est pas un nombre pair.\")\n",
    "else:\n",
    "    print (n, \"est un nombre pair.\")"
   ]
  },
  {
   "cell_type": "markdown",
   "metadata": {},
   "source": [
    "## Les connecteurs logiques"
   ]
  },
  {
   "cell_type": "markdown",
   "metadata": {},
   "source": [
    "Les opérateurs `and`, `or` et `not` permettent de construire des tests plus complexes. Il est souvent important de vérifier l'ordre des tests imbriqués et de le consolider à l'aide du parenthésage."
   ]
  },
  {
   "cell_type": "code",
   "execution_count": null,
   "metadata": {},
   "outputs": [],
   "source": [
    "if 12 <= 25 or ([1, 2] <= [2, 3] and not 12 <= 32) :\n",
    "    print \"Le parenthésage est bon.\"\n",
    "\n",
    "# c'est bien le parenthésage ci-dessus, puisque:\n",
    "if (12 <= 25 or [1, 2] <= [2, 3]) and not 12 <= 32 :\n",
    "    print \"Les valeurs, opérateurs sont identiques, mais le parenthésage modifie la priorité des expressions.\""
   ]
  }
 ],
 "metadata": {
  "kernelspec": {
   "display_name": "Python 3",
   "language": "python",
   "name": "python3"
  },
  "language_info": {
   "codemirror_mode": {
    "name": "ipython",
    "version": 3
   },
   "file_extension": ".py",
   "mimetype": "text/x-python",
   "name": "python",
   "nbconvert_exporter": "python",
   "pygments_lexer": "ipython3",
   "version": "3.8.0"
  }
 },
 "nbformat": 4,
 "nbformat_minor": 1
}
