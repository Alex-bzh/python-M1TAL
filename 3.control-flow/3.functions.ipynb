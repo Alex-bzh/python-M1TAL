{
 "cells": [
  {
   "cell_type": "markdown",
   "id": "64bb8cb7-e70a-43b7-ba8d-0d0e31a8a7a3",
   "metadata": {},
   "source": [
    "# Écrire des fonctions"
   ]
  },
  {
   "cell_type": "markdown",
   "id": "ca1429d6-0dbe-47f8-ba78-efffe56e2753",
   "metadata": {},
   "source": [
    "Dans le langage mathématique, les fonctions définissent une routine chargée de retourner une image à partir d’un antécédent. Dans la fonction carré suivante, l’image $x^2$ est produite à partir de l’antécédent $x$ :\n",
    "\n",
    "$$f(x) = x^2$$\n",
    "\n",
    "En programmation, les fonctions constituent des blocs de code qui encapsulent certaines opérations amenées à se répéter plusieurs fois. Elles participent à la lisibilité d’un programme et facilitent sa maintenance. On peut les apparenter à une recette culinaire à laquelle on va potentiellement transmettre des ingrédients, appelés en l’occurrence paramètres ou arguments.\n",
    "\n",
    "Certaines fonctions n’ont en effet besoin d’aucun paramètre quand d’autres peuvent en prendre un nombre indéfini."
   ]
  },
  {
   "cell_type": "code",
   "execution_count": null,
   "id": "f8ec8da6-9bd8-4fc4-8c7e-0bdec5cf88d2",
   "metadata": {},
   "outputs": [],
   "source": [
    "# no argument needed in this function\n",
    "def F():\n",
    "    \"\"\"A very simple menu\"\"\"\n",
    "    print(\"1. Additionner deux éléments\")\n",
    "    print(\"2. Multiplier deux éléments\")\n",
    "    return input(\"Choisissez une option (1 ou 2) :\\n\")"
   ]
  },
  {
   "cell_type": "markdown",
   "id": "924fa5fa-8a79-4318-b4e8-9abf56c14be4",
   "metadata": {},
   "source": [
    "Tant qu’une fonction n’a pas été appelée, elle ne produira aucun résultat :"
   ]
  },
  {
   "cell_type": "code",
   "execution_count": null,
   "id": "eb035a52-6595-4603-89db-a29f7a642427",
   "metadata": {},
   "outputs": [],
   "source": [
    "# call\n",
    "F()"
   ]
  },
  {
   "cell_type": "markdown",
   "id": "a22c6524-50af-4e19-b926-30480820d934",
   "metadata": {},
   "source": [
    "Les fonctions ne sont pas toutes définies à l’intérieur d’un programme. Elles peuvent aussi provenir de la bibliothèque standard, de modules ou de paquets à installer."
   ]
  },
  {
   "cell_type": "code",
   "execution_count": null,
   "id": "67a4c39b-0b7c-4948-a993-9ae45297761a",
   "metadata": {},
   "outputs": [],
   "source": [
    "print(\"La fonction print() appartient à la bibliothèque standard et n’a aucunement besoin d’être définie avant utilisation.\")"
   ]
  },
  {
   "cell_type": "markdown",
   "id": "70f0e2cf-b9b6-4967-a3d6-a3c14de7dc7e",
   "metadata": {},
   "source": [
    "## Les éléments constitutifs d’une fonction"
   ]
  },
  {
   "cell_type": "markdown",
   "id": "7f2d40e6-6163-483b-a017-51db106ef6af",
   "metadata": {},
   "source": [
    "### La signature d’une fonction"
   ]
  },
  {
   "cell_type": "markdown",
   "id": "64effcc2-086f-40b3-b78a-8e83015979a7",
   "metadata": {},
   "source": [
    "Dans le formalisme de Python, une fonction est introduite par le mot-clé `def`. Elle se définit ensuite par une signature, constituée de son nom, de ses arguments, de leurs types et du type attendu en sortie. En Python, seuls le nom et la liste des arguments est obligatoire.\n",
    "\n",
    "Prenons l’exemple de la fonction carré :"
   ]
  },
  {
   "cell_type": "code",
   "execution_count": null,
   "id": "adfeea6c-73d6-496a-85a5-277fad5a16a6",
   "metadata": {},
   "outputs": [],
   "source": [
    "def F(x):\n",
    "    \"\"\"Square function.\"\"\"\n",
    "    return x ** 2"
   ]
  },
  {
   "cell_type": "markdown",
   "id": "b71cd202-0dda-4265-a147-dfce4dc739a6",
   "metadata": {},
   "source": [
    "Le nom que nous lui avons attribué est `F`, tandis qu’elle a besoin d’un argument `x` pour s’exécuter correctement. Sans autre précision, `x` est considéré comme un argument positionnel obligatoire et tout appel de la fonction `F()` sans argument lèvera une exception :"
   ]
  },
  {
   "cell_type": "code",
   "execution_count": null,
   "id": "99ce0407-06fe-4b03-9f4b-3e020e79334f",
   "metadata": {},
   "outputs": [],
   "source": [
    "F()"
   ]
  },
  {
   "cell_type": "markdown",
   "id": "b164784a-60c8-4baa-8997-de6a2abfcf47",
   "metadata": {},
   "source": [
    "Si le typage des arguments n’est pas obligatoire en Python, il peut être intéressant de rajouter ces précisions afin d’améliorer la signature de la fonction :"
   ]
  },
  {
   "cell_type": "code",
   "execution_count": null,
   "id": "e0ee72a8-b6dd-419e-b6a2-7341a9c161cd",
   "metadata": {},
   "outputs": [],
   "source": [
    "def F(x: int) -> int:\n",
    "    \"\"\"Return the square of a given number.\"\"\"\n",
    "    return x ** 2"
   ]
  },
  {
   "cell_type": "markdown",
   "id": "62c54a01-a1f1-436f-9ef1-cb5a6ff5f2bd",
   "metadata": {},
   "source": [
    "La signature d’une fonction peut à tout moment être intérrogée par la méthode `.signature()` du module `inspect` :"
   ]
  },
  {
   "cell_type": "code",
   "execution_count": null,
   "id": "9cc0b672-5873-4ed0-bda1-e5e1e289bb06",
   "metadata": {},
   "outputs": [],
   "source": [
    "import inspect\n",
    "\n",
    "print(inspect.signature(F))"
   ]
  },
  {
   "cell_type": "markdown",
   "id": "db70943b-3635-4d6c-b0dd-03f6643228e4",
   "metadata": {},
   "source": [
    "### Documenter une fonction"
   ]
  },
  {
   "cell_type": "markdown",
   "id": "a5860f18-7a33-46d3-8257-84919a9b3e12",
   "metadata": {},
   "source": [
    "Toute fonction définie dans un programme doit comporter un `docstring`, une chaîne de caractères qui documente les actions de la fonction sans faire doublon avec sa signature. Son écriture est régie par les conventions de la [PEP 257](https://peps.python.org/pep-0257/).\n",
    "\n",
    "La fonction `carre()` aurait pu ainsi s’écrire différemment :"
   ]
  },
  {
   "cell_type": "code",
   "execution_count": null,
   "id": "5488317d-0f20-4978-9095-0171929f4cca",
   "metadata": {},
   "outputs": [],
   "source": [
    "def carre(x):\n",
    "    \"\"\"Return the square of a given integer number.\n",
    "\n",
    "    Argument:\n",
    "    x -- int: a number\n",
    "    \"\"\"\n",
    "    return x ** 2"
   ]
  },
  {
   "cell_type": "markdown",
   "id": "f1466c59-d62a-4043-8284-c7911e042152",
   "metadata": {},
   "source": [
    "Dans cette variante, la signature de la fonction ne précisant pas le typage des données en entrée et en sortie, le `docstring` se charge de les consigner.\n",
    "\n",
    "Le `docstring` est toujours accessible via l’attribut spécial `.__doc__` :"
   ]
  },
  {
   "cell_type": "code",
   "execution_count": null,
   "id": "33b41331-3b61-42f8-8f12-39557f11f567",
   "metadata": {},
   "outputs": [],
   "source": [
    "print(carre.__doc__)"
   ]
  },
  {
   "cell_type": "markdown",
   "id": "0cbb6e6c-a902-4473-b685-42926fc6fb46",
   "metadata": {},
   "source": [
    "La fonction `help()` reprend quant à elle la signature et la documentation d’une fonction :"
   ]
  },
  {
   "cell_type": "code",
   "execution_count": null,
   "id": "6febb6df-8244-4cee-a902-fc81d0952027",
   "metadata": {},
   "outputs": [],
   "source": [
    "help(carre)"
   ]
  },
  {
   "cell_type": "markdown",
   "id": "a9e7ee6a-f096-4bab-922b-0d60b30ed21b",
   "metadata": {},
   "source": [
    "### Fonction ou procédure ?"
   ]
  },
  {
   "cell_type": "markdown",
   "id": "e9336efb-6d09-47c5-9235-eee604a97b01",
   "metadata": {},
   "source": [
    "Une fonction se termine toujours par l’instruction `return` qui indique la fin du bloc. Lorsque ce n’est pas le cas, on parle plutôt de procédure :"
   ]
  },
  {
   "cell_type": "code",
   "execution_count": null,
   "id": "47961b99-fd01-47eb-85bb-da5e25df12c7",
   "metadata": {},
   "outputs": [],
   "source": [
    "def F():\n",
    "    print(\"L’histoire de l’homme qui a vu l’homme qui a vu l’ours.\")"
   ]
  },
  {
   "cell_type": "markdown",
   "id": "e5f5cf94-7d4f-4587-b362-0fe2b2f4e46c",
   "metadata": {},
   "source": [
    "Un simple appel exécute la procédure :"
   ]
  },
  {
   "cell_type": "code",
   "execution_count": null,
   "id": "84dd4cee-bc1b-459d-bb8a-fcdbdf3faea9",
   "metadata": {},
   "outputs": [],
   "source": [
    "F()"
   ]
  },
  {
   "cell_type": "markdown",
   "id": "d1e7b2d5-dd0a-40db-94f5-97e0dc2f4610",
   "metadata": {},
   "source": [
    "Sauvegarder la procédure dans une variable est alors inutile :"
   ]
  },
  {
   "cell_type": "code",
   "execution_count": null,
   "id": "8ad7285a-8350-4e7e-a09f-118893aff7f5",
   "metadata": {},
   "outputs": [],
   "source": [
    "a = F()"
   ]
  },
  {
   "cell_type": "markdown",
   "id": "84a44e83-ce6e-42d5-af0a-14b0093ad8c8",
   "metadata": {},
   "source": [
    "La procédure ne renvoyant aucun résultat, la variable `a` reste vide :"
   ]
  },
  {
   "cell_type": "code",
   "execution_count": null,
   "id": "23572157-8fac-4ba3-8cc8-5dc29e53ea80",
   "metadata": {},
   "outputs": [],
   "source": [
    "# as bear function returns nothing, 'a' is empty\n",
    "a"
   ]
  },
  {
   "cell_type": "markdown",
   "id": "8c9f79a9-6668-4701-9196-46918d22795d",
   "metadata": {},
   "source": [
    "### Distinction entre fonction et méthode"
   ]
  },
  {
   "cell_type": "markdown",
   "id": "feb50bee-28cd-49ba-8f68-ea9aaec5e961",
   "metadata": {},
   "source": [
    "Les méthodes sont des fonctions comme les autres, à la différence qu’elles sont attachées à un objet. Prenons un objet de type `str` :"
   ]
  },
  {
   "cell_type": "code",
   "execution_count": null,
   "id": "d58771e3-4566-4754-bf27-81bc36180047",
   "metadata": {},
   "outputs": [],
   "source": [
    "a = \"A Lannister always pays his debts.\""
   ]
  },
  {
   "cell_type": "markdown",
   "id": "731d88c8-22ea-414a-bb7d-beb1c07995e0",
   "metadata": {},
   "source": [
    "La variable `a` est désormais un objet de type `str` et avec elle vient un ensemble d’outils qui lui sont propres. L’un de ses outils, la méthode `.upper()` permet de passer le texte en lettres capitales :"
   ]
  },
  {
   "cell_type": "code",
   "execution_count": null,
   "id": "696da51a-f988-4a3a-8360-94a99f478170",
   "metadata": {},
   "outputs": [],
   "source": [
    "a.upper()"
   ]
  },
  {
   "cell_type": "markdown",
   "id": "081bdec6-a3ce-4b2b-a97d-dc6250601088",
   "metadata": {},
   "source": [
    "L’existence d’une méthode `.upper()` ne suppose pas l’existence d’une fonction du même nom :"
   ]
  },
  {
   "cell_type": "code",
   "execution_count": null,
   "id": "bb1477cc-458e-4e13-ae9d-e8c9d57bc776",
   "metadata": {},
   "outputs": [],
   "source": [
    "# NameError\n",
    "upper(\"You know nothing John Snow.\")"
   ]
  },
  {
   "cell_type": "markdown",
   "id": "dfe1393f-2b55-4f20-95c9-39e9cb314db6",
   "metadata": {},
   "source": [
    "## Transmettre des arguments"
   ]
  },
  {
   "cell_type": "markdown",
   "id": "1f194d07-aa14-4bcc-9098-052a07f59f9b",
   "metadata": {},
   "source": [
    "### Les arguments positionnels"
   ]
  },
  {
   "cell_type": "markdown",
   "id": "89627d9d-ef4b-4a7f-8d8c-833b073c26d3",
   "metadata": {},
   "source": [
    "Nous l’avons évoqué, sans autre précision, un argument est réputé positionnel et obligatoire. Dans l’exemple ci-dessous, la fonction `F()` effectue la division de deux arguments `a` et `b`, le premier étant le dividende et le second le diviseur :"
   ]
  },
  {
   "cell_type": "code",
   "execution_count": null,
   "id": "e24bfe10-252a-4738-84f1-71bcf5f0c01c",
   "metadata": {},
   "outputs": [],
   "source": [
    "def F(a, b):\n",
    "    \"\"\"Divide two numbers.\n",
    "    \n",
    "    Arguments:\n",
    "    a -- dividend\n",
    "    b -- divisor\n",
    "    \"\"\"\n",
    "    return a / b"
   ]
  },
  {
   "cell_type": "markdown",
   "id": "623c62d5-f11c-445e-b944-f16e71176872",
   "metadata": {},
   "source": [
    "La position des arguments est importante, au risque de fausser le résultat de la fonction. Diviser 3 par 4 n’est pas identique à diviser 4 par 3 :"
   ]
  },
  {
   "cell_type": "code",
   "execution_count": null,
   "id": "1a8dfe11-1184-4902-939a-c4819f71a5d9",
   "metadata": {},
   "outputs": [],
   "source": [
    "F(3,4), F(4,3)"
   ]
  },
  {
   "cell_type": "markdown",
   "id": "580b5cb0-8109-4a9d-b824-54a425d7de33",
   "metadata": {},
   "source": [
    "Dans le même ordre d’idée, omettre l’un des arguments ou en fournir davantage que le maximum lèvera une exception `TypeError` :"
   ]
  },
  {
   "cell_type": "code",
   "execution_count": null,
   "id": "b2fd6250-2abb-4c21-85d1-f389d59368e2",
   "metadata": {},
   "outputs": [],
   "source": [
    "F(3, 4, 2)"
   ]
  },
  {
   "cell_type": "markdown",
   "id": "55b04214-66a4-4b29-a002-a80ca585706e",
   "metadata": {},
   "source": [
    "### Les arguments par mots-clés"
   ]
  },
  {
   "cell_type": "markdown",
   "id": "7cf1fab7-915a-49f5-972b-e862ccd3985b",
   "metadata": {},
   "source": [
    "Dès lors qu’une valeur par défaut est affectée à un argument, il cesse d’être positionnel et obligatoire :"
   ]
  },
  {
   "cell_type": "code",
   "execution_count": null,
   "id": "389de634-4bde-48c8-9b08-51bf5452d4a3",
   "metadata": {},
   "outputs": [],
   "source": [
    "def F(a, b, p=2):\n",
    "    \"\"\"Divide two numbers, rounded to precision\n",
    "    significant digits.\n",
    "    \n",
    "    Arguments:\n",
    "    a -- dividend\n",
    "    b -- divisor\n",
    "    p -- precision\n",
    "    \"\"\"\n",
    "    result = a / b\n",
    "    return round(result, p)"
   ]
  },
  {
   "cell_type": "markdown",
   "id": "91d09953-14c6-4430-bbf0-205cda669e23",
   "metadata": {},
   "source": [
    "L’argument `p` gérant la précision du résultat est défini à 2 par défaut. Il peut être omis ou, s’il est passé en paramètre, il doit être mentionné après tous les arguments positionnels :"
   ]
  },
  {
   "cell_type": "code",
   "execution_count": null,
   "id": "22922cdd-ded2-4ee0-baab-a3da01ae6b4a",
   "metadata": {},
   "outputs": [],
   "source": [
    "F(4, 3), F(4, 3, p=0)"
   ]
  },
  {
   "cell_type": "markdown",
   "id": "1e677a6b-ea5d-4277-8be8-c244e672f739",
   "metadata": {},
   "source": [
    "L’ordre des arguments par mots-clés entre eux n’a aucune importance :"
   ]
  },
  {
   "cell_type": "code",
   "execution_count": null,
   "id": "b655ca2d-3c86-42dc-a621-276591e67e26",
   "metadata": {},
   "outputs": [],
   "source": [
    "def F(a, b, euclidean=True, p=2):\n",
    "    \"\"\"Euclidean division between two numbers,\n",
    "    or division rounded to precision significant digits.\n",
    "    \n",
    "    Arguments:\n",
    "    a -- dividend\n",
    "    b -- divisor\n",
    "\n",
    "    Keyword arguments:\n",
    "    euclidean -- boolean to set euclidean division\n",
    "    p -- precision\n",
    "    \"\"\"\n",
    "\n",
    "    if euclidean: return a // b\n",
    "    \n",
    "    result = a / b\n",
    "    \n",
    "    return round(result, p)\n",
    "\n",
    "F(4,3, p=4, euclidean=False)"
   ]
  },
  {
   "cell_type": "markdown",
   "id": "09a454fd-10fd-414c-a7d0-e3f333bac5ec",
   "metadata": {},
   "source": [
    "En revanche, si l’on ne souhaite pas les transmettre grâce aux mots-clés, il est impératif de respecter leur position :"
   ]
  },
  {
   "cell_type": "code",
   "execution_count": null,
   "id": "89083208-80d8-4bd1-a1e4-f6e83784f0fc",
   "metadata": {},
   "outputs": [],
   "source": [
    "F(4, 3, False, 4)"
   ]
  },
  {
   "cell_type": "markdown",
   "id": "0077a064-2118-4f65-97f5-028bc0b1f4f8",
   "metadata": {},
   "source": [
    "Dans l’éventualité où les arguments par mots-clés n’auraient pas de valeur assignée par défaut, il convient de les faire précéder d’un astérisque `*` :"
   ]
  },
  {
   "cell_type": "code",
   "execution_count": null,
   "id": "be521620-efb4-48f9-b1fb-1ebbb7076cda",
   "metadata": {},
   "outputs": [],
   "source": [
    "def F(*, x, y):\n",
    "    \"\"\"Multiply two integers.\"\"\"\n",
    "    return x * y\n",
    "\n",
    "F(x=2, y=3)"
   ]
  },
  {
   "cell_type": "markdown",
   "id": "dad450d9-a327-4c55-8d0a-0cc1f8c061e3",
   "metadata": {},
   "source": [
    "### Transmettre un nombre variable d’arguments"
   ]
  },
  {
   "cell_type": "markdown",
   "id": "74fa27b1-efe8-4858-9715-1d384a4c2590",
   "metadata": {},
   "source": [
    "Dans certains cas, on souhaite que la fonction exécute la même opération sur tous les arguments sans connaître à l’avance leur nombre. Il est alors possible d’utiliser la syntaxe `*args` :"
   ]
  },
  {
   "cell_type": "code",
   "execution_count": null,
   "id": "f7e7baff-a5ea-4c41-bf81-09c7a872dce2",
   "metadata": {},
   "outputs": [],
   "source": [
    "def F(*numbers):\n",
    "    \"\"\"Sum of numbers\"\"\"\n",
    "    result = 0\n",
    "    for n in numbers:\n",
    "        result += n\n",
    "    return result\n",
    "\n",
    "F(2, 45, 53)"
   ]
  },
  {
   "cell_type": "markdown",
   "id": "7f005ae8-f1d7-48a0-b038-6c511df48dee",
   "metadata": {},
   "source": [
    "Il est possible de combiner les arguments en nombre variable avec les positionnels si ceux-ci sont indiqués en début de signature :"
   ]
  },
  {
   "cell_type": "code",
   "execution_count": null,
   "id": "c654467d-5b90-4266-b021-b69dfd5b8220",
   "metadata": {},
   "outputs": [],
   "source": [
    "def F(divisor, *numbers):\n",
    "    \"\"\"Sum of numbers.\"\"\"\n",
    "    result = 0\n",
    "    for n in numbers:\n",
    "        result += n\n",
    "    return result / divisor\n",
    "\n",
    "F(2, 45, 53)"
   ]
  },
  {
   "cell_type": "markdown",
   "id": "e3741f32-948b-4ab8-ae64-39a96dd20c62",
   "metadata": {},
   "source": [
    "Avec des arguments par mots-clés, l’ordre devient facultatif :"
   ]
  },
  {
   "cell_type": "code",
   "execution_count": null,
   "id": "8eaf8c0c-a628-4dfa-8bf3-a4bdf8bbea9b",
   "metadata": {},
   "outputs": [],
   "source": [
    "def F(*numbers, divisor=2):\n",
    "    \"\"\"Sum of numbers.\"\"\"\n",
    "    result = 0\n",
    "    for n in numbers:\n",
    "        result += n\n",
    "    return result / divisor\n",
    "\n",
    "F(2, 45, 53), F(45, 53, divisor=2)"
   ]
  },
  {
   "cell_type": "markdown",
   "id": "1b226be1-eb3a-4486-a978-e9163c3cfcf6",
   "metadata": {},
   "source": [
    "Une dernière syntaxe permet de transmettre un nombre variable d’arguments par mots-clés, les `**kwargs` :"
   ]
  },
  {
   "cell_type": "code",
   "execution_count": null,
   "id": "cd62eec5-e8d6-402f-a8d4-bc69d10ebd3a",
   "metadata": {},
   "outputs": [],
   "source": [
    "import seaborn as sn\n",
    "\n",
    "def F(**points):\n",
    "    \"\"\"Display a lineplot.\"\"\"\n",
    "    return sn.lineplot(x=points[\"a\"], y=points[\"b\"])\n",
    "\n",
    "_ = F(a=[2, 20, 40], b=[2, 3, 12])"
   ]
  }
 ],
 "metadata": {
  "kernelspec": {
   "display_name": "Python 3 (ipykernel)",
   "language": "python",
   "name": "python3"
  },
  "language_info": {
   "codemirror_mode": {
    "name": "ipython",
    "version": 3
   },
   "file_extension": ".py",
   "mimetype": "text/x-python",
   "name": "python",
   "nbconvert_exporter": "python",
   "pygments_lexer": "ipython3",
   "version": "3.8.17"
  }
 },
 "nbformat": 4,
 "nbformat_minor": 5
}
