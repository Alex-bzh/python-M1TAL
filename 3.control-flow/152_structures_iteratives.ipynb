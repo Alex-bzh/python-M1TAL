{
 "cells": [
  {
   "cell_type": "markdown",
   "metadata": {},
   "source": [
    "# Les structures itératives"
   ]
  },
  {
   "cell_type": "markdown",
   "metadata": {},
   "source": [
    "## Énumération systématique"
   ]
  },
  {
   "cell_type": "markdown",
   "metadata": {},
   "source": [
    "Pour parcourir une liste et afficher ce qu'elle contient, une boucle `for` est plus adaptée."
   ]
  },
  {
   "cell_type": "code",
   "execution_count": 1,
   "metadata": {
    "collapsed": false
   },
   "outputs": [
    {
     "name": "stdout",
     "output_type": "stream",
     "text": [
      "Penny\n",
      "Amy\n",
      "Bernadette\n",
      "Sheldon\n",
      "Howard\n",
      "Rajesh\n",
      "Stuart\n",
      "Leonard\n"
     ]
    }
   ],
   "source": [
    "prenoms = [\"Penny\", \"Amy\", \"Bernadette\", \"Sheldon\", \"Howard\", \"Rajesh\", \"Stuart\", \"Leonard\"]\n",
    "for prenom in prenoms:\n",
    "    print prenom"
   ]
  },
  {
   "cell_type": "markdown",
   "metadata": {},
   "source": [
    "Dans le cas où vous souhaiteriez afficher en plus la position de l'élément, la fonction `enumerate()` permet de déplier la liste avec ses indices."
   ]
  },
  {
   "cell_type": "code",
   "execution_count": 2,
   "metadata": {
    "collapsed": false
   },
   "outputs": [
    {
     "name": "stdout",
     "output_type": "stream",
     "text": [
      "0  ==>  Penny\n",
      "1  ==>  Amy\n",
      "2  ==>  Bernadette\n",
      "3  ==>  Sheldon\n",
      "4  ==>  Howard\n",
      "5  ==>  Rajesh\n",
      "6  ==>  Stuart\n",
      "7  ==>  Leonard\n"
     ]
    }
   ],
   "source": [
    "for indice, prenom in enumerate(prenoms):\n",
    "    print indice, \" ==> \", prenom"
   ]
  },
  {
   "cell_type": "markdown",
   "metadata": {},
   "source": [
    "Notez qu'on aurait pu employer une boucle `while` avec moins de facilité."
   ]
  },
  {
   "cell_type": "code",
   "execution_count": null,
   "metadata": {
    "collapsed": false
   },
   "outputs": [],
   "source": [
    "i = 0\n",
    "while i < len(prenoms):\n",
    "    print i, \" ==> \", prenoms[i]\n",
    "    i += 1"
   ]
  },
  {
   "cell_type": "markdown",
   "metadata": {},
   "source": [
    "Si vous disposez maintenant d'une seconde liste, de longueur égale à la première, et que vous souhaitiez les rassembler, la fonction `zip()` crée des tuples de valeurs dans une liste."
   ]
  },
  {
   "cell_type": "code",
   "execution_count": 3,
   "metadata": {
    "collapsed": false
   },
   "outputs": [
    {
     "name": "stdout",
     "output_type": "stream",
     "text": [
      "[('Penny', 'visiteuse m\\xc3\\xa9dicale'), ('Amy', 'biologiste'), ('Bernadette', 'biologiste'), ('Sheldon', 'physicien'), ('Howard', 'ing\\xc3\\xa9nieur'), ('Rajesh', 'astrophysicien'), ('Stuart', 'vendeur de comics'), ('Leonard', 'physicien')]\n"
     ]
    }
   ],
   "source": [
    "metiers = [\"visiteuse médicale\", \"biologiste\", \"biologiste\", \"physicien\", \"ingénieur\", \"astrophysicien\", \"vendeur de comics\", \"physicien\"]\n",
    "bbt = zip(prenoms, metiers)\n",
    "print bbt"
   ]
  },
  {
   "cell_type": "markdown",
   "metadata": {},
   "source": [
    "Il ne reste plus qu'à déplier la liste à l'aide d'une boucle `for`."
   ]
  },
  {
   "cell_type": "code",
   "execution_count": 4,
   "metadata": {
    "collapsed": false
   },
   "outputs": [
    {
     "name": "stdout",
     "output_type": "stream",
     "text": [
      "Penny  ==>  visiteuse médicale\n",
      "Amy  ==>  biologiste\n",
      "Bernadette  ==>  biologiste\n",
      "Sheldon  ==>  physicien\n",
      "Howard  ==>  ingénieur\n",
      "Rajesh  ==>  astrophysicien\n",
      "Stuart  ==>  vendeur de comics\n",
      "Leonard  ==>  physicien\n"
     ]
    }
   ],
   "source": [
    "for prenom, metier in bbt:\n",
    "    print prenom, \" ==> \", metier"
   ]
  },
  {
   "cell_type": "markdown",
   "metadata": {},
   "source": [
    "## Les boucles avec test booléen"
   ]
  },
  {
   "cell_type": "markdown",
   "metadata": {},
   "source": [
    "Une boucle `while` s'exécute tant qu'une condition est remplie. Son utilisation est pratique dans le cas où vous ne connaissez pas le nombre d'itérations d'une boucle. Demandons par exemple à un utilisateur le métier de Sheldon. On pourrait multiplier à l'infini les conditions :\n",
    "```\n",
    "reponse = raw_input(\"Quel est le métier de Sheldon ?\\n\")\n",
    "if reponse != \"physicien\":\n",
    "    print \"Désolé, ce n'est pas ça !\"\n",
    "    reponse = raw_input(\"Quel est le métier de Sheldon ?\\n\")\n",
    "    if reponse != \"physicien\":\n",
    "        print \"Désolé, ce n'est pas ça !\"\n",
    "        reponse = raw_input(\"Quel est le métier de Sheldon ?\\n\")\n",
    "        if reponse != \"physicien\":\n",
    "            print \"Désolé, ce n'est pas ça !\"\n",
    "            reponse = raw_input(\"Quel est le métier de Sheldon ?\\n\")\n",
    "        else:\n",
    "            print \"Bravo, vous avez deviné ! Sheldon exerce bien le métier de \", reponse\n",
    "    else:\n",
    "        print \"Bravo, vous avez deviné ! Sheldon exerce bien le métier de \", reponse\n",
    "else:\n",
    "    print \"Bravo, vous avez deviné ! Sheldon exerce bien le métier de \", reponse\n",
    "```"
   ]
  },
  {
   "cell_type": "markdown",
   "metadata": {},
   "source": [
    "Le test booléen s'inscrit parfaitement bien dans une boucle `while` pour répondre à ce cas de figure."
   ]
  },
  {
   "cell_type": "code",
   "execution_count": null,
   "metadata": {
    "collapsed": false
   },
   "outputs": [
    {
     "name": "stdout",
     "output_type": "stream",
     "text": [
      "Quel est le métier de Sheldon ?\n",
      "jhjhf\n",
      "Désolé, ce n'est pas ça !\n",
      "Quel est le métier de Sheldon ?\n",
      "hff\n",
      "Désolé, ce n'est pas ça !\n",
      "Quel est le métier de Sheldon ?\n",
      "jkj\n",
      "Désolé, ce n'est pas ça !\n"
     ]
    }
   ],
   "source": [
    "reponse = raw_input(\"Quel est le métier de Sheldon ?\\n\")\n",
    "while reponse != bbt[3][1]:\n",
    "    print \"Désolé, ce n'est pas ça !\"\n",
    "    reponse = raw_input(\"Quel est le métier de Sheldon ?\\n\")\n",
    "print \"Bravo, vous avez deviné ! Sheldon exerce bien le métier de\", reponse"
   ]
  },
  {
   "cell_type": "markdown",
   "metadata": {},
   "source": [
    "## Les boucles infinies"
   ]
  },
  {
   "cell_type": "markdown",
   "metadata": {},
   "source": [
    "Na jamais modifier l'objet d'une boucle `for`. Dans l'exemple ci-dessous, à chaque passage de la boucle, un élément est inséré à la fin de la liste. Par conséquent, l'itérateur ne sortira jamais de la boucle :\n",
    "```\n",
    "# Initialisation d'une liste avec deux éléments\n",
    "liste = [1, 2]\n",
    "# On parcourt la liste avec un itérateur (l)\n",
    "for l in liste:\n",
    "    # Affichage de l'élément courant\n",
    "    print l\n",
    "    # On ajoute un élément à la fin (méthode append). Cet élément a pour valeur le nombre d'éléments total + 1\n",
    "\tliste.append(len(liste)+1)\n",
    "```"
   ]
  },
  {
   "cell_type": "markdown",
   "metadata": {
    "collapsed": true
   },
   "source": [
    "Lorsque vous itérez avec une boucle `while` à l'aide d'une expression autre que booléenne, veillez à disposer d'une variable d'incrémentation :\n",
    "```\n",
    "# Liste témoin\n",
    "liste = range(10)\n",
    "# Variable d'incrémentation\n",
    "i = 0\n",
    "# Tant que i est inférieur à la longueur totale de la liste\n",
    "while i < len(liste):\n",
    "    # Imprimer i ==> élément courant de la liste\n",
    "    print i, \" ==> \", liste[i]\n",
    "    # Sans incrémentation de i, la condition sera toujours remplie et la boucle ne s'arrêtera jamais.\n",
    "```"
   ]
  },
  {
   "cell_type": "code",
   "execution_count": null,
   "metadata": {
    "collapsed": false
   },
   "outputs": [],
   "source": [
    "# Liste témoin\n",
    "liste = range(10)\n",
    "# Variable d'incrémentation\n",
    "i = 0\n",
    "# Tant que i est inférieur à la longueur totale de la liste\n",
    "while i < len(liste):\n",
    "    # Imprimer i ==> élément courant de la liste\n",
    "    print i, \" ==> \", liste[i]\n",
    "    # Avec l'incrémentation, la boucle s'arrêtera lorsque i ne sera plus inférieur à la longueur totale de la liste.\n",
    "    i += 1"
   ]
  },
  {
   "cell_type": "markdown",
   "metadata": {},
   "source": [
    "Quand il s'agit d'effectuer une action systématique, une boucle `for` est plus adaptée :"
   ]
  },
  {
   "cell_type": "code",
   "execution_count": null,
   "metadata": {
    "collapsed": false
   },
   "outputs": [],
   "source": [
    "# Pour chaque élément e dans ma liste\n",
    "for e in liste:\n",
    "    # Afficher l'élément\n",
    "    print e"
   ]
  }
 ],
 "metadata": {
  "kernelspec": {
   "display_name": "Python 2",
   "language": "python",
   "name": "python2"
  },
  "language_info": {
   "codemirror_mode": {
    "name": "ipython",
    "version": 2
   },
   "file_extension": ".py",
   "mimetype": "text/x-python",
   "name": "python",
   "nbconvert_exporter": "python",
   "pygments_lexer": "ipython2",
   "version": "2.7.10"
  }
 },
 "nbformat": 4,
 "nbformat_minor": 0
}
