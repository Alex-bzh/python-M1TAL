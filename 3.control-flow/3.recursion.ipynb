{
 "cells": [
  {
   "cell_type": "markdown",
   "metadata": {
    "slideshow": {
     "slide_type": "slide"
    }
   },
   "source": [
    "# Définir une fonction récursive"
   ]
  },
  {
   "cell_type": "markdown",
   "metadata": {
    "slideshow": {
     "slide_type": "slide"
    }
   },
   "source": [
    "## Présentation\n",
    "\n",
    "En mathématique comme en programmation, on appelle fonction récursive une fonction qui met en œuvre un algorithme pour « résou\\[dre\\] un problème en calculant des solutions d’instances plus petites du même problème » (*Wikipédia*, article sur les algorithmes récursifs).\n",
    "\n",
    "Considérons un problème simple qui consiste à calculer la somme des entiers naturels d’une suite arithmétique :\n",
    "\n",
    "$S = 1 + 2 + 3 + … + (n - 1) + n$"
   ]
  },
  {
   "cell_type": "markdown",
   "metadata": {
    "slideshow": {
     "slide_type": "subslide"
    }
   },
   "source": [
    "Intuitivement, on comprend bien que cette opération est une somme d’opérations plus petites :\n",
    "- addition de $n$ et $n-1$\n",
    "- addition de $n-1$ et $n-2$\n",
    "- addition de $n-2$ et $n-3$\n",
    "- … jusqu’à 0"
   ]
  },
  {
   "cell_type": "markdown",
   "metadata": {
    "slideshow": {
     "slide_type": "subslide"
    }
   },
   "source": [
    "Elle peut se représenter en Python grâce à une fonction qui mobilise une boucle `while` :"
   ]
  },
  {
   "cell_type": "code",
   "execution_count": null,
   "metadata": {
    "slideshow": {
     "slide_type": "-"
    }
   },
   "outputs": [],
   "source": [
    "def summation(n):\n",
    "    \"\"\"Calculates the sum of each positive integer\n",
    "    to a given number.\n",
    "    \n",
    "    n -- int: top limit of the arithmetic sequence\n",
    "    \"\"\"\n",
    "    # At minimum, the sum = n\n",
    "    s = n\n",
    "    # Decrease n till > 0\n",
    "    # and add n to the sum\n",
    "    while n > 0:\n",
    "        n -= 1\n",
    "        s += n\n",
    "\n",
    "    return s"
   ]
  },
  {
   "cell_type": "markdown",
   "metadata": {
    "slideshow": {
     "slide_type": "subslide"
    }
   },
   "source": [
    "D’un point de vue complexité, notre algorithme est loin d’être optimisé. Pour l’anecdote, un mathématicien allemand du nom de Carl Friedrich Gauss a formulé en 1784, à seulement 7 ans, une fonction qui améliore nettement la rapidité de résolution de cette éngime :\n",
    "\n",
    "$S = \\frac{n(n+1)}{2}$"
   ]
  },
  {
   "cell_type": "markdown",
   "metadata": {
    "slideshow": {
     "slide_type": "subslide"
    }
   },
   "source": [
    "La formule, qui porte son nom, peut être transcrite en Python en une seule ligne :"
   ]
  },
  {
   "cell_type": "code",
   "execution_count": null,
   "metadata": {
    "slideshow": {
     "slide_type": "-"
    }
   },
   "outputs": [],
   "source": [
    "def gauss(n):\n",
    "    \"\"\"Gaussian summation function.\n",
    "    \n",
    "    n -- int: top limit of the arithmetic sequence\n",
    "    \"\"\"\n",
    "    return n * (n + 1) / 2"
   ]
  },
  {
   "cell_type": "markdown",
   "metadata": {
    "slideshow": {
     "slide_type": "subslide"
    }
   },
   "source": [
    "Pour revenir à notre exemple, il existe une troisième façon de résoudre le problème, dite *par récurrence*, où la fonction va s’appeler elle-même tant que nécessaire :"
   ]
  },
  {
   "cell_type": "code",
   "execution_count": null,
   "metadata": {
    "slideshow": {
     "slide_type": "-"
    }
   },
   "outputs": [],
   "source": [
    "def summation(n):\n",
    "    \"\"\"Recursive definition of the summation of an\n",
    "    arithmetic sequence.\n",
    "    \n",
    "    n -- int: top limit of the arithmetic sequence\n",
    "    \"\"\"\n",
    "    # When n is equal at 0, stop the summation\n",
    "    if n == 0: return n\n",
    "    # Recursive call\n",
    "    return n + summation(n - 1)"
   ]
  },
  {
   "cell_type": "markdown",
   "metadata": {
    "slideshow": {
     "slide_type": "slide"
    }
   },
   "source": [
    "## Méthode\n",
    "\n",
    "Tous les algorithmes n’ont pas une définition par récurrence, alors que tous les algorithmes récursifs ont une solution non récursive.\n",
    "\n",
    "La définition d’une fonction récursive se caractérise par deux structures :\n",
    "1. le cas de base, dont l’objectif est d’arrêter la récurrence ;\n",
    "2. le cas de propagation, dont la mission est de lancer l’appel récursif."
   ]
  },
  {
   "cell_type": "markdown",
   "metadata": {
    "slideshow": {
     "slide_type": "subslide"
    }
   },
   "source": [
    "Dans la définition par récurrence en python du calculde la somme d’une suite arithmétique, la première ligne de code constitue le cas de base :\n",
    "```python\n",
    "if n == 0: return n\n",
    "```\n",
    "Tandis que le cas de propagation est écrit dans la seconde ligne :\n",
    "```python\n",
    "return n + summation(n - 1)\n",
    "```\n",
    "**Remarque :** les fonctions récursives ne se limitent pas forcément à un seul cas de bases ou un seul cas de propagation."
   ]
  },
  {
   "cell_type": "markdown",
   "metadata": {
    "slideshow": {
     "slide_type": "subslide"
    }
   },
   "source": [
    "### Le cas de base\n",
    "\n",
    "Comme une fonction récursive a vocation à s’appeler elle-même, il est impératif de prévoir un mécanisme d’arrêt. Sans cela, la fonction s’appellerait indéfiniment.\n",
    "\n",
    "C’est la raison du *cas de base*, qui est l’expression de la dernière opération à effectuer pour obtenir la solution. Dans le calcul de la somme d’une suite arithmétique d’entiers naturels, la toute dernière opération intervient lorsque *n* est égal à 0."
   ]
  },
  {
   "cell_type": "markdown",
   "metadata": {
    "slideshow": {
     "slide_type": "subslide"
    }
   },
   "source": [
    "### Le cas de propagation\n",
    "\n",
    "Il s’agit de l’opération à effectuer de manière régulière pour chaque terme de la suite. Elle répond à la question : que faire lorsque le cas de base n’est pas réalisé ? Dans notre exemple, on additionne $n$ avec $n-1$."
   ]
  },
  {
   "cell_type": "markdown",
   "metadata": {
    "slideshow": {
     "slide_type": "subslide"
    }
   },
   "source": [
    "D’un point de vue plus mathématique la formule s’exprimerait ainsi :\n",
    "\n",
    "$S(n) =\n",
    "    \\left \\{\n",
    "        \\begin{array}{l l}\n",
    "            n & \\text{si n = 0} \\\\\n",
    "            n + S(n -1) & \\text{sinon}\n",
    "        \\end{array}\n",
    "    \\right.\n",
    "$"
   ]
  },
  {
   "cell_type": "markdown",
   "metadata": {
    "slideshow": {
     "slide_type": "slide"
    }
   },
   "source": [
    "## Un ours pudique\n",
    "\n",
    "Vous connaissez cette histoire populaire de *L’homme qui a vu l’homme qui a vu l’ours* qui est une manière d’ironiser sur les ragots. Essayons d’en offrir une définition mathématique avec $n$ comme nombre de témoins de la scène et $n-1$ le nombre de témoins indirects.\n",
    "\n",
    "Dans la phrase, on observe un motif qui se répète deux fois (*l’homme qui a vu*), puis un motif terminal (*l’ours*). Si on attribue ces termes aux deux structures de toute fonction récursive :\n",
    "- cas de base : *l’ours*\n",
    "- cas de propagation : *l’homme qui a vu* + … + $n-1$"
   ]
  },
  {
   "cell_type": "markdown",
   "metadata": {
    "slideshow": {
     "slide_type": "subslide"
    }
   },
   "source": [
    "En termes mathématiques, par simple adaptation de la formule précédente, on obtiendrait :\n",
    "\n",
    "$F(n) =\n",
    "    \\left \\{\n",
    "        \\begin{array}{l l}\n",
    "            \\text{l’ours} & \\text{si n = 0} \\\\\n",
    "            \\text{l’homme qui a vu } + F(n -1) & \\text{sinon}\n",
    "        \\end{array}\n",
    "    \\right.\n",
    "$"
   ]
  },
  {
   "cell_type": "markdown",
   "metadata": {
    "slideshow": {
     "slide_type": "subslide"
    }
   },
   "source": [
    "Si l’on risque une transcription en Python :"
   ]
  },
  {
   "cell_type": "code",
   "execution_count": null,
   "metadata": {
    "slideshow": {
     "slide_type": "-"
    }
   },
   "outputs": [],
   "source": [
    "def ours(n):\n",
    "    \"\"\"Recursive definition of the pop french story\n",
    "    about the man who has seen the man who has seen the bear.\n",
    "\n",
    "    n -- int: number of witnesses\n",
    "    \"\"\"\n",
    "    # Base case\n",
    "    if n == 0: return \"l’ours.\"\n",
    "    # Recursive case\n",
    "    return \"l’homme qui a vu \" + ours(n - 1)"
   ]
  },
  {
   "cell_type": "markdown",
   "metadata": {
    "slideshow": {
     "slide_type": "subslide"
    }
   },
   "source": [
    "Et pour peaufiner le résultat, il reste à passer la première lettre en majuscule :"
   ]
  },
  {
   "cell_type": "code",
   "execution_count": null,
   "metadata": {
    "slideshow": {
     "slide_type": "-"
    }
   },
   "outputs": [],
   "source": [
    "ours(5).capitalize()"
   ]
  }
 ],
 "metadata": {
  "celltoolbar": "Diaporama",
  "kernelspec": {
   "display_name": "Python 3",
   "language": "python",
   "name": "python3"
  },
  "language_info": {
   "codemirror_mode": {
    "name": "ipython",
    "version": 3
   },
   "file_extension": ".py",
   "mimetype": "text/x-python",
   "name": "python",
   "nbconvert_exporter": "python",
   "pygments_lexer": "ipython3",
   "version": "3.7.7"
  }
 },
 "nbformat": 4,
 "nbformat_minor": 4
}
