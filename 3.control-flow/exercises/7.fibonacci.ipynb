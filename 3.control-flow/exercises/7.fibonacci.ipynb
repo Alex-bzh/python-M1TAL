{
 "cells": [
  {
   "cell_type": "markdown",
   "metadata": {},
   "source": [
    "# La suite de Fibonacci"
   ]
  },
  {
   "cell_type": "markdown",
   "metadata": {},
   "source": [
    "> « Un homme met un couple de lapins dans un lieu isolé de tous les côtés par un mur. Combien de couples obtient-on en un an si chaque couple engendre tous les mois un nouveau couple à compter du troisième mois de son existence ? »\n",
    "\n",
    "C’est en ces termes que s’énonce en 1202, dans le *Liber abaci*, l’énigme récréative de Leonardo Fibonacci, que l’on peut représenter ainsi :\n",
    "\n",
    "![La suite de Fibonacci](../images/fibonacci.svg)\n",
    "\n",
    "**Observations :**\n",
    "- les deux premiers mois : un seul couple ;\n",
    "- le 3e mois : les lapins pubères engendrent une deuxième paire ;\n",
    "- le 5e mois : les 1er et second couples engendrent chacun une paire ;\n",
    "- le 6e mois : les 1er, 2e et 3e couples engendrent chacun une paire ;\n",
    "- …"
   ]
  },
  {
   "cell_type": "markdown",
   "metadata": {},
   "source": [
    "## Énoncé du problème"
   ]
  },
  {
   "cell_type": "markdown",
   "metadata": {},
   "source": [
    "Grâce à une fonction récursive, renvoyez le nombre de lapins pour un mois $n$ donné en entrée.\n",
    "\n",
    "Afin de vous aider :\n",
    "- les premiers nombres de la suite de Fibonacci valent : $1, 1, 2, 3, 5, 8, 13, 21, 34, 55$\n",
    "- un nombre $n$ est égal à la somme des deux nombres qui le précèdent"
   ]
  },
  {
   "cell_type": "markdown",
   "metadata": {},
   "source": [
    "## Formule mathématique"
   ]
  },
  {
   "cell_type": "markdown",
   "metadata": {},
   "source": [
    "Afin de définir la fonction récursive $F(n)$, on sait qu’il faut trouver le cas de base et le cas de propagation.\n",
    "\n",
    "Que sait-on d’un nombre de rang *n* ? On sait que pour obtenir sa valeur il faut connaître et additionner les deux nombres qui le précèdent. Cette observation constitue le cas de propagation :\n",
    "\n",
    "$F_n = F_{n-1} + F_{n-2}$\n",
    "\n",
    "Pour le cas de base, c’est à peine plus difficile. L´énoncé nous apprend que les deux premiers mois, correspondant aux nombres de rang 0 et 1, il n’y a qu’un seul couple de lapins. En conséquence, pour tout nombre de rang strictement inférieur à 2, on renvoie 1.\n",
    "\n",
    "$F(n) =\n",
    "    \\left \\{\n",
    "        \\begin{array}{l l}\n",
    "            1 & \\text{si } n \\lt 2 \\\\\n",
    "            F(n - 1) + F(n - 2) & \\text{sinon}\n",
    "        \\end{array}\n",
    "    \\right.\n",
    "$"
   ]
  },
  {
   "cell_type": "markdown",
   "metadata": {},
   "source": [
    "## Résolution pythonique"
   ]
  },
  {
   "cell_type": "markdown",
   "metadata": {},
   "source": [
    "Complétez la fonction ci-dessous en traduisant simplement la formule plus haut :"
   ]
  },
  {
   "cell_type": "code",
   "execution_count": null,
   "metadata": {},
   "outputs": [],
   "source": [
    "# your code here\n",
    "def fibo(n: int):\n",
    "    \"\"\"Returns the number of rank n in the\n",
    "    Fibonacci sequence.\n",
    "    \n",
    "    n -- int: the rank in the sequence\n",
    "    \"\"\"\n",
    "    pass"
   ]
  },
  {
   "cell_type": "markdown",
   "metadata": {},
   "source": [
    "Testez la validité de votre fonction avec le code ci-dessous :"
   ]
  },
  {
   "cell_type": "code",
   "execution_count": null,
   "metadata": {},
   "outputs": [],
   "source": [
    "# [1, 1, 2, 3, 5, 8, 13, 21, 34, 55]\n",
    "[\n",
    "    fibo(i)\n",
    "    for i in range(10)\n",
    "\n",
    "]"
   ]
  }
 ],
 "metadata": {
  "kernelspec": {
   "display_name": "Python 3 (ipykernel)",
   "language": "python",
   "name": "python3"
  },
  "language_info": {
   "codemirror_mode": {
    "name": "ipython",
    "version": 3
   },
   "file_extension": ".py",
   "mimetype": "text/x-python",
   "name": "python",
   "nbconvert_exporter": "python",
   "pygments_lexer": "ipython3",
   "version": "3.10.6"
  }
 },
 "nbformat": 4,
 "nbformat_minor": 4
}
