{
 "cells": [
  {
   "cell_type": "markdown",
   "metadata": {},
   "source": [
    "# La suite de Fibonacci\n",
    "\n",
    "> « Un homme met un couple de lapins dans un lieu isolé de tous les côtés par un mur. Combien de couples obtient-on en un an si chaque couple engendre tous les mois un nouveau couple à compter du troisième mois de son existence ? »\n",
    "\n",
    "C’est en ces termes que s’énonce en 1202, dans le *Liber abaci*, l’énigme récréative de Leonardo Fibonacci, que l’on peut représenter ainsi :\n",
    "\n",
    "![La suite de Fibonacci](../images/fibonacci.svg)\n",
    "\n",
    "**Explications :**\n",
    "- les deux premiers mois : un seul couple ;\n",
    "- le 3e mois : les lapins pubères engendrent une deuxième paire ;\n",
    "- le 5e mois : les 1er et second couples engendrent chacun une paire ;\n",
    "- le 6e mois : les 1er, 2e et 3e couples engendrent chacun une paire ;\n",
    "- …\n",
    "\n",
    "Essayez tout d’abord de définir par récurrence et sous forme mathématique l’énigme de Fibonacci."
   ]
  },
  {
   "cell_type": "code",
   "execution_count": null,
   "metadata": {},
   "outputs": [],
   "source": []
  }
 ],
 "metadata": {
  "kernelspec": {
   "display_name": "Python 3",
   "language": "python",
   "name": "python3"
  },
  "language_info": {
   "codemirror_mode": {
    "name": "ipython",
    "version": 3
   },
   "file_extension": ".py",
   "mimetype": "text/x-python",
   "name": "python",
   "nbconvert_exporter": "python",
   "pygments_lexer": "ipython3",
   "version": "3.7.7"
  }
 },
 "nbformat": 4,
 "nbformat_minor": 4
}
