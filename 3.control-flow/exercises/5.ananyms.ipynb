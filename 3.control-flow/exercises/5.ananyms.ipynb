{
 "cells": [
  {
   "cell_type": "markdown",
   "metadata": {},
   "source": [
    "# Anacycliques\n",
    "\n",
    "## Définition\n",
    "\n",
    "Pour cet exercice, nous nous focaliserons sur une catégorie de mots qui conservent un sens lorsqu’on les lit de droite à gauche : les anacycliques. De la famille des anagrammes, ils se distinguent des palindromes en ce que leur sens n’est pas forcément identique dans les deux sens de lecture :\n",
    "- *amuser* et *résuma*\n",
    "- *super* et *repus*\n",
    "- *trot* et *tort*\n",
    "- *été* et *été* (anacyclique et palindrome)\n",
    "- …\n",
    "\n",
    "Pour reconnaître un anacylique, il ne suffit donc pas seulement de modifier le sens de lecture d’une chaîne de caractères puis de la comparer avec la version originale, mais il faut également s’assurer que le résultat produit ait un sens. Le mot *tabernacle*, par exemple, produit à l’envers la chaîne *elcanrebat*, qui n’a aucun sens.\n",
    "\n",
    "## Conception\n",
    "\n",
    "L’objectif de cet exercice est de fournir un programme qui repère dans un texte tous les anacycliques. Nous travaillerons sur un extrait du *Ventre de Paris* (1873) de Zola. Vous comprendrez qu’analyser le texte mobiliserait trop de ressources machines.\n",
    "\n",
    "Recensons à présent les besoins du programme :\n",
    "- ouvrir le fichier\n",
    "- découper en mots\n",
    "- (boucle) renverser le sens de lecture de chaque mot\n",
    "- comparer l’orthographe avec le mot original :\n",
    "    - (test) si les orthographes concordent, vérifier avec un lexique de référence :\n",
    "        - (test) si le mot existe, le sauvegarder avec sa position dans le texte\n",
    "\n",
    "## Astuces\n",
    "\n",
    "### Découper un texte en mots\n",
    "\n",
    "Vous utiliserez la méthode `split()` sans vous soucier du bruit engendré.\n",
    "\n",
    "### Renverser le sens de lecture d’un mot\n",
    "\n",
    "La technique la plus simple parmi toutes celles imaginables, recourt aux *slices* :"
   ]
  },
  {
   "cell_type": "code",
   "execution_count": null,
   "metadata": {},
   "outputs": [],
   "source": [
    "mot = \"bazinga\"\n",
    "envers = mot[::-1]\n",
    "print(envers)"
   ]
  },
  {
   "cell_type": "markdown",
   "metadata": {},
   "source": [
    "La syntaxe `mot[::-1]` affiche chaque caractère du mot avec un pas négatif de -1, comprenez : en partant de la fin."
   ]
  },
  {
   "cell_type": "markdown",
   "metadata": {},
   "source": [
    "### Comparer deux objets\n",
    "\n",
    "Le symbole `==` permet de tester deux variables.\n",
    "\n",
    "### Trouver la position d’un segment\n",
    "\n",
    "La méthode `find()` d’un objet `str` renvoie l’indice du premier caractère de la chaîne concernée :"
   ]
  },
  {
   "cell_type": "code",
   "execution_count": null,
   "metadata": {},
   "outputs": [],
   "source": [
    "sentence = \"A Lannister always pays his debts.\"\n",
    "print(sentence.find('Lannister'))"
   ]
  },
  {
   "cell_type": "markdown",
   "metadata": {},
   "source": [
    "## Code de départ\n",
    "\n",
    "Pour démarrer, vous disposez des 100 000 premiers caractères du roman dans un objet `txt`, ainsi que d’un lexique de référence dans un objet `lexicon`. À vous de produire tout le reste !\n",
    "\n",
    "**Remarque :** le lexique de référence est un extrait de [*Lexique 3*](http://www.lexique.org/) où nous n’avons conservé que la colonne *ortho* à des fins de performance."
   ]
  },
  {
   "cell_type": "code",
   "execution_count": null,
   "metadata": {},
   "outputs": [],
   "source": [
    "import csv\n",
    "\n",
    "# Loading with the data\n",
    "with open('../data/le-ventre-de-paris.txt') as file:\n",
    "    # Reads only the first 100.000 characters\n",
    "    txt = file.read(100000)\n",
    "\n",
    "# Loading a french lexicon\n",
    "with open('../data/lexique383-ortho.tsv') as csvfile:\n",
    "    reader = csv.DictReader(csvfile, delimiter=\"\\t\")\n",
    "    lexicon = [ line[\"ortho\"] for line in reader ]"
   ]
  },
  {
   "cell_type": "code",
   "execution_count": null,
   "metadata": {},
   "outputs": [],
   "source": [
    "# Your code here"
   ]
  }
 ],
 "metadata": {
  "kernelspec": {
   "display_name": "Python 3",
   "language": "python",
   "name": "python3"
  },
  "language_info": {
   "codemirror_mode": {
    "name": "ipython",
    "version": 3
   },
   "file_extension": ".py",
   "mimetype": "text/x-python",
   "name": "python",
   "nbconvert_exporter": "python",
   "pygments_lexer": "ipython3",
   "version": "3.8.0"
  }
 },
 "nbformat": 4,
 "nbformat_minor": 4
}
