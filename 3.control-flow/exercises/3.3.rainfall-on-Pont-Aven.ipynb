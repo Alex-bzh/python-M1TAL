{
 "cells": [
  {
   "cell_type": "markdown",
   "id": "bffde552-0a1f-4d39-8d2c-db163f4402d4",
   "metadata": {},
   "source": [
    "# Les postimpressionnistes aiment les galettes et la pluie"
   ]
  },
  {
   "cell_type": "markdown",
   "id": "c41b573a-f3af-4519-8cdb-f6eba8a38513",
   "metadata": {},
   "source": [
    "Pour s’établir dans la petite commune bretonne de Pont-Aven, Paul Gauguin devait beaucoup aimer les galettes et la pluie. Dans ce petit exercice, vous manipulerez des objets en vue d’afficher un graphique des précipitations sur l’année 2023 et de calculer l’écart avec les normales climatiques grâce à une métrique très connue, la RMSE (*root mean square error* ou racine de l’erreur quadratique moyenne).\n",
    "\n",
    "Commencez par charger les librairies nécessaires :"
   ]
  },
  {
   "cell_type": "code",
   "execution_count": null,
   "id": "9dff4738-9be4-4e1d-a58a-3044acb838fd",
   "metadata": {},
   "outputs": [],
   "source": [
    "import matplotlib.pyplot as plt\n",
    "import numpy as np\n",
    "import pandas as pd\n",
    "import seaborn as sns"
   ]
  },
  {
   "cell_type": "markdown",
   "id": "5d92972d-1bd3-4149-a4d1-301165640b0c",
   "metadata": {},
   "source": [
    "Puis les données de départ :"
   ]
  },
  {
   "cell_type": "code",
   "execution_count": null,
   "id": "ddf8f806-3fba-47d9-9793-01e4c7ec5968",
   "metadata": {},
   "outputs": [],
   "source": [
    "months = [\"Jan\", \"Feb\", \"March\", \"April\", \"May\", \"Jun\", \"Jul\", \"Aug\", \"Sept\", \"Oct\", \"Nov\", \"Dec\"]\n",
    "rainfall = [73, 10.6, 160.8, 99, 48.8, 13.4, 139.8, 36.8, 18.4, 73]\n",
    "normals = [98, 76, 67, 70, 67, 50, 42, 43, 49, 90, 85, 100]"
   ]
  },
  {
   "cell_type": "markdown",
   "id": "85b638b2-4c0d-4327-a9b9-4c791504615f",
   "metadata": {},
   "source": [
    "## Charger les données dans une structure adaptée"
   ]
  },
  {
   "cell_type": "markdown",
   "id": "0c9fea4c-8c4d-419f-ab8b-3f3865345978",
   "metadata": {},
   "source": [
    "Au terme de cette première étape, vous serez amené·e à charger les données dans un *dataframe*, une structure de données tabulaire mise à disposition par la librairie *Pandas* et compatible avec d’autres librairies fréquemment utilisées en analyse des données : *Numpy*, *Matplotlib* et *Seaborn*.\n",
    "\n",
    "Instanciez une variable `series`, de type dictionnaire, qui contienne trois clés : `months`, `rainfall` et `normals`. Attribuez-leur comme valeurs les listes correspondantes en veillant à ce que leurs longueurs soient similaires. Si la stratégie que vous adoptez implique de combler des valeurs manquantes à une liste, utilisez la syntaxe `np.nan`."
   ]
  },
  {
   "cell_type": "code",
   "execution_count": null,
   "id": "3cbc7f21-5c49-4e58-859e-aaa7c059dbc9",
   "metadata": {},
   "outputs": [],
   "source": [
    "# your code here"
   ]
  },
  {
   "cell_type": "markdown",
   "id": "c191a072-20ca-4813-b3f7-f347eee63dba",
   "metadata": {},
   "source": [
    "Vérifions si votre structure `series` respecte la contrainte de longueur :"
   ]
  },
  {
   "cell_type": "code",
   "execution_count": null,
   "id": "0a468bc8-8ef1-4f9b-b43b-3862172391a0",
   "metadata": {},
   "outputs": [],
   "source": [
    "flag = False\n",
    "\n",
    "for k, v in series.items():\n",
    "    if len(v) != 12:\n",
    "        flag = True\n",
    "        print(f\"La clé '{k}' n’est pas de longueur 12.\")\n",
    "\n",
    "if not flag:\n",
    "    print(\"Toutes les clés sont de longueur 12.\")"
   ]
  },
  {
   "cell_type": "markdown",
   "id": "7d6cba80-53ac-4556-a2dc-2e3e617f6d36",
   "metadata": {},
   "source": [
    "Chargez maintenant votre dictionnaire dans un *dataframe* :"
   ]
  },
  {
   "cell_type": "code",
   "execution_count": null,
   "id": "41836ec8-53f5-4a07-9674-11e41dc67e37",
   "metadata": {},
   "outputs": [],
   "source": [
    "df = pd.DataFrame(data=series)"
   ]
  },
  {
   "cell_type": "markdown",
   "id": "0a62aab7-b747-4ee3-9bc1-4cbd6dd610c0",
   "metadata": {},
   "source": [
    "Et jetez un coup d’œil à vos données :"
   ]
  },
  {
   "cell_type": "code",
   "execution_count": null,
   "id": "295852b6-f37f-4cb7-9faf-020ac82cf65f",
   "metadata": {},
   "outputs": [],
   "source": [
    "display(df)"
   ]
  },
  {
   "cell_type": "markdown",
   "id": "2d5a30df-5ab8-4dce-99ba-e17a6421ef83",
   "metadata": {},
   "source": [
    "Exécutez à présent le code ci-dessous afin d’afficher un graphique des précipitations et des normales climatiques :"
   ]
  },
  {
   "cell_type": "code",
   "execution_count": null,
   "id": "8b63626e-caa7-4918-847b-ed45a27edb4b",
   "metadata": {},
   "outputs": [],
   "source": [
    "data = pd.melt(\n",
    "    df,\n",
    "    id_vars=\"months\",\n",
    "    var_name=\"Measure\",\n",
    "    value_name=\"mm\")\n",
    "\n",
    "_ = sns.lineplot(data=data, x=\"months\", y=\"mm\", hue=\"Measure\", marker=\"o\")\n",
    "sns.despine()"
   ]
  },
  {
   "cell_type": "markdown",
   "id": "9a9825b8-a95d-457f-aba5-131721523796",
   "metadata": {},
   "source": [
    "## Évaluer un écart grâce à une métrique"
   ]
  },
  {
   "cell_type": "markdown",
   "id": "40414f70-72dc-40f0-8c04-48eb1c7cf115",
   "metadata": {},
   "source": [
    "Vous le constatez immédiatement grâce au graphique, il existe un écart entre les valeurs normales et les valeurs observées pour la période. Si maintenant nous estimons (à tort) que les normales correspondent à des prévisions, l’écart devient une erreur quantifiable grâce à des métriques bien connues des analystes de données.\n",
    "\n",
    "L’une d’elles, la RMSE, a l’avantage de s’exprimer dans l’unité de la variable à prédire en extrayant la racine de l’erreur quadratique moyenne. La formule vaut :\n",
    "\n",
    "$$\n",
    "\\text{RMSE} = \\sqrt{ \\frac{1}{k}\\sum_{i=0}^{k-1}(y_i - \\hat{y}_i)^2 }\n",
    "$$\n",
    "\n",
    "Dans cette formule, $k$ représente le nombre d’observations, $i$ le numéro d’indice d’une observation, $y$ une valeur observée et $\\hat{y}$ la valeur prédite.\n",
    "\n",
    "Le calcul à la main peut se décomposer ainsi :\n",
    "\n",
    "$$\n",
    "\\begin{align}\n",
    "    \\text{SE} &= (73 - 98)^2 + (10.6 - 76)^2 + (160.8 - 67)^2 + (99 - 70)^2 + (48.8 - 67)^2 + (13.4 - 50)^2 + (139.8 - 42)^2 + (36.8 - 43)^2 + (18.4 - 49)^2 + (73 - 90)^2 \\\\\n",
    "    \\text{SE} &= 27041 \\\\\n",
    "    \\text{RMSE} &= \\sqrt{\\frac{1}{10} \\cdot 27041}\\\\\n",
    "    \\text{RMSE} &= 52 \\text{ mm}\n",
    "\\end{align}\n",
    "$$"
   ]
  },
  {
   "cell_type": "markdown",
   "id": "e32003a7-fb4a-4fc7-a04a-3fb94305cfc3",
   "metadata": {},
   "source": [
    "Programmez plutôt une fonction appelée `rmse()` qui prenne en entrée une liste de tuples dont le premier élément sera la valeur observée et le second la valeur prédite, et qui retourne en sortie la métrique calculée."
   ]
  },
  {
   "cell_type": "code",
   "execution_count": null,
   "id": "6ccafd46-a094-4836-8dad-f1a42c2f2db8",
   "metadata": {},
   "outputs": [],
   "source": [
    "# your code here"
   ]
  },
  {
   "cell_type": "markdown",
   "id": "e41a1c8c-cf3e-4e41-9373-8aef4deb70a7",
   "metadata": {},
   "source": [
    "Créez une variable `measures` qui réunisse les observations et les prévisions. **Attention !** Vous devez obtenir une liste de tuples sans oublier que vous ne disposez d’observations que pour les dix premiers mois."
   ]
  },
  {
   "cell_type": "code",
   "execution_count": null,
   "id": "204657d5-b043-4d9c-b09b-39db0ad656b7",
   "metadata": {},
   "outputs": [],
   "source": [
    "# your code here"
   ]
  },
  {
   "cell_type": "markdown",
   "id": "65a9236e-d814-4ea7-a2dc-8382832cf9ae",
   "metadata": {},
   "source": [
    "Exécutez à présent votre fonction et sauvegardez son résultat dans une variable `error` :"
   ]
  },
  {
   "cell_type": "code",
   "execution_count": null,
   "id": "b761b610-db14-466f-8c78-c6cc24f1127e",
   "metadata": {},
   "outputs": [],
   "source": [
    "# your code here"
   ]
  },
  {
   "cell_type": "markdown",
   "id": "7fe15a0a-6d55-4138-ac9f-f0e33a817a59",
   "metadata": {},
   "source": [
    "## Un graphique amélioré"
   ]
  },
  {
   "cell_type": "markdown",
   "id": "edb40097-5733-4bfe-adb6-73ae846526ae",
   "metadata": {},
   "source": [
    "Au premier graphique affiché, il est désormais possible d’ajouter la valeur de la RMSE calculée. Au passage, vous pouvez améliorer la présentation avec des titres mieux définis :"
   ]
  },
  {
   "cell_type": "code",
   "execution_count": null,
   "id": "9590d2b9-0091-4ef9-b70f-8ed119bc70a7",
   "metadata": {},
   "outputs": [],
   "source": [
    "_ = sns.lineplot(data=data, x=\"months\", y=\"mm\", hue=\"Measure\", marker=\"o\")\n",
    "\n",
    "plt.title(\"Indicateur de pluviométrie au-dessus de Pont-Aven (29)\")\n",
    "plt.xlabel(\"Année 2023\")\n",
    "plt.ylabel(\"Précipitations (en mm)\")\n",
    "plt.legend([\"Observées\", \"Prédites\"], loc=\"upper right\", title=\"Mesures\")\n",
    "plt.text(8, 125, f\"RMSE : {error:.2f}\")\n",
    "\n",
    "sns.despine()"
   ]
  }
 ],
 "metadata": {
  "kernelspec": {
   "display_name": "Python 3 (ipykernel)",
   "language": "python",
   "name": "python3"
  },
  "language_info": {
   "codemirror_mode": {
    "name": "ipython",
    "version": 3
   },
   "file_extension": ".py",
   "mimetype": "text/x-python",
   "name": "python",
   "nbconvert_exporter": "python",
   "pygments_lexer": "ipython3",
   "version": "3.10.6"
  }
 },
 "nbformat": 4,
 "nbformat_minor": 5
}
