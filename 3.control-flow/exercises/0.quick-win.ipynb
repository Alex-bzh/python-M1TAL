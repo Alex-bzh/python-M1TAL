{
 "cells": [
  {
   "cell_type": "markdown",
   "metadata": {},
   "source": [
    "# Des succès immédiats\n",
    "\n",
    "Avec les problèmes à suivre, vous serez amenés à mettre en œuvre rapidement les structures de contrôle.\n",
    "\n",
    "## Un problème capital\n",
    "\n",
    "Mettez en majuscules les mots de la liste grâce à une boucle."
   ]
  },
  {
   "cell_type": "code",
   "execution_count": null,
   "metadata": {},
   "outputs": [],
   "source": [
    "words = [\"A\", \"Lannister\", \"always\", \"pays\", \"his\", \"debts.\"]"
   ]
  },
  {
   "cell_type": "markdown",
   "metadata": {},
   "source": [
    "## Ma liste de courses\n",
    "\n",
    "Concevez un programme qui détermine si une valeur entrée par un utilisateur est présente dans une liste prédéterminée de courses. Si la valeur ne fait pas partie de la liste, invitez l’utilisateur à l’enregistrer ; autrement, affichez un message pour le signaler. Retournez enfin la liste complète.\n",
    "\n",
    "Pour afficher un *prompt*, utilisez le bout de code suivant :\n",
    "\n",
    "```python\n",
    "item = input(\"Quel article souhaitez-vous acheter ?\\n\")\n",
    "```"
   ]
  },
  {
   "cell_type": "code",
   "execution_count": null,
   "metadata": {},
   "outputs": [],
   "source": [
    "items = [\"eau\", \"lentilles\", \"choux\", \"pois cassés\", \"beaufort\"]"
   ]
  },
  {
   "cell_type": "markdown",
   "metadata": {},
   "source": [
    "## Le jeu du mentaliste\n",
    "\n",
    "Concevez un programme dans lequel l'ordinateur va choisir au hasard une valeur dans une liste prédéterminée, puis demandera ensuite à l'utilisateur de la deviner."
   ]
  },
  {
   "cell_type": "code",
   "execution_count": null,
   "metadata": {},
   "outputs": [],
   "source": [
    "# Function choice to pick an item in a list\n",
    "from random import choice\n",
    "\n",
    "# Some characters of House Lannister\n",
    "characters = [\"Tyrion\", \"Tywin\", \"Cersei\", \"Jaime\"]"
   ]
  },
  {
   "cell_type": "markdown",
   "metadata": {},
   "source": [
    "## Des multiples\n",
    "\n",
    "Écrivez un programme qui liste les dix premiers multiples de trois."
   ]
  },
  {
   "cell_type": "code",
   "execution_count": null,
   "metadata": {},
   "outputs": [],
   "source": [
    "# Your code here"
   ]
  },
  {
   "cell_type": "markdown",
   "metadata": {},
   "source": [
    "## Encore des ours\n",
    "\n",
    "Écrivez un programme qui imprime exactement la phrase suivante :\n",
    "> \"L’homme qui a vu l’homme qui a vu l’homme qui a vu l’homme qui a vu l’homme qui a vu l’homme qui a vu l’homme qui a vu l’homme qui a vu l’homme qui a vu l’homme qui a vu l’ours.\""
   ]
  },
  {
   "cell_type": "code",
   "execution_count": null,
   "metadata": {},
   "outputs": [],
   "source": [
    "# Your code here"
   ]
  },
  {
   "cell_type": "markdown",
   "metadata": {},
   "source": [
    "## La suite de Fibonacci\n",
    "\n",
    "Le bout de code ci-dessous affiche les quinze premiers éléments de la suite de Fibonacci, grâce à une boucle `while` :"
   ]
  },
  {
   "cell_type": "code",
   "execution_count": null,
   "metadata": {},
   "outputs": [],
   "source": [
    "a, b, c = 1, 1, 0\n",
    "while c < 15:\n",
    "    print(b),\n",
    "    a, b, c = b, a + b, c + 1"
   ]
  },
  {
   "cell_type": "markdown",
   "metadata": {},
   "source": [
    "Transformez le code pour une utilisation avec une boucle `for`."
   ]
  },
  {
   "cell_type": "code",
   "execution_count": null,
   "metadata": {},
   "outputs": [],
   "source": [
    "# Your code here"
   ]
  },
  {
   "cell_type": "markdown",
   "metadata": {},
   "source": [
    "## Consonnes et voyelles\n",
    "\n",
    "Le but de cet exercice est de comptabiliser le nombre de voyelles et de consonnes dans un mot d’une liste de verbes en haïtien.\n",
    "\n",
    "Pour construire votre algorithme, prenez déjà le temps de vous poser quelques bonnes questions :\n",
    "- C’est quoi une consonne ?\n",
    "- C’est quoi une voyelle ?\n",
    "- Ne peut-on pas définir l’un par opposition à l’autre ?\n",
    "- Ça change quelque chose que l’on travaille sur le haïtien ?\n",
    "\n",
    "Et de consulter [le lexique](../data/haitian-verbs.tsv) afin de vous familiariser avec son format et son contenu."
   ]
  },
  {
   "cell_type": "code",
   "execution_count": null,
   "metadata": {},
   "outputs": [],
   "source": [
    "# Module to work with csv files\n",
    "import csv\n",
    "\n",
    "verbs = list()\n",
    "\n",
    "# Open the lexicon\n",
    "with open('../data/haitian-verbs.tsv') as csvfile:\n",
    "    reader = csv.reader(csvfile, delimiter='\\t')\n",
    "    # For each line\n",
    "    for line in reader:\n",
    "        # Save only the first item (word-form)\n",
    "        verbs.append(line[0])"
   ]
  },
  {
   "cell_type": "code",
   "execution_count": null,
   "metadata": {},
   "outputs": [],
   "source": [
    "# To print the first twenty verbs in the list\n",
    "print(verbs[:20])"
   ]
  },
  {
   "cell_type": "code",
   "execution_count": null,
   "metadata": {},
   "outputs": [],
   "source": [
    "# Your code here"
   ]
  }
 ],
 "metadata": {
  "kernelspec": {
   "display_name": "Python 3",
   "language": "python",
   "name": "python3"
  },
  "language_info": {
   "codemirror_mode": {
    "name": "ipython",
    "version": 3
   },
   "file_extension": ".py",
   "mimetype": "text/x-python",
   "name": "python",
   "nbconvert_exporter": "python",
   "pygments_lexer": "ipython3",
   "version": "3.7.3"
  }
 },
 "nbformat": 4,
 "nbformat_minor": 4
}
