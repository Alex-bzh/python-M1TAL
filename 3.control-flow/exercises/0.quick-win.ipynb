{
 "cells": [
  {
   "cell_type": "markdown",
   "metadata": {},
   "source": [
    "# Des succès immédiats"
   ]
  },
  {
   "cell_type": "markdown",
   "metadata": {},
   "source": [
    "Avec les énigmes ci-dessous, vous serez amené·es à mettre en œuvre rapidement les structures de contrôle."
   ]
  },
  {
   "cell_type": "markdown",
   "metadata": {},
   "source": [
    "## Un problème capital"
   ]
  },
  {
   "cell_type": "markdown",
   "metadata": {},
   "source": [
    "Mettez en majuscules les mots de la liste grâce à une boucle."
   ]
  },
  {
   "cell_type": "code",
   "execution_count": null,
   "metadata": {},
   "outputs": [],
   "source": [
    "words = [\"A\", \"Lannister\", \"always\", \"pays\", \"his\", \"debts.\"]\n",
    "\n",
    "# your code here"
   ]
  },
  {
   "cell_type": "markdown",
   "metadata": {},
   "source": [
    "## Ma liste de courses"
   ]
  },
  {
   "cell_type": "markdown",
   "metadata": {},
   "source": [
    "Concevez un programme qui détermine si une valeur entrée par un utilisateur est présente dans une liste prédéterminée de courses. Si la valeur ne fait pas partie de la liste, invitez l’utilisateur à l’enregistrer ; autrement, affichez un message pour le signaler. Retournez enfin la liste complète.\n",
    "\n",
    "Pour afficher un *prompt*, utilisez le bout de code suivant :\n",
    "\n",
    "```python\n",
    "item = input(\"Quel article souhaitez-vous acheter ?\\n\")\n",
    "```"
   ]
  },
  {
   "cell_type": "code",
   "execution_count": null,
   "metadata": {},
   "outputs": [],
   "source": [
    "# your code here"
   ]
  },
  {
   "cell_type": "markdown",
   "metadata": {},
   "source": [
    "## Le jeu du mentaliste"
   ]
  },
  {
   "cell_type": "markdown",
   "metadata": {},
   "source": [
    "Concevez un programme dans lequel l’ordinateur va choisir au hasard une valeur dans une liste prédéterminée, puis demandera ensuite à l’utilisateur de la deviner. Attention, l’utilisateur n’aura qu’un seul essai pour deviner la bonne valeur !"
   ]
  },
  {
   "cell_type": "code",
   "execution_count": null,
   "metadata": {},
   "outputs": [],
   "source": [
    "# your code here"
   ]
  },
  {
   "cell_type": "markdown",
   "metadata": {},
   "source": [
    "## Des multiples"
   ]
  },
  {
   "cell_type": "markdown",
   "metadata": {},
   "source": [
    "Écrivez un programme qui liste les dix premiers multiples de trois."
   ]
  },
  {
   "cell_type": "code",
   "execution_count": null,
   "metadata": {},
   "outputs": [],
   "source": [
    "# your code here"
   ]
  },
  {
   "cell_type": "markdown",
   "metadata": {},
   "source": [
    "## Encore plus d’ours"
   ]
  },
  {
   "cell_type": "markdown",
   "metadata": {},
   "source": [
    "Écrivez un programme qui imprime exactement la phrase suivante :\n",
    "> \"L’homme qui a vu l’homme qui a vu l’homme qui a vu l’homme qui a vu l’homme qui a vu l’homme qui a vu l’homme qui a vu l’homme qui a vu l’homme qui a vu l’homme qui a vu l’ours.\""
   ]
  },
  {
   "cell_type": "code",
   "execution_count": null,
   "metadata": {},
   "outputs": [],
   "source": [
    "# your code here"
   ]
  },
  {
   "cell_type": "markdown",
   "metadata": {},
   "source": [
    "## La suite de Fibonacci"
   ]
  },
  {
   "cell_type": "markdown",
   "metadata": {},
   "source": [
    "Le bout de code ci-dessous affiche les quinze premiers éléments de la suite de Fibonacci, grâce à une boucle `while` :"
   ]
  },
  {
   "cell_type": "code",
   "execution_count": null,
   "metadata": {},
   "outputs": [],
   "source": [
    "a, b, c = 1, 1, 0\n",
    "\n",
    "while c < 15:\n",
    "    print(b),\n",
    "    a, b, c = b, a + b, c + 1"
   ]
  },
  {
   "cell_type": "markdown",
   "metadata": {},
   "source": [
    "Transformez le code pour une utilisation avec une boucle `for`."
   ]
  },
  {
   "cell_type": "code",
   "execution_count": null,
   "metadata": {},
   "outputs": [],
   "source": [
    "# your code here"
   ]
  },
  {
   "cell_type": "markdown",
   "metadata": {
    "tags": []
   },
   "source": [
    "## L’aire d’un triangle"
   ]
  },
  {
   "cell_type": "markdown",
   "metadata": {},
   "source": [
    "Écrivez une fonction qui donne l’aire d’un triangle quelconque. Considérant que $b$ est la base du triangle et $h$ sa hauteur, la formule mathématique vaut :\n",
    "\n",
    "$$A = \\frac{b\\times h}{2}$$"
   ]
  },
  {
   "cell_type": "code",
   "execution_count": null,
   "metadata": {},
   "outputs": [],
   "source": [
    "# your code here"
   ]
  },
  {
   "cell_type": "markdown",
   "metadata": {},
   "source": [
    "## L’aire d’un cercle"
   ]
  },
  {
   "cell_type": "markdown",
   "metadata": {},
   "source": [
    "En vous basant sur la constante `pi` du module `math`, écrivez une fonction de signature `F(*, x: int) -> float`, avec une précision de quatre décimales après la virgule, qui calcule l’aire d’un cercle selon la formule :\n",
    "\n",
    "$$A = \\pi r^2$$"
   ]
  },
  {
   "cell_type": "code",
   "execution_count": null,
   "metadata": {},
   "outputs": [],
   "source": [
    "# your code here"
   ]
  }
 ],
 "metadata": {
  "kernelspec": {
   "display_name": "Python 3 (ipykernel)",
   "language": "python",
   "name": "python3"
  },
  "language_info": {
   "codemirror_mode": {
    "name": "ipython",
    "version": 3
   },
   "file_extension": ".py",
   "mimetype": "text/x-python",
   "name": "python",
   "nbconvert_exporter": "python",
   "pygments_lexer": "ipython3",
   "version": "3.10.6"
  }
 },
 "nbformat": 4,
 "nbformat_minor": 4
}
