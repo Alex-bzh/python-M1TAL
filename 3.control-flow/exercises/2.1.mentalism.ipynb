{
 "cells": [
  {
   "cell_type": "markdown",
   "metadata": {},
   "source": [
    "# Le jeu du mentaliste"
   ]
  },
  {
   "cell_type": "markdown",
   "metadata": {},
   "source": [
    "Soit une liste prédéterminée de valeurs :"
   ]
  },
  {
   "cell_type": "code",
   "execution_count": null,
   "metadata": {},
   "outputs": [],
   "source": [
    "# some characters of House Lannister\n",
    "characters = [\"Tyrion\", \"Tywin\", \"Cersei\", \"Jaime\"]"
   ]
  },
  {
   "cell_type": "markdown",
   "metadata": {},
   "source": [
    "Et une petite intelligence artificielle qui va piocher une valeur au hasard :"
   ]
  },
  {
   "cell_type": "code",
   "execution_count": null,
   "metadata": {},
   "outputs": [],
   "source": [
    "# function choice to pick an item in a list\n",
    "from random import choice\n",
    "\n",
    "# picking a character\n",
    "ia = choice(characters)"
   ]
  },
  {
   "cell_type": "markdown",
   "metadata": {},
   "source": [
    "Concevez à présent un programme qui demande à l’utilisateur·rice de deviner la valeur choisie par l’ordinateur. Le programme ne doit s’arrêter qu’une fois la bonne réponse trouvée.\n",
    "\n",
    "Et pour aller plus loin, évaluez la performance de l’utilisateur·rice en comptabilisant le nombre de tentatives."
   ]
  },
  {
   "cell_type": "code",
   "execution_count": null,
   "metadata": {},
   "outputs": [],
   "source": [
    "# print the possibilities\n",
    "print(f\"La famille Lannister se compose de : {', '.join(characters)}\")\n",
    "\n",
    "# your code here"
   ]
  }
 ],
 "metadata": {
  "kernelspec": {
   "display_name": "Python 3 (ipykernel)",
   "language": "python",
   "name": "python3"
  },
  "language_info": {
   "codemirror_mode": {
    "name": "ipython",
    "version": 3
   },
   "file_extension": ".py",
   "mimetype": "text/x-python",
   "name": "python",
   "nbconvert_exporter": "python",
   "pygments_lexer": "ipython3",
   "version": "3.9.13"
  }
 },
 "nbformat": 4,
 "nbformat_minor": 4
}
