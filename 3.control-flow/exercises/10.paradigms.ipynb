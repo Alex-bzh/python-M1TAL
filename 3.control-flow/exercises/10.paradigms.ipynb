{
 "cells": [
  {
   "cell_type": "markdown",
   "id": "b55adc8e-20c1-4b2d-a872-24ef4478be03",
   "metadata": {},
   "source": [
    "# Paradigmes orthographiques"
   ]
  },
  {
   "cell_type": "markdown",
   "id": "7a1649ca-63df-4abb-a559-d531c5d65102",
   "metadata": {},
   "source": [
    "Cet exercice vous amènera à manipuler des structures de données complexes depuis et à destination de fichiers CSV.\n",
    "\n",
    "Vous disposez d’un fichier [*lexemes.txt*](../data/lexemes.txt) :\n",
    "\n",
    "```txt\n",
    "année;Ncfs;anneau\n",
    "année;Ncfp;anneaux\n",
    "ciel;Ncms;ciel\n",
    "ciel;Ncmp;ciels\n",
    "ciel;Ncmp;cieux\n",
    "drôle;Ncms;drôle\n",
    "drôle;Ncmp;drôles\n",
    "drôle;Ncfs;drôle\n",
    "drôle;Ncfp;drôles\n",
    "drôle;Afpfs;drôle\n",
    "drôle;Afpms;drôle\n",
    "drôle;Afpfp;drôles\n",
    "drôle;Afpmp;drôles\n",
    "```\n",
    "\n",
    "Convertissez ces informations dans un fichier lexemes.csv ou la tabulation est le caractère séparateur :\n",
    "\n",
    "```csv\n",
    "lid\tlexeme\tcat\tpara_ortho\n",
    "l1\tannée\tNf\tNcfs:anneau;Ncfp:anneaux\n",
    "l2\tciel\tNm\tNcms:ciel;Ncmp:ciels|cieux\n",
    "l3\tdrôle\tNf\tNcfs:drôle;Ncfp:drôles\n",
    "l4\tdrôle\tNm\tNcms:drôle;Ncmp:drôles\n",
    "l5\tdrôle\tAdj\tAfpfs:drôle;Afpms:drôle;Afpfp:drôles;Afpmp:drôles\n",
    "```"
   ]
  },
  {
   "cell_type": "code",
   "execution_count": null,
   "id": "94a5c795-301b-4237-af8e-49f721fc6f3d",
   "metadata": {},
   "outputs": [],
   "source": [
    "# your code here"
   ]
  }
 ],
 "metadata": {
  "kernelspec": {
   "display_name": "Python 3 (ipykernel)",
   "language": "python",
   "name": "python3"
  },
  "language_info": {
   "codemirror_mode": {
    "name": "ipython",
    "version": 3
   },
   "file_extension": ".py",
   "mimetype": "text/x-python",
   "name": "python",
   "nbconvert_exporter": "python",
   "pygments_lexer": "ipython3",
   "version": "3.10.6"
  }
 },
 "nbformat": 4,
 "nbformat_minor": 5
}
