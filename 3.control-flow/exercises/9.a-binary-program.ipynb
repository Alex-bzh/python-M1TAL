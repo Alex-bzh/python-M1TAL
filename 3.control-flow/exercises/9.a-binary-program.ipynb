{
 "cells": [
  {
   "cell_type": "markdown",
   "id": "36831bf3-1891-428a-b4ba-dc244d79e5f0",
   "metadata": {},
   "source": [
    "# Un programme binaire"
   ]
  },
  {
   "cell_type": "markdown",
   "id": "b2987fce-43bf-42c5-b734-ad81f477e88f",
   "metadata": {},
   "source": [
    "L’objectif de cet exercice est de concevoir un court programme qui, à partir d’une liste d’entiers naturels, propose à un·e utilisateur·rice deux options :\n",
    "- soit additionner tous les termes ;\n",
    "- soit repérer le mode parmi eux.\n",
    "\n",
    "La réalisation passera par la définition de plusieurs fonctions et le recours à des structures de boucles et à l’expression de conditions."
   ]
  },
  {
   "cell_type": "markdown",
   "id": "72700879-b739-41de-87a2-570867906599",
   "metadata": {},
   "source": [
    "## Un menu de sélection"
   ]
  },
  {
   "cell_type": "markdown",
   "id": "7fd85d70-52e5-40a4-9e43-77009377612e",
   "metadata": {},
   "source": [
    "À l’aide d’une boucle logique, concevez tout d’abord un menu de sélection de signature `menu()` qui renvoie une chaîne de caractères égale soit à `a` pour l’addition, soit à `m` pour révéler la valeur la plus fréquente. Aidez-vous du squelette ci-dessous :"
   ]
  },
  {
   "cell_type": "code",
   "execution_count": null,
   "id": "a5fc8ced-25f8-428c-9e08-e95069a62ba5",
   "metadata": {},
   "outputs": [],
   "source": [
    "def menu():\n",
    "    \"\"\"Print the menu. User must press on 'a' or 'm'.\"\"\"\n",
    "\n",
    "    # give the choice between 'a' or 'm'\n",
    "\n",
    "    # while a wrong choice is given…\n",
    "\n",
    "    # return the choice made ('a' or 'm')"
   ]
  },
  {
   "cell_type": "markdown",
   "id": "8cd0e371-441b-4b82-b1db-b9b508c09cb7",
   "metadata": {},
   "source": [
    "## Récupérer la saisie de nombres au clavier"
   ]
  },
  {
   "cell_type": "markdown",
   "id": "8eead15e-43d2-4e4a-aaaa-38480c9578c4",
   "metadata": {},
   "source": [
    "De prime abord, il s’agirait juste d’afficher un prompt à l’écran pour récupérer les données saisies, mais en réfléchissant plus avant, on comprend rapidement que cette étape soulève deux enjeux majeurs :\n",
    "- Comment demander à une personne de saisir convenablement des nombres ?\n",
    "- Comment formater correctement la saisie pour la transmettre ensuite au reste du programme ?\n",
    "\n",
    "Pour la première question, vous devrez juste penser à proposer un mécanisme de séparation entre les données ; pour la seconde, c’est un peu moins trivial : il faudra penser à nettoyer la saisie avant de la traiter.\n",
    "\n",
    "Commencez par écrire une fonction de signature `clean(s)` qui renvoie une chaîne nettoyée de caractères indésirables. Rappelez-vous que l’on ne souhaite conserver que des chiffres, isolés ou non, et qui soient séparés entre eux par un délimiteur."
   ]
  },
  {
   "cell_type": "code",
   "execution_count": null,
   "id": "2f771a85-ddbe-4e58-a453-798f46e71433",
   "metadata": {},
   "outputs": [],
   "source": [
    "# your code here"
   ]
  },
  {
   "cell_type": "markdown",
   "id": "2cd7a642-9ca7-475e-b01d-32879103eabb",
   "metadata": {},
   "source": [
    "Écrivez maintenant une autre fonction pour transformer la chaîne nettoyée en une liste d’entiers naturels. Pensez à la fonction `map()` qui permet d’appliquer en une passe un traitement à chaque élément d’une liste :"
   ]
  },
  {
   "cell_type": "code",
   "execution_count": null,
   "id": "b7e79b95-263a-4adf-9cdc-e1c914991601",
   "metadata": {},
   "outputs": [],
   "source": [
    "# your code here"
   ]
  },
  {
   "cell_type": "markdown",
   "id": "a05deb29-c430-4ab1-af1c-0110b920fc69",
   "metadata": {},
   "source": [
    "À présent, vous pouvez écrire la fonction qui affiche un champ de saisie et retourne une liste d’entiers après avoir appliqué les deux traitements précédents :"
   ]
  },
  {
   "cell_type": "code",
   "execution_count": null,
   "id": "00ce229b-a759-4b73-abe7-851626f174d6",
   "metadata": {},
   "outputs": [],
   "source": [
    "# your code here"
   ]
  },
  {
   "cell_type": "markdown",
   "id": "7364dfce-223f-4595-817e-7ece1b28aafc",
   "metadata": {},
   "source": [
    "## Régler les opérations"
   ]
  },
  {
   "cell_type": "markdown",
   "id": "805ea5be-20fd-46fb-bb1c-5f147c13c335",
   "metadata": {},
   "source": [
    "Le plus délicat étant derrière vous, il reste à concevoir les fonctions pour additionner des entiers entre eux et pour au contraire les multiplier. Après réflexion, la première se règle rapidement avec la fonction native `sum()`, inutile de s’en préoccuper. Écrivez simplement une fonction pour repérer la valeur la plus fréquente (le mode) dans la liste des entiers saisis :"
   ]
  },
  {
   "cell_type": "code",
   "execution_count": null,
   "id": "a95d8fe0-37e0-4c1a-b009-8a39ae75e91d",
   "metadata": {},
   "outputs": [],
   "source": [
    "# your code here"
   ]
  },
  {
   "cell_type": "markdown",
   "id": "9aae25d1-83bb-45ac-abf0-add86326f4e1",
   "metadata": {},
   "source": [
    "## Une fonction pour les gouverner toutes"
   ]
  },
  {
   "cell_type": "markdown",
   "id": "6b8cfa7c-1844-4ef9-a0a0-55d7fb07a0d1",
   "metadata": {},
   "source": [
    "Tous les éléments de votre programme sont en place. La dernière étape consiste à simplement assembler les briques dans une fonction englobante `main()` pour :\n",
    "1. appeler le menu ;\n",
    "2. récupérer la saisie au clavier ;\n",
    "3. orienter le programme soit :\n",
    "    - vers l’addition ;\n",
    "    - vers le calcul du mode ;\n",
    "4. afficher le résultat."
   ]
  },
  {
   "cell_type": "code",
   "execution_count": null,
   "id": "b3130343-3d2d-472f-a23a-78a17e076f5a",
   "metadata": {},
   "outputs": [],
   "source": [
    "# your code here"
   ]
  },
  {
   "cell_type": "markdown",
   "id": "2c1b458b-f462-48fe-b76b-1a959abd96c9",
   "metadata": {},
   "source": [
    "## Exécution du programme"
   ]
  },
  {
   "cell_type": "markdown",
   "id": "3c7aefe6-bd97-45d5-afa3-bc42b0417867",
   "metadata": {},
   "source": [
    "Il ne reste plus qu’à tester votre programme en conditions réelles !"
   ]
  },
  {
   "cell_type": "code",
   "execution_count": null,
   "id": "4df3b54d-a3de-4cc8-ae84-d9b063ab8152",
   "metadata": {},
   "outputs": [],
   "source": [
    "# main procedure\n",
    "if __name__ == \"__main__\":\n",
    "    \n",
    "    # process…\n",
    "    main()"
   ]
  }
 ],
 "metadata": {
  "kernelspec": {
   "display_name": "Python 3 (ipykernel)",
   "language": "python",
   "name": "python3"
  },
  "language_info": {
   "codemirror_mode": {
    "name": "ipython",
    "version": 3
   },
   "file_extension": ".py",
   "mimetype": "text/x-python",
   "name": "python",
   "nbconvert_exporter": "python",
   "pygments_lexer": "ipython3",
   "version": "3.10.6"
  }
 },
 "nbformat": 4,
 "nbformat_minor": 5
}
