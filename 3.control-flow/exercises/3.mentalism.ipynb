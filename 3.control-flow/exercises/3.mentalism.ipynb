{
 "cells": [
  {
   "cell_type": "markdown",
   "metadata": {},
   "source": [
    "# Le jeu du mentaliste\n",
    "\n",
    "Concevez un programme dans lequel l’ordinateur va choisir au hasard une valeur dans une liste prédéterminée, puis demandera ensuite à l’utilisateur de la deviner. Le programme ne s’arrêtera qu’une fois la bonne réponse trouvée.\n",
    "\n",
    "Et pour aller encore plus loin, évaluez la performance de l’utilisateur (ex : s’il a trouvé du premier coup ou après plus de tentatives qu’il n’y a de possibilités de réponse…)"
   ]
  },
  {
   "cell_type": "code",
   "execution_count": null,
   "metadata": {},
   "outputs": [],
   "source": [
    "# Function choice to pick an item in a list\n",
    "from random import choice\n",
    "\n",
    "# Some characters of House Lannister\n",
    "characters = [\"Tyrion\", \"Tywin\", \"Cersei\", \"Jaime\"]"
   ]
  }
 ],
 "metadata": {
  "kernelspec": {
   "display_name": "Python 3",
   "language": "python",
   "name": "python3"
  },
  "language_info": {
   "codemirror_mode": {
    "name": "ipython",
    "version": 3
   },
   "file_extension": ".py",
   "mimetype": "text/x-python",
   "name": "python",
   "nbconvert_exporter": "python",
   "pygments_lexer": "ipython3",
   "version": "3.8.0"
  }
 },
 "nbformat": 4,
 "nbformat_minor": 4
}
