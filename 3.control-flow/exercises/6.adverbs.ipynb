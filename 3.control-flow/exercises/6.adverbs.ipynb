{
 "cells": [
  {
   "cell_type": "markdown",
   "metadata": {},
   "source": [
    "# À la recherche des adverbes perdus\n",
    "\n",
    "Pour cet exercice, vous représenterez la fonction de distribution cumulative des adverbes dans le roman *Le ventre de Paris* (1873) de Émile Zola.\n",
    "\n",
    "Sur l’axe des abscisses $x$, vous listerez les numéros d’ordre des mots du texte, tandis que sur l’axe des ordonnées $y$, vous représenterez la quantité d’adverbes. Le résultat permettra de déterminer en un coup d’œil si la distribution des adverbes est homogène dans le roman."
   ]
  },
  {
   "cell_type": "markdown",
   "metadata": {},
   "source": [
    "## Le roman\n",
    "\n",
    "Chargez tout d’abord le texte du roman dans une variable `text` :"
   ]
  },
  {
   "cell_type": "code",
   "execution_count": null,
   "metadata": {},
   "outputs": [],
   "source": [
    "with open('../data/le-ventre-de-paris.txt') as file:\n",
    "    text = file.read()"
   ]
  },
  {
   "cell_type": "markdown",
   "metadata": {},
   "source": [
    "## Les adverbes du français\n",
    "\n",
    "Aucun mystère, pour parvenir au résultat vous aurez besoin d’une liste des adverbes du français. Grâce au code ci-dessous, vous chargerez cette liste issue de [*Lexique 3*](http://www.lexique.org/) dans un objet `adverbs` :"
   ]
  },
  {
   "cell_type": "code",
   "execution_count": null,
   "metadata": {},
   "outputs": [],
   "source": [
    "import csv\n",
    "\n",
    "with open('../data/adverbs.tsv') as csvfile:\n",
    "    reader = csv.reader(csvfile, delimiter='\\t')\n",
    "    adverbs = [line[0] for line in reader]"
   ]
  },
  {
   "cell_type": "markdown",
   "metadata": {},
   "source": [
    "## Afficher la distribution des adverbes\n",
    "\n",
    "Vous aurez besoin d’une fonction pour afficher la distribution cumulative des adverbes dans le roman à l’aide du module `matplotlib`. Nous en avons déjà proposé une dans l’exercice sur [la distribution cumulative des nombres premiers](4.primes.ipynb). Adaptez-la à vos besoins !"
   ]
  },
  {
   "cell_type": "code",
   "execution_count": null,
   "metadata": {},
   "outputs": [],
   "source": [
    "# Your code here"
   ]
  },
  {
   "cell_type": "markdown",
   "metadata": {},
   "source": [
    "## Compter les adverbes\n",
    "\n",
    "La dernière partie consiste à obtenir la variable `data` que vous injecterez dans la fonction définie précédemment. Vous aurez besoin de :\n",
    "1. découper le texte en unités de mots ;\n",
    "2. initialiser un compteur pour les adverbes ;\n",
    "3. pour chaque mot :\n",
    "    - déterminer s’il s’agit d’un adverbe ou non ;\n",
    "    - mettre à jour le compteur."
   ]
  },
  {
   "cell_type": "code",
   "execution_count": null,
   "metadata": {},
   "outputs": [],
   "source": [
    "# Your code here"
   ]
  },
  {
   "cell_type": "markdown",
   "metadata": {},
   "source": [
    "## Afficher le diagramme\n",
    "\n",
    "Il est temps de laisser la magie opérer !"
   ]
  },
  {
   "cell_type": "code",
   "execution_count": null,
   "metadata": {},
   "outputs": [],
   "source": [
    "# Your code here"
   ]
  }
 ],
 "metadata": {
  "kernelspec": {
   "display_name": "Python 3",
   "language": "python",
   "name": "python3"
  },
  "language_info": {
   "codemirror_mode": {
    "name": "ipython",
    "version": 3
   },
   "file_extension": ".py",
   "mimetype": "text/x-python",
   "name": "python",
   "nbconvert_exporter": "python",
   "pygments_lexer": "ipython3",
   "version": "3.8.0"
  }
 },
 "nbformat": 4,
 "nbformat_minor": 4
}
