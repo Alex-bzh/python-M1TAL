{
 "cells": [
  {
   "cell_type": "markdown",
   "metadata": {
    "slideshow": {
     "slide_type": "slide"
    }
   },
   "source": [
    "# Les structures itératives\n",
    "\n",
    "> « Un programme sans boucle ni structure variable ne mérite pas d’être écrit. »\n",
    "(Alan Jay Perlis)"
   ]
  },
  {
   "cell_type": "markdown",
   "metadata": {
    "slideshow": {
     "slide_type": "slide"
    }
   },
   "source": [
    "## Définition\n",
    "\n",
    "Plus communément appellée \"boucles\", les structures itératives servent à exécuter plusieurs fois une même portion de code. En d’autres termes, elles automatisent les tâches répétitives :\n",
    "- copier cent fois : *« Je ne dois pas consulter Facebook en cours »* ;\n",
    "- récupérer chaque jour à la même heure les actus du *Monde* ;\n",
    "- lister le contenu de toutes les boîtes d’archives ;\n",
    "- …\n"
   ]
  },
  {
   "cell_type": "markdown",
   "metadata": {
    "slideshow": {
     "slide_type": "subslide"
    }
   },
   "source": [
    "Si l’on devait raconter cette histoire populaire de *L’homme qui a vu l’ours* avec neuf témoins indirects, sans boucle ce serait fastidieux :"
   ]
  },
  {
   "cell_type": "code",
   "execution_count": null,
   "metadata": {
    "slideshow": {
     "slide_type": "-"
    }
   },
   "outputs": [],
   "source": [
    "print(\"l’homme qui a vu \")\n",
    "print(\"l’homme qui a vu \")\n",
    "print(\"…\")\n",
    "print(\"l’ours\")"
   ]
  },
  {
   "cell_type": "markdown",
   "metadata": {
    "slideshow": {
     "slide_type": "fragment"
    }
   },
   "source": [
    "Une méthode plus économique ferait appel à un multiplicateur :"
   ]
  },
  {
   "cell_type": "code",
   "execution_count": null,
   "metadata": {
    "slideshow": {
     "slide_type": "-"
    }
   },
   "outputs": [],
   "source": [
    "print(\"l'homme qui a vu \" * 9 + \"l’ours.\")"
   ]
  },
  {
   "cell_type": "markdown",
   "metadata": {
    "slideshow": {
     "slide_type": "slide"
    }
   },
   "source": [
    "## Boucles conditionnelles\n",
    "\n",
    "Il s’agit simplement de boucles soumises à la réussite d’un test. La portion de code inscrite dans une boucle est vouée à se répéter tant que le test n’échoue pas.\n",
    "\n",
    "Le problème de *L’homme qui a vu l’ours* ne présente guère d’enjeu, mais l’algorithme pourrait être amélioré grâce à une de ces boucles :"
   ]
  },
  {
   "cell_type": "code",
   "execution_count": null,
   "metadata": {
    "slideshow": {
     "slide_type": "-"
    }
   },
   "outputs": [],
   "source": [
    "i = 0\n",
    "nb_witnesses = 10\n",
    "while i < nb_witnesses:\n",
    "    print(\"l’homme qui a vu \", end=\"\")\n",
    "    i = i + 1\n",
    "print(\"l’ours.\")"
   ]
  },
  {
   "cell_type": "markdown",
   "metadata": {
    "slideshow": {
     "slide_type": "subslide"
    }
   },
   "source": [
    "Les boucles conditionnelles requièrent trois éléments :\n",
    "- un compteur (`i`)\n",
    "- une condition (`i < nb_witnesses`)\n",
    "- et une instruction pour incrémenter le compteur (`i = i + 1`)\n",
    "\n",
    "Le test permet de fixer une condition d’arrêt à la boucle, autrement elle s’exécuterait à l’infini. Ici, le test signifie que le programme sortira de la boucle lorsque le compteur totalisera 10 témoins.\n",
    "\n",
    "Quant au compteur, il permet de comptabiliser, à chaque succès de la boucle, le nombre de fois que le code s’est exécuté."
   ]
  },
  {
   "cell_type": "markdown",
   "metadata": {
    "slideshow": {
     "slide_type": "subslide"
    }
   },
   "source": [
    "Les boucles conditionnelles sont notamment pratiques dans le cas où l’on ne connaît pas à l’avance le nombre d’itérations de la portion de code à répéter. Imaginez la situation où vous devez deviner la réponse à une question :"
   ]
  },
  {
   "cell_type": "code",
   "execution_count": null,
   "metadata": {
    "slideshow": {
     "slide_type": "-"
    }
   },
   "outputs": [],
   "source": [
    "answer = input(\"Que faire pendant les vacances ?\\n\")\n",
    "if answer != \"Vélo\":\n",
    "    print(\"Non, pas envie.\")\n",
    "    answer = input(\"Que faire pendant les vacances ?\\n\")\n",
    "    if answer != \"Vélo\":\n",
    "        print(\"Non, pas envie.\")\n",
    "        answer = input(\"Que faire pendant les vacances ?\\n\")\n",
    "        if answer != \"Vélo\":\n",
    "            print(\"Non, pas envie.\")\n",
    "            answer = input(\"Que faire pendant les vacances ?\\n\")\n",
    "        else:\n",
    "            print(\"Génial, je pensais exactement à ça !\")\n",
    "    else:\n",
    "        print(\"Génial, je pensais exactement à ça !\")\n",
    "else:\n",
    "    print(\"Génial, je pensais exactement à ça !\")"
   ]
  },
  {
   "cell_type": "markdown",
   "metadata": {
    "slideshow": {
     "slide_type": "subslide"
    }
   },
   "source": [
    "Seize lignes de code afin de n’autoriser que trois tentatives seulement. Avec une boucle conditionnelle, on peut demander au programme de poser la question tant que la bonne réponse ne vient pas :"
   ]
  },
  {
   "cell_type": "code",
   "execution_count": null,
   "metadata": {
    "slideshow": {
     "slide_type": "-"
    }
   },
   "outputs": [],
   "source": [
    "answer = input(\"Que faire pendant les vacances ?\\n\")\n",
    "while answer != 'Vélo':\n",
    "    print(\"Non, pas envie.\")\n",
    "    answer = input(\"Que faire pendant les vacances ?\\n\")\n",
    "print(\"Génial, je pensais exactement à ça !\")"
   ]
  },
  {
   "cell_type": "markdown",
   "metadata": {
    "slideshow": {
     "slide_type": "subslide"
    }
   },
   "source": [
    "Une technique courante qui utilise avantageusement la boucle conditionnelle est celle du *flag* : au départ, le drapeau est baissé, puis, lorsque la sous-procédure a rempli sa tâche, elle lève le drapeau pour indiquer au programme de continuer normalement."
   ]
  },
  {
   "cell_type": "code",
   "execution_count": null,
   "metadata": {
    "slideshow": {
     "slide_type": "-"
    }
   },
   "outputs": [],
   "source": [
    "from random import choice\n",
    "\n",
    "shifumi = [\"pierre\", \"papier\", \"ciseaux\"]\n",
    "flag = 1\n",
    "\n",
    "while flag:\n",
    "    ia = choice(shifumi)\n",
    "    if ia == \"pierre\":\n",
    "        print(\"La pierre a été choisie, la boucle s’arrête.\")\n",
    "        flag = 0\n",
    "    else:\n",
    "        print(ia)"
   ]
  },
  {
   "cell_type": "markdown",
   "metadata": {
    "slideshow": {
     "slide_type": "subslide"
    }
   },
   "source": [
    "On utilise une variante pour constituer des menus de sélection :"
   ]
  },
  {
   "cell_type": "code",
   "execution_count": null,
   "metadata": {},
   "outputs": [],
   "source": [
    "# 1 is always True\n",
    "while 1:\n",
    "    choice = input(\"A ou B ?\")\n",
    "    # While the choice differs from the two possibilities\n",
    "    # the program will ask for a choice\n",
    "    if choice == \"A\" or choice == \"B\":\n",
    "        break"
   ]
  },
  {
   "cell_type": "markdown",
   "metadata": {
    "slideshow": {
     "slide_type": "slide"
    }
   },
   "source": [
    "## Énumération systématique"
   ]
  },
  {
   "cell_type": "markdown",
   "metadata": {
    "slideshow": {
     "slide_type": "-"
    }
   },
   "source": [
    "Les boucles `for` sont un cas particulier de boucles conditionnelles où Python se charge seul de formuler une condition et de créer un itérateur.\n",
    "\n",
    "Très fréquentes, elles sont employées pour parcourir une séquence de manière systématique. Par exemple, pour énumérer tous les éléments d’une liste :"
   ]
  },
  {
   "cell_type": "code",
   "execution_count": null,
   "metadata": {
    "slideshow": {
     "slide_type": "fragment"
    }
   },
   "outputs": [],
   "source": [
    "words = [\"A\", \"Lannister\", \"always\", \"pays\", \"his\", \"debts.\"]"
   ]
  },
  {
   "cell_type": "code",
   "execution_count": null,
   "metadata": {
    "slideshow": {
     "slide_type": "fragment"
    }
   },
   "outputs": [],
   "source": [
    "for word in words:\n",
    "    print(word, end=\" \")"
   ]
  },
  {
   "cell_type": "markdown",
   "metadata": {
    "slideshow": {
     "slide_type": "subslide"
    }
   },
   "source": [
    "Dans le cas où vous souhaiteriez afficher en plus la position de l’élément en cours d’analyse, rappelez-vous de la fonction `enumerate()` :"
   ]
  },
  {
   "cell_type": "code",
   "execution_count": null,
   "metadata": {
    "slideshow": {
     "slide_type": "-"
    }
   },
   "outputs": [],
   "source": [
    "for idx, word in enumerate(words):\n",
    "    print(f\"{idx} ==> {word}\")"
   ]
  },
  {
   "cell_type": "markdown",
   "metadata": {
    "slideshow": {
     "slide_type": "subslide"
    }
   },
   "source": [
    "Notez qu’une boucle `while` peut toujours (enfin… disons : souvent) remplacer une boucle `for` :"
   ]
  },
  {
   "cell_type": "code",
   "execution_count": null,
   "metadata": {
    "slideshow": {
     "slide_type": "-"
    }
   },
   "outputs": [],
   "source": [
    "i = 0\n",
    "while i < len(words):\n",
    "    print(f\"{i} ==> {words[i]}\")\n",
    "    i += 1"
   ]
  },
  {
   "cell_type": "markdown",
   "metadata": {
    "slideshow": {
     "slide_type": "fragment"
    }
   },
   "source": [
    "On retrouve tous les éléments nécessaires, bien que le code soit moins confortable à produire ou à comprendre."
   ]
  },
  {
   "cell_type": "markdown",
   "metadata": {
    "slideshow": {
     "slide_type": "slide"
    }
   },
   "source": [
    "## Les boucles infinies\n",
    "\n",
    "**À retenir !** Ne jamais modifier l’objet d’une boucle `for` en cours d’analyse ! Dans l’exemple ci-après, à chaque passage de la boucle, un élément est inséré à la fin de la liste. Par conséquent, l’itérateur n’en sortira jamais.\n",
    "\n",
    "On appelle cela une boucle infinie : le programme tourne en rond, se mord la queue, augmente l’entropie de l’univers qui finira par s’effondrer !!"
   ]
  },
  {
   "cell_type": "markdown",
   "metadata": {
    "slideshow": {
     "slide_type": "subslide"
    }
   },
   "source": [
    "```python\n",
    "# A list with two elements\n",
    "items = [1, 2]\n",
    "# For each item, starting at the beginning…\n",
    "for item in items:\n",
    "    # … prints the current item\n",
    "    print(item)\n",
    "    # … adds an extra item at the end of the list.\n",
    "\titems.append(len(items) + 1)\n",
    "```"
   ]
  },
  {
   "cell_type": "markdown",
   "metadata": {
    "collapsed": true,
    "slideshow": {
     "slide_type": "subslide"
    }
   },
   "source": [
    "Dans le même ordre d’idée, lorsque vous itérez avec une boucle `while` à l’aide d’une expression autre que booléenne, veillez **toujours** à disposer d’un compteur et à l’incrémenter !"
   ]
  },
  {
   "cell_type": "code",
   "execution_count": null,
   "metadata": {},
   "outputs": [],
   "source": [
    "from random import randint, sample\n",
    "\n",
    "# A list of random length\n",
    "numbers = sample(range(1, 100), randint(0, 100))\n",
    "# Counter\n",
    "i = 0\n",
    "# The program will go on till the counter\n",
    "# is equal to the length of the list\n",
    "while i < len(numbers):\n",
    "    # Prints the current value of the counter\n",
    "    print(f\"{i} ==> {numbers[i]}\")\n",
    "    # If you forget to increment the counter,\n",
    "    # its value wille always be 0 and…\n",
    "    # … the program will go on forever!\n",
    "    i += 1"
   ]
  },
  {
   "cell_type": "markdown",
   "metadata": {
    "slideshow": {
     "slide_type": "subslide"
    }
   },
   "source": [
    "Rappelez-vous : quand il s’agit d’effectuer une action systématique, une boucle `for` est sans doute plus adaptée :"
   ]
  },
  {
   "cell_type": "code",
   "execution_count": null,
   "metadata": {
    "slideshow": {
     "slide_type": "-"
    }
   },
   "outputs": [],
   "source": [
    "# For each number in the list\n",
    "for idx, number in enumerate(numbers):\n",
    "    # Prints the number\n",
    "    print(f\"{idx} ==> {number}\")"
   ]
  },
  {
   "cell_type": "markdown",
   "metadata": {
    "slideshow": {
     "slide_type": "slide"
    }
   },
   "source": [
    "## Interventions à l’intérieur d’une boucle\n",
    "\n",
    "Deux mécanismes traditionnels en programmation qui permettent d’intervenir à l’intérieur d’une boucle :\n",
    "- `break` pour sortir à tout moment de la boucle ;\n",
    "- `continue` pour sauter une itération de la boucle.\n",
    "\n",
    "Soit une liste aléatoire de diviseurs entre 0 et 10 à tester sur un nombre :"
   ]
  },
  {
   "cell_type": "code",
   "execution_count": null,
   "metadata": {
    "slideshow": {
     "slide_type": "-"
    }
   },
   "outputs": [],
   "source": [
    "import random\n",
    "\n",
    "# A random number between 10.000 and 1.000.000\n",
    "n = random.randint(10000, 1000000)\n",
    "# A list of random dividers between 0 and 10\n",
    "dividers = [random.randint(0, 10) for number in range(1000)]"
   ]
  },
  {
   "cell_type": "markdown",
   "metadata": {
    "slideshow": {
     "slide_type": "subslide"
    }
   },
   "source": [
    "Sachant que la division par zéro est indéfinie, nous souhaitons dans un premier temps stopper la boucle avant la première apparition du zéro :"
   ]
  },
  {
   "cell_type": "code",
   "execution_count": null,
   "metadata": {
    "slideshow": {
     "slide_type": "-"
    }
   },
   "outputs": [],
   "source": [
    "for divider in dividers:\n",
    "    if divider == 0:\n",
    "        break\n",
    "    print(n / divider, end=\", \")"
   ]
  },
  {
   "cell_type": "markdown",
   "metadata": {
    "slideshow": {
     "slide_type": "subslide"
    }
   },
   "source": [
    "Dans un second temps, nous préférons sauter toutes les occurrences du zéro mais permettre les divisions avec les diviseurs suivants :"
   ]
  },
  {
   "cell_type": "code",
   "execution_count": null,
   "metadata": {
    "slideshow": {
     "slide_type": "-"
    }
   },
   "outputs": [],
   "source": [
    "for divider in dividers:\n",
    "    if divider == 0:\n",
    "        continue\n",
    "    print(n / divider, end=\", \")"
   ]
  },
  {
   "cell_type": "markdown",
   "metadata": {
    "slideshow": {
     "slide_type": "slide"
    }
   },
   "source": [
    "## `for` ou `while` ?\n",
    "\n",
    "Les boucles `for` peuvent s’exprimer presque toujours avec une boucle `while`. Alors, comment choisir l’une plutôt que l’autre ?\n",
    "\n",
    "La réponse est de se demander si le nombre d’itérations de la boucle est borné. Lorsque vous disposez d’une liste avec *n* éléments, même si *n* est un grand nombre que vous ne maîtrisez pas, il est facile de le calculer grâce à la fonction `len()` qui exprime sa cardinalité."
   ]
  },
  {
   "cell_type": "code",
   "execution_count": null,
   "metadata": {
    "slideshow": {
     "slide_type": "subslide"
    }
   },
   "outputs": [],
   "source": [
    "# A random number between 10.000 and 1.000.000\n",
    "nb_items = random.randint(10000, 1000000)\n",
    "\n",
    "# An empty list\n",
    "items = list()\n",
    "\n",
    "# Fill the list with a random number between 1 and 101\n",
    "# for each item in the list\n",
    "for i in range(nb_items):\n",
    "    items.append(random.randint(1, 101))\n",
    "\n",
    "# Print the length of the list\n",
    "print(len(items))"
   ]
  },
  {
   "cell_type": "markdown",
   "metadata": {
    "slideshow": {
     "slide_type": "subslide"
    }
   },
   "source": [
    "Comme la cardinalité de l’objet sur lequel on veut itérer est calculable, une boucle `for` est recommandée pour parcourir tous les éléments. Dans les autres cas, une boucle logique `while` sera de rigueur !"
   ]
  },
  {
   "cell_type": "markdown",
   "metadata": {
    "slideshow": {
     "slide_type": "slide"
    }
   },
   "source": [
    "## Les compréhensions de listes et de dictionnaires : une histoire de style\n",
    "\n",
    "Vous avez déjà croisé la syntaxe suivante :\n",
    "\n",
    "```python\n",
    "[instruction for item in items]\n",
    "```\n",
    "\n",
    "Il s’agit d’un sucre syntaxique largement utilisé pour :\n",
    "\n",
    "```python\n",
    "for item in items:\n",
    "    instruction\n",
    "```"
   ]
  },
  {
   "cell_type": "code",
   "execution_count": null,
   "metadata": {
    "slideshow": {
     "slide_type": "subslide"
    }
   },
   "outputs": [],
   "source": [
    "import math\n",
    "l = [c for c in str(math.pi)]\n",
    "print(l)"
   ]
  },
  {
   "cell_type": "markdown",
   "metadata": {
    "slideshow": {
     "slide_type": "-"
    }
   },
   "source": [
    "Une syntaxe parfaitement équivalente à :"
   ]
  },
  {
   "cell_type": "code",
   "execution_count": null,
   "metadata": {
    "slideshow": {
     "slide_type": "-"
    }
   },
   "outputs": [],
   "source": [
    "l = list()\n",
    "for c in str(math.pi):\n",
    "    l.append(c)\n",
    "print(l)"
   ]
  },
  {
   "cell_type": "markdown",
   "metadata": {
    "slideshow": {
     "slide_type": "subslide"
    }
   },
   "source": [
    "Cerise sur le gâteau, cela fonctionne de la même manière pour les dictionnaires en utilisant les accolades :"
   ]
  },
  {
   "cell_type": "code",
   "execution_count": null,
   "metadata": {
    "slideshow": {
     "slide_type": "-"
    }
   },
   "outputs": [],
   "source": [
    "houses = [(\"Lannister\", [\"Jaime\", \"Cersei\"]), (\"Stark\", [\"Arya\", \"Sansa\", \"John Snow\"])]\n",
    "d = { house: members for house, members in houses }\n",
    "print(d)"
   ]
  }
 ],
 "metadata": {
  "celltoolbar": "Diaporama",
  "kernelspec": {
   "display_name": "Python 3",
   "language": "python",
   "name": "python3"
  },
  "language_info": {
   "codemirror_mode": {
    "name": "ipython",
    "version": 3
   },
   "file_extension": ".py",
   "mimetype": "text/x-python",
   "name": "python",
   "nbconvert_exporter": "python",
   "pygments_lexer": "ipython3",
   "version": "3.8.0"
  }
 },
 "nbformat": 4,
 "nbformat_minor": 1
}
