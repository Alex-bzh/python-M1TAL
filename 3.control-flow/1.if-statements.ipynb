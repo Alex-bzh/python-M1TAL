{
 "cells": [
  {
   "cell_type": "markdown",
   "metadata": {
    "slideshow": {
     "slide_type": "slide"
    }
   },
   "source": [
    "# Les instructions conditionnelles"
   ]
  },
  {
   "cell_type": "markdown",
   "metadata": {
    "slideshow": {
     "slide_type": "slide"
    }
   },
   "source": [
    "## Définition\n",
    "\n",
    "En programmation, les instructions conditionnelles servent à évaluer le résultat d’un test booléen – c’est-à-dire un calcul dont le résultat est soit vrai, soit faux –, afin de proposer des traitements différents.\n",
    "\n",
    "Pour la théorie, rien de plus simple ; et pour la pratique, le quotidien est truffé d’exemples parlants :\n",
    "- s’il pleut, je prends mon parapluie\n",
    "- si la porte de l’ascenseur s’ouvre, je rentre à l’intérieur\n",
    "- si…"
   ]
  },
  {
   "cell_type": "markdown",
   "metadata": {
    "slideshow": {
     "slide_type": "subslide"
    }
   },
   "source": [
    "## Un problème électrique\n",
    "\n",
    "Sous forme de diagramme, un schéma électrique illustre parfaitement la condition de réalisation d’une action à un pré-requis.\n",
    "\n",
    "Un interrupteur pilote une ampoule. L’interrupteur est soit baissé soit en position haute : en réaction, l’ampoule est soit allumée soit éteinte."
   ]
  },
  {
   "cell_type": "markdown",
   "metadata": {
    "slideshow": {
     "slide_type": "subslide"
    }
   },
   "source": [
    "Circuit ouvert : le courant ne circule pas, l’ampoule reste éteinte.\n",
    "![Circuit ouvert](images/circuit-ouvert.gif)"
   ]
  },
  {
   "cell_type": "markdown",
   "metadata": {
    "slideshow": {
     "slide_type": "fragment"
    }
   },
   "source": [
    "Circuit fermé : le courant circule, l’ampoule s’allume.\n",
    "![Circuit fermé](images/circuit-ferme.gif)"
   ]
  },
  {
   "cell_type": "markdown",
   "metadata": {
    "slideshow": {
     "slide_type": "subslide"
    }
   },
   "source": [
    "Dans ce schéma électrique, l’allumage de l’ampoule est conditionné au passage du courant. Si l’on remplace ces conditions par un système binaire :\n",
    "- `0` : le courant ne passe pas\n",
    "- `1` : le courant passe"
   ]
  },
  {
   "cell_type": "markdown",
   "metadata": {
    "slideshow": {
     "slide_type": "fragment"
    }
   },
   "source": [
    "Et maintenant par un système booléen :\n",
    "- `False` : le courant ne passe pas\n",
    "- `True` : le courant passe"
   ]
  },
  {
   "cell_type": "markdown",
   "metadata": {
    "slideshow": {
     "slide_type": "subslide"
    }
   },
   "source": [
    "À l’aide de ces outils, la situation précédente du courant électrique se matérialise maintenant très bien à l’aide d’un organigramme :\n",
    "\n",
    "![Par P. Kemp](images/If-Then-Else-diagram.svg)\n",
    "Par [P. Kemp — own work created using Dia, CC0](https://commons.wikimedia.org/w/index.php?curid=1213392)"
   ]
  },
  {
   "cell_type": "markdown",
   "metadata": {
    "slideshow": {
     "slide_type": "subslide"
    }
   },
   "source": [
    "En pseudo-code, elle deviendrait :\n",
    "\n",
    "```\n",
    "Si Vrai Alors\n",
    "    B\n",
    "Sinon\n",
    "    C\n",
    "FinSi\n",
    "```"
   ]
  },
  {
   "cell_type": "markdown",
   "metadata": {
    "slideshow": {
     "slide_type": "fragment"
    }
   },
   "source": [
    "Et en Python, la syntaxe est encore plus économique :\n",
    "\n",
    "```python\n",
    "if True:\n",
    "    B()\n",
    "else:\n",
    "    C()\n",
    "```"
   ]
  },
  {
   "cell_type": "markdown",
   "metadata": {
    "slideshow": {
     "slide_type": "subslide"
    }
   },
   "source": [
    "Pour la théorie, rien de plus à savoir. Dans la pratique, tout l’art réside dans l’enchaînement et la combinaison des conditions en vue de produire le bon résultat.\n",
    "\n",
    "Parce que, oui, comme en électricité, il est possible de soumettre la réalisation d’une action à plusieurs conditions.\n",
    "\n",
    "Imaginons deux interrupteurs montés en série (`A` et `B`) : l’ampoule ne s’allume que si les deux ferment le circuit :\n",
    "```\n",
    "Si A = Vrai ET B = Vrai Alors\n",
    "    allumer(ampoule)\n",
    "FinSi\n",
    "```"
   ]
  },
  {
   "cell_type": "markdown",
   "metadata": {
    "slideshow": {
     "slide_type": "subslide"
    }
   },
   "source": [
    "Et si on montait les interrupteurs en va-et-vient ?\n",
    "\n",
    "![Par Original téléversé par StephaneAubry sur Wikipédia français. — Transféré de fr.wikipedia à Commons., Domaine public, https://commons.wikimedia.org/w/index.php?curid=8162780](images/va-et-vient.png)\n",
    "\n",
    "Ce système est très avantageux : l’une des deux positions d’un interrupteur allumera fatalement l’ampoule, peu importe la position de l’autre."
   ]
  },
  {
   "cell_type": "markdown",
   "metadata": {
    "slideshow": {
     "slide_type": "subslide"
    }
   },
   "source": [
    "En pseudo-code, le va-et-vient s’écrirait de cette façon :\n",
    "```\n",
    "Si A = 1 ET B = 1 Alors\n",
    "    allumer(ampoule)\n",
    "SinonSi A = 0 ET B = 0 Alors\n",
    "    allumer(ampoule)\n",
    "FinSi\n",
    "```"
   ]
  },
  {
   "cell_type": "markdown",
   "metadata": {
    "slideshow": {
     "slide_type": "fragment"
    }
   },
   "source": [
    "Et en Python :\n",
    "```python\n",
    "if a == 1 and b == 1:\n",
    "    turn_on(bulb)\n",
    "elif a == 0 and b == 0:\n",
    "    turn_on(bulb)\n",
    "```"
   ]
  },
  {
   "cell_type": "markdown",
   "metadata": {
    "slideshow": {
     "slide_type": "subslide"
    }
   },
   "source": [
    "Et comme en programmation on déteste se répéter, l’instruction précédente pourrait s’écrire en combinant les deux couples de conditions avec un connecteur `or` :\n",
    "```python\n",
    "if (a == 1 and b == 1) or (a == 0 and b == 0):\n",
    "    turn_on(bulb)\n",
    "```"
   ]
  },
  {
   "cell_type": "markdown",
   "metadata": {
    "slideshow": {
     "slide_type": "fragment"
    }
   },
   "source": [
    "Avec un effort de conception supplémentaire, on se rend compte que la seule condition nécessaire pour allumer une ampoule, c’est que les deux interrupteurs partagent le même état :\n",
    "```python\n",
    "if a == b:\n",
    "    turn_on(bulb)\n",
    "```"
   ]
  },
  {
   "cell_type": "markdown",
   "metadata": {
    "slideshow": {
     "slide_type": "slide"
    }
   },
   "source": [
    "## Les connecteurs logiques\n",
    "\n",
    "Vous connaissez déjà les connecteurs `and` et `or` qui permettent de combiner des tests. Il existe un troisième connecteur logique : `not`.\n",
    "\n",
    "Le rôle de ce connecteur est non pas de vérifier le succès d’un test, mais son inverse ! Savoir qu’un interrupteur est baissé ne revient-il pas à savoir qu’il n’est pas en position haute ?"
   ]
  },
  {
   "cell_type": "markdown",
   "metadata": {
    "slideshow": {
     "slide_type": "subslide"
    }
   },
   "source": [
    "En d’autres termes, s’assurer qu’une condition n’est pas fausse, c’est s’assurer qu’elle est vraie, non ?"
   ]
  },
  {
   "cell_type": "code",
   "execution_count": null,
   "metadata": {
    "slideshow": {
     "slide_type": "-"
    }
   },
   "outputs": [],
   "source": [
    "if True and not False:\n",
    "    print('Dupont : On sait que c’est vrai.')\n",
    "    print('Dupont : Je dirais même plus, on sait aussi que ce n’est pas faux !')"
   ]
  },
  {
   "cell_type": "markdown",
   "metadata": {
    "slideshow": {
     "slide_type": "fragment"
    }
   },
   "source": [
    "Comme `not` inverse le résultat d’un test, le montage en va-et-vient s’écrirait :"
   ]
  },
  {
   "cell_type": "code",
   "execution_count": null,
   "metadata": {
    "slideshow": {
     "slide_type": "-"
    }
   },
   "outputs": [],
   "source": [
    "a, b = 1, 1\n",
    "if not a != b:\n",
    "    print(\"L’ampoule est allumée.\")"
   ]
  },
  {
   "cell_type": "markdown",
   "metadata": {
    "slideshow": {
     "slide_type": "slide"
    }
   },
   "source": [
    "## Les opérateurs de comparaison\n",
    "\n",
    "Pour profiter pleinement des possibilités des tests, il faut connaître les différents opérateurs de comparaison :\n",
    "- Égalité : `==`\n",
    "- Différence : `!=`\n",
    "- Strictement inférieur : `<`\n",
    "- Strictement supérieur : `>`\n",
    "- Inférieur ou égal : `<=`\n",
    "- Supérieur ou égal : `>=`"
   ]
  },
  {
   "cell_type": "markdown",
   "metadata": {
    "slideshow": {
     "slide_type": "subslide"
    }
   },
   "source": [
    "Un exemple très simple :"
   ]
  },
  {
   "cell_type": "code",
   "execution_count": null,
   "metadata": {
    "slideshow": {
     "slide_type": "-"
    }
   },
   "outputs": [],
   "source": [
    "score = 13\n",
    "average = 12\n",
    "minimum = 8"
   ]
  },
  {
   "cell_type": "code",
   "execution_count": null,
   "metadata": {},
   "outputs": [],
   "source": [
    "if score < minimum:\n",
    "    print(\"Le score est en dessous des minimas.\")\n",
    "elif score >= minimum and score <= average:\n",
    "    print(\"Le score passe les minimas de sélection mais se situe en dessous de la moyenne.\")\n",
    "else:\n",
    "    print(\"Le score est au-dessus de la moyenne.\")"
   ]
  },
  {
   "cell_type": "markdown",
   "metadata": {
    "slideshow": {
     "slide_type": "subslide"
    }
   },
   "source": [
    "Quid d’une variante qui utiliserait le connecteur `not` ?"
   ]
  },
  {
   "cell_type": "code",
   "execution_count": null,
   "metadata": {
    "slideshow": {
     "slide_type": "-"
    }
   },
   "outputs": [],
   "source": [
    "# = if score < minimum\n",
    "if not score >= minimum:\n",
    "    print(\"Le score est en dessous des minimas.\")\n",
    "# = if score > mini and < average\n",
    "elif not score < minimum and not score > average:\n",
    "    print(\"Le score passe les minimas de sélection mais se situe en dessous de la moyenne.\")\n",
    "else:\n",
    "    print(\"Le score est au-dessus de la moyenne.\")"
   ]
  },
  {
   "cell_type": "markdown",
   "metadata": {
    "collapsed": true,
    "slideshow": {
     "slide_type": "slide"
    }
   },
   "source": [
    "## Aller plus loin avec les test booléens\n",
    "\n",
    "Les tests booléens font référence à [l’algèbre de Boole](https://alexandre.roulois.fr/data/supports/prog/PROG120.html#1).\n",
    "\n",
    "Un test booléen ne peut revêtir que deux valeurs : vrai ou faux. En Python, vous le savez, ce sera `True` ou `False`. Une instruction s’exécutera si un test booléen a pour résultat `True`. En revanche, il ne se passera rien si le résultat du test est `False`."
   ]
  },
  {
   "cell_type": "code",
   "execution_count": null,
   "metadata": {
    "slideshow": {
     "slide_type": "-"
    }
   },
   "outputs": [],
   "source": [
    "if True:\n",
    "    print(\"Ce test est vrai.\")\n",
    "if False:\n",
    "    print(\"Ce test est faux et ne produira aucun résultat.\")"
   ]
  },
  {
   "cell_type": "markdown",
   "metadata": {
    "slideshow": {
     "slide_type": "subslide"
    }
   },
   "source": [
    "Certaines expressions sont par convention considérées comme fausses en python. C’est le cas de `0`, d’une structure de données vide ou, bien entendu, du booléen `False` :"
   ]
  },
  {
   "cell_type": "code",
   "execution_count": null,
   "metadata": {
    "slideshow": {
     "slide_type": "-"
    }
   },
   "outputs": [],
   "source": [
    "if 5 - 5:\n",
    "    print(\"Le résultat du test est 0, donc False, ce qui signifie que rien ne s'affichera.\")\n",
    "if \"\":\n",
    "    print(\"Cette chaîne est vide, considérée comme False.\")\n",
    "if []:\n",
    "    print(\"Cette liste est vide, rien ne s’affichera.\")\n",
    "if False:\n",
    "    print(\"Vous pouvez exécuter ce code autant de fois que vous le souhaitez, rien ne s'affichera.\")"
   ]
  },
  {
   "cell_type": "markdown",
   "metadata": {
    "slideshow": {
     "slide_type": "subslide"
    }
   },
   "source": [
    "Par opposition, tout ce qui contient quelque chose (ou qui est différent de 0) est, en python, considéré comme `True`."
   ]
  },
  {
   "cell_type": "code",
   "execution_count": null,
   "metadata": {
    "slideshow": {
     "slide_type": "-"
    }
   },
   "outputs": [],
   "source": [
    "n = int(input(\"Veuillez saisir un nombre.\\n\"))\n",
    "if n % 2:\n",
    "    print(f\"{n} est nombre impair.\")\n",
    "else:\n",
    "    print (f\"{n} est un nombre pair.\")"
   ]
  }
 ],
 "metadata": {
  "celltoolbar": "Diaporama",
  "kernelspec": {
   "display_name": "Python 3",
   "language": "python",
   "name": "python3"
  },
  "language_info": {
   "codemirror_mode": {
    "name": "ipython",
    "version": 3
   },
   "file_extension": ".py",
   "mimetype": "text/x-python",
   "name": "python",
   "nbconvert_exporter": "python",
   "pygments_lexer": "ipython3",
   "version": "3.8.0"
  }
 },
 "nbformat": 4,
 "nbformat_minor": 1
}
