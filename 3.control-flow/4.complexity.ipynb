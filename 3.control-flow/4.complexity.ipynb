{
 "cells": [
  {
   "cell_type": "markdown",
   "metadata": {
    "slideshow": {
     "slide_type": "slide"
    }
   },
   "source": [
    "# La recherche par dichotomie : une approche de la complexité"
   ]
  },
  {
   "cell_type": "markdown",
   "metadata": {
    "slideshow": {
     "slide_type": "slide"
    }
   },
   "source": [
    "## C’est pas faux !\n",
    "\n",
    "L’un des algorithmes qui illustrent le mieux l’intérêt de la notion de récursivité est celui de la recherche par dichotomie. Derrière ce nom barbare repose le principe de la dichotomie où l’on sépare un ensemble en deux sous-ensembles de tailles égales afin d’écarter à chaque proposition la moitié des réponses fausses."
   ]
  },
  {
   "cell_type": "markdown",
   "metadata": {
    "slideshow": {
     "slide_type": "subslide"
    }
   },
   "source": [
    "**Un exemple classique :** votre partenaire de belote vous propose de deviner un nombre entre 1 et 100.\n",
    "- **Vous :** 50 ?\n",
    "- **Lui :** Non, plus grand.\n",
    "- **Vous :** 75 ?\n",
    "- **Lui :** Non, plus petit.\n",
    "- …"
   ]
  },
  {
   "cell_type": "markdown",
   "metadata": {
    "slideshow": {
     "slide_type": "subslide"
    }
   },
   "source": [
    "Intuitivement, vous avez mis en place une stratégie de recherche pour éliminer rapidement un grand nombre de fausses réponses.\n",
    "\n",
    "En deux propositions seulement, vous avez défini que la solution se trouvait dans une fourchette entre 51 et 74, éliminant 75 % des possibilités. C’est la recherche par dichotomie."
   ]
  },
  {
   "cell_type": "markdown",
   "metadata": {
    "slideshow": {
     "slide_type": "slide"
    }
   },
   "source": [
    "## Définition par récurrence\n",
    "\n",
    "**Pré-requis :**\n",
    "- disposer d’une liste finie (sur laquelle on peut déterminer les valeurs minimales et maximales) ;\n",
    "- disposer d’une liste triée afin de valider les comparaisons."
   ]
  },
  {
   "cell_type": "markdown",
   "metadata": {
    "slideshow": {
     "slide_type": "subslide"
    }
   },
   "source": [
    "**Trois cas de figure à chaque proposition :**\n",
    "- soit la proposition est la bonne réponse ;\n",
    "- soit elle est supérieure à la bonne réponse ;\n",
    "- soit elle est inférieure à la bonne réponse.\n",
    "\n",
    "![Illustration de la recherche par dichotomie](images/binary_search_into_array.png)"
   ]
  },
  {
   "cell_type": "markdown",
   "metadata": {
    "slideshow": {
     "slide_type": "subslide"
    }
   },
   "source": [
    "À partir de ces observations, on peut en déduire que :\n",
    "- la proposition ne sera bonne qu’une seule fois et provoquera l’arrêt de la récurrence ;\n",
    "- les autres cas pourront se produire plusieurs fois et entraîneront la poursuite de la récurrence."
   ]
  },
  {
   "cell_type": "markdown",
   "metadata": {
    "slideshow": {
     "slide_type": "subslide"
    }
   },
   "source": [
    "Nous venons de définir le cas de base et les cas de propagation :\n",
    "- **cas de base :** la proposition est égale à la solution\n",
    "- **cas de propagation :**\n",
    "    - la proposition est inférieure, retourner un sous-ensemble de valeurs supérieures\n",
    "    - la proposition est supérieure, retourner un sous-ensemble de valeurs inférieures"
   ]
  },
  {
   "cell_type": "markdown",
   "metadata": {
    "slideshow": {
     "slide_type": "slide"
    }
   },
   "source": [
    "## Définition de la fonction en Python"
   ]
  },
  {
   "cell_type": "code",
   "execution_count": null,
   "metadata": {
    "slideshow": {
     "slide_type": "-"
    }
   },
   "outputs": [],
   "source": [
    "def binary_search(data, search, end, start=0):\n",
    "    \n",
    "    # Midpoint: \"//\" operator returns Euclidean division\n",
    "    m = start + (end - start) // 2;\n",
    "\n",
    "    #\n",
    "    # Base case\n",
    "    #\n",
    "    if (data[m] == search): return m\n",
    "\n",
    "    #\n",
    "    # Recursive cases\n",
    "    #\n",
    "    # Greater than what you're looking for? Search lower half\n",
    "    if (data[m] > search): return binary_search(data, search, m - 1, start);\n",
    "    # Less than what you're looking for? Search upper half\n",
    "    return binary_search(data, search, end, m + 1);"
   ]
  },
  {
   "cell_type": "markdown",
   "metadata": {
    "slideshow": {
     "slide_type": "slide"
    }
   },
   "source": [
    "## Mise à l’épreuve de l’algorithme\n",
    "\n",
    "Afin de vérifier le bon fonctionnement de la recherche par dichotomie, envoyons à la fonction une liste de 0 à 9 dans laquelle le programme pioche une valeur au hasard :"
   ]
  },
  {
   "cell_type": "code",
   "execution_count": null,
   "metadata": {
    "slideshow": {
     "slide_type": "-"
    }
   },
   "outputs": [],
   "source": [
    "from random import choice\n",
    "\n",
    "d = range(0, 10)\n",
    "draw = choice(d)\n",
    "\n",
    "# Draw should be equal to the result with binary search\n",
    "print(f\"{draw} : {binary_search(d, draw, len(d))}\")"
   ]
  },
  {
   "cell_type": "markdown",
   "metadata": {
    "slideshow": {
     "slide_type": "slide"
    }
   },
   "source": [
    "## La recherche séquentielle : une alternative\n",
    "\n",
    "Une alternative serait de mener une recherche séquentielle, où l’algorithme partirait du début de la liste pour comparer chacun de ses éléments avec l’élément recherché :"
   ]
  },
  {
   "cell_type": "code",
   "execution_count": null,
   "metadata": {
    "slideshow": {
     "slide_type": "-"
    }
   },
   "outputs": [],
   "source": [
    "def sequential_search(data, search):\n",
    "    \"\"\"Find an item in the data\n",
    "    \n",
    "    data -- list of items\n",
    "    search -- the item to find\n",
    "    \"\"\"\n",
    "    for d in data:\n",
    "        if d == search: return d"
   ]
  },
  {
   "cell_type": "markdown",
   "metadata": {
    "slideshow": {
     "slide_type": "subslide"
    }
   },
   "source": [
    "Cet algorithme présente le double avantage d'être nettement plus rapide à écrire et immédiatement compréhensible. Aucune surprise quant au résultat :"
   ]
  },
  {
   "cell_type": "code",
   "execution_count": null,
   "metadata": {
    "slideshow": {
     "slide_type": "-"
    }
   },
   "outputs": [],
   "source": [
    "from random import choice\n",
    "\n",
    "d = range(0, 10)\n",
    "draw = choice(d)\n",
    "\n",
    "# Draw should be equal to the result with sequential search\n",
    "print(f\"{draw} : {sequential_search(d, draw)}\")"
   ]
  },
  {
   "cell_type": "markdown",
   "metadata": {
    "slideshow": {
     "slide_type": "slide"
    }
   },
   "source": [
    "## La complexité : une mesure de la performance\n",
    "\n",
    "Sans rentrer dans les détails de la notion de complexité en programmation, elle repose sur le nombre d’opérations effectuées pour accomplir l’algorithme. Pour la recherche séquentielle, l’algorithme effectue une comparaison pour chaque élément de la liste, tant que l’élément ne correspond pas au terme de la recherche. Au pire, s’il y a dix éléments dans la liste, l’algorithme effectue dix opérations. La recherche du résultat est proportionnelle à la taille des données.\n",
    "\n",
    "Pour la recherche par dichotomie, le nombre d’opérations est bien moindre ! Au pire des cas, elle effectuera quatre opérations sur une liste de dix éléments."
   ]
  },
  {
   "cell_type": "markdown",
   "metadata": {
    "slideshow": {
     "slide_type": "subslide"
    }
   },
   "source": [
    "Quatre opérations ? Comment trouver ce nombre ?\n",
    "\n",
    "La recherche par dichotomie se base sur un système de division d’une grandeur par 2. Il suffit de trouver combien de fois il est nécessaire d’effectuer cette division pour parvenir à 0 (au sens d’une division entière)."
   ]
  },
  {
   "cell_type": "code",
   "execution_count": null,
   "metadata": {
    "slideshow": {
     "slide_type": "-"
    }
   },
   "outputs": [],
   "source": [
    "def complexity(card):\n",
    "    \"\"\"\n",
    "    card -- cardinality of the object\n",
    "    \"\"\"\n",
    "    nb = 0\n",
    "    while card != 0:\n",
    "        nb += 1\n",
    "        card //= 2\n",
    "    return nb\n",
    "complexity(10)"
   ]
  },
  {
   "cell_type": "markdown",
   "metadata": {
    "slideshow": {
     "slide_type": "subslide"
    }
   },
   "source": [
    "Or, dire qu’il a fallu diviser quatre fois par deux le nombre dix, c’est la même chose que de dire que l’on a multiplié deux quatre fois par lui-même pour atteindre dix. Exprimé sous forme de puissance, la relation devient : $2^4 > 10 > 2^3$\n",
    "\n",
    "L’idée, pour calculer la complexité de la recherche par dichotomie, est bien de trouver la puissance à laquelle élever le nombre 2. On dispose d’une autre notation pour décrire cette opération : le logarithme. Dans notre exemple, on recherche le logarithme de 10 en base 2, ce qui s’écrit : $\\log_{2} 10$\n",
    "\n",
    "On dit que la complexité de la recherche par dichotomie est logarithmique, alors que celle de la recherche séquentielle est linéaire, puisqu’elle augmente d’autant d’unités que la taille de l’objet à traiter."
   ]
  },
  {
   "cell_type": "markdown",
   "metadata": {
    "slideshow": {
     "slide_type": "subslide"
    }
   },
   "source": [
    "**Expression mathématique de la complexité :**\n",
    "- recherche par dichotomie : $O(\\log_{2} n)$\n",
    "- recherche séquentielle : $O(n)$"
   ]
  },
  {
   "cell_type": "markdown",
   "metadata": {
    "slideshow": {
     "slide_type": "slide"
    }
   },
   "source": [
    "## Analyse comparative\n",
    "\n",
    "Si l’on vient de prouver par calcul que la recherche par dichotomie nécessite moins d’opérations, est-elle pour autant plus rapide ?\n",
    "\n",
    "Pour s’en assurer, réalisons un petit *benchmark* sur une liste comprenant dix millions d’objets :"
   ]
  },
  {
   "cell_type": "code",
   "execution_count": null,
   "metadata": {
    "slideshow": {
     "slide_type": "-"
    }
   },
   "outputs": [],
   "source": [
    "from random import choice\n",
    "data = range(0, 10000000)\n",
    "search = choice(data)\n",
    "%timeit -n1 pass\n",
    "sequential_search(data, search)\n",
    "%timeit -n1 pass\n",
    "binary_search(data, search, len(data))"
   ]
  }
 ],
 "metadata": {
  "celltoolbar": "Diaporama",
  "kernelspec": {
   "display_name": "Python 3",
   "language": "python",
   "name": "python3"
  },
  "language_info": {
   "codemirror_mode": {
    "name": "ipython",
    "version": 3
   },
   "file_extension": ".py",
   "mimetype": "text/x-python",
   "name": "python",
   "nbconvert_exporter": "python",
   "pygments_lexer": "ipython3",
   "version": "3.8.0"
  }
 },
 "nbformat": 4,
 "nbformat_minor": 4
}
