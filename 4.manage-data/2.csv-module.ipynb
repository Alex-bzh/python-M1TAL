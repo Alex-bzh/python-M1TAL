{
 "cells": [
  {
   "cell_type": "markdown",
   "metadata": {
    "slideshow": {
     "slide_type": "slide"
    }
   },
   "source": [
    "# Un module pour traiter le format CSV"
   ]
  },
  {
   "cell_type": "markdown",
   "metadata": {
    "slideshow": {
     "slide_type": "slide"
    }
   },
   "source": [
    "## Argument\n",
    "\n",
    "Les fonctions natives de Python suffisent pour manipuler du CSV. Pour autant, elles imposent des traitements intermédiaires pour obtenir des données exploitables."
   ]
  },
  {
   "cell_type": "code",
   "execution_count": null,
   "metadata": {
    "slideshow": {
     "slide_type": "-"
    }
   },
   "outputs": [],
   "source": [
    "with open('./data/covid.csv') as f:\n",
    "    # Nb of admissions to hospital\n",
    "    hosp = 0\n",
    "    for idx, row in enumerate(f):\n",
    "        # Skip the first line (metadata)\n",
    "        if idx == 0: continue\n",
    "        # Delimiting data\n",
    "        data = row.split(';')\n",
    "        # Sum of admissions to hospital\n",
    "        if data[1] == '2': hosp += int(data[3])"
   ]
  },
  {
   "cell_type": "markdown",
   "metadata": {
    "slideshow": {
     "slide_type": "subslide"
    }
   },
   "source": [
    "Deux opérations sont communes au format CSV :\n",
    "- le retrait de la ligne d’en-tête ;\n",
    "- la séparation des données par un délimiteur.\n",
    "\n",
    "Pour l’écriture des fichiers, la problématique est similaire : les données doivent être correctement formatées.\n",
    "\n",
    "Ces arguments et d’autres ont motivé la [PEP 305](https://www.python.org/dev/peps/pep-0305) sur l’interface des fichiers CSV."
   ]
  },
  {
   "cell_type": "markdown",
   "metadata": {
    "slideshow": {
     "slide_type": "subslide"
    }
   },
   "source": [
    "## Charger le module\n",
    "\n",
    "Le module `csv` se charge comme les autres avec le mot-clé `import`."
   ]
  },
  {
   "cell_type": "code",
   "execution_count": null,
   "metadata": {
    "slideshow": {
     "slide_type": "-"
    }
   },
   "outputs": [],
   "source": [
    "import csv"
   ]
  },
  {
   "cell_type": "markdown",
   "metadata": {
    "slideshow": {
     "slide_type": "subslide"
    }
   },
   "source": [
    "## Opérations sans en-tête"
   ]
  },
  {
   "cell_type": "markdown",
   "metadata": {
    "slideshow": {
     "slide_type": "-"
    }
   },
   "source": [
    "### Lecture d’un fichier\n",
    "\n",
    "La lecture d’un fichier CSV se fait au moyen d’une méthode `reader()` qui renvoie un objet itérable. L’appel de la méthode nécessite de spécifier un paramètre `delimiter` si le séparateur n’est pas la virgule."
   ]
  },
  {
   "cell_type": "code",
   "execution_count": null,
   "metadata": {
    "slideshow": {
     "slide_type": "-"
    }
   },
   "outputs": [],
   "source": [
    "with open('./data/covid-no-header.csv') as csvfile:\n",
    "    reader = csv.reader(csvfile, delimiter=';')\n",
    "    for row in reader:\n",
    "        print(row)"
   ]
  },
  {
   "cell_type": "markdown",
   "metadata": {
    "slideshow": {
     "slide_type": "subslide"
    }
   },
   "source": [
    "### Écriture d’un fichier\n",
    "\n",
    "De la même manière, l’écriture s’effectue à l’aide d’une méthode `writer()` qui instancie un objet chargé de convertir les données qu’on lui confie en chaînes correctement formatées :"
   ]
  },
  {
   "cell_type": "code",
   "execution_count": null,
   "metadata": {
    "slideshow": {
     "slide_type": "-"
    }
   },
   "outputs": [],
   "source": [
    "with open('./data/the-little-cat.csv', 'w') as csvfile:\n",
    "    writer = csv.writer(csvfile, delimiter=';')"
   ]
  },
  {
   "cell_type": "markdown",
   "metadata": {
    "slideshow": {
     "slide_type": "subslide"
    }
   },
   "source": [
    "Et pour transmettre les données, utiliser une méthode `writerow()` pour chaque enregistrement :"
   ]
  },
  {
   "cell_type": "code",
   "execution_count": null,
   "metadata": {
    "slideshow": {
     "slide_type": "-"
    }
   },
   "outputs": [],
   "source": [
    "with open('./data/the-little-cat.csv', 'w') as csvfile:\n",
    "    writer = csv.writer(csvfile, delimiter=';')\n",
    "    writer.writerow(['Le', 'DET', 'le'])\n",
    "    writer.writerow(['petit', 'ADJ', 'petit'])\n",
    "    writer.writerow(['chat', 'NC', 'chat'])\n",
    "    writer.writerow(['est', 'V', 'être'])\n",
    "    writer.writerow(['mort', 'ADJ', 'mort'])\n",
    "    writer.writerow(['.', 'PONCT', '.'])"
   ]
  },
  {
   "cell_type": "markdown",
   "metadata": {
    "slideshow": {
     "slide_type": "slide"
    }
   },
   "source": [
    "## Opérations avec des en-têtes\n",
    "\n",
    "### Lire un fichier avec un en-tête\n",
    "\n",
    "Le module `csv` met à disposition un constructeur de classe spécifique `DictReader()` pour associer, dans un dictionnaire, les données avec des clés composées grâce à un paramètre `fieldnames`. Par défaut, `fieldnames` considère les valeurs de la première ligne du fichier comme les étiquettes des données."
   ]
  },
  {
   "cell_type": "code",
   "execution_count": null,
   "metadata": {
    "slideshow": {
     "slide_type": "-"
    }
   },
   "outputs": [],
   "source": [
    "with open('./data/covid.csv') as csvfile:\n",
    "    reader = csv.DictReader(csvfile, delimiter=';')\n",
    "    for row in reader:\n",
    "        if row['sexe'] == '2':\n",
    "            print(f\"{row['jour']} : Dép. {row['dep']} (Réa : {row['rea']}, décès : {row['dc']})\")"
   ]
  },
  {
   "cell_type": "markdown",
   "metadata": {
    "slideshow": {
     "slide_type": "subslide"
    }
   },
   "source": [
    "### Imposer un en-tête\n",
    "\n",
    "Si un fichier ne comporte pas d’en-tête, on peut en spécifier un via une liste."
   ]
  },
  {
   "cell_type": "code",
   "execution_count": null,
   "metadata": {
    "slideshow": {
     "slide_type": "-"
    }
   },
   "outputs": [],
   "source": [
    "with open('./data/covid-no-header.csv') as csvfile:\n",
    "    fieldnames = ['department', 'sex', 'date', 'admissions', 'intensive_care', 'deaths', 'recovery']\n",
    "    reader = csv.DictReader(csvfile, delimiter=';', fieldnames=fieldnames)\n",
    "    for row in reader:\n",
    "        if row['sex'] == '2':\n",
    "            print(f\"{row['date']} : Dép. {row['department']} (Réa : {row['intensive_care']}, décès : {row['deaths']})\")"
   ]
  },
  {
   "cell_type": "markdown",
   "metadata": {
    "slideshow": {
     "slide_type": "subslide"
    }
   },
   "source": [
    "### Créer un fichier avec un en-tête\n",
    "\n",
    "Là encore, le module `csv` fournit un constructeur de classe particulier `DictWriter()` pour créer un fichier à partir d’un dictionnaire en lui spécifiant l’intitulé des clés via le paramètre `fieldnames` qui cette fois-ci est obligatoire."
   ]
  },
  {
   "cell_type": "code",
   "execution_count": null,
   "metadata": {
    "slideshow": {
     "slide_type": "-"
    }
   },
   "outputs": [],
   "source": [
    "with open('./data/the-little-cat.csv', 'w') as csvfile:\n",
    "    fieldnames = ['word', 'pos', 'lemma']\n",
    "    writer = csv.DictWriter(csvfile, delimiter='\\t', fieldnames=fieldnames)\n",
    "    writer.writeheader()\n",
    "    writer.writerow({'word': 'Le', 'pos': 'DET', 'lemma': 'le'})\n",
    "    writer.writerow({'word': 'petit', 'pos':  'ADJ', 'lemma':  'petit'})\n",
    "    writer.writerow({'word': 'chat', 'pos':  'NC', 'lemma':  'chat'})\n",
    "    writer.writerow({'word': 'est', 'pos':  'V', 'lemma':  'être'})\n",
    "    writer.writerow({'word': 'mort', 'pos':  'ADJ', 'lemma':  'mort'})\n",
    "    writer.writerow({'word': '.', 'pos':  'PONCT', 'lemma':  '.'})"
   ]
  }
 ],
 "metadata": {
  "celltoolbar": "Diaporama",
  "kernelspec": {
   "display_name": "Python 3",
   "language": "python",
   "name": "python3"
  },
  "language_info": {
   "codemirror_mode": {
    "name": "ipython",
    "version": 3
   },
   "file_extension": ".py",
   "mimetype": "text/x-python",
   "name": "python",
   "nbconvert_exporter": "python",
   "pygments_lexer": "ipython3",
   "version": "3.8.0"
  }
 },
 "nbformat": 4,
 "nbformat_minor": 4
}
