{
 "cells": [
  {
   "cell_type": "markdown",
   "metadata": {},
   "source": [
    "# Exercices 3"
   ]
  },
  {
   "cell_type": "markdown",
   "metadata": {},
   "source": [
    "## Lecture et écriture de fichiers"
   ]
  },
  {
   "cell_type": "markdown",
   "metadata": {},
   "source": [
    "Récupérez un texte littéraire sur le site du [Projet Gutenberg](https://www.gutenberg.org/) et retirez tout le paratexte (licence, mentions légales…).\n",
    "\n",
    "Créez un programme qui en récupère le contenu, le découpe en lignes, et écrive le résultat de l'opération dans un autre fichier, de telle manière que chaque ligne soit préfixée du numéro de la ligne courante suivi d'un point-virgule.\n",
    "Exemple :\n",
    "```\n",
    "1;CHAPTER 1\n",
    "2;\n",
    "3;THE FEAST\n",
    "4;\n",
    "5;It was at Megara, a suburb of Carhtage, in the gardens of Hamilcar.\n",
    "…\n",
    "```"
   ]
  },
  {
   "cell_type": "code",
   "execution_count": null,
   "metadata": {
    "collapsed": false
   },
   "outputs": [],
   "source": [
    "# Utilisation d'un flux vers le fichier source\n",
    "with open(\"salammbo.txt\", \"r\") as src:\n",
    "    # Chaîne qui sera insérée dans le doc final\n",
    "    lignes = \"\"\n",
    "    # Pour chaque ligne (récupération de l'itérateur et de la ligne en cours)\n",
    "    for numero, ligne in enumerate(src):\n",
    "        # La chaîne est formatée\n",
    "        lignes += \"{};{}\".format(numero+1,ligne)\n",
    "\n",
    "# Utilisation d'un flux vers le fichier de destination\n",
    "with open(\"dest.txt\", \"w\") as dest:\n",
    "    # Écriture\n",
    "    dest.write(lignes)"
   ]
  },
  {
   "cell_type": "markdown",
   "metadata": {},
   "source": [
    "Améliorez votre algorithme de manière à insérer le nombre de mots dans la ligne courante, juste après le numéro de ligne, séparés par un point-virgule. Exemple :\n",
    "```\n",
    "1;2;CHAPTER 1\n",
    "2;0;\n",
    "3;2;THE FEAST\n",
    "4;0;\n",
    "5;13;It was at Megara, a suburb of Carthage, in the gardens of Hamilcar.\n",
    "…\n",
    "```"
   ]
  },
  {
   "cell_type": "code",
   "execution_count": null,
   "metadata": {
    "collapsed": false
   },
   "outputs": [],
   "source": [
    "# Vot# Utilisation d'un flux vers le fichier source\n",
    "with open(\"salammbo.txt\", \"r\") as src:\n",
    "    # Chaîne qui sera insérée dans le doc final\n",
    "    lignes = \"\"\n",
    "    # Pour chaque ligne (récupération de l'itérateur et de la ligne courante)\n",
    "    for numero, ligne in enumerate(src):\n",
    "        # Nb mots dans la ligne courante\n",
    "        mots = len(ligne.split())\n",
    "        # La chaîne est formatée\n",
    "        lignes += \"{};{};{}\".format(numero+1,mots,ligne)\n",
    "\n",
    "# Utilisation d'un flux vers le fichier de destination\n",
    "with open(\"dest.txt\", \"w\") as dest:\n",
    "    # Écriture\n",
    "    dest.write(lignes)"
   ]
  },
  {
   "cell_type": "markdown",
   "metadata": {},
   "source": [
    "## Un programme de calcul"
   ]
  },
  {
   "cell_type": "markdown",
   "metadata": {},
   "source": [
    "Écrivez un programme qui propose deux choix à un utilisateur :\n",
    "- Lire le texte que vous avez choisi ;\n",
    "- Afficher la phrase la plus longue avec le nombre de mots et le nombre de caractères."
   ]
  },
  {
   "cell_type": "code",
   "execution_count": null,
   "metadata": {
    "collapsed": false
   },
   "outputs": [],
   "source": [
    "print \"Bienvenue dans l'univers de Salammbô, de Flaubert\"\n",
    "print \"(r) pour lire le texte\"\n",
    "print \"(c) pour afficher la phrase la plus longue\"\n",
    "with open(\"monte.txt\") as src:\n",
    "    phrases = []\n",
    "    txt = src.read()\n",
    "    phrase = \"\"\n",
    "    for c in txt:\n",
    "        # Lorsque l'on rencontre un caractère final, on considère que c'est une phrase.\n",
    "        if c not in [\".\", \"!\", \"?\"]:\n",
    "            phrase += c\n",
    "        else:\n",
    "            phrases.append(phrase.strip().replace(\"\\r\\n\", \" \")+c)\n",
    "            phrase = \"\"\n",
    "\n",
    "saisie = ''\n",
    "while saisie not in [\"r\", \"c\"]:\n",
    "    saisie = raw_input(\"Sélectionnez votre option\\n\")\n",
    "    if saisie == \"r\":\n",
    "        print txt\n",
    "    elif saisie == \"c\":\n",
    "        maxPhr = (0,\"\")\n",
    "        for phrase in phrases:\n",
    "            if len(phrase) > maxPhr[0]:\n",
    "                maxPhr = (len(phrase),phrase)\n",
    "        print \"La phrase la plus longue est composée de {} mots ({} caractères).\".format(len(maxPhr[1].split()),maxPhr[0])\n",
    "        print \"=\"*50\n",
    "        print maxPhr[1].strip().replace(\"\\r\\n\", \" \")\n",
    "        print \"=\"*50"
   ]
  }
 ],
 "metadata": {
  "kernelspec": {
   "display_name": "Python 2",
   "language": "python",
   "name": "python2"
  },
  "language_info": {
   "codemirror_mode": {
    "name": "ipython",
    "version": 2
   },
   "file_extension": ".py",
   "mimetype": "text/x-python",
   "name": "python",
   "nbconvert_exporter": "python",
   "pygments_lexer": "ipython2",
   "version": "2.7.10"
  }
 },
 "nbformat": 4,
 "nbformat_minor": 0
}
