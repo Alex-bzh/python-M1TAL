{
 "cells": [
  {
   "cell_type": "markdown",
   "id": "9274c8f0-d1a5-460a-8f0d-b0151864ce2b",
   "metadata": {},
   "source": [
    "# Comment gérer des variables catégorielles"
   ]
  },
  {
   "cell_type": "markdown",
   "id": "af657f53-3495-44f7-90d7-8211c720fb22",
   "metadata": {},
   "source": [
    "Les données récoltées lors d’une enquête ne sont guère toutes sous forme numérique, et encore, même si elles le sont, elles peuvent malgré tout être catégorielles. Une variable *satisfaction* avec deux valeurs possibles *0* et *1* laisse bien penser qu’il existe deux catégories d’observations : les satisfaites et les insatisfaites. Une autre variable *gender* pourrait bien elle aussi être codée *0* pour les hommes et *1* pour les femmes.\n",
    "\n",
    "L’enjeu de la prise en charge des variables catégorielles, encore plus prégnant dans le domaine du TAL, réside dans les phases de pré-traitement, par des moyens d’encodage, en vue de les injecter dans les algorithmes d’apprentissage."
   ]
  },
  {
   "cell_type": "markdown",
   "id": "095de7c6-8ed5-4e14-ba0f-aa337fc26b8c",
   "metadata": {},
   "source": [
    "## Qu’est-ce qu’une variable catégorielle ?"
   ]
  },
  {
   "cell_type": "markdown",
   "id": "e9df8a4e-8672-433a-bcfd-81772d702e7d",
   "metadata": {},
   "source": [
    "Autrement nommées qualitatives ou factorielles en statistiques, les variables catégorielles ne mesurent pas une quantité mais prennent comme valeurs une modalité."
   ]
  },
  {
   "cell_type": "markdown",
   "id": "9754d547-fffd-4434-a4bf-46ce2546be0e",
   "metadata": {},
   "source": [
    "### Identifier une variable catégorielle"
   ]
  },
  {
   "cell_type": "markdown",
   "id": "aa04a801-9bb6-42a1-8043-d647f2977d7c",
   "metadata": {},
   "source": [
    "Jusqu’à présent, les exemples ne recouraient qu’à des variables numériques, identifiées par la propriété `dtypes` d’un *data frame*. La même méthode peut être employée pour cibler les variables de type `object` :"
   ]
  },
  {
   "cell_type": "code",
   "execution_count": null,
   "id": "4f6291f6-ff5a-4518-9f33-435f71531f4e",
   "metadata": {},
   "outputs": [],
   "source": [
    "import numpy as np\n",
    "import pandas as pd\n",
    "\n",
    "df = pd.DataFrame({\n",
    "    'gender': ['F', 'M', 'M', np.nan, np.nan],\n",
    "    'height': [180, 172, 167, 187, 173]\n",
    "})\n",
    "\n",
    "df.dtypes"
   ]
  },
  {
   "cell_type": "markdown",
   "id": "3fc7ae82-c8e1-46d1-88eb-75b9d0806699",
   "metadata": {},
   "source": [
    "Pour accéder à la liste des catégories, triées par fréquence, il faut appeler la méthode `.value_counts()` :"
   ]
  },
  {
   "cell_type": "code",
   "execution_count": null,
   "id": "c3f6cecc-baa8-43f4-b68f-d1490865b511",
   "metadata": {},
   "outputs": [],
   "source": [
    "df[\"gender\"].value_counts()"
   ]
  },
  {
   "cell_type": "markdown",
   "id": "89980eb6-59a1-4fd3-9ee3-c79a9887a8f1",
   "metadata": {},
   "source": [
    "Et chaîner avec la méthode `.sort_index()` pour obtenir plutôt un tri sur les étiquettes :"
   ]
  },
  {
   "cell_type": "code",
   "execution_count": null,
   "id": "56e783a0-866f-4364-b7e1-1954d9b094cd",
   "metadata": {},
   "outputs": [],
   "source": [
    "df[\"gender\"].value_counts().sort_index()"
   ]
  },
  {
   "cell_type": "markdown",
   "id": "62e4cb81-cb0d-460e-ad52-b83ad4718c86",
   "metadata": {},
   "source": [
    "### Isoler les variables catégorielles"
   ]
  },
  {
   "cell_type": "markdown",
   "id": "f0733dfa-a6be-4678-8ef1-0c8a3725d5d6",
   "metadata": {},
   "source": [
    "Lors de la phase de pré-traitement des données, il est souvent judicieux de séparer les variables quantitatives des variables catégorielles afin de leur appliquer des transformations différentes. Une fonction `make_column_selector()` peut s’avérer utile dans le cas où les deux sont clairement discriminées par leur type :"
   ]
  },
  {
   "cell_type": "code",
   "execution_count": null,
   "id": "10241fca-be6f-486d-bf0d-b8feab416e0a",
   "metadata": {},
   "outputs": [],
   "source": [
    "from sklearn.compose import make_column_selector as col_selector\n",
    "\n",
    "# a selector for categorical variables\n",
    "categorical_selector = col_selector(dtype_include=object)\n",
    "# apply to the data frame\n",
    "categorical_cols = categorical_selector(df)\n",
    "\n",
    "# a new data frame with only categorical variables\n",
    "data_categorical = df[categorical_cols]"
   ]
  },
  {
   "cell_type": "markdown",
   "id": "1bbd93da-19a2-4f6d-94af-106a18ffd836",
   "metadata": {},
   "source": [
    "## Traiter les données manquantes"
   ]
  },
  {
   "cell_type": "markdown",
   "id": "cf72e97a-7f47-4044-b367-7927ab7fe31f",
   "metadata": {},
   "source": [
    "L’étape de gestion des données manquantes est aussi cruciale que pour les variables quantitatives. Dans certains cas, il vous sera possible de la conduire après la phase d’encodage sous forme numérique ; dans d’autres, vous préférerez la résoudre tant que les catégories sont compréhensibles par un agent humain."
   ]
  },
  {
   "cell_type": "markdown",
   "id": "054396b5-4e4b-4e20-9b0c-e5f59d24e61d",
   "metadata": {},
   "source": [
    "### Supprimer les données manquantes"
   ]
  },
  {
   "cell_type": "markdown",
   "id": "2a6761fa-3452-41f4-9133-7dd383f4d224",
   "metadata": {},
   "source": [
    "La première stratégie consiste à supprimer purement et simplement les données manquantes, au risque de pénaliser les performances de votre programme. Tout dépend, toujours, de la quantité de données à disposition : une centaine d’observations sur des millions consignées dans le *dataset* ne devrait pas peser bien lourd là où une centaine sur un millier causerait un biais dommageable. À vous de définir la limite !\n",
    "\n",
    "Pour la méthode, `.dropna()` :"
   ]
  },
  {
   "cell_type": "code",
   "execution_count": null,
   "id": "7b818622-05d5-4c81-8d92-f4ab4d135d04",
   "metadata": {},
   "outputs": [],
   "source": [
    "data_del_na = data_categorical.dropna()\n",
    "data_del_na"
   ]
  },
  {
   "cell_type": "markdown",
   "id": "34f334bb-8fc1-4da7-8d05-90e406c4719b",
   "metadata": {},
   "source": [
    "### Adopter la catégorie la plus fréquente"
   ]
  },
  {
   "cell_type": "markdown",
   "id": "d7da5dba-3fb0-479a-a397-d03c85cdc567",
   "metadata": {},
   "source": [
    "Si votre option est de combler les données manquantes avec la modalité la plus représentée, prenant ainsi le risque d’introduire un biais de représentativité, la classe `SimpleImputer` est toute indiquée :"
   ]
  },
  {
   "cell_type": "code",
   "execution_count": null,
   "id": "1d1d0099-f4b8-40c2-a0b0-01a3c390add7",
   "metadata": {},
   "outputs": [],
   "source": [
    "from sklearn.impute import SimpleImputer\n",
    "\n",
    "imputer = SimpleImputer(missing_values=pd.NA, strategy=\"most_frequent\")\n",
    "data_most_frequent = imputer.fit_transform(data_categorical)\n",
    "data_most_frequent"
   ]
  },
  {
   "cell_type": "markdown",
   "id": "eb7e63ca-6e9d-4f7d-bfa7-c014d153673f",
   "metadata": {},
   "source": [
    "### Remplacer par une valeur par défaut"
   ]
  },
  {
   "cell_type": "markdown",
   "id": "2f19be97-c273-4692-803c-a6ce4d98c512",
   "metadata": {},
   "source": [
    "La plupart du temps, vous souhaiterez assigner une valeur par défaut, soit de votre choix parmi la liste des autres modalités de la variable, soit une étiquette spécifique qui deviendra alors une catégorie à part entière. La méthode la plus simple est alors d’utiliser la méthode `.fillna()` :"
   ]
  },
  {
   "cell_type": "code",
   "execution_count": null,
   "id": "bbd1d5cb-94e3-462d-be36-571bf547e57d",
   "metadata": {},
   "outputs": [],
   "source": [
    "data_categorical = data_categorical.fillna(\"?\")\n",
    "data_categorical"
   ]
  },
  {
   "cell_type": "markdown",
   "id": "58e6e655-f7ea-47bc-90fc-0793340f319d",
   "metadata": {},
   "source": [
    "### Établir une stratégie personnalisée"
   ]
  },
  {
   "cell_type": "markdown",
   "id": "1b277009-6577-4857-9c08-f35ed11182ad",
   "metadata": {},
   "source": [
    "Si vous souhaitez gérer plus finement les données manquantes et les remplacer par les valeurs les plus probables, comme inférer le genre d’un individu en fonction de sa taille, vous préférerez alors mettre en place une stratégie elle-même basée sur un algorithme d’apprentissage. Ci-dessous un exemple simplifié et hautement défectueux :"
   ]
  },
  {
   "cell_type": "code",
   "execution_count": null,
   "id": "b253ad86-e5ea-4557-aa1c-5ad2e8cd37c6",
   "metadata": {},
   "outputs": [],
   "source": [
    "from sklearn.linear_model import LogisticRegression\n",
    "\n",
    "target = \"gender\"\n",
    "features = [\"height\"]\n",
    "\n",
    "data = df[features + [target]]\n",
    "data = data.dropna()\n",
    "\n",
    "y = data[target]\n",
    "X = data.drop(columns=target).values\n",
    "\n",
    "model = LogisticRegression()\n",
    "model.fit(X, y)\n",
    "\n",
    "# work on a copy\n",
    "df_copy = df.copy()\n",
    "\n",
    "# a mask to select multiple items: only the pd.NA\n",
    "mask = df_copy['gender'].isna()\n",
    "\n",
    "# setting items: gender filled with predictions\n",
    "# based on its corresponding height\n",
    "df_copy.loc[mask, 'gender'] = model.predict(\n",
    "    df_copy.loc[mask, 'height'].values.reshape(-1, 1)\n",
    ")\n",
    "\n",
    "df_copy"
   ]
  },
  {
   "cell_type": "markdown",
   "id": "1b1cae99-c519-43e0-8065-2d03a578d233",
   "metadata": {},
   "source": [
    "## Recoder les variables catégorielles"
   ]
  },
  {
   "cell_type": "markdown",
   "id": "8a3e6089-9033-4513-9759-ba4e025d89f3",
   "metadata": {},
   "source": [
    "### Un encodage avec une hypothèse sur l’ordre des catégories"
   ]
  },
  {
   "cell_type": "markdown",
   "id": "f615a00b-cf78-417c-93eb-b4e915b8e056",
   "metadata": {},
   "source": [
    "La méthode la plus simple pour recoder les variables catégorielles serait d’attribuer un nombre à chaque catégorie. C’est le rôle de la classe `OrdinalEncoder` du module `sklearn.preprocessing` :"
   ]
  },
  {
   "cell_type": "code",
   "execution_count": null,
   "id": "834488e6-5e32-4a76-85b9-00d93b4867d4",
   "metadata": {},
   "outputs": [],
   "source": [
    "from sklearn.preprocessing import OrdinalEncoder\n",
    "\n",
    "encoder = OrdinalEncoder()\n",
    "data_categorical_encoded = encoder.fit_transform(data_categorical)\n",
    "data_categorical_encoded"
   ]
  },
  {
   "cell_type": "markdown",
   "id": "1065b772-850f-419d-a839-34bf6f0d4002",
   "metadata": {},
   "source": [
    "*Scikit-Learn* ne perd pas pour autant la trace des modalités d’origine. Elles sont accessibles via la propriété `categories_` :"
   ]
  },
  {
   "cell_type": "code",
   "execution_count": null,
   "id": "60d2253c-039b-4ddd-b70d-6ff7ee80e5dd",
   "metadata": {},
   "outputs": [],
   "source": [
    "encoder.categories_"
   ]
  },
  {
   "cell_type": "markdown",
   "id": "d8effe74-ba95-40da-8c8c-02b47294050b",
   "metadata": {},
   "source": [
    "Le défaut majeur de ce type d’encodeur réside dans le fait qu’il utilise une stratégie lexicographique pour encoder les différentes modalités, en supposant que l’ordre (1, 2, 3…) est porteur de sens. Ce traitement peut introduire un biais dans les prédictions d’un modèle.\n",
    "\n",
    "Dans notre exemple, les modalités, après avoir été triées par ordre alphabétique, revêtent les étiquettes suivantes :\n",
    "\n",
    "|Modalité|Étiquette|\n",
    "|:-:|:-:|\n",
    "|?|0|\n",
    "|F|1|\n",
    "|M|2|\n",
    "\n",
    "Pour remédier à ce traitement par défaut, il est possible de passer au constructeur un argument `categories` :"
   ]
  },
  {
   "cell_type": "code",
   "execution_count": null,
   "id": "a29bc5c5-6da7-44db-b90b-99cc41d1853e",
   "metadata": {},
   "outputs": [],
   "source": [
    "encoder = OrdinalEncoder(categories=[['F', '?', 'M']])\n",
    "data_categorical_encoded = encoder.fit_transform(data_categorical)\n",
    "data_categorical_encoded"
   ]
  },
  {
   "cell_type": "markdown",
   "id": "e6f86dfd-cb5b-4c9d-8c2f-2b0d2e5e263a",
   "metadata": {},
   "source": [
    "### Un vecteur *one-hot*"
   ]
  },
  {
   "cell_type": "markdown",
   "id": "6c1c332e-b0b7-437f-84b6-e126d8c6fabd",
   "metadata": {},
   "source": [
    "Pour remédier au défaut de la classe `OrdinalEncoder`, il existe un autre encodeur qui n’effectue aucune supposition préalable sur l’ordre des catégories : `HotOneEncoder`. Sa stratégie est un peu gourmande en espace :\n",
    "1. Pour chaque observation, la modalité est encodée par un tableau ;\n",
    "2. ce tableau est composé d’autant d’éléments que de modalités au total ;\n",
    "3. les éléments adoptent deux valeurs possibles, `0` ou `1`, en fonction de leur position et de la modalité de l’observation."
   ]
  },
  {
   "cell_type": "code",
   "execution_count": null,
   "id": "2d26e504-da7e-4e36-ba86-ed4b8fec9c26",
   "metadata": {},
   "outputs": [],
   "source": [
    "from sklearn.preprocessing import OneHotEncoder\n",
    "\n",
    "# without argument 'sparse', matrix would not been displayed\n",
    "encoder = OneHotEncoder(sparse=False)\n",
    "data_categorical_encoded = encoder.fit_transform(data_categorical)\n",
    "data_categorical_encoded"
   ]
  },
  {
   "cell_type": "markdown",
   "id": "f2eb4a4b-9f25-41b9-9ff3-a0e6f9ef3fe2",
   "metadata": {},
   "source": [
    "Le résultat de la transformation est une matrice creuse (peu de relations entre les données, ce qui est matérialisé par la sur-représentation de `0` dans la matrice). Si elle occupe beaucoup d’espace, elle n’est pas forcément gourmande en mémoire : elle ne stocke que l’emplacement des éléments différents de `0`.\n",
    "\n",
    "Essayons de nous représenter les opérations réalisées par l’encodeur, en étant toutefois conscient qu’elles ne correspondent pas à la réalité de l’algorithme. À l’état originel, la variable *gender* peut être représentée ainsi :\n",
    "\n",
    "|**gender**|\n",
    "|:-:|\n",
    "|F|\n",
    "|M|\n",
    "|M|\n",
    "|?|\n",
    "|?|\n",
    "\n",
    "Les trois modalités possibles étant, une fois triées, `['?', 'F', 'M']`, elles sont comparées à la modalité présente :\n",
    "\n",
    "|**gender**|\n",
    "|:-:|\n",
    "|F `['?', 'F', 'M']`|\n",
    "|M `['?', 'F', 'M']`|\n",
    "|M `['?', 'F', 'M']`|\n",
    "|? `['?', 'F', 'M']`|\n",
    "|? `['?', 'F', 'M']`|\n",
    "\n",
    "À l’endroit du tableau où les modalités correspondent, l’encodeur place un `1` :\n",
    "\n",
    "|**gender**|\n",
    "|:-:|\n",
    "|`['?', 1, 'M']`|\n",
    "|`['?', 'F', 1]`|\n",
    "|`['?', 'F', 1]`|\n",
    "|`[1, 'F', 'M']`|\n",
    "|`[1, 'F', 'M']`|\n",
    "\n",
    "Et les autres sont fixées à `0` :\n",
    "\n",
    "|**gender**|\n",
    "|:-:|\n",
    "|`[0, 1, 0]`|\n",
    "|`[0, 0, 1]`|\n",
    "|`[0, 0, 1]`|\n",
    "|`[1, 0, 0]`|\n",
    "|`[1, 0, 0]`|"
   ]
  },
  {
   "cell_type": "markdown",
   "id": "7a5fd599-307e-41b5-b18a-c95f67c3b27e",
   "metadata": {},
   "source": [
    "### La gestion des catégories rares"
   ]
  },
  {
   "cell_type": "markdown",
   "id": "2481b6da-7a1f-4478-b882-044eb8e70e9c",
   "metadata": {},
   "source": [
    "Bien souvent, lorsque le nombre de modalités commence à devenir important, certaines n’apparaîtront que rarement. Il arrive alors que, au moment de l’étape où les données sont séparées entre les jeux d’entraînement et de test, elles ne soient pas contenues dans l’un ou l’autre. Pour éviter la levée d’erreurs au moment de la prédiction, les deux encodeurs disposent d’un paramètre `handle_unknown` :"
   ]
  },
  {
   "cell_type": "code",
   "execution_count": null,
   "id": "ca5c3529-f126-4284-8b25-4216b383b6f2",
   "metadata": {},
   "outputs": [],
   "source": [
    "ordinal_enc = OrdinalEncoder(handle_unknown=\"use_encoded_value\", unknown_value=-1)\n",
    "hot_enc = OneHotEncoder(handle_unknown=\"ignore\")"
   ]
  },
  {
   "cell_type": "markdown",
   "id": "1c1dc113-89ea-485c-9bd6-22403f66729d",
   "metadata": {},
   "source": [
    "## Comment choisir la bonne méthode pour encoder une variable catégorielle ?"
   ]
  },
  {
   "cell_type": "markdown",
   "id": "bc2a2696-77c7-4e4f-8761-8fd1f26d19da",
   "metadata": {},
   "source": [
    "La décision que vous prendrez reposera essentiellement sur le type de variable catégorielle (ordonnée ou non) et sur le modèle que vous choisirez en aval pour l’apprentissage de votre programme. Les modèles linéaires sont très fortement impactées par une hypothèse fondée sur l’ordre des catégories quand les modèles arborescents ne le sont pas du tout. On préférera donc `OneHotEncoder` pour les premiers et `OrdinalEncoder` pour les seconds.\n",
    "\n",
    "Pour autant, il est toujours possible d’utiliser un `OrdinalEncoder` avec un modèle linéaire si l’on est bien certains que les variables explicatives sont ordonnées."
   ]
  },
  {
   "cell_type": "markdown",
   "id": "425f0510-2936-40a0-a4ce-d971993a2486",
   "metadata": {},
   "source": [
    "## Diriger des variables qualitatives et quantitatives dans un même pipeline"
   ]
  },
  {
   "cell_type": "markdown",
   "id": "ea57626c-c61c-4ed6-93b4-13721294d456",
   "metadata": {},
   "source": [
    "Il existe une classe qui permet d’exécuter l’ensemble des transformateurs avant d’envoyer les données au modèle à entraîner : `ColumnTransformer`.\n",
    "\n",
    "Avant de l’exploiter, utilisons notre fonction `col_selector()` définie plus haut pour retenir les colonnes de type numérique par exclusion de celles de type `object` :"
   ]
  },
  {
   "cell_type": "code",
   "execution_count": null,
   "id": "55fe6424-19cb-4224-afff-37ed53d54f65",
   "metadata": {},
   "outputs": [],
   "source": [
    "numerical_selector = col_selector(dtype_exclude=object)\n",
    "numerical_cols = numerical_selector(df)"
   ]
  },
  {
   "cell_type": "markdown",
   "id": "0fe57cbf-ff5e-41ad-b112-e852d7d6bd08",
   "metadata": {},
   "source": [
    "Dans le cas où nous voudrions utiliser un vecteur *one-hot* pour les variables qualitatives et une *Z score normalization* pour les variables quantitatives, instancions une variable `preprocessor` pour établir les étapes de la transformation des données :"
   ]
  },
  {
   "cell_type": "code",
   "execution_count": null,
   "id": "1b75383f-ea00-4590-aeb4-86d18f8982d2",
   "metadata": {},
   "outputs": [],
   "source": [
    "from sklearn.compose import ColumnTransformer\n",
    "from sklearn.preprocessing import StandardScaler\n",
    "\n",
    "preprocessor = ColumnTransformer([\n",
    "    ('one-hot-encoder', OneHotEncoder(handle_unknown=\"ignore\"), categorical_cols),\n",
    "    ('standard-scaler', StandardScaler(), numerical_cols)\n",
    "])"
   ]
  },
  {
   "cell_type": "markdown",
   "id": "b47f9291-2d68-48ae-aae3-bb0d93d79dbf",
   "metadata": {},
   "source": [
    "La dernière phase est l’assemblage du pipeline :"
   ]
  },
  {
   "cell_type": "code",
   "execution_count": null,
   "id": "72578a50-1a6b-4e80-8843-ed0758cd4cfd",
   "metadata": {},
   "outputs": [],
   "source": [
    "from sklearn.pipeline import make_pipeline\n",
    "\n",
    "model = make_pipeline(preprocessor, LogisticRegression())\n",
    "model"
   ]
  }
 ],
 "metadata": {
  "kernelspec": {
   "display_name": "Python 3 (ipykernel)",
   "language": "python",
   "name": "python3"
  },
  "language_info": {
   "codemirror_mode": {
    "name": "ipython",
    "version": 3
   },
   "file_extension": ".py",
   "mimetype": "text/x-python",
   "name": "python",
   "nbconvert_exporter": "python",
   "pygments_lexer": "ipython3",
   "version": "3.10.6"
  }
 },
 "nbformat": 4,
 "nbformat_minor": 5
}
