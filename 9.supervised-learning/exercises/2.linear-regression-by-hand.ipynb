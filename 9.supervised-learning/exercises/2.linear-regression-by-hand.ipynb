{
 "cells": [
  {
   "cell_type": "markdown",
   "id": "0818d992-55cf-47f4-8d01-918492b30d27",
   "metadata": {},
   "source": [
    "# Une droite de régression, à la main"
   ]
  },
  {
   "cell_type": "markdown",
   "id": "6d0438fb-8232-41b4-ba68-17b933598925",
   "metadata": {},
   "source": [
    "Au cours de ce TD, vous apprendrez à calculer à la main une droite de régression linéaire grâce à la méthode des moindres carrés. Cela revient à résoudre l’équation réduite d’une droite de la forme $y = mx + b$.\n",
    "\n",
    "Pour la petite histoire, c’est en 1886 que le terme de régression apparaît pour la première fois, dans un article de Sir Francis Galton qu’il publie sous le titre de *Regression Towards Mediocrity in Hereditary Stature*. Dans cet article, il mettait en évidence que les enfants de personnes de grandes tailles avaient tendance à être plus petits qu’elles, et inversement, d’où l’idée d’une régression vers la médiocrité pour décrire un phénomène d’attraction vers la moyenne."
   ]
  },
  {
   "cell_type": "markdown",
   "id": "d50fd306-bf58-4420-9dec-7c7dcc9d640d",
   "metadata": {},
   "source": [
    "## Rappels sur l’équation réduite d’une droite"
   ]
  },
  {
   "cell_type": "markdown",
   "id": "6a9cf6e3-afca-48a6-9bf5-1868ae89d81b",
   "metadata": {},
   "source": [
    "Dans un plan orthonormé, une droite passe au minimum par deux points de coordonnées $(x1;y1)$ et $(x2;y2)$. Elle est caractérisée par une pente, son coefficient directeur, et par son ordonnée à l’origine, c’est-à-dire l’ordonnée de son point d’intersection avec l’axe des ordonnées. Dans la formule $y = mx + b$, le terme $m$ est le coefficient directeur et $b$ l’ordonnée à l’origine.\n",
    "\n",
    "Commencez par matérialiser une droite quelconque dans un plan en considérant les points de coordonnées $(2;3)$ et $(4;9)$ :"
   ]
  },
  {
   "cell_type": "code",
   "execution_count": null,
   "id": "875505e8-03a9-4f4b-b96d-6bb795c17b48",
   "metadata": {},
   "outputs": [],
   "source": [
    "import matplotlib.pyplot as plt\n",
    "import seaborn as sns\n",
    "\n",
    "x = [2, 4]\n",
    "y = [3, 9]\n",
    "\n",
    "plt.xlim([0, 10])\n",
    "plt.ylim([0, 10])\n",
    "sns.regplot(x=x, y=y, ci=None)\n",
    "plt.show()"
   ]
  },
  {
   "cell_type": "markdown",
   "id": "b4fc2318-2249-43ec-aeac-0a771068370e",
   "metadata": {},
   "source": [
    "### Le coefficient directeur"
   ]
  },
  {
   "cell_type": "markdown",
   "id": "20ecb37e-07d3-4e93-9e14-4527c1153b09",
   "metadata": {},
   "source": [
    "Le coefficient directeur détermine la pente de la droite : s’il est positif, la droite monte ; s’il est négatif, la droite descend. Pour le calculer, la formule est :\n",
    "\n",
    "$$m = \\frac{\\Delta y}{\\Delta x}$$"
   ]
  },
  {
   "cell_type": "code",
   "execution_count": null,
   "id": "7c080d51-adf5-48ba-8807-c83d6f751898",
   "metadata": {},
   "outputs": [],
   "source": [
    "m = (y[0] - y[1]) / (x[0] - x[1])\n",
    "print(m)"
   ]
  },
  {
   "cell_type": "markdown",
   "id": "0e3c006f-5dee-4707-b238-69174a38e5d7",
   "metadata": {},
   "source": [
    "### L’ordonnée à l’origine"
   ]
  },
  {
   "cell_type": "markdown",
   "id": "7532a3a7-b6b5-4a02-95f9-10dfe3a89c93",
   "metadata": {},
   "source": [
    "Maintenant que vous connaissez $m$, il reste à calculer $b$, qui est l’ordonnée à l’origine. Or, vous savez que l’un des points de cette droite a pour coordonnées $(2;3)$, qui en est une solution. C’est-à-dire que lorsque $x$ vaut 2, alors $y$ vaut 3. Le droite qui vous occupe a donc pour équation :\n",
    "\n",
    "$$y = 3x + b$$\n",
    "\n",
    "D’où :\n",
    "\n",
    "$$3 = 3 \\times 2 + b$$\n",
    "$$b = -3 \\times 2 + 3$$"
   ]
  },
  {
   "cell_type": "code",
   "execution_count": null,
   "id": "63d1dfb5-b374-44db-bc28-9d73b0218e3a",
   "metadata": {},
   "outputs": [],
   "source": [
    "b = -3 * 2 + 3\n",
    "print(b)"
   ]
  },
  {
   "cell_type": "markdown",
   "id": "9e281231-eacd-4f44-b4ec-0466a6eafd79",
   "metadata": {},
   "source": [
    "Vous pouvez afficher cet autre point de coordonnées $(0;-3)$ sur la droite afin de vérifier graphiquement si la solution est correcte :"
   ]
  },
  {
   "cell_type": "code",
   "execution_count": null,
   "id": "c80677c8-7377-49f0-bdc9-79c8d47a7a50",
   "metadata": {},
   "outputs": [],
   "source": [
    "x = [2, 4, 0]\n",
    "y = [3, 9, -3]\n",
    "\n",
    "plt.xlim([-1, 10])\n",
    "plt.ylim([-4, 10])\n",
    "sns.regplot(x=x, y=y, ci=None)\n",
    "plt.show()"
   ]
  },
  {
   "cell_type": "markdown",
   "id": "e70c7aec-b29e-4624-8db8-cb1c708e38cd",
   "metadata": {},
   "source": [
    "Vous pouvez conclure que l’équation réduite de la droite est : $y = 3x -3$"
   ]
  },
  {
   "cell_type": "markdown",
   "id": "9963a81e-3a21-44f0-9e60-cc90d026e6d5",
   "metadata": {},
   "source": [
    "## Une droite de régression"
   ]
  },
  {
   "cell_type": "markdown",
   "id": "6c288211-a1de-47b2-81e9-df092e538a43",
   "metadata": {},
   "source": [
    "L’exemple introductif montrait comment calculer l’équation réduite d’une droite dont on connaît deux points. Le problème dans le cas de la régression, c’est que vous ne les connaissez pas, les points.\n",
    "\n",
    "Matérialisez concrètement la question avec le *dataset* sur les manchots en Antarctique :"
   ]
  },
  {
   "cell_type": "code",
   "execution_count": null,
   "id": "9cdc441d-29e7-4082-8d62-1c114221a45f",
   "metadata": {},
   "outputs": [],
   "source": [
    "import pandas as pd\n",
    "\n",
    "df = pd.read_csv(\"../data/penguin-census.csv\")\n",
    "\n",
    "fig, (ax1, ax2) = plt.subplots(ncols=2, figsize=(12,5))\n",
    "sns.scatterplot(data=df, x=\"body_mass_g\", y=\"flipper_length_mm\", ax=ax1)\n",
    "sns.regplot(data=df, x=\"body_mass_g\", y=\"flipper_length_mm\", ci=None, ax=ax2)\n",
    "sns.despine()"
   ]
  },
  {
   "cell_type": "markdown",
   "id": "9e8d082d-092e-4f49-80fe-e2e2a675ed1c",
   "metadata": {},
   "source": [
    "Vous venez d’afficher deux nuages de points qui représentent deux caractéristiques des manchots : la masse en grammes sur l’axe des abscisses, et la longueur des nageoires en millimètres sur l’axe des ordonnées. Vous notez clairement une tendance : lorsque la masse d’un manchot augmente, la longueur de ses nageoires aussi. Ceci dit, la relation entre les deux caractéristiques n’est pas linéaire : aucun individu n’est identique et vous ne pouvez être sûr·es que, si un manchot pèse 500 g de plus qu’un autre, ses nageoires mesureront 10 mm de plus.\n",
    "\n",
    "Sur le graphique de droite, vous avez en plus affiché la droite de régression. Cette droite vous montre la tendance centrale qui minimise la somme des erreurs pour toutes les observations et qui vous permettrait en plus de prédire pour une certaine masse la longueur des nageoires d’un manchot."
   ]
  },
  {
   "cell_type": "markdown",
   "id": "46a484fa-a56f-4a8d-8664-287caa9d33d1",
   "metadata": {},
   "source": [
    "## La droite de régression des moindres carrés"
   ]
  },
  {
   "cell_type": "markdown",
   "id": "6c393566-1ec5-43c0-8507-a45d6d127002",
   "metadata": {},
   "source": [
    "Lorsque vous prenez les coordonnées d’une observation, vous remarquez bien qu’elles sont éloignées de la droite. Il existe un décalage, que l’on appelle communément une erreur, et la droite de régression des moindres carrés est celle qui minimise la somme des carrés de toutes les erreurs. Le rapport s’établit au carré afin d’éviter les valeurs négatives."
   ]
  },
  {
   "cell_type": "markdown",
   "id": "53a569e4-7b0e-45e5-abfc-98b8354cb827",
   "metadata": {},
   "source": [
    "### La formule"
   ]
  },
  {
   "cell_type": "markdown",
   "id": "36359ada-5043-454b-8a73-7e2259188d22",
   "metadata": {},
   "source": [
    "L’équation réduite qui permet d’obtenir les coordonnées de tous les points de la droite et, partant, d’obtenir une prédiction de $\\hat{y}$ en fonction de $x$ respecte la forme $\\hat{y} = mx + b$. Deux étapes majeures pour la trouver, calculer d’abord le coefficient directeur $m$ puis l’ordonnée à l’origine $b$."
   ]
  },
  {
   "cell_type": "markdown",
   "id": "c61d8477-8155-49a6-bd31-19477118ea73",
   "metadata": {},
   "source": [
    "### Calculer le coefficient directeur"
   ]
  },
  {
   "cell_type": "markdown",
   "id": "7f589553-4423-4cd1-9a9a-2dbdfc59616a",
   "metadata": {},
   "source": [
    "La résolution du coefficient directeur d’une droite des moindres carré est régi par la formule ci-dessous, où $n$ est le nombre des observations :\n",
    "\n",
    "$$m = \\frac{n\\sum xy - \\sum x \\sum y}{n \\sum x^2 - \\left(\\sum x\\right)^2}$$\n",
    "\n",
    "Commencez par définir un nouveau *data frame* avec l’ensemble des valeurs pour les caractéristiques *body_mass_g* et *flipper_length_mm*. Parmi toutes les manières de procéder, l’une d’elles mobilise la propriété `.loc[]` d’un *data frame* avec la liste des colonnes à conserver :"
   ]
  },
  {
   "cell_type": "code",
   "execution_count": null,
   "id": "d434f2fd-1810-4ac3-a64b-f941848e43c2",
   "metadata": {},
   "outputs": [],
   "source": [
    "# your code here"
   ]
  },
  {
   "cell_type": "markdown",
   "id": "20764880-2661-460b-b18f-51cc2355eff2",
   "metadata": {},
   "source": [
    "Dans un deuxième temps, utilisez une stratégie pour traiter les valeurs nulles et justifiez-la :"
   ]
  },
  {
   "cell_type": "code",
   "execution_count": null,
   "id": "23f4644d-c540-4cb9-80dd-b813ffe41282",
   "metadata": {},
   "outputs": [],
   "source": [
    "# your code here"
   ]
  },
  {
   "cell_type": "markdown",
   "id": "8f5e7330-0f3a-4912-b7af-da7dfa2b5afa",
   "metadata": {},
   "source": [
    "Transformez maintenant le *data frame* en matrice *Numpy* grâce à la méthode `.to_numpy()` :"
   ]
  },
  {
   "cell_type": "code",
   "execution_count": null,
   "id": "bbf2c50d-a77c-4d2b-bd01-9aeb7eaef317",
   "metadata": {},
   "outputs": [],
   "source": [
    "# your code here"
   ]
  },
  {
   "cell_type": "markdown",
   "id": "68c7af59-1dee-4ba5-8c12-a9deda079ca1",
   "metadata": {},
   "source": [
    "Chaque ligne du tableau est désormais un couple de coordonnées $x$ et $y$. Il vous reste à rajouter deux colonnes à la matrice pour :\n",
    "- le produit de $x$ et $y$ ;\n",
    "- le carré de $x$.\n",
    "\n",
    "Importez la librairie *Numpy* avec l’alias `np` et utilisez la méthode `.column_stack()` :"
   ]
  },
  {
   "cell_type": "code",
   "execution_count": null,
   "id": "9da296c4-ac87-41d4-a5e4-40197a9656cf",
   "metadata": {},
   "outputs": [],
   "source": [
    "# your code here"
   ]
  },
  {
   "cell_type": "markdown",
   "id": "408bbc73-1aa1-47eb-b309-f9312cb540c9",
   "metadata": {},
   "source": [
    "Il ne vous reste plus qu’à remplacer les inconnues de la formule par la somme des différents éléments de la matrice pour calculer le coefficient directeur :"
   ]
  },
  {
   "cell_type": "code",
   "execution_count": null,
   "id": "377309ab-61ae-440b-8db6-2e872b48fb40",
   "metadata": {},
   "outputs": [],
   "source": [
    "# your code here"
   ]
  },
  {
   "cell_type": "markdown",
   "id": "45a2d022-880c-4363-a42c-6862ff29d6e3",
   "metadata": {},
   "source": [
    "### Calculer l’ordonnée à l’origine"
   ]
  },
  {
   "cell_type": "markdown",
   "id": "a6c20a34-3e61-40a3-9e61-8bcf9b8feb8f",
   "metadata": {},
   "source": [
    "La formule de résolution de l’ordonnée à l’origine fait appel au coefficient directeur et aux moyennes des valeurs de $x$ et de $y$ :\n",
    "\n",
    "$$b = \\bar{y} - m\\bar{x}$$"
   ]
  },
  {
   "cell_type": "code",
   "execution_count": null,
   "id": "d3898bca-d5d9-4dcf-a269-7bac9ff1e841",
   "metadata": {},
   "outputs": [],
   "source": [
    "# your code here"
   ]
  },
  {
   "cell_type": "markdown",
   "id": "0190da09-edbb-4e61-9b72-91622926f4c5",
   "metadata": {},
   "source": [
    "### Afficher le graphique"
   ]
  },
  {
   "cell_type": "markdown",
   "id": "97bb0734-910f-41c8-ab7f-a2f1029f4af6",
   "metadata": {},
   "source": [
    "Vous avez maintenant tous les éléments en main pour mettre en place le graphique. Plus que quelques étapes avant de voir le résultat s’afficher.\n",
    "\n",
    "Définissez tout d’abord une fonction `F(*, x, m, b) -> float` qui renvoie l’équation réduite d’une droite :"
   ]
  },
  {
   "cell_type": "code",
   "execution_count": null,
   "id": "8d7643ad-dfe9-48cc-8b42-0ee19df24b79",
   "metadata": {},
   "outputs": [],
   "source": [
    "# your code here"
   ]
  },
  {
   "cell_type": "markdown",
   "id": "147a5028-65be-4334-9a11-1c5bf14642c4",
   "metadata": {},
   "source": [
    "Instanciez deux variables nommées `X` et `Y` pour recevoir respectivement tous les $x$ et tous les $y$ de la matrice *Numpy* :"
   ]
  },
  {
   "cell_type": "code",
   "execution_count": null,
   "id": "80af0aea-562d-4c1f-8785-c9b04a1cd1d4",
   "metadata": {},
   "outputs": [],
   "source": [
    "# your code here"
   ]
  },
  {
   "cell_type": "markdown",
   "id": "3beb6250-7393-4fb8-bcef-84f4726fb957",
   "metadata": {},
   "source": [
    "Et constituez une matrice `Y_pred` pour les prédictions à partir des valeurs contenues dans `X`. Pour rappel, la fonction définie plus haut permet d’effectuer des prédictions."
   ]
  },
  {
   "cell_type": "code",
   "execution_count": null,
   "id": "82eca1e9-ab03-4a04-945c-ed1029bedd6b",
   "metadata": {},
   "outputs": [],
   "source": [
    "# your code here"
   ]
  },
  {
   "cell_type": "markdown",
   "id": "71a1e9dd-3dc7-4ce6-9a9f-79a6078cbf80",
   "metadata": {},
   "source": [
    "Exécutez le code ci-dessous pour voir le graphique s’afficher :"
   ]
  },
  {
   "cell_type": "code",
   "execution_count": null,
   "id": "489671d0-e90f-4265-9507-9fbd6478c2c3",
   "metadata": {},
   "outputs": [],
   "source": [
    "ax = plt.subplots()\n",
    "\n",
    "ax = sns.lineplot(x=X, y=Y_pred, color=\"fuchsia\")\n",
    "ax = sns.scatterplot(x=X, y=Y, color=\"seagreen\")\n",
    "\n",
    "ax.set(xlabel=\"Body mass (g)\", ylabel=\"Flipper length (mm)\")\n",
    "\n",
    "sns.despine()\n",
    "\n",
    "plt.show()"
   ]
  },
  {
   "cell_type": "markdown",
   "id": "7bebc5ed-f883-4dc4-a84b-c9c6369eaa77",
   "metadata": {},
   "source": [
    "## Établir une mesure de la performance du modèle"
   ]
  },
  {
   "cell_type": "markdown",
   "id": "b2f75f9f-5076-48de-8f19-4c43137e06c6",
   "metadata": {},
   "source": [
    "Si la droite obtenue par un calcul manuel correspond plus ou moins au graphique attendu, il reste à évaluer la performance du modèle."
   ]
  },
  {
   "cell_type": "markdown",
   "id": "0e97db1b-df80-468e-83e0-ac3572703854",
   "metadata": {},
   "source": [
    "### La racine de l’erreur quadratique moyenne"
   ]
  },
  {
   "cell_type": "markdown",
   "id": "c1bdff4a-db1e-460c-b0fb-4c0bc6d13715",
   "metadata": {},
   "source": [
    "Calculez tout d’abord la RMSE (*root-mean-square error*) de votre modèle :"
   ]
  },
  {
   "cell_type": "code",
   "execution_count": null,
   "id": "03b972f1-6c16-428e-9ffc-7bf56827c505",
   "metadata": {},
   "outputs": [],
   "source": [
    "# your code here"
   ]
  },
  {
   "cell_type": "markdown",
   "id": "0ff25569-9d9b-43c5-a388-ac280d0edb2d",
   "metadata": {},
   "source": [
    "### L’erreur absolue moyenne"
   ]
  },
  {
   "cell_type": "markdown",
   "id": "f6628f88-1cfc-4973-8bdb-dff399487388",
   "metadata": {},
   "source": [
    "Une autre mesure de la performance est la MAE (*mean absolute error*), qui permet d’estimer, dans l’unité de la variable cible, l’erreur moyenne pour une prédiction donnée. Chargez la fonction `mean_absolute_error()` du module `sklearn.metrics`, puis exécutez-la avec comme paramètres `Y` et `Y_pred` :"
   ]
  },
  {
   "cell_type": "code",
   "execution_count": null,
   "id": "120ada22-e247-496b-8588-e14bb824c5b0",
   "metadata": {},
   "outputs": [],
   "source": [
    "# your code here"
   ]
  }
 ],
 "metadata": {
  "kernelspec": {
   "display_name": "Python 3 (ipykernel)",
   "language": "python",
   "name": "python3"
  },
  "language_info": {
   "codemirror_mode": {
    "name": "ipython",
    "version": 3
   },
   "file_extension": ".py",
   "mimetype": "text/x-python",
   "name": "python",
   "nbconvert_exporter": "python",
   "pygments_lexer": "ipython3",
   "version": "3.10.6"
  }
 },
 "nbformat": 4,
 "nbformat_minor": 5
}
