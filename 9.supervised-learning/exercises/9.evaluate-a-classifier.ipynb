{
 "cells": [
  {
   "cell_type": "markdown",
   "id": "22f71338-e27b-477b-a78d-f4c50cad9342",
   "metadata": {},
   "source": [
    "# Comment survivre au *Titanic*"
   ]
  },
  {
   "cell_type": "markdown",
   "id": "b473dac7-791f-4e1e-b6a7-ad13f8ef0e50",
   "metadata": {},
   "source": [
    "En vous basant sur le jeu de données [Titanic](../data/titanic.csv) (Cukierski, 2012), vous construirez un petit programme de classification afin de l’évaluer ensuite.\n",
    "\n",
    "Le jeu de données comprend une variable *Survived* qui accepte deux modalités, 0 ou 1 pour coder si une personne a survécu ou non au naufrage."
   ]
  },
  {
   "cell_type": "markdown",
   "id": "152e061c-a475-4fcf-9020-241e43173b0d",
   "metadata": {},
   "source": [
    "## Préparer les données"
   ]
  },
  {
   "cell_type": "markdown",
   "id": "920a0922-156c-4321-a4a4-112979fc2ad4",
   "metadata": {},
   "source": [
    "Le programme ci-dessous vous permet de préparer le jeu de données :"
   ]
  },
  {
   "cell_type": "code",
   "execution_count": null,
   "id": "f0fc028f-f6b7-4a6b-ba43-af4960ee1684",
   "metadata": {},
   "outputs": [],
   "source": [
    "import pandas as pd\n",
    "from sklearn.compose import make_column_selector as col_selector, ColumnTransformer\n",
    "from sklearn.model_selection import train_test_split\n",
    "from sklearn.preprocessing import StandardScaler, OneHotEncoder\n",
    "from sklearn.pipeline import make_pipeline\n",
    "\n",
    "#\n",
    "# 1. load dataset\n",
    "#\n",
    "dtype = {\n",
    "    \"Pclass\": \"category\",\n",
    "    \"Sex\": \"category\",\n",
    "    \"Embarked\": \"category\"\n",
    "}\n",
    "\n",
    "df = pd.read_csv(\"../data/titanic.csv\", dtype=dtype)\n",
    "\n",
    "#\n",
    "# 2. tag features & target\n",
    "#\n",
    "\n",
    "target = \"Survived\"\n",
    "features = [\"Pclass\", \"Sex\", \"Age\", \"Fare\", \"Embarked\"]\n",
    "\n",
    "# load the features into the dataset\n",
    "data = pd.DataFrame( df[features + [target]] )\n",
    "\n",
    "#\n",
    "# 3. fill NA values\n",
    "#\n",
    "# new category \"Unk\" for \"Unknown\"\n",
    "data.Embarked = data.Embarked.cat.add_categories([\"Unk\"])\n",
    "\n",
    "# fill na\n",
    "data.Age.fillna(data.Age.mean(), inplace=True)\n",
    "data.Embarked.fillna(\"Unk\", inplace=True)\n",
    "\n",
    "#\n",
    "# 4. recode categorical variables\n",
    "#\n",
    "X, y = data[features], data[target]\n",
    "\n",
    "num_col_selector = col_selector(dtype_exclude='category')\n",
    "cat_col_selector = col_selector(dtype_include='category')\n",
    "\n",
    "num_cols = num_col_selector(X)\n",
    "cat_cols = cat_col_selector(X)\n",
    "\n",
    "#\n",
    "# 5. preprocess pipeline\n",
    "#\n",
    "num_transformers = make_pipeline(\n",
    "    StandardScaler()\n",
    ")\n",
    "cat_transformers = make_pipeline(\n",
    "    OneHotEncoder(handle_unknown=\"ignore\")\n",
    ")\n",
    "preprocessor = ColumnTransformer(\n",
    "    transformers=[\n",
    "        (\"num-transformers\", num_transformers, num_cols),\n",
    "        (\"cat-transformers\", cat_transformers, cat_cols),\n",
    "    ]\n",
    ")\n",
    "\n",
    "#\n",
    "# 6. make train/test sets\n",
    "#\n",
    "X_train, X_test, y_train, y_test = train_test_split(X, y, random_state=42, test_size=0.2)"
   ]
  },
  {
   "cell_type": "markdown",
   "id": "97e540a1-f973-4d35-a08f-42ee4c887e97",
   "metadata": {},
   "source": [
    "## Un algorithme de classification"
   ]
  },
  {
   "cell_type": "markdown",
   "id": "4864f598-da49-426b-a184-10034a7dd8cc",
   "metadata": {},
   "source": [
    "Il est temps d’entraîner un algorithme de classifacation, par exemple un classificateur naïf bayésien :"
   ]
  },
  {
   "cell_type": "code",
   "execution_count": null,
   "id": "fa8464fa-0493-4b8e-ae8d-8cb58cf50ebd",
   "metadata": {},
   "outputs": [],
   "source": [
    "from sklearn.naive_bayes import GaussianNB\n",
    "\n",
    "# model\n",
    "model = make_pipeline(preprocessor, GaussianNB())\n",
    "_ = model.fit(X_train, y_train)\n",
    "\n",
    "# predictions\n",
    "y_pred = model.predict(X_test)"
   ]
  },
  {
   "cell_type": "markdown",
   "id": "cb79684b-638b-4cdc-be64-18066dd4c00c",
   "metadata": {},
   "source": [
    "## Évaluation du classificateur"
   ]
  },
  {
   "cell_type": "markdown",
   "id": "9e9429bc-5ed8-4ce8-8cbf-aad43aa87233",
   "metadata": {},
   "source": [
    "À vous d’utiliser les techniques que vous connaissez pour évaluer la performance de votre machine ! Commencez par afficher les mesures de précision, de rappel et la moyenne harmonique entre les deux (*f1 score*) :"
   ]
  },
  {
   "cell_type": "code",
   "execution_count": null,
   "id": "da14dc30-6d06-4c5f-9f3e-639163172c50",
   "metadata": {},
   "outputs": [],
   "source": [
    "# your code here"
   ]
  },
  {
   "cell_type": "markdown",
   "id": "5991264b-d6cb-4a34-97c6-3949e30e5cbd",
   "metadata": {},
   "source": [
    "Puis affichez une matrice de confusion :"
   ]
  },
  {
   "cell_type": "code",
   "execution_count": null,
   "id": "b2cf931c-91b6-4af9-86ee-fc4d1a333f8f",
   "metadata": {},
   "outputs": [],
   "source": [
    "# your code here"
   ]
  },
  {
   "cell_type": "markdown",
   "id": "7fd8fb4b-c16c-4507-a372-fa4c2b5696db",
   "metadata": {},
   "source": [
    "Poursuivez avec la courbe ROC :"
   ]
  },
  {
   "cell_type": "code",
   "execution_count": null,
   "id": "2c479ca4-c962-4a77-8853-bc5f78041e90",
   "metadata": {},
   "outputs": [],
   "source": [
    "# your code here"
   ]
  },
  {
   "cell_type": "markdown",
   "id": "15609955-4f23-4af3-80e5-c6cea49e8b66",
   "metadata": {},
   "source": [
    "Essayez à présent d’évaluer le compromis précision/rappel :"
   ]
  },
  {
   "cell_type": "code",
   "execution_count": null,
   "id": "3355c635-def4-4978-bd61-3e764a8e4751",
   "metadata": {},
   "outputs": [],
   "source": [
    "# your code here"
   ]
  },
  {
   "cell_type": "markdown",
   "id": "a546ac9e-93a5-474d-b78c-e1dc854c0675",
   "metadata": {},
   "source": [
    "Et en le basant sur les seuils ?"
   ]
  },
  {
   "cell_type": "code",
   "execution_count": null,
   "id": "f07c1bb7-81da-45fc-a249-072c9e3cab71",
   "metadata": {},
   "outputs": [],
   "source": [
    "# your code here"
   ]
  },
  {
   "cell_type": "markdown",
   "id": "fa8dd829-e84c-4190-9da6-755261c928b9",
   "metadata": {},
   "source": [
    "Vérifiez que votre analyse graphique est la bonne :"
   ]
  },
  {
   "cell_type": "code",
   "execution_count": null,
   "id": "b97b03cb-b428-42c2-b9e5-2c083cd0a6f9",
   "metadata": {},
   "outputs": [],
   "source": [
    "# your code here"
   ]
  },
  {
   "cell_type": "markdown",
   "id": "dd7b770f-ae7c-43a1-96bf-db632158c2c6",
   "metadata": {},
   "source": [
    "N’hésitez pas à tester d’autres algorithmes de classification et à optimiser les hyperparamètres."
   ]
  }
 ],
 "metadata": {
  "kernelspec": {
   "display_name": "Python 3 (ipykernel)",
   "language": "python",
   "name": "python3"
  },
  "language_info": {
   "codemirror_mode": {
    "name": "ipython",
    "version": 3
   },
   "file_extension": ".py",
   "mimetype": "text/x-python",
   "name": "python",
   "nbconvert_exporter": "python",
   "pygments_lexer": "ipython3",
   "version": "3.10.6"
  }
 },
 "nbformat": 4,
 "nbformat_minor": 5
}
