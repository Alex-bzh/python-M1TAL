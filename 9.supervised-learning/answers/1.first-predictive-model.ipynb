{
 "cells": [
  {
   "cell_type": "markdown",
   "id": "e3d7f78f-21f2-474b-97c2-1fcfabd272cc",
   "metadata": {
    "tags": []
   },
   "source": [
    "# Ajuster son premier modèle prédictif"
   ]
  },
  {
   "cell_type": "markdown",
   "id": "efd00c69-212a-4c57-8f5c-f0e9724bf8bd",
   "metadata": {},
   "source": [
    "Au cours de ce TD, vous serez amené·e à ajuster un modèle simple (et peu performant) pour prédire l’appartenance de tel ou tel manchot à une espèce pré-définie : manchot Adélie, manchot papou (*Gentoo*) ou manchot à jugulaire (*Chinstrap*). Vous mettrez pour cela en œuvre un algorithme d’apprentissage supervisé appelé *k-nearest neighbors* (k-NN) qui effectuera une comparaison entre les données envoyées pour la prédiction et les *k* observations les plus proches dans le jeu d’entraînement. \n",
    "\n",
    "La première tentative se révélera peu concluante, puis vous améliorerez progressivement la performance de votre algorithme en travaillant sur les données d’entraînement."
   ]
  },
  {
   "cell_type": "markdown",
   "id": "b7b7ee43-1900-4bbd-a984-a03dfeaea81e",
   "metadata": {
    "tags": []
   },
   "source": [
    "## À propos du jeu de données"
   ]
  },
  {
   "cell_type": "markdown",
   "id": "ad5a468a-bf49-4259-8488-5eb288235ca5",
   "metadata": {},
   "source": [
    "![Meet the palmer penguins](../images/penguins.png)\n",
    "\n",
    "Artwork by @allison_horst\n",
    "\n",
    "Le fichier [*penguin-census.csv*](../data/penguin-census.csv) provient du paquet [*palmerpenguins*](https://allisonhorst.github.io/palmerpenguins/) conçu pour le logiciel *R* comme un outil pour l’exploration et la visualisation de données. Il contient deux jeux de données : un avec les données complètes et un autre qui se veut comme une version simplifiée du premier. C’est ce dernier que vous utiliserez.\n",
    "\n",
    "Les données ont été collectées par le Dr. Kristen Gorman à la station Palmer en Antarctique.\n",
    "\n",
    "> Gorman KB, Williams TD, Fraser WR (2014). Ecological sexual dimorphism and environmental variability within a community of Antarctic penguins (genus Pygoscelis). PLoS ONE 9(3):e90081. https://doi.org/10.1371/journal.pone.0090081"
   ]
  },
  {
   "cell_type": "markdown",
   "id": "5c537b69-f8ce-4cef-8e38-6760c862f565",
   "metadata": {
    "tags": []
   },
   "source": [
    "## Description des données"
   ]
  },
  {
   "cell_type": "markdown",
   "id": "41e3b57a-7b3f-461d-81ca-e58ff12cb255",
   "metadata": {},
   "source": [
    "On n’insistera jamais assez sur l’influence d’une bonne compréhension des données à disposition sur la qualité de l’algorithme produit. Si vous avez l’impression de perdre du temps à explorer manuellement les fichiers ou à lire la documentation, rappelez-vous Hume : l’impression ne peut être représentative en ce qu’elle se présente immédiatement à l’esprit. L’idée qui en dérive, si elle a moins de force ou de vivacité, peut en revanche servir pour, en réaction, modifier l’impression primitive. En somme, non, vous ne perdez pas de temps.\n",
    "\n",
    "Les données sont constituées de 344 observations (*samples*) décrites par 8 variables aléatoires, ou caractéristiques (*features*). Ces variables sont :\n",
    "\n",
    "|Variable|Signification|Type de variable|\n",
    "|-|-|:-:|\n",
    "|*species*|Espèce de manchot parmi : Adelie, Gentoo, Chinstrap|qualitative|\n",
    "|*island*|Île de l’observation parmi : Torgersen, Biscoe, Dream|qualitative|\n",
    "|*bill_length_mm*|Longueur du bec de l’individu (en mm)|quantitative discrète|\n",
    "|*bill_depth_mm*|Épaisseur du bec de l’individu (en mm)|quantitative discrète|\n",
    "|*flipper_length_mm*|Longueur de la nageoire de l’individu (en mm)|quantitative discrète|\n",
    "|*body_mass_g*|Poids de l’individu (en g)|quantitative discrète|\n",
    "|*sex*|Sexe de l’individu selon deux valeurs possibles : *male* ou *female*|qualitative binaire|\n",
    "|*year*|Année de l’observation (de 2007 à 2009)|qualitative ordonnée|"
   ]
  },
  {
   "cell_type": "markdown",
   "id": "995bae5a-201b-44fa-8eb9-8ba0bd8c1c33",
   "metadata": {},
   "source": [
    "### Définition de la tâche"
   ]
  },
  {
   "cell_type": "markdown",
   "id": "61fe45f8-f274-446e-b29e-0143d85cdd29",
   "metadata": {},
   "source": [
    "L’objectif de votre programme est de concevoir une fonction qui détermine si un individu appartient à telle ou telle espèce de manchot. Comme vous ne savez pas encore comment traiter des données catégorielles (sexe, profession, statut, pour ou contre…), vous limiterez les données d’entraînement aux variables quantitatives.\n",
    "\n",
    "**Variable cible (*target*) :** *species*  \n",
    "**Caractéristiques (*features*) :** *bill_length_mm*, *bill_depth_mm*, *flipper_length_mm*, *body_mass_g*"
   ]
  },
  {
   "cell_type": "markdown",
   "id": "eec6c135-5262-4e9c-884c-b877901b20ee",
   "metadata": {
    "tags": []
   },
   "source": [
    "## Un coup d’œil rapide aux données"
   ]
  },
  {
   "cell_type": "markdown",
   "id": "56b3a9fb-4182-47fb-bfdd-33b159804c91",
   "metadata": {
    "tags": []
   },
   "source": [
    "### Chargement du fichier"
   ]
  },
  {
   "cell_type": "markdown",
   "id": "4723cd0d-9d06-48b2-b34b-45e60ea55c60",
   "metadata": {},
   "source": [
    "Importez tout d’abord le fichier *penguin-census.csv*, situé dans le répertoire *data*,  grâce à la méthode `.read_csv()` de la librairie *Pandas* :"
   ]
  },
  {
   "cell_type": "code",
   "execution_count": null,
   "id": "15db0e54-9244-4a63-a3ab-25d5b2826dc8",
   "metadata": {},
   "outputs": [],
   "source": [
    "# your code here\n",
    "\n",
    "# load pandas library\n",
    "import pandas as pd\n",
    "\n",
    "# load the census\n",
    "penguin_census = pd.read_csv(\"../data/penguin-census.csv\")"
   ]
  },
  {
   "cell_type": "markdown",
   "id": "b4d79062-0c0b-4cd9-8074-d992851f573c",
   "metadata": {
    "tags": []
   },
   "source": [
    "### Exploration des données"
   ]
  },
  {
   "cell_type": "markdown",
   "id": "bd51ffd7-6e83-4347-91de-d2b8b24ada7c",
   "metadata": {},
   "source": [
    "Avant toute chose, confirmez le nombre d’individus qui constituent le jeu de données :"
   ]
  },
  {
   "cell_type": "code",
   "execution_count": null,
   "id": "4f61da20-08d1-415b-8a97-15414d20255a",
   "metadata": {},
   "outputs": [],
   "source": [
    "# your code here\n",
    "\n",
    "# number of samples\n",
    "len(penguin_census)"
   ]
  },
  {
   "cell_type": "markdown",
   "id": "a0482e7e-cf41-4428-8822-a01171b6b15e",
   "metadata": {},
   "source": [
    "La méthode `.head()` permet d’obtenir un aperçu des premières observations. Utilisez-là sur la variable dans laquelle vous avez chargé le *data frame* :"
   ]
  },
  {
   "cell_type": "code",
   "execution_count": null,
   "id": "30a56431-c889-49e2-ba12-df658601643c",
   "metadata": {},
   "outputs": [],
   "source": [
    "# your code here\n",
    "\n",
    "# look at the data\n",
    "penguin_census.head()"
   ]
  },
  {
   "cell_type": "markdown",
   "id": "40bde9d5-b192-4409-9a9f-c97a9d6c7a11",
   "metadata": {},
   "source": [
    "Une propriété intéressante des *data frames* est `dtypes`, qui fournit le type de donnée de chaque variable :"
   ]
  },
  {
   "cell_type": "code",
   "execution_count": null,
   "id": "569db929-625e-4e72-a36f-06d1173a5310",
   "metadata": {},
   "outputs": [],
   "source": [
    "# your code here\n",
    "\n",
    "# data types\n",
    "penguin_census.dtypes"
   ]
  },
  {
   "cell_type": "markdown",
   "id": "2672ec64-f918-487c-a931-0bfc613381aa",
   "metadata": {},
   "source": [
    "Utilisez à présent la méthode `.describe()` pour obtenir des mesures statistiques sur les variables quantitatives :"
   ]
  },
  {
   "cell_type": "code",
   "execution_count": null,
   "id": "d1127f6e-5126-441e-a6a5-c5dd11fe946b",
   "metadata": {},
   "outputs": [],
   "source": [
    "# your code here\n",
    "\n",
    "# some statistic measures on quantitative features\n",
    "penguin_census.describe()"
   ]
  },
  {
   "cell_type": "markdown",
   "id": "b453590f-2f1e-4ecd-88f1-87f5c3212f84",
   "metadata": {
    "tags": []
   },
   "source": [
    "### À la recherche des données manquantes"
   ]
  },
  {
   "cell_type": "markdown",
   "id": "0db57d9e-d4ac-49bd-a67a-8875fa4cc881",
   "metadata": {},
   "source": [
    "Plus haut, dès l’utilisation de la méthode `.head()`, vous avez révélé l’absence de certaines données. L’information est confirmée par la méthode `.describe()` qui ne totalise que 342 observations valides pour les variables *bill_length_mm*, *bill_depth_mm*, *flipper_length_mm* et *body_mass_g* sur les 344 individus.\n",
    "\n",
    "Une façon plus sûre de les détecter est d’utiliser la méthode `.isnull()` :"
   ]
  },
  {
   "cell_type": "code",
   "execution_count": null,
   "id": "5526e94c-f250-4cdb-ae8c-e3a3b425789b",
   "metadata": {},
   "outputs": [],
   "source": [
    "# your code here\n",
    "\n",
    "# which values are null in the dataset?\n",
    "penguin_census.isnull()"
   ]
  },
  {
   "cell_type": "markdown",
   "id": "67740122-5a47-41c9-990c-f39f0dc83d8c",
   "metadata": {},
   "source": [
    "Mieux encore, chaînez l’opération précédente avec la méthode `.any()` pour déterminer dans quelles colonnes on trouve des données manquantes :"
   ]
  },
  {
   "cell_type": "code",
   "execution_count": null,
   "id": "3706f753-0347-4b10-8908-cd05e9513a30",
   "metadata": {},
   "outputs": [],
   "source": [
    "# your code here\n",
    "\n",
    "# in which columns are the missing values?\n",
    "penguin_census.isnull().any()"
   ]
  },
  {
   "cell_type": "markdown",
   "id": "ad39dce1-09c7-4de2-b5ec-ceee8957c8fa",
   "metadata": {},
   "source": [
    "Vous pouvez maintenant pister, colonne par colonne, les données manquantes. La syntaxe se construit de la manière suivante :\n",
    "1. Appliquez un prédicat à votre *data frame*  \n",
    "`df[]` ;\n",
    "2. dans le prédicat, limitez la sélection à la colonne appropriée  \n",
    "`df[df[col]]` ;\n",
    "3. révélez les valeurs manquantes de la colonne sélectionnée avec `.isnull()`  \n",
    "`df[df[col].isnull()]` ;\n",
    "4. ne retenez que les indices des observations sélectionnées (en dehors du prédicat) avec la propriété `index`  \n",
    "`df[df[col].isnull()].index` ;\n",
    "5. transformez enfin le tout en liste avec la méthode `.to_list()`  \n",
    "`df[df[col].isnull()].index.to_list()`."
   ]
  },
  {
   "cell_type": "code",
   "execution_count": null,
   "id": "5b3e09c4-f6ab-4ed1-aea6-5733b5d6cbef",
   "metadata": {},
   "outputs": [],
   "source": [
    "# your code here\n",
    "\n",
    "# where are precisely the missing values?\n",
    "[\n",
    "    f\"{col} : {penguin_census[penguin_census[col].isnull()].index.to_list()}\"\n",
    "    for col in ['bill_length_mm', 'bill_depth_mm', 'flipper_length_mm', 'body_mass_g', 'sex']\n",
    "]"
   ]
  },
  {
   "cell_type": "markdown",
   "id": "0cbde3c3-4240-41a4-841a-9b2ed27e41bb",
   "metadata": {
    "tags": []
   },
   "source": [
    "### Visualiser les données"
   ]
  },
  {
   "cell_type": "markdown",
   "id": "c73d4fda-500e-4cbb-97e2-1acd658832d7",
   "metadata": {},
   "source": [
    "La librairie *Pandas* embarque des outils hérités de *Matplotlib*. La méthode `.hist()` est toute indiquée pour représenter des variables numériques. Notez qu’il n’est pas nécessaire d’opérer colonne par colonne. *Pandas* n’applique la méthode que sur des variables de type numérique : "
   ]
  },
  {
   "cell_type": "code",
   "execution_count": null,
   "id": "be8f5437-73fd-4abe-a774-653e5e11f852",
   "metadata": {},
   "outputs": [],
   "source": [
    "# your code here\n",
    "\n",
    "_ = penguin_census.hist(figsize=(8,8))"
   ]
  },
  {
   "cell_type": "markdown",
   "id": "51b75fff-8782-4f1a-844d-3265c89b4f28",
   "metadata": {},
   "source": [
    "Mieux encore, la librairie *Seaborn* offre des outils qui facilitent davantage la lecture des graphiques. Importez tout d’abord le module `seaborn` avec l’alias `sn`, puis utilisez la méthode `.pairplot()` en lui passant deux paramètres : votre *data frame* et le nom de la variable cible (paramètre nommé `hue`) :"
   ]
  },
  {
   "cell_type": "code",
   "execution_count": null,
   "id": "8656581d-5764-4283-86e9-de8f34f77e90",
   "metadata": {},
   "outputs": [],
   "source": [
    "# your code here\n",
    "\n",
    "# module seaborn\n",
    "import seaborn as sn\n",
    "\n",
    "# combination of plots\n",
    "_ = sn.pairplot(penguin_census, hue=\"species\")"
   ]
  },
  {
   "cell_type": "markdown",
   "id": "7201f7af-bf94-43a0-b72b-ad6e29f43846",
   "metadata": {
    "tags": []
   },
   "source": [
    "## Préparez le jeu de données"
   ]
  },
  {
   "cell_type": "markdown",
   "id": "c82c0a6b-a097-4b82-8e24-42191a898e17",
   "metadata": {},
   "source": [
    "Après avoir consacré un temps non négligeable à la compréhension du jeu de données, il est temps de le préparer afin de fournir un *data frame* propre à votre futur programme.\n",
    "\n",
    "Commencez par définir la colonne cible dans une variable *target* et par faire la liste des caractéristiques qui vous intéressent dans une variable *features* :"
   ]
  },
  {
   "cell_type": "code",
   "execution_count": null,
   "id": "ddf31392-ffef-4d02-a96b-7925d6b061bf",
   "metadata": {},
   "outputs": [],
   "source": [
    "# your code here\n",
    "\n",
    "target = \"species\"\n",
    "features = [\"bill_length_mm\", \"bill_depth_mm\", \"flipper_length_mm\", \"body_mass_g\"]"
   ]
  },
  {
   "cell_type": "markdown",
   "id": "767c28ea-8b23-4bf5-925e-f7db03b6f908",
   "metadata": {},
   "source": [
    "Le nouveau *data frame* correspondra à la réunion des seules colonnes répertoriées dans vos variables *target* et *features*. Par convention, on positionne la colonne cible à la fin :"
   ]
  },
  {
   "cell_type": "code",
   "execution_count": null,
   "id": "740b56d1-9960-4404-908a-b32fcdbebb37",
   "metadata": {},
   "outputs": [],
   "source": [
    "# your code here\n",
    "\n",
    "# a new data frame\n",
    "data = penguin_census[features + [target]]"
   ]
  },
  {
   "cell_type": "markdown",
   "id": "848417aa-f7c2-484e-bf1b-16bb9b7dc041",
   "metadata": {},
   "source": [
    "Lorsque vous avez fait la chasse aux données manquantes dans le fichier, vous avez sans doute remarqué que :\n",
    "- les colonnes qui vous intéressent ne contenaient que deux données manquantes ;\n",
    "- ces données concernent les deux mêmes individus.\n",
    "\n",
    "Vous pouvez de manière légitime considérer que supprimer totalement ces deux individus ne nuira pas à votre programme. Appliquez la méthode `.dropna()` directement sur le *data frame* :"
   ]
  },
  {
   "cell_type": "code",
   "execution_count": null,
   "id": "98bb8930-08ea-4169-b2be-0cc1de6c0f7e",
   "metadata": {},
   "outputs": [],
   "source": [
    "# your code here\n",
    "\n",
    "data = data.dropna()"
   ]
  },
  {
   "cell_type": "markdown",
   "id": "f40dfcc4-8f13-4cdd-9d89-25b50199741c",
   "metadata": {},
   "source": [
    "Votre *data frame* n’est plus constitué que de 342 observations. Il est temps de le séparer en deux autres structures :\n",
    "1. une série nommée `y` pour la cible ;\n",
    "2. un *data frame* nommé `X` pour les caractéristiques (sans la colonne cible).\n",
    "\n",
    "La méthode `.drop()` avec l'argument nommé `columns` permet de spécifier une liste de colonnes à supprimer."
   ]
  },
  {
   "cell_type": "code",
   "execution_count": null,
   "id": "6935e3ff-4d6e-4219-b784-3b20e5c6722b",
   "metadata": {},
   "outputs": [],
   "source": [
    "# your code here\n",
    "\n",
    "y = data[target]\n",
    "X = data.drop(columns=[target])"
   ]
  },
  {
   "cell_type": "markdown",
   "id": "25dc82a1-9fdd-477a-950b-99fb8365d448",
   "metadata": {
    "tags": []
   },
   "source": [
    "## Constituez les jeux d’entraînement et de test"
   ]
  },
  {
   "cell_type": "markdown",
   "id": "ded560bd-a9b9-4a41-b5c1-31557cf78a69",
   "metadata": {},
   "source": [
    "Durant cette étape, vous allez séparer vos structures `X` et `y` en deux parties : la première pour l’entraînement, la seconde pour le test.\n",
    "\n",
    "Comptabilisez dans une variable `nb` le nombre d’observations et définissez une variable `limit` qui soit 25 % de `nb`. Assurez-vous que `limit` soit un entier :"
   ]
  },
  {
   "cell_type": "code",
   "execution_count": null,
   "id": "429f1536-ac2f-4316-820b-e0927966b7ad",
   "metadata": {},
   "outputs": [],
   "source": [
    "# your code here\n",
    "\n",
    "nb = len(X)\n",
    "limit = int(nb * 0.25)"
   ]
  },
  {
   "cell_type": "markdown",
   "id": "f8de7405-11b2-45f7-aafb-494814c8029b",
   "metadata": {},
   "source": [
    "Grâce au *slicing*, effectuez la séparation entre `X_train`, `X_test` et `y_train`, `y_test` :"
   ]
  },
  {
   "cell_type": "code",
   "execution_count": null,
   "id": "4f589678-8487-4a74-8e76-94824661f84c",
   "metadata": {},
   "outputs": [],
   "source": [
    "# your code here\n",
    "\n",
    "# split train/test\n",
    "X_train = X[limit:]\n",
    "X_test = X[:limit]\n",
    "y_train = y[limit:]\n",
    "y_test = y[:limit]"
   ]
  },
  {
   "cell_type": "markdown",
   "id": "2ae12b1d-1c22-4ea6-a309-efc5ceb4e11d",
   "metadata": {
    "tags": []
   },
   "source": [
    "## Programmation du modèle"
   ]
  },
  {
   "cell_type": "markdown",
   "id": "e3993406-e8a6-45ba-9e0b-ea2da75d41cc",
   "metadata": {
    "tags": []
   },
   "source": [
    "### Entraîner le modèle avec le jeu d’entraînement"
   ]
  },
  {
   "cell_type": "markdown",
   "id": "9e03b55f-ceb1-4a76-8f70-6990f61cf43d",
   "metadata": {},
   "source": [
    "La partie qui aurait pu sembler la plus complexe est en fait la plus triviale. *Scikit-Learn* se charge de calculer l’ensemble des paramètres et fournit un modèle selon l’algorithme d’entraînement utilisé.\n",
    "\n",
    "Importez tout d’abord la classe `KNeighborsClassifier` du module `sklearn.neighbors` :"
   ]
  },
  {
   "cell_type": "code",
   "execution_count": null,
   "id": "1b696f57-9654-4986-839e-1a175d6fb954",
   "metadata": {},
   "outputs": [],
   "source": [
    "# your code here\n",
    "\n",
    "from sklearn.neighbors import KNeighborsClassifier"
   ]
  },
  {
   "cell_type": "markdown",
   "id": "a9e996a3-6cd3-467d-941a-ce158ed662a8",
   "metadata": {},
   "source": [
    "Chargez à présent la classe `KNeighborsClassifier()` dans une variable `model` puis appelez directement la méthode `.fit()` en lui passant en paramètres `X_train` puis `y_train` :"
   ]
  },
  {
   "cell_type": "code",
   "execution_count": null,
   "id": "76c68b94-9c3b-463b-8e86-fc5e248f25ed",
   "metadata": {},
   "outputs": [],
   "source": [
    "# your code here\n",
    "\n",
    "model = KNeighborsClassifier()\n",
    "model.fit(X_train, y_train)"
   ]
  },
  {
   "cell_type": "markdown",
   "id": "5f309273-5768-4167-8777-796d1d080621",
   "metadata": {
    "tags": []
   },
   "source": [
    "### Tester le modèle"
   ]
  },
  {
   "cell_type": "markdown",
   "id": "b9c83ba4-283b-4767-9eb2-9f43d3a53c6b",
   "metadata": {},
   "source": [
    "Il ne reste plus qu’à effectuer des prédictions sur les données de test avec la méthode `.predict()` :"
   ]
  },
  {
   "cell_type": "code",
   "execution_count": null,
   "id": "e467e4f0-dfa8-4a7f-a1fb-936033442104",
   "metadata": {},
   "outputs": [],
   "source": [
    "# your code here\n",
    "\n",
    "y_predicted = model.predict(X_test)"
   ]
  },
  {
   "cell_type": "markdown",
   "id": "4533c45f-bdb5-4390-babc-aa85cefb7a07",
   "metadata": {
    "tags": []
   },
   "source": [
    "### Évaluer le modèle"
   ]
  },
  {
   "cell_type": "markdown",
   "id": "3faa3ec2-5340-45f3-88c8-c7ea3af40e91",
   "metadata": {},
   "source": [
    "Pour évaluer l’exactitude du modèle, il suffit de comparer les prédictions obtenues sur le jeu de test avec le contenu de `y_test`, puis de noter les concordances. L’opérateur d’égalité `==` permet de vérifier si les observations d’une série correspondent avec celles d’une autre : "
   ]
  },
  {
   "cell_type": "code",
   "execution_count": null,
   "id": "a8c9e8b4-56eb-41cd-bc37-d00889f4c53a",
   "metadata": {},
   "outputs": [],
   "source": [
    "# your code here\n",
    "\n",
    "y_predicted == y_test"
   ]
  },
  {
   "cell_type": "markdown",
   "id": "10d4ac41-c475-404e-8270-b2644507f591",
   "metadata": {},
   "source": [
    "Le résultat obtenu étant une série de booléens, il est possible d’appeler les méthodes `.sum()` ou `.mean()` pour obtenir le nombre de bonnes prédictions rapportées au nombre total d’éléments :"
   ]
  },
  {
   "cell_type": "code",
   "execution_count": null,
   "id": "4cac7f52-910a-4efd-a3b6-db7f82dfe9f9",
   "metadata": {},
   "outputs": [],
   "source": [
    "# your code here\n",
    "\n",
    "(y_predicted == y_test).mean()"
   ]
  },
  {
   "cell_type": "markdown",
   "id": "4d6e3793-026a-40c5-80c9-968a1004b1e0",
   "metadata": {},
   "source": [
    "Mieux, la méthode `.score()` du modèle entraîné permet de révéler le résultat immédiatement. Passez simplement en paramètres le jeu de test et la cible de test :"
   ]
  },
  {
   "cell_type": "code",
   "execution_count": null,
   "id": "36379e25-b98f-4060-82c5-ab67638221d1",
   "metadata": {},
   "outputs": [],
   "source": [
    "# your code here\n",
    "\n",
    "model.score(X_test, y_test)"
   ]
  },
  {
   "cell_type": "markdown",
   "id": "56fc1ab5-32a3-426c-bb33-e49d6f30d319",
   "metadata": {},
   "source": [
    "### Améliorer le modèle"
   ]
  },
  {
   "cell_type": "markdown",
   "id": "051d0840-abc9-4416-9406-9edbca0081e3",
   "metadata": {},
   "source": [
    "**49 % de taux d’exactitude !!** Même pas une prédiction sur deux de juste, autant dire que votre premier modèle est ridiculement inefficace…\n",
    "\n",
    "La première voie d’amélioration réside dans la préparation du jeu de données. Remarquez que vos données sont triées par espèces de manchots. Si vous ressortez les données uniques de `y_test`, vous remarquez alors qu’il n’y a que des manchots Adélie :"
   ]
  },
  {
   "cell_type": "code",
   "execution_count": null,
   "id": "948c3ec2-e58f-4a72-a898-43912fdc9ab1",
   "metadata": {},
   "outputs": [],
   "source": [
    "# unique values in y_test\n",
    "y_test.unique()"
   ]
  },
  {
   "cell_type": "markdown",
   "id": "6b89a2a1-58a7-4516-9197-fe4e7bd26c4f",
   "metadata": {},
   "source": [
    "Alors que dans la série cible d’entraînement les manchots papous sont sur-représentés :"
   ]
  },
  {
   "cell_type": "code",
   "execution_count": null,
   "id": "9237957f-a5b5-4505-8c9b-d65313ac8370",
   "metadata": {},
   "outputs": [],
   "source": [
    "# nb of samples for each class in y_train\n",
    "y_train.value_counts()"
   ]
  },
  {
   "cell_type": "markdown",
   "id": "392864dc-b493-4621-bf1c-86e195a14346",
   "metadata": {},
   "source": [
    "La librairie *Pandas* met à disposition une méthode `.sample()` qui permet de mélanger les observations :"
   ]
  },
  {
   "cell_type": "code",
   "execution_count": null,
   "id": "6dcf0fba-8b2b-4391-9f0f-e0ffdeb31b0e",
   "metadata": {},
   "outputs": [],
   "source": [
    "# shuffle all rows\n",
    "data = data.sample(frac=1).reset_index(drop=True)"
   ]
  },
  {
   "cell_type": "markdown",
   "id": "334d1a65-ebec-4e4e-9a62-9096efcec496",
   "metadata": {},
   "source": [
    "Séparez à nouveau votre *data frame* en `X` et `y`, puis en jeux de test et d’entraînement, et entraînez le modèle tel quel. Vous devriez noter une hausse non négigeable du taux d’exactitude !\n",
    "\n",
    "Notez qu’il existe une fonction dans *Scikit-Learn* pour préparer automatiquement les données de test et d’entraînement :"
   ]
  },
  {
   "cell_type": "code",
   "execution_count": null,
   "id": "377d211a-1088-409c-9714-4ae4d22e1ba9",
   "metadata": {},
   "outputs": [],
   "source": [
    "from sklearn.model_selection import train_test_split\n",
    "\n",
    "X_train, X_test, y_train, y_test = train_test_split(X, y, random_state=42, test_size=0.25)"
   ]
  },
  {
   "cell_type": "markdown",
   "id": "4c589cde-b1d5-4f37-b66a-3dc370205762",
   "metadata": {},
   "source": [
    "N’hésitez pas à tester d’autres pistes d’amélioration, vous ne devriez pas tarder à dépasser les 80 % d’exactitude :\n",
    "- Modifier le paramètre `random_state` de la fonction `train_test_split()` ;\n",
    "- augmenter le nombre d’observations dans le jeu d’entraînement (ex. : 80/20) ;\n",
    "- ajuster le paramètre `n_neighbors` de la classe `KNeighborsClassifier()` (5 par défaut) ;\n",
    "- …"
   ]
  }
 ],
 "metadata": {
  "kernelspec": {
   "display_name": "Python 3 (ipykernel)",
   "language": "python",
   "name": "python3"
  },
  "language_info": {
   "codemirror_mode": {
    "name": "ipython",
    "version": 3
   },
   "file_extension": ".py",
   "mimetype": "text/x-python",
   "name": "python",
   "nbconvert_exporter": "python",
   "pygments_lexer": "ipython3",
   "version": "3.10.6"
  }
 },
 "nbformat": 4,
 "nbformat_minor": 5
}
