{
 "cells": [
  {
   "cell_type": "markdown",
   "id": "ce10d189-8393-4b5a-bc22-8517b7daa096",
   "metadata": {},
   "source": [
    "# Des problèmes physiques"
   ]
  },
  {
   "cell_type": "markdown",
   "id": "7b54a0f2-502e-4361-98cf-979207192762",
   "metadata": {},
   "source": [
    "## Une force agissante"
   ]
  },
  {
   "cell_type": "markdown",
   "id": "86d6c039-7986-4846-8eca-367b9708beaa",
   "metadata": {},
   "source": [
    "Un objet repose tranquillement sur la table de chevet à côté de votre lit. Durant la nuit, le voilà soumis à deux forces que l’on exprime en newtons (*N*) :\n",
    "\n",
    "$$\n",
    "\\vec{F_1} = \\begin{pmatrix}\n",
    "    3 \\\\\n",
    "    4\n",
    "\\end{pmatrix}, \\quad \\vec{F_2} = \\begin{pmatrix}\n",
    "    -2 \\\\\n",
    "    1\n",
    "\\end{pmatrix}\n",
    "$$\n",
    "\n",
    "**Questions :**\n",
    "\n",
    "1. Quelle est la résultante $F_r$ de ces deux forces ?\n",
    "2. Quelle est l’intensité de $F_r$ ?"
   ]
  },
  {
   "cell_type": "markdown",
   "id": "b4214ecd-a13f-4515-b45f-650fe7aa6736",
   "metadata": {},
   "source": [
    "**Réponses :**"
   ]
  },
  {
   "cell_type": "markdown",
   "id": "f7ba7ec7-0732-42d3-89fe-66e87b35cfe9",
   "metadata": {},
   "source": [
    "## Sans maîtrise, la puissance n’est rien"
   ]
  },
  {
   "cell_type": "markdown",
   "id": "511b30b3-1127-411b-8054-85d7bb665086",
   "metadata": {},
   "source": [
    "Un objet de 5 kg se déplace sous l’action d’une force constante $\\vec{F} = (3, −4, 2) \\, \\text{N}$ dans un repère tridimensionnel. La vitesse de l’objet est donné par $\\vec{v} = (1, 2, −3) \\, \\text{m/s}$.\n",
    "\n",
    "**Questions :**\n",
    "\n",
    "1. Quelle est en watts (*W*) la puissance mécanique *P* développée par $\\vec{F}$ à un instant donné sachant que $P = \\vec{F} \\cdot \\vec{v}$ ?\n",
    "2. Calculez l’angle entre la force et la direction du mouvement à l’aide de la similarité cosinus et sachant qu’un angle se calcule depuis le cosinus grâce à la fonction cosinus inverse : $\\theta = \\arccos(x)$."
   ]
  },
  {
   "cell_type": "markdown",
   "id": "1d70b191-743b-47e7-8103-1b65c6f61183",
   "metadata": {},
   "source": [
    "**Réponses :**"
   ]
  },
  {
   "cell_type": "markdown",
   "id": "58c50a77-c036-472b-99a7-b961431c39c9",
   "metadata": {},
   "source": [
    "## Changer de trajectoire"
   ]
  },
  {
   "cell_type": "markdown",
   "id": "10259098-4a14-40ad-97b0-d7361086c7a1",
   "metadata": {},
   "source": [
    "Un objet se déplace sur un plan selon deux trajectoires différentes. La première trajectoire est représentée par le vecteur position $\\vec{r_1}(t)$ et la deuxième par $\\vec{r_2}(t)$. À un instant *t*, les positions sont données par :\n",
    "\n",
    "$$\n",
    "\\vec{r_1}(t) = (3t,2t^2), \\quad \\vec{r_2}(t) = (2t,4t^2)\n",
    "$$\n",
    "\n",
    "**Questions :**\n",
    "\n",
    "1. Calculez la distance euclidienne entre les deux trajectoires pour *t* = 1.\n",
    "2. Calculez la distance de Manhattan entre les deux trajectoires pour *t* = 1.\n",
    "3. À $t = 1$, quelle trajectoire est la plus *éloignée* de l’autre en utilisant la distance euclidienne et Manhattan ? Justifiez votre réponse."
   ]
  },
  {
   "cell_type": "markdown",
   "id": "8d0d0691-39df-4ff9-b879-a662a933575a",
   "metadata": {},
   "source": [
    "**Réponses :**"
   ]
  }
 ],
 "metadata": {
  "kernelspec": {
   "display_name": "Python 3 (ipykernel)",
   "language": "python",
   "name": "python3"
  },
  "language_info": {
   "codemirror_mode": {
    "name": "ipython",
    "version": 3
   },
   "file_extension": ".py",
   "mimetype": "text/x-python",
   "name": "python",
   "nbconvert_exporter": "python",
   "pygments_lexer": "ipython3",
   "version": "3.11.11"
  }
 },
 "nbformat": 4,
 "nbformat_minor": 5
}
