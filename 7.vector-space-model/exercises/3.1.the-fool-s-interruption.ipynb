{
 "cells": [
  {
   "cell_type": "markdown",
   "id": "94dbba80-8a04-496e-8c2d-6299059059ad",
   "metadata": {},
   "source": [
    "# Interruption du fou"
   ]
  },
  {
   "cell_type": "markdown",
   "id": "741639bf-a86e-4f5f-b750-db5234900fd1",
   "metadata": {},
   "source": [
    "La dernière fois que vous avez vu ces textes de Nietzsche, vous les avez quittés avec une matrice d’occurrences sans ne rien en faire de plus. Il est temps de la transformer en une matrice termes-documents pondérée par l’algorithme TF-IDF.\n",
    "\n",
    "Exécutez ci-dessous le code afin de créer une matrice des occurrences :"
   ]
  },
  {
   "cell_type": "code",
   "execution_count": null,
   "id": "bbbe48ed-a397-4eef-8b54-b44d7f24af55",
   "metadata": {},
   "outputs": [],
   "source": [
    "import numpy as np\n",
    "import pandas as pd\n",
    "from collections import Counter\n",
    "from nltk.tokenize import RegexpTokenizer\n",
    "\n",
    "# a corpus of documents\n",
    "corpus = [\n",
    "    \"Tous les hommes qui sentent qu’il leur faut les paroles et les intonations les plus violentes, les attitudes et les gestes les plus éloquents pour pouvoir agir, les politiciens révolutionnaires, les socialistes, les prédicateurs, avec ou sans christianisme, tous ceux qui veulent éviter les demi-succès : tous ceux-là parlent de devoirs, et toujours de devoirs qui ont un caractère absolu - autrement ils n’auraient point droit à leur pathos démesuré : ils le savent fort bien.\",\n",
    "    \"Il faut connaître non seulement la marche hardie, légère, délicate et rapide de ses propres pensées, mais avant tout la disposition aux grandes responsabilités, la hauteur et la profondeur du regard impérieux, le sentiment d’être séparé de la foule, des devoirs et des vertus de la foule, la protection et la défense bienveillante de ce qui est mal compris et calomnié, que ce soit Dieu ou le diable ; le penchant et l’habileté à la suprême justice, l’art du commandement, l’ampleur de la volonté, la lenteur du regard qui rarement admire, rarement se lève, et aime rarement…\",\n",
    "    \"Je vous le dis : il faut encore porter en soi un chaos, pour pouvoir mettre au monde une étoile dansante. Je vous le dis : vous portez encore un chaos en vous.\"\n",
    "]\n",
    "\n",
    "# configure a tokenizer\n",
    "tokenizer = RegexpTokenizer('\\w+')\n",
    "\n",
    "# tokenization\n",
    "doc_tokens = [\n",
    "    [\n",
    "        token.lower()\n",
    "        for token in tokenizer.tokenize(doc)\n",
    "    ]\n",
    "    for doc in corpus\n",
    "]\n",
    "\n",
    "doc_occurrences = [\n",
    "    Counter(tokens)\n",
    "    for tokens in doc_tokens\n",
    "]\n",
    "\n",
    "# tokens are the word-forms and\n",
    "# vocabulary is an ordered list of unique tokens\n",
    "vocabulary = sorted(set([\n",
    "    token\n",
    "    for doc in doc_tokens\n",
    "    for token in doc\n",
    "]))\n",
    "\n",
    "# a null matrix\n",
    "matrix = np.zeros((len(doc_tokens), len(vocabulary)))\n",
    "\n",
    "# fill the matrix\n",
    "for i, occurrences in enumerate(doc_occurrences):\n",
    "    for j, word in enumerate(vocabulary):\n",
    "        matrix[i, j] = occurrences[word]\n",
    "\n",
    "df = pd.DataFrame(matrix, columns=vocabulary)\n",
    "\n",
    "display(df)"
   ]
  },
  {
   "cell_type": "markdown",
   "id": "64c4901d-5723-49a5-9793-949bc5209321",
   "metadata": {},
   "source": [
    "## Une mesure TF-IDF à la main"
   ]
  },
  {
   "cell_type": "markdown",
   "id": "3d2180cc-fcea-4d84-aeea-bef010fa6a5a",
   "metadata": {},
   "source": [
    "Pour les besoins de l’exercice, vous ne vous concentrerez que sur le terme *devoirs* :"
   ]
  },
  {
   "cell_type": "code",
   "execution_count": null,
   "id": "bde33b5d-abd9-4ee3-9905-8325a0e17ab3",
   "metadata": {},
   "outputs": [],
   "source": [
    "display(df.devoirs)"
   ]
  },
  {
   "cell_type": "markdown",
   "id": "8dbaf4da-ab14-4e16-8619-55ae6257e892",
   "metadata": {},
   "source": [
    "### La fréquence du terme"
   ]
  },
  {
   "cell_type": "markdown",
   "id": "dabd9cdc-8fc5-430a-b1fb-15b24334f6ce",
   "metadata": {},
   "source": [
    "La formule qui permet de calculer $\\text{TF}$ est la suivante :\n",
    "\n",
    "$$\n",
    "\\text{TF}(t, d) = \\frac{t}{d}\n",
    "$$\n",
    "\n",
    "Sachant que $t$ est le nombre d’occurrences du token dans un document et $d$ le nombre total de tokens du vocabulaire, quelle est la mesure TF de *devoirs* dans le corpus ?\n",
    "\n",
    "Avant de calculer, vous avez besoin de connaître les informations suivantes :"
   ]
  },
  {
   "cell_type": "code",
   "execution_count": null,
   "id": "3c1828a9-e8a4-4452-b921-8491336adcd5",
   "metadata": {},
   "outputs": [],
   "source": [
    "n_tokens = matrix.sum(axis=1)\n",
    "idx_devoirs = df.columns.get_loc('devoirs')\n",
    "n_occ_devoirs = matrix[:, 29]\n",
    "\n",
    "print(\n",
    "    \"Nombre de tokens dans chaque texte :\",\n",
    "    f\"A : {n_tokens[0]}\",\n",
    "    f\"B : {n_tokens[1]}\",\n",
    "    f\"C : {n_tokens[2]}\",\n",
    "    \"=\" * 30,\n",
    "    \"Nombre d’apparitions du terme 'devoirs' par texte :\",\n",
    "    f\"A : {n_occ_devoirs[0]}\",\n",
    "    f\"B : {n_occ_devoirs[1]}\",\n",
    "    f\"C : {n_occ_devoirs[2]}\",\n",
    "    sep=\"\\n\"\n",
    ")"
   ]
  },
  {
   "cell_type": "markdown",
   "id": "27ff83cb-ca34-44cb-978f-3fef599b7c00",
   "metadata": {},
   "source": [
    "**Réponse :**"
   ]
  },
  {
   "cell_type": "markdown",
   "id": "bc7eccfd-51ce-42f0-baa1-40ba5465e5a3",
   "metadata": {},
   "source": [
    "### La fréquence inverse de document"
   ]
  },
  {
   "cell_type": "markdown",
   "id": "3ceac91f-513a-415e-84d1-bd4be6c2861f",
   "metadata": {},
   "source": [
    "La mesure IDF est régie par la formule ci-dessous dans sa variante non lissée :\n",
    "\n",
    "$$\n",
    "\\text{IDF}(t) = \\ln{\\frac{N}{\\text{df}(t)}}\n",
    "$$\n",
    "\n",
    "Sachant que $N$ est le nombre total de documents (3) dans le corpus et $\\text{df}(t)$ le nombre de documents où le terme *devoirs* apparaît (2), quel est son IDF ?"
   ]
  },
  {
   "cell_type": "markdown",
   "id": "f0193309-7c3a-47f5-af52-91406651ff91",
   "metadata": {},
   "source": [
    "**Réponse :**"
   ]
  },
  {
   "cell_type": "markdown",
   "id": "d62b17b5-1b63-40df-88e3-dd04e9d92caf",
   "metadata": {},
   "source": [
    "### Calcul du TF-IDF"
   ]
  },
  {
   "cell_type": "markdown",
   "id": "a8a00a50-212f-4f53-9ef6-ad013883e54d",
   "metadata": {},
   "source": [
    "Il reste maintenant à appliquer la formule pour chaque document du corpus :\n",
    "\n",
    "$$\n",
    "\\text{TF-IDF}(t, d) = \\text{TF} \\cdot \\text{IDF}\n",
    "$$"
   ]
  },
  {
   "cell_type": "markdown",
   "id": "202475e2-b141-43ba-a315-e2bac12936d7",
   "metadata": {},
   "source": [
    "**Réponse :**"
   ]
  },
  {
   "cell_type": "markdown",
   "id": "913d1044-ed2d-42d9-a031-2d13d2328bf1",
   "metadata": {},
   "source": [
    "Des scores négatifs signifient que le mot est sur-représenté dans les documents, mais notre interprétation doit être soumise à caution car le corpus est extrêmement restreint."
   ]
  },
  {
   "cell_type": "markdown",
   "id": "5073613c-1c84-4cc0-8e51-a55c35513a64",
   "metadata": {},
   "source": [
    "## Pondération de la matrice d’occurrences"
   ]
  },
  {
   "cell_type": "markdown",
   "id": "de95cc27-c1b6-4f77-ab30-c17301a651d2",
   "metadata": {},
   "source": [
    "Vous pouvez mettre à profit les structures de *Numpy* pour calculer la pondération TF-IDF directement. Commencez par calculer le nombre de documents dans une variable `N` grâce à la propriété `.shape` :"
   ]
  },
  {
   "cell_type": "code",
   "execution_count": null,
   "id": "b5a3a5d1-6893-47cd-8d8a-9fda9fab48f2",
   "metadata": {},
   "outputs": [],
   "source": [
    "# your code here"
   ]
  },
  {
   "cell_type": "markdown",
   "id": "feed18b1-a2a9-4474-a9f0-4d9426857347",
   "metadata": {},
   "source": [
    "Divisez ensuite l’objet `matrix` par le nombre des termes dans chaque document. Vous pouvez obtenir ce résultat en utilisant la méthode `.sum()` avec le paramètre `axis=1`. Pensez à rajouter le paramètre `keepdims=True` afin de vous assurer que le résultat sera bien diffusé dans toute la matrice. Enregistrez le résultat dans un objet `tf` :"
   ]
  },
  {
   "cell_type": "code",
   "execution_count": null,
   "id": "2be1ae28-eb13-4045-b12f-dd557bdcc0cc",
   "metadata": {},
   "outputs": [],
   "source": [
    "# your code here\n",
    "\n",
    "\n",
    "\n",
    "# should print the TF score of token 'devoirs'\n",
    "display(tf[:, idx_devoirs])"
   ]
  },
  {
   "cell_type": "markdown",
   "id": "143a1521-b17b-4bb9-a9f7-8dc27312ee65",
   "metadata": {},
   "source": [
    "Constituez une autre matrice `df` pour le nombre de documents dans lesquels chaque terme apparaît :"
   ]
  },
  {
   "cell_type": "code",
   "execution_count": null,
   "id": "dff371c8-efb7-418e-9b39-721fc866f8d2",
   "metadata": {},
   "outputs": [],
   "source": [
    "# your code here\n",
    "\n",
    "\n",
    "\n",
    "# should print '2'\n",
    "display(df[idx_devoirs])"
   ]
  },
  {
   "cell_type": "markdown",
   "id": "a5fcb6ca-94f7-4776-930c-f766ed747005",
   "metadata": {},
   "source": [
    "Calculez désormais dans un objet `idf` le coefficient IDF grâce à la méthode `.log()` :"
   ]
  },
  {
   "cell_type": "code",
   "execution_count": null,
   "id": "d8289099-d689-41d9-9894-d4ce3655be67",
   "metadata": {},
   "outputs": [],
   "source": [
    "# your code here\n",
    "\n",
    "\n",
    "\n",
    "# should print the IDF of 'devoirs'\n",
    "display(idf[idx_devoirs])"
   ]
  },
  {
   "cell_type": "markdown",
   "id": "87e4e143-ead2-4308-9cdd-ef89c522f437",
   "metadata": {},
   "source": [
    "Enfin, calculez le TF-IDF dans une matrice `tfidf` :"
   ]
  },
  {
   "cell_type": "code",
   "execution_count": null,
   "id": "d3f87f86-4bbb-42fa-a5f8-603ee45de73b",
   "metadata": {},
   "outputs": [],
   "source": [
    "# your code here\n",
    "\n",
    "\n",
    "\n",
    "# should display the TF-IDF for 'devoirs'\n",
    "display(tfidf_df.devoirs)"
   ]
  }
 ],
 "metadata": {
  "kernelspec": {
   "display_name": "Python 3 (ipykernel)",
   "language": "python",
   "name": "python3"
  },
  "language_info": {
   "codemirror_mode": {
    "name": "ipython",
    "version": 3
   },
   "file_extension": ".py",
   "mimetype": "text/x-python",
   "name": "python",
   "nbconvert_exporter": "python",
   "pygments_lexer": "ipython3",
   "version": "3.11.10"
  }
 },
 "nbformat": 4,
 "nbformat_minor": 5
}
