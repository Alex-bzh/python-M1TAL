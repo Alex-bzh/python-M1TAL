{
 "cells": [
  {
   "cell_type": "markdown",
   "metadata": {},
   "source": [
    "# Les structures de contrôle"
   ]
  },
  {
   "cell_type": "markdown",
   "metadata": {},
   "source": [
    "## Les structures conditionnelles"
   ]
  },
  {
   "cell_type": "markdown",
   "metadata": {},
   "source": [
    "### Le jeu des prénoms"
   ]
  },
  {
   "cell_type": "markdown",
   "metadata": {},
   "source": [
    "Concevez un programme qui détermine si une valeur entrée par un utilisateur est présente dans une liste prédéterminée de prénoms. Si le nom ne fait pas partie de la liste, inviter l'utilisateur à l'enregistrer, puis retournez la liste modifiée.\n",
    "\n",
    "Pour afficher un prompt, utilisez le bout de code suivant :\n",
    "```\n",
    "prenom = raw_input(\"Veuillez renseigner un prénom.\\n\")\n",
    "```"
   ]
  },
  {
   "cell_type": "code",
   "execution_count": null,
   "metadata": {},
   "outputs": [],
   "source": [
    "prenoms = [\"Sheldon\", \"Amy\", \"Howard\", \"Leonard\", \"Rajesh\", \"Penny\"]\n",
    "# Le reste de votre code ici\n",
    "prenom = raw_input(\"Veuillez renseigner un prénom.\\n\")\n",
    "if prenom not in prenoms:\n",
    "    prenoms.append(prenom)\n",
    "print prenoms"
   ]
  },
  {
   "cell_type": "markdown",
   "metadata": {},
   "source": [
    "### Le jeu du mentaliste"
   ]
  },
  {
   "cell_type": "markdown",
   "metadata": {},
   "source": [
    "Concevez un programme dans lequel l'ordinateur va choisir au hasard une valeur dans une liste prédéterminée, puis demandera ensuite à l'utilisateur de la deviner."
   ]
  },
  {
   "cell_type": "code",
   "execution_count": null,
   "metadata": {},
   "outputs": [],
   "source": [
    "# Importer la fonction qui génère des nombres aléatoires\n",
    "from random import randint\n",
    "\n",
    "# Dresser une liste d'éléments\n",
    "personnages = [\"Tyrion\", \"Tywin\", \"Cersei\", \"Jaime\"]\n",
    "\n",
    "# Afficher la liste des personnages à l'utilisateur\n",
    "print(\"La famille Lannister se compose de :\", \", \".join(personnages))\n",
    "\n",
    "# Procéder au choix de l'ordinateur\n",
    "ia = personnages[randint(0, len(personnages)-1)]\n",
    "\n",
    "# Demander à l'utilisateur de choisir une valeur\n",
    "ih = input(\"Quel est votre Lannister préféré ?\\n\")\n",
    "\n",
    "# Afficher un message à l'utilisateur\n",
    "if ia == ih:\n",
    "    print(\"C’est également le personnage préféré de votre ordinateur !\")\n",
    "else:\n",
    "    print(\"Persévérez, vous finirez bien par comprendre quelque chose aux machines…\")"
   ]
  },
  {
   "cell_type": "markdown",
   "metadata": {},
   "source": [
    "### Le jeu de cartes"
   ]
  },
  {
   "cell_type": "markdown",
   "metadata": {},
   "source": [
    "Écrivez un programme qui propose à un utilisateur de penser à une valeur issue d'un jeu de 32 cartes, puis qui devine en trois coups maximum son tirage."
   ]
  },
  {
   "cell_type": "code",
   "execution_count": null,
   "metadata": {},
   "outputs": [],
   "source": [
    "# Votre code ici.\n",
    "print \"Pensez à une carte issue d'un jeu à 32 cartes. Les figures : Valet, Dame, Roi, As. Les cartes à valeurs numériques : 7, 8, 9 et 10.\"\n",
    "test = raw_input(\"Votre carte représente-t-elle une figure ? (o/n)\\n\")\n",
    "# C'est une figure\n",
    "if test == \"o\":\n",
    "    test = raw_input(\"La figure est-elle masculine ? (o/n)\\n\")\n",
    "    # Figure masculine\n",
    "    if test == \"o\":\n",
    "        test = raw_input(\"Est-ce la valet ? (o/n)\\n\")\n",
    "        if test == \"o\":\n",
    "            print \"La carte à laquelle vous avez pensé est le Valet.\"\n",
    "        else:\n",
    "            print \"La carte à laquelle vous avez pensé est le Roi.\"\n",
    "    # Figure non masculine\n",
    "    else:\n",
    "        test = raw_input(\"Est-ce la Dame ? (o/n)\\n\")\n",
    "        if test == \"o\":\n",
    "            print \"La carte à laquelle vous avez pensé est la Dame.\"\n",
    "        else:\n",
    "            print \"La carte à laquelle vous avez pensé est l'As.\"\n",
    "# Ce n'est pas une figure (7,8,9 ou 10)\n",
    "else:\n",
    "    test = raw_input(\"Est-ce une valeur paire ? (o/n)\\n\")\n",
    "    if test == \"o\":\n",
    "        test = raw_input(\"Est-ce le 8 ? (o/n)\\n\")\n",
    "        if test == \"o\":\n",
    "            print \"La carte à laquelle vous avez pensé est le 8.\"\n",
    "        else:\n",
    "            print \"La carte à laquelle vous avez pensé est le 10.\"\n",
    "    else:\n",
    "        test = raw_input(\"Est-ce le 7 ? (o/n)\\n\")\n",
    "        if test == \"o\":\n",
    "            print \"La carte à laquelle vous avez pensé est le 7.\"\n",
    "        else:\n",
    "            print \"La carte à laquelle vous avez pensé est le 9.\""
   ]
  },
  {
   "cell_type": "markdown",
   "metadata": {},
   "source": [
    "## Les structures itératives"
   ]
  },
  {
   "cell_type": "markdown",
   "metadata": {},
   "source": [
    "### La logique de boucle `for`"
   ]
  },
  {
   "cell_type": "markdown",
   "metadata": {},
   "source": [
    "Écrivez un programme qui liste les dix premiers multiples de trois."
   ]
  },
  {
   "cell_type": "code",
   "execution_count": null,
   "metadata": {},
   "outputs": [],
   "source": [
    "# Votre code ici\n",
    "cpt = 0\n",
    "for n in range(1,100):\n",
    "    if not n%3:\n",
    "        print n\n",
    "        cpt += 1\n",
    "        if cpt == 10:\n",
    "            break;"
   ]
  },
  {
   "cell_type": "markdown",
   "metadata": {},
   "source": [
    "### La suite de Fibonacci"
   ]
  },
  {
   "cell_type": "markdown",
   "metadata": {},
   "source": [
    "Le bout de code ci-dessous affiche les quinze premiers éléments de la suite de Fibonacci, grâce à une boucle `while` :"
   ]
  },
  {
   "cell_type": "code",
   "execution_count": null,
   "metadata": {},
   "outputs": [],
   "source": [
    "a, b, c = 1, 1, 0\n",
    "while c < 15:\n",
    "    print b,\n",
    "    a, b, c = b, a + b, c + 1"
   ]
  },
  {
   "cell_type": "markdown",
   "metadata": {},
   "source": [
    "Transformez le code pour une utilisation avec une boucle `for`."
   ]
  },
  {
   "cell_type": "code",
   "execution_count": null,
   "metadata": {},
   "outputs": [],
   "source": [
    "# Votre code ici\n",
    "a, b = 1, 1\n",
    "for cpt in range(15):\n",
    "    print b,\n",
    "    a, b = b, a + b"
   ]
  },
  {
   "cell_type": "markdown",
   "metadata": {},
   "source": [
    "### L'homme qui a vu l'ours"
   ]
  },
  {
   "cell_type": "markdown",
   "metadata": {},
   "source": [
    "Écrivez un programme qui imprime exactement la phrase suivante : \"L'homme qui a vu l'homme qui a vu l'homme qui a vu l'homme qui a vu l'homme qui a vu l'homme qui a vu l'homme qui a vu l'homme qui a vu l'homme qui a vu l'homme qui a vu l'ours.\""
   ]
  },
  {
   "cell_type": "code",
   "execution_count": null,
   "metadata": {},
   "outputs": [],
   "source": [
    "# Votre code ici\n",
    "temoin = \"L'homme qui a vu l'homme qui a vu l'homme qui a vu l'homme qui a vu l'homme qui a vu l'homme qui a vu l'homme qui a vu l'homme qui a vu l'homme qui a vu l'homme qui a vu l'ours.\"\n",
    "chaine = \"L'homme qui a vu l'ours.\"\n",
    "while chaine != temoin:\n",
    "    chaine = chaine.replace(\"ours\", \"homme qui a vu l'ours\")\n",
    "print chaine"
   ]
  },
  {
   "cell_type": "markdown",
   "metadata": {},
   "source": [
    "### Le jeu du mentaliste (version améliorée)"
   ]
  },
  {
   "cell_type": "markdown",
   "metadata": {},
   "source": [
    "Améliorez la précédente version du jeu du mentaliste de telle manière que le script ne s’arrête qu’une fois la bonne réponse trouvée. Et pour aller encore plus loin, évaluez la performance de l'utilisateur (ex : s'il a trouvé du premier coup ou après plus de tentatives qu'il n'y a de possibilités de réponse…)"
   ]
  },
  {
   "cell_type": "code",
   "execution_count": null,
   "metadata": {},
   "outputs": [],
   "source": [
    "# Importer la fonction qui génère des nombres aléatoires\n",
    "from random import randint\n",
    "\n",
    "# Dresser une liste d'éléments\n",
    "personnages = [\"Tyrion\", \"Tywin\", \"Cersei\", \"Jaime\"]\n",
    "\n",
    "# Afficher la liste des personnages à l'utilisateur\n",
    "print(\"La famille Lannister se compose de :\", \", \".join(personnages))\n",
    "\n",
    "# Procéder au choix de l'ordinateur\n",
    "ia = personnages[randint(0, len(personnages)-1)]\n",
    "\n",
    "# Pour passer le test, on suppose que l'utilisateur n'a pas deviné juste\n",
    "ih = False\n",
    "\n",
    "# Compteur du nombre de tentatives\n",
    "cpt = 0\n",
    "\n",
    "# Tant que l'utilisateur n'a pas trouvé la bonne valeur…\n",
    "while ih != ia:\n",
    "    # … afficher un message d'encouragement s'il n'en est pas à sa première tentative\n",
    "    if cpt > 0:\n",
    "        print(\"Persévérez, vous finirez bien par comprendre quelque chose aux machines…\")\n",
    "    # … et lui demander d'entrer sa réponse\n",
    "    ih = input(\"Quel est votre Lannister préféré ?\\n\")\n",
    "    # +1 au compteur\n",
    "    cpt += 1\n",
    "\n",
    "# Messages de félicitations\n",
    "if cpt == 1:\n",
    "    print(\"Bravo, du 1er coup ! Une grande complicité est en train de se nouer avec votre ordinateur…\")\n",
    "elif cpt <= len(personnages)/2:\n",
    "    print(\"C’est la bonne réponse ! Vous avez sans doute une belle carrière de mentaliste devant vous, persévérez !\")\n",
    "elif cpt <= len(personnages):\n",
    "    print(\"C’est ça ! Quelques efforts à fournir, mais vous êtes sur la bonne voie !\")\n",
    "else:\n",
    "    print(\"Bon, je ne vais pas vous jouer de la flûte, il y avait seulement {} possibilités et vous avez tenté {} fois votre chance…\".format(len(personnages),cpt))"
   ]
  },
  {
   "cell_type": "markdown",
   "metadata": {},
   "source": [
    "### Un premier menu"
   ]
  },
  {
   "cell_type": "markdown",
   "metadata": {},
   "source": [
    "Concevez un programme qui demande à l'utilisateur de sélectionner entre trois options (1, 2 ou 3). Le programme doit vérifier que la saisie est valide et orienter vers la bonne option."
   ]
  },
  {
   "cell_type": "code",
   "execution_count": null,
   "metadata": {},
   "outputs": [],
   "source": [
    "# Menu de sélection\n",
    "print \"Bienvenue dans l'univers de la série 'The Big Bang Theory'\"\n",
    "print \"Menu de navigation :\"\n",
    "print \"1. Les personnages de la série\"\n",
    "print \"2. Tout sur les lieux qu'ils fréquentent\"\n",
    "print \"3. Les secrets des tournages\"\n",
    "# Votre code ici\n",
    "saisie = 0\n",
    "while saisie not in [\"1\", \"2\", \"3\"]:\n",
    "    saisie = raw_input(\"Veuillez choisir une option valide (1, 2 ou 3)\\n\")\n",
    "print \"Vous avez sélectionné l'option {}\".format(saisie)"
   ]
  }
 ],
 "metadata": {
  "anaconda-cloud": {},
  "kernelspec": {
   "display_name": "Python 3",
   "language": "python",
   "name": "python3"
  },
  "language_info": {
   "codemirror_mode": {
    "name": "ipython",
    "version": 3
   },
   "file_extension": ".py",
   "mimetype": "text/x-python",
   "name": "python",
   "nbconvert_exporter": "python",
   "pygments_lexer": "ipython3",
   "version": "3.6.6"
  }
 },
 "nbformat": 4,
 "nbformat_minor": 1
}
