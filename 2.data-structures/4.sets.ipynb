{
 "cells": [
  {
   "cell_type": "markdown",
   "metadata": {
    "slideshow": {
     "slide_type": "slide"
    }
   },
   "source": [
    "# Les ensembles"
   ]
  },
  {
   "cell_type": "markdown",
   "metadata": {
    "slideshow": {
     "slide_type": "slide"
    }
   },
   "source": [
    "## Présentation\n",
    "\n",
    "Les ensembles, en Python, constituent la troisième arme pour manipuler des collections de données. Ils sont à mi-chemin entre les listes et les dictionnaires.\n",
    "\n",
    "|Objet|Mutabilité|Ordonné|Accès atomique|\n",
    "|:-|:-:|:-:|:-:|\n",
    "|Liste|Oui|Oui|Indice|\n",
    "|Dictionnaire|Oui|Non|Clé|\n",
    "|Ensemble|Oui|Non|–|\n",
    "\n",
    "Oui, un ensemble est un objet mutable mais, non, l’accès atomique est impossible. Après tout, un ensemble, c’est un ensemble : on le prend tel quel avec tout ce qu’il contient."
   ]
  },
  {
   "cell_type": "markdown",
   "metadata": {
    "slideshow": {
     "slide_type": "subslide"
    }
   },
   "source": [
    "À quoi servent les ensembles alors ?\n",
    "\n",
    "Déjà, l’une de leurs forces est d’effectuer *de facto* un dédoublonnage des données. On obtient un ensemble d’objects uniques à partir de n’importe quelle liste grâce à une simple transformation de type.\n",
    "\n",
    "Ensuite, les ensembles amènent avec eux un lot d’outils pour exécuter des opérations… ensemblistes ! Des opérations comme $A \\cup B$ ou $A \\cap B$ qui facilitent nettement les comparaisons entre deux sommes de données."
   ]
  },
  {
   "cell_type": "markdown",
   "metadata": {
    "slideshow": {
     "slide_type": "slide"
    }
   },
   "source": [
    "## Manipuler des ensembles\n",
    "\n",
    "### Créer un ensemble\n",
    "\n",
    "La création d’un ensemble se fait soit par la fonction `set()` avec un objet de type liste en argument, soit *in extenso* avec les accolades `{}` et des virgules pour séparer les éléments."
   ]
  },
  {
   "cell_type": "code",
   "execution_count": null,
   "metadata": {
    "slideshow": {
     "slide_type": "-"
    }
   },
   "outputs": [],
   "source": [
    "lannister = set(['Cersei', 'Jaime', 'Tyrion', 'Sansa'])\n",
    "stark = {'Arya', 'Sansa', 'John'}"
   ]
  },
  {
   "cell_type": "code",
   "execution_count": null,
   "metadata": {
    "slideshow": {
     "slide_type": "-"
    }
   },
   "outputs": [],
   "source": [
    "print(type(lannister), type(stark))"
   ]
  },
  {
   "cell_type": "markdown",
   "metadata": {
    "slideshow": {
     "slide_type": "subslide"
    }
   },
   "source": [
    "### Ajouter un élément\n",
    "\n",
    "On procède soit avec la méthode `update()`, héritée des dictionnaires, qui accepte en argument un sous-ensemble, soit avec la méthode `add()` qui ne prend alors qu’un seul élément à la fois :"
   ]
  },
  {
   "cell_type": "code",
   "execution_count": null,
   "metadata": {
    "slideshow": {
     "slide_type": "-"
    }
   },
   "outputs": [],
   "source": [
    "lannister.add('Joffrey')\n",
    "stark.update({'Eddard', 'Brandon', 'Bran'})"
   ]
  },
  {
   "cell_type": "markdown",
   "metadata": {
    "slideshow": {
     "slide_type": "subslide"
    }
   },
   "source": [
    "### Supprimer un élément\n",
    "\n",
    "Il existe plusieurs méthodes pour supprimer un élément, et chacune répond à un besoin particulier :\n",
    "- `discard()` : pour supprimer un élément particulier ;\n",
    "- `remove()` : idem, sauf qu’une exception est levée si l’élément est introuvable ;\n",
    "- `pop()` : pour supprimer et renvoyer aléatoirement un élément de l’ensemble ;\n",
    "- `clear()` : pour vider entièrement l’ensemble."
   ]
  },
  {
   "cell_type": "markdown",
   "metadata": {
    "slideshow": {
     "slide_type": "slide"
    }
   },
   "source": [
    "## Opérations ensemblistes\n",
    "\n",
    "Les opérations sont héritées de la théorie mathématique des ensembles. Elles utilisent des symboles mais sont également disponibles à l’aide de méthodes nommées. Par exemple, pour effectuer une union entre deux ensembles, on utilisera indifféremment :\n",
    "```python\n",
    "A | B\n",
    "A.union(B)\n",
    "```\n",
    "Le résultat des opérations sera toujours de type `set()`, garantissant l’unicité des éléments présents dans la collection."
   ]
  },
  {
   "cell_type": "markdown",
   "metadata": {
    "slideshow": {
     "slide_type": "subslide"
    }
   },
   "source": [
    "### Union\n",
    "\n",
    "Les maisons Lannister et Stark se réunissent sous une même bannière :"
   ]
  },
  {
   "cell_type": "code",
   "execution_count": null,
   "metadata": {
    "slideshow": {
     "slide_type": "-"
    }
   },
   "outputs": [],
   "source": [
    "# Sansa was married to Tyrion, so she should appears two times.\n",
    "# But the result is a set, a collection of unique items!\n",
    "lannister | stark\n",
    "lannister.union(stark)"
   ]
  },
  {
   "cell_type": "markdown",
   "metadata": {
    "slideshow": {
     "slide_type": "subslide"
    }
   },
   "source": [
    "### Intersection\n",
    "\n",
    "Comme on a marié Sansa à Tyrion, elle appartient aux deux maisons :"
   ]
  },
  {
   "cell_type": "code",
   "execution_count": null,
   "metadata": {
    "slideshow": {
     "slide_type": "-"
    }
   },
   "outputs": [],
   "source": [
    "lannister & stark\n",
    "lannister.intersection(stark)"
   ]
  },
  {
   "cell_type": "markdown",
   "metadata": {
    "slideshow": {
     "slide_type": "subslide"
    }
   },
   "source": [
    "### Différence\n",
    "\n",
    "Quels membres de la maison Lannister n’ont jamais eu aucun lien marital avec un Stark ? Attention, le résultat est différent si la question devient : quels membres de la maison Stark n’ont jamais eu aucun lien marital avec un Lannister ?"
   ]
  },
  {
   "cell_type": "code",
   "execution_count": null,
   "metadata": {
    "slideshow": {
     "slide_type": "-"
    }
   },
   "outputs": [],
   "source": [
    "lannister - stark\n",
    "stark.difference(lannister)"
   ]
  },
  {
   "cell_type": "markdown",
   "metadata": {
    "slideshow": {
     "slide_type": "subslide"
    }
   },
   "source": [
    "### Différence symétrique\n",
    "\n",
    "Elle répond aux deux questions précédentes, à savoir qui, chez les deux familles, n’a eu de lien marital avec aucun membre de l’autre.\n",
    "\n",
    "Du point de vue mathématique, on a une union de deux différences : $A \\Delta B = (A - B) \\cup (B - A)$"
   ]
  },
  {
   "cell_type": "code",
   "execution_count": null,
   "metadata": {
    "slideshow": {
     "slide_type": "-"
    }
   },
   "outputs": [],
   "source": [
    "lannister ^ stark\n",
    "lannister.symmetric_difference(stark)"
   ]
  },
  {
   "cell_type": "markdown",
   "metadata": {
    "slideshow": {
     "slide_type": "subslide"
    }
   },
   "source": [
    "### Tests ensemblistes\n",
    "\n",
    "Est-ce que le couple Robert-Cersei appartient à la maison Stark ?"
   ]
  },
  {
   "cell_type": "code",
   "execution_count": null,
   "metadata": {
    "slideshow": {
     "slide_type": "-"
    }
   },
   "outputs": [],
   "source": [
    "{'Robert', 'Cersei'} <= lannister\n",
    "{'Robert', 'Cersei'}.issubset(lannister)"
   ]
  },
  {
   "cell_type": "markdown",
   "metadata": {
    "slideshow": {
     "slide_type": "fragment"
    }
   },
   "source": [
    "Dans la famille Lannister, je voudrais le couple Tyrion-Sansa :"
   ]
  },
  {
   "cell_type": "code",
   "execution_count": null,
   "metadata": {
    "slideshow": {
     "slide_type": "-"
    }
   },
   "outputs": [],
   "source": [
    "# similar to: {'Tyrion', 'Sansa'} <= lannister\n",
    "lannister >= {'Tyrion', 'Sansa'}\n",
    "lannister.issuperset({'Tyrion', 'Sansa'})"
   ]
  },
  {
   "cell_type": "markdown",
   "metadata": {
    "slideshow": {
     "slide_type": "subslide"
    }
   },
   "source": [
    "Les deux familles n’ont-elles jamais vu d’unions entre elles ?"
   ]
  },
  {
   "cell_type": "code",
   "execution_count": null,
   "metadata": {
    "slideshow": {
     "slide_type": "-"
    }
   },
   "outputs": [],
   "source": [
    "lannister.isdisjoint(stark)"
   ]
  },
  {
   "cell_type": "markdown",
   "metadata": {},
   "source": [
    "L’opération revient à se demander si le résultat d’une intersection renvoie un ensemble vide ou non : $A \\cap B = \\emptyset$"
   ]
  },
  {
   "cell_type": "markdown",
   "metadata": {
    "slideshow": {
     "slide_type": "slide"
    }
   },
   "source": [
    "## Techniques courantes\n",
    "\n",
    "### Cardinalité\n",
    "\n",
    "Comme pour d’autres structures de données, la fonction `len()` renvoie le nombre d’éléments présents dans l’ensemble :"
   ]
  },
  {
   "cell_type": "code",
   "execution_count": null,
   "metadata": {
    "slideshow": {
     "slide_type": "-"
    }
   },
   "outputs": [],
   "source": [
    "len(lannister)"
   ]
  },
  {
   "cell_type": "markdown",
   "metadata": {
    "slideshow": {
     "slide_type": "fragment"
    }
   },
   "source": [
    "### Test d’appartenance\n",
    "\n",
    "L’opérateur `in` est également fonctionnel avec les ensembles. Et contrairement aux listes, le test s’effectue en temps constant."
   ]
  },
  {
   "cell_type": "code",
   "execution_count": null,
   "metadata": {
    "slideshow": {
     "slide_type": "-"
    }
   },
   "outputs": [],
   "source": [
    "'Tommen' in lannister"
   ]
  },
  {
   "cell_type": "markdown",
   "metadata": {
    "slideshow": {
     "slide_type": "subslide"
    }
   },
   "source": [
    "### Opérations sur plus de deux ensembles\n",
    "\n",
    "Certaines questions impliquant plus de deux ensembles peuvent se régler en enchaînant les opérateurs. C’est le cas de l’union, de la différence et de l’intersection.\n",
    "\n",
    "Ajoutons la maison Bolton aux côtés des Lannister et des Stark :"
   ]
  },
  {
   "cell_type": "code",
   "execution_count": null,
   "metadata": {
    "slideshow": {
     "slide_type": "-"
    }
   },
   "outputs": [],
   "source": [
    "bolton = {'Sansa', 'Ramsay', 'Roose'}"
   ]
  },
  {
   "cell_type": "markdown",
   "metadata": {
    "slideshow": {
     "slide_type": "subslide"
    }
   },
   "source": [
    "Réunissons-les sur un champ de bataille pour une grande boucherie :"
   ]
  },
  {
   "cell_type": "code",
   "execution_count": null,
   "metadata": {
    "slideshow": {
     "slide_type": "-"
    }
   },
   "outputs": [],
   "source": [
    "lannister | stark | bolton"
   ]
  },
  {
   "cell_type": "markdown",
   "metadata": {
    "slideshow": {
     "slide_type": "fragment"
    }
   },
   "source": [
    "Vérifions si un membre de ces familles ne serait pas apparenté aux trois :"
   ]
  },
  {
   "cell_type": "code",
   "execution_count": null,
   "metadata": {
    "slideshow": {
     "slide_type": "-"
    }
   },
   "outputs": [],
   "source": [
    "lannister & stark & bolton"
   ]
  },
  {
   "cell_type": "markdown",
   "metadata": {
    "slideshow": {
     "slide_type": "fragment"
    }
   },
   "source": [
    "Qui, de la maison Lannister, ne sait jamais uni à aucun membre des deux autres ?"
   ]
  },
  {
   "cell_type": "code",
   "execution_count": null,
   "metadata": {
    "slideshow": {
     "slide_type": "-"
    }
   },
   "outputs": [],
   "source": [
    "lannister - stark - bolton"
   ]
  },
  {
   "cell_type": "markdown",
   "metadata": {
    "slideshow": {
     "slide_type": "subslide"
    }
   },
   "source": [
    "Plus compliquée à présent, la question est d’identifier les membres qui n’ont aucun lien avec les autres familles. Cela revient à réaliser l’union de toutes leurs différences :\n",
    "\n",
    "$((A - B) \\cup (B - A)) \\cup ((A - C) \\cup (C - A)) \\cup ((B - C) \\cup (C - B))$"
   ]
  },
  {
   "cell_type": "code",
   "execution_count": null,
   "metadata": {
    "slideshow": {
     "slide_type": "-"
    }
   },
   "outputs": [],
   "source": [
    "(\n",
    "    (lannister - stark) | (stark - lannister)\n",
    ") | (\n",
    "    (lannister - bolton) | (bolton - lannister)\n",
    ") | (\n",
    "    (stark - bolton) | (bolton - stark)\n",
    ")"
   ]
  },
  {
   "cell_type": "markdown",
   "metadata": {
    "slideshow": {
     "slide_type": "subslide"
    }
   },
   "source": [
    "Cette technique se révèle un peu fastidieuse. Si vous faites attention, vous remarquez sans doute une séquence que l’on a déjà vue et qui se répète autant de fois qu’il y a d’ensembles. Il s’agit de la structure $(X-Y) \\cup (Y-X)$ qui est équivalente à l’opération de la différence symétrique $X \\Delta Y$.\n",
    "\n",
    "En effectuant les remplacements, on obtient une formule bien plus courte :"
   ]
  },
  {
   "cell_type": "code",
   "execution_count": null,
   "metadata": {
    "slideshow": {
     "slide_type": "-"
    }
   },
   "outputs": [],
   "source": [
    "lannister ^ stark | lannister ^ bolton | stark ^ bolton"
   ]
  }
 ],
 "metadata": {
  "celltoolbar": "Diaporama",
  "kernelspec": {
   "display_name": "Python 3",
   "language": "python",
   "name": "python3"
  },
  "language_info": {
   "codemirror_mode": {
    "name": "ipython",
    "version": 3
   },
   "file_extension": ".py",
   "mimetype": "text/x-python",
   "name": "python",
   "nbconvert_exporter": "python",
   "pygments_lexer": "ipython3",
   "version": "3.8.0"
  }
 },
 "nbformat": 4,
 "nbformat_minor": 4
}
