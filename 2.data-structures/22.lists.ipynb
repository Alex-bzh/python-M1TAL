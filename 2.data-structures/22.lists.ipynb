{
 "cells": [
  {
   "cell_type": "markdown",
   "metadata": {
    "slideshow": {
     "slide_type": "slide"
    }
   },
   "source": [
    "# Les listes"
   ]
  },
  {
   "cell_type": "markdown",
   "metadata": {
    "slideshow": {
     "slide_type": "slide"
    }
   },
   "source": [
    "## Définition\n",
    "\n",
    "Collection d’objets hétéroclites, séparés entre eux par une virgule, et délimitée par des crochets :"
   ]
  },
  {
   "cell_type": "code",
   "execution_count": null,
   "metadata": {
    "slideshow": {
     "slide_type": "-"
    }
   },
   "outputs": [],
   "source": [
    "collection = [\"A Lannister\", [32, \"cheese\"], \"32\"]"
   ]
  },
  {
   "cell_type": "markdown",
   "metadata": {
    "slideshow": {
     "slide_type": "fragment"
    }
   },
   "source": [
    "Comme pour toute séquence, les éléments de la liste sont ordonnés et sont accessibles par leur indice :"
   ]
  },
  {
   "cell_type": "code",
   "execution_count": null,
   "metadata": {
    "slideshow": {
     "slide_type": "-"
    }
   },
   "outputs": [],
   "source": [
    "print(collection[1])\n",
    "print(collection[1][0])"
   ]
  },
  {
   "cell_type": "markdown",
   "metadata": {
    "slideshow": {
     "slide_type": "subslide"
    }
   },
   "source": [
    "Contrairement aux chaînes de caractères, les listes sont mutables, c’est-à-dire qu’elles peuvent être modifiées après création :"
   ]
  },
  {
   "cell_type": "code",
   "execution_count": null,
   "metadata": {
    "slideshow": {
     "slide_type": "-"
    }
   },
   "outputs": [],
   "source": [
    "collection[2] = \"32.0\"\n",
    "print(collection)"
   ]
  },
  {
   "cell_type": "markdown",
   "metadata": {
    "slideshow": {
     "slide_type": "slide"
    }
   },
   "source": [
    "## Manipulations\n",
    "\n",
    "Pour ajouter un élément en fin de liste, utiliser la méthode `append()` :"
   ]
  },
  {
   "cell_type": "code",
   "execution_count": null,
   "metadata": {
    "slideshow": {
     "slide_type": "-"
    }
   },
   "outputs": [],
   "source": [
    "words = [\"A\", \"Lannister\"]\n",
    "words.append(\"always\")\n",
    "print(words)"
   ]
  },
  {
   "cell_type": "markdown",
   "metadata": {
    "slideshow": {
     "slide_type": "fragment"
    }
   },
   "source": [
    "La méthode `extend()` réalise la même opération, à l’exception qu’elle le fait avec plusieurs éléments :"
   ]
  },
  {
   "cell_type": "code",
   "execution_count": null,
   "metadata": {
    "slideshow": {
     "slide_type": "-"
    }
   },
   "outputs": [],
   "source": [
    "words.extend([\"his\", \".\"])\n",
    "print(words)"
   ]
  },
  {
   "cell_type": "markdown",
   "metadata": {
    "slideshow": {
     "slide_type": "subslide"
    }
   },
   "source": [
    "Une autre possibilité passe par la méthode `insert()` en fournissant l’indice où insérer l’élément :"
   ]
  },
  {
   "cell_type": "code",
   "execution_count": null,
   "metadata": {
    "slideshow": {
     "slide_type": "-"
    }
   },
   "outputs": [],
   "source": [
    "words.insert(3, \"pays\")\n",
    "print(words)"
   ]
  },
  {
   "cell_type": "markdown",
   "metadata": {
    "slideshow": {
     "slide_type": "fragment"
    }
   },
   "source": [
    "Le même résultat est atteignable grâce au *slicing* :"
   ]
  },
  {
   "cell_type": "code",
   "execution_count": null,
   "metadata": {
    "slideshow": {
     "slide_type": "-"
    }
   },
   "outputs": [],
   "source": [
    "words[5:5] = [\"debts\"]\n",
    "print(words)"
   ]
  },
  {
   "cell_type": "markdown",
   "metadata": {
    "slideshow": {
     "slide_type": "subslide"
    }
   },
   "source": [
    "Pour au contraire supprimer un élément d’une liste, utiliser la méthode `pop()` avec l’indice de l’élément en question. Par défaut, la méthode retire le dernier élément :"
   ]
  },
  {
   "cell_type": "code",
   "execution_count": null,
   "metadata": {
    "slideshow": {
     "slide_type": "-"
    }
   },
   "outputs": [],
   "source": [
    "words.pop(2)\n",
    "words.pop()\n",
    "print(words)"
   ]
  },
  {
   "cell_type": "markdown",
   "metadata": {
    "slideshow": {
     "slide_type": "fragment"
    }
   },
   "source": [
    "La méthode `remove()` quant à elle supprime la première occurrence de l’élément recherché :"
   ]
  },
  {
   "cell_type": "code",
   "execution_count": null,
   "metadata": {
    "slideshow": {
     "slide_type": "-"
    }
   },
   "outputs": [],
   "source": [
    "words.remove(\"Lannister\")\n",
    "print(words)"
   ]
  },
  {
   "cell_type": "markdown",
   "metadata": {
    "slideshow": {
     "slide_type": "subslide"
    }
   },
   "source": [
    "Pour finir, la méthode `reverse()` renverse complètement la liste. Le même résultat est obtenu par la technique du *slicing*, à la différence que le *slicing* effectue une copie de la liste."
   ]
  },
  {
   "cell_type": "code",
   "execution_count": null,
   "metadata": {
    "slideshow": {
     "slide_type": "-"
    }
   },
   "outputs": [],
   "source": [
    "# The original list is not affected by the slicing\n",
    "print(words)\n",
    "print(words[::-1])\n",
    "print(words)\n",
    "\n",
    "# Yet the reverse() method substitutes items in place\n",
    "words.reverse()\n",
    "print(words)"
   ]
  },
  {
   "cell_type": "markdown",
   "metadata": {
    "slideshow": {
     "slide_type": "subslide"
    }
   },
   "source": [
    "### Remarques sur la concaténation de listes\n",
    "\n",
    "Il est possible d’ajouter des éléments à une liste en utilisant l’opérateur `+`. Dans la pratique, il n’est pas conseillé de l’utiliser, car la concaténation crée un nouvel objet au lieu de profiter du caractère **mutable** des listes. Il est beaucoup plus coûteux en temps machine de créer des nouveaux objets à chaque fois que l’on veut insérer un élément dans une liste. On va lui préférer la méthode `append()`."
   ]
  },
  {
   "cell_type": "markdown",
   "metadata": {
    "slideshow": {
     "slide_type": "slide"
    }
   },
   "source": [
    "## Techniques courantes sur les listes\n",
    "\n",
    "### Trier\n",
    "\n",
    "La méthode `sort()` effectue un tri en place, tandis que la fonction `sorted()` effectue une copie de la liste :"
   ]
  },
  {
   "cell_type": "code",
   "execution_count": null,
   "metadata": {
    "slideshow": {
     "slide_type": "-"
    }
   },
   "outputs": [],
   "source": [
    "a = [2, 4, 1]\n",
    "# Sorted but not affected to a variable\n",
    "sorted(a)\n",
    "print(a)\n",
    "\n",
    "# Sorted!\n",
    "a.sort()\n",
    "print(a)"
   ]
  },
  {
   "cell_type": "markdown",
   "metadata": {
    "slideshow": {
     "slide_type": "subslide"
    }
   },
   "source": [
    "### Calculs\n",
    "\n",
    "La méthode `count()` renvoie le nombre d’occurrences d’un élément passé en paramètres :"
   ]
  },
  {
   "cell_type": "code",
   "execution_count": null,
   "metadata": {
    "slideshow": {
     "slide_type": "-"
    }
   },
   "outputs": [],
   "source": [
    "words = [\"A\", \"good\", \"day\", \"is\", \"a\", \"day\", \"with\", \"coffee\", \".\"]\n",
    "words.count(\"day\")"
   ]
  },
  {
   "cell_type": "markdown",
   "metadata": {
    "slideshow": {
     "slide_type": "subslide"
    }
   },
   "source": [
    "Quelques autres fonctions utiles :\n",
    "- `len()` : renvoie le nombre d’éléments\n",
    "- `max()`: renvoie la valeur maximale\n",
    "- `min()`: renvoie la valeur minimale\n",
    "- `sum()` : renvoie la somme des valeurs de la liste"
   ]
  },
  {
   "cell_type": "code",
   "execution_count": null,
   "metadata": {
    "slideshow": {
     "slide_type": "-"
    }
   },
   "outputs": [],
   "source": [
    "print(len(a))\n",
    "print(max(a))\n",
    "print(min(a))\n",
    "print(sum(a))"
   ]
  },
  {
   "cell_type": "markdown",
   "metadata": {
    "slideshow": {
     "slide_type": "subslide"
    }
   },
   "source": [
    "### Dupliquer\n",
    "\n",
    "La méthode `copy()` effectue une copie de surface de la liste. Elle est équivalente au *slicing* `a[:]` :"
   ]
  },
  {
   "cell_type": "code",
   "execution_count": null,
   "metadata": {
    "slideshow": {
     "slide_type": "-"
    }
   },
   "outputs": [],
   "source": [
    "b = a.copy()\n",
    "c = a[:]\n",
    "print(b, c)"
   ]
  },
  {
   "cell_type": "markdown",
   "metadata": {
    "slideshow": {
     "slide_type": "subslide"
    }
   },
   "source": [
    "## Itération\n",
    "\n",
    "Une boucle `for` permet de parcourir chaque élément dans l’ordre d’insertion :"
   ]
  },
  {
   "cell_type": "code",
   "execution_count": null,
   "metadata": {
    "slideshow": {
     "slide_type": "-"
    }
   },
   "outputs": [],
   "source": [
    "words = [\"A\", \"Lannister\", \"always\", \"pays\", \"his\", \"debts.\"]\n",
    "for word in words:\n",
    "    print(word, end=\" \")"
   ]
  },
  {
   "cell_type": "markdown",
   "metadata": {
    "slideshow": {
     "slide_type": "subslide"
    }
   },
   "source": [
    "La fonction `enumerate()` associe l’élément à son indice dans un tuple :"
   ]
  },
  {
   "cell_type": "code",
   "execution_count": null,
   "metadata": {
    "slideshow": {
     "slide_type": "-"
    }
   },
   "outputs": [],
   "source": [
    "for word in enumerate(words):\n",
    "    print(word, end=\" \")"
   ]
  },
  {
   "cell_type": "markdown",
   "metadata": {
    "slideshow": {
     "slide_type": "fragment"
    }
   },
   "source": [
    "On peut tirer profit de ce comportement en désempilant les tuples (cf [*notebook* sur les tuples](23.tuples.ipynb#Accéder-à-un-élément-du-tuple)) :"
   ]
  },
  {
   "cell_type": "code",
   "execution_count": null,
   "metadata": {
    "slideshow": {
     "slide_type": "-"
    }
   },
   "outputs": [],
   "source": [
    "for idx, word in enumerate(words):\n",
    "    print(idx, word)"
   ]
  },
  {
   "cell_type": "markdown",
   "metadata": {
    "slideshow": {
     "slide_type": "subslide"
    }
   },
   "source": [
    "## Filtrer\n",
    "\n",
    "La fonction `filter()` prend en paramètre une fonction et l’applique à chaque élément d’une séquence. Elle est souvent plus simple à manipuler qu’une boucle `for` pour parvenir au bon résultat.\n",
    "\n",
    "Si par exemple dans une liste on souhaite repérer les mots de plus de trois caractères, on procéderait classiquement ainsi :"
   ]
  },
  {
   "cell_type": "code",
   "execution_count": null,
   "metadata": {
    "slideshow": {
     "slide_type": "-"
    }
   },
   "outputs": [],
   "source": [
    "results = []\n",
    "words = [\"A\", \"Lannister\", \"always\", \"pays\", \"his\", \"debts.\"]\n",
    "for word in words:\n",
    "    if len(word) > 3:\n",
    "        results.append(word)\n",
    "print(results)"
   ]
  },
  {
   "cell_type": "markdown",
   "metadata": {
    "slideshow": {
     "slide_type": "subslide"
    }
   },
   "source": [
    "Avec la fonction `filter()`, le résultat s’obtient plus rapidement :"
   ]
  },
  {
   "cell_type": "code",
   "execution_count": null,
   "metadata": {
    "slideshow": {
     "slide_type": "-"
    }
   },
   "outputs": [],
   "source": [
    "words = [\"A\", \"Lannister\", \"always\", \"pays\", \"his\", \"debts.\"]\n",
    "results = filter(lambda word:len(word) > 3, words)\n",
    "print(list(results))"
   ]
  },
  {
   "cell_type": "markdown",
   "metadata": {
    "slideshow": {
     "slide_type": "subslide"
    }
   },
   "source": [
    "### Obtenir des valeurs uniques\n",
    "\n",
    "Une liste étant une simple collection d’éléments hétéroclites, rien n’interdit la redondance d’information. Et lorsque cette redondance n’est pas pertinente, on peut retenir deux manières de la supprimer :\n",
    "- remplir une autre liste avec les valeurs uniques ;\n",
    "- transformer la liste en une collection d’éléments uniques."
   ]
  },
  {
   "cell_type": "code",
   "execution_count": null,
   "metadata": {
    "slideshow": {
     "slide_type": "-"
    }
   },
   "outputs": [],
   "source": [
    "# A list with redundant informations\n",
    "ingredients = ['spam', 'spam', 'spam', 'egg', 'spam', 'cheese', 'egg']"
   ]
  },
  {
   "cell_type": "markdown",
   "metadata": {
    "slideshow": {
     "slide_type": "subslide"
    }
   },
   "source": [
    "La première solution recourt à une condition :"
   ]
  },
  {
   "cell_type": "code",
   "execution_count": null,
   "metadata": {
    "slideshow": {
     "slide_type": "-"
    }
   },
   "outputs": [],
   "source": [
    "unique_ingredients = []\n",
    "\n",
    "for ingredient in ingredients:\n",
    "    if ingredient not in unique_ingredients:\n",
    "        unique_ingredients.append(ingredient)\n",
    "unique_ingredients"
   ]
  },
  {
   "cell_type": "markdown",
   "metadata": {
    "slideshow": {
     "slide_type": "fragment"
    }
   },
   "source": [
    "La deuxième solution met en œuvre une conversion de type, de la liste vers l’ensemble (`set`) :"
   ]
  },
  {
   "cell_type": "code",
   "execution_count": null,
   "metadata": {
    "slideshow": {
     "slide_type": "-"
    }
   },
   "outputs": [],
   "source": [
    "set(ingredients)"
   ]
  },
  {
   "cell_type": "markdown",
   "metadata": {
    "slideshow": {
     "slide_type": "subslide"
    }
   },
   "source": [
    "### Sélectionner une valeur aléatoirement\n",
    "\n",
    "Il n’est jamais de véritable hasard en informatique, mais certains algorithmes tendent à s’en rapprocher. En python, c’est le rôle du module `random`. Parmi toutes les méthodes disponibles, `choice()` permet de piocher un élément dans n’importe quelle séquence :"
   ]
  },
  {
   "cell_type": "code",
   "execution_count": null,
   "metadata": {
    "slideshow": {
     "slide_type": "-"
    }
   },
   "outputs": [],
   "source": [
    "from random import choice\n",
    "\n",
    "shifumi = ['pierre', 'papier', 'ciseaux']\n",
    "choice(shifumi)"
   ]
  }
 ],
 "metadata": {
  "celltoolbar": "Diaporama",
  "kernelspec": {
   "display_name": "Python 3",
   "language": "python",
   "name": "python3"
  },
  "language_info": {
   "codemirror_mode": {
    "name": "ipython",
    "version": 3
   },
   "file_extension": ".py",
   "mimetype": "text/x-python",
   "name": "python",
   "nbconvert_exporter": "python",
   "pygments_lexer": "ipython3",
   "version": "3.8.0"
  }
 },
 "nbformat": 4,
 "nbformat_minor": 1
}
