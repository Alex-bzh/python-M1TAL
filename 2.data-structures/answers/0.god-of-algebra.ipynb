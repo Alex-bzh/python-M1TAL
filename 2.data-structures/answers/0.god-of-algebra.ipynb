{
 "cells": [
  {
   "cell_type": "markdown",
   "metadata": {},
   "source": [
    "# Devenir un dieu de l’algèbre"
   ]
  },
  {
   "cell_type": "markdown",
   "metadata": {},
   "source": [
    "## Multiple de 3"
   ]
  },
  {
   "cell_type": "markdown",
   "metadata": {},
   "source": [
    "Écrivez-une fonction qui détermine si un nombre est un multiple de 3. La règle mathématique à retenir est qu’un nombre est multiple d’un autre si la division euclidienne par ce nombre renvoie un reste nul. Pour rappel, une division euclidienne, aussi appelée *division entière*, se résoud ainsi :\n",
    "\n",
    "$\\textrm{dividende} = \\textrm{diviseur} \\times \\textrm{quotient} + \\textrm{reste}$\n",
    "\n",
    "Dans la division euclidienne de 13 par 6, le reste n’est pas nul : 13 n’est donc pas un multiple de 6.\n",
    "\n",
    "$13 = 6 \\times 2 + 1 $\n",
    "\n",
    "Alors que dans la division euclidienne de 893 par 19, le reste est nul : 893 est un multiple de 19.\n",
    "\n",
    "$893 = 19 \\times 47 + 0 $\n",
    "\n",
    "Pour connaître le reste d’une division en Python, utiliser l’opérateur modulo `%`."
   ]
  },
  {
   "cell_type": "code",
   "execution_count": null,
   "metadata": {},
   "outputs": [],
   "source": [
    "# your code here\n",
    "\n",
    "def is_multiple(dividend):\n",
    "    \"\"\"Tests if an integer is divisible by 3.\n",
    "    \n",
    "    dividend -- int: the number to divide\n",
    "    \"\"\"\n",
    "    if not dividend % 3: return True\n",
    "    return False"
   ]
  },
  {
   "cell_type": "markdown",
   "metadata": {},
   "source": [
    "## Des multiples"
   ]
  },
  {
   "cell_type": "markdown",
   "metadata": {},
   "source": [
    "Améliorez à présent votre fonction afin de :\n",
    "- l’adapter à d’autres diviseurs que 3 ;\n",
    "- contraindre les types de données en entrée afin de ne diviser que des entiers."
   ]
  },
  {
   "cell_type": "code",
   "execution_count": null,
   "metadata": {},
   "outputs": [],
   "source": [
    "# your code here\n",
    "\n",
    "def is_multiple(dividend, divisor):\n",
    "    \"\"\"Tests if an integer is divisible by an other integer.\n",
    "    \n",
    "    dividend -- int: the number to divide\n",
    "    divisor -- int: the number to divide the dividend with\n",
    "    \"\"\"\n",
    "    if (isinstance(dividend, int) and\n",
    "        isinstance(divisor, int) and\n",
    "        not dividend % divisor):\n",
    "        return True\n",
    "    return False"
   ]
  },
  {
   "cell_type": "markdown",
   "metadata": {},
   "source": [
    "## De zéro à l’indéfini"
   ]
  },
  {
   "cell_type": "markdown",
   "metadata": {},
   "source": [
    "La division par zéro n’étant pas définie en mathématiques, concevez un programme qui empêche un utilisateur de saisir un zéro comme diviseur.\n",
    "\n",
    "**Astuce :** servez-vous de votre fonction pour l’intégrer au programme."
   ]
  },
  {
   "cell_type": "code",
   "execution_count": null,
   "metadata": {},
   "outputs": [],
   "source": [
    "# your code here\n",
    "\n",
    "dividend = int(input(\"Quel nombre diviser ?\\n\"))\n",
    "\n",
    "while 1:\n",
    "    try:\n",
    "        divisor = int(input(\"Et par quel nombre le diviser ?\\n\"))\n",
    "        result = is_multiple(dividend, divisor)\n",
    "        break\n",
    "    except ZeroDivisionError:\n",
    "        print(\"Veuillez saisir autre chose que 0\")\n",
    "\n",
    "print(result)"
   ]
  },
  {
   "cell_type": "markdown",
   "metadata": {},
   "source": [
    "## Brrrr !"
   ]
  },
  {
   "cell_type": "markdown",
   "metadata": {},
   "source": [
    "Il fait super froid et pourtant le thermomètre affiche un goguenard 34° ! Et s’il était paramétré en degré Fahrenheit ? Concevez un programme qui effectue la conversion afin de vérifier votre hypothèse, sachant que la formule est la suivante :\n",
    "\n",
    "$C = (F - 32) \\times \\frac{5}{9}$\n",
    "\n",
    "Comme jamais lors d’un bulletin météo on ne vous annonce les températures avec des décimales, pensez à arrondir le résultat !"
   ]
  },
  {
   "cell_type": "code",
   "execution_count": null,
   "metadata": {},
   "outputs": [],
   "source": [
    "# your code here\n",
    "\n",
    "def celsius(f):\n",
    "    \"\"\"Converts Fahrenheit temperatures to Celsius\n",
    "    \n",
    "    f -- int: degrees in the Fahrenheit scale\n",
    "    \"\"\"\n",
    "    celsius = (f - 32) * 5/9\n",
    "    return round(celsius)"
   ]
  },
  {
   "cell_type": "markdown",
   "metadata": {},
   "source": [
    "## Re-Brrrr !"
   ]
  },
  {
   "cell_type": "markdown",
   "metadata": {},
   "source": [
    "### C’est quoi la température ressentie ?"
   ]
  },
  {
   "cell_type": "markdown",
   "metadata": {},
   "source": [
    "On considère que 18°C est la température à partir de laquelle on peut se promener dehors en t-shirt sans ressentir de sensation de froid. Évidemment, cette donnée varie en fonction des individus, mais pourquoi il n’en va pas de même lorsque l’on est chez soi, confortablement installé devant un livre ? Et pourquoi c’est encore pire lorsque l’on barbote dans une mer à même température ?\n",
    "\n",
    "En fait, tout dépend bien sûr des échanges de chaleur entre l’intérieur et l’extérieur de votre corps, mais ils sont modulés par un coefficient de résistance thermique.\n",
    "\n",
    "Et ce n’est pas tout ! Pour un calcul pertinent, il faudrait considérer la surface corporelle, la puissance moyenne générée par un corps humain, le rayonnement solaire, le facteur d’isolation des vêtements, la force du vent, l’humidité de l’air etc…"
   ]
  },
  {
   "cell_type": "markdown",
   "metadata": {},
   "source": [
    "### L’indice de refroidissement éolien"
   ]
  },
  {
   "cell_type": "markdown",
   "metadata": {},
   "source": [
    "Un indice a vu le jour, complètement bricolé afin de coller le mieux possible à l’expérience : l’indice *wind chill*. Pas d’une extraordinaire rigueur scientifique, il permet toutefois de calculer directement la température ressentie en fonction de la température exprimée en degrés Celsius et de la force du vent $V$ exprimée en km/h :\n",
    "\n",
    "$R_C = 13,12 + 0,6215 T_C + (0,3965 T_C - 11,37) \\times {V_{km/h}}^{0,16}$\n",
    "\n",
    "Définissez une fonction qui prenne deux paramètres, la température ambiante et la force du vent, et qui renvoie la température ressentie :"
   ]
  },
  {
   "cell_type": "code",
   "execution_count": null,
   "metadata": {},
   "outputs": [],
   "source": [
    "# Your code here\n",
    "\n",
    "def wind_chill(t, w):\n",
    "    \"\"\"Wind chill index.\n",
    "    \n",
    "    t -- apparent temperature in Celsius scale\n",
    "    w -- wind speed\"\"\"\n",
    "    \n",
    "    return 13.12 + 0.6215*t + (0.3965*t - 11.37) * w**0.16"
   ]
  }
 ],
 "metadata": {
  "celltoolbar": "Format de la Cellule Texte Brut",
  "kernelspec": {
   "display_name": "Python 3 (ipykernel)",
   "language": "python",
   "name": "python3"
  },
  "language_info": {
   "codemirror_mode": {
    "name": "ipython",
    "version": 3
   },
   "file_extension": ".py",
   "mimetype": "text/x-python",
   "name": "python",
   "nbconvert_exporter": "python",
   "pygments_lexer": "ipython3",
   "version": "3.10.6"
  }
 },
 "nbformat": 4,
 "nbformat_minor": 4
}
