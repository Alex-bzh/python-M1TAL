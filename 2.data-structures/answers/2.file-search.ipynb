{
 "cells": [
  {
   "cell_type": "code",
   "execution_count": null,
   "metadata": {},
   "outputs": [],
   "source": [
    "with open(\"../data/bbt.txt\") as src:\n",
    "    # Reads the file\n",
    "    txt = src.read()"
   ]
  },
  {
   "cell_type": "code",
   "execution_count": null,
   "metadata": {},
   "outputs": [],
   "source": [
    "print(\"Sheldon apparaît {} fois\".format(txt.count(\"Sheldon\")))\n",
    "mots = txt.split()\n",
    "if \"I’m hungry\" in txt:\n",
    "    print(\"La chaîne 'I’m hungry' apparaît {} fois. Sa première occurrence se trouve à la position {}\".format(txt.count(\"I’m hungry\"), txt.find(\"I’m hungry\")))\n",
    "if \"ing at\" in txt:\n",
    "    print(\"La chaîne 'ing at' apparaît {} fois. Sa première occurence se trouve à la position {}\".format(txt.count(\"ing at\"), txt.find(\"ing at\")))\n",
    "if \"ing to\" in txt:\n",
    "    print(\"La chaîne 'ing to' apparaît {} fois. Sa première occurence se trouve à la position {}\".format(txt.count(\"ing to\"), txt.find(\"ing to\")))"
   ]
  }
 ],
 "metadata": {
  "kernelspec": {
   "display_name": "Python 3",
   "language": "python",
   "name": "python3"
  },
  "language_info": {
   "codemirror_mode": {
    "name": "ipython",
    "version": 3
   },
   "file_extension": ".py",
   "mimetype": "text/x-python",
   "name": "python",
   "nbconvert_exporter": "python",
   "pygments_lexer": "ipython3",
   "version": "3.8.0"
  }
 },
 "nbformat": 4,
 "nbformat_minor": 4
}
