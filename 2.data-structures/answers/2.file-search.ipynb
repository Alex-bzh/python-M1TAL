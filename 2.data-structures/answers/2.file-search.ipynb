{
 "cells": [
  {
   "cell_type": "markdown",
   "metadata": {},
   "source": [
    "# Opérations simples sur fichier\n",
    "\n",
    "## Charger le fichier de l’exercice"
   ]
  },
  {
   "cell_type": "code",
   "execution_count": null,
   "metadata": {},
   "outputs": [],
   "source": [
    "with open(\"../data/bbt.txt\") as src:\n",
    "    # Reads the file\n",
    "    txt = src.read()"
   ]
  },
  {
   "cell_type": "markdown",
   "metadata": {},
   "source": [
    "## Questions\n",
    "\n",
    "1. Calculez le nombre de fois où la chaîne *Sheldon* apparaît.\n",
    "2. Transformez tout le texte en une liste de mots.\n",
    "3. La chaîne *I’m hungry* est-elle présente ?\n",
    "4. Et celles-ci : *ing at*, *ing to* ?\n",
    "5. Si oui, dites combien de fois elles le sont et donnez la position de leur première occurrence. Expliquez les problèmes rencontrés."
   ]
  },
  {
   "cell_type": "code",
   "execution_count": null,
   "metadata": {},
   "outputs": [],
   "source": [
    "# your code here\n",
    "print(\"Sheldon apparaît {} fois\".format(txt.count(\"Sheldon\")))\n",
    "mots = txt.split()\n",
    "if \"I’m hungry\" in txt:\n",
    "    print(\"La chaîne 'I’m hungry' apparaît {} fois. Sa première occurrence se trouve à la position {}\".format(txt.count(\"I’m hungry\"), txt.find(\"I’m hungry\")))\n",
    "if \"ing at\" in txt:\n",
    "    print(\"La chaîne 'ing at' apparaît {} fois. Sa première occurence se trouve à la position {}\".format(txt.count(\"ing at\"), txt.find(\"ing at\")))\n",
    "if \"ing to\" in txt:\n",
    "    print(\"La chaîne 'ing to' apparaît {} fois. Sa première occurence se trouve à la position {}\".format(txt.count(\"ing to\"), txt.find(\"ing to\")))"
   ]
  }
 ],
 "metadata": {
  "kernelspec": {
   "display_name": "Python 3",
   "language": "python",
   "name": "python3"
  },
  "language_info": {
   "codemirror_mode": {
    "name": "ipython",
    "version": 3
   },
   "file_extension": ".py",
   "mimetype": "text/x-python",
   "name": "python",
   "nbconvert_exporter": "python",
   "pygments_lexer": "ipython3",
   "version": "3.7.7"
  }
 },
 "nbformat": 4,
 "nbformat_minor": 4
}
