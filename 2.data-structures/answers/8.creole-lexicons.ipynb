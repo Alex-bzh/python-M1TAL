{
 "cells": [
  {
   "cell_type": "markdown",
   "metadata": {},
   "source": [
    "# Comparaison de lexiques créoles\n",
    "\n",
    "Vous disposez de trois lexiques de langues créoles (haïtien, mauricien et guadeloupéen) au format TSV qui listent un ensemble de verbes avec leurs transcriptions phonologiques et leur correspondance en français.\n",
    "\n",
    "Les trois lexiques partagent la même structure en trois colonnes :\n",
    "- le verbe en créole ;\n",
    "- la transcription phonologique ;\n",
    "- la correspondance en français.\n",
    "\n",
    "## Lister les transcriptions\n",
    "\n",
    "Vous direz tout d’abord quels sont les verbes qui n’appartiennent qu’à un seul lexique puis quels sont ceux en commun aux trois. Pour ceux-là, vous finirez en comparant leurs prononciations. Au final, on voudrait pour chaque transcription française la liste des prononciations avec, dans l’ordre : le guadeloupéen, le haïtien puis le mauricien.\n",
    "\n",
    "```txt\n",
    "adorer: adoʀe, adoɣe, adore\n",
    "```\n",
    "\n",
    "## Identifier les phonèmes divergents\n",
    "\n",
    "Dans un second temps, vous identifierez les phonèmes qui divergent entre les différentes transcriptions phonologiques et trouverez un moyen de les mettre en valeur dans la sortie de votre programme. Par exemple :\n",
    "\n",
    "```txt\n",
    "adorer: ado[ʀ]e, ado[ɣ]e, ado[r]e\n",
    "```\n",
    "\n",
    "## Programme\n",
    "\n",
    "Vous partirez du code ci-dessous qui génère un dictionnaire de dictionnaires. Les dictionnaires imbriqués ont pour clé un étymon français auquel est attaché un tuple comprenant la forme en créole et sa transcription phonologique :\n",
    "\n",
    "```python\n",
    "{'V-guadeloupean.tsv': {\n",
    "    'adorer': ('adoré', 'adoʀe'),\n",
    "    …\n",
    "    }\n",
    "}  \n",
    "```"
   ]
  },
  {
   "cell_type": "code",
   "execution_count": null,
   "metadata": {},
   "outputs": [],
   "source": [
    "import csv\n",
    "\n",
    "lexicons = {\n",
    "    'V-guadeloupean.tsv': dict(),\n",
    "    'V-haitian.tsv': dict(),\n",
    "    'V-mauritian.tsv': dict(),\n",
    "}\n",
    "\n",
    "for lexicon in lexicons.keys():\n",
    "    with open(f\"../data/{lexicon}\") as csvfile:\n",
    "        reader = csv.reader(csvfile, delimiter='\\t')\n",
    "        for form, phon, fr in reader:\n",
    "            lexicons[lexicon].update({fr: (form, phon)})"
   ]
  },
  {
   "cell_type": "markdown",
   "metadata": {},
   "source": [
    "### Ensembles de verbes\n",
    "\n",
    "**Première étape :** constituez un ensemble de verbes pour chaque langue créole."
   ]
  },
  {
   "cell_type": "code",
   "execution_count": null,
   "metadata": {},
   "outputs": [],
   "source": [
    "# Your code here\n",
    "v_guadeloupean = set(lexicons['V-guadeloupean.tsv'].keys())\n",
    "v_haitian = set(lexicons['V-haitian.tsv'].keys())\n",
    "v_mauritian = set(lexicons['V-mauritian.tsv'].keys())"
   ]
  },
  {
   "cell_type": "markdown",
   "metadata": {},
   "source": [
    "### Verbes uniques\n",
    "\n",
    "**Deuxième étape :** pour chaque lexique, déterminez quels sont les verbes qui n’apparaissent dans aucun autre."
   ]
  },
  {
   "cell_type": "code",
   "execution_count": null,
   "metadata": {},
   "outputs": [],
   "source": [
    "# Your code here\n",
    "v_p_guadeloupean = set.difference(v_guadeloupean, v_haitian, v_mauritian)\n",
    "v_p_haitian = set.difference(v_haitian, v_guadeloupean, v_mauritian)\n",
    "v_p_mauritian = set.difference(v_mauritian, v_haitian, v_guadeloupean)"
   ]
  },
  {
   "cell_type": "markdown",
   "metadata": {},
   "source": [
    "**Troisième étape :** déterminez à présent quels sont les verbes communs aux trois langues."
   ]
  },
  {
   "cell_type": "code",
   "execution_count": null,
   "metadata": {},
   "outputs": [],
   "source": [
    "# Your code here\n",
    "v_commons = set.intersection(v_guadeloupean, v_haitian, v_mauritian)"
   ]
  },
  {
   "cell_type": "markdown",
   "metadata": {},
   "source": [
    "**Quatrième étape :** à partir de la liste des verbes en commun aux trois langues, construisez un dictionnaire qui liste pour chacun les transcriptions phonologiques dans toutes les langues créoles."
   ]
  },
  {
   "cell_type": "code",
   "execution_count": null,
   "metadata": {},
   "outputs": [],
   "source": [
    "# Your code here\n",
    "transcriptions = dict()\n",
    "\n",
    "for verb in v_commons:\n",
    "    transcriptions.update({\n",
    "        verb: (\n",
    "            lexicons['V-guadeloupean.tsv'][verb][1],\n",
    "            lexicons['V-haitian.tsv'][verb][1],\n",
    "            lexicons['V-mauritian.tsv'][verb][1]\n",
    "        )\n",
    "    })"
   ]
  },
  {
   "cell_type": "markdown",
   "metadata": {},
   "source": [
    "### Identifier les phonèmes divergents\n",
    "\n",
    "Il vous reste, pour chaque transcription, à identifier les phonèmes qui divergent des autres !"
   ]
  },
  {
   "cell_type": "code",
   "execution_count": null,
   "metadata": {},
   "outputs": [],
   "source": [
    "# Your code here\n",
    "for verb, (guadeloupean, haitian, mauritian) in transcriptions.items():\n",
    "    d = {\n",
    "        'guadeloupean': set(guadeloupean),\n",
    "        'haitian': set(haitian),\n",
    "        'mauritian': set(mauritian)\n",
    "    }\n",
    "    phonems = d['guadeloupean'] ^ d['haitian'] | d['haitian'] ^ d['mauritian']\n",
    "    for phonem in phonems:\n",
    "        guadeloupean = guadeloupean.replace(phonem, f\"[{phonem}]\")\n",
    "        haitian = haitian.replace(phonem, f\"[{phonem}]\")\n",
    "        mauritian = mauritian.replace(phonem, f\"[{phonem}]\")\n",
    "    print(f\"{verb} : {guadeloupean}, {haitian}, {mauritian}\")"
   ]
  }
 ],
 "metadata": {
  "kernelspec": {
   "display_name": "Python 3",
   "language": "python",
   "name": "python3"
  },
  "language_info": {
   "codemirror_mode": {
    "name": "ipython",
    "version": 3
   },
   "file_extension": ".py",
   "mimetype": "text/x-python",
   "name": "python",
   "nbconvert_exporter": "python",
   "pygments_lexer": "ipython3",
   "version": "3.8.0"
  }
 },
 "nbformat": 4,
 "nbformat_minor": 4
}
