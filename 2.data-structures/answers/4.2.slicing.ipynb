{
 "cells": [
  {
   "cell_type": "markdown",
   "metadata": {},
   "source": [
    "# Le slicing\n",
    "\n",
    "## Questions\n",
    "\n",
    "Prédisez le résultat des scripts suivants :\n",
    "```\n",
    "a = ['b','a',3,4,5]\n",
    "print a[a[2]]*a[1]\n",
    "print a[:-3]+a[-2:-1]\n",
    "```\n",
    "---\n",
    "```\n",
    "a = [2,'3',[2],'ab']\n",
    "print a[a[0]]*a[1]\n",
    "print a[0]*a[a[2]]\n",
    "```\n",
    "---\n",
    "```\n",
    "a = ['a',2,[4,[]],'bc']\n",
    "print a[2][:1]*5\n",
    "print a[-2]*a[1]\n",
    "```\n",
    "---\n",
    "```\n",
    "a = ['a','b','c']\n",
    "print a[::-1]\n",
    "```"
   ]
  },
  {
   "cell_type": "markdown",
   "metadata": {},
   "source": [
    "## Solutions\n",
    "\n",
    "- aaaa\n",
    "- ['b', 'a', 4]\n",
    "---\n",
    "- Revient à faire `[2] * '3'` Impossible de multiplier une liste par un type str\n",
    "- Revient à faire `2 * a[[2]] ` N'est pas simplifiable : impossible d'avoir une liste comme indice d'une séquence.\n",
    "---\n",
    "- [4, 4, 4, 4, 4]\n",
    "- [4, [], 4, []]\n",
    "---\n",
    "- ['c', 'b', 'a']"
   ]
  }
 ],
 "metadata": {
  "kernelspec": {
   "display_name": "Python 3",
   "language": "python",
   "name": "python3"
  },
  "language_info": {
   "codemirror_mode": {
    "name": "ipython",
    "version": 3
   },
   "file_extension": ".py",
   "mimetype": "text/x-python",
   "name": "python",
   "nbconvert_exporter": "python",
   "pygments_lexer": "ipython3",
   "version": "3.8.0"
  }
 },
 "nbformat": 4,
 "nbformat_minor": 1
}
