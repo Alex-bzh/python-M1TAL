{
 "cells": [
  {
   "cell_type": "markdown",
   "metadata": {},
   "source": [
    "# Compter des occurrences\n",
    "\n",
    "Une étape très fréquente préalable à l’analyse statistique, consiste à compter des occurrences. Occurrences de mots, de signes, de notions… Dans cet exercice, on souhaite simplement répertorier toutes les lettres d’un texte et les classer par fréquence d’apparition.\n",
    "\n",
    "Nous prendrons comme exemple le poème *Le dormeur du val* de Rimbaud."
   ]
  },
  {
   "cell_type": "code",
   "execution_count": null,
   "metadata": {},
   "outputs": [],
   "source": [
    "with open('../data/dormeur-du-val.txt') as file:\n",
    "    txt = file.read()\n",
    "\n",
    "print(txt)"
   ]
  },
  {
   "cell_type": "markdown",
   "metadata": {},
   "source": [
    "Pour réaliser l’exercice, quelques pistes :\n",
    "- pensez à la structure `defaultdict` et à lui attribuer le bon type de données ;\n",
    "- la méthode `isalnum()` vérifie si une donnée de type `str` est alphanumérique ;\n",
    "- la méthode `lower()` transforme un texte en bas de casse ;\n",
    "- la fonction `sorted()` permet de trier une liste."
   ]
  },
  {
   "cell_type": "code",
   "execution_count": null,
   "metadata": {},
   "outputs": [],
   "source": [
    "from collections import defaultdict\n",
    "\n",
    "# Values of each key is of int type:\n",
    "# number of occurrences\n",
    "characters = defaultdict(int)\n",
    "\n",
    "# For each character\n",
    "for c in txt:\n",
    "    if c.isalnum():\n",
    "        characters[c] += 1\n",
    "\n",
    "sorted(characters.items())"
   ]
  }
 ],
 "metadata": {
  "kernelspec": {
   "display_name": "Python 3",
   "language": "python",
   "name": "python3"
  },
  "language_info": {
   "codemirror_mode": {
    "name": "ipython",
    "version": 3
   },
   "file_extension": ".py",
   "mimetype": "text/x-python",
   "name": "python",
   "nbconvert_exporter": "python",
   "pygments_lexer": "ipython3",
   "version": "3.8.0"
  }
 },
 "nbformat": 4,
 "nbformat_minor": 4
}
