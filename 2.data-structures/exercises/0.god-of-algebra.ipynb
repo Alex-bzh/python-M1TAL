{
 "cells": [
  {
   "cell_type": "markdown",
   "metadata": {},
   "source": [
    "# Devenir un dieu de l’algèbre\n",
    "\n",
    "Les petits exercices suivants servent à manipuler des données de type numérique.\n",
    "\n",
    "## Multiple de 3\n",
    "\n",
    "Écrivez-une fonction qui détermine si un nombre est un multiple de 3. La règle mathématique à retenir est qu’un nombre est multiple d’un autre si la division euclidienne par ce nombre renvoie un reste nul. Pour rappel, une division euclidienne, aussi appelée *division entière*, se résoud ainsi :\n",
    "\n",
    "$\\textrm{dividende} = \\textrm{diviseur} \\times \\textrm{quotient} + \\textrm{reste}$\n",
    "\n",
    "Dans la division euclidienne de 13 par 6, le reste n’est pas nul : 13 n’est donc pas un multiple de 6.\n",
    "\n",
    "$13 = 6 \\times 2 + 1 $\n",
    "\n",
    "Alors que dans la division euclidienne de 893 par 19, le reste est nul : 893 est un multiple de 19.\n",
    "\n",
    "$893 = 19 \\times 47 + 0 $\n",
    "\n",
    "Pour connaître le reste d’une division en Python, utiliser l’opérateur modulo `%`."
   ]
  },
  {
   "cell_type": "code",
   "execution_count": null,
   "metadata": {},
   "outputs": [],
   "source": [
    "# Your code here"
   ]
  },
  {
   "cell_type": "markdown",
   "metadata": {},
   "source": [
    "## Des multiples\n",
    "\n",
    "Améliorez dans un premier temps la fonction précédente pour l’adapter à d’autres diviseurs. Dans un second temps, contraignez le type de données en entrée afin de ne diviser que des entiers."
   ]
  },
  {
   "cell_type": "code",
   "execution_count": null,
   "metadata": {},
   "outputs": [],
   "source": [
    "# Your code here"
   ]
  },
  {
   "cell_type": "markdown",
   "metadata": {},
   "source": [
    "## Brrrr !\n",
    "\n",
    "Il fait super froid et pourtant le thermomètre affiche un goguenard 34° ! Et s’il était paramétré en degré Fahrenheit ? Concevez un programme qui effectue la conversion afin de vérifier votre hypothèse, sachant que la formule est la suivante :\n",
    "\n",
    "$C = (F - 32) \\times \\frac{5}{9}$\n",
    "\n",
    "Comme jamais lors d’un bulletin météo on ne vous annonce les températures avec des décimales, pensez à arrondir le résultat !"
   ]
  },
  {
   "cell_type": "code",
   "execution_count": null,
   "metadata": {},
   "outputs": [],
   "source": [
    "# Your code here"
   ]
  }
 ],
 "metadata": {
  "kernelspec": {
   "display_name": "Python 3",
   "language": "python",
   "name": "python3"
  },
  "language_info": {
   "codemirror_mode": {
    "name": "ipython",
    "version": 3
   },
   "file_extension": ".py",
   "mimetype": "text/x-python",
   "name": "python",
   "nbconvert_exporter": "python",
   "pygments_lexer": "ipython3",
   "version": "3.8.0"
  }
 },
 "nbformat": 4,
 "nbformat_minor": 4
}
