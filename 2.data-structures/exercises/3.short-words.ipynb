{
 "cells": [
  {
   "cell_type": "markdown",
   "metadata": {},
   "source": [
    "# Les mots les plus courts…\n",
    "\n",
    "Vous disposez de deux versions du *Salammbô* (1862) de Gustave Flaubert : l’une en français et l’autre en anglais. L’objectif de cet exercice est de comparer le nombre de mots composés de trois lettres dans les deux langues.\n",
    "\n",
    "**Attention !** Nous voulons tous les mots de trois lettres et non pas tous les mots uniques de trois lettres. Ce décompte permettra de comparer non seulement les valeurs absolues mais aussi les valeurs relatives.\n",
    "\n",
    "Pour y parvenir, vous aurez besoin de :\n",
    "1. découper les deux textes en une liste de mots ;\n",
    "2. de compter le nombre de lettres de chaque mot ;\n",
    "3. de filtrer la liste finale pour ne ressortir que les mots de trois lettres.\n",
    "\n",
    "**Remarque :** de nombreux écueils s’opposeront à vous :\n",
    "- *C’était* vaut-il pour un ou deux mots ?\n",
    "- *Hamilcar.* compte-t-il huit ou neuf caractères ?\n",
    "\n",
    "À ce stade, ne vous souciez pas de ces questions et procédez le plus simplement possible.\n",
    "\n",
    "Le code de départ ci-dessous permet de charger les fichiers qui se trouvent dans le répertoire `data` :"
   ]
  },
  {
   "cell_type": "code",
   "execution_count": null,
   "metadata": {},
   "outputs": [],
   "source": [
    "# A list of lists that intend to store\n",
    "# both the identifiers and the textual contents.\n",
    "texts = [\n",
    "    ['../data/salammbo-en.txt'],\n",
    "    ['../data/salammbo-fr.txt']\n",
    "]\n",
    "\n",
    "# For each text:\n",
    "for idx, text in enumerate(texts):\n",
    "\n",
    "    # open the file with the identifier\n",
    "    with open(text[0]) as file:\n",
    "\n",
    "        # read the content\n",
    "        content = file.read()\n",
    "\n",
    "        # put it right after the identifier\n",
    "        texts[idx].append(content)\n",
    "\n",
    "    # and finally convert it to a tuple\n",
    "    texts[idx] = tuple(texts[idx])"
   ]
  },
  {
   "cell_type": "markdown",
   "metadata": {},
   "source": [
    "Pour accéder au texte, il suffit maintenant d’interroger l’objet `texts` :"
   ]
  },
  {
   "cell_type": "code",
   "execution_count": null,
   "metadata": {},
   "outputs": [],
   "source": [
    "# The first tuple contains the en version\n",
    "salammbo_en = texts[0]\n",
    "\n",
    "# The textual content is the second element of the tuple\n",
    "text_en = salammbo_en[1]\n",
    "\n",
    "# A slice of the first 500 characters\n",
    "beginning = text_en[:501]\n",
    "\n",
    "# The instruction could have been shorter :\n",
    "# print(f'{texts[0][1][:501]}…')\n",
    "print(f'{beginning}…')"
   ]
  }
 ],
 "metadata": {
  "kernelspec": {
   "display_name": "Python 3",
   "language": "python",
   "name": "python3"
  },
  "language_info": {
   "codemirror_mode": {
    "name": "ipython",
    "version": 3
   },
   "file_extension": ".py",
   "mimetype": "text/x-python",
   "name": "python",
   "nbconvert_exporter": "python",
   "pygments_lexer": "ipython3",
   "version": "3.8.0"
  }
 },
 "nbformat": 4,
 "nbformat_minor": 4
}
