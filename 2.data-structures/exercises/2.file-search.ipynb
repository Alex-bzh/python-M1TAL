{
 "cells": [
  {
   "cell_type": "markdown",
   "metadata": {},
   "source": [
    "# Opérations simples sur fichier\n",
    "\n",
    "## Charger le fichier de l’exercice"
   ]
  },
  {
   "cell_type": "code",
   "execution_count": null,
   "metadata": {},
   "outputs": [],
   "source": [
    "with open(\"../data/bbt.txt\") as src:\n",
    "    # Reads the file\n",
    "    txt = src.read()"
   ]
  },
  {
   "cell_type": "markdown",
   "metadata": {},
   "source": [
    "## Questions\n",
    "\n",
    "1. Calculez le nombre de fois où la chaîne *Sheldon* apparaît.\n",
    "2. Transformez tout le texte en une liste de mots.\n",
    "3. La chaîne *I’m hungry* est-elle présente ?\n",
    "4. Et celles-ci : *ing at*, *ing to* ?\n",
    "5. Si oui, dites combien de fois elles le sont et donnez la position de leur première occurrence. Expliquez les problèmes rencontrés."
   ]
  }
 ],
 "metadata": {
  "kernelspec": {
   "display_name": "Python 3",
   "language": "python",
   "name": "python3"
  },
  "language_info": {
   "codemirror_mode": {
    "name": "ipython",
    "version": 3
   },
   "file_extension": ".py",
   "mimetype": "text/x-python",
   "name": "python",
   "nbconvert_exporter": "python",
   "pygments_lexer": "ipython3",
   "version": "3.8.0"
  }
 },
 "nbformat": 4,
 "nbformat_minor": 4
}
