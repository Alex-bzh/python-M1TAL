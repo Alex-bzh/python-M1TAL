{
 "cells": [
  {
   "cell_type": "markdown",
   "metadata": {},
   "source": [
    "# Un dictionnaire français-indonésien\n",
    "\n",
    "Vous disposez d’un fichier tabulaire dans le répertoire *data* avec une liste de mots en français et, en regard, leur traduction en indonésien. Complétez le programme ci-dessous afin que, pour toute entrée saisie par un utilisateur, il renvoie la traduction en indonésien ou un message d’erreur."
   ]
  },
  {
   "cell_type": "code",
   "execution_count": null,
   "metadata": {},
   "outputs": [],
   "source": [
    "#!/usr/bin/env python\n",
    "#-*- coding: utf-8 -*-\n",
    "\n",
    "#\n",
    "# Modules\n",
    "#\n",
    "import csv\n",
    "\n",
    "#\n",
    "# Main function\n",
    "#\n",
    "def main():\n",
    "    \"\"\"Loads the data…\"\"\"\n",
    "    with open('../data/french-indonesian.tsv') as csvfile:\n",
    "        reader = csv.reader(csvfile, delimiter='\\t')\n",
    "\n",
    "        for line in reader:\n",
    "            pass\n",
    "\n",
    "#\n",
    "# Main procedure\n",
    "#\n",
    "if __name__ == \"__main__\":\n",
    "    \n",
    "    main()"
   ]
  }
 ],
 "metadata": {
  "kernelspec": {
   "display_name": "Python 3",
   "language": "python",
   "name": "python3"
  },
  "language_info": {
   "codemirror_mode": {
    "name": "ipython",
    "version": 3
   },
   "file_extension": ".py",
   "mimetype": "text/x-python",
   "name": "python",
   "nbconvert_exporter": "python",
   "pygments_lexer": "ipython3",
   "version": "3.8.0"
  }
 },
 "nbformat": 4,
 "nbformat_minor": 4
}
