{
 "cells": [
  {
   "cell_type": "markdown",
   "metadata": {},
   "source": [
    "# Un dictionnaire français-indonésien"
   ]
  },
  {
   "cell_type": "markdown",
   "metadata": {},
   "source": [
    "Vous disposez d’un fichier tabulaire dans le répertoire *data* avec une liste de mots en français et, en regard, leur traduction en indonésien. Complétez le programme ci-dessous afin que, pour toute entrée saisie par un utilisateur, il renvoie la traduction en indonésien ou un message d’erreur."
   ]
  },
  {
   "cell_type": "code",
   "execution_count": null,
   "metadata": {},
   "outputs": [],
   "source": [
    "#!/usr/bin/env python\n",
    "#-*- coding: utf-8 -*-\n",
    "\n",
    "#\n",
    "# Modules\n",
    "#\n",
    "import csv\n",
    "\n",
    "#\n",
    "# User functions\n",
    "#\n",
    "def load_data(path):\n",
    "    \"\"\"Loads a data in csv format\n",
    "    \n",
    "    path -- path to data\n",
    "    \"\"\"\n",
    "\n",
    "    lines = []\n",
    "\n",
    "    with open(path) as csvfile:\n",
    "        reader = csv.reader(csvfile, delimiter='\\t')\n",
    "        for line in reader:\n",
    "            lines.append(tuple(line))\n",
    "\n",
    "    return lines\n",
    "\n",
    "def main(path_to_data):\n",
    "    \"\"\"Main function.\n",
    "    \n",
    "    path_to_data -- csv file\n",
    "    \"\"\"\n",
    "    lines = load_data(path_to_data)\n",
    "\n",
    "#\n",
    "# Main procedure\n",
    "#\n",
    "if __name__ == \"__main__\":\n",
    "    \n",
    "    path_to_data = '../data/french-indonesian.tsv'\n",
    "    \n",
    "    main(path_to_data)"
   ]
  }
 ],
 "metadata": {
  "kernelspec": {
   "display_name": "Python 3 (ipykernel)",
   "language": "python",
   "name": "python3"
  },
  "language_info": {
   "codemirror_mode": {
    "name": "ipython",
    "version": 3
   },
   "file_extension": ".py",
   "mimetype": "text/x-python",
   "name": "python",
   "nbconvert_exporter": "python",
   "pygments_lexer": "ipython3",
   "version": "3.10.6"
  }
 },
 "nbformat": 4,
 "nbformat_minor": 4
}
