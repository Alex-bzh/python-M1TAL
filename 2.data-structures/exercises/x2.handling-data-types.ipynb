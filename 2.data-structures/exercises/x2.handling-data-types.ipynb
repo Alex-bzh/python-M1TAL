{
 "cells": [
  {
   "cell_type": "markdown",
   "metadata": {},
   "source": [
    "# Manipuler efficacement des types de données différents\n",
    "\n",
    "Après extraction de différents lexiques, vous obtenez trois listes parallèles :\n",
    "- une liste de mots ;\n",
    "- une liste de leur catégorie grammaticale ;\n",
    "- une liste de leurs représentations phonologiques."
   ]
  },
  {
   "cell_type": "code",
   "execution_count": null,
   "metadata": {},
   "outputs": [],
   "source": [
    "words = ['étale', 'étale', 'étale', 'réac', 'réac', 'réac']\n",
    "tags = ['Adj', 'Nf', 'Nm', 'Adj', 'Nf', 'Nm']\n",
    "phono = [\n",
    "    'Afpfs:e.tal;Afpms:e.tal;Afpfp:e.tal;Afpmp:e.tal',\n",
    "    'Ncfs:e.tal;Ncfp:e.tal',\n",
    "    'Ncms:e.tal;Ncmp:e.tal',\n",
    "    'Afpmp:ʁe.ak',\n",
    "    'Ncfs:ʁe.ak;Ncfp:ʁe.ak',\n",
    "    'Ncms:ʁe.ak;Ncmp:ʁe.ak'\n",
    "]"
   ]
  },
  {
   "cell_type": "markdown",
   "metadata": {},
   "source": [
    "Vous remarquez qu’un même mot peut être identifié par plusieurs étiquettes grammaticales et que ses représentations phonologiques pourraient varier en fonction de ses déclinaisons (ex. : des ciels (sjɛl), des cieux (sjø)).\n",
    "\n",
    "Sans vous soucier de ce dernier aspect, votre objectif est de fournir une structure de données qui permette d’interroger simplement la représentation phonologique d’un mot pour une certaine catégorie. Votre programme devrait par exemple répondre à la question : \"Quelle est la représentation phonologique du mot 'étale', en sa qualité d’adjectif, au féminin pluriel ?\""
   ]
  },
  {
   "cell_type": "code",
   "execution_count": null,
   "metadata": {},
   "outputs": [],
   "source": [
    "# Your code here"
   ]
  },
  {
   "cell_type": "markdown",
   "metadata": {},
   "source": [
    "D’un point de vue plus pythonesque, pour cette question, faites en sorte que l’expression ci-dessous renvoie `e.tal` :"
   ]
  },
  {
   "cell_type": "code",
   "execution_count": null,
   "metadata": {},
   "outputs": [],
   "source": [
    "# Check your code\n",
    "print(lexicon[key]['Afpfs'])"
   ]
  }
 ],
 "metadata": {
  "kernelspec": {
   "display_name": "Python 3",
   "language": "python",
   "name": "python3"
  },
  "language_info": {
   "codemirror_mode": {
    "name": "ipython",
    "version": 3
   },
   "file_extension": ".py",
   "mimetype": "text/x-python",
   "name": "python",
   "nbconvert_exporter": "python",
   "pygments_lexer": "ipython3",
   "version": "3.8.0"
  }
 },
 "nbformat": 4,
 "nbformat_minor": 4
}
