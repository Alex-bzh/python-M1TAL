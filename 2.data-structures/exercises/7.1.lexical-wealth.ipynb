{
 "cells": [
  {
   "cell_type": "markdown",
   "metadata": {},
   "source": [
    "# Une approche de la richesse lexicale"
   ]
  },
  {
   "cell_type": "markdown",
   "metadata": {},
   "source": [
    "Prenons deux textes de Gustave Flaubert qui semblent assez éloignés : *Madame Bovary* (1856) et *Salammbô* (1862). Si les deux romans traitent de l’éveil sentimental de ses héroïnes enfermées pour l’une dans la morale de la bourgeoisie de province et pour la seconde dans les commandements d’une religion répressive, le premier est contemporain de l’auteur, de veine réaliste, tandis que le second prend place dans la Carthage du IIIe siècle avant J.-C.\n",
    "\n",
    "Nous souhaitons évaluer sommairement la richesse lexicale de ces deux textes. Avertissement : le corpus n’a subi aucun pré-traitement afin d’harmoniser le format des textes, aussi les résultats ne pourront-ils se prévaloir d’une quelconque rigueur scientifique.\n",
    "\n",
    "Pour commencer, chargeons les textes et récupérons la liste des mots :"
   ]
  },
  {
   "cell_type": "code",
   "execution_count": null,
   "metadata": {},
   "outputs": [],
   "source": [
    "paths = ['../data/madame-bovary_fr.txt', '../data/salammbo-fr.txt']\n",
    "text_words = []\n",
    "\n",
    "for path in paths:\n",
    "    with open(path) as file:\n",
    "        text_words.append(file.read().split())\n",
    "\n",
    "bovary, salammbo = text_words"
   ]
  },
  {
   "cell_type": "markdown",
   "metadata": {},
   "source": [
    "Pour vérifier la validité des listes, jetons un aperçu au résultat :"
   ]
  },
  {
   "cell_type": "code",
   "execution_count": null,
   "metadata": {},
   "outputs": [],
   "source": [
    "# How many words in Salammbô?\n",
    "print(len(salammbo))\n",
    "# First fifty words in Salammbô\n",
    "print(salammbo[:50])"
   ]
  },
  {
   "cell_type": "markdown",
   "metadata": {},
   "source": [
    "## Questions"
   ]
  },
  {
   "cell_type": "markdown",
   "metadata": {},
   "source": [
    "1. Quel est le texte qui comporte le plus de mots ?"
   ]
  },
  {
   "cell_type": "code",
   "execution_count": null,
   "metadata": {},
   "outputs": [],
   "source": [
    "# your code here"
   ]
  },
  {
   "cell_type": "markdown",
   "metadata": {},
   "source": [
    "2. Quel est le texte qui comporte le plus de mots uniques ?"
   ]
  },
  {
   "cell_type": "code",
   "execution_count": null,
   "metadata": {},
   "outputs": [],
   "source": [
    "# your code here"
   ]
  },
  {
   "cell_type": "markdown",
   "metadata": {},
   "source": [
    "3. Quel est le texte qui présente la plus grande richesse lexicale ?  \n",
    "Pour ce calcul, vous établirez un rapport entre le nombre total de mots et le nombre de mots uniques."
   ]
  },
  {
   "cell_type": "code",
   "execution_count": null,
   "metadata": {},
   "outputs": [],
   "source": [
    "# your code here"
   ]
  },
  {
   "cell_type": "markdown",
   "metadata": {},
   "source": [
    "4. Combien de mots uniques comptent les deux textes rassemblés ?"
   ]
  },
  {
   "cell_type": "code",
   "execution_count": null,
   "metadata": {},
   "outputs": [],
   "source": [
    "# your code here"
   ]
  },
  {
   "cell_type": "markdown",
   "metadata": {},
   "source": [
    "5. Quels sont les mots uniques présents seulement dans Salammbô ?"
   ]
  },
  {
   "cell_type": "code",
   "execution_count": null,
   "metadata": {},
   "outputs": [],
   "source": [
    "# your code here"
   ]
  },
  {
   "cell_type": "markdown",
   "metadata": {},
   "source": [
    "6. Quels sont les mots uniques que les textes ont en commun ?"
   ]
  },
  {
   "cell_type": "code",
   "execution_count": null,
   "metadata": {},
   "outputs": [],
   "source": [
    "# your code here"
   ]
  },
  {
   "cell_type": "markdown",
   "metadata": {},
   "source": [
    "7. Au contraire, quels sont ceux qu’ils n’ont pas en commun ?"
   ]
  },
  {
   "cell_type": "code",
   "execution_count": null,
   "metadata": {},
   "outputs": [],
   "source": [
    "# your code here"
   ]
  }
 ],
 "metadata": {
  "kernelspec": {
   "display_name": "Python 3 (ipykernel)",
   "language": "python",
   "name": "python3"
  },
  "language_info": {
   "codemirror_mode": {
    "name": "ipython",
    "version": 3
   },
   "file_extension": ".py",
   "mimetype": "text/x-python",
   "name": "python",
   "nbconvert_exporter": "python",
   "pygments_lexer": "ipython3",
   "version": "3.10.6"
  }
 },
 "nbformat": 4,
 "nbformat_minor": 4
}
