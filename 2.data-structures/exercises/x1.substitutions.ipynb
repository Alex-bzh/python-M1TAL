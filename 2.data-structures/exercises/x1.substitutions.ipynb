{
 "cells": [
  {
   "cell_type": "markdown",
   "metadata": {},
   "source": [
    "# Un corpus au format CLAN\n",
    "\n",
    "Ci-dessous un extrait issu d’un corpus d’apprenants au format CLAN :\n",
    "```\n",
    "*NIB:\tpourquoi est ce que tu as choisi l'université de Salford?\n",
    "*C01:\tum j'aime Manchester.\n",
    "*C01:\tet je trust@s euh j'ai voulu étudier à Manchester et à Salford.\n",
    "*C01:\tj'aime le cours.\n",
    "*NIB:\ttu viens de quelle partie de l'Angleterre?\n",
    "*C01:\tum pas d'Angleterre.\n",
    "*C01:\tdu pays de Galles.\n",
    "*NIB:\tdu pays de Galles?\n",
    "*C01:\toui.\n",
    "*NIB:\teuh d'ou au pays de Galles?\n",
    "*C01:\teuh le sud.\n",
    "*NIB:\tle sud?\n",
    "*C01:\toui de Swansea.\n",
    "```\n",
    "Dans un premier temps, rétablissez une ponctuation conforme aux normes de l’imprimerie nationale (`le sud ?` plutôt que `le sud?`).\n",
    "\n",
    "Dans un second temps, vous remarquerez, au début de chaque ligne, un marquage pour identifier le locuteur. Remplacez ces codes avec des noms de votre invention afin de retranscrire le dialogue."
   ]
  },
  {
   "cell_type": "code",
   "execution_count": null,
   "metadata": {},
   "outputs": [],
   "source": [
    "with open(\"../data/corpus-clan.txt\") as src:\n",
    "    # Reads the document\n",
    "    txt = src.read()\n",
    "\n",
    "# Your code here"
   ]
  }
 ],
 "metadata": {
  "kernelspec": {
   "display_name": "Python 3",
   "language": "python",
   "name": "python3"
  },
  "language_info": {
   "codemirror_mode": {
    "name": "ipython",
    "version": 3
   },
   "file_extension": ".py",
   "mimetype": "text/x-python",
   "name": "python",
   "nbconvert_exporter": "python",
   "pygments_lexer": "ipython3",
   "version": "3.8.0"
  }
 },
 "nbformat": 4,
 "nbformat_minor": 4
}
