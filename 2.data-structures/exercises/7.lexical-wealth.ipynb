{
 "cells": [
  {
   "cell_type": "markdown",
   "metadata": {},
   "source": [
    "# Une approche de la richesse lexicale\n",
    "\n",
    "Prenons deux textes de Gustave Flaubert qui semblent assez éloignés : *Madame Bovary* (1856) et *Salammbô* (1862). Si les deux romans traitent de l’éveil sentimental de ses héroïnes enfermées pour l’une dans la morale de la bourgeoisie de province et pour la seconde dans les commandements d’une religion répressive, le premier est contemporain de l’auteur, de veine réaliste, tandis que le second prend place dans la Carthage du IIIe siècle avant J.-C.\n",
    "\n",
    "Nous souhaitons évaluer sommairement la richesse lexicale de ces deux textes. Avertissement : le corpus n’a subi aucun pré-traitement afin d’harmoniser le format des textes, aussi les résultats ne pourront-ils se prévaloir d’une quelconque rigueur scientifique.\n",
    "\n",
    "Pour commencer, chargeons les textes et récupérons la liste des mots :"
   ]
  },
  {
   "cell_type": "code",
   "execution_count": null,
   "metadata": {},
   "outputs": [],
   "source": [
    "paths = ['../data/madame-bovary_fr.txt', '../data/salammbo-fr.txt']\n",
    "txt_words = []\n",
    "\n",
    "for path in paths:\n",
    "    with open(path) as file:\n",
    "        txt_words.append(file.read().split())"
   ]
  },
  {
   "cell_type": "markdown",
   "metadata": {},
   "source": [
    "Pour vérifier la validité des listes, jetons un aperçu au résultat :"
   ]
  },
  {
   "cell_type": "code",
   "execution_count": null,
   "metadata": {},
   "outputs": [],
   "source": [
    "# How many words in Salammbô?\n",
    "print(len(txt_words[1]))\n",
    "# First fifty words in Salammbô\n",
    "print(txt_words[1][:50])"
   ]
  },
  {
   "cell_type": "markdown",
   "metadata": {},
   "source": [
    "## Questions\n",
    "\n",
    "1. Quel est le texte qui comporte le plus de mots ?\n",
    "2. Quel est le texte qui comporte le plus de mots uniques ?\n",
    "3. Quel est le texte qui présente la plus grande richesse lexicale ?  \n",
    "Pour ce calcul, vous établirez un rapport entre le nombre total de mots et le nombre de mots uniques.\n",
    "4. Combien de mots uniques comptent les deux textes rassemblés ?\n",
    "5. Quels sont les mots uniques présents seulement dans Salammbô ?\n",
    "6. Quels sont les mots uniques que les textes ont en commun ?\n",
    "7. Au contraire, quels sont ceux qu’ils n’ont pas en commun ?"
   ]
  }
 ],
 "metadata": {
  "kernelspec": {
   "display_name": "Python 3",
   "language": "python",
   "name": "python3"
  },
  "language_info": {
   "codemirror_mode": {
    "name": "ipython",
    "version": 3
   },
   "file_extension": ".py",
   "mimetype": "text/x-python",
   "name": "python",
   "nbconvert_exporter": "python",
   "pygments_lexer": "ipython3",
   "version": "3.8.0"
  }
 },
 "nbformat": 4,
 "nbformat_minor": 4
}
