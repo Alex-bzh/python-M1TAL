{
 "cells": [
  {
   "cell_type": "markdown",
   "metadata": {
    "slideshow": {
     "slide_type": "slide"
    }
   },
   "source": [
    "# Les opérations mathématiques"
   ]
  },
  {
   "cell_type": "markdown",
   "metadata": {
    "slideshow": {
     "slide_type": "slide"
    }
   },
   "source": [
    "## Les types numériques\n",
    "\n",
    "- `int` : nombres entiers, naturels (0, 1, 2…) ou relatifs (-2, -1, 0, +1, +2…)\n",
    "- `float` : nombres décimaux\n",
    "- `complex` : nombres complexes (constante complexe, en python, se note `j`)"
   ]
  },
  {
   "cell_type": "code",
   "execution_count": null,
   "metadata": {
    "slideshow": {
     "slide_type": "-"
    }
   },
   "outputs": [],
   "source": [
    "a, b = 2, 2.0\n",
    "c = (3 / 4j) + 1.5j\n",
    "print(f'{a} is instance of {type(a)}')\n",
    "print(f'{b} is instance of {type(b)}')\n",
    "print(f'{c} is instance of {type(c)}')"
   ]
  },
  {
   "cell_type": "markdown",
   "metadata": {
    "slideshow": {
     "slide_type": "slide"
    }
   },
   "source": [
    "## Les opérateurs mathématiques"
   ]
  },
  {
   "cell_type": "code",
   "execution_count": null,
   "metadata": {
    "slideshow": {
     "slide_type": "-"
    }
   },
   "outputs": [],
   "source": [
    "# addition\n",
    "print(a + b)\n",
    "# subtraction\n",
    "print(a - b)\n",
    "# multiplication\n",
    "print(a * a)\n",
    "# divison\n",
    "print(b / a)\n",
    "# exponentiation\n",
    "print(a ** b)\n",
    "# modulo\n",
    "print((a + b) % b)"
   ]
  },
  {
   "cell_type": "markdown",
   "metadata": {
    "slideshow": {
     "slide_type": "subslide"
    }
   },
   "source": [
    "Priorité des opérations (PEMDAS) :\n",
    "- Parenthèses\n",
    "- Exposants\n",
    "- Multiplication et Division\n",
    "- Addition et Soustraction\n",
    "\n",
    "À niveau égal, l’exécution s’effectue de gauche à droite"
   ]
  },
  {
   "cell_type": "markdown",
   "metadata": {
    "slideshow": {
     "slide_type": "slide"
    }
   },
   "source": [
    "## Les opérateurs de comparaison\n",
    "\n",
    "Signe `=` pour l’affectation : signifie qu’une valeur a pour référence un nom.\n",
    "    \n",
    "Le test d’égalité s’effectue avec l’opérateur `==`. Il renvoie un booléen (vrai ou faux)."
   ]
  },
  {
   "cell_type": "code",
   "execution_count": null,
   "metadata": {
    "slideshow": {
     "slide_type": "-"
    }
   },
   "outputs": [],
   "source": [
    "print(a == b)"
   ]
  },
  {
   "cell_type": "markdown",
   "metadata": {
    "slideshow": {
     "slide_type": "subslide"
    }
   },
   "source": [
    "Autres opérateurs :\n",
    "- `<` : strictement inférieur à\n",
    "- `>` : strictement supérieur à\n",
    "- `<=` : inférieur ou égal à\n",
    "- `>=` : supérieur ou égal à\n",
    "- `!=` : différent de\n",
    "- `is` : strictement identique à\n",
    "- `is not` : non identique à"
   ]
  },
  {
   "cell_type": "code",
   "execution_count": null,
   "metadata": {
    "slideshow": {
     "slide_type": "-"
    }
   },
   "outputs": [],
   "source": [
    "print(a is b)"
   ]
  }
 ],
 "metadata": {
  "celltoolbar": "Diaporama",
  "kernelspec": {
   "display_name": "Python 3",
   "language": "python",
   "name": "python3"
  },
  "language_info": {
   "codemirror_mode": {
    "name": "ipython",
    "version": 3
   },
   "file_extension": ".py",
   "mimetype": "text/x-python",
   "name": "python",
   "nbconvert_exporter": "python",
   "pygments_lexer": "ipython3",
   "version": "3.8.0"
  }
 },
 "nbformat": 4,
 "nbformat_minor": 4
}
