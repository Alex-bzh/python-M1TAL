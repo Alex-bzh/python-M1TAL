{
 "cells": [
  {
   "cell_type": "markdown",
   "metadata": {
    "slideshow": {
     "slide_type": "slide"
    }
   },
   "source": [
    "# Les opérations mathématiques"
   ]
  },
  {
   "cell_type": "markdown",
   "metadata": {
    "slideshow": {
     "slide_type": "slide"
    }
   },
   "source": [
    "## Les types numériques\n",
    "\n",
    "- `int` : nombres entiers, naturels (0, 1, 2…) ou relatifs (-2, -1, 0, +1, +2…)\n",
    "- `float` : nombres décimaux\n",
    "- `complex` : nombres complexes (constante complexe, en python, se note `j`)"
   ]
  },
  {
   "cell_type": "code",
   "execution_count": null,
   "metadata": {
    "slideshow": {
     "slide_type": "-"
    }
   },
   "outputs": [],
   "source": [
    "a, b = 2, 2.0\n",
    "c = (3 / 4j) + 1.5j\n",
    "print(f'{a} is instance of {type(a)}')\n",
    "print(f'{b} is instance of {type(b)}')\n",
    "print(f'{c} is instance of {type(c)}')"
   ]
  },
  {
   "cell_type": "markdown",
   "metadata": {
    "slideshow": {
     "slide_type": "slide"
    }
   },
   "source": [
    "## Les opérateurs mathématiques"
   ]
  },
  {
   "cell_type": "code",
   "execution_count": null,
   "metadata": {
    "slideshow": {
     "slide_type": "-"
    }
   },
   "outputs": [],
   "source": [
    "# addition\n",
    "print(a + b)\n",
    "# subtraction\n",
    "print(a - b)\n",
    "# multiplication\n",
    "print(a * a)\n",
    "# divison\n",
    "print(b / a)\n",
    "# exponentiation\n",
    "print(a ** b)\n",
    "# modulo\n",
    "print((a + b) % b)"
   ]
  },
  {
   "cell_type": "markdown",
   "metadata": {
    "slideshow": {
     "slide_type": "subslide"
    }
   },
   "source": [
    "Priorité des opérations (PEMDAS) :\n",
    "- Parenthèses\n",
    "- Exposants\n",
    "- Multiplication et Division\n",
    "- Addition et Soustraction\n",
    "\n",
    "À niveau égal, l’exécution s’effectue de gauche à droite"
   ]
  },
  {
   "cell_type": "markdown",
   "metadata": {
    "slideshow": {
     "slide_type": "slide"
    }
   },
   "source": [
    "## Les opérateurs de comparaison\n",
    "\n",
    "Signe `=` pour l’affectation : signifie qu’une valeur a pour référence un nom.\n",
    "    \n",
    "Le test d’égalité s’effectue avec l’opérateur `==`. Il renvoie un booléen (vrai ou faux)."
   ]
  },
  {
   "cell_type": "code",
   "execution_count": null,
   "metadata": {
    "slideshow": {
     "slide_type": "-"
    }
   },
   "outputs": [],
   "source": [
    "print(a == b)"
   ]
  },
  {
   "cell_type": "markdown",
   "metadata": {
    "slideshow": {
     "slide_type": "subslide"
    }
   },
   "source": [
    "Autres opérateurs :\n",
    "- `<` : strictement inférieur à\n",
    "- `>` : strictement supérieur à\n",
    "- `<=` : inférieur ou égal à\n",
    "- `>=` : supérieur ou égal à\n",
    "- `!=` : différent de\n",
    "- `is` : strictement identique à\n",
    "- `is not` : non identique à"
   ]
  },
  {
   "cell_type": "code",
   "execution_count": null,
   "metadata": {
    "slideshow": {
     "slide_type": "-"
    }
   },
   "outputs": [],
   "source": [
    "print(a is b)"
   ]
  },
  {
   "cell_type": "markdown",
   "metadata": {
    "slideshow": {
     "slide_type": "slide"
    }
   },
   "source": [
    "## Techniques courantes\n",
    "\n",
    "### Arrondir un nombre\n",
    "\n",
    "Dès que l’on manipule autre chose que des entiers, il est fréquent d’obtenir un nombre avec quantité de décimales. La fonction `round()` permet d’arrondir le résultat à `n` décimales près :"
   ]
  },
  {
   "cell_type": "code",
   "execution_count": null,
   "metadata": {
    "slideshow": {
     "slide_type": "-"
    }
   },
   "outputs": [],
   "source": [
    "div = 1 / 3\n",
    "round(div, 2)"
   ]
  },
  {
   "cell_type": "markdown",
   "metadata": {
    "slideshow": {
     "slide_type": "subslide"
    }
   },
   "source": [
    "Le module `math` propose des fonctions similaires pour arrondir à l’entier supérieur ou inférieur :"
   ]
  },
  {
   "cell_type": "code",
   "execution_count": null,
   "metadata": {
    "slideshow": {
     "slide_type": "-"
    }
   },
   "outputs": [],
   "source": [
    "from math import ceil, floor\n",
    "\n",
    "print(ceil(div))\n",
    "print(floor(div))"
   ]
  },
  {
   "cell_type": "markdown",
   "metadata": {
    "slideshow": {
     "slide_type": "subslide"
    }
   },
   "source": [
    "Il est tentant de croire que le résultat de l’appel à la fonction `floor()` est identique à celui d’un `round()` à zéro décimale près. C’est faux pour deux raisons :\n",
    "- `round()` renvoie un objet de type `float` ;\n",
    "- `round()` effectue à un arrondi à l’entier le plus proche."
   ]
  },
  {
   "cell_type": "code",
   "execution_count": null,
   "metadata": {
    "slideshow": {
     "slide_type": "-"
    }
   },
   "outputs": [],
   "source": [
    "zero = round(0.3333, 0)\n",
    "un = round(0.6666, 0)\n",
    "print(un, '!=', zero, '!=', floor(div))"
   ]
  },
  {
   "cell_type": "markdown",
   "metadata": {
    "slideshow": {
     "slide_type": "subslide"
    }
   },
   "source": [
    "### Contrainte de type\n",
    "\n",
    "Lorsque l’on définit des fonctions qui manipulent des nombres, il est primordial de bien contrôler le type de données en entrée. Parmi les différentes solutions, citons la fonction `insinstance()` qui vérifie la conformité d’un objet à un type donné :"
   ]
  },
  {
   "cell_type": "code",
   "execution_count": null,
   "metadata": {
    "slideshow": {
     "slide_type": "-"
    }
   },
   "outputs": [],
   "source": [
    "# d is not of string type\n",
    "d = \"12\"\n",
    "# Condition is not satisfied\n",
    "if isinstance(d, int):\n",
    "    print(d / 3)"
   ]
  },
  {
   "cell_type": "markdown",
   "metadata": {
    "slideshow": {
     "slide_type": "subslide"
    }
   },
   "source": [
    "### Obtenir un nombre aléatoire\n",
    "\n",
    "En parlant de nombre aléatoire, on effectue un raccourci pour désigner en vérité des nombres pseudo-aléatoires. En effet, si l’on génère une grande quantité de ces nombres, on remarque que certains ressortent plus souvent que d’autres. C’est la règle : ne jamais se fier à un algorithme pour obtenir des nombres aléatoires."
   ]
  },
  {
   "cell_type": "markdown",
   "metadata": {
    "slideshow": {
     "slide_type": "subslide"
    }
   },
   "source": [
    "Malgré tout, les générateurs de nombres pseudo-aléatoires se rapprochent le plus possible de la loi uniforme discrète afin de garantir à chaque nombre la même chance de sortir. C’est le cas du module `random` et de sa méthode `randint()` :"
   ]
  },
  {
   "cell_type": "code",
   "execution_count": null,
   "metadata": {
    "slideshow": {
     "slide_type": "-"
    }
   },
   "outputs": [],
   "source": [
    "from random import randint\n",
    "\n",
    "# An integer between 1 and 100, included\n",
    "randint(1, 100)"
   ]
  }
 ],
 "metadata": {
  "celltoolbar": "Diaporama",
  "kernelspec": {
   "display_name": "Python 3",
   "language": "python",
   "name": "python3"
  },
  "language_info": {
   "codemirror_mode": {
    "name": "ipython",
    "version": 3
   },
   "file_extension": ".py",
   "mimetype": "text/x-python",
   "name": "python",
   "nbconvert_exporter": "python",
   "pygments_lexer": "ipython3",
   "version": "3.8.0"
  }
 },
 "nbformat": 4,
 "nbformat_minor": 4
}
