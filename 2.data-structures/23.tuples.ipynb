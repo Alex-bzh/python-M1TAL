{
 "cells": [
  {
   "cell_type": "markdown",
   "metadata": {
    "slideshow": {
     "slide_type": "slide"
    }
   },
   "source": [
    "# Les tuples"
   ]
  },
  {
   "cell_type": "markdown",
   "metadata": {
    "slideshow": {
     "slide_type": "slide"
    }
   },
   "source": [
    "## Définition\n",
    "\n",
    "Les tuples, instanciés par des parenthèses, se conçoivent comme la version immutable des listes. Ils sont réputés contenir 0 ou plus de 1 élément."
   ]
  },
  {
   "cell_type": "code",
   "execution_count": null,
   "metadata": {
    "slideshow": {
     "slide_type": "-"
    }
   },
   "outputs": [],
   "source": [
    "# No element = this is a tuple\n",
    "t = ()\n",
    "print(type(t))\n",
    "# One element = this is not a tuple\n",
    "t = (1)\n",
    "print(type(tup))\n",
    "# More than 1 element = this is a tuple\n",
    "t = (1, 2)\n",
    "print(type(t))"
   ]
  },
  {
   "cell_type": "markdown",
   "metadata": {
    "slideshow": {
     "slide_type": "slide"
    }
   },
   "source": [
    "## Accéder à un élément du tuple\n",
    "\n",
    "Classiquement, la notation crochets permet d’accéder à un élément particulier du tuple :"
   ]
  },
  {
   "cell_type": "code",
   "execution_count": null,
   "metadata": {
    "slideshow": {
     "slide_type": "-"
    }
   },
   "outputs": [],
   "source": [
    "t = ('knight', 'noun')\n",
    "t[1]"
   ]
  },
  {
   "cell_type": "markdown",
   "metadata": {
    "slideshow": {
     "slide_type": "fragment"
    }
   },
   "source": [
    "Plus intéressante, la méthode qui permet de désempiler les éléments du tuple, sans avoir recours à une boucle :"
   ]
  },
  {
   "cell_type": "code",
   "execution_count": null,
   "metadata": {
    "slideshow": {
     "slide_type": "-"
    }
   },
   "outputs": [],
   "source": [
    "word, tag = ('knight', 'noun')\n",
    "print(word)\n",
    "print(tag)"
   ]
  },
  {
   "cell_type": "markdown",
   "metadata": {
    "slideshow": {
     "slide_type": "subslide"
    }
   },
   "source": [
    "Autrement, en présence d’une boucle, un tuple se comporte comme une liste :"
   ]
  },
  {
   "cell_type": "code",
   "execution_count": null,
   "metadata": {
    "slideshow": {
     "slide_type": "-"
    }
   },
   "outputs": [],
   "source": [
    "t = ('knight', 'noun')\n",
    "for element in t:\n",
    "    print(element)"
   ]
  },
  {
   "cell_type": "markdown",
   "metadata": {
    "slideshow": {
     "slide_type": "fragment"
    }
   },
   "source": [
    "Pour connaître l’indice d’un élément du tuple, recourir à la méthode `index()` :"
   ]
  },
  {
   "cell_type": "code",
   "execution_count": null,
   "metadata": {
    "slideshow": {
     "slide_type": "-"
    }
   },
   "outputs": [],
   "source": [
    "t.index('knight')"
   ]
  },
  {
   "cell_type": "markdown",
   "metadata": {
    "slideshow": {
     "slide_type": "slide"
    }
   },
   "source": [
    "## Immutabilité\n",
    "\n",
    "Cette caractéristique rend impossible la modification d’un tuple après sa création :"
   ]
  },
  {
   "cell_type": "code",
   "execution_count": null,
   "metadata": {
    "slideshow": {
     "slide_type": "-"
    }
   },
   "outputs": [],
   "source": [
    "# An exception is raised\n",
    "t = ('castle', 'verb')\n",
    "t[1] = 'noun'"
   ]
  },
  {
   "cell_type": "markdown",
   "metadata": {
    "slideshow": {
     "slide_type": "subslide"
    }
   },
   "source": [
    "Une étape intermédiaire de transformation de type en liste est nécessaire pour la réaliser avant de rétablir le tuple sous sa vraie forme :"
   ]
  },
  {
   "cell_type": "code",
   "execution_count": null,
   "metadata": {
    "slideshow": {
     "slide_type": "-"
    }
   },
   "outputs": [],
   "source": [
    "t = list(t)\n",
    "t[1] = 'noun'\n",
    "t = tuple(t)\n",
    "print(t)"
   ]
  },
  {
   "cell_type": "markdown",
   "metadata": {
    "slideshow": {
     "slide_type": "fragment"
    }
   },
   "source": [
    "**Remarque :** une liste à l’intérieur d’un tuple n’hérite pas de son caractère immutable."
   ]
  },
  {
   "cell_type": "code",
   "execution_count": null,
   "metadata": {
    "slideshow": {
     "slide_type": "-"
    }
   },
   "outputs": [],
   "source": [
    "t = ('castle', ['noun', 'masculine', 'plural'])\n",
    "t[1][2] = 'singular'\n",
    "print(t)"
   ]
  },
  {
   "cell_type": "markdown",
   "metadata": {
    "slideshow": {
     "slide_type": "subslide"
    }
   },
   "source": [
    "De la même manière, il n’est pas permis de supprimer un élément d’un tuple :"
   ]
  },
  {
   "cell_type": "code",
   "execution_count": null,
   "metadata": {},
   "outputs": [],
   "source": [
    "t = ('castle', 'noun')\n",
    "del(t[1])"
   ]
  },
  {
   "cell_type": "markdown",
   "metadata": {
    "slideshow": {
     "slide_type": "fragment"
    }
   },
   "source": [
    "On peut en revanche supprimer le tuple complètement grâce à la fonction `del()` :"
   ]
  },
  {
   "cell_type": "code",
   "execution_count": null,
   "metadata": {
    "slideshow": {
     "slide_type": "-"
    }
   },
   "outputs": [],
   "source": [
    "del(t)"
   ]
  },
  {
   "cell_type": "markdown",
   "metadata": {
    "slideshow": {
     "slide_type": "subslide"
    }
   },
   "source": [
    " Si l’on ne peut supprimer un élément d’un tuple, il est toutefois possible de le réaffecter, comme pour les chaînes de caractères :"
   ]
  },
  {
   "cell_type": "code",
   "execution_count": null,
   "metadata": {
    "slideshow": {
     "slide_type": "-"
    }
   },
   "outputs": [],
   "source": [
    "t = ('castle', 'verb')\n",
    "# As a tuple needs more than 1 element,\n",
    "# put a comma at the end\n",
    "t = (t[0],) + ('noun',)\n",
    "print(t)"
   ]
  },
  {
   "cell_type": "markdown",
   "metadata": {
    "slideshow": {
     "slide_type": "slide"
    }
   },
   "source": [
    "## Fusionner des tuples\n",
    "\n",
    "Lorsque l’on dispose de deux tuples de longueur égale, c’est-à-dire avec exactement le même nombre d’éléments, on peut les fusionner en une seule liste de tuples avec la fonction `zip()` :"
   ]
  },
  {
   "cell_type": "code",
   "execution_count": null,
   "metadata": {
    "slideshow": {
     "slide_type": "-"
    }
   },
   "outputs": [],
   "source": [
    "words = ('castle', 'knights', 'keep')\n",
    "tags = ('noun', 'noun', 'verb')\n",
    "genders = ('masculine', 'masculine', '-')\n",
    "tagged = zip(words, tags, genders)\n",
    "for t in tagged:\n",
    "    print(t)"
   ]
  },
  {
   "cell_type": "markdown",
   "metadata": {
    "slideshow": {
     "slide_type": "slide"
    }
   },
   "source": [
    "## Techniques courantes sur les tuples\n",
    "\n",
    "### Trier\n",
    "\n",
    "Les tuples peuvent être triés grâce à la fonction `sorted()`, mais le format de sortie sera une liste :"
   ]
  },
  {
   "cell_type": "code",
   "execution_count": null,
   "metadata": {
    "slideshow": {
     "slide_type": "-"
    }
   },
   "outputs": [],
   "source": [
    "words = (\"We\", \"are\", \"the\", \"knights\", \"who\", \"say\", \"'Ni'!\")\n",
    "sorted(words)"
   ]
  },
  {
   "cell_type": "markdown",
   "metadata": {
    "slideshow": {
     "slide_type": "subslide"
    }
   },
   "source": [
    "### Calculs\n",
    "\n",
    "La méthode `count()` renvoie le nombre d’occurrences d’un élément passé en paramètres :"
   ]
  },
  {
   "cell_type": "code",
   "execution_count": null,
   "metadata": {
    "slideshow": {
     "slide_type": "-"
    }
   },
   "outputs": [],
   "source": [
    "notes = (12, 15, 15, 7, 8, 13, 17, 9)\n",
    "notes.count(9)"
   ]
  },
  {
   "cell_type": "markdown",
   "metadata": {
    "slideshow": {
     "slide_type": "subslide"
    }
   },
   "source": [
    "Quelques autres fonctions utiles :\n",
    "- `len()` : renvoie le nombre d’éléments\n",
    "- `max()`: renvoie la valeur maximale\n",
    "- `min()`: renvoie la valeur minimale\n",
    "- `sum()` : renvoie la somme des valeurs de la liste"
   ]
  },
  {
   "cell_type": "code",
   "execution_count": null,
   "metadata": {},
   "outputs": [],
   "source": [
    "print(len(notes))\n",
    "print(max(notes))\n",
    "print(min(notes))\n",
    "print(sum(notes))"
   ]
  },
  {
   "cell_type": "markdown",
   "metadata": {
    "slideshow": {
     "slide_type": "subslide"
    }
   },
   "source": [
    "### Itération\n",
    "\n",
    "Sans surprise, l’itération sur les tuples s’effectue avec une boucle `for` :"
   ]
  },
  {
   "cell_type": "code",
   "execution_count": null,
   "metadata": {
    "slideshow": {
     "slide_type": "-"
    }
   },
   "outputs": [],
   "source": [
    "words = (\"We\", \"are\", \"the\", \"knights\", \"who\", \"say\", \"'Ni'!\")\n",
    "for word in words:\n",
    "    print(word, end=\" \")"
   ]
  },
  {
   "cell_type": "markdown",
   "metadata": {
    "slideshow": {
     "slide_type": "fragment"
    }
   },
   "source": [
    "La fonction `enumerate()` est également accessible :"
   ]
  },
  {
   "cell_type": "code",
   "execution_count": null,
   "metadata": {
    "slideshow": {
     "slide_type": "-"
    }
   },
   "outputs": [],
   "source": [
    "for idx, word in enumerate(words):\n",
    "    print(idx, end=\" \")"
   ]
  },
  {
   "cell_type": "markdown",
   "metadata": {
    "slideshow": {
     "slide_type": "subslide"
    }
   },
   "source": [
    "Dans la réalité, l’exemple précédent se résoud plus simplement avec une liste. Les tuples servent davantage à relier étroitement des éléments dans un ensemble. L’exemple suivant est plus réaliste :"
   ]
  },
  {
   "cell_type": "code",
   "execution_count": null,
   "metadata": {
    "slideshow": {
     "slide_type": "-"
    }
   },
   "outputs": [],
   "source": [
    "sentence = [\n",
    "    (\"We\", \"PNP\", \"we\"),\n",
    "    (\"are\", \"VBB\", \"be\"),\n",
    "    (\"the\", \"AT0\", \"the\"),\n",
    "    (\"knights\", \"NN2\", \"knight\"),\n",
    "    (\"who\", \"PNQ\", \"who\"),\n",
    "    (\"say\", \"VBB\", \"say\"),\n",
    "    (\"Ni\", \"NP0\", \"ni\"),\n",
    "    (\"!\", \"SENT\", \"!\"),\n",
    "]"
   ]
  },
  {
   "cell_type": "markdown",
   "metadata": {
    "slideshow": {
     "slide_type": "subslide"
    }
   },
   "source": [
    "Et pour désempiler chaque élément d’un tuple :"
   ]
  },
  {
   "cell_type": "code",
   "execution_count": null,
   "metadata": {
    "slideshow": {
     "slide_type": "-"
    }
   },
   "outputs": [],
   "source": [
    "for word, tag, lemma in sentence:\n",
    "    print(word, tag, lemma, end=\"/\")"
   ]
  }
 ],
 "metadata": {
  "celltoolbar": "Diaporama",
  "kernelspec": {
   "display_name": "Python 3",
   "language": "python",
   "name": "python3"
  },
  "language_info": {
   "codemirror_mode": {
    "name": "ipython",
    "version": 3
   },
   "file_extension": ".py",
   "mimetype": "text/x-python",
   "name": "python",
   "nbconvert_exporter": "python",
   "pygments_lexer": "ipython3",
   "version": "3.8.0"
  }
 },
 "nbformat": 4,
 "nbformat_minor": 4
}
