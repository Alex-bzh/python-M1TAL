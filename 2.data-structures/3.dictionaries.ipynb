{
 "cells": [
  {
   "cell_type": "markdown",
   "metadata": {
    "slideshow": {
     "slide_type": "slide"
    }
   },
   "source": [
    "# Les dictionnaires"
   ]
  },
  {
   "cell_type": "markdown",
   "metadata": {
    "slideshow": {
     "slide_type": "slide"
    }
   },
   "source": [
    "## Présentation\n",
    "\n",
    "Le terme est plutôt explicite : un objet de type `dict` en Python se conçoit comme un dictionnaire de la vie réelle : à chaque entrée correspond une information. L’entrée est appelée **clé** (*key*), quand l’information est appelée **valeur** (*value*).\n",
    "\n",
    "Une différence notable toutefois : lorsque le dictionnaire que l’on feuillette est ordonné, le dictionnaire en Python ne l’est absolument pas. En fait, c’est intuile. Python n’a aucunement besoin de connaître l’ordre des clés pour retrouver rapidement les valeurs associées, alors que pour nous autres humains, eh bien, ce serait compliqué de se repérer dans un dictionnaire tout mélangé !\n",
    "\n",
    "Et disons-le tout de suite : le dictionnaire est un objet mutable, donc modifiable après sa création."
   ]
  },
  {
   "cell_type": "markdown",
   "metadata": {
    "slideshow": {
     "slide_type": "subslide"
    }
   },
   "source": [
    "D’un point de vue informatique, un dictionnaire est une table de hachage. Et une table de hachage, c’est hachement bien :  \n",
    "[https://fr.wikipedia.org/wiki/Table_de_hachage](https://fr.wikipedia.org/wiki/Table_de_hachage)\n",
    "\n",
    "Pour s’en convaincre rapidement, un cas pratique :"
   ]
  },
  {
   "cell_type": "code",
   "execution_count": null,
   "metadata": {
    "slideshow": {
     "slide_type": "-"
    }
   },
   "outputs": [],
   "source": [
    "# A list of lists of lists\n",
    "houses = [\n",
    "    ['House Lannister', ['Jaime', 'Cersei', 'Tywin', 'Tyrion']],\n",
    "    ['House Stark', ['Sansa', 'Arya', 'Jon Snow', 'Eddard']]\n",
    "]"
   ]
  },
  {
   "cell_type": "markdown",
   "metadata": {
    "slideshow": {
     "slide_type": "fragment"
    }
   },
   "source": [
    "Comment lister les membres de la maison Stark ?"
   ]
  },
  {
   "cell_type": "markdown",
   "metadata": {
    "slideshow": {
     "slide_type": "subslide"
    }
   },
   "source": [
    "### Point de vue de l’agent humain\n",
    "\n",
    "Pour un être humain, c’est dans ce cas assez facile : la liste est courte. On sait repérer qu’il s’agit de la deuxième entrée, donc en position 1 dans la liste.\n",
    "\n",
    "On parvient à une sous-liste, qui contient le nom de la maison en position 0, puis la liste des membres en position 1."
   ]
  },
  {
   "cell_type": "code",
   "execution_count": null,
   "metadata": {
    "slideshow": {
     "slide_type": "-"
    }
   },
   "outputs": [],
   "source": [
    "for character in houses[1][1]:\n",
    "    print(character)"
   ]
  },
  {
   "cell_type": "markdown",
   "metadata": {
    "slideshow": {
     "slide_type": "fragment"
    }
   },
   "source": [
    "Et si la liste comportait une centaine d’entrées ? 1000 ? 10 000 ?"
   ]
  },
  {
   "cell_type": "markdown",
   "metadata": {
    "slideshow": {
     "slide_type": "subslide"
    }
   },
   "source": [
    "### Point de vue de la machine\n",
    "\n",
    "Pour la machine, c’est un peu plus compliqué. Elle ne repère pas d’un coup d’œil la conformité entre l’information en position 1 et la recherche voulue par la procédure. Elle a donc besoin de parcourir la liste du début jusqu’à tomber sur la bonne entrée :"
   ]
  },
  {
   "cell_type": "code",
   "execution_count": null,
   "metadata": {
    "slideshow": {
     "slide_type": "-"
    }
   },
   "outputs": [],
   "source": [
    "for house in houses:\n",
    "    if house[0] == 'House Stark':\n",
    "        for character in house[1]:\n",
    "            print(character)"
   ]
  },
  {
   "cell_type": "markdown",
   "metadata": {
    "slideshow": {
     "slide_type": "subslide"
    }
   },
   "source": [
    "### Création d’un dictionnaire\n",
    "\n",
    "Un dictionnaire peut se créer avec la fonction `dict()`, tout comme in extenso avec des `{}`. À chaque clé est associée une valeur grâce à la syntaxe `:` et les entrées sont séparées les unes des autres par des virgules."
   ]
  },
  {
   "cell_type": "code",
   "execution_count": null,
   "metadata": {
    "slideshow": {
     "slide_type": "-"
    }
   },
   "outputs": [],
   "source": [
    "# A directory of the main houses in GoT\n",
    "houses = {\n",
    "    'House Lannister': ['Jaime', 'Cersei', 'Tywin', 'Tyrion'],\n",
    "    'House Stark': ['Sansa', 'Arya', 'Jon Snow', 'Eddard']\n",
    "}"
   ]
  },
  {
   "cell_type": "markdown",
   "metadata": {
    "slideshow": {
     "slide_type": "subslide"
    }
   },
   "source": [
    "Et maintenant, comment lister les membres de la maison Stark ?"
   ]
  },
  {
   "cell_type": "code",
   "execution_count": null,
   "metadata": {
    "slideshow": {
     "slide_type": "-"
    }
   },
   "outputs": [],
   "source": [
    "# Pretty! Simple! Efficient!\n",
    "for character in houses['House Stark']:\n",
    "    print(character)"
   ]
  },
  {
   "cell_type": "markdown",
   "metadata": {
    "slideshow": {
     "slide_type": "fragment"
    }
   },
   "source": [
    "Et pour trouver cette information, Python n’a même pas eu à parcourir le dictionnaire.\n",
    "\n",
    "Puisqu’on vous dit que c’est hachement bien une table de hachage !"
   ]
  },
  {
   "cell_type": "markdown",
   "metadata": {
    "slideshow": {
     "slide_type": "slide"
    }
   },
   "source": [
    "## Manipuler un dictionnaire\n",
    "\n",
    "### Le point sur la fonction `dict()`\n",
    "\n",
    "Pour créer un dictionnaire avec `dict()`, la fonction exige en paramètre une liste de tuples dont la première entrée sera la clé et la seconde la valeur :"
   ]
  },
  {
   "cell_type": "code",
   "execution_count": null,
   "metadata": {
    "slideshow": {
     "slide_type": "-"
    }
   },
   "outputs": [],
   "source": [
    "houses = dict([\n",
    "    ('House Lannister', ['Jaime', 'Cersei', 'Tywin', 'Tyrion']),\n",
    "    ('House Stark', ['Sansa', 'Arya', 'Jon Snow', 'Eddard'])\n",
    "])"
   ]
  },
  {
   "cell_type": "markdown",
   "metadata": {
    "slideshow": {
     "slide_type": "subslide"
    }
   },
   "source": [
    "Il existe une autre variante d’écriture, qui requiert un peu de doigté :"
   ]
  },
  {
   "cell_type": "code",
   "execution_count": null,
   "metadata": {
    "slideshow": {
     "slide_type": "-"
    }
   },
   "outputs": [],
   "source": [
    "houses = dict(\n",
    "    lannister = ['Jaime', 'Cersei', 'Tywin', 'Tyrion'],\n",
    "    stark = ['Sansa', 'Arya', 'Jon Snow', 'Eddard']\n",
    ")"
   ]
  },
  {
   "cell_type": "markdown",
   "metadata": {
    "slideshow": {
     "slide_type": "fragment"
    }
   },
   "source": [
    "Cette méthode passe par des *kwargs*, des *keyword arguments*. Dans notre situation, elle n’est pas envisageable car on perd la finesse de détails de la clé (présence du caractère espace), mais lorsque les clés d’un dictionnaire sont constituées d’identifiants formatés, elle se révèle pratique."
   ]
  },
  {
   "cell_type": "markdown",
   "metadata": {
    "slideshow": {
     "slide_type": "subslide"
    }
   },
   "source": [
    "### Accéder aux valeurs\n",
    "\n",
    "Deux manières :\n",
    "- avec `[]` (identique aux listes)\n",
    "- avec la méthode `get()`"
   ]
  },
  {
   "cell_type": "code",
   "execution_count": null,
   "metadata": {
    "slideshow": {
     "slide_type": "-"
    }
   },
   "outputs": [],
   "source": [
    "print(houses['lannister'])\n",
    "print(houses.get('stark'))"
   ]
  },
  {
   "cell_type": "markdown",
   "metadata": {
    "slideshow": {
     "slide_type": "subslide"
    }
   },
   "source": [
    "La subtilité : si une clé n’existe pas, la méthode `get()` renvoie `None` ou un second argument au lieu de lever une exception."
   ]
  },
  {
   "cell_type": "code",
   "execution_count": null,
   "metadata": {
    "slideshow": {
     "slide_type": "-"
    }
   },
   "outputs": [],
   "source": [
    "# Key 'targaryen' doesn't exist, the second parameter is returned\n",
    "print(houses.get('targaryen', 'Cette maison n’existe pas encore.'))"
   ]
  },
  {
   "cell_type": "markdown",
   "metadata": {
    "slideshow": {
     "slide_type": "subslide"
    }
   },
   "source": [
    "### Ajouter/modifier/supprimer des entrées\n",
    "\n",
    "L’objet `dict` étant mutable, on peut le modifier après sa création :"
   ]
  },
  {
   "cell_type": "code",
   "execution_count": null,
   "metadata": {
    "slideshow": {
     "slide_type": "-"
    }
   },
   "outputs": [],
   "source": [
    "# A new entry\n",
    "houses['targaryen'] = ['Daenerys', 'Rhaegar', 'Rhaella', 'Aerys']"
   ]
  },
  {
   "cell_type": "code",
   "execution_count": null,
   "metadata": {
    "slideshow": {
     "slide_type": "fragment"
    }
   },
   "outputs": [],
   "source": [
    "# A new member in the House Stark\n",
    "houses['stark'].append('Lyanna')"
   ]
  },
  {
   "cell_type": "code",
   "execution_count": null,
   "metadata": {
    "slideshow": {
     "slide_type": "fragment"
    }
   },
   "outputs": [],
   "source": [
    "# Deletes a whole entry\n",
    "del houses['lannister']"
   ]
  },
  {
   "cell_type": "markdown",
   "metadata": {
    "slideshow": {
     "slide_type": "subslide"
    }
   },
   "source": [
    "Un autre dictionnaire peut servir à compléter un dictionnaire existant, grâce à la méthode `update()` :"
   ]
  },
  {
   "cell_type": "code",
   "execution_count": null,
   "metadata": {},
   "outputs": [],
   "source": [
    "houses.update({\n",
    "    'House Bolton': ['Roose', 'Ramsey', 'Walda']\n",
    "})"
   ]
  },
  {
   "cell_type": "markdown",
   "metadata": {
    "slideshow": {
     "slide_type": "slide"
    }
   },
   "source": [
    "## Techniques courantes"
   ]
  },
  {
   "cell_type": "markdown",
   "metadata": {
    "slideshow": {
     "slide_type": "-"
    }
   },
   "source": [
    "### Calculer le nombre d’entrées\n",
    "\n",
    "Aucun mystère, la fonction `len()` répond au besoin :"
   ]
  },
  {
   "cell_type": "code",
   "execution_count": null,
   "metadata": {
    "slideshow": {
     "slide_type": "-"
    }
   },
   "outputs": [],
   "source": [
    "len(houses)"
   ]
  },
  {
   "cell_type": "markdown",
   "metadata": {
    "slideshow": {
     "slide_type": "subslide"
    }
   },
   "source": [
    "### Test d’appartenance\n",
    "\n",
    "Comment vérifier qu’une clé est présente dans un dictionnaire ?"
   ]
  },
  {
   "cell_type": "code",
   "execution_count": null,
   "metadata": {
    "slideshow": {
     "slide_type": "-"
    }
   },
   "outputs": [],
   "source": [
    "'House Stark' in houses"
   ]
  },
  {
   "cell_type": "markdown",
   "metadata": {
    "slideshow": {
     "slide_type": "subslide"
    }
   },
   "source": [
    "### Parcourir toutes les entrées\n",
    "\n",
    "Tâche facilement réalisable avec une boucle `for` :"
   ]
  },
  {
   "cell_type": "code",
   "execution_count": null,
   "metadata": {
    "slideshow": {
     "slide_type": "-"
    }
   },
   "outputs": [],
   "source": [
    "for house in houses:\n",
    "    print(house)"
   ]
  },
  {
   "cell_type": "markdown",
   "metadata": {
    "slideshow": {
     "slide_type": "fragment"
    }
   },
   "source": [
    "Le résultat est la liste des clés, mais pas celle des valeurs associées. Il est alors préférable d’utiliser la méthode `items()` :"
   ]
  },
  {
   "cell_type": "code",
   "execution_count": null,
   "metadata": {
    "slideshow": {
     "slide_type": "-"
    }
   },
   "outputs": [],
   "source": [
    "for house in houses.items():\n",
    "    print(house)"
   ]
  },
  {
   "cell_type": "markdown",
   "metadata": {
    "slideshow": {
     "slide_type": "subslide"
    }
   },
   "source": [
    "Comme le résultat est un tuple, ne pas hésiter à désempiler les items :"
   ]
  },
  {
   "cell_type": "code",
   "execution_count": null,
   "metadata": {
    "slideshow": {
     "slide_type": "-"
    }
   },
   "outputs": [],
   "source": [
    "for house, members in houses.items():\n",
    "    print(f\"{house} est composée de : {', '.join(members)}\")"
   ]
  },
  {
   "cell_type": "markdown",
   "metadata": {
    "slideshow": {
     "slide_type": "subslide"
    }
   },
   "source": [
    "À noter deux autres méthodes :\n",
    "- `keys()` pour se limiter aux clés\n",
    "- `values()` pour se limiter aux valeurs"
   ]
  },
  {
   "cell_type": "code",
   "execution_count": null,
   "metadata": {
    "slideshow": {
     "slide_type": "-"
    }
   },
   "outputs": [],
   "source": [
    "names = houses.keys()\n",
    "members = houses.values()"
   ]
  },
  {
   "cell_type": "markdown",
   "metadata": {
    "slideshow": {
     "slide_type": "subslide"
    }
   },
   "source": [
    "### Un dictionnaire ordonné\n",
    "\n",
    "Le type natif `dict` renvoie un objet non ordonné qui, en prime, ne conserve pas l’ordre d’insertion des items. Comme nous l’avons vu, du point de vue de la machine, cela n’a aucune importance. Si l’ordre est pour vous important, il faut faire appel au type dérivé `orderedDict` du module `collections`."
   ]
  },
  {
   "cell_type": "code",
   "execution_count": null,
   "metadata": {
    "slideshow": {
     "slide_type": "-"
    }
   },
   "outputs": [],
   "source": [
    "from collections import OrderedDict\n",
    "\n",
    "ordered_dict_words = OrderedDict()\n",
    "\n",
    "sentence = [\n",
    "    (\"We\", \"PNP\", \"we\"),\n",
    "    (\"are\", \"VBB\", \"be\"),\n",
    "    (\"the\", \"AT0\", \"the\"),\n",
    "    (\"knights\", \"NN2\", \"knight\"),\n",
    "    (\"who\", \"PNQ\", \"who\"),\n",
    "    (\"say\", \"VBB\", \"say\"),\n",
    "    (\"Ni\", \"NP0\", \"ni\"),\n",
    "    (\"!\", \"SENT\", \"!\"),\n",
    "]"
   ]
  },
  {
   "cell_type": "markdown",
   "metadata": {
    "slideshow": {
     "slide_type": "subslide"
    }
   },
   "source": [
    "Et maintenant, pour remplir le dictionnaire en respectant l’ordre d’insertion :"
   ]
  },
  {
   "cell_type": "code",
   "execution_count": null,
   "metadata": {
    "slideshow": {
     "slide_type": "-"
    }
   },
   "outputs": [],
   "source": [
    "for word, tag, lemme in sentence:\n",
    "    ordered_dict_words[word] = [tag, lemme]\n",
    "print(ordered_dict_words)"
   ]
  },
  {
   "cell_type": "markdown",
   "metadata": {
    "slideshow": {
     "slide_type": "fragment"
    }
   },
   "source": [
    "Vous pouvez facilement vérifier que la situation serait différente avec un dictionnaire natif :"
   ]
  },
  {
   "cell_type": "code",
   "execution_count": null,
   "metadata": {
    "slideshow": {
     "slide_type": "-"
    }
   },
   "outputs": [],
   "source": [
    "unordered_dict_words = dict()\n",
    "for word, tag, lemme in sentence:\n",
    "    unordered_dict_words[word] = [tag, lemme]\n",
    "print(unordered_dict_words)"
   ]
  },
  {
   "cell_type": "markdown",
   "metadata": {
    "slideshow": {
     "slide_type": "subslide"
    }
   },
   "source": [
    "**Quoi ?!** Le résultat est le même !\n",
    "\n",
    "En fait, depuis la version Python 3.6, l’algorithme de création des dictionnaires peut donner l’impression que l’ordre est respecté. Rien toutefois ne le garantit, il ne faut pas s’y fier !"
   ]
  },
  {
   "cell_type": "markdown",
   "metadata": {
    "slideshow": {
     "slide_type": "subslide"
    }
   },
   "source": [
    "### Regrouper des entrées\n",
    "\n",
    "Pour continuer sur l’exemple tiré de la série *Game Of Thrones*, imaginons que vous disposiez au départ d’une liste de tuples avec, pour chaque personnage, la maison à laquelle il appartient :"
   ]
  },
  {
   "cell_type": "code",
   "execution_count": null,
   "metadata": {
    "slideshow": {
     "slide_type": "-"
    }
   },
   "outputs": [],
   "source": [
    "houses = [\n",
    "    ('House Lannister', 'Jaime'),\n",
    "    ('House Stark', 'Arya'),\n",
    "    ('House Targaryen', 'Daenerys'),\n",
    "    ('House Targaryen', 'Rhaegar'),\n",
    "    ('House Lannister', 'Cersei')\n",
    "]"
   ]
  },
  {
   "cell_type": "markdown",
   "metadata": {
    "slideshow": {
     "slide_type": "subslide"
    }
   },
   "source": [
    "Vous souhaitez désormais créer, comme plus haut, une structure de données qui prendrait la forme d’un dictionnaire devant gérer des listes. Chaque clé serait le nom d’une maison et la valeur associée en serait une liste de noms.\n",
    "\n",
    "Il s’agit d’un problème très classique, qui se règle avec un type `dict` :"
   ]
  },
  {
   "cell_type": "code",
   "execution_count": null,
   "metadata": {
    "slideshow": {
     "slide_type": "-"
    }
   },
   "outputs": [],
   "source": [
    "houses_dict = dict()\n",
    "\n",
    "for house, characters in houses:\n",
    "    if house not in houses_dict:\n",
    "        houses_dict[house] = []\n",
    "    houses_dict[house].append(characters)\n",
    "\n",
    "print(houses_dict)"
   ]
  },
  {
   "cell_type": "markdown",
   "metadata": {
    "slideshow": {
     "slide_type": "subslide"
    }
   },
   "source": [
    "Moins acrobatique, la solution qui recourt au type dérivé `defaultdict` a aussi le mérite d’être plus explicite :"
   ]
  },
  {
   "cell_type": "code",
   "execution_count": null,
   "metadata": {
    "slideshow": {
     "slide_type": "-"
    }
   },
   "outputs": [],
   "source": [
    "from collections import defaultdict\n",
    "\n",
    "# Specifying values will be 'list'\n",
    "# we save two steps in the algorithm\n",
    "houses_dict = defaultdict(list)\n",
    "\n",
    "for house, characters in houses:\n",
    "    houses_dict[house].append(characters)\n",
    "\n",
    "print(houses_dict)"
   ]
  },
  {
   "cell_type": "markdown",
   "metadata": {
    "slideshow": {
     "slide_type": "subslide"
    }
   },
   "source": [
    "### Tri multicritères\n",
    "\n",
    "Là encore, il s’agit d’un problème récurrent qui se résoud de deux manières. La première fait appel aux fonctions anonymes, appelées `lambda`, et la seconde à un module `operator`.\n",
    "\n",
    "Reprenons l’exemple des maisons de la série *Game of Thrones* :"
   ]
  },
  {
   "cell_type": "code",
   "execution_count": null,
   "metadata": {
    "slideshow": {
     "slide_type": "-"
    }
   },
   "outputs": [],
   "source": [
    "# A list of houses\n",
    "houses = {\n",
    "    'House Lannister': ['Jaime', 'Cersei', 'Tywin', 'Tyrion'],\n",
    "    'House Stark': ['Sansa', 'Arya', 'Jon Snow', 'Eddard'],\n",
    "    'House Targaryen': ['Daenerys', 'Rhaegar', 'Rhaella', 'Aerys'],\n",
    "    'House Bolton': ['Roose', 'Ramsey', 'Walda']\n",
    "}"
   ]
  },
  {
   "cell_type": "markdown",
   "metadata": {
    "slideshow": {
     "slide_type": "subslide"
    }
   },
   "source": [
    "Si l’objectif est de trier simplement par la clé :"
   ]
  },
  {
   "cell_type": "code",
   "execution_count": null,
   "metadata": {
    "slideshow": {
     "slide_type": "-"
    }
   },
   "outputs": [],
   "source": [
    "# Sorting the dict by name of houses\n",
    "sorted(houses.items())"
   ]
  },
  {
   "cell_type": "markdown",
   "metadata": {
    "slideshow": {
     "slide_type": "fragment"
    }
   },
   "source": [
    "Et pour effectuer un tri inverse :"
   ]
  },
  {
   "cell_type": "code",
   "execution_count": null,
   "metadata": {
    "slideshow": {
     "slide_type": "-"
    }
   },
   "outputs": [],
   "source": [
    "# Reverse sorting\n",
    "sorted(houses.items(), reverse=True)"
   ]
  },
  {
   "cell_type": "markdown",
   "metadata": {
    "slideshow": {
     "slide_type": "subslide"
    }
   },
   "source": [
    "Un peu plus compliqué : on voudrait trier selon le premier membre de chaque maison. Dans ce cas précis, *House Targaryen* arriverait en premier (Daenerys), puis *House Lannister* (Jaime)…\n",
    "\n",
    "On atteint l’objectif en passant une fonction `lambda` au paramètre `key` de la fonction `sorted()` :"
   ]
  },
  {
   "cell_type": "code",
   "execution_count": null,
   "metadata": {
    "slideshow": {
     "slide_type": "-"
    }
   },
   "outputs": [],
   "source": [
    "# Sorting houses by its first member\n",
    "sorted(houses.items(), key=lambda x: x[1])"
   ]
  },
  {
   "cell_type": "markdown",
   "metadata": {
    "slideshow": {
     "slide_type": "subslide"
    }
   },
   "source": [
    "Comment cela fonctionne ? La syntaxe d’une fonction anonyme est excessivement simple :\n",
    "```python\n",
    "lambda argument: expression\n",
    "```\n",
    "Appliquons à la fonction carré :"
   ]
  },
  {
   "cell_type": "code",
   "execution_count": null,
   "metadata": {
    "slideshow": {
     "slide_type": "-"
    }
   },
   "outputs": [],
   "source": [
    "square = lambda x: x ** 2\n",
    "print(square(4))"
   ]
  },
  {
   "cell_type": "markdown",
   "metadata": {
    "slideshow": {
     "slide_type": "subslide"
    }
   },
   "source": [
    "Pour aller encore plus loin, on va résoudre le cas où nous voudrions d’abord trier le dictionnaire par nom de maison, puis trier les membres de chaque maison par ordre alphabétique.\n",
    "\n",
    "La solution est en fait bien plus simple que l’énoncé de la question nous le ferait penser :"
   ]
  },
  {
   "cell_type": "code",
   "execution_count": null,
   "metadata": {
    "slideshow": {
     "slide_type": "-"
    }
   },
   "outputs": [],
   "source": [
    "# Sorting houses by their name then\n",
    "# sorting their members alphabetically\n",
    "for house, characters in sorted(houses.items()):\n",
    "    print(f\"{house}: {sorted(characters)}\")"
   ]
  },
  {
   "cell_type": "markdown",
   "metadata": {
    "slideshow": {
     "slide_type": "subslide"
    }
   },
   "source": [
    "Pour les réfractaires des fonctions anonymes, Python implémente des méthodes utilitaires à l’intérieur du module `operator`.\n",
    "\n",
    "Dans l’exemple ci-dessous, la méthode `itemgetter()` va sélectionner comme clé de tri l’un des items de l’objet transmis (la liste des membres d’une maison) :"
   ]
  },
  {
   "cell_type": "code",
   "execution_count": null,
   "metadata": {
    "slideshow": {
     "slide_type": "-"
    }
   },
   "outputs": [],
   "source": [
    "import operator\n",
    "\n",
    "sorted(houses.items(), key=operator.itemgetter(1))"
   ]
  }
 ],
 "metadata": {
  "celltoolbar": "Diaporama",
  "kernelspec": {
   "display_name": "Python 3",
   "language": "python",
   "name": "python3"
  },
  "language_info": {
   "codemirror_mode": {
    "name": "ipython",
    "version": 3
   },
   "file_extension": ".py",
   "mimetype": "text/x-python",
   "name": "python",
   "nbconvert_exporter": "python",
   "pygments_lexer": "ipython3",
   "version": "3.8.0"
  }
 },
 "nbformat": 4,
 "nbformat_minor": 4
}
