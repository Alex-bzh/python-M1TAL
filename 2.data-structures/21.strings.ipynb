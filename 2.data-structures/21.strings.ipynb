{
 "cells": [
  {
   "cell_type": "markdown",
   "metadata": {
    "slideshow": {
     "slide_type": "slide"
    }
   },
   "source": [
    "# Les chaînes de caractères\n",
    "\n",
    "Les méthodes fondamentales listées ci-dessous ne sont pas exclusives. Reportez-vous à la documentation pour davantage d’explications (`help(str)`)."
   ]
  },
  {
   "cell_type": "markdown",
   "metadata": {
    "slideshow": {
     "slide_type": "slide"
    }
   },
   "source": [
    "Les chaînes de caractères sont des objets de type `str`. Elles sont instanciées par des *quotes* simples ou doubles. Il est préférable d’utiliser des *quotes* doubles pour prévenir l’échappement des apostrophes :"
   ]
  },
  {
   "cell_type": "code",
   "execution_count": null,
   "metadata": {
    "slideshow": {
     "slide_type": "-"
    }
   },
   "outputs": [],
   "source": [
    "print('We’re open 7 days a week.')\n",
    "print('We\\'re open 7 days a week.')\n",
    "print(\"We're open 7 days a week.\")"
   ]
  },
  {
   "cell_type": "markdown",
   "metadata": {
    "slideshow": {
     "slide_type": "subslide"
    }
   },
   "source": [
    "Une autre caractéristique essentielle des chaînes de caractère est leur immutabilité, c’est-à-dire qu’elles ne peuvent pas être altérées après leur création :"
   ]
  },
  {
   "cell_type": "code",
   "execution_count": null,
   "metadata": {
    "slideshow": {
     "slide_type": "-"
    }
   },
   "outputs": [],
   "source": [
    "a = \"A lannister always pays his debts.\"\n",
    "a[2] = 'L'"
   ]
  },
  {
   "cell_type": "markdown",
   "metadata": {
    "slideshow": {
     "slide_type": "subslide"
    }
   },
   "source": [
    "Dans ce cas, la réaffectation est la solution privilégiée :"
   ]
  },
  {
   "cell_type": "code",
   "execution_count": null,
   "metadata": {
    "slideshow": {
     "slide_type": "-"
    }
   },
   "outputs": [],
   "source": [
    "a = \"A lannister always pays his debts.\"\n",
    "a = \"A Lannister always pays his debts.\"\n",
    "print(a)"
   ]
  },
  {
   "cell_type": "markdown",
   "metadata": {
    "slideshow": {
     "slide_type": "slide"
    }
   },
   "source": [
    "## Découper une chaîne formatée\n",
    "\n",
    "La méthode `split()` découpe une chaîne de caractères selon une règle transmise en paramètre et renvoie un objet de type `list`. Si aucun argument n’est passé, l’espace est considérée comme le séparateur par défaut."
   ]
  },
  {
   "cell_type": "code",
   "execution_count": null,
   "metadata": {
    "slideshow": {
     "slide_type": "-"
    }
   },
   "outputs": [],
   "source": [
    "a = \"A Lannister always pays his debts.\"\n",
    "b = \"A;Lannister;always;pays;his;debts.\"\n",
    "print(a.split())\n",
    "print(b.split(';'))"
   ]
  },
  {
   "cell_type": "markdown",
   "metadata": {
    "slideshow": {
     "slide_type": "subslide"
    }
   },
   "source": [
    "### Formater une chaîne à partir d’une liste\n",
    "\n",
    "À l’inverse, la méthode `join()` permet de transformer une liste en chaîne de caractères :"
   ]
  },
  {
   "cell_type": "code",
   "execution_count": null,
   "metadata": {
    "slideshow": {
     "slide_type": "-"
    }
   },
   "outputs": [],
   "source": [
    "words = ['A', 'Lannister', 'always', 'pays', 'his', 'debts.']\n",
    "print(' '.join(words))"
   ]
  },
  {
   "cell_type": "markdown",
   "metadata": {
    "slideshow": {
     "slide_type": "slide"
    }
   },
   "source": [
    "## Remplacer des caractères\n",
    "\n",
    "Plus souple que le *slicing* la méthode `replace()` est efficace pour remplacer des caractères :"
   ]
  },
  {
   "cell_type": "code",
   "execution_count": null,
   "metadata": {
    "slideshow": {
     "slide_type": "-"
    }
   },
   "outputs": [],
   "source": [
    "sent = \"You know nothing Jon Rock.\"\n",
    "print(sent.replace('Rock', 'Snow'))"
   ]
  },
  {
   "cell_type": "markdown",
   "metadata": {
    "slideshow": {
     "slide_type": "fragment"
    }
   },
   "source": [
    "Un troisième argument permet de limiter strictement le nombre de remplacements à effectuer :"
   ]
  },
  {
   "cell_type": "code",
   "execution_count": null,
   "metadata": {
    "slideshow": {
     "slide_type": "-"
    }
   },
   "outputs": [],
   "source": [
    "sent = \"spam, spam, spam, egg, ham, spam, spam, ham.\"\n",
    "print(sent.replace('ham', 'spam', 1))"
   ]
  },
  {
   "cell_type": "markdown",
   "metadata": {
    "slideshow": {
     "slide_type": "subslide"
    }
   },
   "source": [
    "Il est possible d’effectuer plusieurs remplacements en une seule fois :"
   ]
  },
  {
   "cell_type": "code",
   "execution_count": null,
   "metadata": {
    "slideshow": {
     "slide_type": "-"
    }
   },
   "outputs": [],
   "source": [
    "sent = \"spam, spam, spam, egg, ham, spam, spam, ham.\"\n",
    "print(sent.replace('spam', 'egg', 1).replace('egg', 'ham', 2).replace('ham', 'spam', 2))"
   ]
  },
  {
   "cell_type": "markdown",
   "metadata": {
    "slideshow": {
     "slide_type": "slide"
    }
   },
   "source": [
    "## Nettoyer des chaînes\n",
    "\n",
    "Lorsque l’on récupère des données à partir d’un fichier, par exemple au format CSV, les champs sont parfois mal formatés. La méthode `strip()` permet d’éliminer les espaces, les tabulations ainsi que les retours à la ligne qui se trouveraient en début ou en fin de chaîne."
   ]
  },
  {
   "cell_type": "code",
   "execution_count": null,
   "metadata": {
    "slideshow": {
     "slide_type": "-"
    }
   },
   "outputs": [],
   "source": [
    "sent = \" A;Lannister;always;pays;his;debts. \\n\"\n",
    "sent.strip()"
   ]
  },
  {
   "cell_type": "markdown",
   "metadata": {
    "slideshow": {
     "slide_type": "slide"
    }
   },
   "source": [
    "## Rechercher une sous-chaîne\n",
    "\n",
    "Ci-dessous quelques méthodes pour effectuer des recherches de motifs.\n",
    "\n",
    "La première se nomme `find()` et renvoie l’index du premier motif rencontré. Pour partir de la fin de la chaîne, il existe la méthode `rfind()`. Remarquez que, si aucun motif n’est présent dans la chaîne, le résultat sera un indice `-1`. Pour lever une exception, il faut alors utiliser la méthode `index()`."
   ]
  },
  {
   "cell_type": "code",
   "execution_count": null,
   "metadata": {
    "slideshow": {
     "slide_type": "-"
    }
   },
   "outputs": [],
   "source": [
    "sent = \"A Lannister always pays his debts.\"\n",
    "print(sent.find(\"a\"))\n",
    "print(sent.rfind(\"a\"))\n",
    "print(sent.find(\"Bolton\"))\n",
    "print(sent.index(\"Bolton\"))"
   ]
  },
  {
   "cell_type": "markdown",
   "metadata": {
    "slideshow": {
     "slide_type": "subslide"
    }
   },
   "source": [
    "Une autre méthode : `count()`, qui renvoie le nombre d’occurrences du motif."
   ]
  },
  {
   "cell_type": "code",
   "execution_count": null,
   "metadata": {
    "slideshow": {
     "slide_type": "-"
    }
   },
   "outputs": [],
   "source": [
    "sent.count(\"a\")"
   ]
  },
  {
   "cell_type": "markdown",
   "metadata": {
    "slideshow": {
     "slide_type": "fragment"
    }
   },
   "source": [
    "Pour terminer, deux méthodes qui testent le début et la fin d’une chaîne. Elles renvoient toutes deux un booléen :"
   ]
  },
  {
   "cell_type": "code",
   "execution_count": null,
   "metadata": {
    "slideshow": {
     "slide_type": "-"
    }
   },
   "outputs": [],
   "source": [
    "print(sent.startswith(\"Lannister\"))\n",
    "print(sent.endswith(\".\"))"
   ]
  },
  {
   "cell_type": "markdown",
   "metadata": {
    "slideshow": {
     "slide_type": "slide"
    }
   },
   "source": [
    "## Techniques de formatage du texte\n",
    "\n",
    "Par formatage du texte, on n’entend pas l’application de styles comme dans un traitement de textes (*LibreOffice Writer* par exemple), mais la manière de créer un gabarit propre à manipuler des données.\n",
    "\n",
    "Partons de trois variables de types différents que l’on souhaite associer afin de former la phrase : *We're open 7 days a week.*"
   ]
  },
  {
   "cell_type": "code",
   "execution_count": null,
   "metadata": {
    "slideshow": {
     "slide_type": "-"
    }
   },
   "outputs": [],
   "source": [
    "d = 7\n",
    "text = \"a week.\""
   ]
  },
  {
   "cell_type": "markdown",
   "metadata": {
    "slideshow": {
     "slide_type": "subslide"
    }
   },
   "source": [
    "### La concaténation\n",
    "\n",
    "L’opérateur de concaténation de chaîne de caractères `+` permet simplement d’assembler différents objets l’un à la suite de l’autre. Attention toutefois au type de données à manipuler !"
   ]
  },
  {
   "cell_type": "code",
   "execution_count": null,
   "metadata": {
    "slideshow": {
     "slide_type": "-"
    }
   },
   "outputs": [],
   "source": [
    "print(\"We're open\" + \" \" + str(d) + \" days \" + text)"
   ]
  },
  {
   "cell_type": "markdown",
   "metadata": {
    "slideshow": {
     "slide_type": "subslide"
    }
   },
   "source": [
    "### Un opérateur de formatage\n",
    "\n",
    "L’opérateur `%` permet d’associer un symbole de formatage au type de données que l’on souhaite insérer dans un gabarit :"
   ]
  },
  {
   "cell_type": "code",
   "execution_count": null,
   "metadata": {
    "slideshow": {
     "slide_type": "-"
    }
   },
   "outputs": [],
   "source": [
    "print(\"We're open %d days %s\" % (d, text))"
   ]
  },
  {
   "cell_type": "markdown",
   "metadata": {
    "slideshow": {
     "slide_type": "subslide"
    }
   },
   "source": [
    "### Une méthode spécifique pour le formatage\n",
    "\n",
    "Par extension de la manipulation précédente, une méthode `format()` est définie afin d’effectuer des substitutions de variable dans un texte."
   ]
  },
  {
   "cell_type": "code",
   "execution_count": null,
   "metadata": {
    "slideshow": {
     "slide_type": "-"
    }
   },
   "outputs": [],
   "source": [
    "\"We're open {} days {}\".format(d, text)"
   ]
  },
  {
   "cell_type": "markdown",
   "metadata": {
    "slideshow": {
     "slide_type": "subslide"
    }
   },
   "source": [
    "### Les *f-Strings*\n",
    "\n",
    "Version moderne et améliorée des techniques précédentes, la syntaxe des *f-Strings* est la seule à retenir. Non seulement elle effectue une conversion dynamique des variables, mais elle permet en plus d’évaluer des expressions directement à l’intérieur de l’appel aux variables."
   ]
  },
  {
   "cell_type": "code",
   "execution_count": null,
   "metadata": {
    "slideshow": {
     "slide_type": "-"
    }
   },
   "outputs": [],
   "source": [
    "f\"We're open {d - 2} days {text}\""
   ]
  },
  {
   "cell_type": "markdown",
   "metadata": {
    "slideshow": {
     "slide_type": "slide"
    }
   },
   "source": [
    "## Capitalisation\n",
    "\n",
    "Pour terminer, quelques méthodes qui jouent avec la casse des caractères."
   ]
  },
  {
   "cell_type": "code",
   "execution_count": null,
   "metadata": {},
   "outputs": [],
   "source": [
    "sent = \"A Lannister always pays his debts.\""
   ]
  },
  {
   "cell_type": "markdown",
   "metadata": {
    "slideshow": {
     "slide_type": "fragment"
    }
   },
   "source": [
    "Transformer en capitales :"
   ]
  },
  {
   "cell_type": "code",
   "execution_count": null,
   "metadata": {
    "slideshow": {
     "slide_type": "-"
    }
   },
   "outputs": [],
   "source": [
    "sent.upper()"
   ]
  },
  {
   "cell_type": "markdown",
   "metadata": {
    "slideshow": {
     "slide_type": "subslide"
    }
   },
   "source": [
    "Passer en minuscules :"
   ]
  },
  {
   "cell_type": "code",
   "execution_count": null,
   "metadata": {
    "slideshow": {
     "slide_type": "-"
    }
   },
   "outputs": [],
   "source": [
    "sent.lower()"
   ]
  },
  {
   "cell_type": "markdown",
   "metadata": {
    "slideshow": {
     "slide_type": "fragment"
    }
   },
   "source": [
    "Convertir les majuscules en minuscules et vice versa :"
   ]
  },
  {
   "cell_type": "code",
   "execution_count": null,
   "metadata": {
    "slideshow": {
     "slide_type": "-"
    }
   },
   "outputs": [],
   "source": [
    "sent.swapcase()"
   ]
  },
  {
   "cell_type": "markdown",
   "metadata": {
    "slideshow": {
     "slide_type": "subslide"
    }
   },
   "source": [
    "Élever la première lettre en majuscule :"
   ]
  },
  {
   "cell_type": "code",
   "execution_count": null,
   "metadata": {
    "slideshow": {
     "slide_type": "-"
    }
   },
   "outputs": [],
   "source": [
    "sent.capitalize()"
   ]
  },
  {
   "cell_type": "markdown",
   "metadata": {
    "slideshow": {
     "slide_type": "fragment"
    }
   },
   "source": [
    "Converitr chaque initiale de mot en majuscule :"
   ]
  },
  {
   "cell_type": "code",
   "execution_count": null,
   "metadata": {
    "slideshow": {
     "slide_type": "-"
    }
   },
   "outputs": [],
   "source": [
    "sent.title()"
   ]
  }
 ],
 "metadata": {
  "celltoolbar": "Diaporama",
  "kernelspec": {
   "display_name": "Python 3",
   "language": "python",
   "name": "python3"
  },
  "language_info": {
   "codemirror_mode": {
    "name": "ipython",
    "version": 3
   },
   "file_extension": ".py",
   "mimetype": "text/x-python",
   "name": "python",
   "nbconvert_exporter": "python",
   "pygments_lexer": "ipython3",
   "version": "3.8.0"
  },
  "notebookname": "Les outils sur les chaînes",
  "version": "2.0"
 },
 "nbformat": 4,
 "nbformat_minor": 1
}
