{
 "cells": [
  {
   "cell_type": "markdown",
   "metadata": {
    "slideshow": {
     "slide_type": "slide"
    }
   },
   "source": [
    "# Construire un corpus des scripts de la série *Kaamelott*"
   ]
  },
  {
   "cell_type": "markdown",
   "metadata": {
    "slideshow": {
     "slide_type": "slide"
    }
   },
   "source": [
    "## Récupérer la liste des scripts\n",
    "\n",
    "Scripts disponibles sur le site collaboratif Hypnoweb :  \n",
    "[https://kaamelott.hypnoweb.net/kaamelott/guide.119.2/](https://kaamelott.hypnoweb.net/kaamelott/guide.119.2/)\n",
    "\n",
    "**Procédure :**\n",
    "1. lire la page\n",
    "2. sélectionner dans le code HTML les liens vers les épisodes\n",
    "3. écrire chaque lien dans un fichier"
   ]
  },
  {
   "cell_type": "markdown",
   "metadata": {
    "slideshow": {
     "slide_type": "subslide"
    }
   },
   "source": [
    "**1e étape :** lire la page"
   ]
  },
  {
   "cell_type": "code",
   "execution_count": null,
   "metadata": {
    "slideshow": {
     "slide_type": "-"
    }
   },
   "outputs": [],
   "source": [
    "#!/usr/bin/python\n",
    "#-*- coding: utf-8 -*-\n",
    "\n",
    "# Modules to import\n",
    "import scrape.utils as scrape\n",
    "\n",
    "# Main procedure\n",
    "if __name__ == '__main__':\n",
    "    url = 'https://kaamelott.hypnoweb.net/kaamelott/guide.119.2/'\n",
    "    html = scrape.get_html_from_url(url, 'ISO-8859-1')"
   ]
  },
  {
   "cell_type": "markdown",
   "metadata": {
    "slideshow": {
     "slide_type": "subslide"
    }
   },
   "source": [
    "**2e étape :** sélectionner les liens vers les épisodes"
   ]
  },
  {
   "cell_type": "code",
   "execution_count": null,
   "metadata": {
    "slideshow": {
     "slide_type": "-"
    }
   },
   "outputs": [],
   "source": [
    "episodes = scrape.parse_html_by_class(html, '.tabs-content .content tr td a')\n",
    "links = [\n",
    "    episode.get('href')\n",
    "    for episode in episodes\n",
    "]"
   ]
  },
  {
   "cell_type": "markdown",
   "metadata": {
    "slideshow": {
     "slide_type": "fragment"
    }
   },
   "source": [
    "**3e étape :** écrire chaque lien dans un fichier"
   ]
  },
  {
   "cell_type": "code",
   "execution_count": null,
   "metadata": {
    "slideshow": {
     "slide_type": "-"
    }
   },
   "outputs": [],
   "source": [
    "with open('./data/kaamelott/episodes.txt', 'w') as file:\n",
    "    [ file.write(link + '\\n') for link in links ]"
   ]
  },
  {
   "cell_type": "markdown",
   "metadata": {
    "slideshow": {
     "slide_type": "subslide"
    }
   },
   "source": [
    "Autre possibilité : écriture du fichier grâce au mode *append* :"
   ]
  },
  {
   "cell_type": "code",
   "execution_count": null,
   "metadata": {
    "slideshow": {
     "slide_type": "-"
    }
   },
   "outputs": [],
   "source": [
    "# List of episodes\n",
    "episodes = scrape.parse_html_by_class(html, '.tabs-content .content tr td a')\n",
    "\n",
    "# For each episode\n",
    "for episode in episodes:\n",
    "\n",
    "    # File descriptor to destination file\n",
    "    with open('./data/kaamelott/episodes.txt', 'a') as file:\n",
    "\n",
    "        # What's the link?\n",
    "        link = episode.get('href')\n",
    "\n",
    "        # Write the file\n",
    "        file.write(link + '\\n')"
   ]
  },
  {
   "cell_type": "markdown",
   "metadata": {
    "slideshow": {
     "slide_type": "slide"
    }
   },
   "source": [
    "## Extraire les scripts"
   ]
  },
  {
   "cell_type": "markdown",
   "metadata": {
    "slideshow": {
     "slide_type": "subslide"
    }
   },
   "source": [
    "**Procédure :**\n",
    "1. lire le fichier `episodes.txt` ligne par ligne\n",
    "2. reconstruire les urls\n",
    "3. lire chaque url\n",
    "4. extraire les scripts\n",
    "5. écrire un fichier texte par script"
   ]
  },
  {
   "cell_type": "markdown",
   "metadata": {
    "slideshow": {
     "slide_type": "subslide"
    }
   },
   "source": [
    "**1e étape :** lire le fichier `episodes.txt`"
   ]
  },
  {
   "cell_type": "code",
   "execution_count": null,
   "metadata": {
    "slideshow": {
     "slide_type": "-"
    }
   },
   "outputs": [],
   "source": [
    "# File descriptor\n",
    "with open('./data/kaamelott/episodes.txt') as file:\n",
    "    # A list of lines\n",
    "    lines = file.readlines()"
   ]
  },
  {
   "cell_type": "markdown",
   "metadata": {
    "slideshow": {
     "slide_type": "subslide"
    }
   },
   "source": [
    "**2e étape :** reconstruire les URL pour passer d’un chemin relatif vers une adresse absolue\n",
    "\n",
    "Exemple :\n",
    "- ligne du fichier :  \n",
    "`/kaamelott/episode.119.2/S01E01-heat-2956.html`  \n",
    "- adresse absolue :  \n",
    "`https://kaamelott.hypnoweb.net/kaamelott/episode.119.2/S01E01-heat-2956.html`"
   ]
  },
  {
   "cell_type": "code",
   "execution_count": null,
   "metadata": {
    "slideshow": {
     "slide_type": "-"
    }
   },
   "outputs": [],
   "source": [
    "for line in lines:\n",
    "    url = f\"https://kaamelott.hypnoweb.net{line}\""
   ]
  },
  {
   "cell_type": "markdown",
   "metadata": {
    "slideshow": {
     "slide_type": "subslide"
    }
   },
   "source": [
    "**3e étape :** lire chaque URL"
   ]
  },
  {
   "cell_type": "code",
   "execution_count": null,
   "metadata": {
    "slideshow": {
     "slide_type": "-"
    }
   },
   "outputs": [],
   "source": [
    "for line in lines:\n",
    "    url = f\"https://kaamelott.hypnoweb.net{line}\"\n",
    "    html = scrape.get_html_from_url(url, \"ISO-8859-1\")"
   ]
  },
  {
   "cell_type": "markdown",
   "metadata": {
    "slideshow": {
     "slide_type": "fragment"
    }
   },
   "source": [
    "**4e étape :** extraire les scripts"
   ]
  },
  {
   "cell_type": "code",
   "execution_count": null,
   "metadata": {
    "slideshow": {
     "slide_type": "-"
    }
   },
   "outputs": [],
   "source": [
    "for line in lines:\n",
    "    url = f\"https://kaamelott.hypnoweb.net{line}\"\n",
    "    html = scrape.get_html_from_url(url, \"ISO-8859-1\")\n",
    "    # script_vo <div> describes the scripts\n",
    "    scripts = scrape.parse_html_by_class(html, \"#script_vo div\")"
   ]
  },
  {
   "cell_type": "markdown",
   "metadata": {
    "slideshow": {
     "slide_type": "subslide"
    }
   },
   "source": [
    "**Dernière étape :** écrire un fichier texte par script\n",
    "\n",
    "Nom de chaque fichier sous la forme `SaisonEpisode-titre-episode.txt`.\n",
    "\n",
    "Par exemple, pour la ligne :  \n",
    "`/kaamelott/episode.119.2/S01E09-le-maitre-d-armes-2964.html`\n",
    "\n",
    "le nom du fichier qui contient le script sera : `S01E09-le-maitre-d-armes.txt`"
   ]
  },
  {
   "cell_type": "markdown",
   "metadata": {
    "slideshow": {
     "slide_type": "subslide"
    }
   },
   "source": [
    "Une expression régulière permettra d’isoler le titre de l’épisode dans chaque URL. Pour utiliser une regex avec Python, il faut importer le module `re` :"
   ]
  },
  {
   "cell_type": "code",
   "execution_count": null,
   "metadata": {
    "slideshow": {
     "slide_type": "-"
    }
   },
   "outputs": [],
   "source": [
    "import re"
   ]
  },
  {
   "cell_type": "markdown",
   "metadata": {
    "slideshow": {
     "slide_type": "subslide"
    }
   },
   "source": [
    "Les expressions régulières fonctionnent par application d’un motif sur une chaîne de caractère. Le résultat renvoyé sert à formater le nom du fichier de destination."
   ]
  },
  {
   "cell_type": "code",
   "execution_count": null,
   "metadata": {
    "slideshow": {
     "slide_type": "-"
    }
   },
   "outputs": [],
   "source": [
    "# Pattern:\n",
    "# - brackets capture the pattern\n",
    "# - ?P<episode> creates a named group 'episode' with content of the regex\n",
    "pattern = '(?P<episode>[0-9ES]{6}-[a-z0-9-]*)-[0-9]*\\.html'\n",
    "\n",
    "for line in lines:\n",
    "    url = f\"https://kaamelott.hypnoweb.net{line}\"\n",
    "    html = scrape.get_html_from_url(url, \"ISO-8859-1\")\n",
    "    scripts = scrape.parse_html_by_class(html, \"#script_vo div\")\n",
    "    # match method captures the pattern in each line in a variable called 'm'\n",
    "    m = re.match(pattern, line.replace(\"/kaamelott/episode.119.2/\", \"\"))"
   ]
  },
  {
   "cell_type": "markdown",
   "metadata": {
    "slideshow": {
     "slide_type": "subslide"
    }
   },
   "source": [
    "Il ne reste plus qu'à écrire le texte des scripts dans chaque fichier :"
   ]
  },
  {
   "cell_type": "code",
   "execution_count": null,
   "metadata": {
    "slideshow": {
     "slide_type": "-"
    }
   },
   "outputs": [],
   "source": [
    "pattern = '(?P<episode>[0-9ES]{6}-[a-z0-9-]*)-[0-9]*\\.html'\n",
    "\n",
    "for line in lines:\n",
    "    url = f\"https://kaamelott.hypnoweb.net{line}\"\n",
    "    html = scrape.get_html_from_url(url, \"ISO-8859-1\")\n",
    "    scripts = scrape.parse_html_by_class(html, \"#script_vo div\")\n",
    "    m = re.match(pattern, line.replace(\"/kaamelott/episode.119.2/\", \"\"))\n",
    "\n",
    "    # 'group' method on 'm' access the content of the named group 'episode'\n",
    "    with open(f\"./data/kaamelott/raw/{m.group('episode')}.txt\", 'w') as file:\n",
    "        for text in scripts[0].stripped_strings:\n",
    "            file.write(text)\n",
    "            file.write('\\n')"
   ]
  },
  {
   "cell_type": "markdown",
   "metadata": {
    "slideshow": {
     "slide_type": "subslide"
    }
   },
   "source": [
    "Enfin, comme tous les épisodes n’ont pas été retranscrits, on ajoute une condition à l’écriture du fichier :"
   ]
  },
  {
   "cell_type": "code",
   "execution_count": null,
   "metadata": {
    "slideshow": {
     "slide_type": "-"
    }
   },
   "outputs": [],
   "source": [
    "pattern = '(?P<episode>[0-9ES]{6}-[a-z0-9-]*)-[0-9]*\\.html'\n",
    "\n",
    "for line in lines:\n",
    "\n",
    "    url = f\"https://kaamelott.hypnoweb.net{line}\"\n",
    "    html = scrape.get_html_from_url(url, \"ISO-8859-1\")\n",
    "    scripts = scrape.parse_html_by_class(html, \"#script_vo div\")\n",
    "    m = re.match(pattern, line.replace(\"/kaamelott/episode.119.2/\", \"\"))\n",
    "\n",
    "    # If there is a content…\n",
    "    if len(scripts) != 0:\n",
    "        with open(f\"./data/kaamelott/raw/{m.group('episode')}.txt\", 'w') as file:\n",
    "            for text in scripts[0].stripped_strings:\n",
    "                file.write(text)\n",
    "                file.write('\\n')"
   ]
  }
 ],
 "metadata": {
  "celltoolbar": "Diaporama",
  "kernelspec": {
   "display_name": "Python 3",
   "language": "python",
   "name": "python3"
  },
  "language_info": {
   "codemirror_mode": {
    "name": "ipython",
    "version": 3
   },
   "file_extension": ".py",
   "mimetype": "text/x-python",
   "name": "python",
   "nbconvert_exporter": "python",
   "pygments_lexer": "ipython3",
   "version": "3.8.0"
  }
 },
 "nbformat": 4,
 "nbformat_minor": 2
}
