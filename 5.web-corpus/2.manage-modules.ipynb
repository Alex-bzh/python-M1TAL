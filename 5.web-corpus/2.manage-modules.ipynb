{
 "cells": [
  {
   "cell_type": "markdown",
   "metadata": {
    "slideshow": {
     "slide_type": "slide"
    }
   },
   "source": [
    "# La gestion des modules en Python"
   ]
  },
  {
   "cell_type": "markdown",
   "metadata": {
    "slideshow": {
     "slide_type": "slide"
    }
   },
   "source": [
    "## Module ou *package* ?\n",
    "\n",
    "**Module :** fichier qui regroupe plusieurs fonctions.\n",
    "\n",
    "**Package :** répertoire qui rassemble plusieurs modules.\n",
    "\n",
    "Dans [le précédent *notebook*](1.allocine-get-movies-id.ipynb#Optimiser), nous avons déplacé une fonction dans un fichier séparé intitulé `utils.py`. Par cette simple opération, nous avons créé un module qu’il est possible d’importer dans un script avec la commande `import` plus le nom du fichier sans l’extension :"
   ]
  },
  {
   "cell_type": "code",
   "execution_count": null,
   "metadata": {
    "scrolled": true,
    "slideshow": {
     "slide_type": "fragment"
    }
   },
   "outputs": [],
   "source": [
    "import utils"
   ]
  },
  {
   "cell_type": "markdown",
   "metadata": {
    "slideshow": {
     "slide_type": "subslide"
    }
   },
   "source": [
    "**Comment ça ?!** `ModuleNotFoundError` ?\n",
    "\n",
    "Python a raison, il s’attendait à trouver un fichier `utils.py` au même niveau que ce *notebook*, c’est-à-dire dans le même répertoire, alors qu’il est rangé dans un sous-dossier `scrape`.\n",
    "\n",
    "Ce sous-dossier `scrape` est ce que l’on appelle un *package* et un *package* peut renfermer plusieurs modules."
   ]
  },
  {
   "cell_type": "markdown",
   "metadata": {
    "slideshow": {
     "slide_type": "slide"
    }
   },
   "source": [
    "## Importations et espaces de nommage\n",
    "\n",
    "Avant tout, un package dispose d’un nom. Et c’est par ce nom qu’il sera appelé par python :"
   ]
  },
  {
   "cell_type": "code",
   "execution_count": null,
   "metadata": {
    "slideshow": {
     "slide_type": "-"
    }
   },
   "outputs": [],
   "source": [
    "import scrape"
   ]
  },
  {
   "cell_type": "markdown",
   "metadata": {
    "slideshow": {
     "slide_type": "fragment"
    }
   },
   "source": [
    "On pourrait supposer que cette commande donne accès à tous les modules qui dépendent de `scrape` mais, en l’état, aucune possibilité d’accéder à la fonction `get_html_from_url()` définie dans `utils` :"
   ]
  },
  {
   "cell_type": "code",
   "execution_count": null,
   "metadata": {
    "slideshow": {
     "slide_type": "-"
    }
   },
   "outputs": [],
   "source": [
    "# All these commands fail\n",
    "# html = get_html_from_url('http://www.llf.cnrs.fr/')\n",
    "# html =utils.get_html_from_url('http://www.llf.cnrs.fr/')\n",
    "# html = scrape.utils.get_html_from_url('http://www.llf.cnrs.fr/')"
   ]
  },
  {
   "cell_type": "markdown",
   "metadata": {
    "slideshow": {
     "slide_type": "subslide"
    }
   },
   "source": [
    "Une solution consiste à importer directement le module `utils` du *package* `scrape` :"
   ]
  },
  {
   "cell_type": "code",
   "execution_count": null,
   "metadata": {
    "slideshow": {
     "slide_type": "-"
    }
   },
   "outputs": [],
   "source": [
    "import scrape.utils"
   ]
  },
  {
   "cell_type": "markdown",
   "metadata": {
    "slideshow": {
     "slide_type": "fragment"
    }
   },
   "source": [
    "Puis à appeler la fonction en passant par tous les espaces de nommage :"
   ]
  },
  {
   "cell_type": "code",
   "execution_count": null,
   "metadata": {
    "slideshow": {
     "slide_type": "-"
    }
   },
   "outputs": [],
   "source": [
    "html = scrape.utils.get_html_from_url('http://www.llf.cnrs.fr/')"
   ]
  },
  {
   "cell_type": "markdown",
   "metadata": {
    "slideshow": {
     "slide_type": "subslide"
    }
   },
   "source": [
    "### Alias\n",
    "\n",
    "Plutôt fastidieux d’appeler une fonction d’aussi loin, non ? Heureusement, il existe les alias :"
   ]
  },
  {
   "cell_type": "code",
   "execution_count": null,
   "metadata": {
    "slideshow": {
     "slide_type": "-"
    }
   },
   "outputs": [],
   "source": [
    "import scrape.utils as sc\n",
    "html = sc.get_html_from_url('http://www.llf.cnrs.fr/')"
   ]
  },
  {
   "cell_type": "markdown",
   "metadata": {
    "slideshow": {
     "slide_type": "fragment"
    }
   },
   "source": [
    "### Importation complète\n",
    "\n",
    "On peut aussi accéder directement aux fonctions sans les espaces de nommage :"
   ]
  },
  {
   "cell_type": "code",
   "execution_count": null,
   "metadata": {},
   "outputs": [],
   "source": [
    "from scrape.utils import *\n",
    "html = get_html_from_url('http://www.llf.cnrs.fr/')"
   ]
  },
  {
   "cell_type": "markdown",
   "metadata": {
    "slideshow": {
     "slide_type": "subslide"
    }
   },
   "source": [
    "### Importation spécifique\n",
    "\n",
    "L’importation totale des fonctions d’un module présente deux risques :\n",
    "- charger des fonctions inutiles pour le script en cours ;\n",
    "- l’étoile `*` masque le nom des fonctions.\n",
    "\n",
    "Une autre méthode consiste à puiser une fonction spécifique dans un module :"
   ]
  },
  {
   "cell_type": "code",
   "execution_count": null,
   "metadata": {
    "slideshow": {
     "slide_type": "-"
    }
   },
   "outputs": [],
   "source": [
    "from scrape.utils import get_html_from_url\n",
    "html = get_html_from_url('http://www.llf.cnrs.fr/')"
   ]
  },
  {
   "cell_type": "markdown",
   "metadata": {
    "slideshow": {
     "slide_type": "slide"
    }
   },
   "source": [
    "## Organiser son *package*\n",
    "\n",
    "Dans la pratique, on préférera toujours conserver dans la syntaxe d’appel aux fonctions utilisateur le lien de dépendance à un espace de nommage (module) :"
   ]
  },
  {
   "cell_type": "code",
   "execution_count": null,
   "metadata": {
    "slideshow": {
     "slide_type": "-"
    }
   },
   "outputs": [],
   "source": [
    "from scrape import utils\n",
    "html = utils.get_html_from_url('http://www.llf.cnrs.fr/')"
   ]
  },
  {
   "cell_type": "markdown",
   "metadata": {
    "slideshow": {
     "slide_type": "fragment"
    }
   },
   "source": [
    "De cette manière, si l’on définissait dans un module une fonction qui porte le même nom qu’une autre fonction d’un autre module, on éviterait tout risque de collision."
   ]
  },
  {
   "cell_type": "markdown",
   "metadata": {
    "slideshow": {
     "slide_type": "subslide"
    }
   },
   "source": [
    "### Des fichiers thématiques\n",
    "\n",
    "Un *package* s’organise autour de fichiers regroupant des fonctions qui servent elles-mêmes un objectif commun. On peut imaginer des modules avec des noms comme : `core`, `utils`, `tests`, `data`…"
   ]
  },
  {
   "cell_type": "markdown",
   "metadata": {
    "slideshow": {
     "slide_type": "subslide"
    }
   },
   "source": [
    "### Un sommaire pour le *package*\n",
    "\n",
    "Il existe un fichier un peu particulier que l’on a coutume de placer en-tête de tout *package*, et ce même s’il est devenu optionnel avec les mises à jour successives de python : `__init__.py`\n",
    "\n",
    "Ce fichier est utilisé à l’initialisation du paquet et peut se concevoir comme un sommaire du contenu. Il est chargé de lister l’ensemble des modules qu’il contient."
   ]
  },
  {
   "cell_type": "markdown",
   "metadata": {
    "slideshow": {
     "slide_type": "subslide"
    }
   },
   "source": [
    "Créez un fichier `__init__.py` à la racine du répertoire `scrape` avec juste ces quelques lignes :\n",
    "```py\n",
    "__name__ = 'Scrape: the Web-corpus maker'\n",
    "__version__ = 'v1.0b'\n",
    "\n",
    "from .utils import get_html_from_url\n",
    "```"
   ]
  },
  {
   "cell_type": "markdown",
   "metadata": {
    "slideshow": {
     "slide_type": "fragment"
    }
   },
   "source": [
    "Ce qui permet ensuite de raccourcir les appels aux fonctions de tous les modules dépendants, comme s’il s’agissait de méthodes du *package* :"
   ]
  },
  {
   "cell_type": "code",
   "execution_count": null,
   "metadata": {
    "slideshow": {
     "slide_type": "-"
    }
   },
   "outputs": [],
   "source": [
    "import scrape\n",
    "html = scrape.get_html_from_url('http://www.llf.cnrs.fr/')"
   ]
  },
  {
   "cell_type": "markdown",
   "metadata": {
    "slideshow": {
     "slide_type": "slide"
    }
   },
   "source": [
    "## Les variables spéciales : l’exemple de `__name__`\n",
    "\n",
    "Vous avez sans doute remarqué l’utilisation de variables encadrées par des doubles underscores :\n",
    "- `__name__`\n",
    "- `__version__`\n",
    "\n",
    "Ce sont des variables spéciales qui permettent d’indiquer certaines informations à Python. Elles sont facultatives et ne servent que dans des cas particuliers."
   ]
  },
  {
   "cell_type": "markdown",
   "metadata": {
    "slideshow": {
     "slide_type": "subslide"
    }
   },
   "source": [
    "Prenons l’exemple de la variable `__name__` que l’on trouve dans l’expression :\n",
    "\n",
    "```py\n",
    "if __name__ == '__main__':\n",
    "    # Main program\n",
    "```\n",
    "\n",
    "Lorsque Python lit un fichier `.py`, il réalise deux opérations :\n",
    "- exécuter une instruction similaire à : `__name__ = '__main__'`\n",
    "- exécuter le code du script"
   ]
  },
  {
   "cell_type": "markdown",
   "metadata": {
    "slideshow": {
     "slide_type": "subslide"
    }
   },
   "source": [
    "D’un point du vue pratique, observez le fichier [*utils.py*](scrape/utils.py), qui dispose d’un morceau de code :\n",
    "```py\n",
    "if __name__ == '__main__':\n",
    "    \"\"\"Usage example.\n",
    "    Works only when used as standalone.\n",
    "    \"\"\"\n",
    "    url = \"http://www.llf.cnrs.fr/ita/\"\n",
    "    html = get_html_from_url(url)\n",
    "    anchors = parse_html_by_class(html, '.liste-membres .field-content a')\n",
    "    for anchor in anchors:\n",
    "        print(anchor.get_text())\n",
    "```"
   ]
  },
  {
   "cell_type": "markdown",
   "metadata": {
    "slideshow": {
     "slide_type": "subslide"
    }
   },
   "source": [
    "Ce morceau de code n’est exécuté que lorsque le script *utils.py* est appelé tout seul (*standalone*). Téléchargez-le et lancez-le dans une console :\n",
    "```shell\n",
    "$ python utils.py\n",
    "```\n",
    "Vous verrez une liste de noms s’afficher."
   ]
  },
  {
   "cell_type": "markdown",
   "metadata": {
    "slideshow": {
     "slide_type": "fragment"
    }
   },
   "source": [
    "En revanche, lorsque vous importez le module depuis un script, la liste de noms ne s’affiche pas !"
   ]
  },
  {
   "cell_type": "code",
   "execution_count": null,
   "metadata": {
    "slideshow": {
     "slide_type": "-"
    }
   },
   "outputs": [],
   "source": [
    "import scrape.utils"
   ]
  },
  {
   "cell_type": "markdown",
   "metadata": {
    "slideshow": {
     "slide_type": "subslide"
    }
   },
   "source": [
    "L’explication est simple : lorsque le script est importé en tant que module, son `__name__` prend la valeur du fichier. En l’occurrence, le script *utils.py* a pour nom `utils` et pas `__main__`.\n",
    "\n",
    "Le nom `__main__` est réservé au script principal : ce *notebook* !"
   ]
  },
  {
   "cell_type": "markdown",
   "metadata": {
    "slideshow": {
     "slide_type": "fragment"
    }
   },
   "source": [
    "Faites un test :\n",
    "1. Éditez le fichier *utils.py*\n",
    "2. Retirez l’instruction `if __name__ = '__main__':`\n",
    "3. Relancez le *kernel*\n",
    "4. Exécutez de nouveau l’instruction `import scrape.utils`"
   ]
  },
  {
   "cell_type": "markdown",
   "metadata": {
    "slideshow": {
     "slide_type": "subslide"
    }
   },
   "source": [
    "Cette fois-ci, alors que l’importation du module s’effectue, le code qui sert d’exemple à l’utilisation du module s’exécute et la liste de noms apparaît…\n",
    "\n",
    "La condition `if __name__ = '__main__':` est par conséquent impérative pour éviter tout effet de bord dans un script !"
   ]
  }
 ],
 "metadata": {
  "celltoolbar": "Diaporama",
  "kernelspec": {
   "display_name": "Python 3",
   "language": "python",
   "name": "python3"
  },
  "language_info": {
   "codemirror_mode": {
    "name": "ipython",
    "version": 3
   },
   "file_extension": ".py",
   "mimetype": "text/x-python",
   "name": "python",
   "nbconvert_exporter": "python",
   "pygments_lexer": "ipython3",
   "version": "3.8.0"
  }
 },
 "nbformat": 4,
 "nbformat_minor": 4
}
