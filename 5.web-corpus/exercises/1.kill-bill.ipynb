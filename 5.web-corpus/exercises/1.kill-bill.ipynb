{
 "cells": [
  {
   "cell_type": "markdown",
   "id": "949ba597",
   "metadata": {},
   "source": [
    "# Tuer Bill\n",
    "\n",
    "L’objectif est de récupérer les premières critiques spectateurs du film [*Kill Bill*](https://www.allocine.fr/film/fichefilm-28541/critiques/spectateurs/) sur le site de *Allociné*."
   ]
  },
  {
   "cell_type": "markdown",
   "id": "ca953b76",
   "metadata": {},
   "source": [
    "## Importer le package *Scrape*\n",
    "\n",
    "Dans un premier temps, rapatriez le package *Scrape*, puis ajoutez à l’intérieur un fichier spécial `__init__.py` de telle manière qu’il soit possible d’importer toutes les fonctions du module *utils* sous l’espace de nommage `scrape`.\n",
    "\n",
    "Enfin, importez le package :"
   ]
  },
  {
   "cell_type": "code",
   "execution_count": null,
   "id": "d9e7d354",
   "metadata": {},
   "outputs": [],
   "source": [
    "# your code here\n"
   ]
  },
  {
   "cell_type": "markdown",
   "id": "2653620b",
   "metadata": {},
   "source": [
    "## Définir les variables utilisées par le package\n",
    "\n",
    "Définissez tout d’abord une variable nommée `url` pour accéder à la page des critiques du film *Kill Bill* :"
   ]
  },
  {
   "cell_type": "code",
   "execution_count": null,
   "id": "f4f7f93b",
   "metadata": {},
   "outputs": [],
   "source": [
    "# your code here\n"
   ]
  },
  {
   "cell_type": "markdown",
   "id": "0c5198d3",
   "metadata": {},
   "source": [
    "Maintenant, instanciez une autre variable `selector` qui contienne le sélecteur CSS qui pointe vers le contenu textuel des critiques :"
   ]
  },
  {
   "cell_type": "code",
   "execution_count": null,
   "id": "429fbe72",
   "metadata": {},
   "outputs": [],
   "source": [
    "# your code here\n"
   ]
  },
  {
   "cell_type": "markdown",
   "id": "a633370c",
   "metadata": {},
   "source": [
    "## Récupérer les commentaires\n",
    "\n",
    "Écrivez une fonction de signature `fetch_reviews(url, selector)` pour récupérer les critiques des spectateurs :"
   ]
  },
  {
   "cell_type": "code",
   "execution_count": null,
   "id": "32024e93",
   "metadata": {},
   "outputs": [],
   "source": [
    "# your code here\n"
   ]
  },
  {
   "cell_type": "markdown",
   "id": "f94d4193",
   "metadata": {},
   "source": [
    "## Afficher les commentaires\n",
    "\n",
    "Dernière étape de ce programme, écrivez le processus qui mobilise la fonction `fetch_reviews()` pour afficher le contenu textuel de chaque critique :"
   ]
  },
  {
   "cell_type": "code",
   "execution_count": null,
   "id": "01dc7751",
   "metadata": {},
   "outputs": [],
   "source": [
    "# your code here\n"
   ]
  }
 ],
 "metadata": {
  "kernelspec": {
   "display_name": "Python 3 (ipykernel)",
   "language": "python",
   "name": "python3"
  },
  "language_info": {
   "codemirror_mode": {
    "name": "ipython",
    "version": 3
   },
   "file_extension": ".py",
   "mimetype": "text/x-python",
   "name": "python",
   "nbconvert_exporter": "python",
   "pygments_lexer": "ipython3",
   "version": "3.7.4"
  }
 },
 "nbformat": 4,
 "nbformat_minor": 5
}
