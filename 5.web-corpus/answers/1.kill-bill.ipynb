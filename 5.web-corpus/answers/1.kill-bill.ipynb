{
 "cells": [
  {
   "cell_type": "markdown",
   "id": "fc70647f",
   "metadata": {},
   "source": [
    "# Tuer Bill\n",
    "\n",
    "L’objectif est de récupérer les premières critiques spectateurs du film [*Kill Bill*](https://www.allocine.fr/film/fichefilm-28541/critiques/spectateurs/) sur le site de *Allociné*."
   ]
  },
  {
   "cell_type": "markdown",
   "id": "38a81f85",
   "metadata": {},
   "source": [
    "## Importer le package *Scrape*\n",
    "\n",
    "Dans un premier temps, rapatriez le package *Scrape*, puis ajoutez à l’intérieur un fichier spécial `__init__.py` de telle manière qu’il soit possible d’importer toutes les fonctions du module *utils* sous l’espace de nommage `scrape`.\n",
    "\n",
    "Enfin, importez le package :"
   ]
  },
  {
   "cell_type": "code",
   "execution_count": null,
   "id": "f38e622f",
   "metadata": {},
   "outputs": [],
   "source": [
    "# your code here\n",
    "import scrape"
   ]
  },
  {
   "cell_type": "markdown",
   "id": "a681b275",
   "metadata": {},
   "source": [
    "## Définir les variables utilisées par le package\n",
    "\n",
    "Définissez tout d’abord une variable nommée `url` pour accéder à la page des critiques du film *Kill Bill* :"
   ]
  },
  {
   "cell_type": "code",
   "execution_count": null,
   "id": "8c79c18b",
   "metadata": {},
   "outputs": [],
   "source": [
    "# your code here\n",
    "url = 'https://www.allocine.fr/film/fichefilm-28541/critiques/spectateurs/'"
   ]
  },
  {
   "cell_type": "markdown",
   "id": "8a5965d1",
   "metadata": {},
   "source": [
    "Maintenant, instanciez une autre variable `selector` qui contienne le sélecteur CSS qui pointe vers le contenu textuel des critiques :"
   ]
  },
  {
   "cell_type": "code",
   "execution_count": null,
   "id": "509ae5b2",
   "metadata": {},
   "outputs": [],
   "source": [
    "# your code here\n",
    "selector = '.content-txt'"
   ]
  },
  {
   "cell_type": "markdown",
   "id": "b1f43d4a",
   "metadata": {},
   "source": [
    "## Récupérer les commentaires\n",
    "\n",
    "Écrivez une fonction de signature `fetch_reviews(url, selector)` pour récupérer les critiques des spectateurs :"
   ]
  },
  {
   "cell_type": "code",
   "execution_count": null,
   "id": "d7383cd6",
   "metadata": {},
   "outputs": [],
   "source": [
    "# your code here\n",
    "def fetch_reviews(url, selector):\n",
    "    \"\"\"Fetch reviews from a single HTML page.\n",
    "    \n",
    "    Keyword arguments:\n",
    "    url -- url to scrape\n",
    "    selector -- CSS selector\n",
    "    \"\"\"\n",
    "    html = scrape.get_html_from_url(url)\n",
    "    reviews = scrape.parse_html_by_class(html, selector)\n",
    "    \n",
    "    return reviews"
   ]
  },
  {
   "cell_type": "markdown",
   "id": "a73635ec",
   "metadata": {},
   "source": [
    "## Afficher les commentaires\n",
    "\n",
    "Dernière étape de ce programme, écrivez le processus qui mobilise la fonction `fetch_reviews()` pour afficher le contenu textuel de chaque critique :"
   ]
  },
  {
   "cell_type": "code",
   "execution_count": null,
   "id": "2122d761",
   "metadata": {},
   "outputs": [],
   "source": [
    "# your code here\n",
    "reviews = fetch_reviews(url, selector)\n",
    "for review in reviews:\n",
    "    print(review.get_text())"
   ]
  }
 ],
 "metadata": {
  "kernelspec": {
   "display_name": "Python 3 (ipykernel)",
   "language": "python",
   "name": "python3"
  },
  "language_info": {
   "codemirror_mode": {
    "name": "ipython",
    "version": 3
   },
   "file_extension": ".py",
   "mimetype": "text/x-python",
   "name": "python",
   "nbconvert_exporter": "python",
   "pygments_lexer": "ipython3",
   "version": "3.7.4"
  }
 },
 "nbformat": 4,
 "nbformat_minor": 5
}
