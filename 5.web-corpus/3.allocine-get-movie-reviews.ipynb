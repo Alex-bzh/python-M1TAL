{
 "cells": [
  {
   "cell_type": "markdown",
   "metadata": {
    "slideshow": {
     "slide_type": "slide"
    }
   },
   "source": [
    "# Constituer un corpus de critiques de films"
   ]
  },
  {
   "cell_type": "markdown",
   "metadata": {
    "slideshow": {
     "slide_type": "slide"
    }
   },
   "source": [
    "## Interroger les pages Web de chaque film"
   ]
  },
  {
   "cell_type": "markdown",
   "metadata": {
    "slideshow": {
     "slide_type": "fragment"
    }
   },
   "source": [
    "**Objectif :** lire le fichier `links.txt` afin d’extraire les identifiants des films et interroger les pages Web concernées."
   ]
  },
  {
   "cell_type": "markdown",
   "metadata": {
    "slideshow": {
     "slide_type": "fragment"
    }
   },
   "source": [
    "**Besoins :**\n",
    "- ouvrir le fichier en lecture et en récupérer le contenu\n",
    "- parcourir chaque ligne\n",
    "- analyser la syntaxe de la ligne\n",
    "- isoler l’identifiant\n",
    "- reconstruire les urls sur *Allociné*\n"
   ]
  },
  {
   "cell_type": "markdown",
   "metadata": {
    "slideshow": {
     "slide_type": "subslide"
    }
   },
   "source": [
    "**Rappel :** identifiants à la fin de chaque URL, composés uniquement de chiffres\n",
    "```txt\n",
    "/film/fichefilm_gen_cfilm=114782.html\n",
    "/film/fichefilm_gen_cfilm=143692.html\n",
    "```"
   ]
  },
  {
   "cell_type": "markdown",
   "metadata": {
    "slideshow": {
     "slide_type": "fragment"
    }
   },
   "source": [
    "**1e étape :** ouvrir le fichier en mode lecture et en récupérer le contenu"
   ]
  },
  {
   "cell_type": "code",
   "execution_count": null,
   "metadata": {
    "slideshow": {
     "slide_type": "fragment"
    }
   },
   "outputs": [],
   "source": [
    "# File descriptor\n",
    "with open('./data/allocine/links.txt') as file:\n",
    "    # A list of lines\n",
    "    lines = file.readlines()"
   ]
  },
  {
   "cell_type": "markdown",
   "metadata": {
    "slideshow": {
     "slide_type": "subslide"
    }
   },
   "source": [
    "**2e étape :** parcourir chaque ligne"
   ]
  },
  {
   "cell_type": "code",
   "execution_count": null,
   "metadata": {
    "slideshow": {
     "slide_type": "fragment"
    }
   },
   "outputs": [],
   "source": [
    "# For each line\n",
    "for line in lines:\n",
    "    # Proceed to syntax analysis\n",
    "    pass"
   ]
  },
  {
   "cell_type": "markdown",
   "metadata": {
    "slideshow": {
     "slide_type": "fragment"
    }
   },
   "source": [
    "**3e étape :** isoler l’identifiant du film dans la ligne"
   ]
  },
  {
   "cell_type": "markdown",
   "metadata": {
    "cell_style": "center",
    "slideshow": {
     "slide_type": "fragment"
    }
   },
   "source": [
    "- importer le module des expressions régulières"
   ]
  },
  {
   "cell_type": "code",
   "execution_count": null,
   "metadata": {
    "cell_style": "center",
    "slideshow": {
     "slide_type": "-"
    }
   },
   "outputs": [],
   "source": [
    "import re"
   ]
  },
  {
   "cell_type": "markdown",
   "metadata": {
    "cell_style": "center",
    "slideshow": {
     "slide_type": "subslide"
    }
   },
   "source": [
    "- méthode `search()` du module `re` pour exécuter *regex*"
   ]
  },
  {
   "cell_type": "code",
   "execution_count": null,
   "metadata": {
    "cell_style": "center",
    "slideshow": {
     "slide_type": "-"
    }
   },
   "outputs": [],
   "source": [
    "# Look up for a pattern in each line\n",
    "for line in lines:\n",
    "    pattern = ''\n",
    "    id_movie = re.search(pattern, line)"
   ]
  },
  {
   "cell_type": "markdown",
   "metadata": {
    "slideshow": {
     "slide_type": "fragment"
    }
   },
   "source": [
    "- motif pour chiffres qui se suivent : `[0-9]+` ou `\\d+`"
   ]
  },
  {
   "cell_type": "code",
   "execution_count": null,
   "metadata": {
    "slideshow": {
     "slide_type": "-"
    }
   },
   "outputs": [],
   "source": [
    "for line in lines:\n",
    "    id_movie = re.search('\\d+', line)"
   ]
  },
  {
   "cell_type": "markdown",
   "metadata": {
    "slideshow": {
     "slide_type": "fragment"
    }
   },
   "source": [
    "- résultat de la capture disponible via méthode `group()` :"
   ]
  },
  {
   "cell_type": "code",
   "execution_count": null,
   "metadata": {
    "slideshow": {
     "slide_type": "-"
    }
   },
   "outputs": [],
   "source": [
    "for line in lines:\n",
    "    id_movie = re.search('\\d+', line)\n",
    "    # For each movie, print the id\n",
    "    print(id_movie.group(0))"
   ]
  },
  {
   "cell_type": "markdown",
   "metadata": {
    "slideshow": {
     "slide_type": "subslide"
    }
   },
   "source": [
    "**4e étape :** reconstruire les URL sur Allociné"
   ]
  },
  {
   "cell_type": "markdown",
   "metadata": {
    "slideshow": {
     "slide_type": "fragment"
    }
   },
   "source": [
    "- critiques spectateurs sur une page où `{id}` est l’identifiant du film :\n",
    "```txt\n",
    "http://www.allocine.fr/film/fichefilm-{id}/critiques/spectateurs/\n",
    "```"
   ]
  },
  {
   "cell_type": "code",
   "execution_count": null,
   "metadata": {
    "slideshow": {
     "slide_type": "-"
    }
   },
   "outputs": [],
   "source": [
    "for line in lines:\n",
    "    id_movie = re.search('\\d+', line)\n",
    "    url = 'http://www.allocine.fr/film/fichefilm-{id}/critiques/spectateurs/'"
   ]
  },
  {
   "cell_type": "markdown",
   "metadata": {
    "slideshow": {
     "slide_type": "subslide"
    }
   },
   "source": [
    "- méthode `format()` sur une chaîne de caractères pour remplacer `{id}` de l’URL par l’identifiant du film :"
   ]
  },
  {
   "cell_type": "code",
   "execution_count": null,
   "metadata": {},
   "outputs": [],
   "source": [
    "for line in lines:\n",
    "    id_movie = re.search('\\d+', line)\n",
    "    url = 'http://www.allocine.fr/film/fichefilm-{id}/critiques/spectateurs/'\n",
    "    url = url.format(id = id_movie.group(0))"
   ]
  },
  {
   "cell_type": "markdown",
   "metadata": {
    "slideshow": {
     "slide_type": "fragment"
    }
   },
   "source": [
    "- ou, mieux, utiliser une *f-string* :"
   ]
  },
  {
   "cell_type": "code",
   "execution_count": null,
   "metadata": {},
   "outputs": [],
   "source": [
    "for line in lines:\n",
    "    id_movie = re.search('\\d+', line)\n",
    "    url = f'http://www.allocine.fr/film/fichefilm-{id_movie.group(0)}/critiques/spectateurs/'"
   ]
  },
  {
   "cell_type": "markdown",
   "metadata": {
    "slideshow": {
     "slide_type": "subslide"
    }
   },
   "source": [
    "**5e étape :** importer le module `utils.py` du package `scrape` et appeler la méthode `get_html_from_url()` pour récupérer le contenu HTML de chaque page."
   ]
  },
  {
   "cell_type": "code",
   "execution_count": null,
   "metadata": {},
   "outputs": [],
   "source": [
    "import scrape.utils as scrape"
   ]
  },
  {
   "cell_type": "code",
   "execution_count": null,
   "metadata": {},
   "outputs": [],
   "source": [
    "for line in lines:\n",
    "    id_movie = re.search('\\d+', line)\n",
    "    url = f'http://www.allocine.fr/film/fichefilm-{id_movie.group(0)}/critiques/spectateurs/'\n",
    "    # Get HTML code\n",
    "    html = scrape.get_html_from_url(url)"
   ]
  },
  {
   "cell_type": "markdown",
   "metadata": {
    "slideshow": {
     "slide_type": "slide"
    }
   },
   "source": [
    "## Extraire les critiques"
   ]
  },
  {
   "cell_type": "markdown",
   "metadata": {
    "slideshow": {
     "slide_type": "fragment"
    }
   },
   "source": [
    "Sur les pages de chaque film, les critiques utilisateur sont encadrées de marqueurs auxquels sont appliqués la classe CSS `content-txt`"
   ]
  },
  {
   "cell_type": "markdown",
   "metadata": {
    "slideshow": {
     "slide_type": "subslide"
    }
   },
   "source": [
    "Grâce à *BeautifulSoup*, on peut facilement sélectionner ces marqueurs et en récupérer le contenu"
   ]
  },
  {
   "cell_type": "code",
   "execution_count": null,
   "metadata": {
    "slideshow": {
     "slide_type": "-"
    }
   },
   "outputs": [],
   "source": [
    "from bs4 import BeautifulSoup\n",
    "\n",
    "for line in lines:\n",
    "    id_movie = re.search('\\d+', line)\n",
    "    url = f'http://www.allocine.fr/film/fichefilm-{id_movie.group(0)}/critiques/spectateurs/'\n",
    "    html = scrape.get_html_from_URL(url)\n",
    "    # Extract user reviews\n",
    "    soup = BeautifulSoup(html, 'html.parser')\n",
    "    reviews = soup.select('.content-txt')"
   ]
  },
  {
   "cell_type": "markdown",
   "metadata": {
    "slideshow": {
     "slide_type": "subslide"
    }
   },
   "source": [
    "Comme il s’agit d’une procédure déjà utilisée dans le précédent *notebook*, autant définir une fonction à placer dans le module *utils* :"
   ]
  },
  {
   "cell_type": "code",
   "execution_count": null,
   "metadata": {
    "slideshow": {
     "slide_type": "-"
    }
   },
   "outputs": [],
   "source": [
    "from bs4 import BeautifulSoup\n",
    "\n",
    "def parse_html_by_class(html, selector):\n",
    "    \"\"\"Extracts tags from HTML whith CSS selector.\n",
    "    \n",
    "    Keyword arguments:\n",
    "    html -- the html page\n",
    "    selector -- the CSS selector\n",
    "    \"\"\"\n",
    "    soup = BeautifulSoup(html, 'html.parser')\n",
    "    tags = soup.select(selector)\n",
    "    return tags"
   ]
  },
  {
   "cell_type": "markdown",
   "metadata": {
    "slideshow": {
     "slide_type": "subslide"
    }
   },
   "source": [
    "Et modifier le code en conséquence :"
   ]
  },
  {
   "cell_type": "code",
   "execution_count": null,
   "metadata": {
    "slideshow": {
     "slide_type": "-"
    }
   },
   "outputs": [],
   "source": [
    "for line in lines:\n",
    "    id_movie = re.search('\\d+', line)\n",
    "    url = f'http://www.allocine.fr/film/fichefilm-{id_movie.group(0)}/critiques/spectateurs/'\n",
    "    html = scrape.get_html_from_url(url)\n",
    "    # Extract user reviews\n",
    "    reviews = scrape.parse_html_by_class(html, '.content-txt')"
   ]
  },
  {
   "cell_type": "markdown",
   "metadata": {
    "slideshow": {
     "slide_type": "subslide"
    }
   },
   "source": [
    "Pour placer au final toutes les critiques dans une liste :"
   ]
  },
  {
   "cell_type": "code",
   "execution_count": null,
   "metadata": {
    "slideshow": {
     "slide_type": "-"
    }
   },
   "outputs": [],
   "source": [
    "movie_reviews = list()\n",
    "\n",
    "for line in lines:\n",
    "    id_movie = re.search('\\d+', line)\n",
    "    url = f'http://www.allocine.fr/film/fichefilm-{id_movie.group(0)}/critiques/spectateurs/'\n",
    "    html = scrape.get_html_from_url(url)\n",
    "    # Add the user reviews to the list\n",
    "    movie_reviews.append(\n",
    "        # A record is a tuple of two elements:\n",
    "        # - id movie\n",
    "        # - list of relative reviews\n",
    "        (id_movie.group(0), scrape.parse_html_by_class(html, '.content-txt'))\n",
    "    )"
   ]
  },
  {
   "cell_type": "markdown",
   "metadata": {
    "slideshow": {
     "slide_type": "slide"
    }
   },
   "source": [
    "## Constituer le corpus"
   ]
  },
  {
   "cell_type": "markdown",
   "metadata": {
    "slideshow": {
     "slide_type": "fragment"
    }
   },
   "source": [
    "Maintenant que nous disposons d’une liste des critiques pour chaque film, nous souhaitons au final constituer un corpus avec les caractéristiques suivantes :\n",
    "- un fichier par film\n",
    "- une critique par ligne"
   ]
  },
  {
   "cell_type": "markdown",
   "metadata": {
    "slideshow": {
     "slide_type": "slide"
    }
   },
   "source": [
    "Dans les critiques extraites par *BeautifulSoup*, nous souhaitons déjà nous débarrasser des balises HTML :"
   ]
  },
  {
   "cell_type": "code",
   "execution_count": null,
   "metadata": {
    "slideshow": {
     "slide_type": "-"
    }
   },
   "outputs": [],
   "source": [
    "# For each movie…\n",
    "for id_movie, reviews in movie_reviews:\n",
    "    # … keep only the textual content of each review\n",
    "    for review in reviews:\n",
    "        review = review.get_text()"
   ]
  },
  {
   "cell_type": "markdown",
   "metadata": {
    "slideshow": {
     "slide_type": "subslide"
    }
   },
   "source": [
    "En analysant le retour grâce à la fonction `print()`, on observe que :\n",
    "- les retours à la ligne utilisateur sont préservés\n",
    "- il subsiste des espaces superflus avant et après chaque critique"
   ]
  },
  {
   "cell_type": "markdown",
   "metadata": {
    "slideshow": {
     "slide_type": "subslide"
    }
   },
   "source": [
    "Python fournit des méthodes sur les chaînes de caractères pour gérer ces effets :\n",
    "- méthode `strip()` pour retirer les espaces\n",
    "- méthode `replace()` pour retirer les retours à la ligne (`'\\n'`)"
   ]
  },
  {
   "cell_type": "code",
   "execution_count": null,
   "metadata": {
    "slideshow": {
     "slide_type": "-"
    }
   },
   "outputs": [],
   "source": [
    "for id_movie, reviews in movie_reviews:\n",
    "    for review in reviews:\n",
    "        review = review.get_text()\n",
    "        # Delete spaces\n",
    "        review = review.strip()\n",
    "        # Substitutes new lines by a space\n",
    "        review = review.replace('\\n', ' ')"
   ]
  },
  {
   "cell_type": "markdown",
   "metadata": {
    "slideshow": {
     "slide_type": "subslide"
    }
   },
   "source": [
    "Mieux, il est possible de chaîner les méthodes :"
   ]
  },
  {
   "cell_type": "code",
   "execution_count": null,
   "metadata": {
    "slideshow": {
     "slide_type": "-"
    }
   },
   "outputs": [],
   "source": [
    "for id_movie, reviews in movie_reviews:\n",
    "    for review in reviews:\n",
    "        review = review.get_text().strip().replace('\\n', ' ')"
   ]
  },
  {
   "cell_type": "markdown",
   "metadata": {
    "slideshow": {
     "slide_type": "subslide"
    }
   },
   "source": [
    "Il ne reste plus qu’à enregistrer les critiques :"
   ]
  },
  {
   "cell_type": "code",
   "execution_count": null,
   "metadata": {
    "slideshow": {
     "slide_type": "fragment"
    }
   },
   "outputs": [],
   "source": [
    "for id_movie, reviews in movie_reviews:\n",
    "    for review in reviews:\n",
    "        review = review.get_text().strip().replace('\\n', ' ')\n",
    "        with open(f'./data/allocine/reviews_{id_movie}.txt', 'a') as file:\n",
    "            # Write the line\n",
    "            file.write(review)\n",
    "            file.write('\\n')"
   ]
  }
 ],
 "metadata": {
  "celltoolbar": "Diaporama",
  "kernelspec": {
   "display_name": "Python 3",
   "language": "python",
   "name": "python3"
  },
  "language_info": {
   "codemirror_mode": {
    "name": "ipython",
    "version": 3
   },
   "file_extension": ".py",
   "mimetype": "text/x-python",
   "name": "python",
   "nbconvert_exporter": "python",
   "pygments_lexer": "ipython3",
   "version": "3.8.0"
  }
 },
 "nbformat": 4,
 "nbformat_minor": 2
}
