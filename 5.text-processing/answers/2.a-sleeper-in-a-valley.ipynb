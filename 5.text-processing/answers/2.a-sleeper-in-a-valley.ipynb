{
 "cells": [
  {
   "cell_type": "markdown",
   "metadata": {},
   "source": [
    "# Ne vous endormez pas !"
   ]
  },
  {
   "cell_type": "markdown",
   "metadata": {},
   "source": [
    "Ce court exercice répond à un besoin classique et pas si trivial en traitement automatique du langage : le dénombrement des mots d’un texte. En vous appuyant sur la classe `RegexpTokenizer`, vous concevrez une fonction `nb_words()` qui prend en entrée une chaîne de caractères et renvoie en sortie uniquement un nombre entier. Votre fonction ne s’adaptera qu’aux spécificités du français."
   ]
  },
  {
   "cell_type": "code",
   "execution_count": null,
   "metadata": {},
   "outputs": [],
   "source": [
    "# module to import\n",
    "from nltk.tokenize import RegexpTokenizer"
   ]
  },
  {
   "cell_type": "markdown",
   "metadata": {},
   "source": [
    "## Coder"
   ]
  },
  {
   "cell_type": "code",
   "execution_count": null,
   "metadata": {},
   "outputs": [],
   "source": [
    "# your code here\n",
    "def nb_words(text: str) -> int:\n",
    "    \"\"\"Count the number of words in a text,\n",
    "    regardless of punctuation.\n",
    "    \n",
    "    text -- text to tokenize\n",
    "    \"\"\"\n",
    "    # matches only the words\n",
    "    tokenizer = RegexpTokenizer('\\w+')\n",
    "    # tokenization\n",
    "    tokens = tokenizer.tokenize(text)\n",
    "\n",
    "    return len(tokens)"
   ]
  },
  {
   "cell_type": "markdown",
   "metadata": {},
   "source": [
    "## Vérifier"
   ]
  },
  {
   "cell_type": "markdown",
   "metadata": {},
   "source": [
    "Vous vérifierez votre fonction avec le poème [*Le dormeur du val*](../data/dormeur-du-val.txt) de Rimbaud :"
   ]
  },
  {
   "cell_type": "code",
   "execution_count": null,
   "metadata": {},
   "outputs": [],
   "source": [
    "# path to text\n",
    "path = \"../data/dormeur-du-val.txt\"\n",
    "\n",
    "# get text content\n",
    "with open(path) as f:\n",
    "    text = f.read()\n",
    "\n",
    "# how many words?\n",
    "nb = nb_words(text)\n",
    "\n",
    "# check the result\n",
    "if nb != 121:\n",
    "    print(f\"Vous avez trouvé { nb } mots. La bonne réponse était : 121 !\")\n",
    "else:\n",
    "    print(\"Résultat correct !\")"
   ]
  }
 ],
 "metadata": {
  "kernelspec": {
   "display_name": "Python 3 (ipykernel)",
   "language": "python",
   "name": "python3"
  },
  "language_info": {
   "codemirror_mode": {
    "name": "ipython",
    "version": 3
   },
   "file_extension": ".py",
   "mimetype": "text/x-python",
   "name": "python",
   "nbconvert_exporter": "python",
   "pygments_lexer": "ipython3",
   "version": "3.10.6"
  }
 },
 "nbformat": 4,
 "nbformat_minor": 4
}
