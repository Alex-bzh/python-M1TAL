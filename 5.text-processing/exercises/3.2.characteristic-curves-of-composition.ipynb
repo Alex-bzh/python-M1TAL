{
 "cells": [
  {
   "cell_type": "markdown",
   "id": "e6b06055-18a7-45cb-98ea-bf352d3461c0",
   "metadata": {},
   "source": [
    "# Un espace courbe"
   ]
  },
  {
   "cell_type": "markdown",
   "id": "3d6ae6fd-b8dc-4fb1-83bd-12a3f53c037a",
   "metadata": {},
   "source": [
    "En 1887, Thomas Corwin Mendenhall publie un article dans *Science*, \"[The Characteristic Curves of Composition](https://www.science.org/doi/10.1126/science.ns-9.214S.237)\", dans lequel il avance que non seulement le style d’un auteur est régulier tout au long d’une de ses œuvres mais qu’il se retrouve en plus dans l’ensemble de ses ouvrages. Afin de le prouver, il retient comme mesure la longueur des mots dont la distribution révèlerait une signature caractéristique.\n",
    "\n",
    "Cet exercice vous amènera à manipuler la segmentation d’un texte en tokens avant de les répartir dans plusieurs ensembles pour analyser la distribution de leurs fréquences selon une condition : le nombre de leurs caractères.\n",
    "\n",
    "Commencez par charger quelques bibliothèques nécessaires ainsi que le texte du roman *Dracula* de Bram Stoker :"
   ]
  },
  {
   "cell_type": "code",
   "execution_count": null,
   "id": "5ea0d613-dc69-4d57-8b5c-fcd1246bab41",
   "metadata": {},
   "outputs": [],
   "source": [
    "import matplotlib.pyplot as plt\n",
    "import seaborn as sns\n",
    "\n",
    "with open('../data/dracula.txt') as f:\n",
    "    text = f.read()"
   ]
  },
  {
   "cell_type": "markdown",
   "id": "f10c3606-d94a-4da7-9854-1f6f68582859",
   "metadata": {},
   "source": [
    "## Tokenisation du texte"
   ]
  },
  {
   "cell_type": "markdown",
   "id": "87579cad-5831-4aea-9a36-e022c4a04be0",
   "metadata": {},
   "source": [
    "Constituez dans une variable `words` la liste des mots du roman :"
   ]
  },
  {
   "cell_type": "code",
   "execution_count": null,
   "id": "ca988062-5f07-48ce-93da-5587c18d5979",
   "metadata": {},
   "outputs": [],
   "source": [
    "# your code here"
   ]
  },
  {
   "cell_type": "markdown",
   "id": "05e71d7a-cc06-4fe1-bb4c-0bbb3f8250b1",
   "metadata": {},
   "source": [
    "## Division d’une liste en parties égales"
   ]
  },
  {
   "cell_type": "markdown",
   "id": "cbcc88ac-dcea-4e49-ab1c-b76d86b481b0",
   "metadata": {},
   "source": [
    "Scindez la variable `words` en une liste de *n* parties, de telle manière que chaque partie soit constituée de 5000 mots, et enregistrez le résultat dans une variable `parts` :"
   ]
  },
  {
   "cell_type": "code",
   "execution_count": null,
   "id": "e9db1c0e-d8c5-4111-8b21-45b0e53175a8",
   "metadata": {},
   "outputs": [],
   "source": [
    "# your code here"
   ]
  },
  {
   "cell_type": "markdown",
   "id": "d6e5bfe4-79d3-42f0-8642-675652b96448",
   "metadata": {},
   "source": [
    "## Un dictionnaire des fréquences d’occurrences"
   ]
  },
  {
   "cell_type": "markdown",
   "id": "14372cd8-ebe2-4f0a-8557-a75623944c8e",
   "metadata": {},
   "source": [
    "Concevez une fonction qui transforme une liste d’occurences en dictionnaire de fréquences conditionnelles. Comme condition, optez pour la longueur des mots. La classe `ConditionalFreqDist` du module `nltk.probability` est tout indiquée :"
   ]
  },
  {
   "cell_type": "code",
   "execution_count": null,
   "id": "3cb788ff-c503-42b1-8220-45085e3155f0",
   "metadata": {},
   "outputs": [],
   "source": [
    "# your code here"
   ]
  },
  {
   "cell_type": "markdown",
   "id": "0a3fd4ef-1b9f-42ce-8507-6ef9573cd1b6",
   "metadata": {},
   "source": [
    "## Une liste des distributions des fréquences"
   ]
  },
  {
   "cell_type": "markdown",
   "id": "2d9f0bf7-7292-480a-b865-17df629a6c66",
   "metadata": {},
   "source": [
    "Pour chaque partie de votre collection `parts`, obtenez un dictionnaire de la distribution des fréquences. Enregistrez le tout dans une liste `frequencies` qui sera triée par longueur de mots (les conditions) :"
   ]
  },
  {
   "cell_type": "code",
   "execution_count": null,
   "id": "c784f72b-f2b2-4a1d-b485-cabddac8357f",
   "metadata": {},
   "outputs": [],
   "source": [
    "# your code here"
   ]
  },
  {
   "cell_type": "markdown",
   "id": "1d260f83-c401-4aeb-852f-461d1aaa7930",
   "metadata": {},
   "source": [
    "## Affichage des courbes"
   ]
  },
  {
   "cell_type": "markdown",
   "id": "24370528-32bd-40d8-af7d-a74c89aa6107",
   "metadata": {},
   "source": [
    "Il reste à afficher les courbes caractéristiques de composition de Mendenhall :"
   ]
  },
  {
   "cell_type": "code",
   "execution_count": null,
   "id": "e46aa893-d8cf-41db-beb5-e096f8c60b9f",
   "metadata": {},
   "outputs": [],
   "source": [
    "figure, ax = plt.subplots(figsize=(12,5))\n",
    "\n",
    "figure.suptitle(\"Characteristic curves of composition in Bram Stoker’s Dracula\")\n",
    "\n",
    "ax.set(\n",
    "    title=\"n = 5000 words\",\n",
    "    xlabel=\"Word length\",\n",
    "    ylabel=\"Frequency\"\n",
    ")\n",
    "\n",
    "for i in frequencies:\n",
    "    conditions = [ condition for condition, w in i ]\n",
    "    counts = [ sum(w.values()) for condition, w in i ]\n",
    "    sns.lineplot(x=conditions, y=counts, ax=ax)\n",
    "\n",
    "sns.despine()\n",
    "plt.show()"
   ]
  }
 ],
 "metadata": {
  "kernelspec": {
   "display_name": "Python 3 (ipykernel)",
   "language": "python",
   "name": "python3"
  },
  "language_info": {
   "codemirror_mode": {
    "name": "ipython",
    "version": 3
   },
   "file_extension": ".py",
   "mimetype": "text/x-python",
   "name": "python",
   "nbconvert_exporter": "python",
   "pygments_lexer": "ipython3",
   "version": "3.10.6"
  }
 },
 "nbformat": 4,
 "nbformat_minor": 5
}
