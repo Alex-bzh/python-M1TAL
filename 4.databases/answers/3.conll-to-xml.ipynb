{
 "cells": [
  {
   "cell_type": "markdown",
   "metadata": {},
   "source": [
    "# D’un format à l’autre"
   ]
  },
  {
   "cell_type": "markdown",
   "metadata": {},
   "source": [
    "Vous disposez d’un fichier [*ftb-dependencies.conll*](../data/ftb-dependencies.conll) au format [CoNLL-U](https://universaldependencies.org/format.html) issu du [*French Treebank*](http://ftb.linguist.univ-paris-diderot.fr/). \n",
    "\n",
    "Votre objectif est de transformer ce fichier au format XML, en ne retenant que certaines informations :\n",
    "- le mot (2e colonne) ;\n",
    "- son lemme (3e colonne) ;\n",
    "- sa catégorie grammaticale (4e colonne).\n",
    "\n",
    "Au final, vous devriez obtenir la structure ci-dessous :\n",
    "\n",
    "```xml\n",
    "<sents>\n",
    "    <sent>\n",
    "        <w lemma=\"le\" pos=\"DET\">Le</w>\n",
    "        <w lemma=\"petit\" pos=\"ADJ\">petit</w>\n",
    "        <w lemma=\"chat\" pos=\"NC\">chat</w>\n",
    "        <w lemma=\"être\" pos=\"V\">est</w>\n",
    "        <w lemma=\"mort\" pos=\"ADJ\">mort</w>\n",
    "        <w lemma=\".\" pos=\"PONCT\">.</w>\n",
    "    </sent>\n",
    "    …\n",
    "</sents>\n",
    "```\n",
    "\n",
    "Comme toujours, il existe plusieurs façons de procéder. Nous vous recommandons d’essayer dans un premier temps de lire le fichier CoNLL comme s’il s’agissait de texte brut, et de l’analyser afin de récolter une liste de phrases qui sont elles-mêmes des listes de tuples comprenant le mot, son lemme et sa catégorie grammaticale :\n",
    "\n",
    "```py\n",
    "sentences = [\n",
    "    [\n",
    "        ('Le', 'le', 'DET'),\n",
    "        ('petit', 'petit', 'ADJ'),\n",
    "        ('chat', 'chat', 'NC'),\n",
    "        ('est', 'être', 'V'),\n",
    "        ('mort', 'mort', 'ADJ'),\n",
    "        ('.', '.', 'PONCT')\n",
    "    ]\n",
    "    …\n",
    "]\n",
    "```\n",
    "\n",
    "Pour obtenir les tuples, il vous suffit de trouver le caractère de séparation entre chaque champ puis d’isoler les informations nécessaires.\n",
    "\n",
    "Et pour délimiter les phrases, repérez le symbole qui caractérise un saut de ligne. Ce devrait être le signal pour terminer la phrase en cours de construction et en commencer une nouvelle."
   ]
  },
  {
   "cell_type": "code",
   "execution_count": null,
   "metadata": {},
   "outputs": [],
   "source": [
    "# Your code here\n",
    "sentences = list()\n",
    "sentence = list()\n",
    "\n",
    "with open('../data/ftb-dependencies.conll') as f:\n",
    "    for row in f:\n",
    "        # Separator: tabulation\n",
    "        data = row.split('\\t')\n",
    "        # Blank row? Then append the sentence and create new one\n",
    "        if data[0] == '\\n':\n",
    "            sentences.append(sentence)\n",
    "            sentence = list()\n",
    "        # Otherwise, insert the word in the current sentence\n",
    "        else:\n",
    "            sentence.append((data[1], data[2], data[3]))"
   ]
  },
  {
   "cell_type": "markdown",
   "metadata": {},
   "source": [
    "Et, dans un second temps, construisez le fichier XML !"
   ]
  },
  {
   "cell_type": "code",
   "execution_count": null,
   "metadata": {},
   "outputs": [],
   "source": [
    "# Your code here\n",
    "import xml.etree.ElementTree as ET\n",
    "\n",
    "sents = ET.Element('sents')\n",
    "\n",
    "for sentence in sentences:\n",
    "\n",
    "    sent = ET.SubElement(sents, 'sent')\n",
    "\n",
    "    for word, lemma, pos in sentence:\n",
    "        w = ET.SubElement(sent, 'w')\n",
    "        w.text = word\n",
    "        w.set('lemma', lemma)\n",
    "        w.set('pos', pos)\n",
    "\n",
    "tree = ET.ElementTree(sents)\n",
    "tree.write('../data/ftb-corpus.xml')"
   ]
  }
 ],
 "metadata": {
  "kernelspec": {
   "display_name": "Python 3",
   "language": "python",
   "name": "python3"
  },
  "language_info": {
   "codemirror_mode": {
    "name": "ipython",
    "version": 3
   },
   "file_extension": ".py",
   "mimetype": "text/x-python",
   "name": "python",
   "nbconvert_exporter": "python",
   "pygments_lexer": "ipython3",
   "version": "3.7.7"
  }
 },
 "nbformat": 4,
 "nbformat_minor": 4
}
