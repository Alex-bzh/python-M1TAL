{
 "cells": [
  {
   "cell_type": "markdown",
   "metadata": {},
   "source": [
    "# Une bibliothèque\n",
    "\n",
    "Au cours de cet exercice, vous apprendrez à mettre sur pied une véritable base de données relationnelle. Cette base de données sera composée de trois tables reliées entre elles par un mécanisme de clé primaire et clé étrangère."
   ]
  },
  {
   "cell_type": "markdown",
   "metadata": {},
   "source": [
    "## Connexion à la base de données\n",
    "\n",
    "Avant tout, importez le module python qui permet d’utiliser les instructions SQLite."
   ]
  },
  {
   "cell_type": "code",
   "execution_count": null,
   "metadata": {},
   "outputs": [],
   "source": [
    "# Your code here\n",
    "import sqlite3"
   ]
  },
  {
   "cell_type": "markdown",
   "metadata": {},
   "source": [
    "Mettez en place une connexion à un fichier `library.db`."
   ]
  },
  {
   "cell_type": "code",
   "execution_count": null,
   "metadata": {},
   "outputs": [],
   "source": [
    "# Your code here\n",
    "connection = sqlite3.connect('../data/library.db')"
   ]
  },
  {
   "cell_type": "markdown",
   "metadata": {},
   "source": [
    "Instanciez à présent sur cette connexion un objet `Cursor`."
   ]
  },
  {
   "cell_type": "code",
   "execution_count": null,
   "metadata": {},
   "outputs": [],
   "source": [
    "# Your code here\n",
    "c = connection.cursor()"
   ]
  },
  {
   "cell_type": "markdown",
   "metadata": {},
   "source": [
    "## La structure de la base de données\n",
    "\n",
    "Prenez tout d’abord connaissance du fichier [*library.xml*](../data/library.xml). Il représente deux tables :\n",
    "- *books*\n",
    "- *authors*\n",
    "\n",
    "La table *books* est composée des champs évidents comme *title*, *pub_year*, *summary* et *grade*, auxquels il faut rajouter ceux qui forment les attributs *ref_author*, *xml:lang*, *original_title*, *original_title_lang*.\n",
    "\n",
    "Pour la table *authors*, on peut lister : *id_author*, *lastname*, *firstname*, *birth*, *death* et enfin *place*, qui est commun aux deux précédents."
   ]
  },
  {
   "cell_type": "markdown",
   "metadata": {},
   "source": [
    "### Créer la table *authors*\n",
    "\n",
    "Avant de lancer une instruction `CREATE TABLE`, définissez pour chaque champ le type de données qu’il va enregistrer, décidez si vous souhaitez les rendre obligatoires ou non et attribuez-leur une éventuelle valeur par défaut. Enfin, décidez si l’un ou l’autre de ces champs devrait être considéré comme une clé primaire ou une clé étrangère."
   ]
  },
  {
   "cell_type": "markdown",
   "metadata": {},
   "source": [
    "|field|datatype|NULL|default|key|\n",
    "|:-|:-:|:-:|:-:|:-:|\n",
    "|id_author|TEXT|NOT NULL|-|PRIMARY KEY|\n",
    "|lastname|TEXT|NOT NULL|-|-|\n",
    "|firstname|TEXT|NOT NULL|-|-|\n",
    "|birth|TEXT|NOT NULL|-|-|\n",
    "|death|TEXT|NOT NULL|-|-|\n",
    "|place|TEXT|NOT NULL|-|-|\n",
    "|place|TEXT|NOT NULL|-|-|"
   ]
  },
  {
   "cell_type": "markdown",
   "metadata": {},
   "source": [
    "Remarquez les champs `place` et `place` qui non seulement sont nommés de la même manière mais ont pour vocation à recevoir tous deux le même genre de données, à savoir le nom d’une localité. Mettons-les provisoirement de côté."
   ]
  },
  {
   "cell_type": "markdown",
   "metadata": {},
   "source": [
    "Ensuite, sur la base de cette liste, rédigez l’instruction SQL équivalente."
   ]
  },
  {
   "cell_type": "code",
   "execution_count": null,
   "metadata": {},
   "outputs": [],
   "source": [
    "# Your code here\n",
    "sql = \"\"\"CREATE TABLE IF NOT EXISTS authors (\n",
    "id_author TEXT PRIMARY KEY,\n",
    "lastname TEXT NOT NULL,\n",
    "firstname TEXT NOT NULL,\n",
    "birth TEXT NOT NULL,\n",
    "death TEXT NOT NULL\n",
    ")\"\"\""
   ]
  },
  {
   "cell_type": "markdown",
   "metadata": {},
   "source": [
    "Et exécutez-la sur l’objet `Cursor` que vous avez instancié plus tôt."
   ]
  },
  {
   "cell_type": "code",
   "execution_count": null,
   "metadata": {},
   "outputs": [],
   "source": [
    "# Your code here\n",
    "c.execute(sql)"
   ]
  },
  {
   "cell_type": "markdown",
   "metadata": {},
   "source": [
    "### Créer la table *books*\n",
    "\n",
    "Comme pour la table *authors*, établissez une liste des champs de données avec les options éventuelles. Rajoutez un champ *id_book* afin de fournir chaque enregistrement d’un identifiant."
   ]
  },
  {
   "cell_type": "markdown",
   "metadata": {},
   "source": [
    "|field|datatype|NULL|default|key|\n",
    "|:-|:-:|:-:|:-:|:-:|\n",
    "|id_book|INTEGER|NOT NULL|-|PRIMARY KEY|\n",
    "|ref_author|TEXT|NOT NULL|-|FOREIGN KEY|\n",
    "|lang|TEXT|NOT NULL|-|-|\n",
    "|title|TEXT|NOT NULL|-|-|\n",
    "|original_title|TEXT|-|-|-|\n",
    "|original_title_lang|TEXT|-|-|-|\n",
    "|pub_year|INTEGER|NOT NULL|-|-|\n",
    "|summary|TEXT|NOT NULL|-|-|\n",
    "|grade|INTEGER|NOT NULL|-|-|"
   ]
  },
  {
   "cell_type": "markdown",
   "metadata": {},
   "source": [
    "Traduisez ensuite cette liste sous forme d’instruction SQL."
   ]
  },
  {
   "cell_type": "code",
   "execution_count": null,
   "metadata": {},
   "outputs": [],
   "source": [
    "# Your code here\n",
    "sql = \"\"\"CREATE TABLE IF NOT EXISTS books (\n",
    "id_book INTEGER PRIMARY KEY,\n",
    "ref_author TEXT,\n",
    "lang TEXT NOT NULL,\n",
    "title TEXT NOT NULL,\n",
    "original_title TEXT,\n",
    "original_title_lang TEXT,\n",
    "pub_year INTEGER NOT NULL,\n",
    "summary TEXT NOT NULL,\n",
    "grade TEXT NOT NULL,\n",
    "FOREIGN KEY(ref_author) REFERENCES authors(id_author)\n",
    ")\"\"\""
   ]
  },
  {
   "cell_type": "markdown",
   "metadata": {},
   "source": [
    "Exécutez maintenant l’instruction SQL."
   ]
  },
  {
   "cell_type": "code",
   "execution_count": null,
   "metadata": {},
   "outputs": [],
   "source": [
    "c.execute(sql)"
   ]
  },
  {
   "cell_type": "markdown",
   "metadata": {},
   "source": [
    "### Créer la table *places*\n",
    "\n",
    "Intéressons-nous maintenant aux champs *places* que nous avons mis de côté. Plutôt que d’insérer deux champs identiques dans la table *authors*, l’idée est de créer une troisième table qui identifierait un lieu de manière unique, référencée ensuite dans la table des auteurs. Définissez dans un premier temps cette table *places*."
   ]
  },
  {
   "cell_type": "markdown",
   "metadata": {},
   "source": [
    "|field|datatype|NULL|default|key|\n",
    "|:-|:-:|:-:|:-:|:-:|\n",
    "|id_place|INTEGER|NOT NULL|-|PRIMARY KEY|\n",
    "|place|TEXT|NOT NULL|-|-|"
   ]
  },
  {
   "cell_type": "markdown",
   "metadata": {},
   "source": [
    "Traduisez cette liste en une instruction SQL et exécutez-la."
   ]
  },
  {
   "cell_type": "code",
   "execution_count": null,
   "metadata": {},
   "outputs": [],
   "source": [
    "# Your code here\n",
    "sql = \"\"\"CREATE TABLE IF NOT EXISTS places (\n",
    "id_place INTEGER PRIMARY KEY,\n",
    "place TEXT NOT NULL\n",
    ")\"\"\"\n",
    "c.execute(sql)"
   ]
  },
  {
   "cell_type": "markdown",
   "metadata": {},
   "source": [
    "### Mettre à jour la table *authors*\n",
    "\n",
    "Prévoir pour la table *authors* deux champs de référence à la clé `id_place` de la table *places*. Réécrivez la liste des champs en intégrant cette contrainte."
   ]
  },
  {
   "cell_type": "markdown",
   "metadata": {},
   "source": [
    "|field|datatype|NULL|default|key|\n",
    "|:-|:-:|:-:|:-:|:-:|\n",
    "|id_author|TEXT|NOT NULL|-|PRIMARY KEY|\n",
    "|ref_birthplace|INTEGER|NOT NULL|-|FOREIGN KEY|\n",
    "|ref_deathplace|INTEGER|NOT NULL|-|FOREIGN KEY|\n",
    "|lastname|TEXT|NOT NULL|-|-|\n",
    "|firstname|TEXT|NOT NULL|-|-|\n",
    "|birth|TEXT|NOT NULL|-|-|\n",
    "|death|TEXT|NOT NULL|-|-|"
   ]
  },
  {
   "cell_type": "markdown",
   "metadata": {},
   "source": [
    "Si la norme SQL permet de rajouter une clé étrangère à une table existante, la version allégée SQLite impose de redéfinir la table *authors*. Il vous faut par conséquent la supprimer avant !"
   ]
  },
  {
   "cell_type": "code",
   "execution_count": null,
   "metadata": {},
   "outputs": [],
   "source": [
    "# Your code here\n",
    "c.execute(\"DROP TABLE authors\")"
   ]
  },
  {
   "cell_type": "markdown",
   "metadata": {},
   "source": [
    "Avant de la redéfinir avec les deux champs de référence à `places.id_place`."
   ]
  },
  {
   "cell_type": "code",
   "execution_count": null,
   "metadata": {},
   "outputs": [],
   "source": [
    "# Your code here\n",
    "sql = \"\"\"CREATE TABLE IF NOT EXISTS authors (\n",
    "id_author TEXT PRIMARY KEY,\n",
    "ref_birthplace INTEGER,\n",
    "ref_deathplace INTEGER,\n",
    "lastname TEXT NOT NULL,\n",
    "firstname TEXT NOT NULL,\n",
    "birth TEXT NOT NULL,\n",
    "death TEXT NOT NULL,\n",
    "FOREIGN KEY(ref_birthplace) REFERENCES places(id_place),\n",
    "FOREIGN KEY(ref_deathplace) REFERENCES places(id_place)\n",
    ")\"\"\"\n",
    "c.execute(sql)"
   ]
  },
  {
   "cell_type": "markdown",
   "metadata": {},
   "source": [
    "### Constituer des index\n",
    "\n",
    "Identifiez au sein des trois tables, les champs qui pourraient servir d’index."
   ]
  },
  {
   "cell_type": "markdown",
   "metadata": {},
   "source": [
    "|table|field|unique|\n",
    "|:-|:-:|:-:|\n",
    "|authors|lastname|-|\n",
    "|books|title|-|\n",
    "|books|original_title|-|\n",
    "|places|place|UNIQUE|"
   ]
  },
  {
   "cell_type": "markdown",
   "metadata": {},
   "source": [
    "Exécutez les instructions sql équivalentes."
   ]
  },
  {
   "cell_type": "code",
   "execution_count": null,
   "metadata": {},
   "outputs": [],
   "source": [
    "# Your code here\n",
    "c.execute(\"CREATE INDEX IF NOT EXISTS lastname_index ON authors (lastname)\")\n",
    "c.execute(\"CREATE INDEX IF NOT EXISTS title_index ON books (title)\")\n",
    "c.execute(\"CREATE INDEX IF NOT EXISTS vo_title_index ON books (original_title)\")\n",
    "c.execute(\"CREATE INDEX IF NOT EXISTS place_index ON places (place)\")"
   ]
  },
  {
   "cell_type": "markdown",
   "metadata": {},
   "source": [
    "## Intégrer les données\n",
    "\n",
    "À présent que la structure de la base de données est bien définie, il reste à enregistrer les données à l’intérieur."
   ]
  },
  {
   "cell_type": "markdown",
   "metadata": {},
   "source": [
    "### Lire le fichier XML\n",
    "\n",
    "Cette étape suppose d’extraire les informations du fichier XML. Dans un premier temps, appelez le module Python qui propose une interface XML et chargez la racine du fichier dans une variable `root`."
   ]
  },
  {
   "cell_type": "code",
   "execution_count": null,
   "metadata": {},
   "outputs": [],
   "source": [
    "# Your code here\n",
    "import xml.etree.ElementTree as ET\n",
    "\n",
    "tree = ET.parse('../data/library.xml')\n",
    "root = tree.getroot()"
   ]
  },
  {
   "cell_type": "markdown",
   "metadata": {},
   "source": [
    "### Remplir la table *places*\n",
    "\n",
    "Récupérez ensuite une liste dédoublonnée des lieux de vie et de mort renseignés pour les auteurs à l’intérieur des attributs `places`."
   ]
  },
  {
   "cell_type": "code",
   "execution_count": null,
   "metadata": {},
   "outputs": [],
   "source": [
    "# Your code here\n",
    "places = set()\n",
    "\n",
    "for author in root.iter('author'):\n",
    "    birthplace = author.find('birth').get('place')\n",
    "    deathplace = author.find('death').get('place')\n",
    "    places.update({birthplace, deathplace})"
   ]
  },
  {
   "cell_type": "markdown",
   "metadata": {},
   "source": [
    "À partir de cette liste, construisez une instruction SQL pour remplir la table *places*."
   ]
  },
  {
   "cell_type": "code",
   "execution_count": null,
   "metadata": {},
   "outputs": [],
   "source": [
    "# Your code here\n",
    "sql = \"INSERT INTO places VALUES (?, ?)\"\n",
    "c.executemany(sql, enumerate(places))"
   ]
  },
  {
   "cell_type": "markdown",
   "metadata": {},
   "source": [
    "Si les transactions sont couronnées de succès, l’instruction suivante devrait renvoyer la liste des enregistrements :"
   ]
  },
  {
   "cell_type": "code",
   "execution_count": null,
   "metadata": {},
   "outputs": [],
   "source": [
    "# Print all the records in the table 'places'\n",
    "for row in c.execute(\"SELECT * FROM places\"):\n",
    "    print(row)"
   ]
  },
  {
   "cell_type": "markdown",
   "metadata": {},
   "source": [
    "### Remplir la table *authors*\n",
    "\n",
    "Répétez les opérations pour la table *authors*. Pour renseigner les clés étrangères `birthplace` et `deathplace`, vous devrez établir une correspondance avec les identifiants de la table *places*."
   ]
  },
  {
   "cell_type": "code",
   "execution_count": null,
   "metadata": {},
   "outputs": [],
   "source": [
    "# Your code here\n",
    "\n",
    "# The set become a dict in which the key is the place\n",
    "# and index the value\n",
    "places = { place:idx for idx, place in enumerate(places) }\n",
    "\n",
    "# A list of authors\n",
    "authors = list()\n",
    "\n",
    "for author in root.iter('author'):\n",
    "    id_author = author.get('id_author')\n",
    "    ref_birthplace = author.find('birth').get('place')\n",
    "    ref_deathplace = author.find('death').get('place')\n",
    "    lastname = author.find('lastname').text\n",
    "    firstname = author.find('firstname').text\n",
    "    birth = author.find('birth').text\n",
    "    death = author.find('death').text\n",
    "    authors.append(\n",
    "        (id_author, places[ref_birthplace], places[ref_deathplace],\n",
    "         lastname, firstname, birth, death)\n",
    "    )\n",
    "\n",
    "sql = \"INSERT INTO authors VALUES (?, ?, ?, ?, ?, ?, ?)\"\n",
    "c.executemany(sql, authors)"
   ]
  },
  {
   "cell_type": "markdown",
   "metadata": {},
   "source": [
    "Exécutez le code ci-dessous pour vérifier que vous disposez bien de quatre enregistrements :"
   ]
  },
  {
   "cell_type": "code",
   "execution_count": null,
   "metadata": {},
   "outputs": [],
   "source": [
    "# Print all the records in the table 'authors'\n",
    "for row in c.execute(\"SELECT * FROM authors\"):\n",
    "    print(row)"
   ]
  },
  {
   "cell_type": "markdown",
   "metadata": {},
   "source": [
    "### Remplir la table *books*\n",
    "\n",
    "Et pour la table *books* !"
   ]
  },
  {
   "cell_type": "code",
   "execution_count": null,
   "metadata": {},
   "outputs": [],
   "source": [
    "# Your code here\n",
    "\n",
    "# A list of books\n",
    "books = list()\n",
    "\n",
    "# A counter to keep track of when id_book is incremented\n",
    "i = 0\n",
    "\n",
    "for book in root.iter('book'):\n",
    "    ref_author = book.get('ref_author')\n",
    "    lang = book.get('{http://www.w3.org/XML/1998/namespace}lang')\n",
    "    title = book.find('title').text\n",
    "    original_title = book.find('title').get('original_title')\n",
    "    original_title_lang = book.find('title').get('original_title_lang')\n",
    "    pub_year = book.find('pub_year').text\n",
    "    summary = book.find('summary').text\n",
    "    grade = book.find('grade').text\n",
    "    books.append(\n",
    "        (i, ref_author, lang, title, original_title,\n",
    "         original_title_lang, pub_year, summary, grade)\n",
    "    )\n",
    "    i += 1\n",
    "\n",
    "sql = \"INSERT INTO books VALUES (?, ?, ?, ?, ?, ?, ?, ?, ?)\"\n",
    "c.executemany(sql, books)"
   ]
  },
  {
   "cell_type": "markdown",
   "metadata": {},
   "source": [
    "Encore une fois, si tout s’est bien passé, le code ci-dessous devrait afficher la liste des livres :"
   ]
  },
  {
   "cell_type": "code",
   "execution_count": null,
   "metadata": {},
   "outputs": [],
   "source": [
    "for row in c.execute(\"SELECT * FROM books\"):\n",
    "    print(row)"
   ]
  },
  {
   "cell_type": "markdown",
   "metadata": {},
   "source": [
    "### Sauvegarder les transactions\n",
    "\n",
    "En dernier lieu, n’oubliez pas d’enregistrer toutes vos transactions et de fermer la connexion à la base de données !"
   ]
  },
  {
   "cell_type": "code",
   "execution_count": null,
   "metadata": {},
   "outputs": [],
   "source": [
    "# Your code here\n",
    "connection.commit()\n",
    "connection.close()"
   ]
  },
  {
   "cell_type": "markdown",
   "metadata": {},
   "source": [
    "## Extraire des données\n",
    "\n",
    "Tout est place, nous allons maintenant essayer d’extraire quelques informations de la base de données. Comme la connexion à été fermée précédemment, il faudra avant tout la rouvrir et instancier un nouvel objet `Cursor`."
   ]
  },
  {
   "cell_type": "code",
   "execution_count": null,
   "metadata": {},
   "outputs": [],
   "source": [
    "# Your code here\n",
    "connection = sqlite3.connect('../data/library.db')\n",
    "c = connection.cursor()"
   ]
  },
  {
   "cell_type": "markdown",
   "metadata": {},
   "source": [
    "**Q1 :** Combien de livres existe-t-il dans la base ?"
   ]
  },
  {
   "cell_type": "code",
   "execution_count": null,
   "metadata": {},
   "outputs": [],
   "source": [
    "# Your code here\n",
    "sql = \"SELECT COUNT(id_book) FROM books\"\n",
    "nb_books = c.execute(sql).fetchone()"
   ]
  },
  {
   "cell_type": "markdown",
   "metadata": {},
   "source": [
    "**Q2 :** Quelle est la date de naissance de Flaubert ?"
   ]
  },
  {
   "cell_type": "code",
   "execution_count": null,
   "metadata": {},
   "outputs": [],
   "source": [
    "# Your code here\n",
    "sql = \"SELECT birth FROM authors WHERE lastname = 'Flaubert'\"\n",
    "birth = c.execute(sql).fetchone()"
   ]
  },
  {
   "cell_type": "markdown",
   "metadata": {},
   "source": [
    "**Q3 :** Listez, par ordre alphabétique, les titres des livres et leurs auteurs"
   ]
  },
  {
   "cell_type": "code",
   "execution_count": null,
   "metadata": {},
   "outputs": [],
   "source": [
    "# Your code here\n",
    "sql = \"\"\"SELECT title, firstname, lastname\n",
    "FROM books\n",
    "INNER JOIN authors ON id_author = ref_author\n",
    "ORDER BY title ASC\"\"\"\n",
    "for row in c.execute(sql):\n",
    "    print(f\"{row[0]} de {row[1]} {row[2]}\")"
   ]
  }
 ],
 "metadata": {
  "kernelspec": {
   "display_name": "Python 3",
   "language": "python",
   "name": "python3"
  },
  "language_info": {
   "codemirror_mode": {
    "name": "ipython",
    "version": 3
   },
   "file_extension": ".py",
   "mimetype": "text/x-python",
   "name": "python",
   "nbconvert_exporter": "python",
   "pygments_lexer": "ipython3",
   "version": "3.8.0"
  }
 },
 "nbformat": 4,
 "nbformat_minor": 4
}
