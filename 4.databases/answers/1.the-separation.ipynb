{
 "cells": [
  {
   "cell_type": "markdown",
   "metadata": {},
   "source": [
    "# La séparation"
   ]
  },
  {
   "cell_type": "markdown",
   "metadata": {},
   "source": [
    "Récupérez un texte littéraire sur le site du [Projet Gutenberg](https://www.gutenberg.org/) et retirez tout le paratexte (licence, mentions légales…).\n",
    "\n",
    "Créez un programme qui en récupère le contenu, le découpe en lignes, et écrive le résultat de l’opération dans un autre fichier, de telle manière que chaque ligne soit préfixée du numéro de la ligne courante suivi d’un point-virgule.\n",
    "Exemple :\n",
    "```txt\n",
    "1;CHAPTER 1\n",
    "2;\n",
    "3;THE FEAST\n",
    "4;\n",
    "5;It was at Megara, a suburb of Carthage, in the gardens of Hamilcar.\n",
    "…\n",
    "```"
   ]
  },
  {
   "cell_type": "code",
   "execution_count": null,
   "metadata": {},
   "outputs": [],
   "source": [
    "# File descriptor\n",
    "with open(\"../data/salammbo.txt\") as f:\n",
    "    # Records to put into the flat file\n",
    "    records = \"\"\n",
    "    for idx, line in enumerate(f):\n",
    "        records += f\"{idx + 1};{line}\"\n",
    "\n",
    "# File descriptor to a flat file\n",
    "with open(\"../data/salammbo-stats.csv\", \"w\") as f:\n",
    "    f.write(records)"
   ]
  },
  {
   "cell_type": "markdown",
   "metadata": {},
   "source": [
    "Améliorez votre algorithme de manière à insérer le nombre de mots dans la ligne courante, juste après le numéro de ligne, et en conservant le point-virgule comme caractère séparateur. Exemple :\n",
    "```\n",
    "1;2;CHAPTER 1\n",
    "2;0;\n",
    "3;2;THE FEAST\n",
    "4;0;\n",
    "5;13;It was at Megara, a suburb of Carthage, in the gardens of Hamilcar.\n",
    "…\n",
    "```"
   ]
  },
  {
   "cell_type": "code",
   "execution_count": null,
   "metadata": {},
   "outputs": [],
   "source": [
    "with open(\"../data/salammbo.txt\") as f:\n",
    "    records = \"\"\n",
    "    for idx, line in enumerate(f):\n",
    "        # Nb words in current line\n",
    "        words = len(line.split())\n",
    "        # String formatted\n",
    "        records += f\"{idx + 1};{words};{line}\"\n",
    "\n",
    "with open(\"../data/salammbo-stats.csv\", \"w\") as f:\n",
    "    f.write(records)"
   ]
  }
 ],
 "metadata": {
  "kernelspec": {
   "display_name": "Python 3",
   "language": "python",
   "name": "python3"
  },
  "language_info": {
   "codemirror_mode": {
    "name": "ipython",
    "version": 3
   },
   "file_extension": ".py",
   "mimetype": "text/x-python",
   "name": "python",
   "nbconvert_exporter": "python",
   "pygments_lexer": "ipython3",
   "version": "3.8.0"
  }
 },
 "nbformat": 4,
 "nbformat_minor": 1
}
