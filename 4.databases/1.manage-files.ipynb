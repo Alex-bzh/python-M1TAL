{
 "cells": [
  {
   "cell_type": "markdown",
   "metadata": {
    "slideshow": {
     "slide_type": "slide"
    }
   },
   "source": [
    "# Manipuler des fichiers"
   ]
  },
  {
   "cell_type": "markdown",
   "metadata": {
    "slideshow": {
     "slide_type": "slide"
    }
   },
   "source": [
    "## Ouvrir un fichier"
   ]
  },
  {
   "cell_type": "markdown",
   "metadata": {
    "slideshow": {
     "slide_type": "subslide"
    }
   },
   "source": [
    "Comme pour un livre, un fichier doit s’ouvrir et se fermer. Les deux opérations se réalisent en une seule instruction, grâce au mot-clé `with`, accompagné de la fonction `open()`, qui indique au langage qu’il doit travailler avec un objet, lui laissant le soin de fermer le flux vers le fichier à la fin du bloc d’instructions.\n",
    "\n",
    "La fonction `open()` accepte trois arguments. Le premier est le chemin vers le fichier à ouvrir. S’il se trouve dans le répertoire courant, son nom seul est requis. Le second argument est le mode d’ouverture et le troisième l’encodage.\n",
    "\n",
    "Il existe trois modes d'ouverture de fichier :\n",
    "- **Mode lecture seule :** aucune écriture autorisée dans le fichier ;\n",
    "- **Mode écriture :** écriture à partir du début du fichier, ce qui signifie qu’un fichier du même nom pré-existant sera systématiquement remplacé ;\n",
    "- **Mode ajout :** écriture à la fin du fichier."
   ]
  },
  {
   "cell_type": "code",
   "execution_count": null,
   "metadata": {
    "slideshow": {
     "slide_type": "subslide"
    }
   },
   "outputs": [],
   "source": [
    "with open(\"./data/salammbo.txt\", \"r\") as src:\n",
    "    print(src)"
   ]
  },
  {
   "cell_type": "markdown",
   "metadata": {
    "slideshow": {
     "slide_type": "-"
    }
   },
   "source": [
    "Ici, le mode d’ouverture est *read* `r`. On aurait pu en faire l’économie, car le mode en lecture seule est le mode par défaut. Les autres modes possibles sont `w` pour *write* et `a` pour *append*. Pour l’encodage, il est dépendant de la plateforme et peut trouver sa valeur parmi les [codecs standards](https://docs.python.org/3/library/codecs.html#standard-encodings)."
   ]
  },
  {
   "cell_type": "markdown",
   "metadata": {
    "slideshow": {
     "slide_type": "slide"
    }
   },
   "source": [
    "## Lire un fichier"
   ]
  },
  {
   "cell_type": "markdown",
   "metadata": {},
   "source": [
    "Il existe plusieurs méthodes pour afficher les informations contenues dans un fichier. Avant d’opter pour l’une ou l’autre, il convient de se poser la question de la finalité du programme :\n",
    "- La méthode `.read()` pour afficher les données au format brut, sous forme de chaîne de caractères.\n",
    "- La méthode `.readline()` pour afficher la ligne courante au format brut, augmentée d’un retour à la ligne, sous forme de chaîne de caractères.\n",
    "- La méthode `.readlines()` pour afficher les données au format brut, sous forme de liste."
   ]
  },
  {
   "cell_type": "markdown",
   "metadata": {
    "slideshow": {
     "slide_type": "subslide"
    }
   },
   "source": [
    "### Méthode `.read()`"
   ]
  },
  {
   "cell_type": "markdown",
   "metadata": {},
   "source": [
    "Elle prend un argument numérique facultatif, qui représente le nombre de caractères que vous souhaitez afficher à partir de la position courante du curseur. Par défaut, elle renvoie la totalité des caractères du fichier."
   ]
  },
  {
   "cell_type": "code",
   "execution_count": null,
   "metadata": {
    "slideshow": {
     "slide_type": "-"
    }
   },
   "outputs": [],
   "source": [
    "# 'src' is a file descriptor\n",
    "with open(\"./data/salammbo.txt\", \"r\") as src:\n",
    "\n",
    "    # read the first 31 characters\n",
    "    print(src.read(31))\n",
    "\n",
    "    # read the next 69 characters\n",
    "    print(src.read(69))"
   ]
  },
  {
   "cell_type": "markdown",
   "metadata": {
    "slideshow": {
     "slide_type": "subslide"
    }
   },
   "source": [
    "### Méthode `.readline()`"
   ]
  },
  {
   "cell_type": "markdown",
   "metadata": {},
   "source": [
    "Elle affiche la ligne courante du fichier, dans la limite du nombre de caractères défini en paramètre par un argument numérique. Chaque appel à la méthode génère une nouvelle ligne `\\n`."
   ]
  },
  {
   "cell_type": "code",
   "execution_count": null,
   "metadata": {
    "slideshow": {
     "slide_type": "-"
    }
   },
   "outputs": [],
   "source": [
    "with open(\"./data/salammbo.txt\", \"r\") as src:\n",
    "\n",
    "    # the first and the second lines\n",
    "    print(src.readline())\n",
    "    print(src.readline())\n",
    "\n",
    "    # the first 40 characters of the third line\n",
    "    print(src.readline(40))\n",
    "\n",
    "    # the remaining characters of the third line\n",
    "    print(src.readline())"
   ]
  },
  {
   "cell_type": "markdown",
   "metadata": {
    "slideshow": {
     "slide_type": "subslide"
    }
   },
   "source": [
    "### Méthode `.readlines()`"
   ]
  },
  {
   "cell_type": "markdown",
   "metadata": {},
   "source": [
    "Plutôt que de retourner une chaîne de caractères, cette méthode retourne une liste des lignes du fichier. Elle opère la séparation aussitôt qu’elle rencontre un caractère de nouvelle ligne `\\n`."
   ]
  },
  {
   "cell_type": "code",
   "execution_count": null,
   "metadata": {
    "slideshow": {
     "slide_type": "-"
    }
   },
   "outputs": [],
   "source": [
    "with open(\"./data/salammbo.txt\") as src:\n",
    "    print(src.readlines()[:4])"
   ]
  },
  {
   "cell_type": "markdown",
   "metadata": {
    "slideshow": {
     "slide_type": "subslide"
    }
   },
   "source": [
    "Comme le caractère `\\n` est préservé à la fin de chaque ligne, il faut utiliser la méthode `strip()` pour le retirer :"
   ]
  },
  {
   "cell_type": "code",
   "execution_count": null,
   "metadata": {
    "slideshow": {
     "slide_type": "-"
    }
   },
   "outputs": [],
   "source": [
    "with open(\"./data/salammbo.txt\") as src:\n",
    "    print(src.readlines()[2].strip())"
   ]
  },
  {
   "cell_type": "markdown",
   "metadata": {
    "slideshow": {
     "slide_type": "slide"
    }
   },
   "source": [
    "## Écrire dans un fichier"
   ]
  },
  {
   "cell_type": "markdown",
   "metadata": {},
   "source": [
    "Le pré-requis pour écrire dans un fichier est d’abord de l’ouvrir en mode écriture (`w` ou `a`). S’il n’existe pas déjà de fichier avec le même nom, les deux modes en génèrent un et insèrent le contenu à l’intérieur. Si au contraire un fichier du même nom est trouvé, le mode `w` remplace complètement le contenu quand le mode `a` ajoute le contenu à écrire au contenu existant.\n",
    "\n",
    "La méthode `write` sur le descripteur de fichier se charge d’écrire le contenu, forcément de type `String`.\n",
    "\n",
    "Créer un nouveau fichier :"
   ]
  },
  {
   "cell_type": "code",
   "execution_count": null,
   "metadata": {
    "slideshow": {
     "slide_type": "-"
    }
   },
   "outputs": [],
   "source": [
    "with open(\"./data/the-dark-hole.txt\", \"w\") as file:\n",
    "    file.write(\"The Dark Hole\")"
   ]
  },
  {
   "cell_type": "markdown",
   "metadata": {
    "slideshow": {
     "slide_type": "fragment"
    }
   },
   "source": [
    "Remplacer le contenu du fichier :"
   ]
  },
  {
   "cell_type": "code",
   "execution_count": null,
   "metadata": {
    "slideshow": {
     "slide_type": "-"
    }
   },
   "outputs": [],
   "source": [
    "with open(\"./data/the-dark-hole.txt\", \"w\") as file:\n",
    "    file.write(\"No escape from a Dark Hole\")"
   ]
  },
  {
   "cell_type": "markdown",
   "metadata": {
    "slideshow": {
     "slide_type": "fragment"
    }
   },
   "source": [
    "Ajouter du contenu à un fichier existant :"
   ]
  },
  {
   "cell_type": "code",
   "execution_count": null,
   "metadata": {
    "slideshow": {
     "slide_type": "-"
    }
   },
   "outputs": [],
   "source": [
    "with open(\"./data/the-dark-hole.txt\", \"a\") as file:\n",
    "    file.write(\"\\n\")\n",
    "    file.write(\"The whole universe will perish inside a dark hole.\")"
   ]
  },
  {
   "cell_type": "markdown",
   "metadata": {
    "slideshow": {
     "slide_type": "slide"
    }
   },
   "source": [
    "## Techniques courantes"
   ]
  },
  {
   "cell_type": "markdown",
   "metadata": {
    "slideshow": {
     "slide_type": "-"
    }
   },
   "source": [
    "### L’itérateur de fichier"
   ]
  },
  {
   "cell_type": "markdown",
   "metadata": {},
   "source": [
    "Si l’objectif est d’itérer sur un fichier, il est inutile de récupérer au préalable la liste des lignes avec par exemple la méthode `.readlines()`. L’objet qui pointe vers le fichier dispose en effet de son propre itérateur :"
   ]
  },
  {
   "cell_type": "code",
   "execution_count": null,
   "metadata": {
    "slideshow": {
     "slide_type": "-"
    }
   },
   "outputs": [],
   "source": [
    "with open(\"./data/salammbo.txt\") as src:\n",
    "    for line in src:\n",
    "        print(line)"
   ]
  },
  {
   "cell_type": "markdown",
   "metadata": {
    "slideshow": {
     "slide_type": "subslide"
    }
   },
   "source": [
    "### Lecture séquentielle"
   ]
  },
  {
   "cell_type": "markdown",
   "metadata": {
    "slideshow": {
     "slide_type": "subslide"
    }
   },
   "source": [
    "Avec un fichier aussi léger (en poids) que le *Salammbô* de Flaubert, la lecture en un seul bloc ne présente aucun enjeu. En revanche, si l’on effectue un traitement sur de vastes corpus de données, l’accès aux ressources peut à tout moment souffrir des aléas de l’informatique :\n",
    "- une coupure électrique ;\n",
    "- la diminution des ressources allouées par le système aux scripts trop gourmands ;\n",
    "- un plantage du serveur ;\n",
    "- un arrêt brutal du script par un administrateur ;\n",
    "- …\n",
    "\n",
    "Bref, il peut arriver tellement de choses à tout moment que l’on va préférer lire un fichier de manière séquentielle plutôt que d’un seul tenant. C’est la raison d’être des itérateurs mais, si l’on souhaite plutôt utiliser la méthode `.read()` pour parcourir un fichier, on va décider du nombre de caractères à traiter à la fois :"
   ]
  },
  {
   "cell_type": "code",
   "execution_count": null,
   "metadata": {
    "slideshow": {
     "slide_type": "-"
    }
   },
   "outputs": [],
   "source": [
    "with open(\"./data/salammbo.txt\") as src:\n",
    "\n",
    "    while True:\n",
    "        txt = src.read(50)\n",
    "        if not txt: break\n",
    "        print(txt)"
   ]
  },
  {
   "cell_type": "markdown",
   "metadata": {},
   "source": [
    "Un algorithme qui fonctionne également avec `.readline()` :"
   ]
  },
  {
   "cell_type": "code",
   "execution_count": null,
   "metadata": {},
   "outputs": [],
   "source": [
    "with open(\"./data/salammbo.txt\") as src:\n",
    "    \n",
    "    while True:\n",
    "        line = src.readline().strip()\n",
    "        if not line: break\n",
    "        print(line)"
   ]
  }
 ],
 "metadata": {
  "celltoolbar": "Diaporama",
  "kernelspec": {
   "display_name": "Python 3 (ipykernel)",
   "language": "python",
   "name": "python3"
  },
  "language_info": {
   "codemirror_mode": {
    "name": "ipython",
    "version": 3
   },
   "file_extension": ".py",
   "mimetype": "text/x-python",
   "name": "python",
   "nbconvert_exporter": "python",
   "pygments_lexer": "ipython3",
   "version": "3.10.6"
  }
 },
 "nbformat": 4,
 "nbformat_minor": 4
}
