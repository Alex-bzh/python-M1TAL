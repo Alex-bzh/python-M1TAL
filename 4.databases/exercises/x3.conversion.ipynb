{
 "cells": [
  {
   "cell_type": "markdown",
   "metadata": {},
   "source": [
    "# De TSV en SQL, comme de Charybde en Scylla\n",
    "\n",
    "Convertissez le fichier [*lexemes.tsv*](../data/lexemes.tsv) au format SQLite en scindant les données entre deux tables :\n",
    "- `lexemes`\n",
    "- `origins`\n",
    "\n",
    "Les colonnes suivantes devront être rattachées à la table `origins` :\n",
    "- `ori_lexeme`\n",
    "- `ori_postag`"
   ]
  },
  {
   "cell_type": "markdown",
   "metadata": {},
   "source": [
    "## Table des lexèmes\n",
    "\n",
    "Proposez une structure pour la table des lexèmes, que vous nommerez `lexemes`. La colonne `index` vous permet de pointer grâce aux valeurs `yes`/`no` les champs où placer des index. La valeur de cette colonne restera à `-` pour les champs avec clé primaire ou étrangère.\n",
    "\n",
    "|field|datatype|NULL|default|key|index|\n",
    "|:-|:-:|:-:|:-:|:-:|:-:|\n",
    "|id_lexeme|-|-|-|-|-|\n",
    "|lexeme|-|-|-|-|-|\n",
    "|ori_lexeme|-|-|-|-|-|\n",
    "|postag|-|-|-|-|-|\n",
    "|ori_postag|-|-|-|-|-|"
   ]
  },
  {
   "cell_type": "markdown",
   "metadata": {},
   "source": [
    "## Table des origines\n",
    "\n",
    "Proposez une structure pour la table des origines, que vous nommerez `origins` :\n",
    "\n",
    "|field|datatype|NULL|default|key|index|\n",
    "|:-|:-:|:-:|:-:|:-:|:-:|\n",
    "|id_origin|-|-|-|-|-|\n",
    "|origin|-|-|-|-|-|"
   ]
  },
  {
   "cell_type": "code",
   "execution_count": null,
   "metadata": {},
   "outputs": [],
   "source": [
    "path_to_data = \"../data/lexemes.tsv\""
   ]
  },
  {
   "cell_type": "code",
   "execution_count": null,
   "metadata": {},
   "outputs": [],
   "source": [
    "# Your code here"
   ]
  },
  {
   "cell_type": "markdown",
   "metadata": {},
   "source": [
    "## Questions\n",
    "\n",
    "Afin de vérifier que votre base de données est bien constituée, les questions ci-dessous ne devraient pas renvoyer d’erreur."
   ]
  },
  {
   "cell_type": "code",
   "execution_count": null,
   "metadata": {},
   "outputs": [],
   "source": [
    "import sqlite3\n",
    "connection = sqlite3.connect(\"../data/lexemes.db\")\n",
    "c = connection.cursor()"
   ]
  },
  {
   "cell_type": "markdown",
   "metadata": {},
   "source": [
    "**Q1 :** Nombre d’enregistrements dans la table des lexèmes"
   ]
  },
  {
   "cell_type": "code",
   "execution_count": null,
   "metadata": {},
   "outputs": [],
   "source": [
    "sql = \"SELECT COUNT(id_lexeme) FROM lexemes;\"\n",
    "if c.execute(sql).fetchone()[0] != 1095:\n",
    "    print(\"Résultat attendu : 1095.\")\n",
    "else: print(\"Résultat correct !\")"
   ]
  },
  {
   "cell_type": "markdown",
   "metadata": {},
   "source": [
    "**Q2 :** Quelle est la graphie du lexème n° 73881 ?"
   ]
  },
  {
   "cell_type": "code",
   "execution_count": null,
   "metadata": {},
   "outputs": [],
   "source": [
    "sql = \"SELECT lexeme FROM lexemes WHERE id_lexeme = 73881;\"\n",
    "if c.execute(sql).fetchone()[0] != \"abat-faim\":\n",
    "    print(\"Résultat attendu : abat-faim\")\n",
    "else: print(\"Résultat correct !\")"
   ]
  },
  {
   "cell_type": "markdown",
   "metadata": {},
   "source": [
    "**Q3 :** Combien de lexèmes proviennent de *glawi* ?"
   ]
  },
  {
   "cell_type": "code",
   "execution_count": null,
   "metadata": {},
   "outputs": [],
   "source": [
    "sql = \"SELECT COUNT(id_lexeme) FROM lexemes WHERE ori_lexeme = 6;\"\n",
    "if c.execute(sql).fetchone()[0] != 15:\n",
    "    print(\"Résultat attendu : 15\")\n",
    "else: print(\"Résultat correct !\")"
   ]
  },
  {
   "cell_type": "markdown",
   "metadata": {},
   "source": [
    "**Q4 :** De quelle origine provient l’étiquette grammaticale associée au lexème n° 74671 ?"
   ]
  },
  {
   "cell_type": "code",
   "execution_count": null,
   "metadata": {},
   "outputs": [],
   "source": [
    "sql = \"\"\"SELECT origin\n",
    "FROM origins\n",
    "INNER JOIN lexemes\n",
    "ON origins.id_origin = lexemes.ori_postag\n",
    "WHERE id_lexeme = 74671;\"\"\"\n",
    "if c.execute(sql).fetchone()[0] != 'glaff':\n",
    "    print('Résultat attendu : glaff. ')\n",
    "else: print(\"Résultat correct !\")"
   ]
  },
  {
   "cell_type": "markdown",
   "metadata": {},
   "source": [
    "**Q5 :** D'où provient le lexème *absinthe* en tant que nom féminin ?"
   ]
  },
  {
   "cell_type": "code",
   "execution_count": null,
   "metadata": {},
   "outputs": [],
   "source": [
    "sql = \"\"\"SELECT origin\n",
    "FROM origins\n",
    "INNER JOIN lexemes\n",
    "ON origins.id_origin = lexemes.ori_lexeme\n",
    "WHERE lexeme = 'absinthe'\n",
    "AND postag = 'Nf';\"\"\"\n",
    "if c.execute(sql).fetchone()[0] != 'glaff':\n",
    "    print('Résultat attendu : glaff. ')\n",
    "else: print(\"Résultat correct !\")"
   ]
  },
  {
   "cell_type": "code",
   "execution_count": null,
   "metadata": {},
   "outputs": [],
   "source": [
    "connection.close()"
   ]
  }
 ],
 "metadata": {
  "kernelspec": {
   "display_name": "Python 3",
   "language": "python",
   "name": "python3"
  },
  "language_info": {
   "codemirror_mode": {
    "name": "ipython",
    "version": 3
   },
   "file_extension": ".py",
   "mimetype": "text/x-python",
   "name": "python",
   "nbconvert_exporter": "python",
   "pygments_lexer": "ipython3",
   "version": "3.8.0"
  }
 },
 "nbformat": 4,
 "nbformat_minor": 4
}
