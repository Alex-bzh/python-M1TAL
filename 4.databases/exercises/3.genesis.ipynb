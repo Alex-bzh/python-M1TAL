{
 "cells": [
  {
   "cell_type": "markdown",
   "metadata": {},
   "source": [
    "# La genèse du CSV\n",
    "\n",
    "Vous récupérez un ensemble de résultats sur le score, obtenus grâce à une mesure d’association appelée *Pointwise Mutual Information*, des vingt bigrammes les plus fréquents dans la version française de la *Genèse*.\n",
    "\n",
    "Votre objectif est d’enregistrer ces informations dans un fichier au format CSV."
   ]
  },
  {
   "cell_type": "code",
   "execution_count": null,
   "metadata": {},
   "outputs": [],
   "source": [
    "data = [(('Poti', 'Phéra'), 13.908017261062806),\n",
    " (('cheveux', 'blancs'), 13.908017261062806),\n",
    " (('plusieurs', 'couleurs'), 13.908017261062806),\n",
    " (('Lachaï', 'roï'), 13.492979761783962),\n",
    " (('Très', 'Haut'), 13.49297976178396),\n",
    " (('bonne', 'santé'), 12.908017261062803),\n",
    " (('Des', 'bénédictions'), 12.49297976178396),\n",
    " (('Faites', 'ceci'), 12.270587340447515),\n",
    " (('herbe', 'portant'), 12.270587340447515),\n",
    " (('Soyez', 'féconds'), 12.171051666896599),\n",
    " (('Beer', 'Schéba'), 12.03354814314666),\n",
    " (('chefs', 'issus'), 11.908017261062803),\n",
    " (('êtres', 'vivants'), 11.908017261062803),\n",
    " (('rendrai', 'fécond'), 11.685624839726358),\n",
    " (('seras', 'dégagé'), 11.685624839726358),\n",
    " (('Paddan', 'Aram'), 11.655036519892933),\n",
    " (('enfui', 'dehors'), 11.618510643867822),\n",
    " (('Au', 'bout'), 11.434086072730395),\n",
    " (('êtes', 'sincères'), 11.434086072730395),\n",
    " (('ou', 'non'), 11.296582548980458)]"
   ]
  },
  {
   "cell_type": "code",
   "execution_count": null,
   "metadata": {},
   "outputs": [],
   "source": [
    "# Your code here"
   ]
  }
 ],
 "metadata": {
  "kernelspec": {
   "display_name": "Python 3",
   "language": "python",
   "name": "python3"
  },
  "language_info": {
   "codemirror_mode": {
    "name": "ipython",
    "version": 3
   },
   "file_extension": ".py",
   "mimetype": "text/x-python",
   "name": "python",
   "nbconvert_exporter": "python",
   "pygments_lexer": "ipython3",
   "version": "3.8.0"
  }
 },
 "nbformat": 4,
 "nbformat_minor": 4
}
