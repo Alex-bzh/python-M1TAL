{
 "cells": [
  {
   "cell_type": "markdown",
   "id": "869ed322-c12e-47b1-b0e8-0c60721ec35f",
   "metadata": {},
   "source": [
    "# Embarquement pour l’Amérique à bord du RMS *Titanic*"
   ]
  },
  {
   "cell_type": "markdown",
   "id": "514a9244-338a-48da-9745-651f8070f7bf",
   "metadata": {},
   "source": [
    "Le RMS *Titanic* est un paquebot qui fit naufrage le 15 avril 1912 avec à son bord quelques 2400 passagers dont Rose, Jack et au moins un contrebassiste. *Titanic* est aussi le nom d’un jeu de données qui fait partie des incontournables du *machine learning* et qui nous intéressera pour ce TD."
   ]
  },
  {
   "cell_type": "markdown",
   "id": "d030ff3d-4825-4056-bf3a-7dfed86c3564",
   "metadata": {},
   "source": [
    "## Contenu"
   ]
  },
  {
   "cell_type": "markdown",
   "id": "afa7326c-2da2-4e12-9248-60ada1529611",
   "metadata": {},
   "source": [
    "Le fichier [*titanic.csv*](./files/titanic.csv) contient 891 observations décrites par 12 variables :\n",
    "\n",
    "|Variable|Définition|\n",
    "|:-:|-|\n",
    "|*PassengerId*|Identifiant numérique du passager.|\n",
    "|*Survived*|Facteur à deux niveaux : 0 pour indiquer que le passager n’a pas survécu ; 1 sinon.|\n",
    "|*Pclass*|Facteur à trois niveaux pour caractériser la classe de transport : 1e, 2e ou 3e classe|\n",
    "|*Name*|Nom du passager ou de la passagère.|\n",
    "|*Sex*|Facteur à deux niveaux pour le sexe du passager ou de la passagère : *male* ou *female*.|\n",
    "|*Age*|Âge, en nombre d’années. En dessous de 1 an, l’âge est exprimé en fraction décimale.|\n",
    "|*SibSp*|Nombre de frères et sœurs (ou beaux-frères, belles-sœurs) et de maris ou femmes embarqué·es aussi sur le *Titanic*.|\n",
    "|*Parch*|Nombre de parents et d’enfants embarqués sur le *Titanic*.|\n",
    "|*Ticket*|Numéro de billet.|\n",
    "|*Fare*|Tarif passager.|\n",
    "|*Cabin*|Numéro de cabine.|\n",
    "|*Embarked*|Facteur à trois niveaux pour coder le port d’embarquement : *C* = Cherbourg, *Q* = Queenstown, *S* = Southampton|"
   ]
  },
  {
   "cell_type": "markdown",
   "id": "518e8f19-9bce-4b2f-8099-c98a9d324f44",
   "metadata": {},
   "source": [
    "## Importation du jeu de données"
   ]
  },
  {
   "cell_type": "markdown",
   "id": "559dd9bf-132c-4590-9a5d-f2c65585180d",
   "metadata": {},
   "source": [
    "Avant tout, commencez par importer la librairie *Pandas* :"
   ]
  },
  {
   "cell_type": "code",
   "execution_count": null,
   "id": "f14db5b8-2fef-49d5-8cd6-0bd519e7b1f1",
   "metadata": {},
   "outputs": [],
   "source": [
    "# your code here"
   ]
  },
  {
   "cell_type": "markdown",
   "id": "49fa03f1-5208-49fc-9173-cce27db05eb0",
   "metadata": {},
   "source": [
    "À présent, grâce à la méthode `.read_csv()`, importez dans une variable `df` le fichier *titanic.csv* qui se trouve dans le sous-répertoire *data*, puis vérifiez avec `.head()` que l’opération s’est bien passée.\n",
    "\n",
    "**Pour aller plus loin :** essayez d’identifier les variables catégorielles afin de typer correctement les données dès leur importation."
   ]
  },
  {
   "cell_type": "code",
   "execution_count": null,
   "id": "3f82d6b7-48c2-45a0-a5dc-ded217913f43",
   "metadata": {},
   "outputs": [],
   "source": [
    "# your code here"
   ]
  },
  {
   "cell_type": "markdown",
   "id": "021cdaa1-db4c-4508-bfde-ca184aaf250c",
   "metadata": {},
   "source": [
    "Pour les besoins du TD, nous allons établir une liste des variables qui nous intéresseraient dans le cadre d’une tâche banale de classification en apprentissage supervisé. Il est d’usage de bien identifier les variables explicatives et la variable cible et de travailler sur une copie du fichier original qui restera toujours accessible dans `df` :"
   ]
  },
  {
   "cell_type": "code",
   "execution_count": null,
   "id": "900e9fc6-fa8c-421b-b1e8-b4960e87eac3",
   "metadata": {},
   "outputs": [],
   "source": [
    "target = \"Survived\"\n",
    "features = [\"Pclass\", \"Sex\", \"Age\", \"Fare\", \"Embarked\"]\n",
    "\n",
    "# a new data frame\n",
    "data = pd.DataFrame( df[features + [target]] )\n",
    "data.head()"
   ]
  },
  {
   "cell_type": "markdown",
   "id": "2a19e0f0-d614-47a1-9cdc-198d28bcbf22",
   "metadata": {},
   "source": [
    "## Exploration des données"
   ]
  },
  {
   "cell_type": "markdown",
   "id": "29153936-7955-4c4b-9d99-2fc6d4456c0a",
   "metadata": {},
   "source": [
    "Avant de se lancer dans le moindre traitement, il est primordial de prendre du temps pour bien comprendre la structure des données. Et quel meilleur moyen sinon en calculant certaines mesures statistiques ou en les visualisant à l'aide de graphiques ?\n",
    "\n",
    "Les manipulations ci-dessous ne sont pas exhaustives de ce que l’on souhaiterait en situation réelle, aussi n’hésitez pas à tester vos idées !"
   ]
  },
  {
   "cell_type": "markdown",
   "id": "8a67b737-94b0-4251-9e9b-f68cdda523b4",
   "metadata": {},
   "source": [
    "### Visualisation"
   ]
  },
  {
   "cell_type": "markdown",
   "id": "fe9a989e-9cb1-4f25-852c-952c1170b1ab",
   "metadata": {},
   "source": [
    "Intéressons-nous en premier lieu à la variable `age` en regardant la répartition des effectifs en fonction de la modalité *Survived* :"
   ]
  },
  {
   "cell_type": "code",
   "execution_count": null,
   "id": "b520fac1-c4a3-423b-ba49-ff759e73a1fe",
   "metadata": {},
   "outputs": [],
   "source": [
    "_ = data.hist(column=\"Age\", by=\"Survived\")"
   ]
  },
  {
   "cell_type": "markdown",
   "id": "596ae6ee-609c-4a39-be5f-5a7ae5fafad9",
   "metadata": {},
   "source": [
    "Répétez l’opération pour connaître la répartition des hommes et des femmes pour chacune des mêmes modalités :"
   ]
  },
  {
   "cell_type": "code",
   "execution_count": null,
   "id": "736a9da6-76ab-4fd1-800e-da773fd6b91f",
   "metadata": {},
   "outputs": [],
   "source": [
    "# your code here"
   ]
  },
  {
   "cell_type": "markdown",
   "id": "98912046-cb4e-497f-b83a-1d10d172e2f6",
   "metadata": {},
   "source": [
    "Un peu plus complexe, nous souhaitons obtenir le décompte des passager·ères qui ont survécu ou péri en fonction de leur port d’embarquement, afin de révéler peut-être une préférence nationale (les Irlandais en faveur des Irlandais etc…). Vous aurez besoin de dresser tout d’abord un tableau de contingence en comptabilisant les survivant·es et les péri·es en mer et en les différenciant selon la variable *Embarked* :"
   ]
  },
  {
   "cell_type": "code",
   "execution_count": null,
   "id": "5dfc1d28-ba93-4f6a-ae45-420b2e6a01ad",
   "metadata": {},
   "outputs": [],
   "source": [
    "# your code here"
   ]
  },
  {
   "cell_type": "markdown",
   "id": "e1b61abc-dd54-4ef3-9fe4-197c53d7d074",
   "metadata": {},
   "source": [
    "### Mesures statistiques"
   ]
  },
  {
   "cell_type": "markdown",
   "id": "89d923f3-6b28-48df-ae1a-dd577f322e4d",
   "metadata": {},
   "source": [
    "La manière la plus rapide d’obtenir un aperçu des données est d’utiliser les méthodes `.describe()` et `.info()` :"
   ]
  },
  {
   "cell_type": "code",
   "execution_count": null,
   "id": "84f14d5d-3c39-4100-8874-3971468833ef",
   "metadata": {},
   "outputs": [],
   "source": [
    "data.describe()"
   ]
  },
  {
   "cell_type": "code",
   "execution_count": null,
   "id": "47a98948-8777-4d3e-b292-6fef314532fc",
   "metadata": {},
   "outputs": [],
   "source": [
    "data.info()"
   ]
  },
  {
   "cell_type": "markdown",
   "id": "38a29a85-bf0c-4891-83a8-9324225d6a5f",
   "metadata": {},
   "source": [
    "À l’aide de la méthode `.groupby()` sur le *data frame* `data`, affichez le prix moyen du billet en fonction du port d’embarquement et du sexe des passager·ères.\n",
    "\n",
    "**Astuce :** le paramètre à transmettre s’appelle `by` et il accepte tout aussi bien une liste qu’une chaîne de caractères."
   ]
  },
  {
   "cell_type": "code",
   "execution_count": null,
   "id": "f6bce783-7763-4e00-bf81-b09976f9085a",
   "metadata": {},
   "outputs": [],
   "source": [
    "# your code here"
   ]
  },
  {
   "cell_type": "markdown",
   "id": "849df1f7-ac92-4e41-80b4-0f41e32c975f",
   "metadata": {},
   "source": [
    "## Préparation des données"
   ]
  },
  {
   "cell_type": "markdown",
   "id": "75043069-d32a-4f32-ba55-b032150260c1",
   "metadata": {},
   "source": [
    "Vous l’avez remarqué, l’étape de familiarisation avec le jeu de données est chronophage. Maintenant, nous allons nous atteler à la préapration du *dataset* en vue de son analyse future."
   ]
  },
  {
   "cell_type": "markdown",
   "id": "b6d6d692-9f62-400d-916b-f2acc4467671",
   "metadata": {},
   "source": [
    "### La chasse aux données manquantes"
   ]
  },
  {
   "cell_type": "markdown",
   "id": "ffd012f7-d5aa-4bd8-ac37-b9c5f31537de",
   "metadata": {},
   "source": [
    "Le résultat de l’instruction `data.info()` nous apprend que deux variables contiennent des données manquantes : *Age* et *Embarked*. Faites la somme pour chacune :"
   ]
  },
  {
   "cell_type": "code",
   "execution_count": null,
   "id": "6208ba75-e2ad-45bc-89d5-51c1291578eb",
   "metadata": {},
   "outputs": [],
   "source": [
    "# your code here"
   ]
  },
  {
   "cell_type": "markdown",
   "id": "d8ea47e4-ab3e-4de0-a52e-3742d8bb9fe1",
   "metadata": {},
   "source": [
    "Comme elles sont peu nombreuses, occupez-vous d’abord des données manquantes de la variable *Embarked*. Plutôt que de supprimer les observations concernées, attribuez-leur une valeur de votre convenance pour préciser explicitement que le port d’embarquement est inconnu.\n",
    "\n",
    "**Remarque :** si vous avez transformé la variable *Embarked* en variable catégorielle, vous devrez au préalable rajouter une modalité avec `.cat.add_categories()`."
   ]
  },
  {
   "cell_type": "code",
   "execution_count": null,
   "id": "3abfa2a7-0160-476f-8857-49d6fc5dda7a",
   "metadata": {},
   "outputs": [],
   "source": [
    "# your code here"
   ]
  },
  {
   "cell_type": "markdown",
   "id": "1d8b8e01-3598-43ec-9135-792678a49502",
   "metadata": {},
   "source": [
    "Pour la variable *Age*, choisissez la stratégie qui vous convient. Vous pourriez par exemple remplacer les valeurs manquantes par la moyenne des âges des passager·ères :"
   ]
  },
  {
   "cell_type": "code",
   "execution_count": null,
   "id": "34778cd4-6f59-4523-b7ee-41e6c17b11d3",
   "metadata": {},
   "outputs": [],
   "source": [
    "# your code here"
   ]
  },
  {
   "cell_type": "markdown",
   "id": "18f81c62-c1c5-4778-956f-c283dac74eca",
   "metadata": {},
   "source": [
    "### Le recodage de variables"
   ]
  },
  {
   "cell_type": "markdown",
   "id": "7ae68d85-bf17-43e0-8aa3-ecd0411874de",
   "metadata": {},
   "source": [
    "Recodez la variable *Sex* selon la convention suivante :\n",
    "- *male* = 0 ;\n",
    "- *female* = 1."
   ]
  },
  {
   "cell_type": "code",
   "execution_count": null,
   "id": "443af989-e856-4c01-915d-a1751cf8cab0",
   "metadata": {},
   "outputs": [],
   "source": [
    "# your code here"
   ]
  },
  {
   "cell_type": "markdown",
   "id": "ecf043b1-2551-4635-98d1-eab4572af03b",
   "metadata": {},
   "source": [
    "Une opération courante consiste à recoder la variable qui recueille l’âge des individus en variable catégorielle. Sachant que l’espérance de vie à la naissance en 1900 était d’à peu près 50 ans, constituez une nouvelle variable *age_cat* composée des modalités suivantes :\n",
    "- Moins de 12 ans ;\n",
    "- de 13 à 20 ans ;\n",
    "- de 21 à 50 ans ;\n",
    "- \\+ 50 ans."
   ]
  },
  {
   "cell_type": "code",
   "execution_count": null,
   "id": "39959a0a-c566-4c9a-b231-d984549c3989",
   "metadata": {},
   "outputs": [],
   "source": [
    "# your code here"
   ]
  },
  {
   "cell_type": "markdown",
   "id": "5de716e3-dd74-4e2a-9a39-7a5ee6bfdf24",
   "metadata": {},
   "source": [
    "Une fois l’opération réalisée, il peut être intéressant de regarder la répartition des effectifs :"
   ]
  },
  {
   "cell_type": "code",
   "execution_count": null,
   "id": "c220e114-38bb-4168-bcf5-9f3b81189fd5",
   "metadata": {},
   "outputs": [],
   "source": [
    "_ = data.age_cat.value_counts(sort=False).plot.bar()"
   ]
  },
  {
   "cell_type": "markdown",
   "id": "59b48e3a-6dcc-4fc1-af23-680e326be7b5",
   "metadata": {},
   "source": [
    "## Les femmes et les enfants d’abord !"
   ]
  },
  {
   "cell_type": "markdown",
   "id": "03f4a186-0d0d-434f-af47-0bc7587fbdf2",
   "metadata": {},
   "source": [
    "Les données étant prêtes, nous pouvons nous lancer dans quelques analyses du jeu de données. Notre objectif est de déterminer si le proverbe &laquo; Les femmes et les enfants d’abord &raquo; se vérifie dans le cas du naufrage du *Titanic*.\n",
    "\n",
    "Commençons par jeter à nouveau un œil aux données :"
   ]
  },
  {
   "cell_type": "code",
   "execution_count": null,
   "id": "f27ae619-f795-4914-8c55-23555498b238",
   "metadata": {},
   "outputs": [],
   "source": [
    "data.head()"
   ]
  },
  {
   "cell_type": "markdown",
   "id": "1169e27a-7cf7-41d8-abfa-45460a05d8a2",
   "metadata": {},
   "source": [
    "Les deux variables qui nous intéressent sont les colonnes *Sex* et *Survived*. Calculons tout d’abord, tous sexes confondus, le nombre de personnes qui ont survécu ou qui ont péri, puis établissons le taux de survie général :"
   ]
  },
  {
   "cell_type": "code",
   "execution_count": null,
   "id": "79f0d3fa-c8a2-4e5a-963d-687a832583af",
   "metadata": {},
   "outputs": [],
   "source": [
    "# your code here"
   ]
  },
  {
   "cell_type": "markdown",
   "id": "f9d01590-cfe5-4169-a020-61574da754b4",
   "metadata": {},
   "source": [
    "Déterminons à présent le taux de survie chez les hommes et chez les femmes :"
   ]
  },
  {
   "cell_type": "code",
   "execution_count": null,
   "id": "d9615540-49a6-4fce-b87c-5010c2fc16b8",
   "metadata": {},
   "outputs": [],
   "source": [
    "# your code here"
   ]
  },
  {
   "cell_type": "markdown",
   "id": "062c9630-ded3-4290-acc7-7ca0e26e2cba",
   "metadata": {},
   "source": [
    "Remarquons qu’un tableau de contingence aurait pu nous fournir les mêmes décomptes :"
   ]
  },
  {
   "cell_type": "code",
   "execution_count": null,
   "id": "c49f5021-085c-4517-921f-f87df10dd4a8",
   "metadata": {},
   "outputs": [],
   "source": [
    "# persons who have survived, by sex\n",
    "cross_tab = pd.crosstab(index=data.Sex, columns=data.Survived)\n",
    "\n",
    "nb_alive_women, nb_alive_men = cross_tab[\"1\"]\n",
    "\n",
    "print(f\"Nombre d’hommes ayant survécu : {nb_alive_men} sur {nb_men} soit {nb_alive_men / nb_men:.2f}\",\n",
    "      f\"Nombre de femmes ayant survécu : {nb_alive_women} sur {nb_women} soit {nb_alive_women / nb_women:.2f}\",\n",
    "      sep=\"\\n\"\n",
    "     )"
   ]
  },
  {
   "cell_type": "markdown",
   "id": "9e3e68df-278f-454b-9632-7cc31fa53800",
   "metadata": {},
   "source": [
    "Aucun doute possible, mieux valait être une femme à bord du *Titanic* ce jour-là. Et quid des enfants ? Répétons les opérations en nous basant sur la modalité *-13 ans* de la variable *age_cat* :"
   ]
  },
  {
   "cell_type": "code",
   "execution_count": null,
   "id": "bc3aff33-99d8-43a1-ab1d-a4476868d1b8",
   "metadata": {},
   "outputs": [],
   "source": [
    "# your code here"
   ]
  },
  {
   "cell_type": "markdown",
   "id": "c80727de-3831-4b8e-8b6a-6f3600768d98",
   "metadata": {},
   "source": [
    "## Les riches d’abord ?"
   ]
  },
  {
   "cell_type": "markdown",
   "id": "86d5eb39-3cbb-49c6-bfb7-53e03dc6e8db",
   "metadata": {},
   "source": [
    "Soyons un peu plus taquins et regardons les chances de survie chez les plus riches. La variable *Pclass* recueille la classe de transport de chaque passager·ère. En s’appuyant dessus, estimons le taux de survie selon chaque classe :"
   ]
  },
  {
   "cell_type": "code",
   "execution_count": null,
   "id": "6cf447aa-dc81-4bda-8d55-88fec7d43d64",
   "metadata": {},
   "outputs": [],
   "source": [
    "# your code here"
   ]
  }
 ],
 "metadata": {
  "kernelspec": {
   "display_name": "Python 3 (ipykernel)",
   "language": "python",
   "name": "python3"
  },
  "language_info": {
   "codemirror_mode": {
    "name": "ipython",
    "version": 3
   },
   "file_extension": ".py",
   "mimetype": "text/x-python",
   "name": "python",
   "nbconvert_exporter": "python",
   "pygments_lexer": "ipython3",
   "version": "3.10.6"
  }
 },
 "nbformat": 4,
 "nbformat_minor": 5
}
