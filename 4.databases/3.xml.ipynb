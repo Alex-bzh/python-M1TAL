{
 "cells": [
  {
   "cell_type": "markdown",
   "metadata": {
    "slideshow": {
     "slide_type": "slide"
    }
   },
   "source": [
    "# Analyser un document XML"
   ]
  },
  {
   "cell_type": "markdown",
   "metadata": {
    "slideshow": {
     "slide_type": "slide"
    }
   },
   "source": [
    "## Structurer des données"
   ]
  },
  {
   "cell_type": "markdown",
   "metadata": {
    "slideshow": {
     "slide_type": "subslide"
    }
   },
   "source": [
    "Le langage XML, grâce à sa forte rigidité, permet d’organiser des informations à la manière d’une base de données relationnelle.\n",
    "\n",
    "Si dans le cas des formats CSV et dérivés la structuration est assurée par une combinaison de retours à la ligne et de séparateurs de champs (une ligne par enregistrement, un champ par item), elle repose pour XML sur l’utilisation de balises qui décrivent les données.\n",
    "\n",
    "Extrait du fichier *constellations.xml* utilisé comme exemple pour les manipulations :\n",
    "```xml\n",
    "<constellation origin=\"Lacaille\">\n",
    "    <name fr=\"La Carène\">Carina</name>\n",
    "    <areas>\n",
    "        <area unit=\"deg2\">494.184</area>\n",
    "        <area unit=\"percent\">1.20</area>\n",
    "    </areas>\n",
    "</constellation>\n",
    "```"
   ]
  },
  {
   "cell_type": "markdown",
   "metadata": {
    "slideshow": {
     "slide_type": "slide"
    }
   },
   "source": [
    "## Le module `xml.etree.ElementTree`"
   ]
  },
  {
   "cell_type": "markdown",
   "metadata": {},
   "source": [
    "### Charger un fichier"
   ]
  },
  {
   "cell_type": "markdown",
   "metadata": {},
   "source": [
    "Ce module permet de charger en mémoire un fichier au format XML :"
   ]
  },
  {
   "cell_type": "code",
   "execution_count": null,
   "metadata": {
    "slideshow": {
     "slide_type": "-"
    }
   },
   "outputs": [],
   "source": [
    "import xml.etree.ElementTree as ET\n",
    "tree = ET.parse('./data/constellations.xml')\n",
    "root = tree.getroot()"
   ]
  },
  {
   "cell_type": "markdown",
   "metadata": {
    "slideshow": {
     "slide_type": "subslide"
    }
   },
   "source": [
    "### Les objets de type `Element`"
   ]
  },
  {
   "cell_type": "markdown",
   "metadata": {},
   "source": [
    "L’objet `root` est de type `Element`. Il dispose de propriétés `tag` et `attrib` qui donnent accès aux nom de la balise ainsi qu’à un dictionnaire de ses attributs :"
   ]
  },
  {
   "cell_type": "code",
   "execution_count": null,
   "metadata": {
    "slideshow": {
     "slide_type": "-"
    }
   },
   "outputs": [],
   "source": [
    "print(type(root), root.tag, root.attrib)"
   ]
  },
  {
   "cell_type": "markdown",
   "metadata": {
    "slideshow": {
     "slide_type": "subslide"
    }
   },
   "source": [
    " Un itérateur permet d’accéder aux enfants d’un objet de classe `Element` :"
   ]
  },
  {
   "cell_type": "code",
   "execution_count": null,
   "metadata": {
    "slideshow": {
     "slide_type": "-"
    }
   },
   "outputs": [],
   "source": [
    "for child in root:\n",
    "    print(child.tag, child.attrib)"
   ]
  },
  {
   "cell_type": "markdown",
   "metadata": {
    "slideshow": {
     "slide_type": "slide"
    }
   },
   "source": [
    "## Parcourir une arborescence"
   ]
  },
  {
   "cell_type": "markdown",
   "metadata": {},
   "source": [
    "Un fichier XML est composé de balises imbriquées les unes dans les autres. Cette structure forme une *arborescence*. À partir du moment où l’on cible un élément particulier, il devient possible de parcourir toute son arborescence récursivement."
   ]
  },
  {
   "cell_type": "markdown",
   "metadata": {
    "slideshow": {
     "slide_type": "subslide"
    }
   },
   "source": [
    "### Accéder à un élément particulier"
   ]
  },
  {
   "cell_type": "markdown",
   "metadata": {},
   "source": [
    "L’accès atomique à un élément est possible, quoique malaisé :"
   ]
  },
  {
   "cell_type": "code",
   "execution_count": null,
   "metadata": {
    "slideshow": {
     "slide_type": "-"
    }
   },
   "outputs": [],
   "source": [
    "print(root[2].tag, root[2].attrib)"
   ]
  },
  {
   "cell_type": "markdown",
   "metadata": {
    "slideshow": {
     "slide_type": "fragment"
    }
   },
   "source": [
    "La méthode `.find()` renvoie le premier enfant trouvé d’un élément particulier :"
   ]
  },
  {
   "cell_type": "code",
   "execution_count": null,
   "metadata": {},
   "outputs": [],
   "source": [
    "print(root.find('constellation').tag, root.find('constellation').attrib)"
   ]
  },
  {
   "cell_type": "markdown",
   "metadata": {
    "slideshow": {
     "slide_type": "subslide"
    }
   },
   "source": [
    "### Accéder au contenu"
   ]
  },
  {
   "cell_type": "markdown",
   "metadata": {},
   "source": [
    "Le contenu textuel d’un objet de type `Element` est accessible depuis une propriété `text` :"
   ]
  },
  {
   "cell_type": "code",
   "execution_count": null,
   "metadata": {
    "slideshow": {
     "slide_type": "-"
    }
   },
   "outputs": [],
   "source": [
    "root.find('constellation').find('name').text"
   ]
  },
  {
   "cell_type": "markdown",
   "metadata": {
    "slideshow": {
     "slide_type": "fragment"
    }
   },
   "source": [
    "Le contenu d’un attribut peut quant à lui être renvoyé par la méthode `.get()` :"
   ]
  },
  {
   "cell_type": "code",
   "execution_count": null,
   "metadata": {
    "slideshow": {
     "slide_type": "-"
    }
   },
   "outputs": [],
   "source": [
    "root.find('constellation').get('origin')"
   ]
  },
  {
   "cell_type": "markdown",
   "metadata": {
    "slideshow": {
     "slide_type": "subslide"
    }
   },
   "source": [
    "Ces méthodes sont évidemment plus utiles si elles sont mobilisées par un itérateur :"
   ]
  },
  {
   "cell_type": "code",
   "execution_count": null,
   "metadata": {
    "slideshow": {
     "slide_type": "-"
    }
   },
   "outputs": [],
   "source": [
    "for c in root.iter('constellation'):\n",
    "    name = c.find('name')\n",
    "    print(f\"{name.text} ({name.get('fr')})\")"
   ]
  },
  {
   "cell_type": "markdown",
   "metadata": {
    "slideshow": {
     "slide_type": "subslide"
    }
   },
   "source": [
    "### Déplier une arborescence"
   ]
  },
  {
   "cell_type": "markdown",
   "metadata": {},
   "source": [
    "Quand l’itérateur d’un objet `Element` donne accès à ses enfants directs, la méthode `.iter()` renvoie, elle, toute l’arborescence :"
   ]
  },
  {
   "cell_type": "code",
   "execution_count": null,
   "metadata": {
    "slideshow": {
     "slide_type": "-"
    }
   },
   "outputs": [],
   "source": [
    "for c in root.iter():\n",
    "    print(c.tag, c.attrib)"
   ]
  },
  {
   "cell_type": "markdown",
   "metadata": {
    "slideshow": {
     "slide_type": "subslide"
    }
   },
   "source": [
    "C’est souvent plus intéressant d’envoyer le nom d’un élément à la méthode `.iter()` :"
   ]
  },
  {
   "cell_type": "code",
   "execution_count": null,
   "metadata": {
    "slideshow": {
     "slide_type": "-"
    }
   },
   "outputs": [],
   "source": [
    "for name in root.iter('name'):\n",
    "    print(name.text)"
   ]
  },
  {
   "cell_type": "markdown",
   "metadata": {
    "slideshow": {
     "slide_type": "subslide"
    }
   },
   "source": [
    "La méthode `.findall()` limite les réponses aux enfants directs de l’élément courant :"
   ]
  },
  {
   "cell_type": "code",
   "execution_count": null,
   "metadata": {
    "slideshow": {
     "slide_type": "-"
    }
   },
   "outputs": [],
   "source": [
    "for c in root.findall('constellation'):\n",
    "    name = c.find('name').text\n",
    "    origin = c.get('origin')\n",
    "    print(name, origin)"
   ]
  },
  {
   "cell_type": "markdown",
   "metadata": {
    "slideshow": {
     "slide_type": "slide"
    }
   },
   "source": [
    "## Stratégies de recherche d’informations"
   ]
  },
  {
   "cell_type": "markdown",
   "metadata": {},
   "source": [
    "Afin d’illustrer les différentes stratégies possibles pour obtenir une information, nous prendrons pour exemple la taille observable de la constellation du Triangle en degrés carrés."
   ]
  },
  {
   "cell_type": "markdown",
   "metadata": {},
   "source": [
    "### Effectuer des comparaisons"
   ]
  },
  {
   "cell_type": "markdown",
   "metadata": {},
   "source": [
    "La première stratégie est de profiter des structures conditionnelles pour interroger un élément particulier :"
   ]
  },
  {
   "cell_type": "code",
   "execution_count": null,
   "metadata": {
    "slideshow": {
     "slide_type": "-"
    }
   },
   "outputs": [],
   "source": [
    "# for each constellation\n",
    "for c in root.findall('constellation'):\n",
    "\n",
    "    # get the name\n",
    "    name = c.find('name')\n",
    "\n",
    "    # is it 'Triangulum'?\n",
    "    if name.text == 'Triangulum':\n",
    "        # get the areas\n",
    "        areas = c.find('areas')\n",
    "\n",
    "        # print when area expressed in square degrees is found\n",
    "        for area in areas:\n",
    "            if area.get('unit') == 'deg2':\n",
    "                print(f\"{name.text} : {area.text} deg2\")"
   ]
  },
  {
   "cell_type": "markdown",
   "metadata": {
    "slideshow": {
     "slide_type": "subslide"
    }
   },
   "source": [
    "### Créer un dictionnaire"
   ]
  },
  {
   "cell_type": "markdown",
   "metadata": {},
   "source": [
    "Comme la lecture d’un fichier XML est séquentielle, aucun index performant n’est créé lors du chargement en mémoire de ses données. Une phase préliminaire de sélection des données essentielles dans une structure Python plus facilement manipulable peut se révéler judicieuse."
   ]
  },
  {
   "cell_type": "code",
   "execution_count": null,
   "metadata": {
    "slideshow": {
     "slide_type": "-"
    }
   },
   "outputs": [],
   "source": [
    "constellations = dict()\n",
    "\n",
    "for c in root.findall('constellation'):\n",
    "    name = c.find('name').text\n",
    "    areas = c.find('areas')\n",
    "    for area in areas:\n",
    "        if area.get('unit') == 'deg2':\n",
    "            deg2 = area.text\n",
    "    constellations[name] = deg2\n",
    "\n",
    "print(constellations['Triangulum'])"
   ]
  },
  {
   "cell_type": "markdown",
   "metadata": {
    "slideshow": {
     "slide_type": "subslide"
    }
   },
   "source": [
    "### Expressions XPath"
   ]
  },
  {
   "cell_type": "markdown",
   "metadata": {},
   "source": [
    "Une autre stratégie consiste à tirer profit du support des expressions XPath :"
   ]
  },
  {
   "cell_type": "code",
   "execution_count": null,
   "metadata": {
    "slideshow": {
     "slide_type": "-"
    }
   },
   "outputs": [],
   "source": [
    "triangulum = root.find(\".//constellation[name='Triangulum']\")\n",
    "triangulum_area = triangulum.find(\".//area[@unit='deg2']\")\n",
    "triangulum_area.text"
   ]
  },
  {
   "cell_type": "markdown",
   "metadata": {
    "slideshow": {
     "slide_type": "fragment"
    }
   },
   "source": [
    "Tous les opérateurs XPath ne sont pas pris en charge. Consultez [la documentation](https://docs.python.org/3/library/xml.etree.elementtree.html#xpath-support) pour une référence complète."
   ]
  },
  {
   "cell_type": "markdown",
   "metadata": {
    "slideshow": {
     "slide_type": "slide"
    }
   },
   "source": [
    "## Modifier un fichier XML"
   ]
  },
  {
   "cell_type": "markdown",
   "metadata": {},
   "source": [
    "L’écriture de fichiers XML s’effectue élément par élément grâce aux classes `Element` et `SubElement` :"
   ]
  },
  {
   "cell_type": "code",
   "execution_count": null,
   "metadata": {
    "slideshow": {
     "slide_type": "-"
    }
   },
   "outputs": [],
   "source": [
    "import xml.etree.ElementTree as ET\n",
    "\n",
    "sentence = ['Le', 'petit', 'chat', 'est', 'mort', '.']\n",
    "sent = ET.Element('sent')\n",
    "\n",
    "for word in sentence:\n",
    "    w = ET.SubElement(sent, 'w')\n",
    "    w.text = word"
   ]
  },
  {
   "cell_type": "markdown",
   "metadata": {
    "slideshow": {
     "slide_type": "fragment"
    }
   },
   "source": [
    "Pour afficher la sortie, utiliser la méthode `.dump()` :"
   ]
  },
  {
   "cell_type": "code",
   "execution_count": null,
   "metadata": {
    "slideshow": {
     "slide_type": "-"
    }
   },
   "outputs": [],
   "source": [
    "ET.dump(sent)"
   ]
  },
  {
   "cell_type": "markdown",
   "metadata": {
    "slideshow": {
     "slide_type": "subslide"
    }
   },
   "source": [
    "La méthode `.set()` permet d’enregistrer un attribut :"
   ]
  },
  {
   "cell_type": "code",
   "execution_count": null,
   "metadata": {
    "slideshow": {
     "slide_type": "-"
    }
   },
   "outputs": [],
   "source": [
    "import xml.etree.ElementTree as ET\n",
    "\n",
    "sentence = {\n",
    "    'Le': 'DET', 'petit': 'ADJ', 'chat': 'NC',\n",
    "    'est': 'V', 'mort': 'ADJ', '.': 'PONCT'\n",
    "}\n",
    "\n",
    "sent = ET.Element('sent')\n",
    "\n",
    "for word, pos in sentence.items():\n",
    "    w = ET.SubElement(sent, 'w')\n",
    "    w.text = word\n",
    "    w.set('pos', pos)"
   ]
  },
  {
   "cell_type": "markdown",
   "metadata": {
    "slideshow": {
     "slide_type": "subslide"
    }
   },
   "source": [
    "La méthode `.write()`, enfin, permet d’écrire le fichier XML à proprement parler :"
   ]
  },
  {
   "cell_type": "code",
   "execution_count": null,
   "metadata": {
    "slideshow": {
     "slide_type": "-"
    }
   },
   "outputs": [],
   "source": [
    "tree = ET.ElementTree(sent)\n",
    "tree.write('./data/the-little-cat.xml')"
   ]
  }
 ],
 "metadata": {
  "celltoolbar": "Diaporama",
  "kernelspec": {
   "display_name": "Python 3 (ipykernel)",
   "language": "python",
   "name": "python3"
  },
  "language_info": {
   "codemirror_mode": {
    "name": "ipython",
    "version": 3
   },
   "file_extension": ".py",
   "mimetype": "text/x-python",
   "name": "python",
   "nbconvert_exporter": "python",
   "pygments_lexer": "ipython3",
   "version": "3.10.6"
  }
 },
 "nbformat": 4,
 "nbformat_minor": 4
}
