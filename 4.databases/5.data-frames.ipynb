{
 "cells": [
  {
   "cell_type": "markdown",
   "metadata": {
    "tags": []
   },
   "source": [
    "# Découverte des *data frames*"
   ]
  },
  {
   "cell_type": "markdown",
   "metadata": {},
   "source": [
    "Un *data frame* est une structure de données qui peut se concevoir comme une matrice où les colonnes peuvent être de types différents, comme dans ce tableau à deux dimensions :\n",
    "\n",
    "|gender|height|\n",
    "|:-:|:-:|\n",
    "|F|173|\n",
    "|F|159|\n",
    "|M|181|\n",
    "\n",
    "Chaque ligne est une *observation* quand les colonnes, autrement appelées *séries* sont les variables qui les décrivent."
   ]
  },
  {
   "cell_type": "markdown",
   "metadata": {
    "tags": []
   },
   "source": [
    "## Aperçu avec la librairie *Pandas*\n",
    "\n",
    "En python, la librairie *Pandas* est dévolue à gérer ces structures essentielles pour l’analyse de données. Elle s’importe comme n’importe quel module, à l’exception que l’on a pour habitude de lui associer un alias *pd* :"
   ]
  },
  {
   "cell_type": "code",
   "execution_count": null,
   "metadata": {},
   "outputs": [],
   "source": [
    "import pandas as pd"
   ]
  },
  {
   "cell_type": "markdown",
   "metadata": {},
   "source": [
    "L’exemple de l’introduction pourrait se matérialiser en passant un objet au constructeur de la classe `DataFrame()` :"
   ]
  },
  {
   "cell_type": "code",
   "execution_count": null,
   "metadata": {},
   "outputs": [],
   "source": [
    "genders = ['F', 'F', 'M']\n",
    "heights = [173, 159, 181]\n",
    "\n",
    "series = {\n",
    "    'gender': genders,\n",
    "    'height': heights\n",
    "}\n",
    "\n",
    "df = pd.DataFrame(series)\n",
    "\n",
    "print(df)"
   ]
  },
  {
   "cell_type": "markdown",
   "metadata": {},
   "source": [
    "Chaque série peut être interrogée individuellement :"
   ]
  },
  {
   "cell_type": "code",
   "execution_count": null,
   "metadata": {},
   "outputs": [],
   "source": [
    "print(df['gender'])"
   ]
  },
  {
   "cell_type": "markdown",
   "metadata": {},
   "source": [
    "Tout comme il est possible d’accéder à des observations particulières grâce au *slicing* :"
   ]
  },
  {
   "cell_type": "code",
   "execution_count": null,
   "metadata": {},
   "outputs": [],
   "source": [
    "print(df[2:])"
   ]
  },
  {
   "cell_type": "markdown",
   "metadata": {
    "tags": []
   },
   "source": [
    "## Importer un fichier CSV"
   ]
  },
  {
   "cell_type": "markdown",
   "metadata": {},
   "source": [
    "Dans la pratique, il est rare de devoir créer un *data frame* manuellement. Comment ces structures servent à manipuler en ensemble large de données, elles les puisent soit de flux (signaux d’entrées d’un périphérique, calculs à la volée) soit de fichiers.\n",
    "\n",
    "La méthode principale pour importer des données depuis un fichier est `read_table()`. Notons à titre indicatif les méthodes `read_csv()`, `read_excel()`, `read_json()` et`read_sql()` pour importer depuis des formats spécifiques."
   ]
  },
  {
   "cell_type": "code",
   "execution_count": null,
   "metadata": {},
   "outputs": [],
   "source": [
    "df = pd.read_table('./data/arrests.csv')"
   ]
  },
  {
   "cell_type": "markdown",
   "metadata": {},
   "source": [
    "La méthode `head()` permet de jeter un œil aux cinq premières observations du fichier :"
   ]
  },
  {
   "cell_type": "code",
   "execution_count": null,
   "metadata": {},
   "outputs": [],
   "source": [
    "df.head()"
   ]
  },
  {
   "cell_type": "markdown",
   "metadata": {},
   "source": [
    "Le résultat de l’importation n’est pas probant. Il faut savoir que, par défaut, le caractère de séparation de la méthode `read_table()` est la tabulation et qu’il peut se paramétrer avec le paramètre `sep` :"
   ]
  },
  {
   "cell_type": "code",
   "execution_count": null,
   "metadata": {},
   "outputs": [],
   "source": [
    "df = pd.read_table('./data/arrests.csv', sep=\",\")\n",
    "df.head()"
   ]
  },
  {
   "cell_type": "markdown",
   "metadata": {},
   "source": [
    "Pour les fichiers au format CSV (*comma-separated values*), il est préférable d’opter pour la méthode spécifique :"
   ]
  },
  {
   "cell_type": "code",
   "execution_count": null,
   "metadata": {},
   "outputs": [],
   "source": [
    "df = pd.read_csv('./data/arrests.csv')\n",
    "df.head()"
   ]
  },
  {
   "cell_type": "markdown",
   "metadata": {},
   "source": [
    "### Description du jeu de données\n",
    "\n",
    "Le fichier *arrests.csv* est issu du package R carData (*Companion to Applied Regression Data Sets*) qui recensent les personnes arrêtées à Toronto en possession d’une petite quantité de marijuana. L’enquête est constituée de sept variables aléatoires :\n",
    "\n",
    "|Variable|Description|Type|\n",
    "|:-:|:-|:-:|\n",
    "|*released*|Facteur à deux niveaux pour distinguer les personnes relâchées avec une convocation (*Yes*) ou arrêtées sur place (*No*).|qualitative binaire|\n",
    "|*year*|Vecteur numérique pour l’année de l’arrestation. De 1997 à 2002.|qualitative ordonnée|\n",
    "|*age*|Vecteur numérique pour l’âge, en nombre d’années.|quantitative continue|\n",
    "|*sex*|Facteurs à deux niveaux pour le sexe de l’individu : *Male* ou *Female*.|qualitative binaire|\n",
    "|*employed*|Facteur à deux niveaux : l’individu a-t-il une activité professionnelle (*Yes*) ou non (*N*).|qualitative binaire|\n",
    "|*citizen*|Facteur à deux niveaux pour qualifier les résidents de Toronto (*Yes*) et les autres (*No*).|qualitative binaire|\n",
    "|*checks*|Vecteur numérique (0 à 6) qui recense le nombre d’apparitions de l’individu sur les bases de données de la police (arrestations, condamnations antérieures, libération conditionnelle…).|quantitative continue|"
   ]
  },
  {
   "cell_type": "markdown",
   "metadata": {},
   "source": [
    "#### Définitions\n",
    "\n",
    "**Variable aléatoire :** Donnée mesurée dont le résultat est, en partie, dû au hasard. Du point de vue de l’enquêteur, les réponses des personnes interrogées sont effectivement imprévisibles.\n",
    "\n",
    "**Variable aléatoire quantitative :** Donnée mesurée dont on peut faire la somme.\n",
    "\n",
    "**Variable aléatoire quantitative discrète :** Variable dont la mesure peut prendre une valeur isolée, comme la taille, le poids ou encore la tension.\n",
    "\n",
    "**Variable aléatoire quantitative continue :** Variable dont la mesure pourrait prendre toutes les valeurs d’un intervalle entre deux nombres (âge, quotient intellectuel, numération globulaire).\n",
    "\n",
    "**Variable aléatoire qualitative :** Donnée mesurée dont on ne peut pas faire la somme, comme la profession, un taux de satisfaction ou encore le sexe d’un individu. Elle peut être de trois types : ordonnée, binaire ou non ordonnée."
   ]
  },
  {
   "cell_type": "markdown",
   "metadata": {},
   "source": [
    "### Gestion de l’en-tête\n",
    "\n",
    "Notre jeu de données dispose de son en-tête propre, imposé par le responsable scientifique qui a modélisé l’enquête. Comme vous le constatez, la méthode `read_csv()` considère la première ligne comme la ligne d’en-tête, mais il est possible de la neutraliser avec la paramètre `header` fixé à `None` :"
   ]
  },
  {
   "cell_type": "code",
   "execution_count": null,
   "metadata": {},
   "outputs": [],
   "source": [
    "df = pd.read_csv('./data/arrests.csv', header=None)\n",
    "df.head()"
   ]
  },
  {
   "cell_type": "markdown",
   "metadata": {},
   "source": [
    "Dans ce cas-là, votre ligne d’en-tête devient une ligne comme les autres mais avec des résultats aberrants. La première variable de votre fichier, qui devrait être un vecteur numérique, affiche à présent `NaN` pour *Not a Number*. La raison en est simple : dans le fichier de départ, la première variable n’est pas nommée afin d’indiquer qu’il s’agit de la colonne d’index des observations. Or, comme on s’attend à trouver une donnée numérique, Python la considère comme une aberration.\n",
    "\n",
    "Pour passer outre, utilisez le paramètre `skiprows` :"
   ]
  },
  {
   "cell_type": "code",
   "execution_count": null,
   "metadata": {},
   "outputs": [],
   "source": [
    "df = pd.read_csv('./data/arrests.csv', header=None, skiprows=1)\n",
    "df.head()"
   ]
  },
  {
   "cell_type": "markdown",
   "metadata": {},
   "source": [
    "Il reste à rétablir l’en-tête en transmettant vos étiquettes personnalisées au paramètre `names` :"
   ]
  },
  {
   "cell_type": "code",
   "execution_count": null,
   "metadata": {},
   "outputs": [],
   "source": [
    "names = ['Relâché', 'Année', 'Âge', 'Genre', 'En activité', 'Torontois', 'Citations']\n",
    "df = pd.read_csv('./data/arrests.csv', header=None, skiprows=1, names=names)\n",
    "df.head()"
   ]
  },
  {
   "cell_type": "markdown",
   "metadata": {},
   "source": [
    "La première colonne est de nouveau la colonne d’index. Si l’on avait voulu parvenir au même résultat tout en conservant l’en-tête original, il aurait simplement fallu lui renseigner la colonne servant d’index avec le paramère `index_col` :"
   ]
  },
  {
   "cell_type": "code",
   "execution_count": null,
   "metadata": {},
   "outputs": [],
   "source": [
    "df = pd.read_csv('./data/arrests.csv', index_col=[0])\n",
    "df.head()"
   ]
  },
  {
   "cell_type": "markdown",
   "metadata": {},
   "source": [
    "## Convertir des données\n",
    "\n",
    "Toute série de données exprimée par une variable statistique est réputée contenir un même type de données au sein d’un vecteur. Pour connaître le type des différents vecteurs, on peut interroger la propriété `dtypes` du *data frame* :"
   ]
  },
  {
   "cell_type": "code",
   "execution_count": null,
   "metadata": {},
   "outputs": [],
   "source": [
    "df = pd.read_csv('./data/arrests.csv', index_col=[0])\n",
    "df.dtypes"
   ]
  },
  {
   "cell_type": "markdown",
   "metadata": {},
   "source": [
    "Notons qu’il est possible de paramétrer les types des différents vecteurs dès la construction du *data frame* avec l’option `dtype` :"
   ]
  },
  {
   "cell_type": "code",
   "execution_count": null,
   "metadata": {},
   "outputs": [],
   "source": [
    "df = pd.read_csv('./data/arrests.csv', index_col=[0], dtype={'year': int})\n",
    "df.dtypes"
   ]
  },
  {
   "cell_type": "markdown",
   "metadata": {},
   "source": [
    "Comme il est plus facile de manipuler des nombres dans un *data frame*, une opération préléminaire à toute analyse de données consiste souvent à transformer au maximum les séries en vecteurs numériques. C’est par exemple possible en transmettant un dictionnaire d’équivalences à la méthode `replace()` :"
   ]
  },
  {
   "cell_type": "code",
   "execution_count": null,
   "metadata": {},
   "outputs": [],
   "source": [
    "translations = {\n",
    "    'Yes': 1,\n",
    "    'No': 0,\n",
    "    'Male': 0,\n",
    "    'Female': 1\n",
    "}\n",
    "df.replace(translations, inplace=True)"
   ]
  },
  {
   "cell_type": "markdown",
   "metadata": {},
   "source": [
    "Par cette simple opération, notre tableau de données n’utilise désormais que des vecteurs numériques. Il est possible de s’en assurer rapidement :"
   ]
  },
  {
   "cell_type": "code",
   "execution_count": null,
   "metadata": {},
   "outputs": [],
   "source": [
    "df.dtypes"
   ]
  },
  {
   "cell_type": "markdown",
   "metadata": {},
   "source": [
    "Un point d’optimisation encore plus important consiste à identifier les variables binaires qui profiteraient d’être converties en variables booléennes. C’est le cas des variables `released`, `employed` et `citizen` :"
   ]
  },
  {
   "cell_type": "code",
   "execution_count": null,
   "metadata": {},
   "outputs": [],
   "source": [
    "cols = ['released', 'employed', 'citizen']\n",
    "\n",
    "translations = {\n",
    "    0: False,\n",
    "    1: True\n",
    "}\n",
    "\n",
    "[\n",
    "    df[col].replace(translations, inplace=True)\n",
    "    for col in cols\n",
    "]\n",
    "df.head()"
   ]
  },
  {
   "cell_type": "markdown",
   "metadata": {},
   "source": [
    "Avant de définir des conversions, il est prudent de bien s’assurer des différentes valeurs contenues dans une série avec la méthode `unique()` :"
   ]
  },
  {
   "cell_type": "code",
   "execution_count": null,
   "metadata": {},
   "outputs": [],
   "source": [
    "df = pd.read_csv('./data/arrests.csv', index_col=[0])\n",
    "\n",
    "print(\n",
    "    f\"released ==> { df['released'].unique() }\",\n",
    "    f\"sex      ==> { df['sex'].unique() }\",\n",
    "    f\"employed ==> { df['employed'].unique() }\",\n",
    "    f\"citizen  ==> { df['citizen'].unique() }\",\n",
    "    sep=\"\\n\"\n",
    ")"
   ]
  },
  {
   "cell_type": "code",
   "execution_count": null,
   "metadata": {},
   "outputs": [],
   "source": [
    "cols = ['released', 'sex', 'employed', 'citizen']\n",
    "\n",
    "translations = {\n",
    "    'No': False,\n",
    "    'Yes': True,\n",
    "    'Male': 'M',\n",
    "    'Female': 'F'\n",
    "}\n",
    "\n",
    "[\n",
    "    df[col].replace(translations, inplace=True)\n",
    "    for col in cols\n",
    "]\n",
    "\n",
    "df.head()"
   ]
  },
  {
   "cell_type": "markdown",
   "metadata": {},
   "source": [
    "## Sélectionner des données"
   ]
  },
  {
   "cell_type": "markdown",
   "metadata": {},
   "source": [
    "### Sélectionner une série entière\n",
    "\n",
    "L’opération la plus simple consiste à nommer la série à sélectionner :"
   ]
  },
  {
   "cell_type": "code",
   "execution_count": null,
   "metadata": {},
   "outputs": [],
   "source": [
    "df['checks']"
   ]
  },
  {
   "cell_type": "markdown",
   "metadata": {},
   "source": [
    "Des contraintes peuvent être appliquées à la sélection des données :"
   ]
  },
  {
   "cell_type": "code",
   "execution_count": null,
   "metadata": {},
   "outputs": [],
   "source": [
    "# nb checks of persons who live outside Toronto only\n",
    "df['checks'][df['citizen'] == False]"
   ]
  },
  {
   "cell_type": "markdown",
   "metadata": {},
   "source": [
    "### Sélectionner des observations\n",
    "\n",
    "Le *slicing* permet de sélectionner des observations à l'intérieur du *data frame* :"
   ]
  },
  {
   "cell_type": "code",
   "execution_count": null,
   "metadata": {},
   "outputs": [],
   "source": [
    "df[:3]"
   ]
  },
  {
   "cell_type": "markdown",
   "metadata": {},
   "source": [
    "Tout comme il est possible de limiter à une série particulière :"
   ]
  },
  {
   "cell_type": "code",
   "execution_count": null,
   "metadata": {},
   "outputs": [],
   "source": [
    "df['sex'][:3]"
   ]
  },
  {
   "cell_type": "markdown",
   "metadata": {},
   "source": [
    "Pour appliquer ces restrictions à plusieurs séries, il existe une propriété `loc` qui prend deux paramètres : une *slice* et une liste de séries :"
   ]
  },
  {
   "cell_type": "code",
   "execution_count": null,
   "metadata": {},
   "outputs": [],
   "source": [
    "df.loc[:3, ['released', 'employed', 'citizen']]"
   ]
  },
  {
   "cell_type": "markdown",
   "metadata": {},
   "source": [
    "### Appliquer des filtres sur les sélections\n",
    "\n",
    "De multiples conditions peuvent s'appliquer sur les séries pour filtrer les données. Si par exemple on voulait ne retenir que l’âge et le nombre de citations des hommes de Toronto interpellés depuis 2000, on traduirait l’énoncé ainsi :"
   ]
  },
  {
   "cell_type": "code",
   "execution_count": null,
   "metadata": {},
   "outputs": [],
   "source": [
    "df.loc[:, ['age', 'checks']][(df['sex'] == 'M') & (df['citizen'] == 1) & (df['year'] >= 2000)]"
   ]
  },
  {
   "cell_type": "markdown",
   "metadata": {},
   "source": [
    "Les opérateurs de comparaison classiques (`==` `>` `<=`…) ainsi que les opérateurs *bitwise* `&` `|` `~` peuvent être utilisés."
   ]
  },
  {
   "cell_type": "markdown",
   "metadata": {},
   "source": [
    "## Décrire les données\n",
    "\n",
    "La librairie *Pandas* fournit un ensemble de méthodes pour décrire les données. La première d’entre elles, `info()` affiche un résumé du *data frame* (nom des variables, présence de valeurs nulles, nombre d’observations) :"
   ]
  },
  {
   "cell_type": "code",
   "execution_count": null,
   "metadata": {},
   "outputs": [],
   "source": [
    "df.info()"
   ]
  },
  {
   "cell_type": "markdown",
   "metadata": {},
   "source": [
    "La méthode `describe()` fournit quant à elle un aperçu des vecteurs numériques grâce à quelques statistiques :"
   ]
  },
  {
   "cell_type": "code",
   "execution_count": null,
   "metadata": {},
   "outputs": [],
   "source": [
    "df.describe()"
   ]
  },
  {
   "cell_type": "markdown",
   "metadata": {},
   "source": [
    "Grâce à un sélecteur, il est possible de restreindre à une série :"
   ]
  },
  {
   "cell_type": "code",
   "execution_count": null,
   "metadata": {},
   "outputs": [],
   "source": [
    "print(\n",
    "    df['employed'].describe(),\n",
    "    df['checks'].describe(),\n",
    "    sep=\"\\n\\n\"\n",
    ")"
   ]
  },
  {
   "cell_type": "markdown",
   "metadata": {},
   "source": [
    "De nombreuses opérations statistiques peuvent être ensuite résolues avec les méthodes embarquées par la librairie :"
   ]
  },
  {
   "cell_type": "code",
   "execution_count": null,
   "metadata": {},
   "outputs": [],
   "source": [
    "# max\n",
    "print(df['age'].max())\n",
    "\n",
    "# min\n",
    "print(df['age'].min())\n",
    "\n",
    "# standard deviation\n",
    "print(df['age'].std())\n",
    "\n",
    "# average\n",
    "print(df['age'].mean())"
   ]
  }
 ],
 "metadata": {
  "kernelspec": {
   "display_name": "Python 3 (ipykernel)",
   "language": "python",
   "name": "python3"
  },
  "language_info": {
   "codemirror_mode": {
    "name": "ipython",
    "version": 3
   },
   "file_extension": ".py",
   "mimetype": "text/x-python",
   "name": "python",
   "nbconvert_exporter": "python",
   "pygments_lexer": "ipython3",
   "version": "3.10.5"
  }
 },
 "nbformat": 4,
 "nbformat_minor": 4
}
