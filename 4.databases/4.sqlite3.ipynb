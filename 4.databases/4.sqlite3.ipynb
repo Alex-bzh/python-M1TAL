{
 "cells": [
  {
   "cell_type": "markdown",
   "metadata": {
    "slideshow": {
     "slide_type": "slide"
    }
   },
   "source": [
    "# Bases de données SQLite"
   ]
  },
  {
   "cell_type": "markdown",
   "metadata": {
    "slideshow": {
     "slide_type": "slide"
    }
   },
   "source": [
    "## Présentation\n",
    "\n",
    "**SQL :** *Structured Query Language*\n",
    "\n",
    "Il s’agit d’un langage de requête structurée pour interroger des bases de données. Il repose sur des verbes (`CREATE`, `SELECT`, `INSERT`, `DELETE`…) qui effectuent des actions sur des modèles de données. Il est généralement mis en œuvre par des programmes via des interfaces pour se connecter à des systèmes de gestion de bases de données relationnelles (SGBDR)."
   ]
  },
  {
   "cell_type": "markdown",
   "metadata": {
    "slideshow": {
     "slide_type": "subslide"
    }
   },
   "source": [
    "**SQLite :** bibliothèque qui manipule une base de données légère et indépendante de tout SGBDR. SQLite mobilise l’essentiel des commandes de SQL sans être pour autant exhaustif.\n",
    "\n",
    "En Python, le module `sqlite3` se charge de fournir une interface avec la bibliothèque :"
   ]
  },
  {
   "cell_type": "code",
   "execution_count": null,
   "metadata": {
    "slideshow": {
     "slide_type": "-"
    }
   },
   "outputs": [],
   "source": [
    "import sqlite3"
   ]
  },
  {
   "cell_type": "markdown",
   "metadata": {
    "slideshow": {
     "slide_type": "fragment"
    }
   },
   "source": [
    "Toute transaction doit se rattacher à une connexion et être manipulée par un objet de type `Cursor` :"
   ]
  },
  {
   "cell_type": "code",
   "execution_count": null,
   "metadata": {
    "slideshow": {
     "slide_type": "-"
    }
   },
   "outputs": [],
   "source": [
    "connexion = sqlite3.connect(\"./data/covid.db\")"
   ]
  },
  {
   "cell_type": "markdown",
   "metadata": {
    "slideshow": {
     "slide_type": "subslide"
    }
   },
   "source": [
    "Une fois la connexion à la base de données établie, instancier un objet `Cursor` qui sera chargé de manipuler la base de données :"
   ]
  },
  {
   "cell_type": "code",
   "execution_count": null,
   "metadata": {
    "slideshow": {
     "slide_type": "-"
    }
   },
   "outputs": [],
   "source": [
    "c = connexion.cursor()"
   ]
  },
  {
   "cell_type": "markdown",
   "metadata": {
    "slideshow": {
     "slide_type": "fragment"
    }
   },
   "source": [
    "La méthode `execute()` de tout objet `Cursor` lancera les requêtes SQL en renvoyant un itérateur :"
   ]
  },
  {
   "cell_type": "code",
   "execution_count": null,
   "metadata": {
    "slideshow": {
     "slide_type": "-"
    }
   },
   "outputs": [],
   "source": [
    "sql = \"SELECT department FROM departments LIMIT 5\"\n",
    "departments = c.execute(sql)"
   ]
  },
  {
   "cell_type": "markdown",
   "metadata": {
    "slideshow": {
     "slide_type": "subslide"
    }
   },
   "source": [
    "Une boucle `for` traditionnelle suffit pour parcourir cet itérateur :"
   ]
  },
  {
   "cell_type": "code",
   "execution_count": null,
   "metadata": {
    "slideshow": {
     "slide_type": "-"
    }
   },
   "outputs": [],
   "source": [
    "for department in departments:\n",
    "    print(department)"
   ]
  },
  {
   "cell_type": "markdown",
   "metadata": {
    "slideshow": {
     "slide_type": "fragment"
    }
   },
   "source": [
    "Attention, un itérateur `Cursor` n’est valable qu’une seule fois !"
   ]
  },
  {
   "cell_type": "code",
   "execution_count": null,
   "metadata": {
    "slideshow": {
     "slide_type": "-"
    }
   },
   "outputs": [],
   "source": [
    "for department in departments:\n",
    "    print(department)"
   ]
  },
  {
   "cell_type": "markdown",
   "metadata": {
    "slideshow": {
     "slide_type": "subslide"
    }
   },
   "source": [
    "Pour sauvegarder le résultat d’une requête, utiliser les méthodes `fetchone()` ou `fetchall()` :"
   ]
  },
  {
   "cell_type": "code",
   "execution_count": null,
   "metadata": {
    "slideshow": {
     "slide_type": "-"
    }
   },
   "outputs": [],
   "source": [
    "department = c.execute(sql).fetchone()\n",
    "departments = c.execute(sql).fetchall()"
   ]
  },
  {
   "cell_type": "markdown",
   "metadata": {
    "slideshow": {
     "slide_type": "fragment"
    }
   },
   "source": [
    "**Remarque :** le résultat d’une requête prend toujours la forme d’un tuple."
   ]
  },
  {
   "cell_type": "markdown",
   "metadata": {
    "slideshow": {
     "slide_type": "slide"
    }
   },
   "source": [
    "## Structure de la base de données\n",
    "\n",
    "Avant d’effectuer des requêtes sur une base de données, il est utile d’en connaître la structure, comme le nom des tables et la description de leurs champs."
   ]
  },
  {
   "cell_type": "markdown",
   "metadata": {
    "slideshow": {
     "slide_type": "fragment"
    }
   },
   "source": [
    "### Nom des tables"
   ]
  },
  {
   "cell_type": "code",
   "execution_count": null,
   "metadata": {
    "slideshow": {
     "slide_type": "-"
    }
   },
   "outputs": [],
   "source": [
    "sql = \"\"\"SELECT name\n",
    "FROM sqlite_master\n",
    "WHERE type ='table'\n",
    "    AND name NOT LIKE 'sqlite_%';\"\"\"\n",
    "for row in c.execute(sql):\n",
    "    print(row)"
   ]
  },
  {
   "cell_type": "markdown",
   "metadata": {
    "slideshow": {
     "slide_type": "subslide"
    }
   },
   "source": [
    "### Lister les champs d’une table"
   ]
  },
  {
   "cell_type": "code",
   "execution_count": null,
   "metadata": {
    "slideshow": {
     "slide_type": "-"
    }
   },
   "outputs": [],
   "source": [
    "sql = \"\"\"SELECT sql\n",
    "FROM sqlite_master \n",
    "WHERE name = 'departments';\"\"\"\n",
    "for row in c.execute(sql):\n",
    "    print(row)"
   ]
  },
  {
   "cell_type": "markdown",
   "metadata": {
    "slideshow": {
     "slide_type": "subslide"
    }
   },
   "source": [
    "### Obtenir le détail des champs"
   ]
  },
  {
   "cell_type": "code",
   "execution_count": null,
   "metadata": {
    "slideshow": {
     "slide_type": "-"
    }
   },
   "outputs": [],
   "source": [
    "sql = \"PRAGMA table_info('departments')\"\n",
    "for row in c.execute(sql):\n",
    "    print(row)"
   ]
  },
  {
   "cell_type": "markdown",
   "metadata": {
    "slideshow": {
     "slide_type": "-"
    }
   },
   "source": [
    "Les informations sont, dans l’ordre : l’identifiant unique du champ, son nom, son type, s’il s’agit d’un champ facultatif ou non (0 : facultatif ; 1 : obligatoire), sa valeur par défaut et, enfin, s’il s’agit d’une clé primaire ou non."
   ]
  },
  {
   "cell_type": "markdown",
   "metadata": {
    "slideshow": {
     "slide_type": "slide"
    }
   },
   "source": [
    "## Gérer une base de données\n",
    "\n",
    "### Création de la base\n",
    "\n",
    "La méthode `connect()` est suffisante pour créer un fichier *.db* :"
   ]
  },
  {
   "cell_type": "code",
   "execution_count": null,
   "metadata": {
    "slideshow": {
     "slide_type": "-"
    }
   },
   "outputs": [],
   "source": [
    "connexion = sqlite3.connect('./data/mauritian.bd')"
   ]
  },
  {
   "cell_type": "markdown",
   "metadata": {
    "slideshow": {
     "slide_type": "fragment"
    }
   },
   "source": [
    "Toutes les opérations qui suivront devront se rattacher à un objet `Cursor` :"
   ]
  },
  {
   "cell_type": "code",
   "execution_count": null,
   "metadata": {
    "slideshow": {
     "slide_type": "-"
    }
   },
   "outputs": [],
   "source": [
    "c = connexion.cursor()"
   ]
  },
  {
   "cell_type": "markdown",
   "metadata": {
    "slideshow": {
     "slide_type": "subslide"
    }
   },
   "source": [
    "### Créer une table"
   ]
  },
  {
   "cell_type": "code",
   "execution_count": null,
   "metadata": {
    "slideshow": {
     "slide_type": "-"
    }
   },
   "outputs": [],
   "source": [
    "sql = \"CREATE TABLE lexicon (word, etymon, phono)\"\n",
    "c.execute(sql)"
   ]
  },
  {
   "cell_type": "markdown",
   "metadata": {
    "slideshow": {
     "slide_type": "fragment"
    }
   },
   "source": [
    "### Insérer un enregistrement"
   ]
  },
  {
   "cell_type": "code",
   "execution_count": null,
   "metadata": {
    "slideshow": {
     "slide_type": "-"
    }
   },
   "outputs": [],
   "source": [
    "sql = \"INSERT INTO lexicon VALUES (?, ?, ?)\"\n",
    "c.execute(sql, ('abandone', 'abandonner', 'abãdone'))"
   ]
  },
  {
   "cell_type": "markdown",
   "metadata": {
    "slideshow": {
     "slide_type": "subslide"
    }
   },
   "source": [
    "### Insérer plusieurs enregistrements\n",
    "\n",
    "Cette fois-ci, il faut faire appel à la méthode `executemany()` à laquelle on passe une liste de tuples en plus de la requête SQL :"
   ]
  },
  {
   "cell_type": "code",
   "execution_count": null,
   "metadata": {
    "slideshow": {
     "slide_type": "-"
    }
   },
   "outputs": [],
   "source": [
    "sql = \"INSERT INTO lexicon VALUES (?, ?, ?)\"\n",
    "records = [\n",
    "    ('abdike', 'abdiquer', 'abdike'),\n",
    "    ('abwaye', 'aboyer', 'abwaje'),\n",
    "    ('aktialize', 'actualiser', 'aktualize')\n",
    "]\n",
    "c.executemany(sql, records)"
   ]
  },
  {
   "cell_type": "markdown",
   "metadata": {
    "slideshow": {
     "slide_type": "subslide"
    }
   },
   "source": [
    "### Supprimer des enregistrements\n",
    "\n",
    "La requête `DELETE FROM {table}` permet de supprimer des enregistrements. Sans condition, elle supprime tous les enregistrements d’une table :"
   ]
  },
  {
   "cell_type": "code",
   "execution_count": null,
   "metadata": {
    "slideshow": {
     "slide_type": "-"
    }
   },
   "outputs": [],
   "source": [
    "# sql = \"DELETE FROM lexicon\" would delete all the records.\n",
    "sql = \"DELETE FROM lexicon WHERE word=:word\"\n",
    "c.execute(sql, {'word': 'abdike'})"
   ]
  },
  {
   "cell_type": "markdown",
   "metadata": {
    "slideshow": {
     "slide_type": "fragment"
    }
   },
   "source": [
    "Remarquez la syntaxe de transmission des paramètres : lors d’un enregistrement, on utilise des points d’interrogation (*qmark style*) et pour une sélection plutôt des paramètres nommés (*named style*)."
   ]
  },
  {
   "cell_type": "markdown",
   "metadata": {
    "slideshow": {
     "slide_type": "subslide"
    }
   },
   "source": [
    "### Mettre à jour des enregistrements\n",
    "\n",
    "La transcription phonologique du mot *aktialize* est erronnée. On a enregistré *aktualize* au lieu de *aktjalize*. Corrigeons :"
   ]
  },
  {
   "cell_type": "code",
   "execution_count": null,
   "metadata": {
    "slideshow": {
     "slide_type": "-"
    }
   },
   "outputs": [],
   "source": [
    "sql = \"UPDATE lexicon SET phono=:phono WHERE word=:word\"\n",
    "c.execute(sql, {'word': 'aktialize', 'phono': 'aktjalize'})"
   ]
  },
  {
   "cell_type": "markdown",
   "metadata": {
    "slideshow": {
     "slide_type": "fragment"
    }
   },
   "source": [
    "### Supprimer une table"
   ]
  },
  {
   "cell_type": "code",
   "execution_count": null,
   "metadata": {
    "slideshow": {
     "slide_type": "-"
    }
   },
   "outputs": [],
   "source": [
    "c.execute(\"DROP TABLE lexicon\")"
   ]
  },
  {
   "cell_type": "markdown",
   "metadata": {
    "slideshow": {
     "slide_type": "subslide"
    }
   },
   "source": [
    "### Sauvegarder les opérations sur la base de données\n",
    "\n",
    "Toutes les transactions (création, modification, suppression) doivent obligatoirement être sauvegardées avant de rompre la connexion, faute de quoi, tout le travail aura été perdu !\n",
    "\n",
    "La sauvegarde s’effectue avec la méthode `commit()` et la fermeture de la connexion avec `close()`."
   ]
  },
  {
   "cell_type": "code",
   "execution_count": null,
   "metadata": {
    "slideshow": {
     "slide_type": "-"
    }
   },
   "outputs": [],
   "source": [
    "import sqlite3\n",
    "connexion = sqlite3.connect(\"./data/mauritian.bd\")\n",
    "c = connexion.cursor()\n",
    "c.execute(\"CREATE TABLE lexicon (word, etymon, phono)\")\n",
    "c.execute(\"INSERT INTO lexicon VALUES (?, ?, ?)\", ('abandone', 'abandonner', 'abãdone'))\n",
    "connexion.commit()\n",
    "connexion.close()"
   ]
  },
  {
   "cell_type": "markdown",
   "metadata": {
    "slideshow": {
     "slide_type": "slide"
    }
   },
   "source": [
    "## Indexation et performance\n",
    "\n",
    "Les mécanismes d’indexation constituent l’avantage majeur d’une base de données SQLite par rapport à un fichier plat en ce qu’elles améliorent les performances de chargement et de recherche d’information."
   ]
  },
  {
   "cell_type": "markdown",
   "metadata": {
    "slideshow": {
     "slide_type": "subslide"
    }
   },
   "source": [
    "### Définir une clé primaire\n",
    "\n",
    "Une clé primaire est un outil très puissant pour à la fois indexer une colonne particulière mais aussi assurer l’intégrité des données. Une colonne disposant d’une clé primaire n’acceptera pas de valeur nulle et ne pourra pas non plus contenir de valeurs en double. Soulignons aussi qu’une table ne peut accueillir qu’une seule clé primaire, mais cette clé peut être posée sur plusieurs colonnes."
   ]
  },
  {
   "cell_type": "code",
   "execution_count": null,
   "metadata": {
    "slideshow": {
     "slide_type": "-"
    }
   },
   "outputs": [],
   "source": [
    "# While the creation of the table\n",
    "sql = \"CREATE TABLE lexicon (word PRIMARY KEY, etymon, phono, tag)\"\n",
    "# When the table already exists\n",
    "sql = \"ALTER TABLE lexicon ADD PRIMARY KEY (word)\"\n",
    "# A composite primary key\n",
    "sql = \"ALTER TABLE lexicon ADD CONSTRAINT pk_word_tag PRIMARY KEY (word, tag)\""
   ]
  },
  {
   "cell_type": "markdown",
   "metadata": {
    "slideshow": {
     "slide_type": "subslide"
    }
   },
   "source": [
    "Et pour supprimer une clé primaire :"
   ]
  },
  {
   "cell_type": "code",
   "execution_count": null,
   "metadata": {
    "slideshow": {
     "slide_type": "-"
    }
   },
   "outputs": [],
   "source": [
    "sql = \"ALTER TABLE lexicon DROP PRIMARY KEY\""
   ]
  },
  {
   "cell_type": "markdown",
   "metadata": {
    "slideshow": {
     "slide_type": "subslide"
    }
   },
   "source": [
    "### Gérer des index\n",
    "\n",
    "À l’instar d’un index à la fin d’un livre, les index d’une base de données sont comme des pointeurs vers les données. Ils améliorent nettement la rapidité d’exécution d’une instruction `SELECT` ainsi que de toutes les clauses `WHERE`."
   ]
  },
  {
   "cell_type": "markdown",
   "metadata": {
    "slideshow": {
     "slide_type": "subslide"
    }
   },
   "source": [
    "#### Créer un index"
   ]
  },
  {
   "cell_type": "code",
   "execution_count": null,
   "metadata": {
    "slideshow": {
     "slide_type": "-"
    }
   },
   "outputs": [],
   "source": [
    "sql = \"CREATE INDEX pos_tag ON lexicon (tag)\""
   ]
  },
  {
   "cell_type": "markdown",
   "metadata": {
    "slideshow": {
     "slide_type": "fragment"
    }
   },
   "source": [
    "La syntaxe de base peut se compléter avec le mot-clé `UNIQUE` pour vérifier qu’aucune valeur en double ne sera ajoutée dans la colonne :"
   ]
  },
  {
   "cell_type": "code",
   "execution_count": null,
   "metadata": {
    "slideshow": {
     "slide_type": "-"
    }
   },
   "outputs": [],
   "source": [
    "sql = \"CREATE UNIQUE INDEX word_index ON lexicon (word)\""
   ]
  },
  {
   "cell_type": "markdown",
   "metadata": {
    "slideshow": {
     "slide_type": "subslide"
    }
   },
   "source": [
    "La commande `CREATE INDEX` accepte également une clause `IF NOT EXISTS` pour éviter le retour d’une erreur si l’index était déjà présent :"
   ]
  },
  {
   "cell_type": "code",
   "execution_count": null,
   "metadata": {
    "slideshow": {
     "slide_type": "-"
    }
   },
   "outputs": [],
   "source": [
    "sql = \"CREATE INDEX IF NOT EXISTS pos_tag ON lexicon (tag)\""
   ]
  },
  {
   "cell_type": "markdown",
   "metadata": {
    "slideshow": {
     "slide_type": "fragment"
    }
   },
   "source": [
    "Un index peut également concerner plusieurs colonnes. On parle alors d’index composites :"
   ]
  },
  {
   "cell_type": "code",
   "execution_count": null,
   "metadata": {
    "slideshow": {
     "slide_type": "-"
    }
   },
   "outputs": [],
   "source": [
    "sql = \"CREATE INDEX word_tag ON lexicon (word, tag)\""
   ]
  },
  {
   "cell_type": "markdown",
   "metadata": {
    "slideshow": {
     "slide_type": "subslide"
    }
   },
   "source": [
    "#### Supprimer un index"
   ]
  },
  {
   "cell_type": "code",
   "execution_count": null,
   "metadata": {
    "slideshow": {
     "slide_type": "-"
    }
   },
   "outputs": [],
   "source": [
    "sql = \"DROP INDEX word\""
   ]
  },
  {
   "cell_type": "markdown",
   "metadata": {
    "slideshow": {
     "slide_type": "subslide"
    }
   },
   "source": [
    "#### Lister les index d’une table\n",
    "\n",
    "Retrouver tous les index d’une table ne se fait malheureusement pas simplement avec une commande unique. La méthode consiste à interroger la table maîtresse `SQLite_master` qui pilote la bases de données et à lister l’ensemble des déclarations SQL :"
   ]
  },
  {
   "cell_type": "code",
   "execution_count": null,
   "metadata": {
    "slideshow": {
     "slide_type": "-"
    }
   },
   "outputs": [],
   "source": [
    "connexion = sqlite3.connect(\"./data/mauritian.bd\")\n",
    "c = connexion.cursor()\n",
    "c.execute(\"SELECT sql from sqlite_master\")\n",
    "statements = c.fetchall()\n",
    "for statement in statements:\n",
    "    print(statement)"
   ]
  },
  {
   "cell_type": "markdown",
   "metadata": {
    "slideshow": {
     "slide_type": "slide"
    }
   },
   "source": [
    "## Techniques courantes"
   ]
  },
  {
   "cell_type": "markdown",
   "metadata": {
    "slideshow": {
     "slide_type": "-"
    }
   },
   "source": [
    "### Définir une valeur par défaut"
   ]
  },
  {
   "cell_type": "code",
   "execution_count": null,
   "metadata": {
    "slideshow": {
     "slide_type": "-"
    }
   },
   "outputs": [],
   "source": [
    "sql = \"CREATE TABLE lexicon (word, etymon, phono, tag DEFAULT 'V')\""
   ]
  },
  {
   "cell_type": "markdown",
   "metadata": {
    "slideshow": {
     "slide_type": "fragment"
    }
   },
   "source": [
    "### Attribuer un type de données"
   ]
  },
  {
   "cell_type": "code",
   "execution_count": null,
   "metadata": {
    "slideshow": {
     "slide_type": "-"
    }
   },
   "outputs": [],
   "source": [
    "sql = \"CREATE TABLE lexicon (word TEXT, etymon TEXT, phono TEXT, tag TEXT)\""
   ]
  },
  {
   "cell_type": "markdown",
   "metadata": {
    "slideshow": {
     "slide_type": "subslide"
    }
   },
   "source": [
    "### Créer une table si nécessaire"
   ]
  },
  {
   "cell_type": "code",
   "execution_count": null,
   "metadata": {
    "slideshow": {
     "slide_type": "-"
    }
   },
   "outputs": [],
   "source": [
    "sql = \"CREATE TABLE IF NOT EXISTS lexicon (word, etymon, phono, tag)\""
   ]
  },
  {
   "cell_type": "markdown",
   "metadata": {
    "slideshow": {
     "slide_type": "fragment"
    }
   },
   "source": [
    "### Trier"
   ]
  },
  {
   "cell_type": "code",
   "execution_count": null,
   "metadata": {
    "slideshow": {
     "slide_type": "-"
    }
   },
   "outputs": [],
   "source": [
    "sql = \"SELECT word, phono FROM lexicon ORDER BY word\""
   ]
  }
 ],
 "metadata": {
  "celltoolbar": "Diaporama",
  "kernelspec": {
   "display_name": "Python 3",
   "language": "python",
   "name": "python3"
  },
  "language_info": {
   "codemirror_mode": {
    "name": "ipython",
    "version": 3
   },
   "file_extension": ".py",
   "mimetype": "text/x-python",
   "name": "python",
   "nbconvert_exporter": "python",
   "pygments_lexer": "ipython3",
   "version": "3.8.0"
  }
 },
 "nbformat": 4,
 "nbformat_minor": 4
}
