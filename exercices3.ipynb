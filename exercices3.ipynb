{
 "cells": [
  {
   "cell_type": "markdown",
   "metadata": {},
   "source": [
    "# Exercices 3"
   ]
  },
  {
   "cell_type": "markdown",
   "metadata": {},
   "source": [
    "## Lecture et écriture de fichiers"
   ]
  },
  {
   "cell_type": "markdown",
   "metadata": {},
   "source": [
    "Récupérez un texte littéraire sur le site du [Projet Gutenberg](https://www.gutenberg.org/) et retirez tout le paratexte (licence, mentions légales…).\n",
    "\n",
    "Créez un programme qui en récupère le contenu, le découpe en lignes, et écrive le résultat de l'opération dans un autre fichier, de telle manière que chaque ligne soit préfixée du numéro de la ligne courante suivi d'un point-virgule.\n",
    "Exemple :\n",
    "```\n",
    "1;CHAPTER 1\n",
    "2;\n",
    "3;THE FEAST\n",
    "4;\n",
    "5;It was at Megara, a suburb of Carthage, in the gardens of Hamilcar.\n",
    "…\n",
    "```"
   ]
  },
  {
   "cell_type": "code",
   "execution_count": null,
   "metadata": {
    "collapsed": true
   },
   "outputs": [],
   "source": [
    "# Votre code ici"
   ]
  },
  {
   "cell_type": "markdown",
   "metadata": {},
   "source": [
    "Améliorez votre algorithme de manière à insérer le nombre de mots dans la ligne courante, juste après le numéro de ligne, séparés par un point-virgule. Exemple :\n",
    "```\n",
    "1;2;CHAPTER 1\n",
    "2;0;\n",
    "3;2;THE FEAST\n",
    "4;0;\n",
    "5;13;It was at Megara, a suburb of Carthage, in the gardens of Hamilcar.\n",
    "…\n",
    "```"
   ]
  },
  {
   "cell_type": "code",
   "execution_count": 1,
   "metadata": {
    "collapsed": true
   },
   "outputs": [],
   "source": [
    "# Votre code ici"
   ]
  },
  {
   "cell_type": "markdown",
   "metadata": {},
   "source": [
    "## Un programme de calcul"
   ]
  },
  {
   "cell_type": "markdown",
   "metadata": {},
   "source": [
    "Écrivez un programme qui propose deux choix à un utilisateur :\n",
    "- Lire le texte que vous avez choisi ;\n",
    "- Afficher la phrase la plus longue avec le nombre de mots et le nombre de caractères."
   ]
  },
  {
   "cell_type": "code",
   "execution_count": null,
   "metadata": {
    "collapsed": true
   },
   "outputs": [],
   "source": [
    "# Votre code ici"
   ]
  }
 ],
 "metadata": {
  "kernelspec": {
   "display_name": "Python 2",
   "language": "python",
   "name": "python2"
  },
  "language_info": {
   "codemirror_mode": {
    "name": "ipython",
    "version": 2
   },
   "file_extension": ".py",
   "mimetype": "text/x-python",
   "name": "python",
   "nbconvert_exporter": "python",
   "pygments_lexer": "ipython2",
   "version": "2.7.10"
  }
 },
 "nbformat": 4,
 "nbformat_minor": 0
}
