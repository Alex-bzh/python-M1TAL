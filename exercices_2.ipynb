{
 "cells": [
  {
   "cell_type": "markdown",
   "metadata": {},
   "source": [
    "# Les structures de contrôle"
   ]
  },
  {
   "cell_type": "markdown",
   "metadata": {},
   "source": [
    "## Les structures conditionnelles"
   ]
  },
  {
   "cell_type": "markdown",
   "metadata": {},
   "source": [
    "### Le jeu des prénoms"
   ]
  },
  {
   "cell_type": "markdown",
   "metadata": {},
   "source": [
    "Concevez un programme qui détermine si une valeur entrée par un utilisateur est présente dans une liste prédéterminée de prénoms. Si le nom ne fait pas partie de la liste, inviter l'utilisateur à l'enregistrer, puis retournez la liste modifiée.\n",
    "\n",
    "Pour afficher un prompt, utilisez le bout de code suivant :\n",
    "```\n",
    "prenom = raw_input(\"Veuillez renseigner un prénom.\\n\")\n",
    "```"
   ]
  },
  {
   "cell_type": "code",
   "execution_count": null,
   "metadata": {
    "collapsed": false
   },
   "outputs": [],
   "source": [
    "# Liste de prénoms\n",
    "prenoms = [\"Sheldon\", \"Amy\", \"Howard\", \"Leonard\", \"Rajesh\", \"Penny\"]\n",
    "\n",
    "# Votre code ici"
   ]
  },
  {
   "cell_type": "markdown",
   "metadata": {},
   "source": [
    "### Le jeu du mentaliste"
   ]
  },
  {
   "cell_type": "markdown",
   "metadata": {},
   "source": [
    "Concevez un programme dans lequel l'ordinateur va choisir au hasard une valeur dans une liste prédéterminée, puis demandera ensuite à l'utilisateur de la deviner."
   ]
  },
  {
   "cell_type": "code",
   "execution_count": null,
   "metadata": {
    "collapsed": false
   },
   "outputs": [],
   "source": [
    "# Importer la fonction qui génère des nombres aléatoires\n",
    "from random import randint\n",
    "\n",
    "# Votre code ici"
   ]
  },
  {
   "cell_type": "markdown",
   "metadata": {},
   "source": [
    "### Le jeu de cartes"
   ]
  },
  {
   "cell_type": "markdown",
   "metadata": {},
   "source": [
    "Écrivez un programme qui propose à un utilisateur de penser à une valeur issue d'un jeu de 32 cartes, puis qui devine en trois coups maximum son tirage."
   ]
  },
  {
   "cell_type": "code",
   "execution_count": null,
   "metadata": {
    "collapsed": true
   },
   "outputs": [],
   "source": [
    "# Votre code ici."
   ]
  },
  {
   "cell_type": "markdown",
   "metadata": {},
   "source": [
    "## Les structures itératives"
   ]
  },
  {
   "cell_type": "markdown",
   "metadata": {},
   "source": [
    "### La logique de boucle `for`"
   ]
  },
  {
   "cell_type": "markdown",
   "metadata": {},
   "source": [
    "Écrivez un programme qui liste les dix premiers multiples de trois."
   ]
  },
  {
   "cell_type": "code",
   "execution_count": null,
   "metadata": {
    "collapsed": true
   },
   "outputs": [],
   "source": [
    "# Votre code ici"
   ]
  },
  {
   "cell_type": "markdown",
   "metadata": {},
   "source": [
    "### La suite de Fibonacci"
   ]
  },
  {
   "cell_type": "markdown",
   "metadata": {},
   "source": [
    "Le bout de code ci-dessous affiche les quinze premiers éléments de la suite de Fibonacci, grâce à une boucle `while` :"
   ]
  },
  {
   "cell_type": "code",
   "execution_count": null,
   "metadata": {
    "collapsed": false
   },
   "outputs": [],
   "source": [
    "a, b, c = 1, 1, 0\n",
    "while c < 15:\n",
    "    print b,\n",
    "    a, b, c = b, a + b, c + 1"
   ]
  },
  {
   "cell_type": "markdown",
   "metadata": {},
   "source": [
    "Transformez le code pour une utilisation avec une boucle `for`."
   ]
  },
  {
   "cell_type": "code",
   "execution_count": null,
   "metadata": {
    "collapsed": false
   },
   "outputs": [],
   "source": [
    "# Votre code ici"
   ]
  },
  {
   "cell_type": "markdown",
   "metadata": {},
   "source": [
    "### L'homme qui a vu l'ours"
   ]
  },
  {
   "cell_type": "markdown",
   "metadata": {},
   "source": [
    "Écrivez un programme qui imprime exactement la phrase suivante : \"L'homme qui a vu l'homme qui a vu l'homme qui a vu l'homme qui a vu l'homme qui a vu l'homme qui a vu l'homme qui a vu l'homme qui a vu l'homme qui a vu l'homme qui a vu l'ours.\""
   ]
  },
  {
   "cell_type": "code",
   "execution_count": null,
   "metadata": {
    "collapsed": false
   },
   "outputs": [],
   "source": [
    "# Votre code ici"
   ]
  },
  {
   "cell_type": "markdown",
   "metadata": {},
   "source": [
    "### Le jeu du mentaliste (version améliorée)"
   ]
  },
  {
   "cell_type": "markdown",
   "metadata": {},
   "source": [
    "Améliorez la précédente version du jeu du mentaliste de telle manière que le script ne s’arrête qu’une fois la bonne réponse trouvée.\n",
    "Et pour aller encore plus loin, évaluez la performance de l'utilisateur (ex : s'il a trouvé du premier coup ou après plus de tentatives qu'il n'y a de possibilités de réponse…)"
   ]
  },
  {
   "cell_type": "code",
   "execution_count": null,
   "metadata": {
    "collapsed": false
   },
   "outputs": [],
   "source": [
    "# Votre code ici"
   ]
  },
  {
   "cell_type": "markdown",
   "metadata": {},
   "source": [
    "### Un premier menu"
   ]
  },
  {
   "cell_type": "markdown",
   "metadata": {},
   "source": [
    "Concevez un programme qui demande à l'utilisateur de sélectionner entre trois options (1, 2 ou 3). Le programme doit vérifier que la saisie est valide et orienter vers la bonne option. Pour mémoire, le code qui permet de demander une saisie à l'utilisateur est :\n",
    "```\n",
    "saisie = raw_input(\"Veuillez sélectionner une option\\n\")\n",
    "```\n",
    "N'oubliez pas qu'il est possible de convertir cette saisie du format string au format numérique."
   ]
  },
  {
   "cell_type": "code",
   "execution_count": null,
   "metadata": {
    "collapsed": false
   },
   "outputs": [],
   "source": [
    "# Menu de sélection\n",
    "print \"Bienvenue dans l'univers de la série 'The Big Bang Theory'\"\n",
    "print \"Menu de navigation :\"\n",
    "print \"1. Les personnages de la série\"\n",
    "print \"2. Tout sur les lieux qu'ils fréquentent\"\n",
    "print \"3. Les secrets des tournages\"\n",
    "\n",
    "# Votre code ici"
   ]
  },
  {
   "cell_type": "code",
   "execution_count": null,
   "metadata": {
    "collapsed": true
   },
   "outputs": [],
   "source": []
  }
 ],
 "metadata": {
  "kernelspec": {
   "display_name": "Python 3",
   "language": "python",
   "name": "python3"
  },
  "language_info": {
   "codemirror_mode": {
    "name": "ipython",
    "version": 3
   },
   "file_extension": ".py",
   "mimetype": "text/x-python",
   "name": "python",
   "nbconvert_exporter": "python",
   "pygments_lexer": "ipython3",
   "version": "3.6.0"
  }
 },
 "nbformat": 4,
 "nbformat_minor": 0
}
